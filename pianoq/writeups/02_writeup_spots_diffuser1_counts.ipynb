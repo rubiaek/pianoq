{
 "cells": [
  {
   "cell_type": "markdown",
   "id": "485899366500e6f",
   "metadata": {},
   "source": [
    "2024-09-17 - Ronen Shekel"
   ]
  },
  {
   "cell_type": "code",
   "execution_count": 1,
   "id": "84060f4ee81689f1",
   "metadata": {
    "ExecuteTime": {
     "end_time": "2024-09-18T10:16:15.596851Z",
     "start_time": "2024-09-18T10:16:15.509253Z"
    }
   },
   "source": [
    "%matplotlib ipympl\n",
    "import glob, os, sys, datetime\n",
    "import numpy as np\n",
    "import matplotlib.pyplot as plt\n",
    "from pianoq_results.scan_result import ScanResult\n",
    "from pianoq_results.misc import my_mesh\n",
    "from pianoq.misc.misc import detect_gaussian_spots_subpixel\n",
    "from pianoq.misc.mplt import mimshow\n",
    "from pianoq.simulations.mplc_sim.mplc_sim_result import MPLCSimResult\n",
    "from matplotlib.patches import Rectangle\n",
    "dir_path = r'G:\\My Drive\\Projects\\MPLC\\results\\lab\\2024_09_17_first_diffuser'\n",
    "d_no = 1 "
   ],
   "outputs": []
  },
  {
   "cell_type": "markdown",
   "id": "d150b0a4b8492650",
   "metadata": {},
   "source": [
    "# Goals \n",
    "We want to get to a place where we are able to perform the scaling experiment. For this, we want to:\n",
    "- understand where exactly my diffusers send the light in comparison to simulation with WFM \n",
    "- see the amount of counts we have in the two-photon measurements \n",
    "- get an even better understanding of the correction phase on plane 1:\n",
    "    - do opposite phases on correlated modes really cancel out? \n",
    "    - try and measure cleverly the correction phases \n",
    "    - These phases will probably be already in a future writeup"
   ]
  },
  {
   "cell_type": "markdown",
   "id": "24400966a49d7273",
   "metadata": {},
   "source": [
    "# Single counts\n",
    "I performed rough large scans to see where the photons actually hit in both detectors. At the top of the signal scan you see the edge of the idler, and in the bottom of the idler scan you see the edge of the signal. In red I show an area of the size of half a mask (upper or lower for signal or idler). "
   ]
  },
  {
   "cell_type": "code",
   "execution_count": 2,
   "id": "initial_id",
   "metadata": {
    "ExecuteTime": {
     "end_time": "2024-09-18T12:56:29.120639Z",
     "start_time": "2024-09-18T12:56:28.700878Z"
    }
   },
   "source": [
    "singles_sig_path = glob.glob(rf'{dir_path}\\*singles_signal*.scan')[0]\n",
    "singles_idl_path = glob.glob(rf'{dir_path}\\*singles_idler*.scan')[0]\n",
    "s_sig = ScanResult()\n",
    "s_sig.loadfrom(singles_sig_path)\n",
    "s_idl = ScanResult()\n",
    "s_idl.loadfrom(singles_idl_path)\n",
    "\n",
    "fig, axes = plt.subplots(1, 2, figsize=(7, 3), constrained_layout=True)\n",
    "my_mesh(s_idl.X, s_idl.Y, s_idl.single1s, axes[0])\n",
    "axes[0].invert_xaxis()\n",
    "axes[0].set_title('Singles idler')\n",
    "\n",
    "my_mesh(s_sig.X, s_sig.Y, s_sig.single2s, axes[1])\n",
    "axes[1].invert_xaxis()\n",
    "axes[1].set_title('Singles signal')\n",
    "\n",
    "x_start_idl = 9.02 - 70*12.5e-3\n",
    "y_start_idl = 2.14 - 90*12.5e-3\n",
    "# axes[0].add_patch(Rectangle((8.1, 1.1), 12.5e-3*140, 12.5e-3*180, facecolor=\"none\", ec='g', lw=0.5))\n",
    "axes[0].add_patch(Rectangle((x_start_idl, y_start_idl), 12.5e-3*140, 12.5e-3*180, facecolor=\"none\", ec='r', lw=0.5))\n",
    "\n",
    "x_start_sig = 11.58 - 70*12.5e-3\n",
    "y_start_sig = 9.71 - 90*12.5e-3\n",
    "# axes[1].add_patch(Rectangle((10.7, 8.7), 12.5e-3*140, 12.5e-3*180, facecolor=\"none\", ec='g', lw=0.5))\n",
    "axes[1].add_patch(Rectangle((x_start_sig, y_start_sig), 12.5e-3*140, 12.5e-3*180, facecolor=\"none\", ec='r', lw=0.5))"
   ],
   "outputs": []
  },
  {
   "cell_type": "markdown",
   "id": "d029c4c3986134fb",
   "metadata": {},
   "source": [
    "This seems pretty much OK. The photons don't mix too much with each other, and they seem to be scattered in roughly the planned area. For comparison, this is the expected incoherent some of the different speckle counts in the WFM design (originating only from 4 spots each blob):"
   ]
  },
  {
   "cell_type": "code",
   "execution_count": 3,
   "id": "67238eb029ede50",
   "metadata": {
    "ExecuteTime": {
     "end_time": "2024-09-18T10:16:17.747292Z",
     "start_time": "2024-09-18T10:16:17.008017Z"
    }
   },
   "source": [
    "sim_res_path = glob.glob(rf'{dir_path}\\*diffuser*d{d_no}d*.mplcsim')[0]\n",
    "sr = MPLCSimResult()\n",
    "sr.loadfrom(sim_res_path)\n",
    "output_speckle_modes = np.arange(0, 8)\n",
    "all_speckles = sr.backward_fields[-1, output_speckle_modes]\n",
    "fig, ax = plt.subplots(figsize=(3, 6), constrained_layout=True)\n",
    "ax.imshow((np.abs(all_speckles)**2).sum(axis=0)[sr.active_slice])\n",
    "ax.set_title('incoherent speckles sum')\n",
    "\n",
    "# mimshow((np.abs(all_speckles[0])**2)[sr.active_slice])"
   ],
   "outputs": []
  },
  {
   "cell_type": "markdown",
   "id": "14fc82202f1fcb6e",
   "metadata": {},
   "source": [
    "The original spread is narrower. But the original design was not for the outermost spots of the 25, and also maybe the convolution with the 100um fiber spreads it out a little bit in the measurement."
   ]
  },
  {
   "cell_type": "markdown",
   "id": "5c46c3dbd6b2663a",
   "metadata": {},
   "source": [
    "## calibration of mask location and motors \n",
    "\n",
    "It's actually a good idea to know exactly where these red rectangles should be, so let's look at a random transformation from before, and compare the motor location at a spot and the simulation location. \n",
    "\n",
    "I thought this might be easier if I use MPLC lenses to image the spots to plane 11, but to do that it demagnifies the spot, which defeats the purpose... I also couldn't measure them well, because the fiber was to big compared to the spot spacing. "
   ]
  },
  {
   "cell_type": "code",
   "execution_count": 4,
   "id": "96d474f938dc03fd",
   "metadata": {
    "ExecuteTime": {
     "end_time": "2024-09-18T10:45:28.601953Z",
     "start_time": "2024-09-18T10:45:27.626453Z"
    }
   },
   "source": [
    "sim_path = glob.glob(rf'{dir_path}\\Calibration\\*.mplcsim')[0]\n",
    "sim = MPLCSimResult()\n",
    "sim.loadfrom(sim_path)\n",
    "sim_spots = (np.abs(sim.forward_fields[-1])**2).sum(axis=0)[sim.active_slice]\n",
    "\n",
    "sig_path = glob.glob(rf'{dir_path}\\Calibration\\*signal*.scan')[0]\n",
    "sig_scan = ScanResult()\n",
    "sig_scan.loadfrom(sig_path)\n",
    "\n",
    "idl_path = glob.glob(rf'{dir_path}\\Calibration\\*idler*.scan')[0]\n",
    "idl_scan = ScanResult()\n",
    "idl_scan.loadfrom(idl_path)\n",
    "\n",
    "\n",
    "fig, axes = plt.subplots(2, 2, figsize=(4, 5), constrained_layout=True)\n",
    "axes[0, 0].imshow(sim_spots)\n",
    "axes[0, 0].set_ylim([180, 0])\n",
    "axes[1, 0].set_ylabel('signal')\n",
    "axes[0, 0].set_ylabel('idler')\n",
    "\n",
    "axes[1, 0].imshow(sim_spots)\n",
    "axes[1, 0].set_ylim([360, 180])\n",
    "my_mesh(idl_scan.X, idl_scan.Y, idl_scan.single1s, axes[0, 1])\n",
    "my_mesh(sig_scan.X, sig_scan.Y, sig_scan.single2s, axes[1, 1])"
   ],
   "outputs": []
  },
  {
   "cell_type": "markdown",
   "id": "9d134f7deb5a70aa",
   "metadata": {},
   "source": [
    "Basically all simulated spots are at x=70, so the spots middle is the middle of the mask. In the experiment they become a bit crooked, so we will take the middle. so: `X_mid_idl = 9.02; X_mid_sig = 11.58`\n",
    "\n",
    "In between the second and third outermost spots is the center, so:\n",
    "`Y_mid_idl = 2.14; Y_mid_sig = 9.71`. \n",
    "\n",
    "This is not really so interesting, but I guess it is important so from now on I know what is the full scan range of a full plane 11. "
   ]
  },
  {
   "cell_type": "markdown",
   "id": "da77d23334701912",
   "metadata": {},
   "source": [
    "# Coincidences\n",
    "\n",
    "So now I wanted to measure two-photon speckle. I have terrible SNR, so I needed to use integration time of 60s. "
   ]
  },
  {
   "cell_type": "code",
   "execution_count": 5,
   "id": "526b92cd9a4bbfd",
   "metadata": {
    "ExecuteTime": {
     "end_time": "2024-09-18T10:53:35.012136Z",
     "start_time": "2024-09-18T10:53:34.766294Z"
    }
   },
   "source": [
    "sc_path = glob.glob(rf'{dir_path}\\*two_ph*60s*.scan')[0]\n",
    "r = ScanResult()\n",
    "r.loadfrom(sc_path)\n",
    "fig, ax = plt.subplots(constrained_layout=True, figsize=(4, 4))\n",
    "my_mesh(r.X, r.Y, r.real_coins, ax)\n",
    "ax.invert_xaxis()"
   ],
   "outputs": []
  },
  {
   "cell_type": "markdown",
   "id": "73cc39ba2a00920",
   "metadata": {},
   "source": [
    "I can barely see a speckle pattern, but it is there... Does this amount of counts make sense? Lets think of the previous experiment, where we sent only 5 modes (discarded the rest), and had strong diagonal correlations at the end. Since we stayed in the 5-mode subspace pretty well, I think the 5/25 modes difference shouldn't make a difference to the expected amount of single counts. In practice I actually had more single counts in that experiemtn (7000-8000) compared to now (3000-4000). This actually makes sense, since the 5 spots went to five spots, but here the 25 spots also fill the gaps between the spots, so it makes sense that it will lower ~2X the counts, since we fill ~2X space. \n",
    "\n",
    "Regarding the correlations: the strongest correlation on the diagonal was ~5-10 counts/s. Assuming the correlations were perfect, out of the 8000 single counts on D1, we had 5-10 clicks on D2. Now we have half on D1, so we should expect 2-5 clicks on D2. But these are now smeared all over the speckle pattern. Considering a speckle grain is ~100um the whole mask has ~20X20 grains. We don't fill the whole mask etc., say 10X10, so we would expect mean counts of 0.02-0.05. Indeed we get mean counts of ~0.05, and the same std, as expected from a speckle pattern.\n",
    "\n",
    "The total number of coins here is a bit tricky, since we scan here 50um with a 100um fiber. I am pretty sure it translates to a 4X effect. The mean should not be affected at all, and I think that also the std shouldn't: Say I took 4 different scans, each one of them is now fair, and will have some std. I just take them all together! The sum of real counts divided by 4 gives ~8, which is a bit higher than the expected 2-5. "
   ]
  },
  {
   "cell_type": "code",
   "execution_count": 6,
   "id": "e67c19d3d3ff6269",
   "metadata": {
    "ExecuteTime": {
     "end_time": "2024-09-18T13:02:48.663528Z",
     "start_time": "2024-09-18T13:02:48.537246Z"
    }
   },
   "source": [
    "print(rf'{r.real_coins.mean()=:.3f}; {r.real_coins.std()=:.3f}')\n",
    "print(rf'{r.real_coins.sum()/4=:.3f};')"
   ],
   "outputs": []
  }
 ],
 "metadata": {
  "kernelspec": {
   "display_name": "Python 3 (ipykernel)",
   "language": "python",
   "name": "python3"
  },
  "language_info": {
   "codemirror_mode": {
    "name": "ipython",
    "version": 3
   },
   "file_extension": ".py",
   "mimetype": "text/x-python",
   "name": "python",
   "nbconvert_exporter": "python",
   "pygments_lexer": "ipython3",
   "version": "3.10.0"
  }
 },
 "nbformat": 4,
 "nbformat_minor": 5
}
