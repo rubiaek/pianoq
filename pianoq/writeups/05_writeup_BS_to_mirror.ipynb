{
 "cells": [
  {
   "metadata": {},
   "cell_type": "markdown",
   "source": "Ronen Shekel - 29/09/2024",
   "id": "5d5bbff311d8c168"
  },
  {
   "metadata": {
    "ExecuteTime": {
     "end_time": "2024-09-30T13:15:58.187150Z",
     "start_time": "2024-09-30T13:15:58.095168Z"
    }
   },
   "cell_type": "code",
   "source": [
    "from pianoq.misc.mplc_writeup_imports import * \n",
    "%matplotlib ipympl"
   ],
   "id": "e1f360bfb0cc1a3e",
   "execution_count": 68,
   "outputs": []
  },
  {
   "metadata": {},
   "cell_type": "markdown",
   "source": "So I wanted to switch from the BS to a mirror, to get a 4X coincidence signal (idler will always go straight, and signal will always be reflected). I began looking with the camera:",
   "id": "2d8ebfe34aa279a7"
  },
  {
   "metadata": {
    "ExecuteTime": {
     "end_time": "2024-09-30T13:15:58.960265Z",
     "start_time": "2024-09-30T13:15:58.204266Z"
    }
   },
   "cell_type": "code",
   "source": [
    "\n",
    "fig, axes = plt.subplots(2, 3, figsize=(8, 4))\n",
    "im = FITSImage(r\"G:\\My Drive\\Projects\\MPLC\\results\\lab\\2024_09_25_BS_to_mirror\\2024_09_25_11_09_03_imaging_to_plane_11_bottom.fits\")\n",
    "imm = axes[0, 0].imshow(im.image)\n",
    "fig.colorbar(imm, ax=axes[0, 0])\n",
    "\n",
    "im = FITSImage(r\"G:\\My Drive\\Projects\\MPLC\\results\\lab\\2024_09_25_BS_to_mirror\\2024_09_25_11_10_18_imaging_to_plane_11_halfway.fits\")\n",
    "imm = axes[0, 1].imshow(im.image)\n",
    "fig.colorbar(imm, ax=axes[0, 1])\n",
    "\n",
    "im = FITSImage(r\"G:\\My Drive\\Projects\\MPLC\\results\\lab\\2024_09_25_BS_to_mirror\\2024_09_25_11_14_34_imaging_to_plane_11_best.fits\")\n",
    "imm = axes[0, 2].imshow(im.image)\n",
    "fig.colorbar(imm, ax=axes[0, 2])\n",
    "\n",
    "im = FITSImage(r\"G:\\My Drive\\Projects\\MPLC\\results\\lab\\2024_09_25_BS_to_mirror\\2024_09_25_11_16_48_U1_bottom.fits\")\n",
    "imm = axes[1, 0].imshow(im.image)\n",
    "fig.colorbar(imm, ax=axes[1, 0])\n",
    "\n",
    "im = FITSImage(r\"G:\\My Drive\\Projects\\MPLC\\results\\lab\\2024_09_25_BS_to_mirror\\2024_09_25_11_17_34_U1_halfway.fits\")\n",
    "imm = axes[1, 1].imshow(im.image)\n",
    "fig.colorbar(imm, ax=axes[1, 1])\n",
    "\n",
    "im = FITSImage(r\"G:\\My Drive\\Projects\\MPLC\\results\\lab\\2024_09_25_BS_to_mirror\\2024_09_25_11_18_55_U1_best.fits\")\n",
    "imm = axes[1, 2].imshow(im.image)\n",
    "fig.colorbar(imm, ax=axes[1, 2])\n"
   ],
   "id": "aab41aa24574865a",
   "execution_count": 69,
   "outputs": []
  },
  {
   "metadata": {},
   "cell_type": "markdown",
   "source": [
    "And it seemed that when doing imaging with lenses it didn't work quite so well, but when performing some random Haar 5X5 U transformation, I can get nicely the top 5 spots. The difference probably has to do with the fact that the mirror asn't at plane 11, and how the field looks in \"plane 10.5\" in both cases. \n",
    "\n",
    "Anyway, I was pretty optimistic. So I switched the actual BS next tot the detectors with a mirror. Then there were Meh 2 days, where I had a silly misunderstanding of up and down directions (the previous convention was that the idler, which is photons going straight through the BS, looks at the bottom out of 10 spots. But this of course doesn't work anymore. The mirror forces us that the idler should look at the upper spots). Then I had further meh since I couldn't find the single counts that were reflected. I used the diode for reference, and that helped to get them pretty quickly. From there it wasn't long till I got the mirror to a pretty good vertical position in between, and it seemed to clip 1.5 spots from each photon: "
   ],
   "id": "a1704900228eb616"
  },
  {
   "metadata": {
    "ExecuteTime": {
     "end_time": "2024-09-30T13:15:59.519755Z",
     "start_time": "2024-09-30T13:15:59.241629Z"
    }
   },
   "cell_type": "code",
   "source": [
    "fig, axes = plt.subplots(1, 2, figsize=(8, 4))\n",
    "\n",
    "s = ScanResult(path=r\"G:\\My Drive\\Projects\\MPLC\\results\\lab\\2024_09_25_BS_to_mirror\\2024_09_29_10_27_23_signal_3.5_spots_final.scan\")\n",
    "my_mesh(s.X, s.Y, s.single2s, ax=axes[0], title='signal')\n",
    "# detect_gaussian_spots_subpixel(s.single2s, s.X, s.Y[::-1], print_popt=True)\n",
    "\n",
    "s = ScanResult(path=r\"G:\\My Drive\\Projects\\MPLC\\results\\lab\\2024_09_25_BS_to_mirror\\2024_09_29_10_27_34_idler_3.5_spots_final.scan\")\n",
    "my_mesh(s.X, s.Y, s.single1s, ax=axes[1], title='idler')\n",
    "# detect_gaussian_spots_subpixel(s.single1s, s.X, s.Y[::-1], print_popt=True)"
   ],
   "id": "372ae0b063925830",
   "execution_count": 70,
   "outputs": []
  },
  {
   "metadata": {},
   "cell_type": "markdown",
   "source": "Where we see that the lower spot in signal and upper in idler is less intense. It seems that the mirror crops 1.5 spots from each picture. To overcome this I added a linear tilt on plane 10 of the SLM. This way the WFM stays the same, and I have the full sized mask, but I just move where it hits. The downside is diffraction, and not all energy is deflected from the linear grating. So after some handwaving, I tried adding a grating with 12-pixels/2\\*pi, and then 10-pixels/2\\*pi. ",
   "id": "df30d678ba365fe2"
  },
  {
   "metadata": {
    "ExecuteTime": {
     "end_time": "2024-09-30T13:16:00.177858Z",
     "start_time": "2024-09-30T13:15:59.566164Z"
    }
   },
   "cell_type": "code",
   "source": [
    "fig, axes = plt.subplots(1, 2, figsize=(8, 4))\n",
    "s = ScanResult(path=r\"G:\\My Drive\\Projects\\MPLC\\results\\lab\\2024_09_25_BS_to_mirror\\2024_09_29_13_08_01_signal_3.5_spots_tilt_20.scan\")\n",
    "my_mesh(s.X, s.Y, s.single2s, ax=axes[0], title='signal')\n",
    "# detect_gaussian_spots_subpixel(s.single2s, s.X, s.Y[::-1], print_popt=True)\n",
    "s = ScanResult(path=r\"G:\\My Drive\\Projects\\MPLC\\results\\lab\\2024_09_25_BS_to_mirror\\2024_09_29_13_07_11_idler_3.5_spots_tilt_20.scan\")\n",
    "my_mesh(s.X, s.Y, s.single1s, ax=axes[1], title='idler')\n",
    "# detect_gaussian_spots_subpixel(s.single2s, s.X, s.Y[::-1], print_popt=True)\n",
    "fig.suptitle('20 pixels per 2*pi')\n",
    "\n",
    "fig, axes = plt.subplots(1, 2, figsize=(8, 4))\n",
    "s = ScanResult(path=r\"G:\\My Drive\\Projects\\MPLC\\results\\lab\\2024_09_25_BS_to_mirror\\2024_09_29_11_08_24_signal_3.5_spots_tilt_12.scan\")\n",
    "my_mesh(s.X, s.Y, s.single2s, ax=axes[0], title='signal')\n",
    "# detect_gaussian_spots_subpixel(s.single2s, s.X, s.Y[::-1], print_popt=True)\n",
    "s = ScanResult(path=r\"G:\\My Drive\\Projects\\MPLC\\results\\lab\\2024_09_25_BS_to_mirror\\2024_09_29_11_09_27_idler_3.5_spots_tilt_12.scan\")\n",
    "my_mesh(s.X, s.Y, s.single1s, ax=axes[1], title='idler')\n",
    "# detect_gaussian_spots_subpixel(s.single2s, s.X, s.Y[::-1], print_popt=True)\n",
    "fig.suptitle('12 pixels per 2*pi')\n",
    "\n",
    "\n",
    "fig, axes = plt.subplots(1, 2, figsize=(8, 4))\n",
    "s = ScanResult(path=r\"G:\\My Drive\\Projects\\MPLC\\results\\lab\\2024_09_25_BS_to_mirror\\2024_09_29_11_33_05_signal_3.5_spots_tilt_10.scan\")\n",
    "my_mesh(s.X, s.Y, s.single2s, ax=axes[0], title='signal')\n",
    "# detect_gaussian_spots_subpixel(s.single2s, s.X, s.Y[::-1], print_popt=True)\n",
    "s = ScanResult(path=r\"G:\\My Drive\\Projects\\MPLC\\results\\lab\\2024_09_25_BS_to_mirror\\2024_09_29_11_33_08_idler_3.5_spots_tilt_10.scan\")\n",
    "my_mesh(s.X, s.Y, s.single1s, ax=axes[1], title='idler')\n",
    "# detect_gaussian_spots_subpixel(s.single2s, s.X, s.Y[::-1], print_popt=True)\n",
    "fig.suptitle('10 pixels per 2*pi')"
   ],
   "id": "fb9518f212a26b1a",
   "execution_count": 71,
   "outputs": []
  },
  {
   "metadata": {},
   "cell_type": "markdown",
   "source": [
    "There is some luck element here with the rather grainy 50-um scan, but it seems pretty consistent that I do lose a non-trivial amount of counts because of these tilts, where a stronger tilt causes more loss, so this isn't the best idea. (though the tilts do do what I wanted them to, and I do get almost good enough uniformity of the 5 spots in both photons.) \n",
    "\n",
    "It seems like the main solution for the thick mirror dead-zone will be with WFM, to aim for the outer parts of plane 11. This shouldn't really be too bad, let's try it. "
   ],
   "id": "d6b7abd1f3015c0a"
  },
  {
   "metadata": {},
   "cell_type": "markdown",
   "source": "So to do this in the WFM I just add a parameter of the width of the dead middle zone, to send the spots away from there. Here setting it to 400*2 um: ",
   "id": "1d9a1e74d4aa5931"
  },
  {
   "metadata": {
    "ExecuteTime": {
     "end_time": "2024-09-30T13:16:01.884202Z",
     "start_time": "2024-09-30T13:16:00.224563Z"
    }
   },
   "cell_type": "code",
   "source": [
    "conf = default_wfm_conf.copy()\n",
    "conf['active_planes'] = np.array([True] * 11)\n",
    "conf['N_modes'] = 10\n",
    "\n",
    "mplc = MPLCSim(conf=conf)\n",
    "input_spots, x_modes_in, y_modes_in = gen_input_spots_array(waist=45e-6, D_between_modes=360e-6, XX=mplc.XX, YY=mplc.YY, dim=5, deltax_in=0, deltay_in=0, dead_middle_zone=400e-6)"
   ],
   "id": "81f98fa9afb9b0ac",
   "execution_count": 72,
   "outputs": []
  },
  {
   "metadata": {
    "ExecuteTime": {
     "end_time": "2024-09-30T13:16:02.647797Z",
     "start_time": "2024-09-30T13:16:02.445872Z"
    }
   },
   "cell_type": "code",
   "source": [
    "fig, ax = plt.subplots()\n",
    "ax.imshow((np.abs(input_spots.sum(axis=0))**2)[mplc.res.active_slice])\n"
   ],
   "id": "9ce98950c1e287b3",
   "execution_count": 73,
   "outputs": []
  },
  {
   "metadata": {},
   "cell_type": "markdown",
   "source": "I finally used a combination of a very slight linear tilt (35 pixels per 2*pi), together with a large middle dead zone, and got nice spots:",
   "id": "f287f1f44d7cbe14"
  },
  {
   "metadata": {
    "ExecuteTime": {
     "end_time": "2024-09-30T13:16:03.320979Z",
     "start_time": "2024-09-30T13:16:03.023363Z"
    }
   },
   "cell_type": "code",
   "source": [
    "\n",
    "fig, axes = plt.subplots(1, 2, figsize=(8, 4))\n",
    "s = ScanResult(path=r\"G:\\My Drive\\Projects\\MPLC\\results\\lab\\2024_09_25_BS_to_mirror\\2024_09_30_09_28_15_signal_5_spots_tilt_35_deadzone_450_fine.scan\")\n",
    "my_mesh(s.X, s.Y, s.single2s, ax=axes[0], title='signal')\n",
    "# detect_gaussian_spots_subpixel(s.single2s, s.X, s.Y[::-1], print_popt=True)\n",
    "s = ScanResult(path=r\"G:\\My Drive\\Projects\\MPLC\\results\\lab\\2024_09_25_BS_to_mirror\\2024_09_30_09_26_08_idler_5_spots_tilt_35_deadzone_450_fine.scan\")\n",
    "my_mesh(s.X, s.Y, s.single1s, ax=axes[1], title='idler')\n",
    "# detect_gaussian_spots_subpixel(s.single2s, s.X, s.Y[::-1], print_popt=True)\n",
    "fig.suptitle('35 pixels per 2*pi + 450um deadzone')"
   ],
   "id": "31d52f73605964d8",
   "execution_count": 74,
   "outputs": []
  },
  {
   "metadata": {},
   "cell_type": "markdown",
   "source": "This is how the masks look like now: ",
   "id": "db5b9efd388eea33"
  },
  {
   "metadata": {
    "ExecuteTime": {
     "end_time": "2024-09-30T13:16:03.826380Z",
     "start_time": "2024-09-30T13:16:03.367812Z"
    }
   },
   "cell_type": "code",
   "source": [
    "masks_path = r\"G:\\My Drive\\Projects\\MPLC\\results\\lab\\2024_09_25_BS_to_mirror\\2024_09_29_14_27_10_U1U.masks\"  # with dead zone \n",
    "\n",
    "modes_to_keep = np.array([3, 8, 13, 18, 23, 28, 33, 38, 43, 48])\n",
    "\n",
    "msks = MPLCMasks()\n",
    "msks.loadfrom(masks_path)\n",
    "masks = msks.real_masks\n",
    "masks = remove_input_modes(masks, modes_to_keep=modes_to_keep)\n",
    "phases = np.random.uniform(0, 2*np.pi, size=50)\n",
    "masks = add_phase_input_spots(masks, phases)\n",
    "\n",
    "mplc = MPLCDevice(init_fig=False)\n",
    "slm_mask = mplc.create_slm_mask(np.angle(masks).astype(float), linear_tilts=True, plane_10_tilts=35)\n",
    "uint_final_mask = mplc.convert_to_uint8(slm_mask)\n",
    "fig, ax = plt.subplots(figsize=(7, 6), constrained_layout=True)\n",
    "ax.imshow(uint_final_mask, cmap='gray')"
   ],
   "id": "ef23863bf9ed5d2b",
   "execution_count": 75,
   "outputs": []
  },
  {
   "metadata": {},
   "cell_type": "markdown",
   "source": "I was pretty happy with this, and went on to try and measure correlations. However - I get pretty bad correlations, even after re-running the phase correction. Does this have to do with the linear phase grating? with moving the spots? with having the spacing a bit smaller?",
   "id": "eb7200406fb2a52f"
  },
  {
   "metadata": {
    "ExecuteTime": {
     "end_time": "2024-09-30T13:16:04.186254Z",
     "start_time": "2024-09-30T13:16:03.873314Z"
    }
   },
   "cell_type": "code",
   "source": [
    "r = DiscreetScanResult(r\"G:\\My Drive\\Projects\\MPLC\\results\\lab\\2024_09_25_BS_to_mirror\\2024_09_30_12_31_16.dscan\")\n",
    "r.show(figshow=False)\n",
    "r.show_singles(figshow=False)\n",
    "r.integration_time"
   ],
   "id": "a9a2d8441a5c3be",
   "execution_count": 76,
   "outputs": []
  }
 ],
 "metadata": {
  "kernelspec": {
   "display_name": "Python 3",
   "language": "python",
   "name": "python3"
  },
  "language_info": {
   "codemirror_mode": {
    "name": "ipython",
    "version": 2
   },
   "file_extension": ".py",
   "mimetype": "text/x-python",
   "name": "python",
   "nbconvert_exporter": "python",
   "pygments_lexer": "ipython2",
   "version": "2.7.6"
  }
 },
 "nbformat": 4,
 "nbformat_minor": 5
}
