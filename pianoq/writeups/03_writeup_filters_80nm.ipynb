{
 "cells": [
  {
   "metadata": {},
   "cell_type": "markdown",
   "source": "2024-09-19 - Ronen Shekel",
   "id": "d2ffadb901ed9dd1"
  },
  {
   "metadata": {},
   "cell_type": "code",
   "outputs": [],
   "execution_count": null,
   "source": [
    "%matplotlib ipympl\n",
    "import glob, os, sys, datetime\n",
    "import numpy as np\n",
    "import matplotlib.pyplot as plt\n",
    "from pianoq_results.scan_result import ScanResult\n",
    "from pianoq_results.misc import my_mesh\n",
    "from pianoq.misc.misc import detect_gaussian_spots_subpixel\n",
    "from pianoq.misc.mplt import mimshow\n",
    "from pianoq.simulations.mplc_sim.mplc_sim_result import MPLCSimResult\n",
    "from matplotlib.patches import Rectangle\n",
    "\n",
    "dir_path = r'G:\\My Drive\\Projects\\MPLC\\results\\lab\\2024_09_19_filters_80nm'\n"
   ],
   "id": "cb142457e5e5b4d9"
  },
  {
   "metadata": {},
   "cell_type": "markdown",
   "source": [
    "# Goals\n",
    "I didn't have enough signal, so I wanted to check whether switching from 20nm filters to 80nm is possible without things going to bad. Ohad showed a while ago that it hurts the fidelity, but currently I don't really care that much about numbers, I just want quick results to better understand the system. \n",
    "\n",
    "So I begin by re-running with 20nm some discreet scan, and showing its restuls in single counts and coincidence. Then I  switch to the 80n filters and see the differences. I will then also look at the two-photon speckle with the new 80nm filters. \n",
    "\n",
    "# Single counts \n",
    "Here are the single counts I measured a few days ago: "
   ],
   "id": "7985478b451ff26f"
  },
  {
   "metadata": {
    "ExecuteTime": {
     "end_time": "2024-09-19T07:34:16.833810Z",
     "start_time": "2024-09-19T07:34:16.797403Z"
    }
   },
   "cell_type": "code",
   "source": "pass",
   "id": "9458d32889ccb5a7",
   "outputs": [],
   "execution_count": 3
  },
  {
   "metadata": {},
   "cell_type": "markdown",
   "source": [
    "# Correlations\n",
    "\n",
    "And here are the correaltions I meeasured now with integration times of 1s, 4s and 30s. 1s is pretty noisy, and 30s is probably enough.  "
   ],
   "id": "db51626c85127a56"
  },
  {
   "metadata": {},
   "cell_type": "code",
   "outputs": [],
   "execution_count": null,
   "source": "pass",
   "id": "f37fb2662e81cf5d"
  },
  {
   "metadata": {},
   "cell_type": "markdown",
   "source": [
    "# Speckles\n",
    "\n",
    "Finally, we meaure a two-photon speckle with the 80nm filters. and compare to the speckle we measured with 20nm filters which needed an integration time of 60s. "
   ],
   "id": "80d4602220a05bfc"
  },
  {
   "metadata": {
    "ExecuteTime": {
     "end_time": "2024-09-19T07:34:09.959703Z",
     "start_time": "2024-09-19T07:34:09.432377Z"
    }
   },
   "cell_type": "code",
   "source": "pass",
   "id": "6a2e68a372e5e00e",
   "outputs": [],
   "execution_count": 2
  }
 ],
 "metadata": {
  "kernelspec": {
   "display_name": "Python 3",
   "language": "python",
   "name": "python3"
  },
  "language_info": {
   "codemirror_mode": {
    "name": "ipython",
    "version": 2
   },
   "file_extension": ".py",
   "mimetype": "text/x-python",
   "name": "python",
   "nbconvert_exporter": "python",
   "pygments_lexer": "ipython2",
   "version": "2.7.6"
  }
 },
 "nbformat": 4,
 "nbformat_minor": 5
}
