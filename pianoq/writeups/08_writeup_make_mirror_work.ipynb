{
 "cells": [
  {
   "cell_type": "code",
   "id": "initial_id",
   "metadata": {
    "collapsed": true,
    "ExecuteTime": {
     "end_time": "2024-11-11T07:33:35.238399Z",
     "start_time": "2024-11-11T07:33:34.770207Z"
    }
   },
   "source": [
    "import matplotlib\n",
    "matplotlib.use('TKAgg')\n",
    "%load_ext autoreload\n",
    "%autoreload 2\n",
    "# %matplotlib ipympl\n",
    "from pianoq.misc.mplc_writeup_imports import *\n",
    "dir_path = r'G:\\My Drive\\Projects\\MPLC\\results\\lab\\2024_10_30_make_mirror_work'"
   ],
   "outputs": [
    {
     "name": "stdout",
     "output_type": "stream",
     "text": [
      "The autoreload extension is already loaded. To reload it, use:\n",
      "  %reload_ext autoreload\n"
     ]
    }
   ],
   "execution_count": 17
  },
  {
   "metadata": {},
   "cell_type": "markdown",
   "source": [
    "# Transformations after new alignment \n",
    "When I did the HG measurements I also fixed a bit the alignment, and that was probably a good thing to do after 3 months. Coming back to measure correlations, and used a dead_zone=450um, and linear tilt on plane 10 of 35 pixels per 2pi, and now of course with the new mask locations, and I get pretty nice looking correlations! "
   ],
   "id": "57926c24b263e6f"
  },
  {
   "metadata": {
    "ExecuteTime": {
     "end_time": "2024-11-11T07:34:29.283844Z",
     "start_time": "2024-11-11T07:34:29.101492Z"
    }
   },
   "cell_type": "code",
   "source": [
    "r = DiscreetScanResult(rf'{dir_path}\\2024_10_31_11_59_45.dscan')\n",
    "r.show(figshow=True)"
   ],
   "id": "61a3ee3e2f9bee48",
   "outputs": [],
   "execution_count": 28
  },
  {
   "metadata": {},
   "cell_type": "markdown",
   "source": [
    "Notice that the counts are significantly highe than what they used to be, by a factor of ~2-2.5! (I theoretically expected 4X, but this is not bad at all too.) \n",
    "\n",
    "The single counts looked a bit crooked (dz10=8), so now that the masks are aligned I thought maybe I should look again for the dz10...  "
   ],
   "id": "65924379bf10472"
  },
  {
   "metadata": {
    "ExecuteTime": {
     "end_time": "2024-11-11T07:37:35.126126Z",
     "start_time": "2024-11-11T07:37:34.492907Z"
    }
   },
   "cell_type": "code",
   "source": [
    "plt.close('all')\n",
    "idl_paths = glob.glob(rf'{dir_path}\\*fine*idler*tilts_35.scan')\n",
    "sig_paths = glob.glob(rf'{dir_path}\\*fine*signal*tilts_35.scan')\n",
    "\n",
    "sig_ds = np.array([re.findall('.*dz10_(.*)mm.*.scan', path)[0] for path in sig_paths]).astype(float)\n",
    "sig_ds, sig_paths = zip(*sorted(zip(sig_ds, sig_paths)))\n",
    "# sig_ds, paths = sig_ds[1:], paths[1:]\n",
    "sig_scans = [ScanResult(path) for path in sig_paths]\n",
    "\n",
    "idl_ds = np.array([re.findall('.*dz10_(.*)mm.*.scan', path)[0] for path in idl_paths]).astype(float)\n",
    "idl_ds, idl_paths = zip(*sorted(zip(idl_ds, idl_paths)))\n",
    "# idl_ds, paths = idl_ds[1:], paths[1:]\n",
    "idl_scans = [ScanResult(path) for path in idl_paths]\n",
    "\n",
    "fig, axes = plt.subplots(2, len(idl_scans), figsize=(12, 5), constrained_layout=True)\n",
    "for i in range(len(idl_scans)):\n",
    "    sig = sig_scans[i]\n",
    "    idl = idl_scans[i]\n",
    "    # my_mesh(idl.X, idl.Y, idl.single1s, ax=axes[0, i], clim=[0, 21e3])\n",
    "    my_mesh(idl.X, idl.Y, idl.single1s, ax=axes[0, i], clim=[0, None])\n",
    "    # my_mesh(sig.X, sig.Y, sig.single2s, ax=axes[1, i], clim=[0, 15.5e3])\n",
    "    my_mesh(sig.X, sig.Y, sig.single2s, ax=axes[1, i], clim=[0, None])\n",
    "    axes[0, i].set_title(f'dz={idl_ds[i]}')\n",
    "    axes[1, i].set_title(f'dz={sig_ds[i]}')\n",
    "fig.show()"
   ],
   "id": "a6b07d2a3f4c505b",
   "outputs": [],
   "execution_count": 33
  },
  {
   "metadata": {},
   "cell_type": "markdown",
   "source": [
    "Let's choose dz10=5mm, I don't think I will really find a very good dz10, and I had enough :P \n",
    "\n",
    "But - maybe a good thing to try is to do column-to-row instead of row-to-column, so I won't have trouble with the innermost spots. (See here the top spots in the top pictures, which is significantly dimmer.) I will try this since it is a good thing to try, though this causes a bit of trouble to have the 5 spots at the end a s a row, because the masks are tall more than wide. So it might not be perfect, and the best is with the D-mirror, I will get there at some point... If col_to_row won't fix it well, I am pretty sure I can have a significantly larger tilt at plane10, and it will be good enough... \n",
    "\n",
    "So bottom line:\n",
    "- now the mirror still bothers (upper spot in upper panel)\n",
    "- D-mirror will probably be the best final solution \n",
    "- col_to_row I will try on Sunday, and it might work pretty well (but it may have some problems, masks are taller than wide)\n",
    "- adding more tilt on plane10 can probably also bring me almost all the way \n",
    "\n",
    "# Column to row\n",
    "So I tried col2row, such that all spots are supposed to be far from the mirror edge. Here are the single counts: "
   ],
   "id": "dfc0fe1bb5cdfc1e"
  },
  {
   "metadata": {
    "ExecuteTime": {
     "end_time": "2024-11-11T07:39:03.901642Z",
     "start_time": "2024-11-11T07:38:18.521145Z"
    }
   },
   "cell_type": "code",
   "source": [
    "locs_signal_path = fr'{dir_path}\\{tnow()}_s2_sig.locs'\n",
    "locs_idler_path = fr'{dir_path}\\{tnow()}_s1_idl.locs'\n",
    "\n",
    "res_idl = ScanResult(fr'{dir_path}\\2024_11_03_09_29_12_5spots_fine_idler_dead_zone_450um_dz10_5mm_p10_tilts_35_c2r.scan')\n",
    "res_sig = ScanResult(fr'{dir_path}\\2024_11_03_09_29_10_5spots_fine_signal_dead_zone_450um_dz10_5mm_p10_tilts_35_c2r.scan')\n",
    "\n",
    "fig, axes = plt.subplots(2, 1)\n",
    "my_mesh(res_idl.X, res_idl.Y, res_idl.single1s, ax=axes[0], clim=[0, None], title='Idler S1')\n",
    "my_mesh(res_sig.X, res_sig.Y, res_sig.single2s, ax=axes[1], clim=[0, None], title='Signal S2')\n",
    "# res_idl.get_xys(1, saveto_path=locs_idler_path)\n",
    "# res_sig.get_xys(2, saveto_path=locs_signal_path)"
   ],
   "id": "cb1c4683a2e12146",
   "outputs": [],
   "execution_count": 35
  },
  {
   "metadata": {},
   "cell_type": "markdown",
   "source": "Which seem pretty nice, but less counts than with the regular row to col, which was pretty much expected from the geometry of the masks (which are taller rather than wider.) I will still find phases and look at correlations for completeness. Indeed the correlations are less good than what I had with the good ol' row to col.",
   "id": "1b14e09e857d6a3a"
  },
  {
   "metadata": {
    "ExecuteTime": {
     "end_time": "2024-11-11T07:33:39.541874Z",
     "start_time": "2024-11-11T07:33:39.370188Z"
    }
   },
   "cell_type": "code",
   "source": [
    "r = DiscreetScanResult(r\"G:\\My Drive\\Projects\\MPLC\\results\\lab\\2024_10_30_make_mirror_work\\2024_11_03_12_05_29.dscan\")\n",
    "r.show(figshow=False)"
   ],
   "id": "499c26a151e30572",
   "outputs": [],
   "execution_count": 21
  },
  {
   "metadata": {},
   "cell_type": "markdown",
   "source": [
    "## plane 10 tilts \n",
    "So let's see how much tilt will be enough "
   ],
   "id": "a44878be0e3c9702"
  },
  {
   "metadata": {
    "ExecuteTime": {
     "end_time": "2024-11-11T07:39:12.306710Z",
     "start_time": "2024-11-11T07:39:11.125753Z"
    }
   },
   "cell_type": "code",
   "source": [
    "plt.close('all')\n",
    "\n",
    "sig_paths = []\n",
    "idl_paths = []\n",
    "sig_tilts = [35, 30, 25, 20, 15, 12, 10, 8]\n",
    "idl_tilts = [35, 30, 25, 20, 15, 12, 10, 8]\n",
    "for t in sig_tilts:\n",
    "    sig_paths.append(glob.glob(rf'{dir_path}\\*fine*signal*pl10tilt_{t}_fine.scan')[0])\n",
    "    idl_paths.append(glob.glob(rf'{dir_path}\\*fine*idler*pl10tilt_{t}_fine.scan')[0])\n",
    "\n",
    "sig_scans = [ScanResult(path) for path in sig_paths]\n",
    "idl_scans = [ScanResult(path) for path in idl_paths]\n",
    "\n",
    "all_idl_amps = []\n",
    "all_sig_amps = []\n",
    "\n",
    "fig, axes = plt.subplots(2, len(idl_scans), figsize=(12, 5), constrained_layout=True)\n",
    "for i in range(len(idl_scans)):\n",
    "    sig = sig_scans[i]\n",
    "    idl = idl_scans[i]\n",
    "    my_mesh(idl.X, idl.Y, idl.single1s, ax=axes[0, i], clim=[0, 15e3])\n",
    "    # my_mesh(idl.X, idl.Y, idl.single1s, ax=axes[0, i], clim=[0, None])\n",
    "    my_mesh(sig.X, sig.Y, sig.single2s, ax=axes[1, i], clim=[0, 12.5e3])\n",
    "    # my_mesh(sig.X, sig.Y, sig.single2s, ax=axes[1, i], clim=[0, None])\n",
    "    idl_amps = detect_gaussian_spots_subpixel(idl.single1s, idl.X, idl.Y[::-1], get_amps=True)\n",
    "    all_idl_amps.append(idl_amps)\n",
    "    sig_amps = detect_gaussian_spots_subpixel(sig.single2s, sig.X, sig.Y[::-1], get_amps=True)\n",
    "    all_sig_amps.append(sig_amps)\n",
    "    axes[0, i].set_title(f'tilt={sig_tilts[i]}')\n",
    "    axes[1, i].set_title(f'tilt={sig_tilts[i]}')\n",
    "    idl_amps = np.round(idl_amps/1000, 1)\n",
    "    sig_amps = np.round(sig_amps/1000, 1)\n",
    "    axes[0, i].set_ylabel(f'amps={idl_amps}', size=9)\n",
    "    axes[1, i].set_ylabel(f'amps={sig_amps}', size=9)\n",
    "\n",
    "fig.show()\n",
    "\n",
    "all_idl_amps = np.array(all_idl_amps)\n",
    "all_sig_amps = np.array(all_sig_amps)"
   ],
   "id": "b893370db3d1dab1",
   "outputs": [],
   "execution_count": 36
  },
  {
   "metadata": {
    "ExecuteTime": {
     "end_time": "2024-11-11T07:39:59.781456Z",
     "start_time": "2024-11-11T07:39:59.594160Z"
    }
   },
   "cell_type": "code",
   "source": [
    "fig, axes = plt.subplots(1, 2)\n",
    "for i in range(5):  # 5 spots \n",
    "    axes[0].plot(idl_tilts, all_idl_amps[:, i] , '*--', label=f'spot_no={i}')\n",
    "    axes[1].plot(sig_tilts, all_sig_amps[:, i] , '*--', label=f'spot_no={i}')\n",
    "\n",
    "for ax in axes:\n",
    "    ax.legend()\n",
    "    ax.set_xlabel('pix/2*pi in plane 10')\n",
    "    ax.set_ylabel('amp of spot')\n",
    "fig.show()"
   ],
   "id": "476348e0d5a6dfe1",
   "outputs": [],
   "execution_count": 37
  },
  {
   "metadata": {
    "ExecuteTime": {
     "end_time": "2024-11-11T07:33:50.134478Z",
     "start_time": "2024-11-11T07:33:42.038192Z"
    }
   },
   "cell_type": "code",
   "source": "plt.show(block=True)",
   "id": "819e91470329d2d3",
   "outputs": [],
   "execution_count": 24
  },
  {
   "metadata": {
    "ExecuteTime": {
     "end_time": "2024-11-11T07:40:23.242326Z",
     "start_time": "2024-11-11T07:40:21.294203Z"
    }
   },
   "cell_type": "code",
   "source": [
    "from pianoq.misc.misc import get_locs_from_scan\n",
    "plt.close('all')\n",
    "\n",
    "sig_paths = []\n",
    "idl_paths = []\n",
    "\n",
    "tilts = [35, 30, 25, 20, 15, 12, 10, 8]\n",
    "for t in tilts:\n",
    "    sig_paths.append(glob.glob(rf'{dir_path}\\*fine*signal*pl10tilt_{t}_fine.scan')[0])\n",
    "    idl_paths.append(glob.glob(rf'{dir_path}\\*fine*idler*pl10tilt_{t}_fine.scan')[0])\n",
    "\n",
    "for sig, idl in zip(sig_paths, idl_paths):\n",
    "    get_locs_from_scan(idl, single_num=1, show=True)\n",
    "    get_locs_from_scan(sig, single_num=2, show=True)"
   ],
   "id": "6d25bd277f5c8a85",
   "outputs": [],
   "execution_count": 38
  },
  {
   "metadata": {},
   "cell_type": "markdown",
   "source": "Show correlations ",
   "id": "f0d31ee3c0b0ef84"
  },
  {
   "metadata": {
    "ExecuteTime": {
     "end_time": "2024-11-11T07:40:36.220217Z",
     "start_time": "2024-11-11T07:40:34.438313Z"
    }
   },
   "cell_type": "code",
   "source": [
    "# paths = glob.glob(rf'{dir_path}\\2024_11_05*p10tilt*.dscan')\n",
    "paths = glob.glob(rf'{dir_path}\\2024_11_06*p10tilt*new_phases.dscan')\n",
    "tilts = np.array([re.findall('.*p10tilt_(.*)_new_phases.dscan', path)[0] for path in paths]).astype(float)\n",
    "scans = [DiscreetScanResult(path) for path in paths]\n",
    "for i in range(len(paths)):\n",
    "    fig, axes = plt.subplots(1, 3, constrained_layout=True)\n",
    "    imm = axes[0].imshow(scans[i].coincidences)\n",
    "    fig.colorbar(imm, ax=axes[0])\n",
    "\n",
    "    imm = axes[1].imshow(scans[i].single1s)\n",
    "    fig.colorbar(imm, ax=axes[1])\n",
    "\n",
    "    imm = axes[2].imshow(scans[i].single2s)\n",
    "    fig.colorbar(imm, ax=axes[2])\n",
    "    \n",
    "    fig.suptitle(f'tilt={tilts[i]}')\n",
    "    fig.show()"
   ],
   "id": "72343c4adee1f4db",
   "outputs": [],
   "execution_count": 39
  }
 ],
 "metadata": {
  "kernelspec": {
   "display_name": "Python 3",
   "language": "python",
   "name": "python3"
  },
  "language_info": {
   "codemirror_mode": {
    "name": "ipython",
    "version": 2
   },
   "file_extension": ".py",
   "mimetype": "text/x-python",
   "name": "python",
   "nbconvert_exporter": "python",
   "pygments_lexer": "ipython2",
   "version": "2.7.6"
  }
 },
 "nbformat": 4,
 "nbformat_minor": 5
}
