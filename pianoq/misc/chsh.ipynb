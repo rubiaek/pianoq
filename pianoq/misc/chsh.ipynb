{
 "cells": [
  {
   "cell_type": "code",
   "id": "initial_id",
   "metadata": {
    "collapsed": true,
    "ExecuteTime": {
     "end_time": "2025-08-13T10:23:11.012232Z",
     "start_time": "2025-08-13T10:23:10.909494Z"
    }
   },
   "source": [
    "import numpy as np\n",
    "\n",
    "def projection_matrix(theta1, theta2):\n",
    "    \"\"\"\n",
    "    Construct the 4x4 projection matrix for polarizers at angles theta1 and theta2.\n",
    "    \"\"\"\n",
    "    P_theta1 = np.array([[np.cos(theta1)**2, np.cos(theta1) * np.sin(theta1)],\n",
    "                         [np.cos(theta1) * np.sin(theta1), np.sin(theta1)**2]])\n",
    "    \n",
    "    P_theta2 = np.array([[np.cos(theta2)**2, np.cos(theta2) * np.sin(theta2)],\n",
    "                         [np.cos(theta2) * np.sin(theta2), np.sin(theta2)**2]])\n",
    "    \n",
    "    return np.kron(P_theta1, P_theta2)\n",
    "\n",
    "def coincidence_probability(state_or_rho, theta1, theta2):\n",
    "    \"\"\"\n",
    "    Calculate the coincidence probability for a given state (vector or density matrix)\n",
    "    and polarizer angles theta1 and theta2.\n",
    "    \"\"\"\n",
    "    P = projection_matrix(theta1, theta2)\n",
    "    \n",
    "    if state_or_rho.ndim == 1:  # State vector\n",
    "        probability = np.dot(state_or_rho.conj().T, np.dot(P, state_or_rho)).real\n",
    "    elif state_or_rho.ndim == 2:  # Density matrix\n",
    "        probability = np.trace(np.dot(state_or_rho, P)).real\n",
    "    else:\n",
    "        raise ValueError(\"Input must be either a state vector or a density matrix.\")\n",
    "    \n",
    "    return probability\n",
    "\n",
    "def expectation_value(state_or_rho, theta1, theta2):\n",
    "    \"\"\"\n",
    "    Calculate the expectation value E(theta1, theta2) for a given state or density matrix.\n",
    "    \"\"\"\n",
    "    P_plusplus = coincidence_probability(state_or_rho, theta1, theta2)  # N_++\n",
    "    P_plusminus = coincidence_probability(state_or_rho, theta1, theta2 + np.pi / 2)  # N_+-\n",
    "    P_minusplus = coincidence_probability(state_or_rho, theta1 + np.pi / 2, theta2)  # N_-+\n",
    "    P_minusminus = coincidence_probability(state_or_rho, theta1 + np.pi / 2, theta2 + np.pi / 2)  # N_--\n",
    "    \n",
    "    # E(theta1, theta2) from coincidence counts\n",
    "    E = (P_plusplus + P_minusminus - P_plusminus - P_minusplus) / (P_plusplus + P_minusminus + P_plusminus + P_minusplus)\n",
    "    return E\n",
    "\n",
    "def calculate_chsh_s(state_or_rho):\n",
    "    \"\"\"\n",
    "    Calculate the S value for the CHSH inequality using a given state or density matrix.\n",
    "    \"\"\"\n",
    "    # Measurement angles for CHSH inequality\n",
    "    angles = [\n",
    "        (0, np.pi/8),            # θ1, θ2\n",
    "        (0, 3*np.pi/8),          # θ1, θ2'\n",
    "        (np.pi/4, np.pi/8),      # θ1', θ2\n",
    "        (np.pi/4, 3*np.pi/8)     # θ1', θ2'\n",
    "    ]\n",
    "    \n",
    "    # Calculate the expectation values for each angle pair\n",
    "    E_values = [expectation_value(state_or_rho, theta1, theta2) for (theta1, theta2) in angles]\n",
    "    \n",
    "    # Calculate the S value\n",
    "    S = np.abs(E_values[0] - E_values[1] + E_values[2] + E_values[3])\n",
    "    return S\n",
    "\n",
    "# Example Usage\n",
    "\n",
    "# Define the maximally entangled Bell state |phi+> = (|HH> + |VV>)/sqrt(2)\n",
    "phi_plus = 1/np.sqrt(2) * np.array([1, 0, 0, 1])\n",
    "\n",
    "# Define the density matrix for |phi+>\n",
    "rho_phi_plus = np.outer(phi_plus, phi_plus.conj())\n",
    "\n",
    "# Calculate the S value for the pure state vector\n",
    "S_pure = calculate_chsh_s(phi_plus)\n",
    "print(f\"S value (pure state): {S_pure}\")\n",
    "\n",
    "# Calculate the S value for the density matrix\n",
    "S_mixed = calculate_chsh_s(rho_phi_plus)\n",
    "print(f\"S value (density matrix): {S_mixed}\")\n"
   ],
   "outputs": [
    {
     "name": "stdout",
     "output_type": "stream",
     "text": [
      "S value (pure state): 2.8284271247461903\n",
      "S value (density matrix): 2.82842712474619\n"
     ]
    }
   ],
   "execution_count": 1
  },
  {
   "metadata": {
    "ExecuteTime": {
     "end_time": "2025-08-13T10:18:45.233228Z",
     "start_time": "2025-08-13T10:18:45.049058Z"
    }
   },
   "cell_type": "code",
   "source": [
    "alphas = []\n",
    "Ss = []\n",
    "for alpha in np.linspace(0, 1, 20):\n",
    "    alphas.append(alpha)\n",
    "    rho = np.zeros((4,4))\n",
    "    rho[0,0] = 1\n",
    "    rho[3,3] = 1\n",
    "    rho[0, 3] = alpha\n",
    "    rho[3, 0] = alpha\n",
    "    rho *= 0.5\n",
    "    S = calculate_chsh_s(rho)\n",
    "    Ss.append(S)\n",
    "    \n",
    "fig, ax = plt.subplots()\n",
    "ax.plot(alphas, Ss)\n",
    "fig.show()"
   ],
   "id": "35158eb639d0dd76",
   "outputs": [],
   "execution_count": 8
  },
  {
   "metadata": {
    "ExecuteTime": {
     "end_time": "2025-08-13T10:23:17.176740Z",
     "start_time": "2025-08-13T10:23:16.260490Z"
    }
   },
   "cell_type": "code",
   "source": [
    "Ps = []\n",
    "Ss = []\n",
    "for P in np.linspace(0, 1, 20):\n",
    "    Ps.append(P)\n",
    "    rho = np.zeros((4,4))\n",
    "    rho[0,0] = P\n",
    "    rho[3,3] = 1 - P \n",
    "    S = calculate_chsh_s(rho)\n",
    "    Ss.append(S)\n",
    "    "
   ],
   "id": "ad70a4d05cb0856c",
   "outputs": [],
   "execution_count": 2
  },
  {
   "metadata": {
    "ExecuteTime": {
     "end_time": "2025-08-13T10:23:27.419039Z",
     "start_time": "2025-08-13T10:23:27.156668Z"
    }
   },
   "cell_type": "code",
   "source": [
    "\n",
    "fig, ax = plt.subplots()\n",
    "ax.plot(Ps, Ss, '.')\n",
    "fig.show()"
   ],
   "id": "4fa01afc45bc38c7",
   "outputs": [],
   "execution_count": 5
  }
 ],
 "metadata": {
  "kernelspec": {
   "display_name": "Python 3",
   "language": "python",
   "name": "python3"
  },
  "language_info": {
   "codemirror_mode": {
    "name": "ipython",
    "version": 2
   },
   "file_extension": ".py",
   "mimetype": "text/x-python",
   "name": "python",
   "nbconvert_exporter": "python",
   "pygments_lexer": "ipython2",
   "version": "2.7.6"
  }
 },
 "nbformat": 4,
 "nbformat_minor": 5
}
