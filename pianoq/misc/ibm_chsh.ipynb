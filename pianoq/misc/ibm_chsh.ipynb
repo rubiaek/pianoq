{
 "cells": [
  {
   "metadata": {
    "ExecuteTime": {
     "end_time": "2025-08-10T07:14:46.417899Z",
     "start_time": "2025-08-10T07:14:43.928191Z"
    }
   },
   "cell_type": "code",
   "source": [
    "import sys\n",
    "import qiskit\n",
    "import qiskit_aer\n",
    "import qiskit_ibm_runtime\n",
    "print(\"Python version:\", sys.version)\n",
    "print(\"Qiskit version:\", qiskit.__version__)\n",
    "print(\"Qiskit-Aer version:\", qiskit_aer.__version__)\n",
    "print(\"Qiskit-IBM-Runtime version:\", qiskit_ibm_runtime.__version__)\n",
    "print(\"Kernel:\", sys.executable)"
   ],
   "id": "8ac148a437ec6098",
   "outputs": [
    {
     "name": "stdout",
     "output_type": "stream",
     "text": [
      "Python version: 3.10.0 (tags/v3.10.0:b494f59, Oct  4 2021, 19:00:18) [MSC v.1929 64 bit (AMD64)]\n",
      "Qiskit version: 1.3.2\n",
      "Qiskit-Aer version: 0.16.0\n",
      "Qiskit-IBM-Runtime version: 0.34.0\n",
      "Kernel: C:\\code\\envs\\qiskit_env\\Scripts\\python.exe\n"
     ]
    }
   ],
   "execution_count": 1
  },
  {
   "cell_type": "code",
   "id": "initial_id",
   "metadata": {
    "collapsed": true,
    "ExecuteTime": {
     "end_time": "2025-05-27T11:01:18.238139Z",
     "start_time": "2025-05-27T11:00:57.214141Z"
    }
   },
   "source": [
    "#!/usr/bin/env python3\n",
    "import numpy as np\n",
    "from qiskit import QuantumCircuit, transpile\n",
    "from qiskit_aer import AerSimulator\n",
    "from qiskit_ibm_runtime import QiskitRuntimeService, SamplerV2 as Sampler\n",
    "\n",
    "# Settings for CHSH experiment (angles in radians for measurements)\n",
    "angles = [\n",
    "    (0, np.pi / 8),         # 0° and 22.5°\n",
    "    (0, 3 * np.pi / 8),     # 0° and 67.5°\n",
    "    (np.pi / 4, np.pi / 8), # 45° and 22.5°\n",
    "    (np.pi / 4, 3 * np.pi / 8)  # 45° and 67.5°\n",
    "]\n",
    "\n",
    "\n",
    "# If using hardware, specify the backend name (optional)\n",
    "backend_name = 'ibm_brisbane'\n",
    "\n",
    "def run_on_simulator(shots=128):\n",
    "    # Step 1: Set up the simulator\n",
    "    simulator = AerSimulator()\n",
    "    print(\"Running on simulator:\", simulator.name)\n",
    "\n",
    "    # Step 2: Create and run circuits\n",
    "    expectation_values = []\n",
    "    for theta1, theta2 in angles:\n",
    "        # Create a new circuit for each angle pair\n",
    "        qc = QuantumCircuit(2)  # 2 qubits\n",
    "        qc.h(0)                 # Hadamard gate on qubit 0 (superposition)\n",
    "        qc.cx(0, 1)             # CNOT gate to entangle qubits 0 and 1\n",
    "        qc.ry(-2 * theta1, 0)   # Rotate qubit 0’s measurement basis\n",
    "        qc.ry(-2 * theta2, 1)   # Rotate qubit 1’s measurement basis\n",
    "        qc.measure_all()        # Measure both qubits\n",
    "\n",
    "        # Run the circuit\n",
    "        job = simulator.run(qc, shots=shots)\n",
    "        result = job.result()\n",
    "        counts = result.get_counts()  # Get measurement outcomes (e.g., '00', '11')\n",
    "\n",
    "        # Step 3: Calculate expectation value from counts\n",
    "        total_shots = sum(counts.values())\n",
    "        expectation = 0\n",
    "        for outcome, count in counts.items():\n",
    "            # Parity: +1 for '00' or '11', -1 for '01' or '10'\n",
    "            parity = (-1) ** (int(outcome[0]) + int(outcome[1]))\n",
    "            expectation += parity * count\n",
    "        expectation = expectation / total_shots\n",
    "        expectation_values.append(expectation)\n",
    "\n",
    "    # Step 4: Compute and print CHSH value\n",
    "    S = expectation_values[0] - expectation_values[1] + expectation_values[2] + expectation_values[3]\n",
    "    print(f\"CHSH S-value: {S:.4f}\")\n",
    "\n",
    "def run_on_hardware(shots=128):\n",
    "    # Step 1: Connect to IBM Quantum\n",
    "    try:\n",
    "        service = QiskitRuntimeService(instance='ibm-q/open/main')\n",
    "        # print([backend.name for backend in service.backends()])  # See which backends are available \n",
    "        backend = service.backend(backend_name)\n",
    "    except Exception as e:\n",
    "        print(\"Error connecting to IBM Quantum:\", e)\n",
    "        exit()\n",
    "\n",
    "    print(\"Running on hardware:\", backend.name)\n",
    "\n",
    "    # Step 2: Create circuits\n",
    "    circuits = []\n",
    "    for theta1, theta2 in angles:\n",
    "        qc = QuantumCircuit(2)  # 2 qubits\n",
    "        qc.h(0)                 # Hadamard gate on qubit 0\n",
    "        qc.cx(0, 1)             # CNOT gate to entangle\n",
    "        qc.ry(-2 * theta1, 0)   # Rotate qubit 0\n",
    "        qc.ry(-2 * theta2, 1)   # Rotate qubit 1\n",
    "        qc.measure_all()        # Measure both qubits\n",
    "        circuits.append(qc)\n",
    "\n",
    "    # Step 3: Transpile circuits to match hardware gates\n",
    "    transpiled_circuits = transpile(circuits, backend=backend, optimization_level=1)\n",
    "\n",
    "    # Step 4: Set up the Sampler for hardware\n",
    "    sampler = Sampler(mode=backend)\n",
    "    sampler.options.default_shots = shots\n",
    "\n",
    "    # Step 5: Run all circuits at once\n",
    "    job = sampler.run(transpiled_circuits)\n",
    "    print(\"Job ID:\", job.job_id())\n",
    "    result = job.result()\n",
    "\n",
    "    # Step 6: Calculate expectation values from results\n",
    "    expectation_values = []\n",
    "    for i in range(len(angles)):\n",
    "        # Get counts from the result (Sampler returns a list of PubResults)\n",
    "        data = result[i].data\n",
    "        counts = data.meas.get_counts()  # 'meas' is the classical register name from measure_all()\n",
    "\n",
    "        # Calculate expectation value\n",
    "        total_shots = sum(counts.values())\n",
    "        expectation = 0\n",
    "        for outcome, count in counts.items():\n",
    "            # Parity: +1 for '00' or '11', -1 for '01' or '10'\n",
    "            parity = (-1) ** (int(outcome[0]) + int(outcome[1]))\n",
    "            expectation += parity * count\n",
    "        expectation = expectation / total_shots\n",
    "        expectation_values.append(expectation)\n",
    "\n",
    "    # Step 7: Compute and print CHSH value\n",
    "    S = expectation_values[0] - expectation_values[1] + expectation_values[2] + expectation_values[3]\n",
    "    print(f\"CHSH S-value: {S:.4f}\")\n",
    "\n",
    "if __name__ == \"__main__\":\n",
    "    # Change this to False to run on hardware\n",
    "    use_simulator = False\n",
    "    \n",
    "    shots = 128\n",
    "\n",
    "    if use_simulator:\n",
    "        run_on_simulator(shots=shots)\n",
    "    else:\n",
    "        run_on_hardware(shots=shots)\n",
    "    print(np.sqrt(2)*2)"
   ],
   "outputs": [
    {
     "name": "stdout",
     "output_type": "stream",
     "text": [
      "Running on hardware: ibm_brisbane\n",
      "Job ID: d0tspx34mb60008xey5g\n",
      "CHSH S-value: 2.6406\n",
      "2.8284271247461903\n"
     ]
    }
   ],
   "execution_count": 4
  }
 ],
 "metadata": {
  "kernelspec": {
   "display_name": "Python (qiskit_env)",
   "language": "python",
   "name": "qiskit_env"
  },
  "language_info": {
   "codemirror_mode": {
    "name": "ipython",
    "version": 2
   },
   "file_extension": ".py",
   "mimetype": "text/x-python",
   "name": "python",
   "nbconvert_exporter": "python",
   "pygments_lexer": "ipython2",
   "version": "2.7.6"
  }
 },
 "nbformat": 4,
 "nbformat_minor": 5
}
