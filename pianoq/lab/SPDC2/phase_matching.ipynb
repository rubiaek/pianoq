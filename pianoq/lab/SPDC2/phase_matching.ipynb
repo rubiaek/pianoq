{
 "cells": [
  {
   "cell_type": "code",
   "execution_count": 1,
   "id": "5ab80f0b",
   "metadata": {},
   "outputs": [
    {
     "name": "stderr",
     "output_type": "stream",
     "text": [
      "WARNING:root:ASI SDK library not found\n"
     ]
    },
    {
     "name": "stdout",
     "output_type": "stream",
     "text": [
      "can't import TimeTagger\n"
     ]
    }
   ],
   "source": [
    "%load_ext autoreload\n",
    "%autoreload 2 \n",
    "%matplotlib tk\n",
    "\n",
    "import os \n",
    "import time \n",
    "import pianoq\n",
    "import datetime\n",
    "from TC300_COMMAND_LIB import TC300\n",
    "from pianoq.lab.asi_cam import ASICam\n",
    "from pianoq.lab.photon_counter import PhotonCounter\n",
    "from pianoq.lab.thorlabs_motor import ThorlabsKcubeDC, ThorlabsKcubeStepper\n",
    "from pianoq.lab.photon_scan import PhotonScanner"
   ]
  },
  {
   "cell_type": "code",
   "execution_count": null,
   "id": "eea253f9",
   "metadata": {},
   "outputs": [],
   "source": [
    "tc = TC300()\n",
    "serial = tc.list_devices()[0][0]\n",
    "tc.open(serial, 115200, 3)\n",
    "tc.set_target_temperature(2, 75)"
   ]
  },
  {
   "cell_type": "code",
   "execution_count": null,
   "id": "6fdb0fa1",
   "metadata": {},
   "outputs": [],
   "source": [
    "tc.close()"
   ]
  },
  {
   "cell_type": "code",
   "execution_count": null,
   "id": "35b63e6e",
   "metadata": {},
   "outputs": [],
   "source": [
    "cam = ASICam()\n",
    "base_path = r'G:\\My Drive\\People\\Ronen\\PHD\\SPDC2025\\phase_matching'\n",
    "cam.set_exposure(1)"
   ]
  },
  {
   "cell_type": "code",
   "execution_count": null,
   "id": "784fdae8",
   "metadata": {},
   "outputs": [],
   "source": [
    "cam.close()"
   ]
  },
  {
   "cell_type": "markdown",
   "id": "89ddb27e",
   "metadata": {},
   "source": [
    "## Find phase matching temperature"
   ]
  },
  {
   "cell_type": "code",
   "execution_count": null,
   "id": "be3333ab",
   "metadata": {},
   "outputs": [],
   "source": [
    "t = 0\n",
    "while t < 72:\n",
    "    time.sleep(2)\n",
    "    tt = [0]\n",
    "    tc.get_actual_temperature(2, tt)\n",
    "    t = round(tt[0], 4)\n",
    "    cam.save_image(os.path.join(base_path, f\"T={t}.fits\"))"
   ]
  },
  {
   "cell_type": "markdown",
   "id": "c0da220b",
   "metadata": {},
   "source": [
    "## Check photon counter "
   ]
  },
  {
   "cell_type": "code",
   "execution_count": 3,
   "id": "07dae11f",
   "metadata": {},
   "outputs": [],
   "source": [
    "ph = PhotonCounter(serial_port='COM8')"
   ]
  },
  {
   "cell_type": "code",
   "execution_count": null,
   "id": "29e9953e",
   "metadata": {},
   "outputs": [],
   "source": [
    "while True:\n",
    "    x = ph.read()\n",
    "    print(x[0])"
   ]
  },
  {
   "cell_type": "code",
   "execution_count": 16,
   "id": "fccab063",
   "metadata": {},
   "outputs": [],
   "source": [
    "ph.close()"
   ]
  },
  {
   "cell_type": "markdown",
   "id": "02da7103",
   "metadata": {},
   "source": [
    "## Photon scan "
   ]
  },
  {
   "cell_type": "code",
   "execution_count": 2,
   "id": "244445dc",
   "metadata": {},
   "outputs": [],
   "source": [
    "x_motor = ThorlabsKcubeDC(serial_number=27253522)\n",
    "y_motor = ThorlabsKcubeStepper(serial_number=26001271)\n",
    "ph = PhotonCounter(serial_port='COM8')"
   ]
  },
  {
   "cell_type": "code",
   "execution_count": 3,
   "id": "ae1d2ea0",
   "metadata": {},
   "outputs": [],
   "source": [
    "x_motor.move_relative(0.1)\n",
    "y_motor.move_relative(-0.1)"
   ]
  },
  {
   "cell_type": "code",
   "execution_count": 4,
   "id": "dd345bc5",
   "metadata": {},
   "outputs": [
    {
     "name": "stdout",
     "output_type": "stream",
     "text": [
      "0.8001\n",
      "0.899999\n"
     ]
    }
   ],
   "source": [
    "print(x_motor.get_position())\n",
    "print(y_motor.get_position())"
   ]
  },
  {
   "cell_type": "code",
   "execution_count": 5,
   "id": "eea0c222",
   "metadata": {},
   "outputs": [],
   "source": [
    "integration_time = 1 \n",
    "start_x = 0.4\n",
    "start_y = 0.2 \n",
    "x_pixels = 5\n",
    "y_pixels = 5\n",
    "pixel_size_x = 0.1\n",
    "pixel_size_y = 0.1\n",
    "# name = 'find_image'\n",
    "name = 'test'\n",
    "\n",
    "timestamp = datetime.datetime.now().strftime('%Y_%m_%d_%H_%M_%S')\n",
    "dir_path = r'G:\\My Drive\\People\\Ronen\\PHD\\SPDC2025\\phase_matching\\Scans'\n",
    "\n",
    "path = f'{dir_path}\\\\{timestamp}_{name}.scan'\n",
    "scanner = PhotonScanner(integration_time, start_x, start_y, x_pixels, y_pixels, pixel_size_x, pixel_size_y,\n",
    "                        run_name=name, is_timetagger=False, coin_window=2e-9, saveto_path=path)"
   ]
  },
  {
   "cell_type": "code",
   "execution_count": null,
   "id": "96087e81",
   "metadata": {},
   "outputs": [
    {
     "name": "stdout",
     "output_type": "stream",
     "text": [
      "Moving to starting position...\n",
      "starting scan\n",
      "dur: 0. pix: 0, 0. Singles1: 0. Singles2: 0. Coincidence: 0.00.\n"
     ]
    }
   ],
   "source": [
    "# TODO: For some reason this gets stuck after a few positions. Need to figure out what the problem is. \n",
    "single1s, single2s, coincidences = scanner.scan(x_motor=x_motor, y_motor=y_motor, ph=ph)"
   ]
  },
  {
   "cell_type": "code",
   "execution_count": null,
   "id": "cc74bab3",
   "metadata": {},
   "outputs": [],
   "source": [
    "x_motor.close()\n",
    "y_motor.close()  # pesky bug?\n",
    "tt.close()"
   ]
  }
 ],
 "metadata": {
  "kernelspec": {
   "display_name": "Python 3",
   "language": "python",
   "name": "python3"
  },
  "language_info": {
   "codemirror_mode": {
    "name": "ipython",
    "version": 3
   },
   "file_extension": ".py",
   "mimetype": "text/x-python",
   "name": "python",
   "nbconvert_exporter": "python",
   "pygments_lexer": "ipython3",
   "version": "3.12.6"
  }
 },
 "nbformat": 4,
 "nbformat_minor": 5
}
