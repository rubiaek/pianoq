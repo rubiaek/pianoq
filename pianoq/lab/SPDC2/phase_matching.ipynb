{
 "cells": [
  {
   "cell_type": "code",
   "execution_count": 1,
   "id": "5ab80f0b",
   "metadata": {},
   "outputs": [],
   "source": [
    "%load_ext autoreload\n",
    "%autoreload 2 \n",
    "%matplotlib tk"
   ]
  },
  {
   "cell_type": "code",
   "execution_count": null,
   "id": "82425de8",
   "metadata": {},
   "outputs": [],
   "source": [
    "import pianoq\n",
    "from pianoq.lab.asi_cam import ASICam\n",
    "from TC300_COMMAND_LIB import TC300"
   ]
  },
  {
   "cell_type": "code",
   "execution_count": 3,
   "id": "eea253f9",
   "metadata": {},
   "outputs": [],
   "source": [
    "tc = TC300()\n",
    "serial = tc.list_devices()[0][0]\n",
    "tc.open(serial, 115200, 3)\n",
    "cam = ASICam()"
   ]
  },
  {
   "cell_type": "code",
   "execution_count": null,
   "id": "35b63e6e",
   "metadata": {},
   "outputs": [
    {
     "data": {
      "text/plain": [
       "0"
      ]
     },
     "execution_count": 20,
     "metadata": {},
     "output_type": "execute_result"
    }
   ],
   "source": [
    "base_path = r'G:\\My Drive\\People\\Ronen\\PHD\\SPDC2025\\phase_matching'\n",
    "cam.set_exposure(1)\n",
    "tc.set_target_temperature(2, 75)"
   ]
  },
  {
   "cell_type": "code",
   "execution_count": 21,
   "id": "be3333ab",
   "metadata": {},
   "outputs": [],
   "source": [
    "import os \n",
    "import time \n",
    "\n",
    "t = 0\n",
    "while t < 72:\n",
    "    time.sleep(2)\n",
    "    tt = [0]\n",
    "    tc.get_actual_temperature(2, tt)\n",
    "    t = round(tt[0], 4)\n",
    "    cam.save_image(os.path.join(base_path, f\"T={t}.fits\"))"
   ]
  },
  {
   "cell_type": "code",
   "execution_count": null,
   "id": "3c5f8935",
   "metadata": {},
   "outputs": [
    {
     "data": {
      "text/plain": [
       "0"
      ]
     },
     "execution_count": 22,
     "metadata": {},
     "output_type": "execute_result"
    }
   ],
   "source": [
    "tc.close()\n",
    "cam.close()"
   ]
  },
  {
   "cell_type": "code",
   "execution_count": 2,
   "id": "c30c3243",
   "metadata": {},
   "outputs": [
    {
     "name": "stderr",
     "output_type": "stream",
     "text": [
      "WARNING:root:ASI SDK library not found\n"
     ]
    },
    {
     "name": "stdout",
     "output_type": "stream",
     "text": [
      "can't import TimeTagger\n",
      "could not import ThorlabsRotatingServoMotor\n"
     ]
    }
   ],
   "source": [
    "from pianoq.lab.photon_counter import PhotonCounter"
   ]
  },
  {
   "cell_type": "code",
   "execution_count": 3,
   "id": "07dae11f",
   "metadata": {},
   "outputs": [],
   "source": [
    "ph = PhotonCounter(serial_port='COM8')"
   ]
  },
  {
   "cell_type": "code",
   "execution_count": null,
   "id": "29e9953e",
   "metadata": {},
   "outputs": [],
   "source": [
    "while True:\n",
    "    x = ph.read()\n",
    "    print(x)"
   ]
  },
  {
   "cell_type": "code",
   "execution_count": 18,
   "id": "bc0c1221",
   "metadata": {},
   "outputs": [
    {
     "data": {
      "text/plain": [
       "(array([0., 0., 0., 0., 0., 0., 0., 0.]),\n",
       " array([0., 0., 0., 0., 0., 0., 0., 0.]),\n",
       " 1.0)"
      ]
     },
     "execution_count": 18,
     "metadata": {},
     "output_type": "execute_result"
    }
   ],
   "source": [
    "x"
   ]
  }
 ],
 "metadata": {
  "kernelspec": {
   "display_name": "Python 3",
   "language": "python",
   "name": "python3"
  },
  "language_info": {
   "codemirror_mode": {
    "name": "ipython",
    "version": 3
   },
   "file_extension": ".py",
   "mimetype": "text/x-python",
   "name": "python",
   "nbconvert_exporter": "python",
   "pygments_lexer": "ipython3",
   "version": "3.12.6"
  }
 },
 "nbformat": 4,
 "nbformat_minor": 5
}
