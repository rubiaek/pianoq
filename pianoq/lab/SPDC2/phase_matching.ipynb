{
 "cells": [
  {
   "cell_type": "code",
   "execution_count": 1,
   "id": "5ab80f0b",
   "metadata": {},
   "outputs": [
    {
     "name": "stderr",
     "output_type": "stream",
     "text": [
      "WARNING:root:ASI SDK library not found\n"
     ]
    },
    {
     "name": "stdout",
     "output_type": "stream",
     "text": [
      "can't import TimeTagger\n"
     ]
    }
   ],
   "source": [
    "%load_ext autoreload\n",
    "%autoreload 2 \n",
    "%matplotlib tk\n",
    "\n",
    "import os \n",
    "import time \n",
    "import pianoq\n",
    "import datetime\n",
    "from TC300_COMMAND_LIB import TC300\n",
    "from pianoq.lab.asi_cam import ASICam\n",
    "from pianoq.lab.photon_counter import PhotonCounter\n",
    "from pianoq.lab.thorlabs_motor import ThorlabsKcubeDC, ThorlabsKcubeStepper\n",
    "from pianoq.lab.photon_scan import PhotonScanner"
   ]
  },
  {
   "cell_type": "code",
   "execution_count": null,
   "id": "eea253f9",
   "metadata": {},
   "outputs": [],
   "source": [
    "tc = TC300()\n",
    "serial = tc.list_devices()[0][0]\n",
    "tc.open(serial, 115200, 3)\n",
    "tc.set_target_temperature(2, 75)"
   ]
  },
  {
   "cell_type": "code",
   "execution_count": null,
   "id": "6fdb0fa1",
   "metadata": {},
   "outputs": [],
   "source": [
    "tc.close()"
   ]
  },
  {
   "cell_type": "code",
   "execution_count": null,
   "id": "35b63e6e",
   "metadata": {},
   "outputs": [],
   "source": [
    "cam = ASICam()\n",
    "base_path = r'G:\\My Drive\\People\\Ronen\\PHD\\SPDC2025\\phase_matching'\n",
    "cam.set_exposure(1)"
   ]
  },
  {
   "cell_type": "code",
   "execution_count": null,
   "id": "784fdae8",
   "metadata": {},
   "outputs": [],
   "source": [
    "cam.close()"
   ]
  },
  {
   "cell_type": "markdown",
   "id": "89ddb27e",
   "metadata": {},
   "source": [
    "## Find phase matching temperature"
   ]
  },
  {
   "cell_type": "code",
   "execution_count": null,
   "id": "be3333ab",
   "metadata": {},
   "outputs": [],
   "source": [
    "t = 0\n",
    "while t < 72:\n",
    "    time.sleep(2)\n",
    "    tt = [0]\n",
    "    tc.get_actual_temperature(2, tt)\n",
    "    t = round(tt[0], 4)\n",
    "    cam.save_image(os.path.join(base_path, f\"T={t}.fits\"))"
   ]
  },
  {
   "cell_type": "markdown",
   "id": "202780fd",
   "metadata": {},
   "source": [
    "## Initial single counts after MMF"
   ]
  },
  {
   "cell_type": "code",
   "execution_count": 3,
   "id": "41b9b049",
   "metadata": {},
   "outputs": [],
   "source": [
    "cam = ASICam()"
   ]
  },
  {
   "cell_type": "code",
   "execution_count": null,
   "id": "0d7475c0",
   "metadata": {},
   "outputs": [],
   "source": [
    "cam.set_gain(0)\n",
    "cam.set_binning(1)\n",
    "cam.set_exposure(5)\n",
    "cam.set_roi(2500, 1400, 600, 600)"
   ]
  },
  {
   "cell_type": "code",
   "execution_count": 12,
   "id": "c2bc4159",
   "metadata": {},
   "outputs": [],
   "source": [
    "cam.show_image()\n",
    "cam.save_image(r'G:\\My Drive\\People\\Ronen\\PHD\\SPDC2025\\After MMF\\no_pump_lens')"
   ]
  },
  {
   "cell_type": "markdown",
   "id": "c0da220b",
   "metadata": {},
   "source": [
    "## Check photon counter "
   ]
  },
  {
   "cell_type": "code",
   "execution_count": 21,
   "id": "07dae11f",
   "metadata": {},
   "outputs": [],
   "source": [
    "ph = PhotonCounter(serial_port='COM8')"
   ]
  },
  {
   "cell_type": "code",
   "execution_count": 23,
   "id": "6f36f893",
   "metadata": {},
   "outputs": [],
   "source": [
    "ph.close()"
   ]
  },
  {
   "cell_type": "code",
   "execution_count": 22,
   "id": "47cc368e",
   "metadata": {},
   "outputs": [
    {
     "data": {
      "text/plain": [
       "(array([0., 0., 0., 0., 0., 0., 0., 0.]),\n",
       " array([0., 0., 0., 0., 0., 0., 0., 0.]),\n",
       " 1.0)"
      ]
     },
     "execution_count": 22,
     "metadata": {},
     "output_type": "execute_result"
    }
   ],
   "source": [
    "ph.read()"
   ]
  },
  {
   "cell_type": "code",
   "execution_count": null,
   "id": "29e9953e",
   "metadata": {},
   "outputs": [],
   "source": [
    "while True:\n",
    "    x = ph.read()\n",
    "    print(x[0])"
   ]
  },
  {
   "cell_type": "code",
   "execution_count": 16,
   "id": "fccab063",
   "metadata": {},
   "outputs": [],
   "source": [
    "ph.close()"
   ]
  },
  {
   "cell_type": "markdown",
   "id": "02da7103",
   "metadata": {},
   "source": [
    "## Photon scan "
   ]
  },
  {
   "cell_type": "code",
   "execution_count": 2,
   "id": "244445dc",
   "metadata": {},
   "outputs": [],
   "source": [
    "timeout = 0 \n",
    "x_motor = ThorlabsKcubeDC(serial_number=27253522, timeout=timeout)\n",
    "y_motor = ThorlabsKcubeStepper(serial_number=26001271, timeout=timeout)\n",
    "ph = PhotonCounter(serial_port='COM8')"
   ]
  },
  {
   "cell_type": "code",
   "execution_count": 3,
   "id": "ae1d2ea0",
   "metadata": {},
   "outputs": [],
   "source": [
    "x_motor.move_relative(0.1)\n",
    "y_motor.move_relative(-0.1)"
   ]
  },
  {
   "cell_type": "code",
   "execution_count": 10,
   "id": "836ca464",
   "metadata": {},
   "outputs": [],
   "source": [
    "x_motor.timeout = 50000\n",
    "y_motor.timeout = 50000"
   ]
  },
  {
   "cell_type": "code",
   "execution_count": 5,
   "id": "dd345bc5",
   "metadata": {},
   "outputs": [
    {
     "name": "stdout",
     "output_type": "stream",
     "text": [
      "15.5997\n",
      "13.999997\n"
     ]
    }
   ],
   "source": [
    "print(x_motor.get_position())\n",
    "print(y_motor.get_position())"
   ]
  },
  {
   "cell_type": "code",
   "execution_count": null,
   "id": "eea0c222",
   "metadata": {},
   "outputs": [],
   "source": [
    "integration_time = 1 \n",
    "start_x = 15 # 16.5\n",
    "start_y = 13.25 # 14.75  \n",
    "x_pixels = 30\n",
    "y_pixels = 30\n",
    "pixel_size_x = 0.05\n",
    "pixel_size_y = 0.05\n",
    "# name = 'find_image'\n",
    "name = 'first_full_dx=0.05_with_lens'\n",
    "\n",
    "timestamp = datetime.datetime.now().strftime('%Y_%m_%d_%H_%M_%S')\n",
    "dir_path = r'G:\\My Drive\\People\\Ronen\\PHD\\SPDC2025\\phase_matching\\Scans'\n",
    "\n",
    "path = f'{dir_path}\\\\{timestamp}_{name}.scan'\n",
    "scanner = PhotonScanner(integration_time, start_x, start_y, x_pixels, y_pixels, pixel_size_x, pixel_size_y,\n",
    "                        run_name=name, is_timetagger=False, coin_window=2e-9, saveto_path=path)"
   ]
  },
  {
   "cell_type": "code",
   "execution_count": null,
   "id": "96087e81",
   "metadata": {},
   "outputs": [
    {
     "name": "stdout",
     "output_type": "stream",
     "text": [
      "Moving to starting position...\n",
      "starting scan\n",
      "dur: 0. pix: 0, 0. Singles1: 11493. Singles2: 9191. Coincidence: 0.00.\n",
      "dur: 2. pix: 0, 1. Singles1: 11241. Singles2: 9032. Coincidence: 0.00.\n",
      "dur: 4. pix: 0, 2. Singles1: 10678. Singles2: 8792. Coincidence: 1.00.\n",
      "dur: 5. pix: 0, 3. Singles1: 11622. Singles2: 9321. Coincidence: 1.00.\n",
      "dur: 7. pix: 0, 4. Singles1: 11027. Singles2: 8966. Coincidence: 0.00.\n",
      "dur: 9. pix: 0, 5. Singles1: 11140. Singles2: 8981. Coincidence: 0.00.\n",
      "dur: 11. pix: 0, 6. Singles1: 6198. Singles2: 4839. Coincidence: 2.00.\n",
      "dur: 13. pix: 0, 7. Singles1: 6091. Singles2: 4927. Coincidence: 1.00.\n",
      "dur: 14. pix: 0, 8. Singles1: 6174. Singles2: 4850. Coincidence: 0.00.\n",
      "dur: 16. pix: 0, 9. Singles1: 6271. Singles2: 4892. Coincidence: 0.00.\n",
      "dur: 18. pix: 0, 10. Singles1: 6242. Singles2: 4939. Coincidence: 1.00.\n",
      "dur: 20. pix: 0, 11. Singles1: 6295. Singles2: 5013. Coincidence: 0.00.\n",
      "dur: 22. pix: 0, 12. Singles1: 6189. Singles2: 4814. Coincidence: 0.00.\n",
      "dur: 23. pix: 0, 13. Singles1: 6312. Singles2: 5088. Coincidence: 1.00.\n",
      "dur: 25. pix: 0, 14. Singles1: 6181. Singles2: 4959. Coincidence: 0.00.\n",
      "dur: 27. pix: 0, 15. Singles1: 6461. Singles2: 4977. Coincidence: 0.00.\n",
      "dur: 29. pix: 0, 16. Singles1: 6508. Singles2: 5052. Coincidence: 0.00.\n",
      "dur: 31. pix: 0, 17. Singles1: 6336. Singles2: 5058. Coincidence: 0.00.\n",
      "dur: 32. pix: 0, 18. Singles1: 6312. Singles2: 5203. Coincidence: 0.00.\n",
      "dur: 34. pix: 0, 19. Singles1: 6449. Singles2: 5117. Coincidence: 0.00.\n",
      "dur: 36. pix: 0, 20. Singles1: 6375. Singles2: 4917. Coincidence: 0.00.\n"
     ]
    }
   ],
   "source": [
    "single1s, single2s, coincidences = scanner.scan(x_motor=x_motor, y_motor=y_motor, ph=ph)"
   ]
  },
  {
   "cell_type": "code",
   "execution_count": null,
   "id": "cc74bab3",
   "metadata": {},
   "outputs": [],
   "source": [
    "# x_motor.close() # pesky bug?\n",
    "y_motor.close()  \n",
    "ph.close()"
   ]
  }
 ],
 "metadata": {
  "kernelspec": {
   "display_name": "Python 3",
   "language": "python",
   "name": "python3"
  },
  "language_info": {
   "codemirror_mode": {
    "name": "ipython",
    "version": 3
   },
   "file_extension": ".py",
   "mimetype": "text/x-python",
   "name": "python",
   "nbconvert_exporter": "python",
   "pygments_lexer": "ipython3",
   "version": "3.12.6"
  }
 },
 "nbformat": 4,
 "nbformat_minor": 5
}
