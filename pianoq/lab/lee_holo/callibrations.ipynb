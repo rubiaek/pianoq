{
 "cells": [
  {
   "cell_type": "code",
   "execution_count": 1,
   "id": "3ad92c47",
   "metadata": {},
   "outputs": [
    {
     "name": "stderr",
     "output_type": "stream",
     "text": [
      "WARNING:root:ASI SDK library not found\n"
     ]
    }
   ],
   "source": [
    "# power = 260mW \n",
    "# T = 64 C \n",
    "%matplotlib ipympl \n",
    "from pianoq.lab.asi_cam import ASICam\n",
    "from pianoq.lab.dmd import DMD\n",
    "import numpy as np "
   ]
  },
  {
   "cell_type": "code",
   "execution_count": 37,
   "id": "974dc460",
   "metadata": {},
   "outputs": [],
   "source": [
    "cam = ASICam()"
   ]
  },
  {
   "cell_type": "code",
   "execution_count": 34,
   "id": "296c507a",
   "metadata": {},
   "outputs": [],
   "source": [
    "cam.close()"
   ]
  },
  {
   "cell_type": "code",
   "execution_count": 56,
   "id": "da306529",
   "metadata": {},
   "outputs": [],
   "source": [
    "path = r'G:\\My Drive\\Projects\\DMD\\quantum\\Results\\Callibrations'\n",
    "# cam.set_roi(4300, 2100, 500, 500)\n",
    "cam.set_exposure(3)\n",
    "cam.set_roi(None, None, None, None)\n",
    "cam.set_binning(4)\n",
    "# cam.show_image(vmin=None, vmax=None)\n",
    "cam.save_image(rf'{path}\\farfield_plane_yes_lens_75mm_f1_200mm.fits')"
   ]
  },
  {
   "cell_type": "code",
   "execution_count": 2,
   "id": "41e3c12c",
   "metadata": {},
   "outputs": [
    {
     "name": "stdout",
     "output_type": "stream",
     "text": [
      "Connected!\n",
      "Built project!\n"
     ]
    }
   ],
   "source": [
    "dmd = DMD()"
   ]
  },
  {
   "cell_type": "code",
   "execution_count": 13,
   "id": "0d26ddd3",
   "metadata": {},
   "outputs": [],
   "source": [
    "dmd.set_white()"
   ]
  },
  {
   "cell_type": "code",
   "execution_count": 8,
   "id": "f8c939dc",
   "metadata": {},
   "outputs": [],
   "source": [
    "dmd.set_black()"
   ]
  },
  {
   "cell_type": "code",
   "execution_count": 12,
   "id": "709b32f4",
   "metadata": {},
   "outputs": [],
   "source": [
    "dmd.set_grating(500)"
   ]
  }
 ],
 "metadata": {
  "kernelspec": {
   "display_name": "Python 3",
   "language": "python",
   "name": "python3"
  },
  "language_info": {
   "codemirror_mode": {
    "name": "ipython",
    "version": 3
   },
   "file_extension": ".py",
   "mimetype": "text/x-python",
   "name": "python",
   "nbconvert_exporter": "python",
   "pygments_lexer": "ipython3",
   "version": "3.12.6"
  }
 },
 "nbformat": 4,
 "nbformat_minor": 5
}
