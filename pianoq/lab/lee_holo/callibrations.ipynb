{
 "cells": [
  {
   "cell_type": "code",
   "execution_count": 38,
   "id": "3ad92c47",
   "metadata": {},
   "outputs": [
    {
     "name": "stdout",
     "output_type": "stream",
     "text": [
      "The autoreload extension is already loaded. To reload it, use:\n",
      "  %reload_ext autoreload\n"
     ]
    }
   ],
   "source": [
    "# power = 260mW \n",
    "# T = 64 C \n",
    "# %matplotlib ipympl \n",
    "%matplotlib qt \n",
    "%load_ext autoreload \n",
    "%autoreload 2\n",
    "from pianoq.lab.asi_cam import ASICam\n",
    "from pianoq.lab.dmd import DMD\n",
    "import numpy as np \n",
    "from pianoq.misc.mplt import mimshow, mplot\n",
    "import datetime \n",
    "import time \n",
    "from pianoq.lab.photon_scan import PhotonScanner\n",
    "from pianoq.lab.time_tagger import QPTimeTagger\n",
    "from pianoq.lab.photon_counter import PhotonCounter\n",
    "from pianoq.lab.thorlabs_motor import ThorlabsKcubeDC, ThorlabsKcubeStepper\n",
    "from pianoq.lab.lee_holo.generate_lee import main, make_oam_donut, orthogonal_lee"
   ]
  },
  {
   "cell_type": "code",
   "execution_count": null,
   "id": "41e3c12c",
   "metadata": {},
   "outputs": [
    {
     "name": "stdout",
     "output_type": "stream",
     "text": [
      "Connected!\n",
      "Built project!\n"
     ]
    }
   ],
   "source": [
    "dmd = DMD()\n",
    "dmd.set_white()"
   ]
  },
  {
   "cell_type": "code",
   "execution_count": null,
   "id": "34495dee",
   "metadata": {},
   "outputs": [
    {
     "data": {
      "text/plain": [
       "(<Figure size 640x480 with 2 Axes>, <Axes: >)"
      ]
     },
     "execution_count": 52,
     "metadata": {},
     "output_type": "execute_result"
    }
   ],
   "source": [
    "# grtn = 50\n",
    "# dmd.set_grating(grtn)\n",
    "\n",
    "# qq = 90\n",
    "# dmd.set_checkerboard(qq)\n",
    "\n",
    "# target = make_oam_donut(Nx=dmd.Nx, Ny=dmd.Ny, ell=2, r0=0.35, sigma=0.2)\n",
    "# hologram, _ = orthogonal_lee(target, carrier_f=(1/50, 0), duty_cycle=0.5)\n",
    "# dmd.set_image(hologram.astype(bool))\n",
    "\n",
    "amps = np.array([0, 0.5, 1])\n",
    "dmd.set_1d_macrosteps(amps, step_w=150, tile=8)\n",
    "\n",
    "mimshow(dmd.cur_image)"
   ]
  },
  {
   "cell_type": "code",
   "execution_count": null,
   "id": "b665ae32",
   "metadata": {},
   "outputs": [
    {
     "data": {
      "text/plain": [
       "''"
      ]
     },
     "execution_count": 46,
     "metadata": {},
     "output_type": "execute_result"
    }
   ],
   "source": [
    "mimshow(dmd.cur_image)\n",
    "print(dmd.last_called_setter)"
   ]
  },
  {
   "cell_type": "code",
   "execution_count": null,
   "id": "2ca36517",
   "metadata": {},
   "outputs": [],
   "source": [
    "timeout = 100000\n",
    "x_motor = ThorlabsKcubeDC(serial_number=27253522, timeout=timeout)\n",
    "y_motor = ThorlabsKcubeStepper(serial_number=26001271, timeout=timeout)"
   ]
  },
  {
   "cell_type": "code",
   "execution_count": 32,
   "id": "7a392cad",
   "metadata": {},
   "outputs": [],
   "source": [
    "integration_time = 10\n",
    "# coin_window = 4e-9 \n",
    "# ph = PhotonCounter(serial_port='COM8', integration_time=integration_time)\n",
    "coin_window = 1.2e-9 \n",
    "# When DMD-plane fiber is 100um 1m. Delays=(0, 500) when both are 50um 2m fibers\n",
    "tt = ph = QPTimeTagger(integration_time=integration_time, coin_window=coin_window, single_channel_delays=(0, 5000), remote=True, address='132.64.81.123:41101')  "
   ]
  },
  {
   "cell_type": "code",
   "execution_count": null,
   "id": "28be5325",
   "metadata": {},
   "outputs": [],
   "source": [
    "tt.set_integration_time(1)\n",
    "tt.show_gui()"
   ]
  },
  {
   "cell_type": "code",
   "execution_count": 33,
   "id": "b5b3b708",
   "metadata": {},
   "outputs": [
    {
     "name": "stdout",
     "output_type": "stream",
     "text": [
      "c=251.7; real_c=33.8+-5.0\n",
      "12.5\n",
      "12.2999995\n"
     ]
    }
   ],
   "source": [
    "s1, s2, c = ph.read_interesting()\n",
    "s1, s2, c = s1.item(), s2.item(), c.item()\n",
    "acc = 2*s1*s2*coin_window\n",
    "real_c = c - acc \n",
    "std = np.sqrt(c) / np.sqrt(ph.integration_time)\n",
    "print(f'{c=:.1f}; {real_c=:.1f}+-{std:.1f}')\n",
    "print(x_motor.get_position())\n",
    "print(y_motor.get_position())"
   ]
  },
  {
   "cell_type": "code",
   "execution_count": 55,
   "id": "f9c8b490",
   "metadata": {},
   "outputs": [],
   "source": [
    "start_x = 10.5 # 16.5\n",
    "start_y = 12.0 # 14.75  \n",
    "x_pixels = 80\n",
    "y_pixels = 3\n",
    "pixel_size_x = 0.1\n",
    "pixel_size_y = 0.1\n",
    "name = 'steps_3_150_timetagger_z_12_fiber_100um_fiber_50um_260mW_f_none_before_crystal_filter_20nm'\n",
    "\n",
    "timestamp = datetime.datetime.now().strftime('%Y_%m_%d_%H_%M_%S')\n",
    "dir_path = r'G:\\My Drive\\Projects\\DMD\\quantum\\Results\\Scans'\n",
    "\n",
    "path = f'{dir_path}\\\\{timestamp}_{name}.scan'\n",
    "scanner = PhotonScanner(integration_time, start_x, start_y, x_pixels, y_pixels, pixel_size_x, pixel_size_y,\n",
    "                        run_name=name, is_timetagger=True, coin_window=coin_window, saveto_path=path)"
   ]
  },
  {
   "cell_type": "code",
   "execution_count": 54,
   "id": "3d284697",
   "metadata": {},
   "outputs": [
    {
     "name": "stdout",
     "output_type": "stream",
     "text": [
      "<pianoq.lab.time_tagger.QPTimeTagger object at 0x000001DD08BD6C00>\n",
      "<class 'pianoq.lab.time_tagger.QPTimeTagger'>\n",
      "Moving to starting position...\n",
      "starting scan\n",
      "dur: 0. pix: 0, 0. Singles1: 477028. Singles2: 200188. Coincidence: 267.00. real_coin: 37.8.\n",
      "nan issue in timetagger\n",
      "dur: 11. pix: 0, 1. Singles1: 477022. Singles2: 201776. Coincidence: 260.40. real_coin: 29.4.\n",
      "dur: 32. pix: 0, 2. Singles1: 476746. Singles2: 201500. Coincidence: 263.00. real_coin: 32.4.\n",
      "dur: 43. pix: 0, 3. Singles1: 477199. Singles2: 201244. Coincidence: 251.20. real_coin: 20.7.\n",
      "dur: 54. pix: 0, 4. Singles1: 476364. Singles2: 202486. Coincidence: 247.40. real_coin: 15.9.\n",
      "dur: 65. pix: 0, 5. Singles1: 476770. Singles2: 200849. Coincidence: 240.00. real_coin: 10.2.\n",
      "dur: 76. pix: 0, 6. Singles1: 476705. Singles2: 200701. Coincidence: 242.00. real_coin: 12.4.\n",
      "dur: 87. pix: 0, 7. Singles1: 476954. Singles2: 199900. Coincidence: 236.60. real_coin: 7.8.\n",
      "dur: 98. pix: 0, 8. Singles1: 476246. Singles2: 199730. Coincidence: 238.50. real_coin: 10.2.\n",
      "dur: 109. pix: 0, 9. Singles1: 476674. Singles2: 201821. Coincidence: 237.30. real_coin: 6.4.\n",
      "dur: 119. pix: 0, 10. Singles1: 476915. Singles2: 199428. Coincidence: 232.50. real_coin: 4.2.\n",
      "dur: 130. pix: 0, 11. Singles1: 477100. Singles2: 197917. Coincidence: 228.50. real_coin: 1.9.\n",
      "dur: 141. pix: 0, 12. Singles1: 476791. Singles2: 198198. Coincidence: 236.90. real_coin: 10.1.\n",
      "dur: 152. pix: 0, 13. Singles1: 477107. Singles2: 200851. Coincidence: 243.30. real_coin: 13.3.\n",
      "dur: 163. pix: 0, 14. Singles1: 476855. Singles2: 199826. Coincidence: 229.50. real_coin: 0.8.\n",
      "nan issue in timetagger\n",
      "dur: 174. pix: 0, 15. Singles1: 476800. Singles2: 198023. Coincidence: 236.20. real_coin: 9.6.\n",
      "dur: 195. pix: 0, 16. Singles1: 477077. Singles2: 199882. Coincidence: 249.70. real_coin: 20.8.\n",
      "dur: 206. pix: 0, 17. Singles1: 476413. Singles2: 198357. Coincidence: 245.70. real_coin: 18.9.\n",
      "dur: 217. pix: 0, 18. Singles1: 476658. Singles2: 197878. Coincidence: 260.40. real_coin: 34.0.\n",
      "dur: 228. pix: 0, 19. Singles1: 477054. Singles2: 194712. Coincidence: 265.20. real_coin: 42.3.\n",
      "dur: 239. pix: 0, 20. Singles1: 476898. Singles2: 192578. Coincidence: 265.90. real_coin: 45.5.\n",
      "dur: 249. pix: 0, 21. Singles1: 476405. Singles2: 193741. Coincidence: 261.10. real_coin: 39.6.\n",
      "dur: 260. pix: 0, 22. Singles1: 476735. Singles2: 193482. Coincidence: 257.60. real_coin: 36.2.\n",
      "dur: 271. pix: 0, 23. Singles1: 476794. Singles2: 194420. Coincidence: 263.80. real_coin: 41.3.\n",
      "dur: 282. pix: 0, 24. Singles1: 476778. Singles2: 193913. Coincidence: 271.40. real_coin: 49.5.\n",
      "dur: 293. pix: 0, 25. Singles1: 476766. Singles2: 193802. Coincidence: 269.40. real_coin: 47.6.\n",
      "nan issue in timetagger\n",
      "dur: 304. pix: 0, 26. Singles1: 476505. Singles2: 195034. Coincidence: 257.00. real_coin: 34.0.\n",
      "dur: 325. pix: 0, 27. Singles1: 477431. Singles2: 197495. Coincidence: 258.80. real_coin: 32.5.\n",
      "dur: 336. pix: 0, 28. Singles1: 477187. Singles2: 194904. Coincidence: 263.00. real_coin: 39.8.\n",
      "dur: 347. pix: 0, 29. Singles1: 477356. Singles2: 194856. Coincidence: 258.50. real_coin: 35.3.\n",
      "dur: 358. pix: 0, 30. Singles1: 476293. Singles2: 195649. Coincidence: 256.10. real_coin: 32.5.\n",
      "dur: 369. pix: 0, 31. Singles1: 476635. Singles2: 195806. Coincidence: 252.90. real_coin: 28.9.\n",
      "dur: 379. pix: 0, 32. Singles1: 476607. Singles2: 197563. Coincidence: 238.40. real_coin: 12.4.\n",
      "dur: 390. pix: 0, 33. Singles1: 477024. Singles2: 196820. Coincidence: 230.90. real_coin: 5.6.\n",
      "dur: 401. pix: 0, 34. Singles1: 476352. Singles2: 197072. Coincidence: 234.50. real_coin: 9.2.\n",
      "dur: 412. pix: 0, 35. Singles1: 476971. Singles2: 198220. Coincidence: 226.80. real_coin: -0.1.\n",
      "dur: 423. pix: 0, 36. Singles1: 476784. Singles2: 199911. Coincidence: 234.90. real_coin: 6.1.\n",
      "dur: 434. pix: 0, 37. Singles1: 477243. Singles2: 200151. Coincidence: 236.30. real_coin: 7.1.\n",
      "dur: 445. pix: 0, 38. Singles1: 476452. Singles2: 197388. Coincidence: 228.30. real_coin: 2.6.\n",
      "dur: 456. pix: 0, 39. Singles1: 477359. Singles2: 198021. Coincidence: 226.90. real_coin: 0.0.\n",
      "dur: 467. pix: 0, 40. Singles1: 476540. Singles2: 201752. Coincidence: 234.50. real_coin: 3.8.\n",
      "dur: 478. pix: 0, 41. Singles1: 476876. Singles2: 199957. Coincidence: 229.10. real_coin: 0.2.\n",
      "dur: 488. pix: 0, 42. Singles1: 477240. Singles2: 201612. Coincidence: 235.40. real_coin: 4.5.\n",
      "dur: 499. pix: 0, 43. Singles1: 476597. Singles2: 201553. Coincidence: 243.10. real_coin: 12.6.\n",
      "dur: 510. pix: 0, 44. Singles1: 476717. Singles2: 201652. Coincidence: 234.60. real_coin: 3.9.\n",
      "dur: 521. pix: 0, 45. Singles1: 476558. Singles2: 203414. Coincidence: 246.60. real_coin: 13.9.\n",
      "nan issue in timetagger\n",
      "dur: 532. pix: 0, 46. Singles1: 476575. Singles2: 203492. Coincidence: 258.70. real_coin: 25.9.\n",
      "dur: 553. pix: 0, 47. Singles1: 476799. Singles2: 203218. Coincidence: 284.20. real_coin: 51.7.\n",
      "dur: 564. pix: 0, 48. Singles1: 476651. Singles2: 205009. Coincidence: 271.00. real_coin: 36.5.\n",
      "dur: 575. pix: 0, 49. Singles1: 476199. Singles2: 205873. Coincidence: 283.70. real_coin: 48.4.\n",
      "dur: 586. pix: 0, 50. Singles1: 476783. Singles2: 205803. Coincidence: 281.90. real_coin: 46.4.\n",
      "dur: 597. pix: 0, 51. Singles1: 476112. Singles2: 205282. Coincidence: 277.30. real_coin: 42.7.\n",
      "dur: 608. pix: 0, 52. Singles1: 475870. Singles2: 205938. Coincidence: 272.50. real_coin: 37.3.\n",
      "dur: 619. pix: 0, 53. Singles1: 476418. Singles2: 209632. Coincidence: 283.70. real_coin: 44.0.\n",
      "dur: 630. pix: 0, 54. Singles1: 476612. Singles2: 209736. Coincidence: 280.40. real_coin: 40.5.\n",
      "dur: 640. pix: 0, 55. Singles1: 476610. Singles2: 206884. Coincidence: 287.20. real_coin: 50.6.\n",
      "dur: 651. pix: 0, 56. Singles1: 476592. Singles2: 208160. Coincidence: 276.80. real_coin: 38.7.\n",
      "dur: 662. pix: 0, 57. Singles1: 476408. Singles2: 204570. Coincidence: 274.30. real_coin: 40.4.\n",
      "dur: 673. pix: 0, 58. Singles1: 476859. Singles2: 200056. Coincidence: 264.10. real_coin: 35.1.\n",
      "dur: 684. pix: 0, 59. Singles1: 476753. Singles2: 199346. Coincidence: 264.00. real_coin: 35.9.\n",
      "dur: 701. pix: 1, 0. Singles1: 476232. Singles2: 201760. Coincidence: 267.10. real_coin: 36.5.\n",
      "dur: 712. pix: 1, 1. Singles1: 476508. Singles2: 202579. Coincidence: 271.90. real_coin: 40.2.\n",
      "dur: 723. pix: 1, 2. Singles1: 476332. Singles2: 202656. Coincidence: 257.10. real_coin: 25.4.\n",
      "dur: 734. pix: 1, 3. Singles1: 476830. Singles2: 201150. Coincidence: 241.60. real_coin: 11.4.\n",
      "dur: 745. pix: 1, 4. Singles1: 476414. Singles2: 199022. Coincidence: 245.30. real_coin: 17.7.\n",
      "dur: 756. pix: 1, 5. Singles1: 476859. Singles2: 198509. Coincidence: 237.40. real_coin: 10.2.\n",
      "dur: 767. pix: 1, 6. Singles1: 476471. Singles2: 198493. Coincidence: 231.70. real_coin: 4.7.\n",
      "dur: 777. pix: 1, 7. Singles1: 476457. Singles2: 198310. Coincidence: 239.10. real_coin: 12.3.\n",
      "dur: 788. pix: 1, 8. Singles1: 476434. Singles2: 199310. Coincidence: 238.50. real_coin: 10.6.\n",
      "dur: 799. pix: 1, 9. Singles1: 476427. Singles2: 199014. Coincidence: 238.00. real_coin: 10.4.\n",
      "dur: 810. pix: 1, 10. Singles1: 476527. Singles2: 198767. Coincidence: 241.00. real_coin: 13.7.\n",
      "dur: 821. pix: 1, 11. Singles1: 477080. Singles2: 197073. Coincidence: 231.40. real_coin: 5.8.\n",
      "dur: 832. pix: 1, 12. Singles1: 476144. Singles2: 195759. Coincidence: 233.80. real_coin: 10.1.\n",
      "dur: 843. pix: 1, 13. Singles1: 476463. Singles2: 196688. Coincidence: 235.80. real_coin: 10.9.\n",
      "dur: 854. pix: 1, 14. Singles1: 476804. Singles2: 196636. Coincidence: 228.40. real_coin: 3.4.\n",
      "dur: 865. pix: 1, 15. Singles1: 476699. Singles2: 194464. Coincidence: 233.00. real_coin: 10.5.\n",
      "dur: 875. pix: 1, 16. Singles1: 476414. Singles2: 195654. Coincidence: 233.70. real_coin: 10.0.\n",
      "dur: 886. pix: 1, 17. Singles1: 476418. Singles2: 196259. Coincidence: 246.30. real_coin: 21.9.\n",
      "dur: 897. pix: 1, 18. Singles1: 476793. Singles2: 194753. Coincidence: 255.90. real_coin: 33.0.\n",
      "dur: 908. pix: 1, 19. Singles1: 476455. Singles2: 195136. Coincidence: 255.90. real_coin: 32.8.\n",
      "dur: 919. pix: 1, 20. Singles1: 476981. Singles2: 196470. Coincidence: 258.90. real_coin: 34.0.\n",
      "dur: 930. pix: 1, 21. Singles1: 476660. Singles2: 194042. Coincidence: 260.80. real_coin: 38.8.\n",
      "dur: 941. pix: 1, 22. Singles1: 476774. Singles2: 194169. Coincidence: 264.00. real_coin: 41.8.\n",
      "dur: 952. pix: 1, 23. Singles1: 477081. Singles2: 194515. Coincidence: 257.40. real_coin: 34.7.\n",
      "dur: 963. pix: 1, 24. Singles1: 476530. Singles2: 193798. Coincidence: 252.40. real_coin: 30.8.\n",
      "dur: 974. pix: 1, 25. Singles1: 476837. Singles2: 193097. Coincidence: 268.00. real_coin: 47.0.\n",
      "dur: 984. pix: 1, 26. Singles1: 476580. Singles2: 194459. Coincidence: 258.40. real_coin: 36.0.\n",
      "nan issue in timetagger\n",
      "nan issue in timetagger\n",
      "dur: 995. pix: 1, 27. Singles1: 476989. Singles2: 193548. Coincidence: 262.70. real_coin: 41.1.\n",
      "dur: 1027. pix: 1, 28. Singles1: 476915. Singles2: 193874. Coincidence: 259.30. real_coin: 37.4.\n",
      "dur: 1037. pix: 1, 29. Singles1: 476737. Singles2: 196164. Coincidence: 261.90. real_coin: 37.5.\n",
      "dur: 1048. pix: 1, 30. Singles1: 476554. Singles2: 195209. Coincidence: 260.00. real_coin: 36.7.\n",
      "dur: 1059. pix: 1, 31. Singles1: 476823. Singles2: 196681. Coincidence: 252.10. real_coin: 27.0.\n",
      "dur: 1070. pix: 1, 32. Singles1: 476531. Singles2: 198999. Coincidence: 243.40. real_coin: 15.8.\n",
      "dur: 1081. pix: 1, 33. Singles1: 476357. Singles2: 198274. Coincidence: 232.40. real_coin: 5.7.\n",
      "dur: 1092. pix: 1, 34. Singles1: 477170. Singles2: 199196. Coincidence: 242.00. real_coin: 13.9.\n",
      "dur: 1103. pix: 1, 35. Singles1: 477025. Singles2: 198598. Coincidence: 233.40. real_coin: 6.0.\n",
      "nan issue in timetagger\n",
      "dur: 1114. pix: 1, 36. Singles1: 476086. Singles2: 198902. Coincidence: 236.60. real_coin: 9.3.\n",
      "dur: 1135. pix: 1, 37. Singles1: 476534. Singles2: 197075. Coincidence: 237.60. real_coin: 12.2.\n",
      "dur: 1146. pix: 1, 38. Singles1: 476790. Singles2: 196882. Coincidence: 231.70. real_coin: 6.4.\n",
      "dur: 1157. pix: 1, 39. Singles1: 476662. Singles2: 196683. Coincidence: 226.20. real_coin: 1.2.\n",
      "dur: 1168. pix: 1, 40. Singles1: 477318. Singles2: 199203. Coincidence: 234.40. real_coin: 6.2.\n",
      "dur: 1179. pix: 1, 41. Singles1: 476522. Singles2: 200396. Coincidence: 238.00. real_coin: 8.8.\n",
      "dur: 1189. pix: 1, 42. Singles1: 476221. Singles2: 202023. Coincidence: 230.60. real_coin: -0.3.\n",
      "dur: 1200. pix: 1, 43. Singles1: 476624. Singles2: 204209. Coincidence: 241.10. real_coin: 7.5.\n",
      "nan issue in timetagger\n",
      "dur: 1211. pix: 1, 44. Singles1: 476613. Singles2: 204258. Coincidence: 241.80. real_coin: 8.2.\n",
      "dur: 1232. pix: 1, 45. Singles1: 476672. Singles2: 203981. Coincidence: 242.90. real_coin: 9.5.\n",
      "dur: 1243. pix: 1, 46. Singles1: 476663. Singles2: 202333. Coincidence: 250.20. real_coin: 18.7.\n",
      "dur: 1254. pix: 1, 47. Singles1: 476993. Singles2: 203826. Coincidence: 281.20. real_coin: 47.9.\n",
      "dur: 1265. pix: 1, 48. Singles1: 476692. Singles2: 205700. Coincidence: 290.50. real_coin: 55.2.\n",
      "dur: 1276. pix: 1, 49. Singles1: 476852. Singles2: 207304. Coincidence: 278.00. real_coin: 40.8.\n",
      "dur: 1287. pix: 1, 50. Singles1: 476820. Singles2: 206856. Coincidence: 276.80. real_coin: 40.1.\n",
      "dur: 1298. pix: 1, 51. Singles1: 476555. Singles2: 208068. Coincidence: 285.40. real_coin: 47.4.\n",
      "dur: 1309. pix: 1, 52. Singles1: 476482. Singles2: 209355. Coincidence: 290.00. real_coin: 50.6.\n",
      "dur: 1320. pix: 1, 53. Singles1: 476370. Singles2: 207268. Coincidence: 288.20. real_coin: 51.2.\n",
      "dur: 1330. pix: 1, 54. Singles1: 476687. Singles2: 206043. Coincidence: 273.90. real_coin: 38.2.\n",
      "dur: 1341. pix: 1, 55. Singles1: 476453. Singles2: 207239. Coincidence: 272.30. real_coin: 35.3.\n",
      "dur: 1352. pix: 1, 56. Singles1: 477018. Singles2: 210073. Coincidence: 278.60. real_coin: 38.1.\n",
      "dur: 1363. pix: 1, 57. Singles1: 476398. Singles2: 201996. Coincidence: 268.40. real_coin: 37.4.\n",
      "dur: 1374. pix: 1, 58. Singles1: 476232. Singles2: 202718. Coincidence: 277.60. real_coin: 45.9.\n",
      "dur: 1385. pix: 1, 59. Singles1: 476574. Singles2: 204974. Coincidence: 272.80. real_coin: 38.4.\n",
      "dur: 1402. pix: 2, 0. Singles1: 477171. Singles2: 200224. Coincidence: 261.40. real_coin: 32.1.\n",
      "dur: 1413. pix: 2, 1. Singles1: 476602. Singles2: 201362. Coincidence: 264.70. real_coin: 34.4.\n",
      "dur: 1424. pix: 2, 2. Singles1: 476766. Singles2: 203540. Coincidence: 259.60. real_coin: 26.7.\n",
      "dur: 1435. pix: 2, 3. Singles1: 476578. Singles2: 203954. Coincidence: 255.60. real_coin: 22.3.\n",
      "dur: 1446. pix: 2, 4. Singles1: 476994. Singles2: 202057. Coincidence: 246.10. real_coin: 14.8.\n",
      "dur: 1457. pix: 2, 5. Singles1: 476407. Singles2: 203187. Coincidence: 247.80. real_coin: 15.5.\n",
      "dur: 1467. pix: 2, 6. Singles1: 476515. Singles2: 201953. Coincidence: 239.10. real_coin: 8.1.\n",
      "dur: 1478. pix: 2, 7. Singles1: 476754. Singles2: 199135. Coincidence: 239.90. real_coin: 12.0.\n",
      "dur: 1489. pix: 2, 8. Singles1: 476606. Singles2: 198982. Coincidence: 237.10. real_coin: 9.5.\n",
      "dur: 1500. pix: 2, 9. Singles1: 476821. Singles2: 198010. Coincidence: 235.80. real_coin: 9.2.\n",
      "dur: 1511. pix: 2, 10. Singles1: 476831. Singles2: 197351. Coincidence: 227.70. real_coin: 1.9.\n",
      "nan issue in timetagger\n",
      "dur: 1522. pix: 2, 11. Singles1: 476964. Singles2: 196042. Coincidence: 221.40. real_coin: -3.0.\n",
      "dur: 1543. pix: 2, 12. Singles1: 476377. Singles2: 195414. Coincidence: 237.80. real_coin: 14.4.\n",
      "dur: 1554. pix: 2, 13. Singles1: 476277. Singles2: 195281. Coincidence: 221.90. real_coin: -1.3.\n",
      "dur: 1565. pix: 2, 14. Singles1: 476730. Singles2: 196297. Coincidence: 229.80. real_coin: 5.2.\n",
      "dur: 1576. pix: 2, 15. Singles1: 476799. Singles2: 196901. Coincidence: 233.60. real_coin: 8.3.\n",
      "dur: 1587. pix: 2, 16. Singles1: 476531. Singles2: 197108. Coincidence: 249.40. real_coin: 24.0.\n",
      "nan issue in timetagger\n",
      "dur: 1598. pix: 2, 17. Singles1: 476787. Singles2: 195354. Coincidence: 253.70. real_coin: 30.2.\n",
      "dur: 1619. pix: 2, 18. Singles1: 476700. Singles2: 194660. Coincidence: 244.90. real_coin: 22.2.\n",
      "dur: 1630. pix: 2, 19. Singles1: 476650. Singles2: 192582. Coincidence: 254.50. real_coin: 34.2.\n",
      "dur: 1640. pix: 2, 20. Singles1: 476811. Singles2: 191727. Coincidence: 254.80. real_coin: 35.4.\n",
      "nan issue in timetagger\n",
      "dur: 1651. pix: 2, 21. Singles1: 476593. Singles2: 190463. Coincidence: 261.20. real_coin: 43.3.\n",
      "dur: 1672. pix: 2, 22. Singles1: 476493. Singles2: 191005. Coincidence: 249.90. real_coin: 31.5.\n",
      "dur: 1683. pix: 2, 23. Singles1: 476645. Singles2: 191869. Coincidence: 264.60. real_coin: 45.1.\n",
      "dur: 1694. pix: 2, 24. Singles1: 476264. Singles2: 193074. Coincidence: 259.40. real_coin: 38.7.\n",
      "nan issue in timetagger\n",
      "nan issue in timetagger\n",
      "dur: 1705. pix: 2, 25. Singles1: 476506. Singles2: 195314. Coincidence: 253.60. real_coin: 30.2.\n",
      "dur: 1736. pix: 2, 26. Singles1: 477017. Singles2: 193585. Coincidence: 260.10. real_coin: 38.5.\n",
      "dur: 1747. pix: 2, 27. Singles1: 476666. Singles2: 194026. Coincidence: 268.00. real_coin: 46.0.\n",
      "dur: 1758. pix: 2, 28. Singles1: 476408. Singles2: 194328. Coincidence: 258.30. real_coin: 36.1.\n",
      "dur: 1769. pix: 2, 29. Singles1: 476835. Singles2: 193844. Coincidence: 253.00. real_coin: 31.2.\n",
      "dur: 1780. pix: 2, 30. Singles1: 477231. Singles2: 193875. Coincidence: 236.00. real_coin: 13.9.\n",
      "dur: 1791. pix: 2, 31. Singles1: 476401. Singles2: 195070. Coincidence: 244.90. real_coin: 21.9.\n",
      "dur: 1802. pix: 2, 32. Singles1: 476787. Singles2: 196833. Coincidence: 250.10. real_coin: 24.9.\n",
      "dur: 1813. pix: 2, 33. Singles1: 476114. Singles2: 196027. Coincidence: 229.70. real_coin: 5.7.\n",
      "dur: 1824. pix: 2, 34. Singles1: 476749. Singles2: 196806. Coincidence: 236.40. real_coin: 11.2.\n",
      "dur: 1834. pix: 2, 35. Singles1: 476037. Singles2: 197840. Coincidence: 238.90. real_coin: 12.9.\n",
      "dur: 1845. pix: 2, 36. Singles1: 476185. Singles2: 200402. Coincidence: 233.80. real_coin: 4.8.\n",
      "dur: 1856. pix: 2, 37. Singles1: 477002. Singles2: 201106. Coincidence: 239.30. real_coin: 9.1.\n",
      "dur: 1867. pix: 2, 38. Singles1: 476039. Singles2: 199638. Coincidence: 230.20. real_coin: 2.1.\n",
      "dur: 1878. pix: 2, 39. Singles1: 476418. Singles2: 198318. Coincidence: 227.30. real_coin: 0.5.\n",
      "dur: 1889. pix: 2, 40. Singles1: 477065. Singles2: 198380. Coincidence: 228.10. real_coin: 1.0.\n",
      "dur: 1900. pix: 2, 41. Singles1: 476746. Singles2: 200669. Coincidence: 234.80. real_coin: 5.2.\n",
      "dur: 1911. pix: 2, 42. Singles1: 476726. Singles2: 202229. Coincidence: 242.90. real_coin: 11.5.\n",
      "dur: 1922. pix: 2, 43. Singles1: 476290. Singles2: 200486. Coincidence: 241.40. real_coin: 12.2.\n",
      "dur: 1933. pix: 2, 44. Singles1: 476857. Singles2: 202684. Coincidence: 243.30. real_coin: 11.3.\n",
      "dur: 1943. pix: 2, 45. Singles1: 477015. Singles2: 206441. Coincidence: 253.90. real_coin: 17.6.\n",
      "dur: 1954. pix: 2, 46. Singles1: 476724. Singles2: 206488. Coincidence: 270.40. real_coin: 34.1.\n",
      "dur: 1965. pix: 2, 47. Singles1: 476457. Singles2: 206036. Coincidence: 282.70. real_coin: 47.1.\n",
      "dur: 1976. pix: 2, 48. Singles1: 477135. Singles2: 204334. Coincidence: 273.90. real_coin: 39.9.\n",
      "dur: 1987. pix: 2, 49. Singles1: 476416. Singles2: 204946. Coincidence: 277.10. real_coin: 42.8.\n",
      "dur: 1998. pix: 2, 50. Singles1: 476575. Singles2: 205958. Coincidence: 279.30. real_coin: 43.7.\n",
      "dur: 2009. pix: 2, 51. Singles1: 476769. Singles2: 208031. Coincidence: 271.50. real_coin: 33.5.\n",
      "dur: 2020. pix: 2, 52. Singles1: 476278. Singles2: 207513. Coincidence: 271.20. real_coin: 34.0.\n",
      "dur: 2031. pix: 2, 53. Singles1: 476777. Singles2: 205740. Coincidence: 275.30. real_coin: 39.9.\n",
      "dur: 2042. pix: 2, 54. Singles1: 476585. Singles2: 205613. Coincidence: 272.80. real_coin: 37.6.\n",
      "dur: 2053. pix: 2, 55. Singles1: 476636. Singles2: 206336. Coincidence: 268.40. real_coin: 32.4.\n",
      "dur: 2063. pix: 2, 56. Singles1: 477040. Singles2: 206262. Coincidence: 269.60. real_coin: 33.5.\n",
      "dur: 2074. pix: 2, 57. Singles1: 476569. Singles2: 202804. Coincidence: 267.00. real_coin: 35.0.\n",
      "dur: 2085. pix: 2, 58. Singles1: 476622. Singles2: 203269. Coincidence: 261.00. real_coin: 28.5.\n",
      "dur: 2096. pix: 2, 59. Singles1: 476214. Singles2: 204566. Coincidence: 278.80. real_coin: 45.0.\n"
     ]
    }
   ],
   "source": [
    "# time.sleep(10)\n",
    "single1s, single2s, coincidences = scanner.scan(x_motor=x_motor, y_motor=y_motor, ph=tt)"
   ]
  },
  {
   "cell_type": "code",
   "execution_count": 27,
   "id": "ccecc422",
   "metadata": {},
   "outputs": [
    {
     "data": {
      "text/plain": [
       "(<Figure size 640x480 with 1 Axes>, <Axes: >)"
      ]
     },
     "execution_count": 27,
     "metadata": {},
     "output_type": "execute_result"
    }
   ],
   "source": [
    "mplot(scanner.result.real_coins.sum(axis=0))"
   ]
  },
  {
   "cell_type": "code",
   "execution_count": null,
   "id": "79c928e6",
   "metadata": {},
   "outputs": [],
   "source": [
    "x_motor.close()\n",
    "y_motor.close()\n",
    "ph.close()\n",
    "dmd.close()"
   ]
  },
  {
   "cell_type": "markdown",
   "id": "1206dc4f",
   "metadata": {},
   "source": [
    "## ASI cam "
   ]
  },
  {
   "cell_type": "code",
   "execution_count": null,
   "id": "d1db6ce0",
   "metadata": {},
   "outputs": [],
   "source": [
    "cam = ASICam()"
   ]
  },
  {
   "cell_type": "code",
   "execution_count": null,
   "id": "46fd2f5f",
   "metadata": {},
   "outputs": [],
   "source": [
    "path = r'G:\\My Drive\\Projects\\DMD\\quantum\\Results\\Callibrations'\n",
    "# cam.set_roi(4300, 2100, 500, 500)\n",
    "cam.set_exposure(3)\n",
    "cam.set_roi(None, None, None, None)\n",
    "cam.set_binning(4)\n",
    "# cam.show_image(vmin=None, vmax=None)\n",
    "cam.save_image(rf'{path}\\farfield_plane_yes_lens_75mm_f1_200mm.fits')"
   ]
  },
  {
   "cell_type": "code",
   "execution_count": null,
   "id": "e8c3edad",
   "metadata": {},
   "outputs": [],
   "source": [
    "cam.close()"
   ]
  },
  {
   "cell_type": "code",
   "execution_count": null,
   "id": "51082b8a",
   "metadata": {},
   "outputs": [],
   "source": [
    "# pump with f=75mm \n",
    "mask = np.ones(dmd.shape, dtype=np.uint8)\n",
    "mask[:200, :] = 0 \n",
    "mask[700:, :] = 0 \n",
    "mask[:, :350] = 0 \n",
    "mask[:, 600:] = 0 \n",
    "dmd.set_image(mask)"
   ]
  },
  {
   "cell_type": "code",
   "execution_count": null,
   "id": "e9b15bfe",
   "metadata": {},
   "outputs": [],
   "source": [
    "mask = np.ones(dmd.shape, dtype=np.uint8)\n",
    "# mask[:200, :] = 0 \n",
    "# mask[700:, :] = 0 \n",
    "# mask[:, :350] = 0 \n",
    "# mask[:, 600:] = 0 \n",
    "dmd.set_image(mask)"
   ]
  },
  {
   "cell_type": "code",
   "execution_count": null,
   "id": "3dc49c44",
   "metadata": {},
   "outputs": [],
   "source": [
    "r = 450\n",
    "X0 = 0\n",
    "Y0 = 0\n",
    "mask = np.zeros(dmd.shape, dtype=np.uint8)\n",
    "mask[np.sqrt((dmd.XX-X0)**2+(dmd.YY-Y0)**2) < r] = 1 \n",
    "dmd.set_image(mask)\n",
    "# mimshow(mask)"
   ]
  }
 ],
 "metadata": {
  "kernelspec": {
   "display_name": "Python 3",
   "language": "python",
   "name": "python3"
  },
  "language_info": {
   "codemirror_mode": {
    "name": "ipython",
    "version": 3
   },
   "file_extension": ".py",
   "mimetype": "text/x-python",
   "name": "python",
   "nbconvert_exporter": "python",
   "pygments_lexer": "ipython3",
   "version": "3.12.6"
  }
 },
 "nbformat": 4,
 "nbformat_minor": 5
}
