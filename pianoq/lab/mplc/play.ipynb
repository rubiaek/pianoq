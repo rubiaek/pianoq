{
 "cells": [
  {
   "metadata": {
    "ExecuteTime": {
     "end_time": "2024-09-25T06:55:42.749068Z",
     "start_time": "2024-09-25T06:55:42.711935Z"
    }
   },
   "cell_type": "code",
   "source": [
    "%load_ext autoreload\n",
    "%autoreload 2"
   ],
   "id": "816f7ad4c5e7184d",
   "outputs": [
    {
     "name": "stdout",
     "output_type": "stream",
     "text": [
      "The autoreload extension is already loaded. To reload it, use:\n",
      "  %reload_ext autoreload\n"
     ]
    }
   ],
   "execution_count": 1
  },
  {
   "metadata": {
    "ExecuteTime": {
     "end_time": "2024-09-25T06:55:46.543820Z",
     "start_time": "2024-09-25T06:55:45.958479Z"
    }
   },
   "cell_type": "code",
   "source": [
    "import matplotlib\n",
    "matplotlib.use('TKAgg')\n"
   ],
   "id": "a1709db9818569b1",
   "outputs": [],
   "execution_count": 2
  },
  {
   "metadata": {
    "ExecuteTime": {
     "end_time": "2024-08-07T08:35:12.498551Z",
     "start_time": "2024-08-07T08:35:11.715915Z"
    }
   },
   "cell_type": "code",
   "source": [
    "from pianoq.lab.mplc.mplc_device import MPLCDevice\n",
    "import matplotlib.pyplot as plt\n",
    "\n",
    "plt.close('all')\n",
    "m = MPLCDevice()\n",
    "m.load_slm_mask_from_path(r\"G:\\My Drive\\Ohad and Giora\\MPLC\\matlab codes\\Ronen stuff 17.7.24\\total_phase_mask.mat\")"
   ],
   "id": "8ae13121ac6e9cfb",
   "outputs": [],
   "execution_count": 5
  },
  {
   "metadata": {
    "ExecuteTime": {
     "end_time": "2024-08-07T08:38:18.991913Z",
     "start_time": "2024-08-07T08:38:18.924229Z"
    }
   },
   "cell_type": "code",
   "source": "m.close()",
   "id": "db38fa54e7e97808",
   "outputs": [],
   "execution_count": 10
  },
  {
   "metadata": {
    "ExecuteTime": {
     "end_time": "2024-09-25T06:56:18.661208Z",
     "start_time": "2024-09-25T06:56:05.726425Z"
    }
   },
   "cell_type": "code",
   "source": [
    "from pianoq.lab.mplc.mask_aligner import MPLCAligner\n",
    "ml = MPLCAligner(use_cam=False)"
   ],
   "id": "7a7d13e601949621",
   "outputs": [],
   "execution_count": 3
  },
  {
   "metadata": {
    "ExecuteTime": {
     "end_time": "2024-09-25T06:56:47.216318Z",
     "start_time": "2024-09-25T06:56:47.139993Z"
    }
   },
   "cell_type": "code",
   "source": [
    "display(ml.centers_x)\n",
    "display(ml.centers_y)"
   ],
   "id": "246c16dd045afcd0",
   "outputs": [
    {
     "data": {
      "text/plain": [
       "[132, 386, 639, 891, 1143, 1143, 890, 639, 386, 132]"
      ]
     },
     "metadata": {},
     "output_type": "display_data"
    },
    {
     "data": {
      "text/plain": [
       "[279, 278, 276, 272, 268, 765, 768, 771, 774, 775]"
      ]
     },
     "metadata": {},
     "output_type": "display_data"
    }
   ],
   "execution_count": 4
  },
  {
   "metadata": {
    "ExecuteTime": {
     "end_time": "2024-09-25T06:57:39.824724Z",
     "start_time": "2024-09-25T06:57:39.477772Z"
    }
   },
   "cell_type": "code",
   "source": [
    "ml.update('1to5w4f', '5to11w8', pi_steps_x=[0], pi_steps_plane=1)\n",
    "# ml.update('1to5w4f', '5to11w8', pi_steps_x=[132], pi_steps_plane=1)"
   ],
   "id": "3c37bfe9251c7b98",
   "outputs": [],
   "execution_count": 6
  },
  {
   "metadata": {
    "ExecuteTime": {
     "end_time": "2024-08-07T08:39:45.963587Z",
     "start_time": "2024-08-07T08:39:45.575072Z"
    }
   },
   "cell_type": "code",
   "source": "ml.update('1to5w4f', '5to11w8', pi_steps_y=[291], pi_steps_plane=1)",
   "id": "d835ceb63eb296d3",
   "outputs": [],
   "execution_count": 16
  }
 ],
 "metadata": {
  "kernelspec": {
   "display_name": "Python 3",
   "language": "python",
   "name": "python3"
  },
  "language_info": {
   "codemirror_mode": {
    "name": "ipython",
    "version": 2
   },
   "file_extension": ".py",
   "mimetype": "text/x-python",
   "name": "python",
   "nbconvert_exporter": "python",
   "pygments_lexer": "ipython2",
   "version": "2.7.6"
  }
 },
 "nbformat": 4,
 "nbformat_minor": 5
}
