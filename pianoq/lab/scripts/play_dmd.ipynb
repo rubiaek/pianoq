{
 "cells": [
  {
   "cell_type": "code",
   "execution_count": 1,
   "id": "dc6b79e8",
   "metadata": {},
   "outputs": [],
   "source": [
    "%load_ext autoreload\n",
    "%autoreload 2 \n",
    "import sys\n",
    "sys.path.append(r'G:\\My Drive\\Projects\\DMD\\ronen_things')"
   ]
  },
  {
   "cell_type": "code",
   "execution_count": 2,
   "id": "20d83785",
   "metadata": {},
   "outputs": [
    {
     "name": "stdout",
     "output_type": "stream",
     "text": [
      "Connected!\n",
      "Loaded image → 912×1140, bitDepth=1, channels=1\n",
      "Built project!\n"
     ]
    }
   ],
   "source": [
    "from dmd import DMD\n",
    "d = DMD(verbose=True)"
   ]
  },
  {
   "cell_type": "code",
   "execution_count": 60,
   "id": "cd527648",
   "metadata": {},
   "outputs": [],
   "source": [
    "d.set_image_from_path(r\"G:\\My Drive\\Projects\\DMD\\ronen old code\\black_dot.png\")"
   ]
  },
  {
   "cell_type": "code",
   "execution_count": 4,
   "id": "fc3aa675",
   "metadata": {},
   "outputs": [
    {
     "name": "stdout",
     "output_type": "stream",
     "text": [
      "set_grating(8): unique → [0 1]\n",
      "Loaded image → 912×1140, bitDepth=1, channels=1\n"
     ]
    }
   ],
   "source": [
    "d.set_grating(8) "
   ]
  },
  {
   "cell_type": "code",
   "execution_count": null,
   "id": "0e84d2e1",
   "metadata": {},
   "outputs": [],
   "source": [
    "from pianoq.lab.VimbaCamera import VimbaCamera\n",
    "cam = VimbaCamera(1)"
   ]
  },
  {
   "cell_type": "code",
   "execution_count": 17,
   "id": "bdfcaf34",
   "metadata": {},
   "outputs": [
    {
     "data": {
      "text/plain": [
       "array([[0., 0., 0., ..., 1., 0., 0.],\n",
       "       [0., 0., 0., ..., 0., 0., 1.],\n",
       "       [0., 0., 0., ..., 0., 1., 0.],\n",
       "       ...,\n",
       "       [1., 1., 1., ..., 0., 0., 1.],\n",
       "       [1., 1., 0., ..., 1., 1., 1.],\n",
       "       [1., 0., 1., ..., 0., 0., 0.]], shape=(1024, 1280))"
      ]
     },
     "execution_count": 17,
     "metadata": {},
     "output_type": "execute_result"
    }
   ],
   "source": [
    "cam.set_exposure_time(1000)\n",
    "# cam.show_image()\n",
    "cam.save_image(r'G:\\My Drive\\Projects\\DMD\\results\\2025-06-25\\open_pinhole_grating_12.cam')"
   ]
  },
  {
   "cell_type": "code",
   "execution_count": 12,
   "id": "2c544619",
   "metadata": {},
   "outputs": [
    {
     "name": "stdout",
     "output_type": "stream",
     "text": [
      "Loaded image → 912×1140, bitDepth=1, channels=1\n"
     ]
    }
   ],
   "source": [
    "R = 150\n",
    "circ = d.XX**2 + d.YY**2 < R**2\n",
    "d.set_image(~circ)"
   ]
  },
  {
   "cell_type": "code",
   "execution_count": 9,
   "id": "18252f35",
   "metadata": {},
   "outputs": [
    {
     "name": "stderr",
     "output_type": "stream",
     "text": [
      "C:\\Users\\owner\\AppData\\Local\\Temp\\ipykernel_19860\\1953076002.py:4: UserWarning: FigureCanvasAgg is non-interactive, and thus cannot be shown\n",
      "  fig.show()\n"
     ]
    },
    {
     "data": {
      "image/png": "[encoded data removed]",
      "text/plain": [
       "<Figure size 640x480 with 1 Axes>"
      ]
     },
     "metadata": {},
     "output_type": "display_data"
    }
   ],
   "source": [
    "import matplotlib.pyplot as plt \n",
    "fig, ax = plt.subplots()\n",
    "ax.imshow(circ)\n",
    "fig.show()"
   ]
  },
  {
   "cell_type": "code",
   "execution_count": 30,
   "id": "f22b8059",
   "metadata": {},
   "outputs": [
    {
     "name": "stdout",
     "output_type": "stream",
     "text": [
      "455\n",
      "-456\n",
      "912\n",
      "(1140, 912)\n"
     ]
    }
   ],
   "source": [
    "print(X[-1])\n",
    "print(X[0])\n",
    "print(len(X))\n",
    "print(d.shape)"
   ]
  },
  {
   "cell_type": "code",
   "execution_count": 20,
   "id": "9ce126f1",
   "metadata": {},
   "outputs": [],
   "source": [
    "d.close()"
   ]
  },
  {
   "cell_type": "code",
   "execution_count": 13,
   "id": "ba907143",
   "metadata": {},
   "outputs": [],
   "source": [
    "from dmd_slow import DMD"
   ]
  },
  {
   "cell_type": "code",
   "execution_count": 14,
   "id": "c5d1fd1a",
   "metadata": {},
   "outputs": [],
   "source": [
    "d = DMD()"
   ]
  },
  {
   "cell_type": "code",
   "execution_count": 19,
   "id": "41eac675",
   "metadata": {},
   "outputs": [],
   "source": [
    "d.set_image_from_path(r\"G:\\My Drive\\Projects\\DMD\\ronen old code\\bla.png\")"
   ]
  }
 ],
 "metadata": {
  "kernelspec": {
   "display_name": "Python 3",
   "language": "python",
   "name": "python3"
  },
  "language_info": {
   "codemirror_mode": {
    "name": "ipython",
    "version": 3
   },
   "file_extension": ".py",
   "mimetype": "text/x-python",
   "name": "python",
   "nbconvert_exporter": "python",
   "pygments_lexer": "ipython3",
   "version": "3.12.6"
  }
 },
 "nbformat": 4,
 "nbformat_minor": 5
}
