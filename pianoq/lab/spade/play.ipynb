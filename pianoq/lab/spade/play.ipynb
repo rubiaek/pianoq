{
 "cells": [
  {
   "cell_type": "code",
   "execution_count": 1,
   "metadata": {},
   "outputs": [
    {
     "name": "stderr",
     "output_type": "stream",
     "text": [
      "WARNING:root:ASI SDK library not found\n"
     ]
    },
    {
     "name": "stdout",
     "output_type": "stream",
     "text": [
      "can't import TimeTagger\n",
      "could not import ThorlabsRotatingServoMotor\n"
     ]
    }
   ],
   "source": [
    "%load_ext autoreload\n",
    "%autoreload 2\n",
    "# %matplotlib ipympl\n",
    "%matplotlib tk\n",
    "import sys\n",
    "sys.path.append(r'C:\\code\\pianoq')\n",
    "sys.path.append(r'C:\\code\\pianoq_results')\n",
    "import pianoq"
   ]
  },
  {
   "cell_type": "code",
   "execution_count": 6,
   "metadata": {},
   "outputs": [],
   "source": [
    "from pianoq.lab.VimbaCamera import VimbaCamera\n",
    "cam = VimbaCamera(0)"
   ]
  },
  {
   "cell_type": "code",
   "execution_count": 7,
   "metadata": {},
   "outputs": [
    {
     "data": {
      "text/plain": [
       "(<Figure size 640x480 with 2 Axes>, <Axes: >)"
      ]
     },
     "execution_count": 7,
     "metadata": {},
     "output_type": "execute_result"
    }
   ],
   "source": [
    "cam.set_exposure_time(400)\n",
    "cam.show_image()"
   ]
  },
  {
   "cell_type": "code",
   "execution_count": 8,
   "metadata": {},
   "outputs": [],
   "source": [
    "cam.close()"
   ]
  },
  {
   "cell_type": "code",
   "execution_count": 186,
   "metadata": {},
   "outputs": [],
   "source": [
    "from pianoq.lab.slm import SLMDevice\n",
    "slm = SLMDevice(10)\n",
    "slm2 = SLMDevice(11)\n",
    "import time\n",
    "time.sleep(0.5)\n",
    "slm.restore_position()\n",
    "slm2.restore_position()"
   ]
  },
  {
   "cell_type": "code",
   "execution_count": 189,
   "metadata": {},
   "outputs": [],
   "source": [
    "import numpy as np\n",
    "ones = np.ones((1024, 1272))\n",
    "zeros = np.zeros((1024, 1272))\n",
    "slm2.update_phase(zeros)"
   ]
  },
  {
   "cell_type": "code",
   "execution_count": 77,
   "metadata": {},
   "outputs": [],
   "source": [
    "# This does something not bad, probably what Dotan did.\n",
    "# Just a pi-step in the image plane, throwing high freqs, etc. \n",
    "slm2.pi_step(668) "
   ]
  },
  {
   "cell_type": "code",
   "execution_count": 190,
   "metadata": {},
   "outputs": [],
   "source": [
    "slm.close()\n",
    "slm2.close()"
   ]
  },
  {
   "cell_type": "code",
   "execution_count": 140,
   "metadata": {},
   "outputs": [],
   "source": [
    "slm.normal()\n",
    "slm2.normal()\n"
   ]
  },
  {
   "cell_type": "code",
   "execution_count": null,
   "metadata": {},
   "outputs": [],
   "source": [
    "slm.set_diffuser(1000) # So this is actually the farfield"
   ]
  },
  {
   "cell_type": "code",
   "execution_count": null,
   "metadata": {},
   "outputs": [],
   "source": [
    "# Diffuser test:\n",
    "# SLM - image plane (no effect)\n",
    "# SLM2 - FF plane  (yes effect)\n",
    "\n",
    "# pi step test:\n",
    "# SLM - FF plane (pi step does not work at all)\n",
    "# SLM2 - image plane (pi step works only at x=668 and not +- 30)\n",
    "\n",
    "# mirror test:\n",
    "# SLM - mirror does not work (?)\n",
    "# SLM2 - mirror does not work (?)\n",
    "\n",
    "# number test:\n",
    "# far awawy one - has 5 \n",
    "# closer one - has 0 \n",
    "\n",
    "# global phase test:\n",
    "# SLM - nothing \n",
    "# SLM2 - changes overall amplitude \n",
    "\n",
    "\n",
    "# ------------------------------------------------------------\n",
    "# 5 is on left display (Display Capture 2)\n",
    "# This is the SLM that we hit first (FF plane)\n",
    "# This is SLM regular, or SLMDevice(10)\n",
    "# SLM2 - image plane! \n",
    "\n",
    "# 0 is on right display (Display Capture 3)\n",
    "# This is the SLM that we hit second (Image plane) \n",
    "# This is SLM2 regular, or SLMDevice(11)\n",
    "# SLM - FF plane! \n",
    "\n",
    "# So, SLM2 is in the image plane"
   ]
  }
 ],
 "metadata": {
  "kernelspec": {
   "display_name": "Python 3",
   "language": "python",
   "name": "python3"
  },
  "language_info": {
   "codemirror_mode": {
    "name": "ipython",
    "version": 3
   },
   "file_extension": ".py",
   "mimetype": "text/x-python",
   "name": "python",
   "nbconvert_exporter": "python",
   "pygments_lexer": "ipython3",
   "version": "3.12.10"
  }
 },
 "nbformat": 4,
 "nbformat_minor": 2
}
