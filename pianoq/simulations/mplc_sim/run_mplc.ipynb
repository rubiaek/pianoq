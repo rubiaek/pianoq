{
 "cells": [
  {
   "cell_type": "code",
   "execution_count": 1,
   "metadata": {
    "collapsed": true
   },
   "outputs": [],
   "source": [
    "%matplotlib notebook\n",
    "import numpy as np\n",
    "import matplotlib.pyplot as plt\n",
    "from pianoq.simulations.mplc.mplc_modes import get_speckle_modes_conf, get_spots_modes_conf\n",
    "from pianoq.simulations.mplc.mplc_utils import get_lens_mask_conf\n",
    "from pianoq.simulations.mplc.mplc import MPLC"
   ]
  },
  {
   "cell_type": "markdown",
   "source": [
    "## Run MPLC"
   ],
   "metadata": {
    "collapsed": false
   }
  },
  {
   "cell_type": "code",
   "execution_count": 5,
   "outputs": [
    {
     "name": "stderr",
     "output_type": "stream",
     "text": [
      "100%|██████████| 15/15 [03:57<00:00, 15.83s/it]\n"
     ]
    }
   ],
   "source": [
    "short = False\n",
    "\n",
    "if short:\n",
    "    # prop_distances_after_plane[i] is distance between planes i and i+1 (counting from 0)\n",
    "    dist_after_plane = 87*np.ones(6)\n",
    "    dist_after_plane[4] = 138\n",
    "    active_planes = np.array([True] * 7)\n",
    "else:\n",
    "    dist_after_plane = 87*np.ones(10)\n",
    "    dist_after_plane[4] = 138\n",
    "    # Lense in plane 9 between 7 and 11. Allow phases freedom in plane 11 since I measure intensity\n",
    "    active_planes = np.array([True] * 11)\n",
    "    active_planes[7:10] = False  # [7,8,9] which is planes 8,9,10 (one before and after lens)\n",
    "\n",
    "\n",
    "N_modes = 15\n",
    "# All in mm\n",
    "conf = {'wavelength': 810e-6,  # mm\n",
    "        'dist_after_plane': dist_after_plane,  # mm\n",
    "        'active_planes': active_planes,  # bool\n",
    "        'N_iterations': 15,\n",
    "        'Nx': 140,  # Number of grid points x-axis\n",
    "        'Ny': 180,  # Number of grid points y-axis\n",
    "        'dx': 12.5e-3,  # mm - SLM pixel sizes\n",
    "        'dy': 12.5e-3,  # mm\n",
    "        'max_k_constraint': 0.15,  # Ohad: better than 0.1 or 0.2, but not very fine-tuned\n",
    "        'N_modes': N_modes,\n",
    "        'min_log_level': 2,\n",
    "        'size_factor': 3,  # assumed to be odd. Have physical larger grid than the actual SLM planes\n",
    "        'use_mask_offset': True,\n",
    "        }\n",
    "\n",
    "mplc = MPLC(conf=conf)\n",
    "# input_modes = get_spots_modes_conf(conf, sig=0.1, N_rows=N_N_modes, N_cols=N_N_modes, spacing=0.6)\n",
    "input_modes = get_speckle_modes_conf(conf, N_modes=N_modes, sig=0.25, diffuser_pix_size=0.05, active_slice=mplc.res.active_slice)\n",
    "output_modes = get_speckle_modes_conf(conf, N_modes=len(input_modes), sig=0.25, diffuser_pix_size=0.05, active_slice=mplc.res.active_slice)\n",
    "mplc.set_modes(input_modes, output_modes)\n",
    "\n",
    "if not short:\n",
    "    mplc.res.masks[8][mplc.res.active_slice] = get_lens_mask_conf(conf, f=2*87)[mplc.res.active_slice]\n",
    "\n",
    "mplc.find_phases(show_mean_fidelities=False)"
   ],
   "metadata": {
    "collapsed": false
   }
  },
  {
   "cell_type": "code",
   "execution_count": 6,
   "outputs": [],
   "source": [
    "mplc.res.saveto(\"C:\\\\temp\\\\speckle_speckle4.mplc\", smaller=True)"
   ],
   "metadata": {
    "collapsed": false
   }
  },
  {
   "cell_type": "code",
   "execution_count": null,
   "outputs": [],
   "source": [
    "%matplotlib notebook\n",
    "from pianoq.simulations.mplc.mplc_result import MPLCResult\n",
    "res = MPLCResult()\n",
    "res.loadfrom(\"C:\\\\temp\\\\speckle_speckle1.mplc\")"
   ],
   "metadata": {
    "collapsed": false
   }
  },
  {
   "cell_type": "code",
   "execution_count": null,
   "outputs": [],
   "source": [
    "%matplotlib notebook\n",
    "res = mplc.res"
   ],
   "metadata": {
    "collapsed": false
   }
  },
  {
   "cell_type": "code",
   "execution_count": null,
   "outputs": [],
   "source": [
    "%matplotlib notebook\n",
    "res.show_all(0)\n",
    "\n",
    "import matplotlib.pyplot as plt\n",
    "plt.plot([1,2,3], [2,4,5])"
   ],
   "metadata": {
    "collapsed": false
   }
  }
 ],
 "metadata": {
  "kernelspec": {
   "display_name": "Python 3",
   "language": "python",
   "name": "python3"
  },
  "language_info": {
   "codemirror_mode": {
    "name": "ipython",
    "version": 2
   },
   "file_extension": ".py",
   "mimetype": "text/x-python",
   "name": "python",
   "nbconvert_exporter": "python",
   "pygments_lexer": "ipython2",
   "version": "2.7.6"
  }
 },
 "nbformat": 4,
 "nbformat_minor": 0
}
