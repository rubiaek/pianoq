{
 "cells": [
  {
   "cell_type": "code",
   "execution_count": 2,
   "metadata": {
    "ExecuteTime": {
     "end_time": "2024-09-03T12:14:30.574114Z",
     "start_time": "2024-09-03T12:14:29.663950Z"
    }
   },
   "outputs": [
    {
     "name": "stdout",
     "output_type": "stream",
     "text": [
      "The autoreload extension is already loaded. To reload it, use:\n",
      "  %reload_ext autoreload\n"
     ]
    }
   ],
   "source": [
    "import datetime\n",
    "\n",
    "%load_ext autoreload\n",
    "%autoreload 2\n",
    "%matplotlib inline\n",
    "import numpy as np\n",
    "import matplotlib.pyplot as plt\n",
    "from pianoq.simulations.mplc_sim.mplc_modes import get_speckle_modes_conf, get_spots_modes_conf\n",
    "from pianoq.simulations.mplc_sim.mplc_utils import get_lens_mask_conf, get_lens_mask\n",
    "from pianoq.simulations.mplc_sim.mplc_sim import MPLCSim\n",
    "from pianoq.simulations.mplc_sim.mplc_modes2 import gen_input_spots_array"
   ]
  },
  {
   "cell_type": "markdown",
   "metadata": {
    "collapsed": false,
    "jupyter": {
     "outputs_hidden": false
    }
   },
   "source": [
    "# Run MPLC"
   ]
  },
  {
   "cell_type": "markdown",
   "metadata": {},
   "source": [
    "## parameters"
   ]
  },
  {
   "cell_type": "code",
   "execution_count": 3,
   "metadata": {
    "ExecuteTime": {
     "end_time": "2024-09-03T12:14:38.234226Z",
     "start_time": "2024-09-03T12:14:34.459613Z"
    }
   },
   "outputs": [],
   "source": [
    "# All in m\n",
    "\n",
    "dist_after_plane = 87e-3*np.ones(10)\n",
    "dist_after_plane[4] = 138e-3\n",
    "# Lense in plane 9 between 7 and 11. Allow phases freedom in plane 11 since I measure intensity\n",
    "active_planes = np.array([True] * 11)\n",
    "active_planes[7:10] = False  # [7,8,9] which is planes 8,9,10 (one before and after lens)\n",
    "\n",
    "N_modes = 16  # for photons 1 and 2, 4 spots to speckle and 4 speckles to spots (4+4)*2 = 16\n",
    "# All in mm\n",
    "conf = {'wavelength': 810e-9,  # m\n",
    "        'dist_after_plane': dist_after_plane,  # m\n",
    "        'active_planes': active_planes,  # bool\n",
    "        'N_iterations': 15,\n",
    "        'Nx': 140,  # Number of grid points x-axis\n",
    "        'Ny': 360,  # Number of grid points y-axis\n",
    "        'dx': 12.5e-6,  # m - SLM pixel sizes\n",
    "        'dy': 12.5e-6,  # m\n",
    "        'max_k_constraint': 0.15,  # Ohad: better than 0.1 or 0.2, but not very fine-tuned\n",
    "        'N_modes': N_modes,\n",
    "        'min_log_level': 2,\n",
    "        'size_factor': 3,  # assumed to be odd. Have physical larger grid than the actual SLM planes\n",
    "        'use_mask_offset': True,\n",
    "        }\n",
    "\n",
    "\n",
    "# Spot params\n",
    "waist_in = 80e-6\n",
    "waist_out = 80e-6\n",
    "D_between_modes_in = 300e-6\n",
    "D_between_modes_out = 360e-6\n",
    "dim=5\n",
    "# modes are ordered like this: lab/mplc/mask_utils.py\n",
    "which_modes = np.array([7, 17, 9, 19,\n",
    "                        32, 42, 34, 44])\n",
    "\n",
    "mplc = MPLCSim(conf=conf)\n",
    "input_spots, _, _ = gen_input_spots_array(waist=waist_in, D_between_modes=D_between_modes_in, XX=mplc.XX, YY=mplc.YY, dim=dim)\n",
    "input_spots = input_spots[which_modes]\n",
    "output_spots, _, _ = gen_input_spots_array(waist=waist_out, D_between_modes=D_between_modes_out, XX=mplc.XX, YY=mplc.YY, dim=dim)\n",
    "output_spots = output_spots[which_modes]\n",
    "\n",
    "# This here is for different diffusers for the two photons.\n",
    "upper_active_slice = np.index_exp[360+30:360+180-15, 160:260]\n",
    "upper_active_slice = None \n",
    "upper_speckles = get_speckle_modes_conf(conf, N_modes=8, sig=0.48e-3, diffuser_pix_size=0.15e-3, active_slice=upper_active_slice, y_displace=72)\n",
    "lower_active_slice = np.index_exp[360+180+15:360+180+150, 160:260]\n",
    "lower_active_slice = None \n",
    "lower_speckles = get_speckle_modes_conf(conf, N_modes=8, sig=0.48e-3, diffuser_pix_size=0.15e-3, active_slice=lower_active_slice, y_displace=-72)\n",
    "\n",
    "# lower number spots are for lower half of SLM speckles\n",
    "input_modes = np.concatenate([input_spots, lower_speckles[:4], upper_speckles[:4]])\n",
    "output_modes = np.concatenate([lower_speckles[4:], upper_speckles[4:], output_spots])\n",
    "\n",
    "# For same diffusers for both photons we need to generate the same speckles + correct flips between upper and lower halves "
   ]
  },
  {
   "cell_type": "markdown",
   "metadata": {},
   "source": [
    "Visualize input and output modes"
   ]
  },
  {
   "cell_type": "code",
   "execution_count": null,
   "metadata": {
    "ExecuteTime": {
     "end_time": "2024-09-03T12:14:38.421953Z",
     "start_time": "2024-09-03T12:14:38.260374Z"
    }
   },
   "outputs": [],
   "source": [
    "plt.close('all')\n",
    "i = 8\n",
    "im_in = input_modes[i]\n",
    "im_out = output_modes[i]\n",
    "fig, axes = plt.subplots(1, 2)\n",
    "axes[0].imshow((np.abs(im_in)**2)[mplc.res.active_slice])\n",
    "axes[1].imshow((np.abs(im_out)**2)[mplc.res.active_slice])"
   ]
  },
  {
   "cell_type": "markdown",
   "metadata": {},
   "source": [
    "Run MPLC "
   ]
  },
  {
   "cell_type": "code",
   "execution_count": 5,
   "metadata": {
    "ExecuteTime": {
     "end_time": "2024-09-03T12:18:46.093097Z",
     "start_time": "2024-09-03T12:15:01.741536Z"
    }
   },
   "outputs": [
    {
     "name": "stderr",
     "output_type": "stream",
     "text": [
      "100%|██████████| 15/15 [04:43<00:00, 18.88s/it]\n"
     ]
    }
   ],
   "source": [
    "mplc.set_modes(input_modes, output_modes)\n",
    "lens_mask = get_lens_mask(Nx=conf['Nx'], Ny=conf['Ny']//2, dx=conf['dx'], dy=conf['dy'], wl=mplc.wavelength, f=2*87e-3)\n",
    "mplc.res.masks[8][mplc.res.active_slice] = np.vstack((lens_mask, lens_mask))\n",
    "mplc.find_phases(fix_initial_phases=False)  # ovelaping speckles, can't use fix_initial_phases "
   ]
  },
  {
   "cell_type": "code",
   "execution_count": 6,
   "metadata": {
    "ExecuteTime": {
     "end_time": "2024-09-03T12:18:57.374213Z",
     "start_time": "2024-09-03T12:18:51.208916Z"
    }
   },
   "outputs": [
    {
     "data": {
      "text/plain": [
       "0.08263213822520549"
      ]
     },
     "execution_count": 6,
     "metadata": {},
     "output_type": "execute_result"
    }
   ],
   "source": [
    "mplc.res._calc_fidelity()\n",
    "mplc.res.fidelity"
   ]
  },
  {
   "cell_type": "code",
   "execution_count": null,
   "metadata": {
    "ExecuteTime": {
     "end_time": "2024-09-03T12:18:58.718183Z",
     "start_time": "2024-09-03T12:18:58.497247Z"
    }
   },
   "outputs": [],
   "source": [
    "fig, axes = plt.subplots(2, 5)\n",
    "for i, ax in enumerate(axes.flat):\n",
    "    # ax.imshow(np.angle(res.masks[i][360:720, 140:280]), cmap='gray')\n",
    "    ax.imshow(np.angle(mplc.res.masks[i][360:720, 140:280]), cmap='gray')"
   ]
  },
  {
   "cell_type": "code",
   "execution_count": null,
   "metadata": {},
   "outputs": [],
   "source": [
    "mplc.res.show_overlap()"
   ]
  },
  {
   "cell_type": "code",
   "execution_count": 9,
   "metadata": {
    "ExecuteTime": {
     "end_time": "2024-09-03T13:05:24.693401Z",
     "start_time": "2024-09-03T13:05:23.275396Z"
    },
    "collapsed": false,
    "jupyter": {
     "outputs_hidden": false
    }
   },
   "outputs": [],
   "source": [
    "timestamp = datetime.datetime.now().strftime('%Y_%m_%d_%H_%M_%S')\n",
    "path = f\"C:\\\\temp\\\\mplcs\\\\{timestamp}_diffuser.mplc\"\n",
    "masks_path = fr\"G:\\My Drive\\Projects\\MPLC\\results\\simulations\\masks\\{timestamp}_diffuser.masks\"\n",
    "# mplc.res.saveto(path, smaller=True)\n",
    "mplc.res.save_masks(masks_path)"
   ]
  },
  {
   "cell_type": "code",
   "execution_count": null,
   "metadata": {
    "ExecuteTime": {
     "end_time": "2024-09-03T10:38:24.715079Z",
     "start_time": "2024-09-03T10:38:23.869778Z"
    }
   },
   "outputs": [],
   "source": [
    "mplc.res.show_all()\n",
    "plt.show()"
   ]
  },
  {
   "cell_type": "markdown",
   "metadata": {},
   "source": [
    "# FOO "
   ]
  },
  {
   "cell_type": "code",
   "execution_count": null,
   "metadata": {
    "collapsed": false,
    "jupyter": {
     "outputs_hidden": false
    }
   },
   "outputs": [],
   "source": [
    "%matplotlib notebook\n",
    "from pianoq.simulations.mplc_sim.mplc_sim_result import MPLCSimResult\n",
    "res = MPLCSimResult()\n",
    "res.loadfrom(\"C:\\\\temp\\\\speckle_speckle1.mplc\")"
   ]
  },
  {
   "cell_type": "code",
   "execution_count": null,
   "metadata": {
    "collapsed": false,
    "jupyter": {
     "outputs_hidden": false
    }
   },
   "outputs": [],
   "source": [
    "%matplotlib notebook\n",
    "res = mplc.res"
   ]
  },
  {
   "cell_type": "code",
   "execution_count": null,
   "metadata": {
    "collapsed": false,
    "jupyter": {
     "outputs_hidden": false
    }
   },
   "outputs": [],
   "source": [
    "%matplotlib notebook\n",
    "res.show_all(0)\n",
    "\n",
    "import matplotlib.pyplot as plt\n",
    "plt.plot([1,2,3], [2,4,5])"
   ]
  },
  {
   "cell_type": "code",
   "execution_count": 23,
   "metadata": {
    "ExecuteTime": {
     "end_time": "2024-09-03T11:17:32.139313Z",
     "start_time": "2024-09-03T11:17:31.915514Z"
    }
   },
   "outputs": [],
   "source": [
    "from pianoq.simulations.mplc_sim.mplc_sim_result import MPLCMasks\n",
    "m = MPLCMasks()\n",
    "m.loadfrom(r\"C:\\temp\\mplcs\\2024_09_03_14_14_18_diffuser.masks\")\n",
    "\n",
    "fig, axes = plt.subplots(2, 5)\n",
    "for i, ax in enumerate(axes.flat):\n",
    "    ax.imshow(np.angle(m.masks[i]), cmap='gray')"
   ]
  }
 ],
 "metadata": {
  "kernelspec": {
   "display_name": "Python 3 (ipykernel)",
   "language": "python",
   "name": "python3"
  },
  "language_info": {
   "codemirror_mode": {
    "name": "ipython",
    "version": 3
   },
   "file_extension": ".py",
   "mimetype": "text/x-python",
   "name": "python",
   "nbconvert_exporter": "python",
   "pygments_lexer": "ipython3",
   "version": "3.11.2"
  }
 },
 "nbformat": 4,
 "nbformat_minor": 4
}
