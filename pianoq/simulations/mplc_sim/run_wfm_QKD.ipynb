{
 "cells": [
  {
   "cell_type": "code",
   "metadata": {},
   "source": [
    "%load_ext autoreload\n",
    "%autoreload 2\n",
    "%matplotlib ipympl\n",
    "import numpy as np\n",
    "import matplotlib.pyplot as plt\n",
    "from pianoq.simulations.mplc_sim.mplc_sim import MPLCSim\n",
    "from pianoq.simulations.mplc_sim.mplc_modes2 import gen_input_spots_array, gen_output_modes_Unitary"
   ],
   "outputs": [],
   "execution_count": null
  },
  {
   "cell_type": "markdown",
   "metadata": {
    "collapsed": false,
    "jupyter": {
     "outputs_hidden": false
    }
   },
   "source": [
    "## Run MPLC to generate QKD masks like Ohad"
   ]
  },
  {
   "cell_type": "markdown",
   "metadata": {
    "collapsed": false,
    "jupyter": {
     "outputs_hidden": false
    }
   },
   "source": [
    "### Parameters"
   ]
  },
  {
   "cell_type": "code",
   "metadata": {
    "collapsed": false,
    "jupyter": {
     "outputs_hidden": false
    }
   },
   "source": [
    "# All in m\n",
    "\n",
    "# dist_after_plane[i] is distance between planes i and i+1 (counting from 0)\n",
    "dist_after_plane = 87e-3*np.ones(10)\n",
    "dist_after_plane[4] = 138e-3\n",
    "active_planes = np.array([True] * 11)\n",
    "\n",
    "waist_in = 80e-6\n",
    "waist_out = 45e-6\n",
    "D_between_modes_in = 300e-6\n",
    "D_between_modes_out = 360e-6\n",
    "\n",
    "dim=5\n",
    "\"\"\"\n",
    "modes are ordered like this (but one based, so do minus one):\n",
    "25 20 15 10 5 \n",
    "24 19 14 9  4 \n",
    "23 18 13 8  3 \n",
    "22 17 12 7  2 \n",
    "21 16 11 6  1 \n",
    "\n",
    "26 31 36 41 46\n",
    "27 32 37 42 47\n",
    "28 33 38 43 48\n",
    "29 34 39 44 49\n",
    "30 35 40 45 50 \n",
    "\"\"\"\n",
    "which_modes = np.array([ 2,  7, 12, 17, 22, \n",
    "                        27, 32, 37, 42, 47])\n",
    "\n",
    "which_modes_out = np.array([10, 11, 12, 13, 14,\n",
    "                            35, 36, 37, 38, 39])\n",
    "\n",
    "#  Based on \"All Mutually Unbiased Bases in Dimensions Two to Five\" (2018)\n",
    "#  The columns in the matrix are the basis elements\n",
    "q = np.exp(2j * np.pi / 5)  # Complex fifth root of unity\n",
    "MUB = np.array([\n",
    "    [1, 1, 1, 1, 1],\n",
    "    [1, q, q**2, q**3, q**4],\n",
    "    [1, q**2, q**4, q, q**3],\n",
    "    [1, q**3, q, q**4, q**2],\n",
    "    [1, q**4, q**3, q**2, q]\n",
    "]) / np.sqrt(5)  # eq. 33\n",
    "\n",
    "Matrix_trans1 = MUB.conj().T  # To measure in X basis, we need to act with X^dag on the state\n",
    "zeros_mat = np.zeros((5, 5))\n",
    "full_transformation = np.block([[Matrix_trans1, zeros_mat],\n",
    "                                [zeros_mat, np.conj(Matrix_trans1)]])  # [DFT,0; 0, iDFT] final matrix. the conj in bottom right is for correlation to be on identity\n",
    "\n",
    "N_modes = 10\n",
    "# All in mm\n",
    "conf = {'wavelength': 810e-9,  # mm\n",
    "        'dist_after_plane': dist_after_plane,  # mm\n",
    "        'active_planes': active_planes,  # bool\n",
    "        'N_iterations': 30,\n",
    "        'Nx': 140,  # Number of grid points x-axis\n",
    "        'Ny': 360,  # Number of grid points y-axis\n",
    "        'dx': 12.5e-6,  # mm - SLM pixel sizes\n",
    "        'dy': 12.5e-6,  # mm\n",
    "        'max_k_constraint': 0.15,  # Ohad: better than 0.1 or 0.2, but not very fine-tuned\n",
    "        'N_modes': N_modes,\n",
    "        'min_log_level': 2,\n",
    "        'size_factor': 3,  # assumed to be odd. Have physical larger grid than the actual SLM planes\n",
    "        'use_mask_offset': True,\n",
    "        'symmetric_masks': False\n",
    "        }\n"
   ],
   "outputs": [],
   "execution_count": null
  },
  {
   "cell_type": "code",
   "metadata": {
    "collapsed": false,
    "jupyter": {
     "outputs_hidden": false
    }
   },
   "source": [
    "mplc = MPLCSim(conf=conf)\n",
    "# input_modes = get_spots_modes_conf(conf, sig=0.1, N_rows=N_N_modes, N_cols=N_N_modes, spacing=0.6)\n",
    "input_spots, x_modes_in, y_modes_in = gen_input_spots_array(waist=waist_in, D_between_modes=D_between_modes_in, XX=mplc.XX, YY=mplc.YY, dim=dim)\n",
    "input_modes = input_spots[which_modes]\n",
    "x_modes_in = x_modes_in[which_modes]\n",
    "y_modes_in = y_modes_in[which_modes]\n",
    "\n",
    "output_modes, phase_pos_x, phase_pos_y = gen_output_modes_Unitary(waist_out, D_between_modes_out, mplc.XX, mplc.YY, full_transformation, dim, which_modes_out)"
   ],
   "outputs": [],
   "execution_count": null
  },
  {
   "metadata": {},
   "cell_type": "markdown",
   "source": "## View input/output modes "
  },
  {
   "metadata": {},
   "cell_type": "code",
   "source": [
    "fig, ax = plt.subplots()\n",
    "imm = ax.imshow((np.abs(output_modes)**2).sum(axis=0)[360:720, 140:280], origin='lower')\n",
    "fig.colorbar(imm, ax=ax)"
   ],
   "outputs": [],
   "execution_count": null
  },
  {
   "metadata": {},
   "cell_type": "code",
   "source": [
    "fig, ax = plt.subplots()\n",
    "imm = ax.imshow((np.abs(input_modes)**2).sum(axis=0)[360:720, 140:280], origin='lower')\n",
    "fig.colorbar(imm, ax=ax)"
   ],
   "outputs": [],
   "execution_count": null
  },
  {
   "metadata": {},
   "cell_type": "markdown",
   "source": "## Run MPLC "
  },
  {
   "cell_type": "code",
   "metadata": {
    "collapsed": false,
    "jupyter": {
     "outputs_hidden": false
    }
   },
   "source": [
    "mplc.set_modes(input_modes, output_modes)\n",
    "mplc.find_phases(iterations=5, fix_initial_phases=True)\n",
    "mplc.res._calc_normalized_overlap()\n",
    "mplc.res._calc_fidelity()"
   ],
   "outputs": [],
   "execution_count": null
  },
  {
   "metadata": {},
   "cell_type": "markdown",
   "source": "## View fidelity and overlap matrix"
  },
  {
   "cell_type": "code",
   "metadata": {},
   "source": [
    "display(mplc.res.fidelity)\n",
    "mplc.res.show_overlap()"
   ],
   "outputs": [],
   "execution_count": null
  },
  {
   "metadata": {},
   "cell_type": "markdown",
   "source": "## View masks "
  },
  {
   "metadata": {},
   "cell_type": "code",
   "source": [
    "fig, axes = plt.subplots(2, 5)\n",
    "for i, ax in enumerate(axes.flat):\n",
    "    # ax.imshow(np.angle(res.masks[i][360:720, 140:280]), cmap='gray')\n",
    "    ax.imshow(np.angle(mplc.res.masks[i][360:720, 140:280]), cmap='gray')"
   ],
   "outputs": [],
   "execution_count": null
  },
  {
   "metadata": {},
   "cell_type": "markdown",
   "source": "## View masks and propagation"
  },
  {
   "metadata": {},
   "cell_type": "code",
   "source": "mplc.res.show_all(7)",
   "outputs": [],
   "execution_count": null
  },
  {
   "metadata": {},
   "cell_type": "markdown",
   "source": "## Save results "
  },
  {
   "metadata": {},
   "cell_type": "code",
   "source": [
    "mplc.res.saveto(\"C:\\\\temp\\\\QKD1.mplc\", smaller=True)\n",
    "mplc.res.save_masks(\"C:\\\\temp\\\\QKD1.masks\")"
   ],
   "outputs": [],
   "execution_count": null
  },
  {
   "metadata": {},
   "cell_type": "markdown",
   "source": "# Old ignore me "
  },
  {
   "cell_type": "code",
   "metadata": {},
   "source": [
    "input_spots, x_modes_in, y_modes_in = gen_input_spots_array(waist=waist_in, D_between_modes=D_between_modes_in, XX=mplc.XX, YY=mplc.YY, dim=dim)\n",
    "fig, ax = plt.subplots()\n",
    "ax.imshow((np.abs(input_spots.sum(axis=0))**2))"
   ],
   "outputs": [],
   "execution_count": null
  },
  {
   "cell_type": "code",
   "metadata": {
    "collapsed": false,
    "jupyter": {
     "outputs_hidden": false
    }
   },
   "source": [
    "path = r'G:\\My Drive\\People\\Ronen\\PHD\\MPLC\\results\\2024_11_08_13_11_11_QKD_row3\\mrss_wfm.masks'\n",
    "mplc.res.save_masks(path)"
   ],
   "outputs": [],
   "execution_count": null
  },
  {
   "cell_type": "code",
   "metadata": {
    "collapsed": false,
    "jupyter": {
     "outputs_hidden": false
    }
   },
   "source": [
    "fig, axes = plt.subplots(2, 5)\n",
    "for i, ax in enumerate(axes.flat):\n",
    "    # ax.imshow(np.angle(res.masks[i][360:720, 140:280]), cmap='gray')\n",
    "    ax.imshow(np.angle(mplc.res.masks[i][360:720, 140:280]), cmap='gray')"
   ],
   "outputs": [],
   "execution_count": null
  },
  {
   "cell_type": "code",
   "metadata": {
    "collapsed": false,
    "jupyter": {
     "outputs_hidden": false
    }
   },
   "source": [
    "mplc.res.saveto(\"C:\\\\temp\\\\QKD1.mplc\", smaller=True)"
   ],
   "outputs": [],
   "execution_count": null
  },
  {
   "cell_type": "code",
   "metadata": {
    "collapsed": false,
    "jupyter": {
     "outputs_hidden": false
    }
   },
   "source": [
    "from pianoq.simulations.mplc_sim.mplc_sim_result import MPLCSimResult\n",
    "res = MPLCSimResult()\n",
    "res.loadfrom(\"C:\\\\temp\\\\QKD1.mplc\")"
   ],
   "outputs": [],
   "execution_count": null
  },
  {
   "cell_type": "code",
   "metadata": {
    "collapsed": false,
    "jupyter": {
     "outputs_hidden": false
    }
   },
   "source": "mplc.res.show_all(7)",
   "outputs": [],
   "execution_count": null
  },
  {
   "cell_type": "markdown",
   "metadata": {
    "collapsed": false,
    "jupyter": {
     "outputs_hidden": false
    }
   },
   "source": [
    "### test against matlab modes"
   ]
  },
  {
   "cell_type": "code",
   "metadata": {
    "collapsed": false,
    "jupyter": {
     "outputs_hidden": false
    }
   },
   "source": [
    "from pianoq.misc.mplt import *\n",
    "import scipy.io\n",
    "data = scipy.io.loadmat(r\"G:\\My Drive\\Ohad and Giora\\MPLC\\matlab codes\\Ronen stuff 17.7.24\\WFM stuff\\Masks_31_10_23_QKD5d_MUB2_mm_33_3_conjbases.mat\")\n",
    "in_modes_matlab = data['SPOTS']\n",
    "out_modes_matlab = data['MODES']\n",
    "flag = False\n",
    "if flag:\n",
    "    fig, axes = plt.subplots(1, 3)\n",
    "    axes[0].imshow(np.abs(in_modes_matlab[0])**2)\n",
    "    axes[1].imshow(np.abs(input_modes[0])**2)\n",
    "    axes[2].imshow(np.abs(input_modes[0] - in_modes_matlab[0])**2)\n",
    "# mimshow(in_modes_matlab[0] == input_modes[0])\n",
    "np.abs(out_modes_matlab - output_modes).sum() # is ~1e-13 which means it is only floating point issues\n",
    "\n",
    "display((data['X'] - mplc.XX).max())  # again not idenical, but the same up to rounding errors\n",
    "display(mplc.XX[0,0], mplc.XX[-1, -1])"
   ],
   "outputs": [],
   "execution_count": null
  },
  {
   "cell_type": "code",
   "metadata": {
    "collapsed": false,
    "jupyter": {
     "outputs_hidden": false
    }
   },
   "source": [
    "data = scipy.io.loadmat(r\"G:\\My Drive\\Ohad and Giora\\MPLC\\matlab codes\\Ronen stuff 17.7.24\\WFM stuff\\k_space_vars.mat\")\n",
    "fig, axes = plt.subplots(1, 3)\n",
    "axes[0].imshow(data['k_constraint'])\n",
    "axes[1].imshow(mplc.k_constraint)\n",
    "axes[2].imshow(mplc.k_constraint - data['k_constraint'])\n",
    "# ax.plot(range(len(mplc.freq_y)), data['v_y'].squeeze(), '.')\n",
    "# ax.plot(range(len(mplc.freq_y)), mplc.freq_y, '.')\n",
    "# ax.plot(data['v_y'].squeeze() - mplc.freq_y)\n",
    "# print(data['v_y'].squeeze()[0])\n",
    "# print(mplc.freq_y[0])\n"
   ],
   "outputs": [],
   "execution_count": null
  },
  {
   "cell_type": "code",
   "metadata": {
    "collapsed": false,
    "jupyter": {
     "outputs_hidden": false
    }
   },
   "source": [
    "data = scipy.io.loadmat(r\"G:\\My Drive\\Ohad and Giora\\MPLC\\matlab codes\\Ronen stuff 17.7.24\\WFM stuff\\freespace.mat\")\n",
    "H_mat = data['H']\n",
    "H_py = np.exp(+1j * mplc.k_z_mat * 87e-3)\n",
    "\n",
    "fig, axes = plt.subplots(1, 3)\n",
    "imm = axes[0].imshow(np.angle(H_mat))\n",
    "fig.colorbar(imm, ax=axes[0])\n",
    "imm = axes[1].imshow(np.angle(H_py))\n",
    "fig.colorbar(imm, ax=axes[1])\n",
    "imm = axes[2].imshow(np.angle(H_py) - np.angle(H_mat))\n",
    "fig.colorbar(imm, ax=axes[2])"
   ],
   "outputs": [],
   "execution_count": null
  },
  {
   "cell_type": "code",
   "metadata": {
    "collapsed": false,
    "jupyter": {
     "outputs_hidden": false
    }
   },
   "source": [
    "mplc.res.active_slice"
   ],
   "outputs": [],
   "execution_count": null
  },
  {
   "cell_type": "code",
   "metadata": {
    "collapsed": false,
    "jupyter": {
     "outputs_hidden": false
    }
   },
   "source": [
    "mat_masks = scipy.io.loadmat(r\"G:\\My Drive\\Ohad and Giora\\MPLC\\matlab codes\\Ronen stuff 17.7.24\\WFM stuff\\Masks_31_10_23_QKD5d_MUB2_mm_33_3_conjbases.mat\")['MASKS'][:, 360:720, 140:280]\n",
    "py_masks = mplc.res.masks[:, 360:720, 140:280]\n",
    "mat_masks = np.angle(mat_masks)\n",
    "py_masks = np.angle(py_masks)"
   ],
   "outputs": [],
   "execution_count": null
  },
  {
   "cell_type": "code",
   "metadata": {
    "collapsed": false,
    "jupyter": {
     "outputs_hidden": false
    }
   },
   "source": [
    "i = 0\n",
    "fig, axes = plt.subplots(1, 3)\n",
    "axes[0].imshow(mat_masks[i], cmap='gray')\n",
    "axes[0].set_title('matlab')\n",
    "axes[1].imshow(py_masks[i], cmap='gray')\n",
    "axes[1].set_title('python')\n",
    "axes[2].imshow(mat_masks[i] - py_masks[i], cmap='gray')\n",
    "axes[2].set_title('diff')"
   ],
   "outputs": [],
   "execution_count": null
  },
  {
   "cell_type": "markdown",
   "metadata": {},
   "source": [
    "# Use new function to do the WFM, and then just display some metrics"
   ]
  },
  {
   "cell_type": "code",
   "metadata": {},
   "source": [
    "from pianoq.simulations.mplc_sim.create_wfm_masks import create_WFM_QKD_masks\n",
    "\n",
    "mplc = create_WFM_QKD_masks(N_iterations=2)"
   ],
   "outputs": [],
   "execution_count": null
  },
  {
   "cell_type": "code",
   "metadata": {},
   "source": [
    "mplc.res._calc_normalized_overlap()\n",
    "display(np.angle(np.diag(mplc.res.forward_overlap)))\n",
    "display(np.diag(mplc.res.forward_overlap))\n",
    "mplc.res._calc_fidelity()\n",
    "display(mplc.res.fidelity)"
   ],
   "outputs": [],
   "execution_count": null
  },
  {
   "cell_type": "code",
   "metadata": {},
   "source": [
    "mplc.res.show_overlap()"
   ],
   "outputs": [],
   "execution_count": null
  },
  {
   "cell_type": "code",
   "metadata": {},
   "source": [
    "fig, axes = plt.subplots(2, 5)\n",
    "for i, ax in enumerate(axes.flat):\n",
    "    # ax.imshow(np.angle(res.masks[i][360:720, 140:280]), cmap='gray')\n",
    "    ax.imshow(np.angle(mplc.res.masks[i][360:720, 140:280]), cmap='gray')"
   ],
   "outputs": [],
   "execution_count": null
  },
  {
   "cell_type": "code",
   "metadata": {},
   "source": [
    "mplc.res.show_all()"
   ],
   "outputs": [],
   "execution_count": null
  }
 ],
 "metadata": {
  "kernelspec": {
   "display_name": "Python 3 (ipykernel)",
   "language": "python",
   "name": "python3"
  },
  "language_info": {
   "codemirror_mode": {
    "name": "ipython",
    "version": 3
   },
   "file_extension": ".py",
   "mimetype": "text/x-python",
   "name": "python",
   "nbconvert_exporter": "python",
   "pygments_lexer": "ipython3",
   "version": "3.11.2"
  }
 },
 "nbformat": 4,
 "nbformat_minor": 4
}
