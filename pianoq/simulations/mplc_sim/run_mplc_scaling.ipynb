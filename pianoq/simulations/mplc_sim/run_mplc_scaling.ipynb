{
 "cells": [
  {
   "cell_type": "code",
   "execution_count": 1,
   "metadata": {
    "ExecuteTime": {
     "end_time": "2024-09-05T06:52:20.225525Z",
     "start_time": "2024-09-05T06:52:20.218977Z"
    }
   },
   "outputs": [],
   "source": [
    "import os"
   ]
  },
  {
   "cell_type": "code",
   "execution_count": 6,
   "metadata": {
    "ExecuteTime": {
     "end_time": "2024-09-05T07:01:25.273437Z",
     "start_time": "2024-09-05T07:01:25.263697Z"
    },
    "pycharm": {
     "is_executing": true
    }
   },
   "outputs": [
    {
     "name": "stdout",
     "output_type": "stream",
     "text": [
      "The autoreload extension is already loaded. To reload it, use:\n",
      "  %reload_ext autoreload\n"
     ]
    }
   ],
   "source": [
    "%load_ext autoreload\n",
    "%autoreload 0\n",
    "%matplotlib inline\n",
    "\n",
    "from pianoq.simulations.mplc_sim.mplc_scaling import MPLCScalingSimulation\n",
    "from pianoq.simulations.mplc_sim.mplc_utils import show_field, show_mask, corr\n",
    "from pianoq.misc.mplt import *\n",
    "import numpy as np\n",
    "import matplotlib.pyplot as plt\n",
    "from tqdm import tqdm\n",
    "plt.rcParams['image.cmap'] = 'viridis'"
   ]
  },
  {
   "cell_type": "markdown",
   "metadata": {},
   "source": [
    "## Debug"
   ]
  },
  {
   "cell_type": "code",
   "execution_count": null,
   "metadata": {},
   "outputs": [],
   "source": [
    "plt.close('all')\n",
    "path = r\"C:\\temp\\mplcs\\2024_09_03_16_05_24_diffuser.masks\"\n",
    "s = MPLCScalingSimulation(path)\n",
    "s.set_intial_spot(sig=0.1e-3, Dx0=-0.0, Dy0=-1.1e-3)\n",
    "# show_field(s.initial_field, active_slice=s.res.active_slice, title='initial field')\n",
    "# show_field(s.mplc.propagate_mplc(s.initial_field, 10, 8, backprop=False), active_slice=s.res.active_slice, title='lense plane')\n",
    "# show_field(s.mplc.propagate_mplc(s.initial_field, 10, 6, backprop=False), active_slice=s.res.active_slice, title='start diffuser')\n",
    "E_plane_0 = s.mplc.propagate_mplc(s.initial_field, 10, 0, backprop=False, prop_first_mask=False, prop_last_mask=True)\n",
    "# show_field(E_plane_0, figshow=False, active_slice=s.res.active_slice, title='end diffuser')\n",
    "E_fliped = np.fliplr(np.flipud(E_plane_0))\n",
    "# show_field(E_fliped, figshow=False, active_slice=s.res.active_slice, title='fliped')\n",
    "E_back = s.mplc.propagate_mplc(E_fliped, 0, 10, backprop=False, prop_first_mask=True, prop_last_mask=False)\n",
    "# show_field(E_back, figshow=False, active_slice=s.res.active_slice, title='final')\n",
    "speckles = s.propagate_klyshko()\n",
    "show_field(speckles, False, active_slice=s.res.active_slice, title='speckles')"
   ]
  },
  {
   "cell_type": "markdown",
   "metadata": {},
   "source": [
    "# Test Klyshko things"
   ]
  },
  {
   "cell_type": "code",
   "execution_count": 4,
   "metadata": {
    "ExecuteTime": {
     "end_time": "2024-09-05T07:04:46.041583Z",
     "start_time": "2024-09-05T07:04:46.000766Z"
    },
    "collapsed": false,
    "jupyter": {
     "outputs_hidden": false
    }
   },
   "outputs": [],
   "source": [
    "path = r\"G:\\My Drive\\Projects\\MPLC\\results\\simulations\\masks\\2024_09_05_10_19_15_diffuser.masks\"\n",
    "s = MPLCScalingSimulation(path)\n",
    "s.set_intial_spot(sig=0.1e-3, Dx0=-0.0, Dy0=-1.1e-3)\n",
    "s.set_out_desired_spot(sig=0.1e-3, Dx0=0.0, Dy0=1.1e-3)\n",
    "speckles = s.propagate_klyshko()\n",
    "\n",
    "fixing_phase_slm1 = s.get_fixing_phase_SLM(s.SLM1_plane)\n",
    "fixing_phase_slm2 = s.get_fixing_phase_SLM(s.SLM2_plane)\n",
    "s.slm1_phase = fixing_phase_slm1\n",
    "s.slm2_phase = fixing_phase_slm2\n",
    "\n",
    "fixed_SLM1 = s.propagate_klyshko(use_slm1=True)\n",
    "fixed_SLM2 = s.propagate_klyshko(use_slm2=True)"
   ]
  },
  {
   "cell_type": "code",
   "execution_count": null,
   "metadata": {},
   "outputs": [],
   "source": [
    "show_field(s.initial_field, active_slice=s.mplc.res.active_slice, title='initial_field')\n",
    "show_field(speckles, False, active_slice=s.res.active_slice, title='speckles')\n",
    "show_field(fixed_SLM1, False, active_slice=s.res.active_slice, title='fixed_SLM1')\n",
    "show_field(fixed_SLM2, False, active_slice=s.res.active_slice, title='fixed_SLM2')\n",
    "show_mask(np.angle(fixing_phase_slm1))\n",
    "show_mask(np.angle(fixing_phase_slm2))\n"
   ]
  },
  {
   "cell_type": "markdown",
   "metadata": {},
   "source": [
    "# Degrees of control"
   ]
  },
  {
   "cell_type": "code",
   "execution_count": 14,
   "metadata": {
    "ExecuteTime": {
     "end_time": "2024-09-04T13:44:20.076119Z",
     "start_time": "2024-09-04T13:44:18.022882Z"
    }
   },
   "outputs": [],
   "source": [
    "weighted = False \n",
    "Is_slm1 = []\n",
    "Is_slm2 = []\n",
    "fixed_SLM1s = []\n",
    "fixed_SLM2s = []\n",
    "DOCs = 1/np.arange(1, 20)\n",
    "overlap1 = s.get_overlap_at_plane(s.SLM1_plane)\n",
    "overlap2 = s.get_overlap_at_plane(s.SLM2_plane)\n",
    "\n",
    "ind_row, ind_col = np.unravel_index(np.argmax(np.abs(s.out_desired_spot), axis=None), s.out_desired_spot.shape)\n",
    "x_center = s.mplc.XX[ind_row, ind_col] \n",
    "y_center = s.mplc.YY[ind_row, ind_col]\n",
    "mask = (s.mplc.XX - x_center)**2 + (s.mplc.YY - y_center)**2 < (100e-6)**2\n",
    "# mimshow(mask)"
   ]
  },
  {
   "cell_type": "code",
   "execution_count": 15,
   "metadata": {
    "ExecuteTime": {
     "end_time": "2024-09-04T13:44:56.351012Z",
     "start_time": "2024-09-04T13:44:20.711123Z"
    }
   },
   "outputs": [
    {
     "name": "stderr",
     "output_type": "stream",
     "text": [
      "100%|██████████| 19/19 [00:55<00:00,  2.91s/it]\n"
     ]
    }
   ],
   "source": [
    "for DOC in tqdm(DOCs):\n",
    "    s.slm1_phase = s.get_mask_with_degree_of_control(overlap1, DOC, weighted=weighted)\n",
    "    s.slm2_phase = s.get_mask_with_degree_of_control(overlap2, DOC, weighted=weighted)\n",
    "\n",
    "    fixed_SLM1 = s.propagate_klyshko(use_slm1=True)\n",
    "    fixed_SLM2 = s.propagate_klyshko(use_slm2=True)\n",
    "    \n",
    "    fixed_SLM1s.append(fixed_SLM1)\n",
    "    fixed_SLM2s.append(fixed_SLM2)\n",
    "    \n",
    "    I_slm1 = (np.abs(fixed_SLM1*mask)**2).sum()\n",
    "    I_slm2 = (np.abs(fixed_SLM2*mask)**2).sum()\n",
    "    Is_slm1.append(I_slm1)\n",
    "    Is_slm2.append(I_slm2)"
   ]
  },
  {
   "cell_type": "code",
   "execution_count": null,
   "metadata": {
    "ExecuteTime": {
     "end_time": "2024-09-04T13:11:44.877970Z",
     "start_time": "2024-09-04T13:11:44.846615Z"
    },
    "collapsed": false,
    "jupyter": {
     "outputs_hidden": false
    }
   },
   "outputs": [],
   "source": [
    "plt.close('all')\n",
    "actual_DOCs = DOCs**2\n",
    "fig, ax = plt.subplots()\n",
    "ax.set_xlabel('Degree of control')\n",
    "ax.set_ylabel('Intensity at focus')\n",
    "ax.plot(actual_DOCs, Is_slm1, '*--', label='SLM1')\n",
    "ax.plot(actual_DOCs, Is_slm2, '*--', label='SLM2')\n",
    "ax.legend()"
   ]
  },
  {
   "cell_type": "code",
   "execution_count": 60,
   "metadata": {
    "ExecuteTime": {
     "end_time": "2024-09-04T13:05:13.160446Z",
     "start_time": "2024-09-04T13:05:13.122549Z"
    }
   },
   "outputs": [],
   "source": [
    "i = 15\n",
    "fig, axes = plt.subplots(1, 2)\n",
    "axes[0].imshow(np.abs(fixed_SLM1s[i][s.res.active_slice])**2)\n",
    "axes[1].imshow(np.abs(fixed_SLM2s[i][s.res.active_slice])**2)\n",
    "axes[0].set_title(f'SLM1. DOC={DOCs[i]:.3f}')\n",
    "axes[1].set_title(f'SLM2. DOC={DOCs[i]:.3f}')\n"
   ]
  }
 ],
 "metadata": {
  "kernelspec": {
   "display_name": "Python 3 (ipykernel)",
   "language": "python",
   "name": "python3"
  },
  "language_info": {
   "codemirror_mode": {
    "name": "ipython",
    "version": 3
   },
   "file_extension": ".py",
   "mimetype": "text/x-python",
   "name": "python",
   "nbconvert_exporter": "python",
   "pygments_lexer": "ipython3",
   "version": "3.11.2"
  }
 },
 "nbformat": 4,
 "nbformat_minor": 4
}
