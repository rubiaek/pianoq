{
 "cells": [
  {
   "cell_type": "code",
   "metadata": {
    "collapsed": true,
    "ExecuteTime": {
     "end_time": "2024-09-03T09:57:00.224630Z",
     "start_time": "2024-09-03T09:57:00.112709Z"
    }
   },
   "source": [
    "from numpy.core.defchararray import upper\n",
    "from prompt_toolkit.shortcuts import yes_no_dialog\n",
    "\n",
    "from simulations.mplc_sim.mplc_utils import get_lens_mask\n",
    "%load_ext autoreload\n",
    "%autoreload 2\n",
    "%matplotlib notebook\n",
    "import numpy as np\n",
    "import matplotlib.pyplot as plt\n",
    "from pianoq.simulations.mplc_sim.mplc_modes import get_speckle_modes_conf, get_spots_modes_conf\n",
    "from pianoq.simulations.mplc_sim.mplc_utils import get_lens_mask_conf, get_lens_mask\n",
    "from pianoq.simulations.mplc_sim.mplc_sim import MPLCSim\n",
    "from pianoq.simulations.mplc_sim.mplc_modes2 import gen_input_spots_array"
   ],
   "outputs": [
    {
     "name": "stdout",
     "output_type": "stream",
     "text": [
      "The autoreload extension is already loaded. To reload it, use:\n",
      "  %reload_ext autoreload\n"
     ]
    }
   ],
   "execution_count": 116
  },
  {
   "cell_type": "markdown",
   "source": "# Run MPLC",
   "metadata": {
    "collapsed": false
   }
  },
  {
   "metadata": {},
   "cell_type": "markdown",
   "source": "## parameters"
  },
  {
   "metadata": {
    "ExecuteTime": {
     "end_time": "2024-09-03T09:53:42.901944Z",
     "start_time": "2024-09-03T09:53:39.288621Z"
    }
   },
   "cell_type": "code",
   "source": [
    "# All in m\n",
    "\n",
    "dist_after_plane = 87e-3*np.ones(10)\n",
    "dist_after_plane[4] = 138e-3\n",
    "# Lense in plane 9 between 7 and 11. Allow phases freedom in plane 11 since I measure intensity\n",
    "active_planes = np.array([True] * 11)\n",
    "active_planes[7:10] = False  # [7,8,9] which is planes 8,9,10 (one before and after lens)\n",
    "\n",
    "N_modes = 16  # for photons 1 and 2, 4 spots to speckle and 4 speckles to spots (4+4)*2 = 16\n",
    "# All in mm\n",
    "conf = {'wavelength': 810e-9,  # m\n",
    "        'dist_after_plane': dist_after_plane,  # m\n",
    "        'active_planes': active_planes,  # bool\n",
    "        'N_iterations': 15,\n",
    "        'Nx': 140,  # Number of grid points x-axis\n",
    "        'Ny': 360,  # Number of grid points y-axis\n",
    "        'dx': 12.5e-6,  # m - SLM pixel sizes\n",
    "        'dy': 12.5e-6,  # m\n",
    "        'max_k_constraint': 0.15,  # Ohad: better than 0.1 or 0.2, but not very fine-tuned\n",
    "        'N_modes': N_modes,\n",
    "        'min_log_level': 2,\n",
    "        'size_factor': 3,  # assumed to be odd. Have physical larger grid than the actual SLM planes\n",
    "        'use_mask_offset': True,\n",
    "        }\n",
    "\n",
    "\n",
    "# Spot params\n",
    "waist_in = 80e-6\n",
    "waist_out = 80e-6\n",
    "D_between_modes_in = 300e-6\n",
    "D_between_modes_out = 360e-6\n",
    "dim=5\n",
    "# modes are ordered like this: lab/mplc/mask_utils.py\n",
    "which_modes = np.array([7, 17, 9, 19,\n",
    "                        32, 42, 34, 44])\n",
    "\n",
    "mplc = MPLCSim(conf=conf)\n",
    "input_spots, _, _ = gen_input_spots_array(waist=waist_in, D_between_modes=D_between_modes_in, XX=mplc.XX, YY=mplc.YY, dim=dim)\n",
    "input_spots = input_spots[which_modes]\n",
    "output_spots, _, _ = gen_input_spots_array(waist=waist_out, D_between_modes=D_between_modes_out, XX=mplc.XX, YY=mplc.YY, dim=dim)\n",
    "output_spots = output_spots[which_modes]\n",
    "\n",
    "upper_active_slice = np.index_exp[360+30:360+180-15, 160:260]\n",
    "upper_speckles = get_speckle_modes_conf(conf, N_modes=8, sig=0.48e-3, diffuser_pix_size=0.15e-3, active_slice=upper_active_slice, y_displace=72)\n",
    "lower_active_slice = np.index_exp[360+180+15:360+180+150, 160:260]\n",
    "lower_speckles = get_speckle_modes_conf(conf, N_modes=8, sig=0.48e-3, diffuser_pix_size=0.15e-3, active_slice=lower_active_slice, y_displace=-72)\n",
    "\n",
    "# lower number spots are for lower half of SLM speckles\n",
    "input_modes = np.concatenate([input_spots, lower_speckles[:4], upper_speckles[:4]])\n",
    "output_modes = np.concatenate([lower_speckles[4:], upper_speckles[4:], output_spots])"
   ],
   "outputs": [],
   "execution_count": 104
  },
  {
   "metadata": {},
   "cell_type": "markdown",
   "source": "Visualize input and output modes"
  },
  {
   "metadata": {},
   "cell_type": "code",
   "source": [
    "plt.close('all')\n",
    "i = 8\n",
    "im_in = input_modes[i]\n",
    "im_out = output_modes[i]\n",
    "fig, axes = plt.subplots(1, 2)\n",
    "axes[0].imshow((np.abs(im_in)**2)[mplc.res.active_slice])\n",
    "axes[1].imshow((np.abs(im_out)**2)[mplc.res.active_slice])"
   ],
   "outputs": [],
   "execution_count": null
  },
  {
   "metadata": {},
   "cell_type": "markdown",
   "source": "Run MPLC "
  },
  {
   "metadata": {},
   "cell_type": "code",
   "source": [
    "mplc.set_modes(input_modes, output_modes)\n",
    "lens_mask = get_lens_mask(Nx=mplc.Nx, Ny=mplc.Ny//2, dx=mplc.dx, dy=mplc.dy, wl=mplc.wavelength, f=2*87e-3)[mplc.res.active_slice]\n",
    "mplc.res.masks[8][mplc.res.active_slice] = np.vstack((lens_mask, lens_mask))\n",
    "\n",
    "mplc.find_phases()"
   ],
   "outputs": [
    {
     "name": "stderr",
     "output_type": "stream",
     "text": [
      " 73%|███████▎  | 11/15 [03:45<01:22, 20.50s/it]"
     ]
    },
    {
     "name": "stdout",
     "output_type": "stream",
     "text": [
      "10. Fidelity: 0.10041833935162137\n"
     ]
    }
   ],
   "execution_count": null
  },
  {
   "metadata": {},
   "cell_type": "code",
   "outputs": [],
   "execution_count": null,
   "source": [
    "fig, axes = plt.subplots(2, 5)\n",
    "for i, ax in enumerate(axes.flat):\n",
    "    # ax.imshow(np.angle(res.masks[i][360:720, 140:280]), cmap='gray')\n",
    "    ax.imshow(np.angle(mplc.res.masks[i][360:720, 140:280]), cmap='gray')"
   ]
  },
  {
   "cell_type": "code",
   "execution_count": 6,
   "outputs": [],
   "source": "mplc.res.saveto(\"C:\\\\temp\\\\diffuser.mplc\", smaller=True)",
   "metadata": {
    "collapsed": false
   }
  },
  {
   "cell_type": "code",
   "execution_count": null,
   "outputs": [],
   "source": [
    "%matplotlib notebook\n",
    "from pianoq.simulations.mplc_sim.mplc_sim_result import MPLCSimResult\n",
    "res = MPLCSimResult()\n",
    "res.loadfrom(\"C:\\\\temp\\\\speckle_speckle1.mplc\")"
   ],
   "metadata": {
    "collapsed": false
   }
  },
  {
   "cell_type": "code",
   "execution_count": null,
   "outputs": [],
   "source": [
    "%matplotlib notebook\n",
    "res = mplc.res"
   ],
   "metadata": {
    "collapsed": false
   }
  },
  {
   "cell_type": "code",
   "execution_count": null,
   "outputs": [],
   "source": [
    "%matplotlib notebook\n",
    "res.show_all(0)\n",
    "\n",
    "import matplotlib.pyplot as plt\n",
    "plt.plot([1,2,3], [2,4,5])"
   ],
   "metadata": {
    "collapsed": false
   }
  }
 ],
 "metadata": {
  "kernelspec": {
   "display_name": "Python 3",
   "language": "python",
   "name": "python3"
  },
  "language_info": {
   "codemirror_mode": {
    "name": "ipython",
    "version": 2
   },
   "file_extension": ".py",
   "mimetype": "text/x-python",
   "name": "python",
   "nbconvert_exporter": "python",
   "pygments_lexer": "ipython2",
   "version": "2.7.6"
  }
 },
 "nbformat": 4,
 "nbformat_minor": 0
}
