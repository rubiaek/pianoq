{
 "cells": [
  {
   "cell_type": "code",
   "metadata": {
    "collapsed": true,
    "ExecuteTime": {
     "end_time": "2024-09-02T11:41:52.826391Z",
     "start_time": "2024-09-02T11:41:52.682846Z"
    }
   },
   "source": [
    "%load_ext autoreload\n",
    "%autoreload 2\n",
    "%matplotlib notebook\n",
    "import numpy as np\n",
    "import matplotlib.pyplot as plt\n",
    "from pianoq.simulations.mplc_sim.mplc_sim import MPLCSim\n",
    "from pianoq.simulations.mplc_sim.mplc_modes2 import gen_input_spots_arrayd, gen_output_modes_Unitary"
   ],
   "execution_count": 1,
   "outputs": []
  },
  {
   "cell_type": "markdown",
   "source": [
    "## Run MPLC to generate QKD masks like Ohad"
   ],
   "metadata": {
    "collapsed": false
   }
  },
  {
   "cell_type": "markdown",
   "source": [
    "### Parameters"
   ],
   "metadata": {
    "collapsed": false
   }
  },
  {
   "cell_type": "code",
   "source": [
    "# All in m\n",
    "\n",
    "# dist_after_plane[i] is distance between planes i and i+1 (counting from 0)\n",
    "dist_after_plane = 87e-3*np.ones(10)\n",
    "dist_after_plane[4] = 138e-3\n",
    "active_planes = np.array([True] * 11)\n",
    "\n",
    "waist_in = 80e-6\n",
    "waist_out = 45e-6\n",
    "D_between_modes_in = 300e-6\n",
    "D_between_modes_out = 360e-6\n",
    "\n",
    "dim=5\n",
    "which_modes = np.array([ 2,  7, 12, 17, 22, \n",
    "                        27, 32, 37, 42, 47])\n",
    "\n",
    "#  Based on \"All Mutually Unbiased Bases in Dimensions Two to Five\" (2018)\n",
    "#  The columns in the matrix are the basis elements\n",
    "q = np.exp(2j * np.pi / 5)  # Complex fifth root of unity\n",
    "MUB = np.array([\n",
    "    [1, 1, 1, 1, 1],\n",
    "    [1, q, q**2, q**3, q**4],\n",
    "    [1, q**2, q**4, q, q**3],\n",
    "    [1, q**3, q, q**4, q**2],\n",
    "    [1, q**4, q**3, q**2, q]\n",
    "]) / np.sqrt(5)  # eq. 33\n",
    "\n",
    "Matrix_trans1 = MUB.conj().T  # To measure in X basis, we need to act with X^dag on the state\n",
    "zeros_mat = np.zeros((5, 5))\n",
    "full_transformation = np.block([[Matrix_trans1, zeros_mat],\n",
    "                                [zeros_mat, np.conj(Matrix_trans1)]])  # [DFT,0; 0, iDFT] final matrix. the conj in bottom right is for correlation to be on identity\n",
    "\n",
    "N_modes = 10\n",
    "# All in mm\n",
    "conf = {'wavelength': 810e-9,  # mm\n",
    "        'dist_after_plane': dist_after_plane,  # mm\n",
    "        'active_planes': active_planes,  # bool\n",
    "        'N_iterations': 30,\n",
    "        'Nx': 140,  # Number of grid points x-axis\n",
    "        'Ny': 360,  # Number of grid points y-axis\n",
    "        'dx': 12.5e-6,  # mm - SLM pixel sizes\n",
    "        'dy': 12.5e-6,  # mm\n",
    "        'max_k_constraint': 0.15,  # Ohad: better than 0.1 or 0.2, but not very fine-tuned\n",
    "        'N_modes': N_modes,\n",
    "        'min_log_level': 2,\n",
    "        'size_factor': 3,  # assumed to be odd. Have physical larger grid than the actual SLM planes\n",
    "        'use_mask_offset': False,\n",
    "        }\n"
   ],
   "metadata": {
    "collapsed": false,
    "ExecuteTime": {
     "end_time": "2024-09-02T11:41:52.914057Z",
     "start_time": "2024-09-02T11:41:52.826391Z"
    }
   },
   "execution_count": 2,
   "outputs": []
  },
  {
   "cell_type": "code",
   "source": [
    "mplc = MPLCSim(conf=conf)\n",
    "# input_modes = get_spots_modes_conf(conf, sig=0.1, N_rows=N_N_modes, N_cols=N_N_modes, spacing=0.6)\n",
    "input_spots, x_modes_in, y_modes_in = gen_input_spots_arrayd(waist_in=waist_in, D_between_modes=D_between_modes_in, XX=mplc.XX, YY=mplc.YY, dim=dim)\n",
    "input_modes = input_spots[which_modes]\n",
    "x_modes_in = x_modes_in[which_modes]\n",
    "y_modes_in = y_modes_in[which_modes]\n",
    "\n",
    "output_modes, phase_pos_x, phase_pos_y = gen_output_modes_Unitary(waist_out, D_between_modes_out, mplc.XX, mplc.YY, full_transformation, dim, which_modes)"
   ],
   "metadata": {
    "collapsed": false,
    "ExecuteTime": {
     "end_time": "2024-09-02T11:41:58.102650Z",
     "start_time": "2024-09-02T11:41:53.944590Z"
    }
   },
   "execution_count": 3,
   "outputs": []
  },
  {
   "cell_type": "code",
   "source": [
    "mplc.set_modes(input_modes, output_modes)\n",
    "mplc.find_phases(show_fidelities=False, iterations=5, fix_initial_phases=True)"
   ],
   "metadata": {
    "collapsed": false,
    "ExecuteTime": {
     "end_time": "2024-09-02T11:43:00.283546Z",
     "start_time": "2024-09-02T11:41:58.102650Z"
    }
   },
   "execution_count": 4,
   "outputs": []
  },
  {
   "metadata": {
    "ExecuteTime": {
     "end_time": "2024-09-02T11:46:17.515776Z",
     "start_time": "2024-09-02T11:46:11.422718Z"
    }
   },
   "cell_type": "code",
   "source": "mplc.fix_initial_phases()",
   "execution_count": 8,
   "outputs": []
  },
  {
   "metadata": {
    "ExecuteTime": {
     "end_time": "2024-09-02T11:46:24.503527Z",
     "start_time": "2024-09-02T11:46:17.524734Z"
    }
   },
   "cell_type": "code",
   "source": [
    "mplc.res._calc_normalized_overlap()\n",
    "display(np.angle(np.diag(mplc.res.forward_overlap)))\n",
    "display(np.diag(mplc.res.forward_overlap))\n",
    "mplc.res._calc_fidelity()\n",
    "display(mplc.res.fidelity)\n",
    "mplc.res.show_overlap()"
   ],
   "execution_count": 9,
   "outputs": []
  },
  {
   "cell_type": "code",
   "execution_count": 5,
   "source": [
    "path = r'G:\\My Drive\\People\\Ronen\\PHD\\MPLC\\results\\2024_11_08_13_11_11_QKD_row3\\mrss_wfm.masks'\n",
    "mplc.res.save_masks(path)"
   ],
   "metadata": {
    "collapsed": false
   },
   "outputs": []
  },
  {
   "cell_type": "code",
   "source": [
    "fig, axes = plt.subplots(2, 5)\n",
    "for i, ax in enumerate(axes.flat):\n",
    "    ax.imshow(np.angle(mplc.res.masks[i][360:720, 140:280]), cmap='gray')"
   ],
   "metadata": {
    "collapsed": false,
    "ExecuteTime": {
     "end_time": "2024-09-02T08:51:25.671379Z",
     "start_time": "2024-09-02T08:51:25.384079Z"
    }
   },
   "execution_count": 16,
   "outputs": []
  },
  {
   "cell_type": "code",
   "execution_count": 5,
   "source": [
    "mplc.res.saveto(\"C:\\\\temp\\\\QKD1.mplc\", smaller=True)"
   ],
   "metadata": {
    "collapsed": false
   },
   "outputs": []
  },
  {
   "cell_type": "code",
   "execution_count": 6,
   "source": [
    "%matplotlib notebook\n",
    "from pianoq.simulations.mplc_sim.mplc_sim_result import MPLCSimResult\n",
    "res = MPLCSimResult()\n",
    "res.loadfrom(\"C:\\\\temp\\\\QKD1.mplc\")"
   ],
   "metadata": {
    "collapsed": false
   },
   "outputs": []
  },
  {
   "cell_type": "code",
   "execution_count": 19,
   "source": [
    "res.show_fidelity()"
   ],
   "metadata": {
    "collapsed": false
   },
   "outputs": []
  },
  {
   "cell_type": "markdown",
   "source": [
    "### test against matlab modes"
   ],
   "metadata": {
    "collapsed": false
   }
  },
  {
   "cell_type": "code",
   "execution_count": 20,
   "source": [
    "from pianoq.misc.mplt import *\n",
    "import scipy.io\n",
    "data = scipy.io.loadmat(r\"G:\\My Drive\\Ohad and Giora\\MPLC\\matlab codes\\Ronen stuff 17.7.24\\WFM stuff\\Masks_31_10_23_QKD5d_MUB2_mm_33_3_conjbases.mat\")\n",
    "in_modes_matlab = data['SPOTS']\n",
    "out_modes_matlab = data['MODES']\n",
    "flag = False\n",
    "if flag:\n",
    "    fig, axes = plt.subplots(1, 3)\n",
    "    axes[0].imshow(np.abs(in_modes_matlab[0])**2)\n",
    "    axes[1].imshow(np.abs(input_modes[0])**2)\n",
    "    axes[2].imshow(np.abs(input_modes[0] - in_modes_matlab[0])**2)\n",
    "# mimshow(in_modes_matlab[0] == input_modes[0])\n",
    "np.abs(out_modes_matlab - output_modes).sum() # is ~1e-13 which means it is only floating point issues\n",
    "\n",
    "display((data['X'] - mplc.XX).max())  # again not idenical, but the same up to rounding errors\n",
    "display(mplc.XX[0,0], mplc.XX[-1, -1])"
   ],
   "metadata": {
    "collapsed": false
   },
   "outputs": []
  },
  {
   "cell_type": "code",
   "execution_count": 17,
   "source": [
    "data = scipy.io.loadmat(r\"G:\\My Drive\\Ohad and Giora\\MPLC\\matlab codes\\Ronen stuff 17.7.24\\WFM stuff\\k_space_vars.mat\")\n",
    "fig, axes = plt.subplots(1, 3)\n",
    "axes[0].imshow(data['k_constraint'])\n",
    "axes[1].imshow(mplc.k_constraint)\n",
    "axes[2].imshow(mplc.k_constraint - data['k_constraint'])\n",
    "# ax.plot(range(len(mplc.freq_y)), data['v_y'].squeeze(), '.')\n",
    "# ax.plot(range(len(mplc.freq_y)), mplc.freq_y, '.')\n",
    "# ax.plot(data['v_y'].squeeze() - mplc.freq_y)\n",
    "# print(data['v_y'].squeeze()[0])\n",
    "# print(mplc.freq_y[0])\n"
   ],
   "metadata": {
    "collapsed": false
   },
   "outputs": []
  },
  {
   "cell_type": "code",
   "execution_count": 12,
   "source": [
    "data = scipy.io.loadmat(r\"G:\\My Drive\\Ohad and Giora\\MPLC\\matlab codes\\Ronen stuff 17.7.24\\WFM stuff\\freespace.mat\")\n",
    "H_mat = data['H']\n",
    "H_py = np.exp(+1j * mplc.k_z_mat * 87e-3)\n",
    "\n",
    "fig, axes = plt.subplots(1, 3)\n",
    "imm = axes[0].imshow(np.angle(H_mat))\n",
    "fig.colorbar(imm, ax=axes[0])\n",
    "imm = axes[1].imshow(np.angle(H_py))\n",
    "fig.colorbar(imm, ax=axes[1])\n",
    "imm = axes[2].imshow(np.angle(H_py) - np.angle(H_mat))\n",
    "fig.colorbar(imm, ax=axes[2])"
   ],
   "metadata": {
    "collapsed": false
   },
   "outputs": []
  },
  {
   "cell_type": "code",
   "execution_count": 18,
   "source": [
    "mplc.res.active_slice"
   ],
   "metadata": {
    "collapsed": false
   },
   "outputs": []
  },
  {
   "cell_type": "code",
   "execution_count": 12,
   "source": [
    "mat_masks = scipy.io.loadmat(r\"G:\\My Drive\\Ohad and Giora\\MPLC\\matlab codes\\Ronen stuff 17.7.24\\WFM stuff\\Masks_31_10_23_QKD5d_MUB2_mm_33_3_conjbases.mat\")['MASKS'][:, 360:720, 140:280]\n",
    "py_masks = mplc.res.masks[:, 360:720, 140:280]\n",
    "mat_masks = np.angle(mat_masks)\n",
    "py_masks = np.angle(py_masks)"
   ],
   "metadata": {
    "collapsed": false
   },
   "outputs": []
  },
  {
   "cell_type": "code",
   "execution_count": 18,
   "source": [
    "i = 0\n",
    "fig, axes = plt.subplots(1, 3)\n",
    "axes[0].imshow(mat_masks[i], cmap='gray')\n",
    "axes[0].set_title('matlab')\n",
    "axes[1].imshow(py_masks[i], cmap='gray')\n",
    "axes[1].set_title('python')\n",
    "axes[2].imshow(mat_masks[i] - py_masks[i], cmap='gray')\n",
    "axes[2].set_title('diff')"
   ],
   "metadata": {
    "collapsed": false
   },
   "outputs": []
  }
 ],
 "metadata": {
  "kernelspec": {
   "display_name": "Python 3",
   "language": "python",
   "name": "python3"
  },
  "language_info": {
   "codemirror_mode": {
    "name": "ipython",
    "version": 2
   },
   "file_extension": ".py",
   "mimetype": "text/x-python",
   "name": "python",
   "nbconvert_exporter": "python",
   "pygments_lexer": "ipython2",
   "version": "2.7.6"
  }
 },
 "nbformat": 4,
 "nbformat_minor": 0
}
