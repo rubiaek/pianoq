{
 "cells": [
  {
   "cell_type": "code",
   "execution_count": 80,
   "metadata": {
    "collapsed": true
   },
   "outputs": [
    {
     "name": "stdout",
     "output_type": "stream",
     "text": [
      "The autoreload extension is already loaded. To reload it, use:\n",
      "  %reload_ext autoreload\n"
     ]
    }
   ],
   "source": [
    "%load_ext autoreload\n",
    "%autoreload 2\n",
    "%matplotlib notebook\n",
    "import numpy as np\n",
    "import matplotlib.pyplot as plt\n",
    "from pianoq.simulations.mplc_sim.mplc_modes import get_speckle_modes_conf, get_spots_modes_conf\n",
    "from pianoq.simulations.mplc_sim.mplc_utils import get_lens_mask_conf\n",
    "from pianoq.simulations.mplc_sim.mplc_sim import MPLCSim\n",
    "from pianoq.simulations.mplc_sim.mplc_modes2 import gen_input_spots_arrayd, gen_output_modes_Unitary"
   ]
  },
  {
   "cell_type": "markdown",
   "source": [
    "## Run MPLC to generate QKD masks like Ohad"
   ],
   "metadata": {
    "collapsed": false
   }
  },
  {
   "cell_type": "markdown",
   "source": [
    "### Parameters"
   ],
   "metadata": {
    "collapsed": false
   }
  },
  {
   "cell_type": "code",
   "execution_count": 81,
   "outputs": [],
   "source": [
    "# All in m\n",
    "\n",
    "# dist_after_plane[i] is distance between planes i and i+1 (counting from 0)\n",
    "dist_after_plane = 87e-3*np.ones(10)\n",
    "dist_after_plane[4] = 138e-3\n",
    "active_planes = np.array([True] * 11)\n",
    "\n",
    "waist_in = 80e-6\n",
    "waist_out = 45e-6\n",
    "D_between_modes_in = 300e-6\n",
    "D_between_modes_out = 360e-6\n",
    "\n",
    "dim=5\n",
    "which_modes = np.array([2,7,12,17,22,27,32,37,42,47])\n",
    "\n",
    "#  Based on \"All Mutually Unbiased Bases in Dimensions Two to Five\" (2018)\n",
    "#  The columns in the matrix are the basis elements\n",
    "q = np.exp(2j * np.pi / 5)  # Complex fifth root of unity\n",
    "MUB = np.array([\n",
    "    [1, 1, 1, 1, 1],\n",
    "    [1, q, q**2, q**3, q**4],\n",
    "    [1, q**2, q**4, q, q**3],\n",
    "    [1, q**3, q, q**4, q**2],\n",
    "    [1, q**4, q**3, q**2, q]\n",
    "]) / np.sqrt(5)  # eq. 33\n",
    "\n",
    "Matrix_trans1 = MUB.conj().T  # To measure in X basis, we need to act with X^dag on the state\n",
    "zeros_mat = np.zeros((5, 5))\n",
    "full_transformation = np.block([[Matrix_trans1, zeros_mat],\n",
    "                                [zeros_mat, np.conj(Matrix_trans1)]])  # [DFT,0; 0, iDFT] final matrix. the conj in bottom right is for correlation to be on identity\n",
    "\n",
    "N_modes = 10\n",
    "# All in mm\n",
    "conf = {'wavelength': 810e-9,  # mm\n",
    "        'dist_after_plane': dist_after_plane,  # mm\n",
    "        'active_planes': active_planes,  # bool\n",
    "        'N_iterations': 30,\n",
    "        'Nx': 140,  # Number of grid points x-axis\n",
    "        'Ny': 360,  # Number of grid points y-axis\n",
    "        'dx': 12.5e-6,  # mm - SLM pixel sizes\n",
    "        'dy': 12.5e-6,  # mm\n",
    "        'max_k_constraint': 0.15,  # Ohad: better than 0.1 or 0.2, but not very fine-tuned\n",
    "        'N_modes': N_modes,\n",
    "        'min_log_level': 2,\n",
    "        'size_factor': 3,  # assumed to be odd. Have physical larger grid than the actual SLM planes\n",
    "        'use_mask_offset': True,\n",
    "        }\n"
   ],
   "metadata": {
    "collapsed": false
   }
  },
  {
   "cell_type": "code",
   "execution_count": 84,
   "outputs": [],
   "source": [
    "mplc = MPLCSim(conf=conf)\n",
    "# input_modes = get_spots_modes_conf(conf, sig=0.1, N_rows=N_N_modes, N_cols=N_N_modes, spacing=0.6)\n",
    "input_spots, x_modes_in, y_modes_in = gen_input_spots_arrayd(waist_in=waist_in, D_between_modes=D_between_modes_in, XX=mplc.XX, YY=mplc.YY, dim=dim)\n",
    "input_modes = input_spots[which_modes]\n",
    "x_modes_in = x_modes_in[which_modes]\n",
    "y_modes_in = y_modes_in[which_modes]\n",
    "\n",
    "# def gen_output_modes_Unitary(waist_out, D_between_modes, XX, YY, Matrix_trans, dim, which_modes, deltax_out=0, deltay_out=0):\n",
    "\n",
    "output_modes, phase_pos_x, phase_pos_y = gen_output_modes_Unitary(waist_out, D_between_modes_out, mplc.XX, mplc.YY, full_transformation, dim, which_modes)"
   ],
   "metadata": {
    "collapsed": false
   }
  },
  {
   "cell_type": "code",
   "execution_count": null,
   "outputs": [
    {
     "name": "stderr",
     "output_type": "stream",
     "text": [
      " 77%|███████▋  | 23/30 [09:11<02:51, 24.56s/it]"
     ]
    }
   ],
   "source": [
    "mplc.set_modes(input_modes, output_modes)\n",
    "mplc.find_phases(show_mean_fidelities=False)"
   ],
   "metadata": {
    "collapsed": false,
    "pycharm": {
     "is_executing": true
    }
   }
  },
  {
   "cell_type": "code",
   "execution_count": 6,
   "outputs": [],
   "source": [
    "mplc.res.saveto(\"C:\\\\temp\\\\speckle_speckle4.mplc\", smaller=True)"
   ],
   "metadata": {
    "collapsed": false
   }
  },
  {
   "cell_type": "code",
   "execution_count": null,
   "outputs": [],
   "source": [
    "%matplotlib notebook\n",
    "from pianoq.simulations.mplc_sim.mplc_result import MPLCSimResult\n",
    "res = MPLCSimResult()\n",
    "res.loadfrom(\"C:\\\\temp\\\\speckle_speckle1.mplc\")"
   ],
   "metadata": {
    "collapsed": false
   }
  },
  {
   "cell_type": "code",
   "execution_count": null,
   "outputs": [],
   "source": [
    "%matplotlib notebook\n",
    "res = mplc.res"
   ],
   "metadata": {
    "collapsed": false
   }
  },
  {
   "cell_type": "code",
   "execution_count": null,
   "outputs": [],
   "source": [
    "%matplotlib notebook\n",
    "res.show_all(0)\n",
    "\n",
    "import matplotlib.pyplot as plt\n",
    "plt.plot([1,2,3], [2,4,5])"
   ],
   "metadata": {
    "collapsed": false
   }
  },
  {
   "cell_type": "markdown",
   "source": [
    "### test against matlab modes"
   ],
   "metadata": {
    "collapsed": false
   }
  },
  {
   "cell_type": "code",
   "execution_count": null,
   "outputs": [],
   "source": [
    "from pianoq.misc.mplt import *\n",
    "import scipy.io\n",
    "data = scipy.io.loadmat(r\"G:\\My Drive\\Ohad and Giora\\MPLC\\matlab codes\\Ronen stuff 17.7.24\\WFM stuff\\Masks_31_10_23_QKD5d_MUB2_mm_33_3_conjbases.mat\")\n",
    "in_modes_matlab = data['SPOTS']\n",
    "out_modes_matlab = data['MODES']\n",
    "flag = False\n",
    "if flag:\n",
    "    fig, axes = plt.subplots(1, 3)\n",
    "    axes[0].imshow(np.abs(in_modes_matlab[0])**2)\n",
    "    axes[1].imshow(np.abs(input_modes[0])**2)\n",
    "    axes[2].imshow(np.abs(input_modes[0] - in_modes_matlab[0])**2)\n",
    "# mimshow(in_modes_matlab[0] == input_modes[0])\n",
    "np.abs(out_modes_matlab - output_modes).sum() # is ~1e-13 which means it is only floating point issues\n",
    "\n",
    "display((data['X'] - mplc.XX).max())  # again not idenical, but the same up to rounding errors\n",
    "display(mplc.XX[0,0], mplc.XX[-1, -1])"
   ],
   "metadata": {
    "collapsed": false,
    "pycharm": {
     "is_executing": true
    }
   }
  }
 ],
 "metadata": {
  "kernelspec": {
   "display_name": "Python 3",
   "language": "python",
   "name": "python3"
  },
  "language_info": {
   "codemirror_mode": {
    "name": "ipython",
    "version": 2
   },
   "file_extension": ".py",
   "mimetype": "text/x-python",
   "name": "python",
   "nbconvert_exporter": "python",
   "pygments_lexer": "ipython2",
   "version": "2.7.6"
  }
 },
 "nbformat": 4,
 "nbformat_minor": 0
}
