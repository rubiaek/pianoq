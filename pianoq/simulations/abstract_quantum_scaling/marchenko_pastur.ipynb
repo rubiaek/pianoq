{
 "cells": [
  {
   "metadata": {},
   "cell_type": "markdown",
   "source": [
    "# plot and check Marchenko Pastur for different $\\gamma=\\frac{N}{M}$\n",
    "To make sure I understood this correctly, I have to make sure everything works empirically. This tool a while with several AIs... Anyway, bottom line is that things seem to work. And for a certain $\\gamma=\\frac{N}{M}$ we shuold expect $s_{max}=1+\n",
    "\\sqrt{\\gamma}$"
   ],
   "id": "e66f713d9124604"
  },
  {
   "cell_type": "code",
   "id": "initial_id",
   "metadata": {
    "collapsed": true,
    "ExecuteTime": {
     "end_time": "2024-12-10T09:19:27.040383Z",
     "start_time": "2024-12-10T09:19:08.699170Z"
    }
   },
   "source": [
    "import numpy as np\n",
    "import matplotlib.pyplot as plt\n",
    "\n",
    "# Parameters\n",
    "N = 256\n",
    "gamma_values = [128, 256]\n",
    "num_Ts = 200000 \n",
    "\n",
    "def generate_complex_matrix(N, M):\n",
    "    \"\"\"Generate a normalized complex Gaussian random matrix.\"\"\"\n",
    "    sigma = np.sqrt(2) / 2\n",
    "    real_part = np.random.normal(0, sigma, size=(N, M))\n",
    "    imag_part = np.random.normal(0, sigma, size=(N, M))\n",
    "    A = (real_part + 1j * imag_part) / np.sqrt(M)  \n",
    "    return A\n",
    "\n",
    "def marchenko_pastur_svd_pdf(x, gamma):\n",
    "    x_plus = (1 + np.sqrt(gamma)) ** 2\n",
    "    x_minus = (1 - np.sqrt(gamma)) ** 2\n",
    "    density = np.zeros_like(x)\n",
    "    valid = (x ** 2 >= x_minus) & (x ** 2 <= x_plus)\n",
    "    epsilon = 1e-15  # Small value to avoid division by zero\n",
    "    density[valid] = (1 / (gamma*np.pi * np.maximum(x[valid], epsilon))) * np.sqrt((x_plus - x[valid] ** 2) * (x[valid] ** 2 - x_minus))\n",
    "    \n",
    "    if gamma > 1:\n",
    "        density *= gamma\n",
    "        \n",
    "        # Add point mass at zero\n",
    "        if x[0] == 0:\n",
    "            density[0] = (gamma - 1) / gamma\n",
    "\n",
    "    \n",
    "    return density\n",
    "\n",
    "fig, axs = plt.subplots(1, len(gamma_values), figsize=(18, 5))\n",
    "\n",
    "for ax, gamma in zip(axs, gamma_values):\n",
    "    M = int(N / gamma)\n",
    "    singular_values = []\n",
    "    \n",
    "    # Generate matrices and compute singular values\n",
    "    for _ in range(num_Ts):\n",
    "        A = generate_complex_matrix(N, M)\n",
    "        svd_vals = np.linalg.svd(A, compute_uv=False)\n",
    "        singular_values.extend(svd_vals)\n",
    "    \n",
    "    singular_values = np.array(singular_values)\n",
    "    print(f'{gamma=}')\n",
    "    print(f'min={singular_values.min():.2f}, max={singular_values.max():.2f}')\n",
    "    \n",
    "    # Plot histogram of singular values\n",
    "    ax.hist(singular_values, bins=50, density=True, alpha=0.7, label=\"Empirical\")\n",
    "    \n",
    "    # Plot theoretical Marchenko-Pastur distribution for singular values\n",
    "    x_vals = np.linspace(0, max(2, (1 + np.sqrt(gamma)) + 0.5), 1000)\n",
    "    mp_pdf = marchenko_pastur_svd_pdf(x_vals, gamma)\n",
    "    ax.plot(x_vals, mp_pdf, 'r-', label=\"Theoretical\")\n",
    "    \n",
    "    min_sv = np.abs(1 - np.sqrt(gamma))\n",
    "    max_sv = (1 + np.sqrt(gamma))\n",
    "    \n",
    "    ax.axvline(min_sv, color='g', linestyle='--', label=f'Min SV: {min_sv:.2f}')\n",
    "    ax.axvline(max_sv, color='b', linestyle='--', label=f'Max SV: {max_sv:.2f}')\n",
    "    \n",
    "    if gamma > 1:\n",
    "        ax.plot([0], [(gamma - 1) / gamma], 'ro', markersize=10, label=\"Point mass at 0\")\n",
    "    \n",
    "    ax.set_title(f\"γ = {gamma}\")\n",
    "    ax.set_xlabel(\"Singular Value\")\n",
    "    ax.set_ylabel(\"Density\")\n",
    "    ax.legend()\n",
    "    fig.show()\n",
    "\n",
    "plt.tight_layout()"
   ],
   "outputs": [
    {
     "name": "stdout",
     "output_type": "stream",
     "text": [
      "gamma=128\n",
      "min=9.50, max=13.30\n",
      "gamma=256\n",
      "min=13.81, max=18.66\n"
     ]
    }
   ],
   "execution_count": 86
  },
  {
   "metadata": {
    "ExecuteTime": {
     "end_time": "2024-12-10T09:26:10.946821Z",
     "start_time": "2024-12-10T09:26:10.833071Z"
    }
   },
   "cell_type": "code",
   "source": [
    "N = 256\n",
    "M = 512\n",
    "A = generate_complex_matrix(N, M)\n",
    "v_in = 1/np.sqrt(M)*np.ones(M)\n",
    "(np.abs(A@v_in)**2).sum()"
   ],
   "id": "eb53586d3290976e",
   "outputs": [
    {
     "data": {
      "text/plain": [
       "0.45002438108227266"
      ]
     },
     "execution_count": 108,
     "metadata": {},
     "output_type": "execute_result"
    }
   ],
   "execution_count": 108
  },
  {
   "metadata": {},
   "cell_type": "markdown",
   "source": [
    "# Expected maximal SVD value for finite size N \n",
    "This might explain the N dependance. For larger matrices we have a larger chance of hitting a large SVD value. (which is bounded from above by 4 for $N\\rightarrow\\infty$)"
   ],
   "id": "5d360f04a2b7e0e7"
  },
  {
   "metadata": {
    "ExecuteTime": {
     "end_time": "2024-12-10T10:31:34.643975Z",
     "start_time": "2024-12-10T10:29:40.025789Z"
    }
   },
   "cell_type": "code",
   "source": [
    "import numpy as np\n",
    "from scipy.integrate import quad\n",
    "import matplotlib.pyplot as plt\n",
    "\n",
    "def marchenko_pastur_pdf(x, q):\n",
    "    \"\"\"\n",
    "    PDF of the Marchenko-Pastur distribution.\n",
    "    \"\"\"\n",
    "    a = (1 - np.sqrt(q))**2\n",
    "    b = (1 + np.sqrt(q))**2\n",
    "    if a <= x <= b:\n",
    "        return np.sqrt((b - x) * (x - a)) / (2 * np.pi * q * x)\n",
    "    else:\n",
    "        return 0\n",
    "\n",
    "def marchenko_pastur_cdf(x, q):\n",
    "    \"\"\"\n",
    "    CDF of the Marchenko-Pastur distribution, computed by integrating the PDF.\n",
    "    \"\"\"\n",
    "    a = (1 - np.sqrt(q))**2\n",
    "    if x < a:\n",
    "        return 0\n",
    "    b = (1 + np.sqrt(q))**2\n",
    "    if x > b:\n",
    "        return 1\n",
    "    result, _ = quad(lambda t: marchenko_pastur_pdf(t, q), a, x)\n",
    "    return result\n",
    "\n",
    "def expected_maximum(N, q):\n",
    "    \"\"\"\n",
    "    Compute the expected maximum for N samples from the Marchenko-Pastur distribution.\n",
    "    \"\"\"\n",
    "    a = (1 - np.sqrt(q))**2\n",
    "    b = (1 + np.sqrt(q))**2\n",
    "\n",
    "    def integrand(x):\n",
    "        f_x = marchenko_pastur_pdf(x, q)\n",
    "        F_x = marchenko_pastur_cdf(x, q)\n",
    "        return x * N * (F_x**(N-1)) * f_x\n",
    "\n",
    "    result, _ = quad(integrand, a, b)\n",
    "    return result\n",
    "\n",
    "# Parameters\n",
    "q = 0.5  # Ratio M/N\n",
    "N_values = 2**np.linspace(1, 20, 21)\n",
    "\n",
    "# Compute E[max_s] for each N\n",
    "expected_max_values = [expected_maximum(N, q) for N in N_values]\n",
    "\n",
    "# Plot\n",
    "plt.figure(figsize=(8, 6))\n",
    "plt.plot(N_values, expected_max_values, marker=\"o\", label=f\"Marchenko-Pastur (q={q})\", color=\"blue\")\n",
    "plt.xscale(\"log\")\n",
    "plt.xlabel(\"Number of Samples (N) [log scale]\")\n",
    "plt.ylabel(\"Expected Maximum (E[max_s])\")\n",
    "plt.title(\"Expected Maximum vs. Number of Samples for Marchenko-Pastur\")\n",
    "plt.grid(visible=True, which=\"both\", linestyle=\"--\", linewidth=0.5)\n",
    "plt.legend()\n",
    "plt.show()\n",
    "\n",
    "# Print results for reference\n",
    "for N, value in zip(N_values, expected_max_values):\n",
    "    print(f\"N={N}, E[max_s]={value:.6f}\")\n"
   ],
   "id": "b463e992864b1f47",
   "outputs": [
    {
     "name": "stderr",
     "output_type": "stream",
     "text": [
      "C:\\Users\\owner\\AppData\\Local\\Temp\\ipykernel_37456\\2277065313.py:41: IntegrationWarning: The maximum number of subdivisions (50) has been achieved.\n",
      "  If increasing the limit yields no improvement it is advised to analyze \n",
      "  the integrand in order to determine the difficulties.  If the position of a \n",
      "  local difficulty can be determined (singularity, discontinuity) one will \n",
      "  probably gain from splitting up the interval and calling the integrator \n",
      "  on the subranges.  Perhaps a special-purpose integrator should be used.\n",
      "  result, _ = quad(integrand, a, b)\n"
     ]
    },
    {
     "name": "stdout",
     "output_type": "stream",
     "text": [
      "N=2.0, E[max_s]=1.395469\n",
      "N=3.863745315699382, E[max_s]=1.771419\n",
      "N=7.464263932294459, E[max_s]=2.098364\n",
      "N=14.42000740177328, E[max_s]=2.353605\n",
      "N=27.85761802547597, E[max_s]=2.538537\n",
      "N=53.81737057623773, E[max_s]=2.666339\n",
      "N=103.9683067335981, E[max_s]=2.752180\n",
      "N=200.8535290615681, E[max_s]=2.808878\n",
      "N=388.0234410266618, E[max_s]=2.845962\n",
      "N=749.6118763241597, E[max_s]=2.870077\n",
      "N=1448.1546878700494, E[max_s]=2.885705\n",
      "N=2797.6504458330005, E[max_s]=2.895813\n",
      "N=5404.704402525769, E[max_s]=2.902342\n",
      "N=10441.200658999393, E[max_s]=2.906557\n",
      "N=20171.070068243094, E[max_s]=2.909277\n",
      "N=38967.93874440916, E[max_s]=2.911035\n",
      "N=75281.09539308565, E[max_s]=2.912180\n",
      "N=145433.48984287644, E[max_s]=2.912963\n",
      "N=280958.9825631136, E[max_s]=2.913627\n",
      "N=542776.9763909484, E[max_s]=2.914599\n",
      "N=1048576.0, E[max_s]=2.916910\n"
     ]
    }
   ],
   "execution_count": 109
  }
 ],
 "metadata": {
  "kernelspec": {
   "display_name": "Python 3",
   "language": "python",
   "name": "python3"
  },
  "language_info": {
   "codemirror_mode": {
    "name": "ipython",
    "version": 2
   },
   "file_extension": ".py",
   "mimetype": "text/x-python",
   "name": "python",
   "nbconvert_exporter": "python",
   "pygments_lexer": "ipython2",
   "version": "2.7.6"
  }
 },
 "nbformat": 4,
 "nbformat_minor": 5
}
