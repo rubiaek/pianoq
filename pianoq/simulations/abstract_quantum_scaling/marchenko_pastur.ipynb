{
 "cells": [
  {
   "metadata": {},
   "cell_type": "markdown",
   "source": [
    "# plot and check Marchenko Pastur for different $\\gamma=\\frac{N}{M}$\n",
    "To make sure I understood this correctly, I have to make sure everything works empirically. This tool a while with several AIs... Anyway, bottom line is that things seem to work. And for a certain $\\gamma=\\frac{N}{M}$ we shuold expect $s_{max}=1+\n",
    "\\sqrt{\\gamma}$"
   ],
   "id": "e66f713d9124604"
  },
  {
   "cell_type": "code",
   "id": "initial_id",
   "metadata": {
    "collapsed": true,
    "ExecuteTime": {
     "end_time": "2024-12-10T09:19:27.040383Z",
     "start_time": "2024-12-10T09:19:08.699170Z"
    }
   },
   "source": [
    "import numpy as np\n",
    "import matplotlib.pyplot as plt\n",
    "\n",
    "# Parameters\n",
    "N = 256\n",
    "gamma_values = [128, 256]\n",
    "num_Ts = 200000 \n",
    "\n",
    "def generate_complex_matrix(N, M):\n",
    "    \"\"\"Generate a normalized complex Gaussian random matrix.\"\"\"\n",
    "    sigma = np.sqrt(2) / 2\n",
    "    real_part = np.random.normal(0, sigma, size=(N, M))\n",
    "    imag_part = np.random.normal(0, sigma, size=(N, M))\n",
    "    A = (real_part + 1j * imag_part) / np.sqrt(M)  \n",
    "    return A\n",
    "\n",
    "def marchenko_pastur_svd_pdf(x, gamma):\n",
    "    x_plus = (1 + np.sqrt(gamma)) ** 2\n",
    "    x_minus = (1 - np.sqrt(gamma)) ** 2\n",
    "    density = np.zeros_like(x)\n",
    "    valid = (x ** 2 >= x_minus) & (x ** 2 <= x_plus)\n",
    "    epsilon = 1e-15  # Small value to avoid division by zero\n",
    "    density[valid] = (1 / (gamma*np.pi * np.maximum(x[valid], epsilon))) * np.sqrt((x_plus - x[valid] ** 2) * (x[valid] ** 2 - x_minus))\n",
    "    \n",
    "    if gamma > 1:\n",
    "        density *= gamma\n",
    "        \n",
    "        # Add point mass at zero\n",
    "        if x[0] == 0:\n",
    "            density[0] = (gamma - 1) / gamma\n",
    "\n",
    "    \n",
    "    return density\n",
    "\n",
    "fig, axs = plt.subplots(1, len(gamma_values), figsize=(18, 5))\n",
    "\n",
    "for ax, gamma in zip(axs, gamma_values):\n",
    "    M = int(N / gamma)\n",
    "    singular_values = []\n",
    "    \n",
    "    # Generate matrices and compute singular values\n",
    "    for _ in range(num_Ts):\n",
    "        A = generate_complex_matrix(N, M)\n",
    "        svd_vals = np.linalg.svd(A, compute_uv=False)\n",
    "        singular_values.extend(svd_vals)\n",
    "    \n",
    "    singular_values = np.array(singular_values)\n",
    "    print(f'{gamma=}')\n",
    "    print(f'min={singular_values.min():.2f}, max={singular_values.max():.2f}')\n",
    "    \n",
    "    # Plot histogram of singular values\n",
    "    ax.hist(singular_values, bins=50, density=True, alpha=0.7, label=\"Empirical\")\n",
    "    \n",
    "    # Plot theoretical Marchenko-Pastur distribution for singular values\n",
    "    x_vals = np.linspace(0, max(2, (1 + np.sqrt(gamma)) + 0.5), 1000)\n",
    "    mp_pdf = marchenko_pastur_svd_pdf(x_vals, gamma)\n",
    "    ax.plot(x_vals, mp_pdf, 'r-', label=\"Theoretical\")\n",
    "    \n",
    "    min_sv = np.abs(1 - np.sqrt(gamma))\n",
    "    max_sv = (1 + np.sqrt(gamma))\n",
    "    \n",
    "    ax.axvline(min_sv, color='g', linestyle='--', label=f'Min SV: {min_sv:.2f}')\n",
    "    ax.axvline(max_sv, color='b', linestyle='--', label=f'Max SV: {max_sv:.2f}')\n",
    "    \n",
    "    if gamma > 1:\n",
    "        ax.plot([0], [(gamma - 1) / gamma], 'ro', markersize=10, label=\"Point mass at 0\")\n",
    "    \n",
    "    ax.set_title(f\"γ = {gamma}\")\n",
    "    ax.set_xlabel(\"Singular Value\")\n",
    "    ax.set_ylabel(\"Density\")\n",
    "    ax.legend()\n",
    "    fig.show()\n",
    "\n",
    "plt.tight_layout()"
   ],
   "outputs": [
    {
     "name": "stdout",
     "output_type": "stream",
     "text": [
      "gamma=128\n",
      "min=9.50, max=13.30\n",
      "gamma=256\n",
      "min=13.81, max=18.66\n"
     ]
    }
   ],
   "execution_count": 86
  },
  {
   "metadata": {
    "ExecuteTime": {
     "end_time": "2024-12-10T09:26:10.946821Z",
     "start_time": "2024-12-10T09:26:10.833071Z"
    }
   },
   "cell_type": "code",
   "source": [
    "N = 256\n",
    "M = 512\n",
    "A = generate_complex_matrix(N, M)\n",
    "v_in = 1/np.sqrt(M)*np.ones(M)\n",
    "(np.abs(A@v_in)**2).sum()"
   ],
   "id": "eb53586d3290976e",
   "outputs": [
    {
     "data": {
      "text/plain": [
       "0.45002438108227266"
      ]
     },
     "execution_count": 108,
     "metadata": {},
     "output_type": "execute_result"
    }
   ],
   "execution_count": 108
  },
  {
   "metadata": {},
   "cell_type": "markdown",
   "source": [
    "# Expected maximal SVD value for finite size N \n",
    "This might explain the N dependance. For larger matrices we have a larger chance of hitting a large SVD value. (which is bounded from above by 4 for $N\\rightarrow\\infty$)"
   ],
   "id": "5d360f04a2b7e0e7"
  },
  {
   "metadata": {
    "ExecuteTime": {
     "end_time": "2024-12-11T10:27:18.674758Z",
     "start_time": "2024-12-11T10:26:45.616266Z"
    }
   },
   "cell_type": "code",
   "source": [
    "import numpy as np\n",
    "from scipy.integrate import quad\n",
    "import matplotlib.pyplot as plt\n",
    "\n",
    "def marchenko_pastur_pdf(x, q):\n",
    "    \"\"\"\n",
    "    PDF of the Marchenko-Pastur distribution.\n",
    "    \"\"\"\n",
    "    a = (1 - np.sqrt(q))**2\n",
    "    b = (1 + np.sqrt(q))**2\n",
    "    if a <= x <= b:\n",
    "        return np.sqrt((b - x) * (x - a)) / (2 * np.pi * q * x)\n",
    "    else:\n",
    "        return 0\n",
    "\n",
    "def marchenko_pastur_cdf(x, q):\n",
    "    \"\"\"\n",
    "    CDF of the Marchenko-Pastur distribution, computed by integrating the PDF.\n",
    "    \"\"\"\n",
    "    a = (1 - np.sqrt(q))**2\n",
    "    if x < a:\n",
    "        return 0\n",
    "    b = (1 + np.sqrt(q))**2\n",
    "    if x > b:\n",
    "        return 1\n",
    "    result, _ = quad(lambda t: marchenko_pastur_pdf(t, q), a, x)\n",
    "    return result\n",
    "\n",
    "def expected_maximum(N, q):\n",
    "    \"\"\"\n",
    "    Compute the expected maximum for N samples from the Marchenko-Pastur distribution.\n",
    "    \"\"\"\n",
    "    a = (1 - np.sqrt(q))**2\n",
    "    b = (1 + np.sqrt(q))**2\n",
    "\n",
    "    def integrand(x):\n",
    "        f_x = marchenko_pastur_pdf(x, q)\n",
    "        F_x = marchenko_pastur_cdf(x, q)\n",
    "        return x * N * (F_x**(N-1)) * f_x\n",
    "\n",
    "    result, _ = quad(integrand, a, b)\n",
    "    return result\n",
    "\n",
    "# Parameters\n",
    "q = 0.5  # Ratio M/N\n",
    "N_values = 2**np.linspace(1, 20, 20)\n",
    "\n",
    "# Compute E[max_s] for each N\n",
    "expected_max_values = [expected_maximum(N, q) for N in N_values]\n",
    "\n",
    "# Plot\n",
    "plt.figure(figsize=(8, 6))\n",
    "plt.plot(N_values, expected_max_values, marker=\"o\", label=f\"Marchenko-Pastur (q={q})\", color=\"blue\")\n",
    "plt.xscale(\"log\")\n",
    "plt.xlabel(\"Number of Samples (N) [log scale]\")\n",
    "plt.ylabel(\"Expected Maximum (E[max_s])\")\n",
    "plt.title(\"Expected Maximum vs. Number of Samples for Marchenko-Pastur\")\n",
    "plt.grid(visible=True, which=\"both\", linestyle=\"--\", linewidth=0.5)\n",
    "plt.legend()\n",
    "plt.show()\n",
    "\n",
    "# Print results for reference\n",
    "for N, value in zip(N_values, expected_max_values):\n",
    "    print(f\"N={N}, E[max_s]={value:.6f}\")\n"
   ],
   "id": "b463e992864b1f47",
   "outputs": [
    {
     "name": "stderr",
     "output_type": "stream",
     "text": [
      "C:\\Users\\owner\\AppData\\Local\\Temp\\ipykernel_71288\\3005568292.py:41: IntegrationWarning: The occurrence of roundoff error is detected, which prevents \n",
      "  the requested tolerance from being achieved.  The error may be \n",
      "  underestimated.\n",
      "  result, _ = quad(integrand, a, b)\n",
      "C:\\Users\\owner\\AppData\\Local\\Temp\\ipykernel_71288\\3005568292.py:41: IntegrationWarning: The maximum number of subdivisions (50) has been achieved.\n",
      "  If increasing the limit yields no improvement it is advised to analyze \n",
      "  the integrand in order to determine the difficulties.  If the position of a \n",
      "  local difficulty can be determined (singularity, discontinuity) one will \n",
      "  probably gain from splitting up the interval and calling the integrator \n",
      "  on the subranges.  Perhaps a special-purpose integrator should be used.\n",
      "  result, _ = quad(integrand, a, b)\n"
     ]
    },
    {
     "name": "stdout",
     "output_type": "stream",
     "text": [
      "N=2.0, E[max_s]=1.395469\n",
      "N=4.0, E[max_s]=1.790171\n",
      "N=8.0, E[max_s]=2.128743\n",
      "N=16.0, E[max_s]=2.387216\n",
      "N=32.0, E[max_s]=2.569668\n",
      "N=64.0, E[max_s]=2.692417\n",
      "N=128.0, E[max_s]=2.772717\n",
      "N=256.0, E[max_s]=2.824415\n",
      "N=512.0, E[max_s]=2.857396\n",
      "N=1024.0, E[max_s]=2.878327\n",
      "N=2048.0, E[max_s]=2.891571\n",
      "N=4096.0, E[max_s]=2.899936\n",
      "N=8192.0, E[max_s]=2.905214\n",
      "N=16384.0, E[max_s]=2.908543\n",
      "N=32768.0, E[max_s]=2.910644\n",
      "N=65536.0, E[max_s]=2.911977\n",
      "N=131072.0, E[max_s]=2.912855\n",
      "N=262144.0, E[max_s]=2.913552\n",
      "N=524288.0, E[max_s]=2.914527\n",
      "N=1048576.0, E[max_s]=2.916910\n"
     ]
    }
   ],
   "execution_count": 13
  },
  {
   "metadata": {},
   "cell_type": "markdown",
   "source": "# optimize SLM3 \"analytically\" with SVD on N//2 pixels  ",
   "id": "255f36869a09ffc4"
  },
  {
   "metadata": {},
   "cell_type": "markdown",
   "source": [
    "## what does phase only do?\n",
    "It seems thhat thie higest $s^2$ that I get for $N=256$ is $\\approx1.95$, which is significantly less than $4$. And that having phase only reduces the energy transfer by $\\approx0.7$.  I still get $1.6$ which is nice, but we need to cut this in half because we only half the matrix. We do get also 0.25 from the othe r half. TODO this. "
   ],
   "id": "d1c3fed3e0a19eb7"
  },
  {
   "metadata": {
    "ExecuteTime": {
     "end_time": "2024-12-11T12:48:26.380938Z",
     "start_time": "2024-12-11T12:48:26.260548Z"
    }
   },
   "cell_type": "code",
   "source": [
    "import numpy as np\n",
    "\n",
    "N = 256\n",
    "sig_for_gauss_iid = np.sqrt(2) / 2\n",
    "T = 1 / np.sqrt(N) * np.random.normal(loc=0, scale=sig_for_gauss_iid, size=(N, N, 2)).view(np.complex128)[:, :, 0]\n",
    "\n",
    "T_sub = T[N//2:, :N//2]\n",
    "U, S, Vh = np.linalg.svd(T_sub)\n",
    "max_energy_input = Vh[0].conj()  # Corresponding to the largest singular value\n",
    "max_energy_input_phase_only = 1/np.sqrt(N/2)*np.ones_like(max_energy_input) * np.exp(1j*np.angle(max_energy_input))\n",
    "\n",
    "max_energy_output = T_sub @ max_energy_input\n",
    "max_energy_output_phase_only = T_sub @ max_energy_input_phase_only\n",
    "energy = np.sum(np.abs(max_energy_output)**2)\n",
    "energy_phase_only = np.sum(np.abs(max_energy_output_phase_only)**2)\n",
    "\n",
    "input_energy = (np.abs(max_energy_input_phase_only)**2).sum()\n",
    "print(f'{input_energy=}')\n",
    "print(\"Maximized energy transfer:\", energy)\n",
    "print(\"Maximized energy transfer phase only:\", energy_phase_only)\n",
    "print(\"ratio:\", energy_phase_only**2 / energy**2)\n"
   ],
   "id": "de1d79665b169eff",
   "outputs": [
    {
     "name": "stdout",
     "output_type": "stream",
     "text": [
      "input_energy=1.0\n",
      "Maximized energy transfer: 1.9917731807656383\n",
      "Maximized energy transfer phase only: 1.6873136856520992\n",
      "ratio: 0.7176486917929871\n"
     ]
    }
   ],
   "execution_count": 178
  },
  {
   "metadata": {
    "ExecuteTime": {
     "end_time": "2024-12-11T10:31:03.045937Z",
     "start_time": "2024-12-11T10:31:02.958409Z"
    }
   },
   "cell_type": "code",
   "source": [
    "# (np.abs(max_energy_input)**2).sum()\n",
    "(np.abs(max_energy_input_phase_only)**2).sum()"
   ],
   "id": "fcb847c9065e4aa6",
   "outputs": [
    {
     "data": {
      "text/plain": [
       "0.5"
      ]
     },
     "execution_count": 55,
     "metadata": {},
     "output_type": "execute_result"
    }
   ],
   "execution_count": 55
  },
  {
   "metadata": {
    "ExecuteTime": {
     "end_time": "2024-12-11T12:48:17.239568Z",
     "start_time": "2024-12-11T12:48:17.120774Z"
    }
   },
   "cell_type": "code",
   "source": [
    "import numpy as np\n",
    "\n",
    "N = 256\n",
    "sig_for_gauss_iid = np.sqrt(2) / 2\n",
    "T = 1 / np.sqrt(N) * np.random.normal(loc=0, scale=sig_for_gauss_iid, size=(N, N, 2)).view(np.complex128)[:, :, 0]\n",
    "\n",
    "# in_indexes = np.index_exp[N//2:] # TODO: choose randomly N/2 numbers, and extract the relevant sub matrix\n",
    "T_sub = T[N//2:, :N//2]  \n",
    "U, S, Vh = np.linalg.svd(T_sub)\n",
    "good_input = Vh[0].conj()  # Corresponding to the largest singular value\n",
    "tot_good_input_phase_only = 1/np.sqrt(N)*np.ones(N, dtype=np.complex128)\n",
    "tot_good_input_phase_only[N//2:] *= np.exp(1j*np.angle(good_input))\n",
    "\n",
    "output = T @ tot_good_input_phase_only\n",
    "full_energy = np.sum(np.abs(output)**2)\n",
    "half_energy = np.sum(np.abs(output[:N//2])**2)\n",
    "\n",
    "output_sub = T_sub @ tot_good_input_phase_only[N//2:]\n",
    "energy_sub = np.sum(np.abs(output_sub)**2)\n",
    "\n",
    "print(f\"{half_energy=:.2f}\")\n",
    "print(f\"{full_energy=:.2f}\")\n",
    "print(f\"{energy_sub=:.2f}\")"
   ],
   "id": "665cb76bb67fb3dd",
   "outputs": [
    {
     "name": "stdout",
     "output_type": "stream",
     "text": [
      "half_energy=0.57\n",
      "full_energy=1.02\n",
      "energy_sub=0.79\n"
     ]
    }
   ],
   "execution_count": 168
  }
 ],
 "metadata": {
  "kernelspec": {
   "display_name": "Python 3",
   "language": "python",
   "name": "python3"
  },
  "language_info": {
   "codemirror_mode": {
    "name": "ipython",
    "version": 2
   },
   "file_extension": ".py",
   "mimetype": "text/x-python",
   "name": "python",
   "nbconvert_exporter": "python",
   "pygments_lexer": "ipython2",
   "version": "2.7.6"
  }
 },
 "nbformat": 4,
 "nbformat_minor": 5
}
