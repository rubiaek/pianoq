{
 "cells": [
  {
   "metadata": {},
   "cell_type": "markdown",
   "source": [
    "To make sure I understood this correctly, I have to make sure everything works empirically. This tool a while with several AIs... Anyway, bottom line is that things seem to work. And for a certain $\\gamma=\\frac{N}{M}$ we shuold expect $s_{max}=1+\n",
    "\\sqrt{\\gamma}$"
   ],
   "id": "e66f713d9124604"
  },
  {
   "cell_type": "code",
   "id": "initial_id",
   "metadata": {
    "collapsed": true,
    "ExecuteTime": {
     "end_time": "2024-12-10T09:19:27.040383Z",
     "start_time": "2024-12-10T09:19:08.699170Z"
    }
   },
   "source": [
    "import numpy as np\n",
    "import matplotlib.pyplot as plt\n",
    "\n",
    "# Parameters\n",
    "N = 256\n",
    "gamma_values = [128, 256]\n",
    "num_Ts = 200000 \n",
    "\n",
    "def generate_complex_matrix(N, M):\n",
    "    \"\"\"Generate a normalized complex Gaussian random matrix.\"\"\"\n",
    "    sigma = np.sqrt(2) / 2\n",
    "    real_part = np.random.normal(0, sigma, size=(N, M))\n",
    "    imag_part = np.random.normal(0, sigma, size=(N, M))\n",
    "    A = (real_part + 1j * imag_part) / np.sqrt(M)  \n",
    "    return A\n",
    "\n",
    "def marchenko_pastur_svd_pdf(x, gamma):\n",
    "    x_plus = (1 + np.sqrt(gamma)) ** 2\n",
    "    x_minus = (1 - np.sqrt(gamma)) ** 2\n",
    "    density = np.zeros_like(x)\n",
    "    valid = (x ** 2 >= x_minus) & (x ** 2 <= x_plus)\n",
    "    epsilon = 1e-10  # Small value to avoid division by zero\n",
    "    density[valid] = (1 / (gamma*np.pi * np.maximum(x[valid], epsilon))) * np.sqrt((x_plus - x[valid] ** 2) * (x[valid] ** 2 - x_minus))\n",
    "    \n",
    "    if gamma > 1:\n",
    "        density *= gamma\n",
    "        \n",
    "        # Add point mass at zero\n",
    "        if x[0] == 0:\n",
    "            density[0] = (gamma - 1) / gamma\n",
    "\n",
    "    \n",
    "    return density\n",
    "\n",
    "fig, axs = plt.subplots(1, len(gamma_values), figsize=(18, 5))\n",
    "\n",
    "for ax, gamma in zip(axs, gamma_values):\n",
    "    M = int(N / gamma)\n",
    "    singular_values = []\n",
    "    \n",
    "    # Generate matrices and compute singular values\n",
    "    for _ in range(num_Ts):\n",
    "        A = generate_complex_matrix(N, M)\n",
    "        svd_vals = np.linalg.svd(A, compute_uv=False)\n",
    "        singular_values.extend(svd_vals)\n",
    "    \n",
    "    singular_values = np.array(singular_values)\n",
    "    print(f'{gamma=}')\n",
    "    print(f'min={singular_values.min():.2f}, max={singular_values.max():.2f}')\n",
    "    \n",
    "    # Plot histogram of singular values\n",
    "    ax.hist(singular_values, bins=50, density=True, alpha=0.7, label=\"Empirical\")\n",
    "    \n",
    "    # Plot theoretical Marchenko-Pastur distribution for singular values\n",
    "    x_vals = np.linspace(0, max(2, (1 + np.sqrt(gamma)) + 0.5), 1000)\n",
    "    mp_pdf = marchenko_pastur_svd_pdf(x_vals, gamma)\n",
    "    ax.plot(x_vals, mp_pdf, 'r-', label=\"Theoretical\")\n",
    "    \n",
    "    min_sv = np.abs(1 - np.sqrt(gamma))\n",
    "    max_sv = (1 + np.sqrt(gamma))\n",
    "    \n",
    "    ax.axvline(min_sv, color='g', linestyle='--', label=f'Min SV: {min_sv:.2f}')\n",
    "    ax.axvline(max_sv, color='b', linestyle='--', label=f'Max SV: {max_sv:.2f}')\n",
    "    \n",
    "    if gamma > 1:\n",
    "        ax.plot([0], [(gamma - 1) / gamma], 'ro', markersize=10, label=\"Point mass at 0\")\n",
    "    \n",
    "    ax.set_title(f\"γ = {gamma}\")\n",
    "    ax.set_xlabel(\"Singular Value\")\n",
    "    ax.set_ylabel(\"Density\")\n",
    "    ax.legend()\n",
    "    fig.show()\n",
    "\n",
    "plt.tight_layout()"
   ],
   "outputs": [
    {
     "name": "stdout",
     "output_type": "stream",
     "text": [
      "gamma=128\n",
      "min=9.50, max=13.30\n",
      "gamma=256\n",
      "min=13.81, max=18.66\n"
     ]
    }
   ],
   "execution_count": 86
  },
  {
   "metadata": {
    "ExecuteTime": {
     "end_time": "2024-12-10T09:26:10.946821Z",
     "start_time": "2024-12-10T09:26:10.833071Z"
    }
   },
   "cell_type": "code",
   "source": [
    "N = 256\n",
    "M = 512\n",
    "A = generate_complex_matrix(N, M)\n",
    "v_in = 1/np.sqrt(M)*np.ones(M)\n",
    "(np.abs(A@v_in)**2).sum()"
   ],
   "id": "eb53586d3290976e",
   "outputs": [
    {
     "data": {
      "text/plain": [
       "0.45002438108227266"
      ]
     },
     "execution_count": 108,
     "metadata": {},
     "output_type": "execute_result"
    }
   ],
   "execution_count": 108
  }
 ],
 "metadata": {
  "kernelspec": {
   "display_name": "Python 3",
   "language": "python",
   "name": "python3"
  },
  "language_info": {
   "codemirror_mode": {
    "name": "ipython",
    "version": 2
   },
   "file_extension": ".py",
   "mimetype": "text/x-python",
   "name": "python",
   "nbconvert_exporter": "python",
   "pygments_lexer": "ipython2",
   "version": "2.7.6"
  }
 },
 "nbformat": 4,
 "nbformat_minor": 5
}
