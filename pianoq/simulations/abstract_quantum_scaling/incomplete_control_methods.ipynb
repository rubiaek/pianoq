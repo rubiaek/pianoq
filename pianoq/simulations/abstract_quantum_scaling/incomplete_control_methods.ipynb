{
 "cells": [
  {
   "cell_type": "code",
   "execution_count": 2,
   "source": [
    "%load_ext autoreload\n",
    "%autoreload 2\n",
    "%matplotlib notebook\n",
    "\n",
    "import numpy as np\n",
    "import matplotlib.pyplot as plt\n",
    "from pianoq.simulations.abstract_quantum_scaling.abstract_quantum_scaling import QScalingSimulation\n",
    "plt.rcParams['image.cmap'] = 'viridis'"
   ],
   "metadata": {
    "collapsed": false
   },
   "outputs": []
  },
  {
   "cell_type": "markdown",
   "source": [
    "# Focus on the classical case to better understand the incomplete control"
   ],
   "metadata": {
    "collapsed": false
   }
  },
  {
   "cell_type": "code",
   "execution_count": 3,
   "source": [
    "plt.close('all')\n",
    "# initialize\n",
    "N = 256\n",
    "out_mode = N // 2\n",
    "T = 1/np.sqrt(N) * np.random.normal(loc=0, scale=np.sqrt(2)/2, size=(N, N, 2)).view(np.complex128)[:, :, 0]\n",
    "\n",
    "# back propagate from desired\n",
    "desired_vec = np.zeros(N, complex)\n",
    "desired_vec[out_mode] = 1\n",
    "at_slm = T.transpose() @ desired_vec\n",
    "\n",
    "# best S\n",
    "angles_from_out = np.angle(at_slm)\n",
    "S = -angles_from_out\n",
    "\n",
    "# incomplete control macro pixels\n",
    "macro_pixel_size = 2\n",
    "max_index = (len(at_slm)//macro_pixel_size)*macro_pixel_size\n",
    "\n",
    "truncated = at_slm[:max_index]\n",
    "averaged = truncated.reshape((-1, macro_pixel_size)).sum(axis=1)\n",
    "repeated = np.repeat(averaged, macro_pixel_size)\n",
    "end_val = at_slm[max_index:].sum()\n",
    "padded = np.pad(repeated, (0, len(at_slm) % macro_pixel_size), constant_values=(0, end_val))\n",
    "S_macro_pixels = -np.angle(padded)\n",
    "\n",
    "# incomplete control zeroing\n",
    "N_to_remove = round(N * 0.5)\n",
    "global_phase = np.angle(at_slm[N-N_to_remove:].sum())\n",
    "S_zero = S.copy()\n",
    "S_zero[N-N_to_remove:] = global_phase + 0.5\n",
    "\n",
    "# propagate\n",
    "in_vec = np.ones(N, complex) / np.sqrt(N)\n",
    "out_full =         T @ np.diag(np.exp(1j*S))              @ in_vec\n",
    "out_macro_pixels = T @ np.diag(np.exp(1j*S_macro_pixels)) @ in_vec\n",
    "out_zero =         T @ np.diag(np.exp(1j*S_zero))         @ in_vec\n",
    "\n",
    "# plotting\n",
    "fig, ax = plt.subplots()\n",
    "ax.plot(np.abs(out_full)**2, label='out full')\n",
    "ax.plot(np.abs(out_macro_pixels)**2, label='macro pixels')\n",
    "ax.plot(np.abs(out_zero)**2, label='zero')\n",
    "ax.axhline(np.pi/16, color='c', linestyle='--')\n",
    "ax.axhline(np.pi/8, color='b', linestyle='--')\n",
    "ax.axhline(np.pi/4, color='g', linestyle='--')\n",
    "ax.set_ylim([0, 1])\n",
    "ax.set_xlim([N//2 - 10, N//2 + 10])\n",
    "ax.legend()"
   ],
   "metadata": {
    "collapsed": false
   },
   "outputs": []
  },
  {
   "cell_type": "markdown",
   "source": [
    "## I think the conclusion is that it should give different results"
   ],
   "metadata": {
    "collapsed": false
   }
  },
  {
   "cell_type": "code",
   "execution_count": 4,
   "source": [
    "N = 60000\n",
    "ms = [1, 2, 3, 4, 5, 8, 10, 20]\n",
    "I_MPXS = []\n",
    "I_ZROS = []\n",
    "for m in ms:\n",
    "    # The 1/sqrt(2N) is because I have 2N number with variance of 1. This means this is a good row of a TM\n",
    "    # But into this TM should enter light that is 1/sqrt(N)\n",
    "    X = 1/np.sqrt(N) * 1/np.sqrt(2*N) * np.random.normal(size=(N, 2)).view(np.complex128)\n",
    "\n",
    "    # Macro pixels\n",
    "    Y = X.reshape(-1, m).copy()\n",
    "    Y_macrod = Y.sum(axis=1)\n",
    "    out_macros = np.abs(Y_macrod).sum()\n",
    "    I_macro_ps = np.abs(out_macros)**2\n",
    "    I_MPXS.append(I_macro_ps)\n",
    "\n",
    "    # Zeroing\n",
    "    # First 1/m with corrected phases, rest with uncorrected phases\n",
    "    out_optimized = np.abs( X[:N//m] ).sum()\n",
    "    out_not_optimized = np.abs( X[N//m:].sum() )\n",
    "    out_zero = out_optimized + out_not_optimized\n",
    "    print(f'{m=}: optimized-to-not ratio={out_not_optimized / out_optimized:.3f}')\n",
    "    I_zeroing = np.abs(out_zero)**2\n",
    "    I_ZROS.append((I_zeroing))\n",
    "\n",
    "dummy = np.linspace(0, 1, 100)\n",
    "y_linear = np.pi/4 * dummy\n",
    "y_sqr = np.pi/4 * dummy**2\n",
    "\n",
    "ms = np.array(ms)\n",
    "_, ax = plt.subplots()\n",
    "ax.plot(1/ms, I_MPXS, '*', label='macro pixels', color='#1f77b4')\n",
    "ax.plot(1/ms, I_ZROS, '*', label='zeroing', color='#ff7f0e')\n",
    "ax.plot(dummy, y_linear, linestyle=':', color='#1f77b4', label='analytic linear')\n",
    "ax.plot(dummy, y_sqr, linestyle=':', color='#ff7f0e', label='analytic sqr')\n",
    "ax.set_xlabel('Degree of control (1/m)')\n",
    "ax.set_ylabel('Intensity (a.u.)')\n",
    "ax.legend()"
   ],
   "metadata": {
    "collapsed": false
   },
   "outputs": []
  },
  {
   "cell_type": "markdown",
   "source": [
    "### And now I think I even understand this, see under the \"thoughts and calculations\" file"
   ],
   "metadata": {
    "collapsed": false
   }
  }
 ],
 "metadata": {
  "kernelspec": {
   "display_name": "Python 3",
   "language": "python",
   "name": "python3"
  },
  "language_info": {
   "codemirror_mode": {
    "name": "ipython",
    "version": 2
   },
   "file_extension": ".py",
   "mimetype": "text/x-python",
   "name": "python",
   "nbconvert_exporter": "python",
   "pygments_lexer": "ipython2",
   "version": "2.7.6"
  }
 },
 "nbformat": 4,
 "nbformat_minor": 0
}
