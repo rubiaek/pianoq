{
 "cells": [
  {
   "cell_type": "code",
   "id": "initial_id",
   "metadata": {
    "collapsed": true,
    "ExecuteTime": {
     "end_time": "2024-11-06T11:24:29.539669Z",
     "start_time": "2024-11-06T11:23:07.774022Z"
    }
   },
   "source": [
    "%autoreload 2 \n",
    "import numpy as np \n",
    "from pianoq.misc.mplt import mplot, mimshow\n",
    "from pianoq.simulations.abstract_quantum_scaling.slm3_simulation import QWFSSimulation\n",
    "# s = QWFSSimulation(N=32, T_method='gaus_iid')\n",
    "N_modes = 32\n",
    "s = QWFSSimulation(N=N_modes, T_method='unitary')\n",
    "\n",
    "\n",
    "algos = ['slsqp', \"L-BFGS-B\", 'simulated_annealing', 'genetic_algorithm', 'PSO']\n",
    "configs = ['SLM1', 'SLM2', 'SLM3']\n",
    "T_methods = ['unitary', 'gaus_iid']\n",
    "\n",
    "N_tries = 1\n",
    "N_algos = len(algos)  # \n",
    "N_configs = len(configs)\n",
    "N_T_methods = len(T_methods)\n",
    "\n",
    "results = np.zeros((N_T_methods, N_configs, N_tries, N_algos))\n",
    "best_phases = np.zeros((N_T_methods, N_configs, N_tries, N_algos, s.N))\n",
    "Ts = []\n",
    "\n",
    "for try_no in range(N_tries):\n",
    "    print(f'{try_no=}')\n",
    "    for T_method_no, T_method in enumerate(T_methods):\n",
    "        s.T_method = T_method\n",
    "        s.reset_T()\n",
    "        Ts.append(s.T)\n",
    "        for config_no, config in enumerate(configs):\n",
    "            for algo_no, algo in enumerate(algos):\n",
    "                s.config = config\n",
    "                s.slm_phases = np.exp(1j*np.zeros(s.N, dtype=np.complex128))\n",
    "                I, res = s.optimize(algo=algo)\n",
    "                v_out = s.propagate()\n",
    "                I_tot = (np.abs(v_out)**2).sum() \n",
    "                I_good = np.abs(v_out[s.N//2])**2\n",
    "                # print(rf'{method=}, {I_tot=:.4f}, {I_good=:.4f}, {s.f_calls=}')\n",
    "                results[T_method_no, config_no, try_no, algo_no] = I_good\n",
    "                best_phases[T_method_no, config_no, try_no, algo_no] = np.angle(s.slm_phases)"
   ],
   "outputs": [
    {
     "name": "stdout",
     "output_type": "stream",
     "text": [
      "try_no=0\n",
      "Done initializing random average cost\n",
      "Done initializing random average cost\n",
      "Done initializing random average cost\n",
      "Done initializing random average cost\n",
      "Done initializing random average cost\n",
      "Done initializing random average cost\n"
     ]
    }
   ],
   "execution_count": 31
  },
  {
   "metadata": {
    "ExecuteTime": {
     "end_time": "2024-11-06T11:24:51.532667Z",
     "start_time": "2024-11-06T11:24:51.260342Z"
    }
   },
   "cell_type": "code",
   "source": [
    "# results = np.zeros((N_configs, N_tries, N_algos))\n",
    "# results = np.load(r'C:\\temp\\qwfs_results.npy')\n",
    "import matplotlib.pyplot as plt \n",
    "fig, axes = plt.subplots(N_configs, N_T_methods)\n",
    "for config_no, config in enumerate(configs):\n",
    "    for T_method_no, T_method in enumerate(T_methods):\n",
    "        # upper_lim = 1 if T_method == 'unitary' else 2 \n",
    "        # imm = axes[config_no, T_method_no].imshow(results[T_method_no, config_no], clim=(0, upper_lim))\n",
    "        imm = axes[config_no, T_method_no].imshow(results[T_method_no, config_no])\n",
    "        axes[config_no, T_method_no].set_title(rf'{config}, {T_method}')\n",
    "        fig.colorbar(imm, ax=axes[config_no, T_method_no])\n",
    "fig.show()"
   ],
   "id": "94e1f4ff5de07374",
   "outputs": [],
   "execution_count": 33
  },
  {
   "metadata": {
    "ExecuteTime": {
     "end_time": "2024-11-06T11:18:46.255238Z",
     "start_time": "2024-11-06T11:18:46.173899Z"
    }
   },
   "cell_type": "code",
   "source": "np.save(r'C:\\temp\\qwfs_results.npy', results)",
   "id": "df2e2d62dc03694",
   "outputs": [],
   "execution_count": 26
  },
  {
   "metadata": {},
   "cell_type": "code",
   "outputs": [],
   "execution_count": null,
   "source": [
    "for method, r in zip(algos, results.T):\n",
    "    print(f'{method:<20} {r.mean():.3f} +- {r.std():.3f}')"
   ],
   "id": "cb1559b448d95132"
  },
  {
   "metadata": {
    "ExecuteTime": {
     "end_time": "2024-11-03T11:31:19.724273Z",
     "start_time": "2024-11-03T11:31:19.568383Z"
    }
   },
   "cell_type": "code",
   "source": "mplot(np.abs(v_out)**2)",
   "id": "6b37625723774844",
   "outputs": [
    {
     "data": {
      "text/plain": [
       "(<Figure size 640x480 with 1 Axes>, <AxesSubplot: >)"
      ]
     },
     "execution_count": 153,
     "metadata": {},
     "output_type": "execute_result"
    }
   ],
   "execution_count": 153
  },
  {
   "metadata": {
    "ExecuteTime": {
     "end_time": "2024-11-06T11:21:36.064887Z",
     "start_time": "2024-11-06T11:21:35.978895Z"
    }
   },
   "cell_type": "code",
   "source": [
    "display(np.pi/4)\n",
    "display((np.pi/4)**2)"
   ],
   "id": "adeab62c109fe4c8",
   "outputs": [
    {
     "data": {
      "text/plain": [
       "0.7853981633974483"
      ]
     },
     "metadata": {},
     "output_type": "display_data"
    },
    {
     "data": {
      "text/plain": [
       "0.6168502750680849"
      ]
     },
     "metadata": {},
     "output_type": "display_data"
    }
   ],
   "execution_count": 29
  }
 ],
 "metadata": {
  "kernelspec": {
   "display_name": "Python 3",
   "language": "python",
   "name": "python3"
  },
  "language_info": {
   "codemirror_mode": {
    "name": "ipython",
    "version": 2
   },
   "file_extension": ".py",
   "mimetype": "text/x-python",
   "name": "python",
   "nbconvert_exporter": "python",
   "pygments_lexer": "ipython2",
   "version": "2.7.6"
  }
 },
 "nbformat": 4,
 "nbformat_minor": 5
}
