{
 "cells": [
  {
   "metadata": {},
   "cell_type": "markdown",
   "source": [
    "# Statistics\n",
    "## Run statistics"
   ],
   "id": "ce996ddae4b8164e"
  },
  {
   "cell_type": "code",
   "id": "initial_id",
   "metadata": {
    "collapsed": true,
    "ExecuteTime": {
     "end_time": "2024-11-13T11:23:38.598583Z",
     "start_time": "2024-11-13T11:23:36.970077Z"
    }
   },
   "source": [
    "%autoreload 2 \n",
    "import numpy as np \n",
    "from pianoq.misc.mplt import mplot, mimshow\n",
    "from pianoq.simulations.abstract_quantum_scaling.slm3_simulation import QWFSSimulation\n",
    "from pianoq.misc.mplc_writeup_imports import * \n"
   ],
   "outputs": [],
   "execution_count": 2
  },
  {
   "metadata": {},
   "cell_type": "code",
   "outputs": [],
   "execution_count": null,
   "source": [
    "N_modes = 64\n",
    "s = QWFSSimulation(N=N_modes)\n",
    "\n",
    "# algos = ['slsqp', \"L-BFGS-B\", 'simulated_annealing', 'genetic_algorithm', 'PSO']\n",
    "algos = ['slsqp', \"L-BFGS-B\", 'simulated_annealing']\n",
    "configs = ['SLM1', 'SLM2', 'SLM3']\n",
    "# configs = ['SLM1']\n",
    "T_methods = ['unitary', 'gaus_iid']\n",
    "\n",
    "N_tries = 100\n",
    "\n",
    "results, Ts, best_phases = s.statistics(algos=algos, configs=configs, T_methods=T_methods, N_tries=N_tries)\n",
    "\n",
    "# results = np.zeros((N_T_methods, N_configs, N_tries, N_algos))\n",
    "\n",
    "np.save(rf'C:\\temp\\{tnow()}_qwfs_results.npy', results)"
   ],
   "id": "a9e8ad74d12c2056"
  },
  {
   "metadata": {},
   "cell_type": "markdown",
   "source": "## Show results ",
   "id": "2d13905a2bb32b9c"
  },
  {
   "metadata": {
    "ExecuteTime": {
     "end_time": "2024-11-13T11:24:07.845572Z",
     "start_time": "2024-11-13T11:24:07.733092Z"
    }
   },
   "cell_type": "code",
   "source": [
    "results = np.load(r'C:\\temp\\2024_11_12_20_23_30_qwfs_results.npy')\n",
    "algos = ['slsqp', \"L-BFGS-B\", 'simulated_annealing']\n",
    "configs = ['SLM1', 'SLM2', 'SLM3']\n",
    "# configs = ['SLM1']\n",
    "T_methods = ['unitary', 'gaus_iid']\n",
    "N_tries = 100"
   ],
   "id": "16b3df22347865e3",
   "outputs": [],
   "execution_count": 4
  },
  {
   "metadata": {
    "ExecuteTime": {
     "end_time": "2024-11-13T11:24:08.917795Z",
     "start_time": "2024-11-13T11:24:08.813691Z"
    }
   },
   "cell_type": "code",
   "source": "results[0, 0]",
   "id": "a0cc674f302b2a7d",
   "outputs": [
    {
     "data": {
      "text/plain": [
       "array([[0.76482964, 0.76532619, 0.76531404],\n",
       "       [0.84111476, 0.84122321, 0.84114461],\n",
       "       [0.80832086, 0.80832859, 0.80835752],\n",
       "       [0.7800289 , 0.78003977, 0.78003976],\n",
       "       [0.81555082, 0.81556258, 0.81555312],\n",
       "       [0.77489554, 0.77497648, 0.77497649],\n",
       "       [0.82082817, 0.82087968, 0.82087968],\n",
       "       [0.7645589 , 0.76458494, 0.76459514],\n",
       "       [0.78350761, 0.7837889 , 0.78378888],\n",
       "       [0.80733148, 0.80695805, 0.80737878],\n",
       "       [0.80939207, 0.8094015 , 0.80940152],\n",
       "       [0.84353077, 0.84343612, 0.84356345],\n",
       "       [0.8073006 , 0.80782655, 0.80759662],\n",
       "       [0.79174587, 0.79178644, 0.79178518],\n",
       "       [0.81752503, 0.8175948 , 0.81728741],\n",
       "       [0.79279608, 0.78689922, 0.79282352],\n",
       "       [0.81145208, 0.81146632, 0.81131072],\n",
       "       [0.77441259, 0.77442158, 0.77424421],\n",
       "       [0.76778413, 0.76811699, 0.76805659],\n",
       "       [0.78940954, 0.7898704 , 0.79006399],\n",
       "       [0.78605055, 0.78605347, 0.78605347],\n",
       "       [0.76273461, 0.76224944, 0.76249514],\n",
       "       [0.84160647, 0.84161509, 0.84161513],\n",
       "       [0.81765169, 0.81765272, 0.81786701],\n",
       "       [0.79452519, 0.79453064, 0.79453064],\n",
       "       [0.80801843, 0.80838071, 0.8083807 ],\n",
       "       [0.75909674, 0.75924656, 0.75924653],\n",
       "       [0.79506625, 0.79507463, 0.79507464],\n",
       "       [0.81230019, 0.81230575, 0.81230574],\n",
       "       [0.75065797, 0.75090653, 0.75089854],\n",
       "       [0.78679629, 0.7868356 , 0.7868356 ],\n",
       "       [0.7525324 , 0.75312376, 0.75316733],\n",
       "       [0.78522215, 0.78523344, 0.78523345],\n",
       "       [0.76066385, 0.76067804, 0.76067805],\n",
       "       [0.77381189, 0.77383829, 0.77383867],\n",
       "       [0.82520608, 0.82521209, 0.82544456],\n",
       "       [0.81257972, 0.8127654 , 0.81276536],\n",
       "       [0.80552136, 0.80552507, 0.80550699],\n",
       "       [0.76504455, 0.76516808, 0.76513375],\n",
       "       [0.81198211, 0.8119897 , 0.8119897 ],\n",
       "       [0.83101116, 0.83101916, 0.83101917],\n",
       "       [0.79302858, 0.79320815, 0.79320794],\n",
       "       [0.82880424, 0.82881191, 0.82881191],\n",
       "       [0.84233381, 0.84234849, 0.84228762],\n",
       "       [0.77179697, 0.77180549, 0.77180548],\n",
       "       [0.84720086, 0.84721704, 0.84721841],\n",
       "       [0.8071656 , 0.807181  , 0.807181  ],\n",
       "       [0.74428112, 0.74447582, 0.74447582],\n",
       "       [0.75100565, 0.75109256, 0.75109263],\n",
       "       [0.81760166, 0.81769351, 0.8179103 ],\n",
       "       [0.79644242, 0.79644925, 0.79644923],\n",
       "       [0.79907294, 0.79912232, 0.79941996],\n",
       "       [0.77465224, 0.7746808 , 0.7746808 ],\n",
       "       [0.80640477, 0.80640871, 0.80640869],\n",
       "       [0.7951804 , 0.79644978, 0.79644892],\n",
       "       [0.80797992, 0.80804531, 0.8080453 ],\n",
       "       [0.76110411, 0.76142064, 0.76143435],\n",
       "       [0.7686045 , 0.76851023, 0.76875115],\n",
       "       [0.75596872, 0.75608527, 0.75576519],\n",
       "       [0.82725493, 0.8277577 , 0.82754677],\n",
       "       [0.77735576, 0.77755488, 0.77748232],\n",
       "       [0.80319649, 0.80320446, 0.80320444],\n",
       "       [0.79729648, 0.79752771, 0.79730764],\n",
       "       [0.75229644, 0.75230736, 0.75230737],\n",
       "       [0.7900533 , 0.79018739, 0.79021909],\n",
       "       [0.80835572, 0.80849284, 0.8085089 ],\n",
       "       [0.78955622, 0.78939496, 0.78965093],\n",
       "       [0.76472805, 0.76477911, 0.76477915],\n",
       "       [0.80582445, 0.80560582, 0.80584233],\n",
       "       [0.77993603, 0.77996038, 0.77996405],\n",
       "       [0.74946378, 0.7496259 , 0.74984759],\n",
       "       [0.8187024 , 0.81870571, 0.8187057 ],\n",
       "       [0.7514111 , 0.7514756 , 0.75147553],\n",
       "       [0.80137295, 0.8013827 , 0.8013807 ],\n",
       "       [0.78337086, 0.78346232, 0.78300476],\n",
       "       [0.74388966, 0.74392363, 0.74394488],\n",
       "       [0.78599839, 0.78696345, 0.7871737 ],\n",
       "       [0.71804772, 0.71806358, 0.71805504],\n",
       "       [0.78789105, 0.78790515, 0.78813575],\n",
       "       [0.76774471, 0.76792796, 0.76792794],\n",
       "       [0.82076999, 0.82078467, 0.82078467],\n",
       "       [0.77940424, 0.77979561, 0.77978617],\n",
       "       [0.76848248, 0.76857794, 0.76861032],\n",
       "       [0.77614396, 0.77678852, 0.77719444],\n",
       "       [0.76333129, 0.7633673 , 0.76331393],\n",
       "       [0.79103379, 0.79115244, 0.79093074],\n",
       "       [0.81857127, 0.8185759 , 0.81828422],\n",
       "       [0.82749632, 0.82754996, 0.82754996],\n",
       "       [0.73225229, 0.73228932, 0.73178573],\n",
       "       [0.80740065, 0.80740368, 0.8074034 ],\n",
       "       [0.79479787, 0.79482403, 0.79482404],\n",
       "       [0.76768071, 0.76772265, 0.76772268],\n",
       "       [0.76276668, 0.76277751, 0.76277751],\n",
       "       [0.79863583, 0.79872287, 0.79871524],\n",
       "       [0.85146392, 0.85128895, 0.85147514],\n",
       "       [0.77866394, 0.77874503, 0.77854553],\n",
       "       [0.7783653 , 0.77837712, 0.77830787],\n",
       "       [0.80183654, 0.80212044, 0.80212044],\n",
       "       [0.81451682, 0.81445909, 0.81466905],\n",
       "       [0.79973678, 0.79975337, 0.7997534 ]])"
      ]
     },
     "execution_count": 5,
     "metadata": {},
     "output_type": "execute_result"
    }
   ],
   "execution_count": 5
  },
  {
   "metadata": {
    "ExecuteTime": {
     "end_time": "2024-11-13T11:25:31.271678Z",
     "start_time": "2024-11-13T11:25:30.975739Z"
    }
   },
   "cell_type": "code",
   "source": [
    "# all configurations \n",
    "fig, axes = plt.subplots(len(configs), len(T_methods))\n",
    "for config_no, config in enumerate(configs):\n",
    "    for T_method_no, T_method in enumerate(T_methods):\n",
    "        # upper_lim = 1 if T_method == 'unitary' else 2 \n",
    "        # imm = axes[config_no, T_method_no].imshow(results[T_method_no, config_no], clim=(0, upper_lim))\n",
    "        if len(configs) > 1:\n",
    "            ax = axes[config_no, T_method_no]\n",
    "        else:\n",
    "            ax = axes[T_method_no]\n",
    "        imm = ax.imshow(results[T_method_no, config_no], aspect='auto')\n",
    "        print(results[T_method_no, config_no].mean(axis=0))\n",
    "        ax.set_title(rf'{config}, {T_method}')\n",
    "        fig.colorbar(imm, ax=ax)\n",
    "fig.show()"
   ],
   "id": "94e1f4ff5de07374",
   "outputs": [],
   "execution_count": 7
  },
  {
   "metadata": {
    "ExecuteTime": {
     "end_time": "2024-11-13T11:36:05.199492Z",
     "start_time": "2024-11-13T11:36:05.090181Z"
    }
   },
   "cell_type": "code",
   "source": [
    "for config_no, config in enumerate(configs):\n",
    "    print(f'---- {config} ----')\n",
    "    for T_method_no, T_method in enumerate(T_methods):\n",
    "        print(f'-- {T_method} --')\n",
    "        for algo_no, algo in enumerate(algos):           \n",
    "            avg = results[T_method_no, config_no].mean(axis=0)[algo_no]\n",
    "            std = results[T_method_no, config_no].std(axis=0)[algo_no]\n",
    "            \n",
    "            print(f'{algo:<25} {avg:.2f}+-{std:.2f}')\n",
    "    print()\n"
   ],
   "id": "2736c7a32c1c3448",
   "outputs": [
    {
     "name": "stdout",
     "output_type": "stream",
     "text": [
      "---- SLM1 ----\n",
      "-- unitary --\n",
      "slsqp                     0.79+-0.03\n",
      "L-BFGS-B                  0.79+-0.03\n",
      "simulated_annealing       0.79+-0.03\n",
      "-- gaus_iid --\n",
      "slsqp                     0.81+-0.14\n",
      "L-BFGS-B                  0.81+-0.14\n",
      "simulated_annealing       0.81+-0.14\n",
      "\n",
      "---- SLM2 ----\n",
      "-- unitary --\n",
      "slsqp                     0.61+-0.05\n",
      "L-BFGS-B                  0.61+-0.05\n",
      "simulated_annealing       0.61+-0.05\n",
      "-- gaus_iid --\n",
      "slsqp                     0.64+-0.12\n",
      "L-BFGS-B                  0.64+-0.12\n",
      "simulated_annealing       0.64+-0.12\n",
      "\n",
      "---- SLM3 ----\n",
      "-- unitary --\n",
      "slsqp                     0.82+-0.03\n",
      "L-BFGS-B                  0.83+-0.03\n",
      "simulated_annealing       0.86+-0.02\n",
      "-- gaus_iid --\n",
      "slsqp                     1.58+-0.18\n",
      "L-BFGS-B                  1.58+-0.17\n",
      "simulated_annealing       1.73+-0.16\n",
      "\n"
     ]
    }
   ],
   "execution_count": 29
  },
  {
   "metadata": {
    "ExecuteTime": {
     "end_time": "2024-11-13T11:37:08.269752Z",
     "start_time": "2024-11-13T11:37:08.160767Z"
    }
   },
   "cell_type": "code",
   "source": [
    "print(np.pi/4)\n",
    "print((np.pi/4)**2)"
   ],
   "id": "c029b72768894daf",
   "outputs": [
    {
     "name": "stdout",
     "output_type": "stream",
     "text": [
      "0.7853981633974483\n",
      "0.6168502750680849\n"
     ]
    }
   ],
   "execution_count": 31
  },
  {
   "metadata": {
    "ExecuteTime": {
     "end_time": "2024-11-06T11:18:46.255238Z",
     "start_time": "2024-11-06T11:18:46.173899Z"
    }
   },
   "cell_type": "code",
   "source": [
    "# comparing whether they find the same phases \n",
    "mplot(best_phases[0, 2, 0, :3].T)"
   ],
   "id": "df2e2d62dc03694",
   "outputs": [],
   "execution_count": 26
  },
  {
   "metadata": {},
   "cell_type": "code",
   "outputs": [],
   "execution_count": null,
   "source": [
    "for method, r in zip(algos, results.T):\n",
    "    print(f'{method:<20} {r.mean():.3f} +- {r.std():.3f}')"
   ],
   "id": "cb1559b448d95132"
  },
  {
   "metadata": {
    "ExecuteTime": {
     "end_time": "2024-11-03T11:31:19.724273Z",
     "start_time": "2024-11-03T11:31:19.568383Z"
    }
   },
   "cell_type": "code",
   "source": [
    "s.propagate()\n",
    "mplot(np.abs(v_out)**2)"
   ],
   "id": "6b37625723774844",
   "outputs": [
    {
     "data": {
      "text/plain": [
       "(<Figure size 640x480 with 1 Axes>, <AxesSubplot: >)"
      ]
     },
     "execution_count": 153,
     "metadata": {},
     "output_type": "execute_result"
    }
   ],
   "execution_count": 153
  }
 ],
 "metadata": {
  "kernelspec": {
   "display_name": "Python 3",
   "language": "python",
   "name": "python3"
  },
  "language_info": {
   "codemirror_mode": {
    "name": "ipython",
    "version": 2
   },
   "file_extension": ".py",
   "mimetype": "text/x-python",
   "name": "python",
   "nbconvert_exporter": "python",
   "pygments_lexer": "ipython2",
   "version": "2.7.6"
  }
 },
 "nbformat": 4,
 "nbformat_minor": 5
}
