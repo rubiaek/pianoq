{
 "cells": [
  {
   "metadata": {},
   "cell_type": "markdown",
   "source": [
    "# Statistics\n",
    "## Run statistics"
   ],
   "id": "ce996ddae4b8164e"
  },
  {
   "cell_type": "code",
   "id": "initial_id",
   "metadata": {
    "collapsed": true,
    "ExecuteTime": {
     "end_time": "2024-11-27T12:08:58.145069Z",
     "start_time": "2024-11-27T12:08:57.931466Z"
    }
   },
   "source": [
    "%autoreload 2 \n",
    "import numpy as np \n",
    "from pianoq.misc.mplt import mplot, mimshow\n",
    "from pianoq.simulations.abstract_quantum_scaling.qwfs_simulation import QWFSSimulation, QWFSResult\n",
    "from pianoq.misc.mplc_writeup_imports import * \n"
   ],
   "outputs": [],
   "execution_count": 1
  },
  {
   "metadata": {
    "ExecuteTime": {
     "end_time": "2024-11-27T09:45:39.351521Z",
     "start_time": "2024-11-27T09:43:32.629303Z"
    }
   },
   "cell_type": "code",
   "source": [
    "N_modes = 256\n",
    "s = QWFSSimulation(N=N_modes)\n",
    "\n",
    "# algos = ['slsqp', \"L-BFGS-B\", 'simulated_annealing', 'genetic_algorithm', 'PSO']\n",
    "algos = ['slsqp', \"L-BFGS-B\", 'simulated_annealing', 'genetic_algorithm', 'analytic']\n",
    "algos = ['L-BFGS-B', 'analytic']\n",
    "# configs = ['SLM1', 'SLM2', 'SLM3']\n",
    "configs = ['SLM1', 'SLM1-only-T', 'SLM2', 'SLM2-simple', 'SLM2-simple-OPC', 'SLM3']\n",
    "T_methods = ['unitary', 'gaus_iid']\n",
    "\n",
    "N_tries = 2\n",
    "\n",
    "note = 'long_with_analytic'\n",
    "saveto_path = rf'G:\\My Drive\\Projects\\MPLC\\results\\simulations\\{tnow()}_qwfs_{note}.npz'\n",
    "res = s.statistics(algos=algos, configs=configs, T_methods=T_methods, N_tries=N_tries, saveto_path=saveto_path)\n",
    "\n",
    "# results = np.zeros((N_T_methods, N_configs, N_tries, N_algos))"
   ],
   "id": "a9e8ad74d12c2056",
   "outputs": [
    {
     "name": "stdout",
     "output_type": "stream",
     "text": [
      "try_no=0\n",
      "try_no=1\n"
     ]
    }
   ],
   "execution_count": 97
  },
  {
   "metadata": {},
   "cell_type": "markdown",
   "source": "## Show results ",
   "id": "2d13905a2bb32b9c"
  },
  {
   "metadata": {
    "ExecuteTime": {
     "end_time": "2024-11-13T11:37:08.269752Z",
     "start_time": "2024-11-13T11:37:08.160767Z"
    }
   },
   "cell_type": "code",
   "source": [
    "print(np.pi/4)\n",
    "print((np.pi/4)**2)"
   ],
   "id": "c029b72768894daf",
   "outputs": [
    {
     "name": "stdout",
     "output_type": "stream",
     "text": [
      "0.7853981633974483\n",
      "0.6168502750680849\n"
     ]
    }
   ],
   "execution_count": 31
  },
  {
   "metadata": {
    "ExecuteTime": {
     "end_time": "2024-11-27T09:48:13.950800Z",
     "start_time": "2024-11-27T09:48:13.862825Z"
    }
   },
   "cell_type": "code",
   "source": "res.print()",
   "id": "dfd34f8083b35f5d",
   "outputs": [
    {
     "name": "stdout",
     "output_type": "stream",
     "text": [
      "---- SLM1 ----\n",
      "-- unitary --\n",
      "L-BFGS-B                  0.774+-0.01\n",
      "analytic                  0.004+-0.00\n",
      "-- gaus_iid --\n",
      "L-BFGS-B                  0.737+-0.01\n",
      "analytic                  0.001+-0.00\n",
      "\n",
      "---- SLM1-only-T ----\n",
      "-- unitary --\n",
      "L-BFGS-B                  0.795+-0.01\n",
      "analytic                  0.801+-0.00\n",
      "-- gaus_iid --\n",
      "L-BFGS-B                  0.734+-0.05\n",
      "analytic                  0.737+-0.05\n",
      "\n",
      "---- SLM2 ----\n",
      "-- unitary --\n",
      "L-BFGS-B                  0.629+-0.01\n",
      "analytic                  0.004+-0.00\n",
      "-- gaus_iid --\n",
      "L-BFGS-B                  0.611+-0.00\n",
      "analytic                  0.001+-0.00\n",
      "\n",
      "---- SLM2-simple ----\n",
      "-- unitary --\n",
      "L-BFGS-B                  0.615+-0.01\n",
      "analytic                  0.619+-0.01\n",
      "-- gaus_iid --\n",
      "L-BFGS-B                  0.535+-0.07\n",
      "analytic                  0.564+-0.05\n",
      "\n",
      "---- SLM2-simple-OPC ----\n",
      "-- unitary --\n",
      "L-BFGS-B                  0.962+-0.01\n",
      "analytic                  1.000+-0.00\n",
      "-- gaus_iid --\n",
      "L-BFGS-B                  0.869+-0.10\n",
      "analytic                  0.875+-0.10\n",
      "\n",
      "---- SLM3 ----\n",
      "-- unitary --\n",
      "L-BFGS-B                  0.836+-0.01\n",
      "analytic                  0.004+-0.00\n",
      "-- gaus_iid --\n",
      "L-BFGS-B                  1.599+-0.01\n",
      "analytic                  0.001+-0.00\n",
      "\n"
     ]
    }
   ],
   "execution_count": 103
  },
  {
   "metadata": {
    "ExecuteTime": {
     "end_time": "2024-11-27T07:53:31.821485Z",
     "start_time": "2024-11-27T07:53:28.854156Z"
    }
   },
   "cell_type": "code",
   "source": [
    "# comparing whether they find the same phases \n",
    "# mplot(best_phases[0, 2, 0, :3].T)\n",
    "path = r\"G:\\My Drive\\Projects\\MPLC\\results\\simulations\\2024_11_26_16_55_09_qwfs_long_with_analytic.npz\"\n",
    "res = QWFSResult(path)"
   ],
   "id": "df2e2d62dc03694",
   "outputs": [],
   "execution_count": 61
  },
  {
   "metadata": {
    "ExecuteTime": {
     "end_time": "2024-11-27T09:04:51.105194Z",
     "start_time": "2024-11-27T09:04:50.028613Z"
    }
   },
   "cell_type": "code",
   "source": [
    "res.show_violings()\n",
    "plt.show(block=False)"
   ],
   "id": "8934edadf7b75d2f",
   "outputs": [],
   "execution_count": 95
  },
  {
   "metadata": {
    "ExecuteTime": {
     "end_time": "2024-11-26T13:38:31.845456Z",
     "start_time": "2024-11-26T13:38:31.742552Z"
    }
   },
   "cell_type": "code",
   "source": [
    "# res.__dict__.keys()\n",
    "# res.__dict__['arr_0'].item()['configs']\n",
    "res.arr_0.item()['results'].mean()"
   ],
   "id": "b27399782b24ed9e",
   "outputs": [
    {
     "data": {
      "text/plain": [
       "0.542025838584121"
      ]
     },
     "execution_count": 26,
     "metadata": {},
     "output_type": "execute_result"
    }
   ],
   "execution_count": 26
  },
  {
   "metadata": {},
   "cell_type": "markdown",
   "source": "## Understand SLM3 outputs ",
   "id": "8df22a0db4504caf"
  },
  {
   "metadata": {
    "ExecuteTime": {
     "end_time": "2024-11-27T12:09:05.186945Z",
     "start_time": "2024-11-27T12:09:01.612477Z"
    }
   },
   "cell_type": "code",
   "source": [
    "path = r\"G:\\My Drive\\Projects\\MPLC\\results\\simulations\\2024_11_26_16_55_09_qwfs_long_with_analytic.npz\"\n",
    "res = QWFSResult(path)"
   ],
   "id": "a0902c4a89aeff8b",
   "outputs": [],
   "execution_count": 2
  },
  {
   "metadata": {
    "ExecuteTime": {
     "end_time": "2024-11-27T15:01:59.564768Z",
     "start_time": "2024-11-27T15:01:59.399947Z"
    }
   },
   "cell_type": "code",
   "source": [
    "# results.shape == N_T_methods, N_configs, N_tries, N_algos\n",
    "# best_phases.shape == N_T_methods, N_configs, N_tries, N_algos, self.N\n",
    "try_no = np.random.randint(res.N_tries)\n",
    "# try_no = 5\n",
    "alg = 'L-BFGS-B'\n",
    "config = 'SLM3'\n",
    "# T_method = 'unitary'\n",
    "T_method = 'gaus_iid'\n",
    "alg_ind = np.where(res.algos == alg)[0]\n",
    "conf_ind = np.where(res.configs == config)[0]\n",
    "T_method_ind = np.where(res.T_methods == T_method)[0] \n",
    "\n",
    "T_ind = res.N_T_methods * try_no + T_method_ind \n",
    "T = res.Ts[T_ind].squeeze()\n",
    "slm_phases = res.best_phases[T_method_ind, conf_ind, try_no, alg_ind].squeeze()\n",
    "N = len(slm_phases)\n",
    "\n",
    "sim = QWFSSimulation(N=N)\n",
    "sim.T = T \n",
    "sim.slm_phases = np.exp(1j*slm_phases)\n",
    "sim.config = config\n",
    "v_out = sim.propagate()\n",
    "I_out = np.abs(v_out)**2\n",
    "I_in = np.abs(sim.v_in)**2\n",
    "v_middle = sim.T.transpose() @ (sim.slm_phases * sim.v_in)\n",
    "I_middle = np.abs(v_middle)**2\n",
    "v_back_before_ft = sim.T @ v_middle\n",
    "I_back_before_ft = np.abs(v_back_before_ft)**2\n",
    "v_final_manual = np.fft.fft(v_back_before_ft) / np.sqrt(sim.N)\n",
    "I_final_manual = np.abs(v_final_manual)**2\n",
    "fig, ax = plt.subplots()\n",
    "ax.plot(I_out, label='I_out')\n",
    "ax.plot(I_middle, label='I_middle')\n",
    "ax.set_ylim([0, 0.05])\n",
    "ax.legend()\n",
    "# fig.show()\n",
    "print(f'{I_in.sum()=}')\n",
    "print(f'{I_middle.sum()=}')\n",
    "print(f'{I_back_before_ft.sum()=}')\n",
    "print(f'{I_final_manual.sum()=}')\n",
    "print(f'{I_out.sum()=}')"
   ],
   "id": "c79fcc28a7485cd1",
   "outputs": [
    {
     "name": "stdout",
     "output_type": "stream",
     "text": [
      "I_in.sum()=1.0\n",
      "I_middle.sum()=1.61174585738503\n",
      "I_back_before_ft.sum()=2.7545328929212376\n",
      "I_final_manual.sum()=2.754532892921238\n",
      "I_out.sum()=2.7545328929212385\n"
     ]
    }
   ],
   "execution_count": 110
  },
  {
   "metadata": {
    "ExecuteTime": {
     "end_time": "2024-11-27T12:56:45.270515Z",
     "start_time": "2024-11-27T12:56:45.098402Z"
    }
   },
   "cell_type": "code",
   "source": "mplot((np.abs(T@T.transpose())**2).sum(axis=0))",
   "id": "baa5910e44ebbf7",
   "outputs": [
    {
     "data": {
      "text/plain": [
       "(<Figure size 640x480 with 1 Axes>, <AxesSubplot: >)"
      ]
     },
     "execution_count": 74,
     "metadata": {},
     "output_type": "execute_result"
    }
   ],
   "execution_count": 74
  },
  {
   "metadata": {
    "ExecuteTime": {
     "end_time": "2024-11-27T15:02:16.177143Z",
     "start_time": "2024-11-27T15:02:16.074149Z"
    }
   },
   "cell_type": "code",
   "source": "1.61**2",
   "id": "b79d745d4433179",
   "outputs": [
    {
     "data": {
      "text/plain": [
       "2.5921000000000003"
      ]
     },
     "execution_count": 113,
     "metadata": {},
     "output_type": "execute_result"
    }
   ],
   "execution_count": 113
  },
  {
   "metadata": {
    "ExecuteTime": {
     "end_time": "2024-11-27T12:30:25.833210Z",
     "start_time": "2024-11-27T12:30:25.723431Z"
    }
   },
   "cell_type": "code",
   "source": [
    "print(alg_ind)\n",
    "print(conf_ind)\n",
    "print(T_method_ind)\n",
    "res.T_methods"
   ],
   "id": "9e30f1a3df19cca9",
   "outputs": [
    {
     "name": "stdout",
     "output_type": "stream",
     "text": [
      "[0]\n",
      "[5]\n",
      "[0]\n"
     ]
    },
    {
     "data": {
      "text/plain": [
       "array(['unitary', 'gaus_iid'], dtype='<U8')"
      ]
     },
     "execution_count": 54,
     "metadata": {},
     "output_type": "execute_result"
    }
   ],
   "execution_count": 54
  },
  {
   "metadata": {
    "ExecuteTime": {
     "end_time": "2024-11-27T12:24:52.325607Z",
     "start_time": "2024-11-27T12:24:52.216546Z"
    }
   },
   "cell_type": "code",
   "source": "res.Ts.shape",
   "id": "f56a9954909b32d",
   "outputs": [
    {
     "data": {
      "text/plain": [
       "(1200, 256, 256)"
      ]
     },
     "execution_count": 35,
     "metadata": {},
     "output_type": "execute_result"
    }
   ],
   "execution_count": 35
  },
  {
   "metadata": {
    "ExecuteTime": {
     "end_time": "2024-11-27T12:23:41.565004Z",
     "start_time": "2024-11-27T12:23:41.461600Z"
    }
   },
   "cell_type": "code",
   "source": "res.best_phases.shape",
   "id": "d74d1847f7fdf2f7",
   "outputs": [
    {
     "data": {
      "text/plain": [
       "(2, 6, 600, 2, 256)"
      ]
     },
     "execution_count": 32,
     "metadata": {},
     "output_type": "execute_result"
    }
   ],
   "execution_count": 32
  },
  {
   "metadata": {
    "ExecuteTime": {
     "end_time": "2024-11-27T12:31:03.518877Z",
     "start_time": "2024-11-27T12:31:03.416642Z"
    }
   },
   "cell_type": "code",
   "source": "res.results.shape",
   "id": "bc66bb8ad951f272",
   "outputs": [
    {
     "data": {
      "text/plain": [
       "(2, 6, 600, 2)"
      ]
     },
     "execution_count": 57,
     "metadata": {},
     "output_type": "execute_result"
    }
   ],
   "execution_count": 57
  },
  {
   "metadata": {
    "ExecuteTime": {
     "end_time": "2024-11-27T12:28:53.528306Z",
     "start_time": "2024-11-27T12:28:53.425658Z"
    }
   },
   "cell_type": "code",
   "source": "(np.abs(res.Ts[0, 0, :])**2).sum()",
   "id": "b92cbe8454117e47",
   "outputs": [
    {
     "data": {
      "text/plain": [
       "1.0000000000000002"
      ]
     },
     "execution_count": 49,
     "metadata": {},
     "output_type": "execute_result"
    }
   ],
   "execution_count": 49
  }
 ],
 "metadata": {
  "kernelspec": {
   "display_name": "Python 3",
   "language": "python",
   "name": "python3"
  },
  "language_info": {
   "codemirror_mode": {
    "name": "ipython",
    "version": 2
   },
   "file_extension": ".py",
   "mimetype": "text/x-python",
   "name": "python",
   "nbconvert_exporter": "python",
   "pygments_lexer": "ipython2",
   "version": "2.7.6"
  }
 },
 "nbformat": 4,
 "nbformat_minor": 5
}
