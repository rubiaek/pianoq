{
 "cells": [
  {
   "metadata": {},
   "cell_type": "markdown",
   "source": [
    "# Statistics\n",
    "## Run statistics"
   ],
   "id": "ce996ddae4b8164e"
  },
  {
   "cell_type": "code",
   "id": "initial_id",
   "metadata": {
    "collapsed": true,
    "ExecuteTime": {
     "end_time": "2024-11-13T12:04:48.920771Z",
     "start_time": "2024-11-13T12:04:48.711238Z"
    }
   },
   "source": [
    "%autoreload 2 \n",
    "import numpy as np \n",
    "from pianoq.misc.mplt import mplot, mimshow\n",
    "from pianoq.simulations.abstract_quantum_scaling.slm3_simulation import QWFSSimulation\n",
    "from pianoq.misc.mplc_writeup_imports import * \n"
   ],
   "outputs": [],
   "execution_count": 1
  },
  {
   "metadata": {
    "ExecuteTime": {
     "end_time": "2024-11-13T12:31:29.078830Z",
     "start_time": "2024-11-13T12:25:24.289614Z"
    }
   },
   "cell_type": "code",
   "source": [
    "N_modes = 64\n",
    "s = QWFSSimulation(N=N_modes)\n",
    "\n",
    "# algos = ['slsqp', \"L-BFGS-B\", 'simulated_annealing', 'genetic_algorithm', 'PSO']\n",
    "algos = ['slsqp', \"L-BFGS-B\", 'simulated_annealing']\n",
    "# configs = ['SLM1', 'SLM2', 'SLM3']\n",
    "configs = ['SLM1', 'SLM1-only-T']\n",
    "T_methods = ['unitary', 'gaus_iid']\n",
    "\n",
    "N_tries = 30\n",
    "\n",
    "note = 'quick'\n",
    "saveto_path = rf'G:\\My Drive\\Projects\\MPLC\\results\\simulations\\{tnow()}_qwfs_{note}.npz'\n",
    "res = s.statistics(algos=algos, configs=configs, T_methods=T_methods, N_tries=N_tries, saveto_path=saveto_path)\n",
    "\n",
    "# results = np.zeros((N_T_methods, N_configs, N_tries, N_algos))\n",
    "\n",
    "# np.save(rf'C:\\temp\\{tnow()}_qwfs_results.npy', results)"
   ],
   "id": "a9e8ad74d12c2056",
   "outputs": [
    {
     "name": "stdout",
     "output_type": "stream",
     "text": [
      "try_no=0\n",
      "try_no=1\n",
      "try_no=2\n",
      "try_no=3\n",
      "try_no=4\n",
      "try_no=5\n",
      "try_no=6\n",
      "try_no=7\n",
      "try_no=8\n",
      "try_no=9\n",
      "try_no=10\n",
      "try_no=11\n",
      "try_no=12\n",
      "try_no=13\n",
      "try_no=14\n",
      "try_no=15\n",
      "try_no=16\n",
      "try_no=17\n",
      "try_no=18\n",
      "try_no=19\n",
      "try_no=20\n",
      "try_no=21\n",
      "try_no=22\n",
      "try_no=23\n",
      "try_no=24\n",
      "try_no=25\n",
      "try_no=26\n",
      "try_no=27\n",
      "try_no=28\n",
      "try_no=29\n"
     ]
    }
   ],
   "execution_count": 16
  },
  {
   "metadata": {},
   "cell_type": "markdown",
   "source": "## Show results ",
   "id": "2d13905a2bb32b9c"
  },
  {
   "metadata": {
    "ExecuteTime": {
     "end_time": "2024-11-13T11:37:08.269752Z",
     "start_time": "2024-11-13T11:37:08.160767Z"
    }
   },
   "cell_type": "code",
   "source": [
    "print(np.pi/4)\n",
    "print((np.pi/4)**2)"
   ],
   "id": "c029b72768894daf",
   "outputs": [
    {
     "name": "stdout",
     "output_type": "stream",
     "text": [
      "0.7853981633974483\n",
      "0.6168502750680849\n"
     ]
    }
   ],
   "execution_count": 31
  },
  {
   "metadata": {},
   "cell_type": "code",
   "source": "res.print()",
   "id": "dfd34f8083b35f5d",
   "outputs": [],
   "execution_count": null
  },
  {
   "metadata": {
    "ExecuteTime": {
     "end_time": "2024-11-06T11:18:46.255238Z",
     "start_time": "2024-11-06T11:18:46.173899Z"
    }
   },
   "cell_type": "code",
   "source": [
    "# comparing whether they find the same phases \n",
    "# mplot(best_phases[0, 2, 0, :3].T)"
   ],
   "id": "df2e2d62dc03694",
   "outputs": [],
   "execution_count": 26
  }
 ],
 "metadata": {
  "kernelspec": {
   "display_name": "Python 3",
   "language": "python",
   "name": "python3"
  },
  "language_info": {
   "codemirror_mode": {
    "name": "ipython",
    "version": 2
   },
   "file_extension": ".py",
   "mimetype": "text/x-python",
   "name": "python",
   "nbconvert_exporter": "python",
   "pygments_lexer": "ipython2",
   "version": "2.7.6"
  }
 },
 "nbformat": 4,
 "nbformat_minor": 5
}
