{
 "cells": [
  {
   "cell_type": "code",
   "id": "initial_id",
   "metadata": {
    "collapsed": true,
    "ExecuteTime": {
     "end_time": "2024-11-03T12:44:57.065414Z",
     "start_time": "2024-11-03T12:38:27.276149Z"
    }
   },
   "source": [
    "%autoreload 2 \n",
    "from pianoq.simulations.abstract_quantum_scaling.slm3_simulation import SLM3Simulation\n",
    "import numpy as np \n",
    "from pianoq.misc.mplt import mplot, mimshow\n",
    "# s = SLM3Simulation(N=32, T_method='gaus_iid')\n",
    "s = SLM3Simulation(N=32, T_method='unitary')\n",
    "\n",
    "N_tries = 30\n",
    "N_algos = 5 \n",
    "results = np.zeros((N_tries, N_algos))\n",
    "best_phases = np.zeros((N_tries, N_algos, s.N))\n",
    "\n",
    "methods = ['slsqp', \"L-BFGS-B\", 'simulated_annealing', 'genetic_algorithm', 'PSO']\n",
    "\n",
    "for iter_no in range(N_tries):\n",
    "    print(f'{iter_no=}')\n",
    "    for i, method in enumerate(methods):\n",
    "        s.reset_T()\n",
    "        s.slm_phases = np.exp(1j*np.zeros(s.N))\n",
    "        I, res = s.optimize(method=method)\n",
    "        v_out = s.propagate()\n",
    "        I_tot = (np.abs(v_out)**2).sum() \n",
    "        I_good = np.abs(v_out[s.N//2])**2\n",
    "        # print(rf'{method=}, {I_tot=:.4f}, {I_good=:.4f}, {s.f_calls=}')\n",
    "        results[iter_no, i] = I_good\n",
    "        best_phases[iter_no, i] = np.angle(s.slm_phases)\n"
   ],
   "outputs": [
    {
     "name": "stdout",
     "output_type": "stream",
     "text": [
      "iter_no=0\n",
      "iter_no=0\n",
      "iter_no=0\n",
      "iter_no=0\n",
      "Stopping search: Swarm best objective change less than 1e-08\n",
      "iter_no=0\n",
      "iter_no=1\n",
      "iter_no=1\n",
      "iter_no=1\n",
      "iter_no=1\n",
      "Stopping search: Swarm best objective change less than 1e-08\n",
      "iter_no=1\n",
      "iter_no=2\n",
      "iter_no=2\n",
      "iter_no=2\n",
      "iter_no=2\n",
      "Stopping search: Swarm best objective change less than 1e-08\n",
      "iter_no=2\n",
      "iter_no=3\n",
      "iter_no=3\n",
      "iter_no=3\n",
      "iter_no=3\n",
      "Stopping search: Swarm best objective change less than 1e-08\n",
      "iter_no=3\n",
      "iter_no=4\n",
      "iter_no=4\n",
      "iter_no=4\n",
      "iter_no=4\n",
      "Stopping search: Swarm best objective change less than 1e-08\n",
      "iter_no=4\n",
      "iter_no=5\n",
      "iter_no=5\n",
      "iter_no=5\n",
      "iter_no=5\n",
      "Stopping search: Swarm best objective change less than 1e-08\n",
      "iter_no=5\n",
      "iter_no=6\n",
      "iter_no=6\n",
      "iter_no=6\n",
      "iter_no=6\n",
      "Stopping search: Swarm best objective change less than 1e-08\n",
      "iter_no=6\n",
      "iter_no=7\n",
      "iter_no=7\n",
      "iter_no=7\n",
      "iter_no=7\n",
      "Stopping search: Swarm best objective change less than 1e-08\n",
      "iter_no=7\n",
      "iter_no=8\n",
      "iter_no=8\n",
      "iter_no=8\n",
      "iter_no=8\n",
      "Stopping search: Swarm best objective change less than 1e-08\n",
      "iter_no=8\n",
      "iter_no=9\n",
      "iter_no=9\n",
      "iter_no=9\n",
      "iter_no=9\n",
      "Stopping search: Swarm best objective change less than 1e-08\n",
      "iter_no=9\n",
      "iter_no=10\n",
      "iter_no=10\n",
      "iter_no=10\n",
      "iter_no=10\n",
      "Stopping search: Swarm best objective change less than 1e-08\n",
      "iter_no=10\n",
      "iter_no=11\n",
      "iter_no=11\n",
      "iter_no=11\n",
      "iter_no=11\n",
      "Stopping search: Swarm best objective change less than 1e-08\n",
      "iter_no=11\n",
      "iter_no=12\n",
      "iter_no=12\n",
      "iter_no=12\n",
      "iter_no=12\n",
      "Stopping search: Swarm best objective change less than 1e-08\n",
      "iter_no=12\n",
      "iter_no=13\n",
      "iter_no=13\n",
      "iter_no=13\n",
      "iter_no=13\n",
      "Stopping search: Swarm best objective change less than 1e-08\n",
      "iter_no=13\n",
      "iter_no=14\n",
      "iter_no=14\n",
      "iter_no=14\n",
      "iter_no=14\n",
      "Stopping search: Swarm best objective change less than 1e-08\n",
      "iter_no=14\n",
      "iter_no=15\n",
      "iter_no=15\n",
      "iter_no=15\n",
      "iter_no=15\n",
      "Stopping search: Swarm best objective change less than 1e-08\n",
      "iter_no=15\n",
      "iter_no=16\n",
      "iter_no=16\n",
      "iter_no=16\n",
      "iter_no=16\n",
      "Stopping search: Swarm best objective change less than 1e-08\n",
      "iter_no=16\n",
      "iter_no=17\n",
      "iter_no=17\n",
      "iter_no=17\n",
      "iter_no=17\n",
      "Stopping search: Swarm best objective change less than 1e-08\n",
      "iter_no=17\n",
      "iter_no=18\n",
      "iter_no=18\n",
      "iter_no=18\n",
      "iter_no=18\n",
      "Stopping search: Swarm best objective change less than 1e-08\n",
      "iter_no=18\n",
      "iter_no=19\n",
      "iter_no=19\n",
      "iter_no=19\n",
      "iter_no=19\n",
      "Stopping search: Swarm best objective change less than 1e-08\n",
      "iter_no=19\n",
      "iter_no=20\n",
      "iter_no=20\n",
      "iter_no=20\n",
      "iter_no=20\n",
      "Stopping search: Swarm best objective change less than 1e-08\n",
      "iter_no=20\n",
      "iter_no=21\n",
      "iter_no=21\n",
      "iter_no=21\n",
      "iter_no=21\n",
      "Stopping search: Swarm best objective change less than 1e-08\n",
      "iter_no=21\n",
      "iter_no=22\n",
      "iter_no=22\n",
      "iter_no=22\n",
      "iter_no=22\n",
      "Stopping search: Swarm best objective change less than 1e-08\n",
      "iter_no=22\n",
      "iter_no=23\n",
      "iter_no=23\n",
      "iter_no=23\n",
      "iter_no=23\n",
      "Stopping search: Swarm best objective change less than 1e-08\n",
      "iter_no=23\n",
      "iter_no=24\n",
      "iter_no=24\n",
      "iter_no=24\n",
      "iter_no=24\n",
      "Stopping search: Swarm best objective change less than 1e-08\n",
      "iter_no=24\n",
      "iter_no=25\n",
      "iter_no=25\n",
      "iter_no=25\n",
      "iter_no=25\n",
      "Stopping search: Swarm best objective change less than 1e-08\n",
      "iter_no=25\n",
      "iter_no=26\n",
      "iter_no=26\n",
      "iter_no=26\n",
      "iter_no=26\n",
      "Stopping search: Swarm best objective change less than 1e-08\n",
      "iter_no=26\n",
      "iter_no=27\n",
      "iter_no=27\n",
      "iter_no=27\n",
      "iter_no=27\n",
      "Stopping search: Swarm best objective change less than 1e-08\n",
      "iter_no=27\n",
      "iter_no=28\n",
      "iter_no=28\n",
      "iter_no=28\n",
      "iter_no=28\n",
      "Stopping search: Swarm best objective change less than 1e-08\n",
      "iter_no=28\n",
      "iter_no=29\n",
      "iter_no=29\n",
      "iter_no=29\n",
      "iter_no=29\n",
      "Stopping search: Swarm best objective change less than 1e-08\n",
      "iter_no=29\n"
     ]
    }
   ],
   "execution_count": 178
  },
  {
   "metadata": {
    "ExecuteTime": {
     "end_time": "2024-11-04T07:38:43.095161Z",
     "start_time": "2024-11-04T07:38:42.992254Z"
    }
   },
   "cell_type": "code",
   "source": [
    "# mimshow(results)\n",
    "for method, r in zip(methods, results.T):\n",
    "    print(f'{method:<20} {r.mean():.3f} +- {r.std():.3f}')"
   ],
   "id": "94e1f4ff5de07374",
   "outputs": [
    {
     "name": "stdout",
     "output_type": "stream",
     "text": [
      "slsqp                0.811 +- 0.034\n",
      "L-BFGS-B             0.831 +- 0.036\n",
      "simulated_annealing  0.855 +- 0.026\n",
      "genetic_algorithm    0.023 +- 0.017\n",
      "PSO                  0.598 +- 0.060\n"
     ]
    }
   ],
   "execution_count": 198
  },
  {
   "metadata": {
    "ExecuteTime": {
     "end_time": "2024-11-03T11:31:19.724273Z",
     "start_time": "2024-11-03T11:31:19.568383Z"
    }
   },
   "cell_type": "code",
   "source": "mplot(np.abs(v_out)**2)",
   "id": "6b37625723774844",
   "outputs": [
    {
     "data": {
      "text/plain": [
       "(<Figure size 640x480 with 1 Axes>, <AxesSubplot: >)"
      ]
     },
     "execution_count": 153,
     "metadata": {},
     "output_type": "execute_result"
    }
   ],
   "execution_count": 153
  },
  {
   "metadata": {
    "ExecuteTime": {
     "end_time": "2024-11-03T12:45:45.543133Z",
     "start_time": "2024-11-03T12:45:45.450810Z"
    }
   },
   "cell_type": "code",
   "source": "np.pi/4",
   "id": "adeab62c109fe4c8",
   "outputs": [
    {
     "data": {
      "text/plain": [
       "0.7853981633974483"
      ]
     },
     "execution_count": 180,
     "metadata": {},
     "output_type": "execute_result"
    }
   ],
   "execution_count": 180
  }
 ],
 "metadata": {
  "kernelspec": {
   "display_name": "Python 3",
   "language": "python",
   "name": "python3"
  },
  "language_info": {
   "codemirror_mode": {
    "name": "ipython",
    "version": 2
   },
   "file_extension": ".py",
   "mimetype": "text/x-python",
   "name": "python",
   "nbconvert_exporter": "python",
   "pygments_lexer": "ipython2",
   "version": "2.7.6"
  }
 },
 "nbformat": 4,
 "nbformat_minor": 5
}
