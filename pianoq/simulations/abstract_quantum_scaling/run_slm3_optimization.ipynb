{
 "cells": [
  {
   "metadata": {},
   "cell_type": "markdown",
   "source": [
    "# Statistics\n",
    "## Run statistics"
   ],
   "id": "ce996ddae4b8164e"
  },
  {
   "cell_type": "code",
   "id": "initial_id",
   "metadata": {
    "collapsed": true,
    "ExecuteTime": {
     "end_time": "2024-11-26T14:34:12.089576Z",
     "start_time": "2024-11-26T14:34:11.732667Z"
    }
   },
   "source": [
    "%autoreload 2 \n",
    "import numpy as np \n",
    "from pianoq.misc.mplt import mplot, mimshow\n",
    "from pianoq.simulations.abstract_quantum_scaling.slm3_simulation import QWFSSimulation, QWFSResult\n",
    "from pianoq.misc.mplc_writeup_imports import * \n"
   ],
   "outputs": [],
   "execution_count": 46
  },
  {
   "metadata": {
    "jupyter": {
     "is_executing": true
    },
    "ExecuteTime": {
     "start_time": "2024-11-26T14:55:09.179420Z"
    }
   },
   "cell_type": "code",
   "source": [
    "N_modes = 256\n",
    "s = QWFSSimulation(N=N_modes)\n",
    "\n",
    "# algos = ['slsqp', \"L-BFGS-B\", 'simulated_annealing', 'genetic_algorithm', 'PSO']\n",
    "algos = ['slsqp', \"L-BFGS-B\", 'simulated_annealing', 'genetic_algorithm', 'analytic']\n",
    "algos = ['L-BFGS-B', 'analytic']\n",
    "# configs = ['SLM1', 'SLM2', 'SLM3']\n",
    "configs = ['SLM1', 'SLM1-only-T', 'SLM2', 'SLM2-simple', 'SLM2-simple-OPC', 'SLM3']\n",
    "T_methods = ['unitary', 'gaus_iid']\n",
    "\n",
    "N_tries = 600\n",
    "\n",
    "note = 'long_with_analytic'\n",
    "saveto_path = rf'G:\\My Drive\\Projects\\MPLC\\results\\simulations\\{tnow()}_qwfs_{note}.npz'\n",
    "res = s.statistics(algos=algos, configs=configs, T_methods=T_methods, N_tries=N_tries, saveto_path=saveto_path)\n",
    "\n",
    "# results = np.zeros((N_T_methods, N_configs, N_tries, N_algos))"
   ],
   "id": "a9e8ad74d12c2056",
   "outputs": [
    {
     "name": "stdout",
     "output_type": "stream",
     "text": [
      "try_no=0\n"
     ]
    }
   ],
   "execution_count": null
  },
  {
   "metadata": {},
   "cell_type": "markdown",
   "source": "## Show results ",
   "id": "2d13905a2bb32b9c"
  },
  {
   "metadata": {
    "ExecuteTime": {
     "end_time": "2024-11-13T11:37:08.269752Z",
     "start_time": "2024-11-13T11:37:08.160767Z"
    }
   },
   "cell_type": "code",
   "source": [
    "print(np.pi/4)\n",
    "print((np.pi/4)**2)"
   ],
   "id": "c029b72768894daf",
   "outputs": [
    {
     "name": "stdout",
     "output_type": "stream",
     "text": [
      "0.7853981633974483\n",
      "0.6168502750680849\n"
     ]
    }
   ],
   "execution_count": 31
  },
  {
   "metadata": {
    "ExecuteTime": {
     "end_time": "2024-11-26T14:54:27.243804Z",
     "start_time": "2024-11-26T14:54:27.155258Z"
    }
   },
   "cell_type": "code",
   "source": "res.print()",
   "id": "dfd34f8083b35f5d",
   "outputs": [
    {
     "name": "stdout",
     "output_type": "stream",
     "text": [
      "---- SLM1 ----\n",
      "-- unitary --\n",
      "L-BFGS-B                  0.794+-0.00\n",
      "analytic                  0.004+-0.00\n",
      "-- gaus_iid --\n",
      "L-BFGS-B                  0.834+-0.00\n",
      "analytic                  0.003+-0.00\n",
      "\n",
      "---- SLM1-only-T ----\n",
      "-- unitary --\n",
      "L-BFGS-B                  0.773+-0.00\n",
      "analytic                  0.782+-0.00\n",
      "-- gaus_iid --\n",
      "L-BFGS-B                  0.826+-0.00\n",
      "analytic                  0.855+-0.00\n",
      "\n",
      "---- SLM2 ----\n",
      "-- unitary --\n",
      "L-BFGS-B                  0.625+-0.00\n",
      "analytic                  0.004+-0.00\n",
      "-- gaus_iid --\n",
      "L-BFGS-B                  0.667+-0.00\n",
      "analytic                  0.003+-0.00\n",
      "\n",
      "---- SLM2-simple ----\n",
      "-- unitary --\n",
      "L-BFGS-B                  0.582+-0.00\n",
      "analytic                  0.593+-0.00\n",
      "-- gaus_iid --\n",
      "L-BFGS-B                  0.670+-0.00\n",
      "analytic                  0.671+-0.00\n",
      "\n",
      "---- SLM2-simple-OPC ----\n",
      "-- unitary --\n",
      "L-BFGS-B                  0.971+-0.00\n",
      "analytic                  1.000+-0.00\n",
      "-- gaus_iid --\n",
      "L-BFGS-B                  1.180+-0.00\n",
      "analytic                  1.181+-0.00\n",
      "\n",
      "---- SLM3 ----\n",
      "-- unitary --\n",
      "L-BFGS-B                  0.829+-0.00\n",
      "analytic                  0.004+-0.00\n",
      "-- gaus_iid --\n",
      "L-BFGS-B                  1.531+-0.00\n",
      "analytic                  0.003+-0.00\n",
      "\n"
     ]
    }
   ],
   "execution_count": 56
  },
  {
   "metadata": {
    "ExecuteTime": {
     "end_time": "2024-11-26T14:40:53.078817Z",
     "start_time": "2024-11-26T14:40:52.294312Z"
    }
   },
   "cell_type": "code",
   "source": [
    "# comparing whether they find the same phases \n",
    "# mplot(best_phases[0, 2, 0, :3].T)\n",
    "path = r\"G:\\My Drive\\Projects\\MPLC\\results\\simulations\\2024_11_26_16_38_38_qwfs_long.npz\"\n",
    "res = QWFSResult(path)\n",
    "# res.loadfrom(path)\n",
    "res.show()"
   ],
   "id": "df2e2d62dc03694",
   "outputs": [],
   "execution_count": 52
  },
  {
   "metadata": {
    "ExecuteTime": {
     "end_time": "2024-11-26T13:38:31.845456Z",
     "start_time": "2024-11-26T13:38:31.742552Z"
    }
   },
   "cell_type": "code",
   "source": [
    "# res.__dict__.keys()\n",
    "# res.__dict__['arr_0'].item()['configs']\n",
    "res.arr_0.item()['results'].mean()"
   ],
   "id": "b27399782b24ed9e",
   "outputs": [
    {
     "data": {
      "text/plain": [
       "0.542025838584121"
      ]
     },
     "execution_count": 26,
     "metadata": {},
     "output_type": "execute_result"
    }
   ],
   "execution_count": 26
  }
 ],
 "metadata": {
  "kernelspec": {
   "display_name": "Python 3",
   "language": "python",
   "name": "python3"
  },
  "language_info": {
   "codemirror_mode": {
    "name": "ipython",
    "version": 2
   },
   "file_extension": ".py",
   "mimetype": "text/x-python",
   "name": "python",
   "nbconvert_exporter": "python",
   "pygments_lexer": "ipython2",
   "version": "2.7.6"
  }
 },
 "nbformat": 4,
 "nbformat_minor": 5
}
