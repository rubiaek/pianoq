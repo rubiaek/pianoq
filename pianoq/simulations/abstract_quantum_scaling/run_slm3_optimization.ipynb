{
 "cells": [
  {
   "metadata": {},
   "cell_type": "markdown",
   "source": [
    "# Statistics\n",
    "## Run statistics"
   ],
   "id": "ce996ddae4b8164e"
  },
  {
   "cell_type": "code",
   "id": "initial_id",
   "metadata": {
    "collapsed": true,
    "ExecuteTime": {
     "end_time": "2024-11-26T14:34:12.089576Z",
     "start_time": "2024-11-26T14:34:11.732667Z"
    }
   },
   "source": [
    "%autoreload 2 \n",
    "import numpy as np \n",
    "from pianoq.misc.mplt import mplot, mimshow\n",
    "from pianoq.simulations.abstract_quantum_scaling.qwfs_simulation import QWFSSimulation, QWFSResult\n",
    "from pianoq.misc.mplc_writeup_imports import * \n"
   ],
   "outputs": [],
   "execution_count": 46
  },
  {
   "metadata": {
    "ExecuteTime": {
     "end_time": "2024-11-27T09:45:39.351521Z",
     "start_time": "2024-11-27T09:43:32.629303Z"
    }
   },
   "cell_type": "code",
   "source": [
    "N_modes = 256\n",
    "s = QWFSSimulation(N=N_modes)\n",
    "\n",
    "# algos = ['slsqp', \"L-BFGS-B\", 'simulated_annealing', 'genetic_algorithm', 'PSO']\n",
    "algos = ['slsqp', \"L-BFGS-B\", 'simulated_annealing', 'genetic_algorithm', 'analytic']\n",
    "algos = ['L-BFGS-B', 'analytic']\n",
    "# configs = ['SLM1', 'SLM2', 'SLM3']\n",
    "configs = ['SLM1', 'SLM1-only-T', 'SLM2', 'SLM2-simple', 'SLM2-simple-OPC', 'SLM3']\n",
    "T_methods = ['unitary', 'gaus_iid']\n",
    "\n",
    "N_tries = 2\n",
    "\n",
    "note = 'long_with_analytic'\n",
    "saveto_path = rf'G:\\My Drive\\Projects\\MPLC\\results\\simulations\\{tnow()}_qwfs_{note}.npz'\n",
    "res = s.statistics(algos=algos, configs=configs, T_methods=T_methods, N_tries=N_tries, saveto_path=saveto_path)\n",
    "\n",
    "# results = np.zeros((N_T_methods, N_configs, N_tries, N_algos))"
   ],
   "id": "a9e8ad74d12c2056",
   "outputs": [
    {
     "name": "stdout",
     "output_type": "stream",
     "text": [
      "try_no=0\n",
      "try_no=1\n"
     ]
    }
   ],
   "execution_count": 97
  },
  {
   "metadata": {},
   "cell_type": "markdown",
   "source": "## Show results ",
   "id": "2d13905a2bb32b9c"
  },
  {
   "metadata": {
    "ExecuteTime": {
     "end_time": "2024-11-13T11:37:08.269752Z",
     "start_time": "2024-11-13T11:37:08.160767Z"
    }
   },
   "cell_type": "code",
   "source": [
    "print(np.pi/4)\n",
    "print((np.pi/4)**2)"
   ],
   "id": "c029b72768894daf",
   "outputs": [
    {
     "name": "stdout",
     "output_type": "stream",
     "text": [
      "0.7853981633974483\n",
      "0.6168502750680849\n"
     ]
    }
   ],
   "execution_count": 31
  },
  {
   "metadata": {
    "ExecuteTime": {
     "end_time": "2024-11-27T09:48:13.950800Z",
     "start_time": "2024-11-27T09:48:13.862825Z"
    }
   },
   "cell_type": "code",
   "source": "res.print()",
   "id": "dfd34f8083b35f5d",
   "outputs": [
    {
     "name": "stdout",
     "output_type": "stream",
     "text": [
      "---- SLM1 ----\n",
      "-- unitary --\n",
      "L-BFGS-B                  0.774+-0.01\n",
      "analytic                  0.004+-0.00\n",
      "-- gaus_iid --\n",
      "L-BFGS-B                  0.737+-0.01\n",
      "analytic                  0.001+-0.00\n",
      "\n",
      "---- SLM1-only-T ----\n",
      "-- unitary --\n",
      "L-BFGS-B                  0.795+-0.01\n",
      "analytic                  0.801+-0.00\n",
      "-- gaus_iid --\n",
      "L-BFGS-B                  0.734+-0.05\n",
      "analytic                  0.737+-0.05\n",
      "\n",
      "---- SLM2 ----\n",
      "-- unitary --\n",
      "L-BFGS-B                  0.629+-0.01\n",
      "analytic                  0.004+-0.00\n",
      "-- gaus_iid --\n",
      "L-BFGS-B                  0.611+-0.00\n",
      "analytic                  0.001+-0.00\n",
      "\n",
      "---- SLM2-simple ----\n",
      "-- unitary --\n",
      "L-BFGS-B                  0.615+-0.01\n",
      "analytic                  0.619+-0.01\n",
      "-- gaus_iid --\n",
      "L-BFGS-B                  0.535+-0.07\n",
      "analytic                  0.564+-0.05\n",
      "\n",
      "---- SLM2-simple-OPC ----\n",
      "-- unitary --\n",
      "L-BFGS-B                  0.962+-0.01\n",
      "analytic                  1.000+-0.00\n",
      "-- gaus_iid --\n",
      "L-BFGS-B                  0.869+-0.10\n",
      "analytic                  0.875+-0.10\n",
      "\n",
      "---- SLM3 ----\n",
      "-- unitary --\n",
      "L-BFGS-B                  0.836+-0.01\n",
      "analytic                  0.004+-0.00\n",
      "-- gaus_iid --\n",
      "L-BFGS-B                  1.599+-0.01\n",
      "analytic                  0.001+-0.00\n",
      "\n"
     ]
    }
   ],
   "execution_count": 103
  },
  {
   "metadata": {
    "ExecuteTime": {
     "end_time": "2024-11-27T07:53:31.821485Z",
     "start_time": "2024-11-27T07:53:28.854156Z"
    }
   },
   "cell_type": "code",
   "source": [
    "# comparing whether they find the same phases \n",
    "# mplot(best_phases[0, 2, 0, :3].T)\n",
    "path = r\"G:\\My Drive\\Projects\\MPLC\\results\\simulations\\2024_11_26_16_55_09_qwfs_long_with_analytic.npz\"\n",
    "res = QWFSResult(path)"
   ],
   "id": "df2e2d62dc03694",
   "outputs": [],
   "execution_count": 61
  },
  {
   "metadata": {
    "ExecuteTime": {
     "end_time": "2024-11-27T09:04:51.105194Z",
     "start_time": "2024-11-27T09:04:50.028613Z"
    }
   },
   "cell_type": "code",
   "source": [
    "res.show_violings()\n",
    "plt.show(block=False)"
   ],
   "id": "8934edadf7b75d2f",
   "outputs": [],
   "execution_count": 95
  },
  {
   "metadata": {
    "ExecuteTime": {
     "end_time": "2024-11-26T13:38:31.845456Z",
     "start_time": "2024-11-26T13:38:31.742552Z"
    }
   },
   "cell_type": "code",
   "source": [
    "# res.__dict__.keys()\n",
    "# res.__dict__['arr_0'].item()['configs']\n",
    "res.arr_0.item()['results'].mean()"
   ],
   "id": "b27399782b24ed9e",
   "outputs": [
    {
     "data": {
      "text/plain": [
       "0.542025838584121"
      ]
     },
     "execution_count": 26,
     "metadata": {},
     "output_type": "execute_result"
    }
   ],
   "execution_count": 26
  },
  {
   "metadata": {},
   "cell_type": "markdown",
   "source": "## Understand SLM3 outputs ",
   "id": "8df22a0db4504caf"
  },
  {
   "metadata": {
    "ExecuteTime": {
     "end_time": "2024-11-27T09:49:05.906573Z",
     "start_time": "2024-11-27T09:49:03.372931Z"
    }
   },
   "cell_type": "code",
   "source": [
    "path = r\"G:\\My Drive\\Projects\\MPLC\\results\\simulations\\2024_11_26_16_55_09_qwfs_long_with_analytic.npz\"\n",
    "res = QWFSResult(path)"
   ],
   "id": "a0902c4a89aeff8b",
   "outputs": [],
   "execution_count": 104
  },
  {
   "metadata": {
    "ExecuteTime": {
     "end_time": "2024-11-27T09:51:00.967350Z",
     "start_time": "2024-11-27T09:51:00.866141Z"
    }
   },
   "cell_type": "code",
   "source": [
    "# results.shape == N_T_methods, N_configs, N_tries, N_algos\n",
    "# best_phases.shape == N_T_methods, N_configs, N_tries, N_algos, self.N\n",
    "try_no = 20 \n",
    "alg = 'L-BFGS-B'\n",
    "config = 'SLM3'\n",
    "T_method = 'unitary'\n",
    "T_method = 'gaus_iid'\n",
    "alg_ind = np.where(res.algos == alg)[0]\n",
    "conf_ind = np.where(res.configs == config)[0]\n",
    "T_method_ind = np.where(res.T_methods == T_method)[0] \n",
    "print(res.results[T_method_ind, conf_ind, try_no, alg_ind])"
   ],
   "id": "c79fcc28a7485cd1",
   "outputs": [
    {
     "name": "stdout",
     "output_type": "stream",
     "text": [
      "[1.65294644]\n"
     ]
    }
   ],
   "execution_count": 111
  }
 ],
 "metadata": {
  "kernelspec": {
   "display_name": "Python 3",
   "language": "python",
   "name": "python3"
  },
  "language_info": {
   "codemirror_mode": {
    "name": "ipython",
    "version": 2
   },
   "file_extension": ".py",
   "mimetype": "text/x-python",
   "name": "python",
   "nbconvert_exporter": "python",
   "pygments_lexer": "ipython2",
   "version": "2.7.6"
  }
 },
 "nbformat": 4,
 "nbformat_minor": 5
}
