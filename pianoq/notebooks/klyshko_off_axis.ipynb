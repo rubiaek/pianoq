{
 "cells": [
  {
   "cell_type": "markdown",
   "source": [
    "Imports"
   ],
   "metadata": {
    "collapsed": false
   }
  },
  {
   "cell_type": "code",
   "execution_count": 2,
   "source": [
    "import time\n",
    "import datetime\n",
    "\n",
    "from pianoq.lab.power_meter100 import PowerMeterPM100\n",
    "from pianoq.lab.thorlabs_motor import ThorlabsKcubeDC, ThorlabsKcubeStepper\n",
    "from pianoq.lab.photon_counter import PhotonCounter\n",
    "\n",
    "import numpy as np\n",
    "import matplotlib.pyplot as plt\n",
    "from pianoq.lab.time_tagger import QPTimeTagger\n",
    "\n",
    "from pianoq_results.scan_result import ScanResult\n",
    "from pianoq.misc.mplt import my_mesh\n",
    "from pianoq.lab.photon_scan import PhotonScanner\n",
    "from pianoq.lab.slm import SLMDevice\n",
    "# LOGS_DIR = \"C:\\\\temp\"\n",
    "# LOGS_DIR = r'G:\\My Drive\\Projects\\Klyshko Optimization\\Results\\temp'\n",
    "# LOGS_DIR = r'G:\\My Drive\\Projects\\Klyshko Optimization\\Results\\off_axis\\try3'\n"
   ],
   "metadata": {
    "collapsed": false
   },
   "outputs": []
  },
  {
   "cell_type": "markdown",
   "source": [
    "get hardware"
   ],
   "metadata": {
    "collapsed": false
   }
  },
  {
   "cell_type": "code",
   "execution_count": 84,
   "source": [
    "integration_time = 1\n",
    "x_motor = ThorlabsKcubeStepper(26003411)\n",
    "print('got x_motor')\n",
    "y_motor = ThorlabsKcubeDC(27600573)\n",
    "print('got y_motor')\n",
    "tt = None\n",
    "pm = None\n",
    "tt = QPTimeTagger(integration_time=integration_time, coin_window=2e-9, single_channel_delays=(0, 1800))\n",
    "print('got timetagger')\n",
    "\n",
    "# slm = SLMDevice(0, use_mirror=True)\n",
    "# slm.set_pinhole(radius=150, center=(530, 500), pinhole_type='mirror')  # pinhole_type='mirror'\n"
   ],
   "metadata": {
    "collapsed": false
   },
   "outputs": []
  },
  {
   "cell_type": "markdown",
   "source": [
    "# close hardware"
   ],
   "metadata": {
    "collapsed": false
   }
  },
  {
   "cell_type": "code",
   "execution_count": 86,
   "source": [
    "tt.close()\n",
    "x_motor.close()\n",
    "y_motor.close()"
   ],
   "metadata": {
    "collapsed": false
   },
   "outputs": []
  },
  {
   "cell_type": "markdown",
   "source": [
    "Initial scan \"here\"; micrometer d=7\n",
    "Focus should be at x=13.7, y=9.05"
   ],
   "metadata": {
    "collapsed": false
   }
  },
  {
   "cell_type": "code",
   "execution_count": 7,
   "source": [
    "integration_time = 1\n",
    "name = 'focus_here_no_diffuser_d=7_filter=20nm'\n",
    "here = True\n",
    "\n",
    "start_x = 13.4\n",
    "start_y = 8.75\n",
    "x_pixels = 12\n",
    "y_pixels = 12\n",
    "pixel_size_x = 0.05\n",
    "pixel_size_y = 0.05\n",
    "\n",
    "timestamp = datetime.datetime.now().strftime('%Y_%m_%d_%H_%M_%S')\n",
    "dir_path = r'G:\\My Drive\\Projects\\Klyshko Optimization\\Results\\Off_axis\\Try3'\n",
    "path = f'{dir_path}\\\\{timestamp}_{name}.scan'\n",
    "scanner = PhotonScanner(integration_time, start_x, start_y, x_pixels, y_pixels, pixel_size_x, pixel_size_y,\n",
    "                        run_name=name, is_timetagger=True, coin_window=2e-9, saveto_path=path)\n",
    "\n",
    "\n",
    "single1s, single2s, coincidences = scanner.scan(x_motor=x_motor, y_motor=y_motor, ph=tt, use_power_meter=False)"
   ],
   "metadata": {
    "collapsed": false
   },
   "outputs": []
  },
  {
   "cell_type": "code",
   "execution_count": 6,
   "source": [
    "res = ScanResult(r\"G:\\My Drive\\Projects\\Klyshko Optimization\\Results\\Off_axis\\try3\\2023_12_24_10_03_40_focus_here_no_diffuser_d=7.scan\")\n",
    "res.show()"
   ],
   "metadata": {
    "collapsed": false
   },
   "outputs": []
  },
  {
   "cell_type": "markdown",
   "source": [
    "Initial scan \"here\"; micrometer d=-3=47\n",
    "Focus should be at x=13.7, y=9.05"
   ],
   "metadata": {
    "collapsed": false
   }
  },
  {
   "cell_type": "code",
   "execution_count": 11,
   "source": [
    "integration_time = 1\n",
    "name = 'focus_there_no_diffuser_d=47=-3'\n",
    "\n",
    "start_x = 13.3\n",
    "start_y = 7.55\n",
    "x_pixels = 16\n",
    "y_pixels = 16\n",
    "pixel_size_x = 0.05\n",
    "pixel_size_y = 0.05\n",
    "\n",
    "timestamp = datetime.datetime.now().strftime('%Y_%m_%d_%H_%M_%S')\n",
    "dir_path = r'G:\\My Drive\\Projects\\Klyshko Optimization\\Results\\Off_axis\\Try3'\n",
    "path = f'{dir_path}\\\\{timestamp}_{name}.scan'\n",
    "scanner = PhotonScanner(integration_time, start_x, start_y, x_pixels, y_pixels, pixel_size_x, pixel_size_y,\n",
    "                        run_name=name, is_timetagger=True, coin_window=2e-9, saveto_path=path)\n",
    "\n",
    "\n",
    "single1s, single2s, coincidences = scanner.scan(x_motor=x_motor, y_motor=y_motor, ph=tt, use_power_meter=False)"
   ],
   "metadata": {
    "collapsed": false
   },
   "outputs": []
  },
  {
   "cell_type": "code",
   "execution_count": 63,
   "source": [
    "# best place when d=7\n",
    "x_motor.move_absolute(13.72)\n",
    "y_motor.move_absolute(9.05)\n",
    "tt.read_interesting()"
   ],
   "metadata": {
    "collapsed": false
   },
   "outputs": []
  },
  {
   "cell_type": "code",
   "execution_count": 82,
   "source": [
    "# tt.read_interesting()\n",
    "# print(x_motor.get_position())\n",
    "# print(y_motor.get_position())\n",
    "tt.read_interesting()"
   ],
   "metadata": {
    "collapsed": false
   },
   "outputs": []
  },
  {
   "cell_type": "markdown",
   "source": [
    "optimization here"
   ],
   "metadata": {
    "collapsed": false
   }
  },
  {
   "cell_type": "code",
   "execution_count": 46,
   "source": [
    "from pianoq.lab.slm_optimize import SLMOptimizer\n",
    "from pianoq.lab.slm import SLMDevice\n",
    "\n",
    "slm = SLMDevice(0, use_mirror=True)\n",
    "slm.set_pinhole(radius=150, center=(530, 500), pinhole_type='mirror')  # pinhole_type='mirror'\n",
    "\n",
    "sleep_period = 0.02\n",
    "run_name = f'off_axis_optimize_here_d=7'\n",
    "\n",
    "power_meter = PowerMeterPM100()\n",
    "power_meter.set_exposure(0.05)\n",
    "\n",
    "timestamp = datetime.datetime.now().strftime('%Y_%m_%d_%H_%M_%S')\n",
    "dir_path = r'G:\\My Drive\\Projects\\Klyshko Optimization\\Results\\Off_axis\\Try3'\n",
    "path = f'{dir_path}\\\\{timestamp}_{run_name}.optimizer2'\n",
    "o = SLMOptimizer(sleep_period=sleep_period, run_name=run_name, saveto_path=path)\n",
    "\n",
    "g = o.optimize(method=SLMOptimizer.CONTINUOUS_HEX, iterations=600, slm=slm, power_meter=power_meter,\n",
    "               best_phi_method='silly_max', cell_size=20)\n",
    "\n",
    "power_meter.close()"
   ],
   "metadata": {
    "collapsed": false
   },
   "outputs": []
  },
  {
   "cell_type": "markdown",
   "source": [
    "Optimized scan \"here\"\n"
   ],
   "metadata": {
    "collapsed": false
   }
  },
  {
   "cell_type": "code",
   "execution_count": 85,
   "source": [
    "integration_time = 1\n",
    "name = 'optimized_here_d=7_filter=80'\n",
    "\n",
    "# x_motor.move_absolute(13.70)\n",
    "# y_motor.move_absolute(9.02)\n",
    "\n",
    "start_x = 13.3\n",
    "start_y = 8.6\n",
    "x_pixels = 16\n",
    "y_pixels = 16\n",
    "pixel_size_x = 0.05\n",
    "pixel_size_y = 0.05\n",
    "\n",
    "timestamp = datetime.datetime.now().strftime('%Y_%m_%d_%H_%M_%S')\n",
    "dir_path = r'G:\\My Drive\\Projects\\Klyshko Optimization\\Results\\Off_axis\\Try3'\n",
    "path = f'{dir_path}\\\\{timestamp}_{name}.scan'\n",
    "scanner = PhotonScanner(integration_time, start_x, start_y, x_pixels, y_pixels, pixel_size_x, pixel_size_y,\n",
    "                        run_name=name, is_timetagger=True, coin_window=2e-9, saveto_path=path)\n",
    "\n",
    "\n",
    "single1s, single2s, coincidences = scanner.scan(x_motor=x_motor, y_motor=y_motor, ph=tt, use_power_meter=False)"
   ],
   "metadata": {
    "collapsed": false
   },
   "outputs": []
  }
 ],
 "metadata": {
  "kernelspec": {
   "display_name": "Python 3",
   "language": "python",
   "name": "python3"
  },
  "language_info": {
   "codemirror_mode": {
    "name": "ipython",
    "version": 2
   },
   "file_extension": ".py",
   "mimetype": "text/x-python",
   "name": "python",
   "nbconvert_exporter": "python",
   "pygments_lexer": "ipython2",
   "version": "2.7.6"
  }
 },
 "nbformat": 4,
 "nbformat_minor": 0
}
