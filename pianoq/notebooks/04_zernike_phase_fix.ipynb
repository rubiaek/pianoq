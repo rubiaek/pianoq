{
 "cells": [
  {
   "cell_type": "code",
   "id": "initial_id",
   "metadata": {
    "collapsed": true,
    "ExecuteTime": {
     "end_time": "2024-09-24T10:47:25.197542Z",
     "start_time": "2024-09-24T10:47:18.797015Z"
    }
   },
   "source": [
    "import matplotlib\n",
    "matplotlib.use('TKAgg')\n",
    "%load_ext autoreload\n",
    "%autoreload 2\n",
    "import os \n",
    "import datetime\n",
    "import glob \n",
    "import numpy as np\n",
    "import matplotlib.pyplot as plt\n",
    "from pianoq.simulations.mplc_sim.mplc_sim import MPLCSim\n",
    "from pianoq.simulations.mplc_sim.mplc_sim_result import MPLCMasks\n",
    "from pianoq.lab.mplc.singles_scan import signal_scan, idler_scan, get_signal_scanner, get_idler_scanner\n",
    "from pianoq.lab.mplc.phase_finder_result import PhaseFinderResult\n",
    "from pianoq.lab.mplc.mask_utils import remove_input_modes, add_phase_input_spots, get_imaging_masks\n",
    "from pianoq_results.scan_result import ScanResult\n",
    "from pianoq.simulations.mplc_sim.mplc_sim_result import MPLCSimResult\n",
    "from pianoq.lab.mplc.mplc_device import MPLCDevice\n",
    "from pianoq.lab.photon_scan import PhotonScanner\n",
    "from pianoq.misc.misc import run_in_thread, run_in_thread_simple\n",
    "from pianoq.misc.mplt import mimshow, mplot\n",
    "from pianoq.simulations.mplc_sim.create_wfm_masks import create_WFM_diffuser_masks\n",
    "from pianoq.lab.mplc.discrete_photon_scanner import DiscretePhotonScanner\n",
    "import time \n",
    "from pianoq.lab.mplc.phase_finder_result import PhaseFinderResult\n",
    "from pianoq.lab.mplc.find_discreet_phases import PhaseFinder\n",
    "\n",
    "dir_path = r'G:\\My Drive\\Projects\\MPLC\\results\\lab\\2024_09_24_zernike'\n",
    "if not os.path.exists(dir_path):\n",
    "    os.mkdir(dir_path)\n",
    "\n",
    "modes_to_keep = np.array([3, 8, 13, 18, 23, 28, 33, 38, 43, 48])\n",
    "U_no = 1"
   ],
   "outputs": [
    {
     "name": "stdout",
     "output_type": "stream",
     "text": [
      "The autoreload extension is already loaded. To reload it, use:\n",
      "  %reload_ext autoreload\n"
     ]
    }
   ],
   "execution_count": 1
  },
  {
   "metadata": {
    "ExecuteTime": {
     "end_time": "2024-09-24T10:47:39.348188Z",
     "start_time": "2024-09-24T10:47:33.023388Z"
    }
   },
   "cell_type": "code",
   "source": [
    "# Motors\n",
    "backlash = 0\n",
    "wait_after_move = 0.3\n",
    "from pianoq.lab.mplc.consts import thorlabs_x_serial, thorlabs_y_serial\n",
    "from pianoq.lab.thorlabs_motor import ThorlabsKcubeDC, ThorlabsKcubeStepper\n",
    "from pianoq.lab.zaber_motor import ZaberMotors\n",
    "zaber_ms = ZaberMotors(backlash=backlash, wait_after_move=wait_after_move)\n",
    "mxs = zaber_ms.motors[1]\n",
    "mys = zaber_ms.motors[0]\n",
    "print('Got Zaber motors')\n",
    "\n",
    "mxi = ThorlabsKcubeDC(thorlabs_x_serial, backlash=backlash, wait_after_move=wait_after_move)\n",
    "myi = ThorlabsKcubeStepper(thorlabs_y_serial, backlash=backlash, wait_after_move=wait_after_move)\n",
    "print('Got Thorlabs motors')\n",
    "\n",
    "# MPLC\n",
    "mplc = MPLCDevice()\n",
    "mplc.restore_location()\n",
    "print('Got MPLC')\n",
    "\n",
    "# Timetagger\n",
    "from pianoq.lab.time_tagger import QPTimeTagger\n",
    "from pianoq.lab.mplc.consts import TIMETAGGER_DELAYS, TIMETAGGER_COIN_WINDOW\n",
    "tt = QPTimeTagger(integration_time=1, remote=True,\n",
    "                  single_channel_delays=TIMETAGGER_DELAYS, coin_window=TIMETAGGER_COIN_WINDOW)\n",
    "print('Got Time tagger')"
   ],
   "id": "128dbc22cfe502e6",
   "outputs": [
    {
     "name": "stdout",
     "output_type": "stream",
     "text": [
      "Got Zaber motors\n",
      "Got Thorlabs motors\n",
      "Got MPLC\n",
      "Got Time tagger\n"
     ]
    }
   ],
   "execution_count": 3
  },
  {
   "metadata": {},
   "cell_type": "markdown",
   "source": [
    "# Optimization\n",
    "## prepare"
   ],
   "id": "850c67943feb050c"
  },
  {
   "metadata": {
    "ExecuteTime": {
     "end_time": "2024-09-24T10:48:20.235727Z",
     "start_time": "2024-09-24T10:48:14.159013Z"
    }
   },
   "cell_type": "code",
   "source": [
    "# masks \n",
    "masks_path = glob.glob(rf'{dir_path}\\U{U_no}U*.masks')[0]\n",
    "msks = MPLCMasks()\n",
    "msks.loadfrom(masks_path)\n",
    "masks = msks.real_masks\n",
    "masks = remove_input_modes(masks, modes_to_keep=modes_to_keep)\n",
    "mplc.load_masks(masks, linear_tilts=True)\n",
    "\n",
    "# locs \n",
    "locs_idl_path = glob.glob(fr'{dir_path}\\*idl*.locs')[0]\n",
    "locs_sig_path = glob.glob(fr'{dir_path}\\*sig*.locs')[0]\n",
    "locs_idl = np.load(locs_idl_path)['locs']\n",
    "locs_sig = np.load(locs_sig_path)['locs']\n",
    "\n",
    "# i,j of corr matrix that is supposed to be strong \n",
    "i = 2\n",
    "j = 2\n",
    "mxi.move_absolute(locs_idl[i, 0])\n",
    "myi.move_absolute(locs_idl[i, 1])\n",
    "mxs.move_absolute(locs_sig[j, 0])\n",
    "mys.move_absolute(locs_sig[j, 1])        \n",
    "mplc.restore_location()\n",
    "time.sleep(1)"
   ],
   "id": "99093d5095bfd4ab",
   "outputs": [],
   "execution_count": 5
  },
  {
   "metadata": {},
   "cell_type": "markdown",
   "source": "## optimize",
   "id": "5dc9e31987d09d5a"
  },
  {
   "metadata": {
    "jupyter": {
     "is_executing": true
    },
    "ExecuteTime": {
     "start_time": "2024-09-24T11:05:28.068318Z"
    }
   },
   "cell_type": "code",
   "source": [
    "from aotools.functions import phaseFromZernikes\n",
    "Z_MASK_SIZE = 360\n",
    "z_slice = np.index_exp[:, 110:250]\n",
    "\n",
    "# find phases\n",
    "mplc.load_masks(masks, linear_tilts=True) \n",
    "orig_masks = mplc.masks.copy()\n",
    "\n",
    "iters = 3\n",
    "N_zernike = 14\n",
    "N_mags = 10\n",
    "magnitude_range = np.linspace(-3, 3, N_mags)\n",
    "timestamp = datetime.datetime.now().strftime('%Y_%m_%d_%H_%M_%S')\n",
    "integration_time = 10\n",
    "tt.set_integration_time(integration_time)\n",
    "\n",
    "all_costs = []\n",
    "v_zernike = np.zeros(N_zernike)\n",
    "best_z_vals = np.zeros(N_zernike)\n",
    "\n",
    "for iter in range(iters):\n",
    "    print(f'{iter=}')\n",
    "    for z_coef in range(N_zernike):\n",
    "        print(f'{z_coef=}')\n",
    "        now_costs = np.zeros(len(magnitude_range))\n",
    "        for i, magnitude in enumerate(magnitude_range):\n",
    "            vals = best_z_vals.copy()\n",
    "            vals[z_coef] = magnitude\n",
    "            z_mask = phaseFromZernikes(vals, Z_MASK_SIZE)\n",
    "            new_masks = orig_masks.copy()\n",
    "            new_masks[0] *= np.exp(1j*z_mask[z_slice])\n",
    "            mplc.load_masks(new_masks, linear_tilts=True)\n",
    "            s1, s2, c = tt.read_interesting()\n",
    "            cost = c - 2*tt.coin_window*s1*s2\n",
    "            print(f'\\t{i}: {cost=:.3f}')\n",
    "            now_costs[i] = cost\n",
    "        all_costs.append(now_costs)\n",
    "        best_ind = np.argmax(now_costs)\n",
    "        best_z_vals[z_coef] = magnitude_range[best_ind]\n",
    "    print(best_z_vals)"
   ],
   "id": "61fdc85ba8e4e987",
   "outputs": [
    {
     "name": "stdout",
     "output_type": "stream",
     "text": [
      "iter=0\n",
      "z_coef=0\n",
      "\t0: cost=0.9371720592400001\n",
      "\t1: cost=1.2312467708800001\n",
      "\t2: cost=1.8255185426\n",
      "\t3: cost=1.70790281872\n",
      "\t4: cost=1.7943334391199999\n",
      "\t5: cost=1.69354307296\n",
      "\t6: cost=1.6848694480000002\n",
      "\t7: cost=2.9852170790000003\n",
      "\t8: cost=2.08731376436\n",
      "\t9: cost=1.49385155548\n",
      "\t10: cost=2.39479229912\n",
      "\t11: cost=2.6995353473600003\n",
      "\t12: cost=2.29772696092\n",
      "\t13: cost=1.69887888684\n",
      "\t14: cost=1.6972643062000001\n",
      "\t15: cost=1.607659458\n",
      "\t16: cost=0.43088955516000005\n",
      "\t17: cost=1.3271500194799999\n",
      "\t18: cost=0.931174688\n",
      "\t19: cost=1.04035099216\n",
      "z_coef=1\n",
      "\t0: cost=0.80599237912\n",
      "\t1: cost=0.9087748198400001\n",
      "\t2: cost=1.7072254475200002\n",
      "\t3: cost=1.7942315408\n",
      "\t4: cost=1.402516087\n",
      "\t5: cost=1.7883398942\n",
      "\t6: cost=2.0887285937200004\n",
      "\t7: cost=1.58810859648\n",
      "\t8: cost=2.28447784096\n",
      "\t9: cost=1.58386245872\n",
      "\t10: cost=2.0875327834800004\n",
      "\t11: cost=1.2859292544\n",
      "\t12: cost=1.6848468688000002\n",
      "\t13: cost=1.58640815972\n",
      "\t14: cost=1.1882384508800001\n",
      "\t15: cost=2.9904350594\n",
      "\t16: cost=1.2898382944\n",
      "\t17: cost=0.8919750152000001\n",
      "\t18: cost=2.0964275232\n",
      "\t19: cost=2.3065043056\n",
      "z_coef=2\n",
      "\t0: cost=0.42740690100000006\n",
      "\t1: cost=0.52455605248\n",
      "\t2: cost=0.7301383024\n",
      "\t3: cost=1.12614496984\n",
      "\t4: cost=0.8111250356799999\n"
     ]
    }
   ],
   "execution_count": null
  },
  {
   "metadata": {
    "ExecuteTime": {
     "end_time": "2024-09-24T11:01:05.483457Z",
     "start_time": "2024-09-24T11:01:05.277933Z"
    }
   },
   "cell_type": "code",
   "source": "mimshow(np.angle(orig_masks[0]))",
   "id": "bbac10d3ddd395d1",
   "outputs": [
    {
     "data": {
      "text/plain": [
       "(<Figure size 640x480 with 2 Axes>, <Axes: >)"
      ]
     },
     "execution_count": 14,
     "metadata": {},
     "output_type": "execute_result"
    }
   ],
   "execution_count": 14
  }
 ],
 "metadata": {
  "kernelspec": {
   "display_name": "Python 3",
   "language": "python",
   "name": "python3"
  },
  "language_info": {
   "codemirror_mode": {
    "name": "ipython",
    "version": 2
   },
   "file_extension": ".py",
   "mimetype": "text/x-python",
   "name": "python",
   "nbconvert_exporter": "python",
   "pygments_lexer": "ipython2",
   "version": "2.7.6"
  }
 },
 "nbformat": 4,
 "nbformat_minor": 5
}
