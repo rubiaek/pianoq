{
 "cells": [
  {
   "metadata": {},
   "cell_type": "markdown",
   "source": "# General preparations",
   "id": "e78f8d52f15003c3"
  },
  {
   "metadata": {
    "ExecuteTime": {
     "end_time": "2024-09-09T09:06:43.777862Z",
     "start_time": "2024-09-09T09:06:37.697946Z"
    }
   },
   "cell_type": "code",
   "source": [
    "from misc.misc import run_in_thread_simple\n",
    "%load_ext autoreload\n",
    "%autoreload 2\n",
    "# %matplotlib notebook\n",
    "import matplotlib\n",
    "matplotlib.use('TKAgg')\n",
    "import os \n",
    "import datetime\n",
    "import numpy as np\n",
    "import matplotlib.pyplot as plt\n",
    "from pianoq.simulations.mplc_sim.mplc_sim import MPLCSim\n",
    "from pianoq.simulations.mplc_sim.mplc_modes2 import gen_input_spots_array, gen_output_modes_Unitary\n",
    "from pianoq.misc.misc import run_in_thread, run_in_thread_simple\n",
    "import time "
   ],
   "id": "9105b564801cb555",
   "outputs": [
    {
     "name": "stdout",
     "output_type": "stream",
     "text": [
      "The autoreload extension is already loaded. To reload it, use:\n",
      "  %reload_ext autoreload\n"
     ]
    }
   ],
   "execution_count": 1
  },
  {
   "metadata": {
    "ExecuteTime": {
     "end_time": "2024-09-09T09:06:43.972051Z",
     "start_time": "2024-09-09T09:06:43.897552Z"
    }
   },
   "cell_type": "code",
   "source": [
    "dir_path = r'G:\\My Drive\\Projects\\MPLC\\results\\lab\\2024_09_09_QKD_random_phases'\n",
    "if not os.path.exists(dir_path):\n",
    "    os.mkdir(dir_path)"
   ],
   "id": "65ccd324b64ca608",
   "outputs": [],
   "execution_count": 2
  },
  {
   "metadata": {
    "ExecuteTime": {
     "end_time": "2024-09-09T09:06:46.007404Z",
     "start_time": "2024-09-09T09:06:44.196608Z"
    }
   },
   "cell_type": "code",
   "source": [
    "# MPLC\n",
    "from pianoq.lab.mplc.mplc_device import MPLCDevice\n",
    "mplc = MPLCDevice()\n",
    "mplc.restore_location()\n",
    "print('Got MPLC')"
   ],
   "id": "88ae892cc66a3973",
   "outputs": [
    {
     "name": "stdout",
     "output_type": "stream",
     "text": [
      "Got MPLC\n"
     ]
    }
   ],
   "execution_count": 3
  },
  {
   "metadata": {
    "ExecuteTime": {
     "end_time": "2024-09-09T09:06:52.375660Z",
     "start_time": "2024-09-09T09:06:52.279620Z"
    }
   },
   "cell_type": "code",
   "source": [
    "# get masks\n",
    "import glob \n",
    "from pianoq.simulations.mplc_sim.mplc_sim_result import MPLCMasks\n",
    "paths = glob.glob(fr'{dir_path}\\*.masks')\n",
    "assert len(paths) == 1, 'there should be one .masks file'\n",
    "masks_path = paths[0]\n",
    "msks = MPLCMasks()\n",
    "msks.loadfrom(masks_path)\n",
    "orig_masks = msks.real_masks\n",
    "\n",
    "modes_to_keep = np.array([3, 8, 13, 18, 23, 28, 33, 38, 43, 48])"
   ],
   "id": "b402217c7b6ffd18",
   "outputs": [],
   "execution_count": 5
  },
  {
   "metadata": {},
   "cell_type": "markdown",
   "source": [
    "## Checklist\n",
    "- [X] make list\n",
    "- [X] create masks WFM\n",
    "- [X] measure single counts \n",
    "- [X] mark spots locations \n",
    "- [ ] find phases\n",
    "- [ ] measure coincidence no phases\n",
    "- [ ] measure with good phases \n",
    "- [ ] measure with random phases X 5 "
   ],
   "id": "e342907bdf6e48a2"
  },
  {
   "metadata": {},
   "cell_type": "markdown",
   "source": "# Create masks WFM",
   "id": "31a57c6b489ea209"
  },
  {
   "metadata": {
    "ExecuteTime": {
     "end_time": "2024-09-09T08:59:40.534421Z",
     "start_time": "2024-09-09T08:56:10.079054Z"
    }
   },
   "cell_type": "code",
   "source": [
    "from pianoq.simulations.mplc_sim.create_wfm_masks import create_WFM_QKD_masks\n",
    "timestamp = datetime.datetime.now().strftime('%Y_%m_%d_%H_%M_%S')\n",
    "masks_path = fr'{dir_path}\\{timestamp}_QKD_MUB2.masks'\n",
    "mplc_sim = create_WFM_QKD_masks(N_iterations=15, out_path=masks_path)"
   ],
   "id": "af0918adec3ec8ea",
   "outputs": [
    {
     "name": "stderr",
     "output_type": "stream",
     "text": [
      "100%|██████████| 15/15 [03:12<00:00, 12.84s/it]\n"
     ]
    }
   ],
   "execution_count": 9
  },
  {
   "metadata": {
    "ExecuteTime": {
     "end_time": "2024-09-09T08:59:46.967074Z",
     "start_time": "2024-09-09T08:59:42.103434Z"
    }
   },
   "cell_type": "code",
   "source": [
    "mplc_sim.res._calc_normalized_overlap()\n",
    "display(np.angle(np.diag(mplc_sim.res.forward_overlap)))\n",
    "display(np.diag(mplc_sim.res.forward_overlap))\n",
    "mplc_sim.res._calc_fidelity()\n",
    "display(mplc_sim.res.fidelity)"
   ],
   "id": "25115b5c43ad08bb",
   "outputs": [
    {
     "data": {
      "text/plain": [
       "array([-0.01104283, -0.01694016, -0.01549735, -0.00316909, -0.00069085,\n",
       "        0.0036713 ,  0.02134649,  0.01103632, -0.01880339,  0.00477507],\n",
       "      dtype=float32)"
      ]
     },
     "metadata": {},
     "output_type": "display_data"
    },
    {
     "data": {
      "text/plain": [
       "array([0.6407918 -0.00707644j, 0.6609486 -0.01119764j,\n",
       "       0.6609756 -0.01024419j, 0.63431716-0.00201022j,\n",
       "       0.6449323 -0.00044555j, 0.63141215+0.00231811j,\n",
       "       0.6488427 +0.01385262j, 0.6300257 +0.00695345j,\n",
       "       0.6547122 -0.01231226j, 0.64000374+0.00305609j], dtype=complex64)"
      ]
     },
     "metadata": {},
     "output_type": "display_data"
    },
    {
     "data": {
      "text/plain": [
       "0.9859997292423204"
      ]
     },
     "metadata": {},
     "output_type": "display_data"
    }
   ],
   "execution_count": 10
  },
  {
   "metadata": {
    "ExecuteTime": {
     "end_time": "2024-09-09T08:59:52.267701Z",
     "start_time": "2024-09-09T08:59:49.351537Z"
    }
   },
   "cell_type": "code",
   "source": "mplc_sim.res.show_overlap()",
   "id": "7139ae8f2268067d",
   "outputs": [],
   "execution_count": 11
  },
  {
   "metadata": {
    "ExecuteTime": {
     "end_time": "2024-09-09T09:00:18.175871Z",
     "start_time": "2024-09-09T09:00:17.910804Z"
    }
   },
   "cell_type": "code",
   "source": [
    "fig, axes = plt.subplots(2, 5)\n",
    "for i, ax in enumerate(axes.flat):\n",
    "    # ax.imshow(np.angle(res.masks[i][360:720, 140:280]), cmap='gray')\n",
    "    ax.imshow(np.angle(mplc_sim.res.masks[i][360:720, 140:280]), cmap='gray')"
   ],
   "id": "90505ea8297bdd08",
   "outputs": [],
   "execution_count": 13
  },
  {
   "metadata": {
    "ExecuteTime": {
     "end_time": "2024-09-09T09:00:30.189392Z",
     "start_time": "2024-09-09T09:00:29.187806Z"
    }
   },
   "cell_type": "code",
   "source": "mplc_sim.res.show_all(7)",
   "id": "17986d9159a6e57d",
   "outputs": [],
   "execution_count": 15
  },
  {
   "metadata": {},
   "cell_type": "markdown",
   "source": "# Find locations with single counts ",
   "id": "c65980cc75282924"
  },
  {
   "metadata": {
    "ExecuteTime": {
     "end_time": "2024-09-09T09:07:06.337624Z",
     "start_time": "2024-09-09T09:07:05.425362Z"
    }
   },
   "cell_type": "code",
   "source": [
    "from pianoq.lab.mplc.singles_scan import signal_scan, idler_scan\n",
    "import numpy as np\n",
    "from pianoq.lab.mplc.mplc_device import MPLCDevice\n",
    "from pianoq.lab.mplc.mask_utils import remove_input_modes, add_phase_input_spots\n",
    "from pianoq.lab.mplc.phase_finder_result import PhaseFinderResult\n",
    "\n",
    "masks = orig_masks.copy()\n",
    "masks = remove_input_modes(masks, modes_to_keep=modes_to_keep)\n",
    "mplc.load_masks(masks, linear_tilts=True)\n",
    "mplc.restore_location()"
   ],
   "id": "87edfd79635f86bb",
   "outputs": [],
   "execution_count": 6
  },
  {
   "metadata": {
    "ExecuteTime": {
     "end_time": "2024-09-09T09:17:27.416231Z",
     "start_time": "2024-09-09T09:17:27.249232Z"
    }
   },
   "cell_type": "code",
   "source": [
    "resolution = 1\n",
    "timestamp = datetime.datetime.now().strftime('%Y_%m_%d_%H_%M_%S')\n",
    "singles_idler_path = fr'{dir_path}\\{timestamp}_QKD_MUB2_signal_res_{resolution}.scan'\n",
    "singles_signal_path = fr'{dir_path}\\{timestamp}_QKD_MUB2_idler_res_{resolution}.scan'"
   ],
   "id": "2b3868ca572021fb",
   "outputs": [],
   "execution_count": 9
  },
  {
   "metadata": {},
   "cell_type": "markdown",
   "source": "## perform scan",
   "id": "b169e3c8540fa1fa"
  },
  {
   "metadata": {
    "ExecuteTime": {
     "end_time": "2024-09-09T09:17:34.863612Z",
     "start_time": "2024-09-09T09:17:34.777039Z"
    }
   },
   "cell_type": "code",
   "source": [
    "t = run_in_thread(signal_scan, integration_time=1.0, coin_window=2e-9, resolution=resolution, out_path=singles_signal_path, half_scan=True)\n",
    "t = run_in_thread(idler_scan, integration_time=1.0, coin_window=2e-9, resolution=resolution, out_path=singles_idler_path, half_scan=True)"
   ],
   "id": "9ac7b91feafa4c2a",
   "outputs": [],
   "execution_count": 10
  },
  {
   "metadata": {},
   "cell_type": "markdown",
   "source": "## mark spots locations  ",
   "id": "df1fd74526afd1a0"
  },
  {
   "metadata": {
    "ExecuteTime": {
     "end_time": "2024-09-09T08:50:34.580312Z",
     "start_time": "2024-09-09T08:50:34.188606Z"
    }
   },
   "cell_type": "code",
   "source": [
    "from pianoq_results.scan_result import ScanResult\n",
    "\n",
    "path_sig = glob.glob(fr'{dir_path}\\*signal_res_1.scan')[0]\n",
    "path_idl = glob.glob(fr'{dir_path}\\*idler_res_1.scan')[0]\n",
    "\n",
    "res_sig = ScanResult()\n",
    "res_idl = ScanResult()\n",
    "res_idl.loadfrom(path_idl)\n",
    "res_sig.loadfrom(path_sig)\n",
    "res_idl.show_singles()\n",
    "res_sig.show_singles()"
   ],
   "id": "a16a562dd8c9b6d7",
   "outputs": [],
   "execution_count": 6
  },
  {
   "metadata": {
    "ExecuteTime": {
     "end_time": "2024-09-09T06:22:41.880158Z",
     "start_time": "2024-09-09T06:22:25.256300Z"
    }
   },
   "cell_type": "code",
   "source": [
    "_ = res_sig.get_xys(1, saveto_dir=dir_path)\n",
    "_ = res_idl.get_xys(2, saveto_dir=dir_path)"
   ],
   "id": "306a6f53fb143172",
   "outputs": [
    {
     "name": "stdout",
     "output_type": "stream",
     "text": [
      "Saved to G:\\My Drive\\Projects\\MPLC\\results\\lab\\2024_09_05_QKD_random_phases\\2024_09_09_09_22_41_s1_idl.locs\n"
     ]
    }
   ],
   "execution_count": 18
  },
  {
   "metadata": {},
   "cell_type": "markdown",
   "source": "# Find phases",
   "id": "50c99612fdab2a55"
  },
  {
   "metadata": {},
   "cell_type": "code",
   "source": [
    "from pianoq.lab.mplc.phase_finder_result import PhaseFinderResult\n",
    "from pianoq.lab.mplc.find_discreet_phases import PhaseFinder\n",
    "import glob \n",
    "from pianoq.simulations.mplc_sim.mplc_sim_result import MPLCMasks\n",
    "from pianoq.lab.mplc.singles_scan import signal_scan, idler_scan\n",
    "import numpy as np\n",
    "from pianoq.lab.mplc.mplc_device import MPLCDevice\n",
    "from pianoq.lab.mplc.mask_utils import remove_input_modes, add_phase_input_spots\n",
    "import time \n",
    "\n",
    "\n",
    "locs_sig_path = glob.glob(fr'{dir_path}\\*sig.locs')[0]\n",
    "locs_idl_path = glob.glob(fr'{dir_path}\\*idl.locs')[0]\n",
    "locs_sig = np.load(locs_sig_path)['locs']\n",
    "locs_idl = np.load(locs_idl_path)['locs']\n",
    "\n",
    "masks = orig_masks.copy()\n",
    "masks = remove_input_modes(masks, modes_to_keep=modes_to_keep)\n",
    "\n",
    "mplc.load_masks(masks, linear_tilts=True)\n",
    "initiail_phases = np.zeros(25 * 2)\n",
    "\n",
    "phases_path = fr'{dir_path}\\{timestamp}_QKD_MUB2_signal.phases'\n",
    "\n",
    "# i,j of corr matrix that is supposed to be strong \n",
    "i = 0\n",
    "j = 0\n",
    "pf = PhaseFinder(mplc=m, integration_time=30, remote_tagger=True, saveto_path=phases_path,\n",
    "                 modes_to_keep=modes_to_keep, intial_phases=initiail_phases, coin_window=2e-9)\n",
    "pf.m_idl_x.move_absolute(locs_idl[i, 0])\n",
    "pf.m_idl_y.move_absolute(locs_idl[i, 1])\n",
    "pf.m_sig_x.move_absolute(locs_sig[j, 0])\n",
    "pf.m_sig_y.move_absolute(locs_sig[j, 1])"
   ],
   "id": "61a7669a214da121",
   "outputs": [],
   "execution_count": null
  },
  {
   "metadata": {
    "ExecuteTime": {
     "end_time": "2024-09-09T06:27:22.393141Z",
     "start_time": "2024-09-09T06:27:22.304608Z"
    }
   },
   "cell_type": "code",
   "source": [
    "initiail_phases = np.zeros(25 * 2)\n",
    "pf.res.phases = initiail_phases\n",
    "pf.res.initial_phases = initiail_phases\n",
    "\n",
    "m.restore_location()"
   ],
   "id": "a121a64ef9658aba",
   "outputs": [],
   "execution_count": 4
  },
  {
   "metadata": {
    "ExecuteTime": {
     "end_time": "2024-09-09T07:18:24.480798Z",
     "start_time": "2024-09-09T06:27:35.570717Z"
    }
   },
   "cell_type": "code",
   "source": "pf.find_phases()",
   "id": "34b76e811b9703bf",
   "outputs": [
    {
     "name": "stdout",
     "output_type": "stream",
     "text": [
      "0,0\n",
      "0,1\n",
      "0,2\n",
      "0,3\n",
      "0,4\n",
      "0,5\n",
      "0,6\n",
      "0,7\n",
      "0,8\n",
      "0,9\n",
      "1,0\n",
      "1,1\n",
      "1,2\n",
      "1,3\n",
      "1,4\n",
      "1,5\n",
      "1,6\n",
      "1,7\n",
      "1,8\n",
      "1,9\n",
      "2,0\n",
      "2,1\n",
      "2,2\n",
      "2,3\n",
      "2,4\n",
      "2,5\n",
      "2,6\n",
      "2,7\n",
      "2,8\n",
      "2,9\n",
      "3,0\n",
      "3,1\n",
      "3,2\n",
      "3,3\n",
      "3,4\n",
      "3,5\n",
      "3,6\n",
      "3,7\n",
      "3,8\n",
      "3,9\n",
      "4,0\n",
      "4,1\n",
      "4,2\n",
      "4,3\n",
      "4,4\n",
      "4,5\n",
      "4,6\n",
      "4,7\n",
      "4,8\n",
      "4,9\n",
      "5,0\n",
      "5,1\n",
      "5,2\n",
      "5,3\n",
      "5,4\n",
      "5,5\n",
      "5,6\n",
      "5,7\n",
      "5,8\n",
      "5,9\n",
      "6,0\n",
      "6,1\n",
      "6,2\n",
      "6,3\n",
      "6,4\n",
      "6,5\n",
      "6,6\n",
      "6,7\n",
      "6,8\n",
      "6,9\n",
      "7,0\n",
      "7,1\n",
      "7,2\n",
      "7,3\n",
      "7,4\n",
      "7,5\n",
      "7,6\n",
      "7,7\n",
      "7,8\n",
      "7,9\n",
      "8,0\n",
      "8,1\n",
      "8,2\n",
      "8,3\n",
      "8,4\n",
      "8,5\n",
      "8,6\n",
      "8,7\n",
      "8,8\n",
      "8,9\n",
      "9,0\n",
      "9,1\n",
      "9,2\n",
      "9,3\n",
      "9,4\n",
      "9,5\n",
      "9,6\n",
      "9,7\n",
      "9,8\n",
      "9,9\n"
     ]
    }
   ],
   "execution_count": 5
  },
  {
   "metadata": {
    "ExecuteTime": {
     "end_time": "2024-09-09T07:19:19.641049Z",
     "start_time": "2024-09-09T07:19:17.983210Z"
    }
   },
   "cell_type": "code",
   "source": "pf.close()",
   "id": "10500c8ef73e9a3c",
   "outputs": [],
   "execution_count": 6
  },
  {
   "metadata": {
    "ExecuteTime": {
     "end_time": "2024-09-09T07:20:18.737376Z",
     "start_time": "2024-09-09T07:19:54.870257Z"
    }
   },
   "cell_type": "code",
   "source": "pf.res.plot_best_phases()",
   "id": "cfe2694c5942d199",
   "outputs": [
    {
     "name": "stdout",
     "output_type": "stream",
     "text": [
      "3\n",
      "8\n",
      "13\n",
      "18\n",
      "23\n",
      "28\n",
      "33\n",
      "38\n",
      "43\n",
      "48\n"
     ]
    }
   ],
   "execution_count": 7
  },
  {
   "metadata": {},
   "cell_type": "markdown",
   "source": "# Scan correlations ",
   "id": "303c088f09fd5dc0"
  },
  {
   "metadata": {
    "ExecuteTime": {
     "end_time": "2024-09-09T07:30:29.695366Z",
     "start_time": "2024-09-09T07:30:22.470423Z"
    }
   },
   "cell_type": "code",
   "source": [
    "from pianoq.lab.mplc.phase_finder_result import PhaseFinderResult\n",
    "from pianoq.lab.mplc.discrete_photon_scanner import DiscretePhotonScanner\n",
    "from pianoq.simulations.mplc_sim.mplc_sim_result import MPLCMasks\n",
    "from pianoq.lab.mplc.mask_utils import remove_input_modes, add_phase_input_spots\n",
    "from pianoq.lab.mplc.mplc_device import MPLCDevice\n",
    "import glob\n",
    "\n",
    "masks = orig_masks.copy()\n",
    "masks = remove_input_modes(masks, modes_to_keep=modes_to_keep)\n",
    "\n",
    "phases_result = PhaseFinderResult()\n",
    "phases_path = glob.glob(fr'{dir_path}\\*.phases')[0]\n",
    "phases_result.loadfrom(phases_path)\n",
    "\n",
    "# Important part here! <--------------------------------------\n",
    "phases_type = 'good'\n",
    "# phases_type = 'none'\n",
    "# phases_type = 'random'\n",
    "if phases_type == 'good':\n",
    "    phases = phases_result.phases\n",
    "elif phases_type == 'random':\n",
    "    phases = np.random.uniform(0, 2*np.pi, len(phases_result.phases))\n",
    "elif phases_type == 'none':\n",
    "    phases = np.zeros_like(phases_result.phases)\n",
    "else:\n",
    "    raise ValueError(f'phases type {phases_type} not recognized')\n",
    "    \n",
    "masks = add_phase_input_spots(masks, phases)\n",
    "\n",
    "locs_sig_path = glob.glob(fr'{dir_path}\\*sig.locs')[0]\n",
    "locs_idl_path = glob.glob(fr'{dir_path}\\*idl.locs')[0]\n",
    "locs_sig = np.load(locs_sig_path)['locs']\n",
    "locs_idl = np.load(locs_idl_path)['locs']\n",
    "\n",
    "mplc = MPLCDevice()\n",
    "mplc.load_masks(masks, linear_tilts=True)\n",
    "\n",
    "backlash = 0.0\n",
    "wait_after_move = 0.3\n",
    "integration_time = 4\n",
    "coin_window = 2e-9\n",
    "timestamp = datetime.datetime.now().strftime('%Y_%m_%d_%H_%M_%S')\n",
    "scan_path = fr'{dir_path}\\{timestamp}_QKD_MUB2_{phases_type}_exp_{integration_time}s.scan'\n",
    "dps = DiscretePhotonScanner(locs_sig, locs_idl, integration_time=integration_time, remote_tagger=True, saveto_path=scan_path,\n",
    "                            backlash=backlash, wait_after_move=wait_after_move, coin_window=coin_window)\n"
   ],
   "id": "3b230456d0fc1a07",
   "outputs": [
    {
     "name": "stdout",
     "output_type": "stream",
     "text": [
      "Got Zaber motors!\n",
      "Got Thorlabs motors!\n",
      "Got TimeTagger!\n"
     ]
    }
   ],
   "execution_count": 5
  },
  {
   "metadata": {
    "ExecuteTime": {
     "end_time": "2024-09-09T07:28:00.403058Z",
     "start_time": "2024-09-09T07:27:58.486613Z"
    }
   },
   "cell_type": "code",
   "source": "mplc.restore_location()",
   "id": "5eb018dd529d35b0",
   "outputs": [],
   "execution_count": 15
  },
  {
   "metadata": {
    "ExecuteTime": {
     "end_time": "2024-09-09T07:32:59.975738Z",
     "start_time": "2024-09-09T07:30:36.581181Z"
    }
   },
   "cell_type": "code",
   "source": [
    "timestamp = datetime.datetime.now().strftime('%Y_%m_%d_%H_%M_%S')\n",
    "scan_path = fr'{dir_path}\\{timestamp}_QKD_MUB2_{phases_type}_exp_{integration_time}s.scan'\n",
    "dps.scan()"
   ],
   "id": "d571e8bd711b913a",
   "outputs": [
    {
     "name": "stdout",
     "output_type": "stream",
     "text": [
      "beginning scan\n",
      "0, 0: 4880.50, 6002.25, 4.00\n",
      "0, 1: 4801.50, 5984.75, 0.50\n",
      "0, 2: 4721.25, 5253.50, 0.00\n",
      "0, 3: 4796.25, 6469.75, 0.75\n",
      "0, 4: 4793.00, 5994.00, 0.25\n",
      "1, 0: 5302.50, 5951.75, 0.25\n",
      "1, 1: 5296.75, 6019.75, 5.00\n",
      "1, 2: 5272.25, 5252.50, 0.50\n",
      "1, 3: 5291.75, 6454.50, 1.00\n",
      "1, 4: 5313.75, 6000.50, 0.00\n",
      "2, 0: 4637.75, 5927.75, 0.00\n",
      "2, 1: 4622.00, 6031.25, 0.00\n",
      "2, 2: 4545.25, 5240.00, 2.25\n",
      "2, 3: 4597.25, 6415.75, 1.00\n",
      "2, 4: 4610.50, 6032.50, 0.50\n",
      "3, 0: 5042.75, 5968.50, 0.00\n",
      "3, 1: 5073.00, 5929.00, 0.25\n",
      "3, 2: 5082.00, 5283.00, 0.50\n",
      "3, 3: 5028.00, 6448.50, 3.50\n",
      "3, 4: 5036.75, 6046.50, 0.50\n",
      "4, 0: 4376.00, 5890.50, 0.50\n",
      "4, 1: 4417.00, 5917.75, 0.25\n",
      "4, 2: 4392.00, 5265.25, 0.00\n",
      "4, 3: 4388.25, 6535.75, 0.50\n",
      "4, 4: 4472.25, 6005.25, 1.75\n"
     ]
    }
   ],
   "execution_count": 6
  },
  {
   "metadata": {
    "ExecuteTime": {
     "end_time": "2024-09-08T19:08:40.330561Z",
     "start_time": "2024-09-08T19:08:39.748407Z"
    }
   },
   "cell_type": "code",
   "source": [
    "dps.close()\n",
    "mplc.close()"
   ],
   "id": "28809f6832dc5877",
   "outputs": [],
   "execution_count": 12
  },
  {
   "metadata": {
    "ExecuteTime": {
     "end_time": "2024-09-09T07:33:00.338635Z",
     "start_time": "2024-09-09T07:33:00.030596Z"
    }
   },
   "cell_type": "code",
   "source": [
    "dps.res.show()\n",
    "dps.res.show_singles()"
   ],
   "id": "2df19da8327fe383",
   "outputs": [],
   "execution_count": 7
  },
  {
   "metadata": {},
   "cell_type": "code",
   "outputs": [],
   "execution_count": null,
   "source": "",
   "id": "72857b25564820b8"
  }
 ],
 "metadata": {
  "kernelspec": {
   "display_name": "Python 3",
   "language": "python",
   "name": "python3"
  },
  "language_info": {
   "codemirror_mode": {
    "name": "ipython",
    "version": 2
   },
   "file_extension": ".py",
   "mimetype": "text/x-python",
   "name": "python",
   "nbconvert_exporter": "python",
   "pygments_lexer": "ipython2",
   "version": "2.7.6"
  }
 },
 "nbformat": 4,
 "nbformat_minor": 5
}
