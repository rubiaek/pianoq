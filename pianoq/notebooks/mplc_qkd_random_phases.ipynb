{
 "cells": [
  {
   "metadata": {},
   "cell_type": "markdown",
   "source": "# General preparations",
   "id": "e78f8d52f15003c3"
  },
  {
   "metadata": {
    "ExecuteTime": {
     "end_time": "2024-09-11T07:01:48.888169Z",
     "start_time": "2024-09-11T07:01:39.998745Z"
    }
   },
   "cell_type": "code",
   "source": [
    "from misc.misc import run_in_thread_simple\n",
    "%load_ext autoreload\n",
    "%autoreload 2\n",
    "# %matplotlib notebook\n",
    "import matplotlib\n",
    "matplotlib.use('TKAgg')\n",
    "import os \n",
    "import datetime\n",
    "import numpy as np\n",
    "import matplotlib.pyplot as plt\n",
    "from pianoq.simulations.mplc_sim.mplc_sim import MPLCSim\n",
    "from pianoq.simulations.mplc_sim.mplc_modes2 import gen_input_spots_array, gen_output_modes_Unitary\n",
    "from pianoq.misc.misc import run_in_thread, run_in_thread_simple\n",
    "import time "
   ],
   "id": "9105b564801cb555",
   "outputs": [
    {
     "name": "stdout",
     "output_type": "stream",
     "text": [
      "The autoreload extension is already loaded. To reload it, use:\n",
      "  %reload_ext autoreload\n"
     ]
    }
   ],
   "execution_count": 1
  },
  {
   "metadata": {
    "ExecuteTime": {
     "end_time": "2024-09-11T07:01:48.969479Z",
     "start_time": "2024-09-11T07:01:48.899711Z"
    }
   },
   "cell_type": "code",
   "source": [
    "dir_path = r'G:\\My Drive\\Projects\\MPLC\\results\\lab\\2024_09_09_QKD_random_phases'\n",
    "if not os.path.exists(dir_path):\n",
    "    os.mkdir(dir_path)"
   ],
   "id": "65ccd324b64ca608",
   "outputs": [],
   "execution_count": 2
  },
  {
   "metadata": {
    "ExecuteTime": {
     "end_time": "2024-09-11T07:01:49.536988Z",
     "start_time": "2024-09-11T07:01:48.998403Z"
    }
   },
   "cell_type": "code",
   "source": [
    "# MPLC\n",
    "from pianoq.lab.mplc.mplc_device import MPLCDevice\n",
    "mplc = MPLCDevice()\n",
    "mplc.restore_location()\n",
    "print('Got MPLC')"
   ],
   "id": "88ae892cc66a3973",
   "outputs": [
    {
     "name": "stdout",
     "output_type": "stream",
     "text": [
      "Got MPLC\n"
     ]
    }
   ],
   "execution_count": 3
  },
  {
   "metadata": {
    "ExecuteTime": {
     "end_time": "2024-09-11T07:01:49.782230Z",
     "start_time": "2024-09-11T07:01:49.667596Z"
    }
   },
   "cell_type": "code",
   "source": [
    "# get masks\n",
    "import glob \n",
    "from pianoq.simulations.mplc_sim.mplc_sim_result import MPLCMasks\n",
    "paths = glob.glob(fr'{dir_path}\\*.masks')\n",
    "assert len(paths) == 1, 'there should be one .masks file'\n",
    "masks_path = paths[0]\n",
    "msks = MPLCMasks()\n",
    "msks.loadfrom(masks_path)\n",
    "orig_masks = msks.real_masks\n",
    "\n",
    "modes_to_keep = np.array([3, 8, 13, 18, 23, 28, 33, 38, 43, 48])"
   ],
   "id": "b402217c7b6ffd18",
   "outputs": [],
   "execution_count": 4
  },
  {
   "metadata": {},
   "cell_type": "markdown",
   "source": [
    "## Checklist\n",
    "- [X] make list\n",
    "- [X] create masks WFM\n",
    "- [X] measure single counts \n",
    "- [X] mark spots locations \n",
    "- [ ] find phases\n",
    "- [ ] measure coincidence no phases\n",
    "- [ ] measure with good phases \n",
    "- [ ] measure with random phases X 5 "
   ],
   "id": "e342907bdf6e48a2"
  },
  {
   "metadata": {},
   "cell_type": "markdown",
   "source": "# Create masks WFM",
   "id": "31a57c6b489ea209"
  },
  {
   "metadata": {
    "ExecuteTime": {
     "end_time": "2024-09-09T17:37:19.383627Z",
     "start_time": "2024-09-09T17:30:18.795423Z"
    }
   },
   "cell_type": "code",
   "source": [
    "from pianoq.simulations.mplc_sim.create_wfm_masks import create_WFM_QKD_masks\n",
    "timestamp = datetime.datetime.now().strftime('%Y_%m_%d_%H_%M_%S')\n",
    "masks_path = fr'{dir_path}\\{timestamp}_QKD_MUB2.masks'\n",
    "mplc_sim = create_WFM_QKD_masks(N_iterations=15, out_path=masks_path)"
   ],
   "id": "af0918adec3ec8ea",
   "outputs": [
    {
     "name": "stderr",
     "output_type": "stream",
     "text": [
      "100%|██████████| 30/30 [06:38<00:00, 13.29s/it]\n"
     ]
    }
   ],
   "execution_count": 3
  },
  {
   "metadata": {
    "ExecuteTime": {
     "end_time": "2024-09-09T17:37:35.564824Z",
     "start_time": "2024-09-09T17:37:29.881109Z"
    }
   },
   "cell_type": "code",
   "source": [
    "mplc_sim.res._calc_normalized_overlap()\n",
    "display(np.angle(np.diag(mplc_sim.res.forward_overlap)))\n",
    "display(np.diag(mplc_sim.res.forward_overlap))\n",
    "mplc_sim.res._calc_fidelity()\n",
    "display(mplc_sim.res.fidelity)"
   ],
   "id": "25115b5c43ad08bb",
   "outputs": [
    {
     "data": {
      "text/plain": [
       "array([-0.01440468, -0.01427223, -0.01166631,  0.00382477, -0.00038664,\n",
       "        0.00150615,  0.02001652,  0.02083826, -0.02170043, -0.00085186],\n",
       "      dtype=float32)"
      ]
     },
     "metadata": {},
     "output_type": "display_data"
    },
    {
     "data": {
      "text/plain": [
       "array([0.62315977-0.00897704j, 0.6437228 -0.00918799j,\n",
       "       0.6325797 -0.00738021j, 0.6175512 +0.002362j  ,\n",
       "       0.62247694-0.00024067j, 0.5763015 +0.000868j  ,\n",
       "       0.60372466+0.01208608j, 0.583443  +0.01215969j,\n",
       "       0.5951928 -0.01291797j, 0.5889042 -0.00050167j], dtype=complex64)"
      ]
     },
     "metadata": {},
     "output_type": "display_data"
    },
    {
     "data": {
      "text/plain": [
       "0.9288585368232875"
      ]
     },
     "metadata": {},
     "output_type": "display_data"
    }
   ],
   "execution_count": 4
  },
  {
   "metadata": {
    "ExecuteTime": {
     "end_time": "2024-09-09T17:37:41.738929Z",
     "start_time": "2024-09-09T17:37:38.688583Z"
    }
   },
   "cell_type": "code",
   "source": "mplc_sim.res.show_overlap()",
   "id": "7139ae8f2268067d",
   "outputs": [],
   "execution_count": 5
  },
  {
   "metadata": {
    "ExecuteTime": {
     "end_time": "2024-09-09T17:38:29.306672Z",
     "start_time": "2024-09-09T17:38:28.930010Z"
    }
   },
   "cell_type": "code",
   "source": [
    "fig, axes = plt.subplots(2, 5)\n",
    "for i, ax in enumerate(axes.flat):\n",
    "    # ax.imshow(np.angle(res.masks[i][360:720, 140:280]), cmap='gray')\n",
    "    ax.imshow(np.angle(mplc_sim.res.masks[i][360:720, 140:280]), cmap='gray')"
   ],
   "id": "90505ea8297bdd08",
   "outputs": [],
   "execution_count": 7
  },
  {
   "metadata": {
    "ExecuteTime": {
     "end_time": "2024-09-09T17:37:48.512585Z",
     "start_time": "2024-09-09T17:37:47.429650Z"
    }
   },
   "cell_type": "code",
   "source": "mplc_sim.res.show_all(7)",
   "id": "17986d9159a6e57d",
   "outputs": [],
   "execution_count": 6
  },
  {
   "metadata": {},
   "cell_type": "markdown",
   "source": "# Find locations with single counts ",
   "id": "c65980cc75282924"
  },
  {
   "metadata": {
    "ExecuteTime": {
     "end_time": "2024-09-09T09:22:58.290379Z",
     "start_time": "2024-09-09T09:22:57.364355Z"
    }
   },
   "cell_type": "code",
   "source": [
    "from pianoq.lab.mplc.singles_scan import signal_scan, idler_scan\n",
    "import numpy as np\n",
    "from pianoq.lab.mplc.mplc_device import MPLCDevice\n",
    "from pianoq.lab.mplc.mask_utils import remove_input_modes, add_phase_input_spots\n",
    "from pianoq.lab.mplc.phase_finder_result import PhaseFinderResult\n",
    "\n",
    "masks = orig_masks.copy()\n",
    "masks = remove_input_modes(masks, modes_to_keep=modes_to_keep)\n",
    "mplc.load_masks(masks, linear_tilts=True)\n",
    "mplc.restore_location()"
   ],
   "id": "87edfd79635f86bb",
   "outputs": [],
   "execution_count": 5
  },
  {
   "metadata": {
    "ExecuteTime": {
     "end_time": "2024-09-09T09:22:58.393160Z",
     "start_time": "2024-09-09T09:22:58.301352Z"
    }
   },
   "cell_type": "code",
   "source": [
    "resolution = 1\n",
    "timestamp = datetime.datetime.now().strftime('%Y_%m_%d_%H_%M_%S')\n",
    "singles_idler_path = fr'{dir_path}\\{timestamp}_QKD_MUB2_signal_res_{resolution}.scan'\n",
    "singles_signal_path = fr'{dir_path}\\{timestamp}_QKD_MUB2_idler_res_{resolution}.scan'"
   ],
   "id": "2b3868ca572021fb",
   "outputs": [],
   "execution_count": 6
  },
  {
   "metadata": {},
   "cell_type": "markdown",
   "source": "## perform scan",
   "id": "b169e3c8540fa1fa"
  },
  {
   "metadata": {
    "ExecuteTime": {
     "end_time": "2024-09-09T09:23:05.449008Z",
     "start_time": "2024-09-09T09:23:05.353313Z"
    }
   },
   "cell_type": "code",
   "source": "t = run_in_thread(idler_scan, integration_time=1.0, coin_window=2e-9, resolution=resolution, out_path=singles_idler_path, half_scan=True)",
   "id": "9ac7b91feafa4c2a",
   "outputs": [],
   "execution_count": 7
  },
  {
   "metadata": {
    "ExecuteTime": {
     "end_time": "2024-09-09T09:23:07.339164Z",
     "start_time": "2024-09-09T09:23:07.246844Z"
    }
   },
   "cell_type": "code",
   "source": "t = run_in_thread(signal_scan, integration_time=1.0, coin_window=2e-9, resolution=resolution, out_path=singles_signal_path, half_scan=True)",
   "id": "cfe118bdc0a3a976",
   "outputs": [],
   "execution_count": 8
  },
  {
   "metadata": {},
   "cell_type": "markdown",
   "source": "## mark spots locations  ",
   "id": "df1fd74526afd1a0"
  },
  {
   "metadata": {
    "ExecuteTime": {
     "end_time": "2024-09-09T10:36:20.492842Z",
     "start_time": "2024-09-09T10:36:20.096180Z"
    }
   },
   "cell_type": "code",
   "source": [
    "from pianoq_results.scan_result import ScanResult\n",
    "\n",
    "path_sig = glob.glob(fr'{dir_path}\\*signal_res_1.scan')[0]\n",
    "path_idl = glob.glob(fr'{dir_path}\\*idler_res_1.scan')[0]\n",
    "\n",
    "res_sig = ScanResult()\n",
    "res_idl = ScanResult()\n",
    "res_idl.loadfrom(path_idl)\n",
    "res_sig.loadfrom(path_sig)\n",
    "res_idl.show_singles()\n",
    "res_sig.show_singles()"
   ],
   "id": "a16a562dd8c9b6d7",
   "outputs": [],
   "execution_count": 14
  },
  {
   "metadata": {},
   "cell_type": "code",
   "source": [
    "_ = res_sig.get_xys(1, saveto_dir=dir_path)\n",
    "_ = res_idl.get_xys(2, saveto_dir=dir_path)"
   ],
   "id": "306a6f53fb143172",
   "outputs": [],
   "execution_count": null
  },
  {
   "metadata": {},
   "cell_type": "markdown",
   "source": "# Find phases",
   "id": "50c99612fdab2a55"
  },
  {
   "metadata": {
    "ExecuteTime": {
     "end_time": "2024-09-09T10:44:55.626692Z",
     "start_time": "2024-09-09T10:44:44.947509Z"
    }
   },
   "cell_type": "code",
   "source": [
    "from pianoq.lab.mplc.phase_finder_result import PhaseFinderResult\n",
    "from pianoq.lab.mplc.find_discreet_phases import PhaseFinder\n",
    "import glob \n",
    "from pianoq.simulations.mplc_sim.mplc_sim_result import MPLCMasks\n",
    "from pianoq.lab.mplc.singles_scan import signal_scan, idler_scan\n",
    "import numpy as np\n",
    "from pianoq.lab.mplc.mplc_device import MPLCDevice\n",
    "from pianoq.lab.mplc.mask_utils import remove_input_modes, add_phase_input_spots\n",
    "import time \n",
    "\n",
    "\n",
    "locs_sig_path = glob.glob(fr'{dir_path}\\*sig.locs')[0]\n",
    "locs_idl_path = glob.glob(fr'{dir_path}\\*idl.locs')[0]\n",
    "locs_sig = np.load(locs_sig_path)['locs']\n",
    "locs_idl = np.load(locs_idl_path)['locs']\n",
    "\n",
    "masks = orig_masks.copy()\n",
    "masks = remove_input_modes(masks, modes_to_keep=modes_to_keep)\n",
    "\n",
    "mplc.load_masks(masks, linear_tilts=True)\n",
    "initiail_phases = np.zeros(25 * 2)\n",
    "\n",
    "timestamp = datetime.datetime.now().strftime('%Y_%m_%d_%H_%M_%S')\n",
    "phases_path = fr'{dir_path}\\{timestamp}_QKD_MUB2_signal.phases'\n",
    "\n",
    "# i,j of corr matrix that is supposed to be strong \n",
    "i = 0\n",
    "j = 0\n",
    "pf = PhaseFinder(mplc=mplc, integration_time=30, remote_tagger=True, saveto_path=phases_path,\n",
    "                 modes_to_keep=modes_to_keep, intial_phases=initiail_phases, coin_window=2e-9)\n",
    "pf.m_idl_x.move_absolute(locs_idl[i, 0])\n",
    "pf.m_idl_y.move_absolute(locs_idl[i, 1])\n",
    "pf.m_sig_x.move_absolute(locs_sig[j, 0])\n",
    "pf.m_sig_y.move_absolute(locs_sig[j, 1])"
   ],
   "id": "61a7669a214da121",
   "outputs": [
    {
     "name": "stdout",
     "output_type": "stream",
     "text": [
      "Got Zaber motors!\n",
      "Got Thorlabs motors!\n",
      "Got TimeTagger!\n"
     ]
    }
   ],
   "execution_count": 7
  },
  {
   "metadata": {
    "ExecuteTime": {
     "end_time": "2024-09-09T10:45:09.036471Z",
     "start_time": "2024-09-09T10:45:08.944065Z"
    }
   },
   "cell_type": "code",
   "source": [
    "initiail_phases = np.zeros(25 * 2)\n",
    "pf.res.phases = initiail_phases\n",
    "pf.res.initial_phases = initiail_phases\n",
    "\n",
    "mplc.restore_location()"
   ],
   "id": "a121a64ef9658aba",
   "outputs": [],
   "execution_count": 9
  },
  {
   "metadata": {},
   "cell_type": "code",
   "source": "pf.find_phases()",
   "id": "34b76e811b9703bf",
   "outputs": [],
   "execution_count": null
  },
  {
   "metadata": {
    "ExecuteTime": {
     "end_time": "2024-09-09T07:19:19.641049Z",
     "start_time": "2024-09-09T07:19:17.983210Z"
    }
   },
   "cell_type": "code",
   "source": "pf.close()",
   "id": "10500c8ef73e9a3c",
   "outputs": [],
   "execution_count": 6
  },
  {
   "metadata": {},
   "cell_type": "code",
   "source": "pf.res.phases",
   "id": "af043acf8e47a0b1",
   "outputs": [],
   "execution_count": null
  },
  {
   "metadata": {
    "ExecuteTime": {
     "end_time": "2024-09-09T11:36:34.049473100Z",
     "start_time": "2024-09-09T11:36:12.375501Z"
    }
   },
   "cell_type": "code",
   "source": "pf.res.plot_best_phases()",
   "id": "cfe2694c5942d199",
   "outputs": [
    {
     "name": "stdout",
     "output_type": "stream",
     "text": [
      "3\n"
     ]
    }
   ],
   "execution_count": null
  },
  {
   "metadata": {},
   "cell_type": "markdown",
   "source": "# Scan correlations ",
   "id": "303c088f09fd5dc0"
  },
  {
   "metadata": {
    "ExecuteTime": {
     "end_time": "2024-09-11T09:36:01.976112Z",
     "start_time": "2024-09-11T07:04:08.359174Z"
    }
   },
   "cell_type": "code",
   "source": [
    "from pianoq.lab.mplc.phase_finder_result import PhaseFinderResult\n",
    "from pianoq.lab.mplc.discrete_photon_scanner import DiscretePhotonScanner\n",
    "from pianoq.simulations.mplc_sim.mplc_sim_result import MPLCMasks\n",
    "from pianoq.lab.mplc.mask_utils import remove_input_modes, add_phase_input_spots\n",
    "from pianoq.lab.mplc.mplc_device import MPLCDevice\n",
    "import glob\n",
    "import time \n",
    "\n",
    "phases_result = PhaseFinderResult()\n",
    "phases_path = glob.glob(fr'{dir_path}\\*.phases')[0]\n",
    "phases_result.loadfrom(phases_path)\n",
    "\n",
    "locs_sig_path = glob.glob(fr'{dir_path}\\*sig.locs')[0]\n",
    "locs_idl_path = glob.glob(fr'{dir_path}\\*idl.locs')[0]\n",
    "locs_sig = np.load(locs_sig_path)['locs']\n",
    "locs_idl = np.load(locs_idl_path)['locs']\n",
    "\n",
    "\n",
    "backlash = 0.0\n",
    "wait_after_move = 0.3\n",
    "integration_time = 50\n",
    "coin_window = 0.4e-9\n",
    "timestamp = datetime.datetime.now().strftime('%Y_%m_%d_%H_%M_%S')\n",
    "phases_type = 'XXX'\n",
    "scan_path = fr'{dir_path}\\{timestamp}_QKD_MUB2_{phases_type}_exp_{integration_time}s.dscan'\n",
    "dps = DiscretePhotonScanner(locs_sig, locs_idl, integration_time=integration_time, remote_tagger=True, saveto_path=scan_path,\n",
    "                            backlash=backlash, wait_after_move=wait_after_move, coin_window=coin_window)\n",
    "time.sleep(3)\n",
    "\n",
    "if True:\n",
    "    phases_type = 'random'\n",
    "    for i in range(5):\n",
    "        phases = np.random.uniform(0, 2*np.pi, len(phases_result.phases))\n",
    "        # several different random phases \n",
    "        masks = orig_masks.copy()\n",
    "        masks = remove_input_modes(masks, modes_to_keep=modes_to_keep)\n",
    "        # phases = np.random.uniform(0, 2*np.pi, len(phases_result.phases))  # Always random right now <-----------------------------------\n",
    "        masks = add_phase_input_spots(masks, phases)\n",
    "        \n",
    "        mplc.load_masks(masks, linear_tilts=True)\n",
    "        mplc.restore_location()\n",
    "        timestamp = datetime.datetime.now().strftime('%Y_%m_%d_%H_%M_%S')\n",
    "        used_phases_path = fr'{dir_path}\\{timestamp}_used_phases_{phases_type}'\n",
    "        np.savez(used_phases_path, phase=phases)\n",
    "        scan_path = fr'{dir_path}\\{timestamp}_QKD_MUB2_{phases_type}_exp_{integration_time}s_coin_{int(coin_window*1e12)}.dscan'\n",
    "        dps.res.path = scan_path\n",
    "        dps.scan()\n",
    "        \n",
    "\n",
    "if True:\n",
    "    phases_type = 'good'\n",
    "    phases = phases_result.phases\n",
    "    \n",
    "    masks = orig_masks.copy()\n",
    "    masks = remove_input_modes(masks, modes_to_keep=modes_to_keep)\n",
    "    masks = add_phase_input_spots(masks, phases)\n",
    "    \n",
    "    mplc.load_masks(masks, linear_tilts=True)\n",
    "    mplc.restore_location()\n",
    "    timestamp = datetime.datetime.now().strftime('%Y_%m_%d_%H_%M_%S')\n",
    "    used_phases_path = fr'{dir_path}\\{timestamp}_used_phases_{phases_type}'\n",
    "    np.savez(used_phases_path, phase=phases)\n",
    "    scan_path = fr'{dir_path}\\{timestamp}_QKD_MUB2_{phases_type}_exp_{integration_time}s_coin_{int(coin_window*1e12)}.dscan'\n",
    "    dps.res.path = scan_path\n",
    "    dps.scan()\n",
    "\n",
    "if True:\n",
    "    phases_type = 'none'\n",
    "    phases = np.zeros_like(phases_result.phases)\n",
    "    \n",
    "    masks = orig_masks.copy()\n",
    "    masks = remove_input_modes(masks, modes_to_keep=modes_to_keep)\n",
    "    masks = add_phase_input_spots(masks, phases)\n",
    "    \n",
    "    mplc.load_masks(masks, linear_tilts=True)\n",
    "    mplc.restore_location()\n",
    "    timestamp = datetime.datetime.now().strftime('%Y_%m_%d_%H_%M_%S')\n",
    "    used_phases_path = fr'{dir_path}\\{timestamp}_used_phases_{phases_type}'\n",
    "    np.savez(used_phases_path, phase=phases)\n",
    "    scan_path = fr'{dir_path}\\{timestamp}_QKD_MUB2_{phases_type}_exp_{integration_time}s_coin_{int(coin_window*1e12)}.dscan'\n",
    "    dps.res.path = scan_path\n",
    "    dps.scan()\n"
   ],
   "id": "3b230456d0fc1a07",
   "outputs": [
    {
     "name": "stdout",
     "output_type": "stream",
     "text": [
      "Got Zaber motors!\n",
      "Got Thorlabs motors!\n",
      "Got TimeTagger!\n",
      "beginning scan\n",
      "0, 0: 6084.64, 6552.10, 0.54\n",
      "0, 1: 6081.44, 6249.64, 0.08\n",
      "0, 2: 6088.78, 6079.08, 0.38\n",
      "0, 3: 6088.84, 7838.58, 0.70\n",
      "0, 4: 6084.48, 6753.66, 0.32\n",
      "1, 0: 7609.14, 6505.78, 0.72\n",
      "1, 1: 7623.40, 6252.68, 1.02\n",
      "1, 2: 7618.04, 6057.30, 0.12\n",
      "1, 3: 7612.16, 7820.72, 0.76\n",
      "1, 4: 7634.00, 6773.14, 0.68\n",
      "2, 0: 7628.84, 6514.62, 1.26\n",
      "2, 1: 7627.38, 6267.64, 1.18\n",
      "2, 2: 7628.02, 6070.68, 0.80\n",
      "2, 3: 7629.80, 7839.28, 0.18\n",
      "2, 4: 7618.10, 6771.64, 0.32\n",
      "3, 0: 8250.20, 6529.72, 0.34\n",
      "3, 1: 8272.52, 6280.84, 1.38\n",
      "3, 2: 8268.24, 6068.74, 1.20\n",
      "3, 3: 8260.72, 7823.20, 1.64\n",
      "3, 4: 8266.88, 6749.52, 0.20\n",
      "4, 0: 7265.48, 6536.50, 0.12\n",
      "4, 1: 7270.64, 6274.40, 0.32\n",
      "4, 2: 7257.72, 6097.28, 1.00\n",
      "4, 3: 7270.14, 7826.76, 2.04\n",
      "4, 4: 7268.30, 6788.02, 0.80\n",
      "beginning scan\n",
      "0, 0: 5985.58, 6677.76, 0.76\n",
      "0, 1: 5968.12, 6303.52, 0.82\n",
      "0, 2: 5970.98, 6253.32, 0.24\n",
      "0, 3: 5986.88, 7916.76, 0.16\n",
      "0, 4: 5982.36, 6849.78, 0.40\n",
      "1, 0: 7488.90, 6666.86, 0.84\n",
      "1, 1: 7472.64, 6323.28, 1.16\n",
      "1, 2: 7519.82, 6247.64, 0.76\n",
      "1, 3: 7490.76, 7866.98, 0.28\n",
      "1, 4: 7472.26, 6852.76, 0.02\n",
      "2, 0: 7408.06, 6675.46, 0.24\n",
      "2, 1: 7424.64, 6337.06, 0.58\n",
      "2, 2: 7425.98, 6249.28, 1.18\n",
      "2, 3: 7468.30, 7889.90, 2.34\n",
      "2, 4: 7442.30, 6851.66, 0.18\n",
      "3, 0: 8219.86, 6681.20, 0.46\n",
      "3, 1: 8236.24, 6348.84, 0.30\n",
      "3, 2: 8329.92, 6419.54, 0.78\n",
      "3, 3: 8310.16, 8094.30, 2.30\n",
      "3, 4: 8420.08, 7139.28, 1.06\n",
      "4, 0: 7480.94, 7041.04, 1.26\n",
      "4, 1: 7490.90, 6657.36, 0.64\n",
      "4, 2: 7485.68, 6554.38, 0.16\n",
      "4, 3: 7479.42, 8222.22, 1.22\n",
      "4, 4: 7496.44, 7218.14, 0.98\n",
      "beginning scan\n",
      "0, 0: 6115.32, 5987.06, 0.32\n",
      "0, 1: 6154.50, 5796.62, 0.86\n",
      "nan issue in timetagger\n",
      "0, 2: 6099.98, 5636.58, 0.42\n",
      "0, 3: 6119.76, 7216.18, 0.10\n",
      "0, 4: 6111.98, 6245.24, 0.14\n",
      "1, 0: 7780.04, 5972.98, 0.20\n",
      "1, 1: 7793.20, 5746.50, 0.68\n",
      "1, 2: 7793.68, 5620.26, 1.36\n",
      "1, 3: 7781.50, 7192.76, 0.72\n",
      "1, 4: 7784.94, 6243.86, 0.26\n",
      "2, 0: 7634.58, 5929.92, 0.04\n",
      "2, 1: 7625.38, 5721.04, 0.14\n",
      "2, 2: 7622.58, 5645.70, 0.50\n",
      "2, 3: 7628.84, 7200.90, 2.14\n",
      "2, 4: 7683.38, 6232.66, 0.88\n",
      "3, 0: 8184.34, 5832.70, 0.70\n",
      "3, 1: 8207.18, 5648.76, 0.22\n",
      "3, 2: 8231.54, 5540.14, 0.42\n",
      "3, 3: 8206.56, 7112.90, 0.70\n",
      "3, 4: 8176.56, 6096.08, 2.36\n",
      "4, 0: 6921.76, 5843.68, 0.80\n",
      "4, 1: 6944.08, 5660.12, 0.78\n",
      "4, 2: 6924.60, 5540.78, 0.24\n",
      "4, 3: 6963.40, 7143.04, 0.38\n",
      "4, 4: 6935.10, 6104.78, 0.50\n",
      "beginning scan\n",
      "0, 0: 6335.90, 6376.18, 0.50\n",
      "0, 1: 6340.92, 6145.18, 0.34\n",
      "0, 2: 6336.72, 5972.56, 1.02\n",
      "0, 3: 6327.18, 7660.72, 0.82\n",
      "0, 4: 6320.82, 6397.86, 0.10\n",
      "1, 0: 8047.80, 6372.92, 0.18\n",
      "1, 1: 8070.68, 6174.18, 0.64\n",
      "1, 2: 8079.94, 5982.98, 0.20\n",
      "1, 3: 8113.50, 7688.42, 2.26\n",
      "1, 4: 8077.32, 6404.82, 0.98\n",
      "2, 0: 7781.26, 6381.92, 0.68\n",
      "2, 1: 7817.54, 6195.16, 0.24\n",
      "2, 2: 7820.66, 5987.34, 1.00\n",
      "2, 3: 7813.16, 7677.74, 0.48\n",
      "2, 4: 7828.66, 6420.80, 2.02\n",
      "3, 0: 8546.02, 6401.88, 1.84\n",
      "3, 1: 8547.30, 6224.74, 1.30\n",
      "3, 2: 8570.44, 5995.84, 0.52\n",
      "3, 3: 8585.18, 7710.26, 1.14\n",
      "3, 4: 8591.72, 6446.54, 0.78\n",
      "4, 0: 7627.30, 6427.52, 0.24\n",
      "4, 1: 7587.46, 6215.72, 1.48\n",
      "4, 2: 7593.86, 6013.64, 1.10\n",
      "4, 3: 7593.54, 7721.72, 0.36\n",
      "4, 4: 7623.54, 6468.00, 0.62\n",
      "beginning scan\n",
      "0, 0: 6031.12, 6927.84, 0.62\n",
      "0, 1: 6024.58, 7055.86, 0.50\n",
      "0, 2: 6051.76, 6736.26, 0.24\n",
      "0, 3: 6052.44, 8401.04, 0.86\n",
      "0, 4: 6021.44, 7357.68, 0.52\n",
      "1, 0: 7556.92, 6957.06, 0.62\n",
      "1, 1: 7595.70, 7069.02, 0.50\n",
      "1, 2: 7594.68, 6736.94, 1.04\n",
      "1, 3: 7599.72, 8410.50, 0.34\n",
      "1, 4: 7610.12, 7357.84, 0.82\n",
      "2, 0: 7467.44, 6983.64, 0.68\n",
      "2, 1: 7453.78, 7100.16, 0.92\n",
      "2, 2: 7453.46, 6762.40, 1.46\n",
      "2, 3: 7447.54, 8432.10, 1.34\n",
      "2, 4: 7454.04, 7348.58, 0.24\n",
      "3, 0: 8102.16, 6972.06, 0.32\n",
      "3, 1: 8141.56, 7106.18, 0.88\n",
      "3, 2: 8135.40, 6761.94, 1.62\n",
      "3, 3: 8121.00, 8427.30, 1.94\n",
      "3, 4: 8144.20, 7372.76, 1.08\n",
      "4, 0: 7057.02, 6986.80, 1.44\n",
      "4, 1: 7062.36, 7094.34, 0.42\n",
      "4, 2: 7078.58, 6770.38, 0.62\n",
      "4, 3: 7046.54, 8453.70, 1.22\n",
      "4, 4: 7114.34, 7467.30, 1.30\n",
      "beginning scan\n",
      "0, 0: 6849.50, 7692.16, 2.34\n",
      "0, 1: 6840.04, 7407.04, 0.08\n",
      "0, 2: 6567.44, 7194.20, 0.16\n",
      "0, 3: 6118.60, 8444.80, 0.30\n",
      "0, 4: 6071.46, 7074.78, 0.28\n",
      "1, 0: 7531.02, 6992.78, 0.26\n",
      "1, 1: 7526.10, 6574.52, 2.96\n",
      "1, 2: 7548.66, 6513.76, 0.16\n",
      "1, 3: 7591.80, 8388.96, 0.22\n",
      "1, 4: 7526.50, 7063.92, 0.14\n",
      "2, 0: 7619.20, 6971.22, 0.14\n",
      "2, 1: 7644.38, 6595.16, 0.34\n",
      "2, 2: 7644.08, 6510.70, 4.42\n",
      "2, 3: 7642.74, 8322.60, 0.34\n",
      "2, 4: 7641.26, 7048.06, 0.14\n",
      "3, 0: 8668.78, 6963.36, 0.20\n",
      "3, 1: 8659.42, 6597.02, 0.26\n",
      "3, 2: 8684.96, 6516.34, 0.52\n",
      "3, 3: 8659.96, 8314.10, 6.36\n",
      "3, 4: 8666.54, 7027.92, 0.22\n",
      "4, 0: 7412.46, 6973.52, 0.30\n",
      "4, 1: 7427.24, 6555.00, 0.18\n",
      "4, 2: 7424.14, 6473.46, 0.10\n",
      "4, 3: 7416.32, 8294.22, 0.38\n",
      "4, 4: 7426.52, 6989.72, 3.40\n",
      "beginning scan\n",
      "0, 0: 5942.44, 6934.66, 0.94\n",
      "0, 1: 5972.34, 6557.18, 0.58\n",
      "0, 2: 5977.78, 6510.54, 0.22\n",
      "0, 3: 5961.96, 8332.64, 0.48\n",
      "0, 4: 5973.28, 7070.42, 0.56\n",
      "1, 0: 7363.78, 6939.62, 0.68\n",
      "1, 1: 7394.98, 6568.04, 1.60\n",
      "1, 2: 7399.76, 6470.04, 0.92\n",
      "1, 3: 7401.58, 8345.48, 0.26\n",
      "1, 4: 7392.24, 7073.02, 0.36\n",
      "2, 0: 7261.08, 6932.28, 0.16\n",
      "2, 1: 7286.38, 6542.18, 0.96\n",
      "2, 2: 7308.24, 6472.50, 1.12\n",
      "2, 3: 7287.14, 8349.00, 1.58\n",
      "2, 4: 7282.90, 7054.38, 0.30\n",
      "3, 0: 8078.96, 6936.00, 0.16\n",
      "3, 1: 8097.80, 6575.24, 0.24\n",
      "3, 2: 8098.74, 6519.74, 0.92\n",
      "3, 3: 8101.38, 8403.36, 2.10\n",
      "3, 4: 8120.16, 7137.30, 1.34\n",
      "4, 0: 7359.80, 7019.34, 1.00\n",
      "4, 1: 7305.44, 6629.38, 0.36\n",
      "4, 2: 7302.92, 6528.16, 0.06\n",
      "4, 3: 7320.28, 8355.12, 1.88\n",
      "4, 4: 7275.38, 7145.06, 1.14\n"
     ]
    }
   ],
   "execution_count": 6
  },
  {
   "metadata": {
    "ExecuteTime": {
     "end_time": "2024-09-09T12:57:28.161671Z",
     "start_time": "2024-09-09T12:35:54.517145Z"
    }
   },
   "cell_type": "code",
   "source": [
    "used_phases_path = fr'{dir_path}\\{timestamp}_used_phases_{phases_type}'\n",
    "np.savez(used_phases_path, phase=phases)\n",
    "dps.scan()"
   ],
   "id": "d571e8bd711b913a",
   "outputs": [
    {
     "name": "stdout",
     "output_type": "stream",
     "text": [
      "beginning scan\n",
      "0, 0: 6410.28, 5122.56, 1.94\n",
      "0, 1: 6410.62, 4742.22, 0.58\n",
      "0, 2: 6388.90, 4903.08, 0.44\n",
      "0, 3: 6405.98, 5998.72, 1.28\n",
      "0, 4: 6392.06, 5643.90, 0.84\n",
      "1, 0: 7697.28, 5141.18, 0.90\n",
      "1, 1: 7697.64, 4741.96, 2.28\n",
      "1, 2: 7690.76, 4937.38, 0.50\n",
      "1, 3: 7705.68, 6005.56, 0.94\n",
      "1, 4: 7705.68, 5643.56, 1.16\n",
      "2, 0: 7531.06, 5150.94, 1.28\n",
      "2, 1: 7507.12, 4737.52, 0.72\n",
      "2, 2: 7511.82, 4895.14, 2.80\n",
      "2, 3: 7490.34, 6002.22, 0.84\n",
      "2, 4: 7485.66, 5637.12, 1.10\n",
      "3, 0: 7982.22, 5128.68, 0.82\n",
      "3, 1: 7998.08, 4729.84, 1.60\n",
      "3, 2: 7965.64, 4891.74, 0.94\n",
      "3, 3: 8005.06, 5982.88, 3.00\n",
      "3, 4: 7974.58, 5612.42, 1.24\n",
      "4, 0: 7168.86, 5125.40, 0.42\n",
      "4, 1: 7151.06, 4710.30, 0.30\n",
      "4, 2: 7147.98, 4896.40, 1.18\n",
      "4, 3: 7160.88, 5998.80, 1.32\n",
      "4, 4: 7182.10, 5642.08, 2.36\n"
     ]
    }
   ],
   "execution_count": 6
  },
  {
   "metadata": {
    "ExecuteTime": {
     "end_time": "2024-09-09T12:57:36.771665Z",
     "start_time": "2024-09-09T12:57:34.891542Z"
    }
   },
   "cell_type": "code",
   "source": "dps.close()",
   "id": "28809f6832dc5877",
   "outputs": [],
   "execution_count": 7
  },
  {
   "metadata": {
    "ExecuteTime": {
     "end_time": "2024-09-09T17:44:21.438533Z",
     "start_time": "2024-09-09T17:44:20.795717Z"
    }
   },
   "cell_type": "code",
   "source": [
    "dps.res.show()\n",
    "dps.res.show_singles()"
   ],
   "id": "2df19da8327fe383",
   "outputs": [],
   "execution_count": 10
  },
  {
   "metadata": {},
   "cell_type": "code",
   "outputs": [],
   "execution_count": null,
   "source": "mplc.close()",
   "id": "72857b25564820b8"
  }
 ],
 "metadata": {
  "kernelspec": {
   "display_name": "Python 3",
   "language": "python",
   "name": "python3"
  },
  "language_info": {
   "codemirror_mode": {
    "name": "ipython",
    "version": 2
   },
   "file_extension": ".py",
   "mimetype": "text/x-python",
   "name": "python",
   "nbconvert_exporter": "python",
   "pygments_lexer": "ipython2",
   "version": "2.7.6"
  }
 },
 "nbformat": 4,
 "nbformat_minor": 5
}
