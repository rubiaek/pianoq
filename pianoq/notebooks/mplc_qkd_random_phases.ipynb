{
 "cells": [
  {
   "metadata": {},
   "cell_type": "markdown",
   "source": "# General preparations",
   "id": "e78f8d52f15003c3"
  },
  {
   "metadata": {
    "ExecuteTime": {
     "end_time": "2024-09-09T18:08:20.326690Z",
     "start_time": "2024-09-09T18:08:13.773972Z"
    }
   },
   "cell_type": "code",
   "source": [
    "from misc.misc import run_in_thread_simple\n",
    "%load_ext autoreload\n",
    "%autoreload 2\n",
    "# %matplotlib notebook\n",
    "import matplotlib\n",
    "matplotlib.use('TKAgg')\n",
    "import os \n",
    "import datetime\n",
    "import numpy as np\n",
    "import matplotlib.pyplot as plt\n",
    "from pianoq.simulations.mplc_sim.mplc_sim import MPLCSim\n",
    "from pianoq.simulations.mplc_sim.mplc_modes2 import gen_input_spots_array, gen_output_modes_Unitary\n",
    "from pianoq.misc.misc import run_in_thread, run_in_thread_simple\n",
    "import time "
   ],
   "id": "9105b564801cb555",
   "outputs": [
    {
     "name": "stdout",
     "output_type": "stream",
     "text": [
      "The autoreload extension is already loaded. To reload it, use:\n",
      "  %reload_ext autoreload\n"
     ]
    }
   ],
   "execution_count": 1
  },
  {
   "metadata": {
    "ExecuteTime": {
     "end_time": "2024-09-09T18:08:20.408622Z",
     "start_time": "2024-09-09T18:08:20.338849Z"
    }
   },
   "cell_type": "code",
   "source": [
    "dir_path = r'G:\\My Drive\\Projects\\MPLC\\results\\lab\\2024_09_09_QKD_random_phases'\n",
    "if not os.path.exists(dir_path):\n",
    "    os.mkdir(dir_path)"
   ],
   "id": "65ccd324b64ca608",
   "outputs": [],
   "execution_count": 2
  },
  {
   "metadata": {
    "ExecuteTime": {
     "end_time": "2024-09-09T18:08:21.149182Z",
     "start_time": "2024-09-09T18:08:20.421611Z"
    }
   },
   "cell_type": "code",
   "source": [
    "# MPLC\n",
    "from pianoq.lab.mplc.mplc_device import MPLCDevice\n",
    "mplc = MPLCDevice()\n",
    "mplc.restore_location()\n",
    "print('Got MPLC')"
   ],
   "id": "88ae892cc66a3973",
   "outputs": [
    {
     "name": "stdout",
     "output_type": "stream",
     "text": [
      "Got MPLC\n"
     ]
    }
   ],
   "execution_count": 3
  },
  {
   "metadata": {
    "ExecuteTime": {
     "end_time": "2024-09-09T18:08:21.386247Z",
     "start_time": "2024-09-09T18:08:21.286415Z"
    }
   },
   "cell_type": "code",
   "source": [
    "# get masks\n",
    "import glob \n",
    "from pianoq.simulations.mplc_sim.mplc_sim_result import MPLCMasks\n",
    "paths = glob.glob(fr'{dir_path}\\*.masks')\n",
    "assert len(paths) == 1, 'there should be one .masks file'\n",
    "masks_path = paths[0]\n",
    "msks = MPLCMasks()\n",
    "msks.loadfrom(masks_path)\n",
    "orig_masks = msks.real_masks\n",
    "\n",
    "modes_to_keep = np.array([3, 8, 13, 18, 23, 28, 33, 38, 43, 48])"
   ],
   "id": "b402217c7b6ffd18",
   "outputs": [],
   "execution_count": 4
  },
  {
   "metadata": {},
   "cell_type": "markdown",
   "source": [
    "## Checklist\n",
    "- [X] make list\n",
    "- [X] create masks WFM\n",
    "- [X] measure single counts \n",
    "- [X] mark spots locations \n",
    "- [ ] find phases\n",
    "- [ ] measure coincidence no phases\n",
    "- [ ] measure with good phases \n",
    "- [ ] measure with random phases X 5 "
   ],
   "id": "e342907bdf6e48a2"
  },
  {
   "metadata": {},
   "cell_type": "markdown",
   "source": "# Create masks WFM",
   "id": "31a57c6b489ea209"
  },
  {
   "metadata": {
    "ExecuteTime": {
     "end_time": "2024-09-09T17:37:19.383627Z",
     "start_time": "2024-09-09T17:30:18.795423Z"
    }
   },
   "cell_type": "code",
   "source": [
    "from pianoq.simulations.mplc_sim.create_wfm_masks import create_WFM_QKD_masks\n",
    "timestamp = datetime.datetime.now().strftime('%Y_%m_%d_%H_%M_%S')\n",
    "masks_path = fr'{dir_path}\\{timestamp}_QKD_MUB2.masks'\n",
    "mplc_sim = create_WFM_QKD_masks(N_iterations=15, out_path=masks_path)"
   ],
   "id": "af0918adec3ec8ea",
   "outputs": [
    {
     "name": "stderr",
     "output_type": "stream",
     "text": [
      "100%|██████████| 30/30 [06:38<00:00, 13.29s/it]\n"
     ]
    }
   ],
   "execution_count": 3
  },
  {
   "metadata": {
    "ExecuteTime": {
     "end_time": "2024-09-09T17:37:35.564824Z",
     "start_time": "2024-09-09T17:37:29.881109Z"
    }
   },
   "cell_type": "code",
   "source": [
    "mplc_sim.res._calc_normalized_overlap()\n",
    "display(np.angle(np.diag(mplc_sim.res.forward_overlap)))\n",
    "display(np.diag(mplc_sim.res.forward_overlap))\n",
    "mplc_sim.res._calc_fidelity()\n",
    "display(mplc_sim.res.fidelity)"
   ],
   "id": "25115b5c43ad08bb",
   "outputs": [
    {
     "data": {
      "text/plain": [
       "array([-0.01440468, -0.01427223, -0.01166631,  0.00382477, -0.00038664,\n",
       "        0.00150615,  0.02001652,  0.02083826, -0.02170043, -0.00085186],\n",
       "      dtype=float32)"
      ]
     },
     "metadata": {},
     "output_type": "display_data"
    },
    {
     "data": {
      "text/plain": [
       "array([0.62315977-0.00897704j, 0.6437228 -0.00918799j,\n",
       "       0.6325797 -0.00738021j, 0.6175512 +0.002362j  ,\n",
       "       0.62247694-0.00024067j, 0.5763015 +0.000868j  ,\n",
       "       0.60372466+0.01208608j, 0.583443  +0.01215969j,\n",
       "       0.5951928 -0.01291797j, 0.5889042 -0.00050167j], dtype=complex64)"
      ]
     },
     "metadata": {},
     "output_type": "display_data"
    },
    {
     "data": {
      "text/plain": [
       "0.9288585368232875"
      ]
     },
     "metadata": {},
     "output_type": "display_data"
    }
   ],
   "execution_count": 4
  },
  {
   "metadata": {
    "ExecuteTime": {
     "end_time": "2024-09-09T17:37:41.738929Z",
     "start_time": "2024-09-09T17:37:38.688583Z"
    }
   },
   "cell_type": "code",
   "source": "mplc_sim.res.show_overlap()",
   "id": "7139ae8f2268067d",
   "outputs": [],
   "execution_count": 5
  },
  {
   "metadata": {
    "ExecuteTime": {
     "end_time": "2024-09-09T17:38:29.306672Z",
     "start_time": "2024-09-09T17:38:28.930010Z"
    }
   },
   "cell_type": "code",
   "source": [
    "fig, axes = plt.subplots(2, 5)\n",
    "for i, ax in enumerate(axes.flat):\n",
    "    # ax.imshow(np.angle(res.masks[i][360:720, 140:280]), cmap='gray')\n",
    "    ax.imshow(np.angle(mplc_sim.res.masks[i][360:720, 140:280]), cmap='gray')"
   ],
   "id": "90505ea8297bdd08",
   "outputs": [],
   "execution_count": 7
  },
  {
   "metadata": {
    "ExecuteTime": {
     "end_time": "2024-09-09T17:37:48.512585Z",
     "start_time": "2024-09-09T17:37:47.429650Z"
    }
   },
   "cell_type": "code",
   "source": "mplc_sim.res.show_all(7)",
   "id": "17986d9159a6e57d",
   "outputs": [],
   "execution_count": 6
  },
  {
   "metadata": {},
   "cell_type": "markdown",
   "source": "# Find locations with single counts ",
   "id": "c65980cc75282924"
  },
  {
   "metadata": {
    "ExecuteTime": {
     "end_time": "2024-09-09T09:22:58.290379Z",
     "start_time": "2024-09-09T09:22:57.364355Z"
    }
   },
   "cell_type": "code",
   "source": [
    "from pianoq.lab.mplc.singles_scan import signal_scan, idler_scan\n",
    "import numpy as np\n",
    "from pianoq.lab.mplc.mplc_device import MPLCDevice\n",
    "from pianoq.lab.mplc.mask_utils import remove_input_modes, add_phase_input_spots\n",
    "from pianoq.lab.mplc.phase_finder_result import PhaseFinderResult\n",
    "\n",
    "masks = orig_masks.copy()\n",
    "masks = remove_input_modes(masks, modes_to_keep=modes_to_keep)\n",
    "mplc.load_masks(masks, linear_tilts=True)\n",
    "mplc.restore_location()"
   ],
   "id": "87edfd79635f86bb",
   "outputs": [],
   "execution_count": 5
  },
  {
   "metadata": {
    "ExecuteTime": {
     "end_time": "2024-09-09T09:22:58.393160Z",
     "start_time": "2024-09-09T09:22:58.301352Z"
    }
   },
   "cell_type": "code",
   "source": [
    "resolution = 1\n",
    "timestamp = datetime.datetime.now().strftime('%Y_%m_%d_%H_%M_%S')\n",
    "singles_idler_path = fr'{dir_path}\\{timestamp}_QKD_MUB2_signal_res_{resolution}.scan'\n",
    "singles_signal_path = fr'{dir_path}\\{timestamp}_QKD_MUB2_idler_res_{resolution}.scan'"
   ],
   "id": "2b3868ca572021fb",
   "outputs": [],
   "execution_count": 6
  },
  {
   "metadata": {},
   "cell_type": "markdown",
   "source": "## perform scan",
   "id": "b169e3c8540fa1fa"
  },
  {
   "metadata": {
    "ExecuteTime": {
     "end_time": "2024-09-09T09:23:05.449008Z",
     "start_time": "2024-09-09T09:23:05.353313Z"
    }
   },
   "cell_type": "code",
   "source": "t = run_in_thread(idler_scan, integration_time=1.0, coin_window=2e-9, resolution=resolution, out_path=singles_idler_path, half_scan=True)",
   "id": "9ac7b91feafa4c2a",
   "outputs": [],
   "execution_count": 7
  },
  {
   "metadata": {
    "ExecuteTime": {
     "end_time": "2024-09-09T09:23:07.339164Z",
     "start_time": "2024-09-09T09:23:07.246844Z"
    }
   },
   "cell_type": "code",
   "source": "t = run_in_thread(signal_scan, integration_time=1.0, coin_window=2e-9, resolution=resolution, out_path=singles_signal_path, half_scan=True)",
   "id": "cfe118bdc0a3a976",
   "outputs": [],
   "execution_count": 8
  },
  {
   "metadata": {},
   "cell_type": "markdown",
   "source": "## mark spots locations  ",
   "id": "df1fd74526afd1a0"
  },
  {
   "metadata": {
    "ExecuteTime": {
     "end_time": "2024-09-09T10:36:20.492842Z",
     "start_time": "2024-09-09T10:36:20.096180Z"
    }
   },
   "cell_type": "code",
   "source": [
    "from pianoq_results.scan_result import ScanResult\n",
    "\n",
    "path_sig = glob.glob(fr'{dir_path}\\*signal_res_1.scan')[0]\n",
    "path_idl = glob.glob(fr'{dir_path}\\*idler_res_1.scan')[0]\n",
    "\n",
    "res_sig = ScanResult()\n",
    "res_idl = ScanResult()\n",
    "res_idl.loadfrom(path_idl)\n",
    "res_sig.loadfrom(path_sig)\n",
    "res_idl.show_singles()\n",
    "res_sig.show_singles()"
   ],
   "id": "a16a562dd8c9b6d7",
   "outputs": [],
   "execution_count": 14
  },
  {
   "metadata": {},
   "cell_type": "code",
   "source": [
    "_ = res_sig.get_xys(1, saveto_dir=dir_path)\n",
    "_ = res_idl.get_xys(2, saveto_dir=dir_path)"
   ],
   "id": "306a6f53fb143172",
   "outputs": [],
   "execution_count": null
  },
  {
   "metadata": {},
   "cell_type": "markdown",
   "source": "# Find phases",
   "id": "50c99612fdab2a55"
  },
  {
   "metadata": {
    "ExecuteTime": {
     "end_time": "2024-09-09T10:44:55.626692Z",
     "start_time": "2024-09-09T10:44:44.947509Z"
    }
   },
   "cell_type": "code",
   "source": [
    "from pianoq.lab.mplc.phase_finder_result import PhaseFinderResult\n",
    "from pianoq.lab.mplc.find_discreet_phases import PhaseFinder\n",
    "import glob \n",
    "from pianoq.simulations.mplc_sim.mplc_sim_result import MPLCMasks\n",
    "from pianoq.lab.mplc.singles_scan import signal_scan, idler_scan\n",
    "import numpy as np\n",
    "from pianoq.lab.mplc.mplc_device import MPLCDevice\n",
    "from pianoq.lab.mplc.mask_utils import remove_input_modes, add_phase_input_spots\n",
    "import time \n",
    "\n",
    "\n",
    "locs_sig_path = glob.glob(fr'{dir_path}\\*sig.locs')[0]\n",
    "locs_idl_path = glob.glob(fr'{dir_path}\\*idl.locs')[0]\n",
    "locs_sig = np.load(locs_sig_path)['locs']\n",
    "locs_idl = np.load(locs_idl_path)['locs']\n",
    "\n",
    "masks = orig_masks.copy()\n",
    "masks = remove_input_modes(masks, modes_to_keep=modes_to_keep)\n",
    "\n",
    "mplc.load_masks(masks, linear_tilts=True)\n",
    "initiail_phases = np.zeros(25 * 2)\n",
    "\n",
    "timestamp = datetime.datetime.now().strftime('%Y_%m_%d_%H_%M_%S')\n",
    "phases_path = fr'{dir_path}\\{timestamp}_QKD_MUB2_signal.phases'\n",
    "\n",
    "# i,j of corr matrix that is supposed to be strong \n",
    "i = 0\n",
    "j = 0\n",
    "pf = PhaseFinder(mplc=mplc, integration_time=30, remote_tagger=True, saveto_path=phases_path,\n",
    "                 modes_to_keep=modes_to_keep, intial_phases=initiail_phases, coin_window=2e-9)\n",
    "pf.m_idl_x.move_absolute(locs_idl[i, 0])\n",
    "pf.m_idl_y.move_absolute(locs_idl[i, 1])\n",
    "pf.m_sig_x.move_absolute(locs_sig[j, 0])\n",
    "pf.m_sig_y.move_absolute(locs_sig[j, 1])"
   ],
   "id": "61a7669a214da121",
   "outputs": [
    {
     "name": "stdout",
     "output_type": "stream",
     "text": [
      "Got Zaber motors!\n",
      "Got Thorlabs motors!\n",
      "Got TimeTagger!\n"
     ]
    }
   ],
   "execution_count": 7
  },
  {
   "metadata": {
    "ExecuteTime": {
     "end_time": "2024-09-09T10:45:09.036471Z",
     "start_time": "2024-09-09T10:45:08.944065Z"
    }
   },
   "cell_type": "code",
   "source": [
    "initiail_phases = np.zeros(25 * 2)\n",
    "pf.res.phases = initiail_phases\n",
    "pf.res.initial_phases = initiail_phases\n",
    "\n",
    "mplc.restore_location()"
   ],
   "id": "a121a64ef9658aba",
   "outputs": [],
   "execution_count": 9
  },
  {
   "metadata": {},
   "cell_type": "code",
   "source": "pf.find_phases()",
   "id": "34b76e811b9703bf",
   "outputs": [],
   "execution_count": null
  },
  {
   "metadata": {
    "ExecuteTime": {
     "end_time": "2024-09-09T07:19:19.641049Z",
     "start_time": "2024-09-09T07:19:17.983210Z"
    }
   },
   "cell_type": "code",
   "source": "pf.close()",
   "id": "10500c8ef73e9a3c",
   "outputs": [],
   "execution_count": 6
  },
  {
   "metadata": {},
   "cell_type": "code",
   "source": "pf.res.phases",
   "id": "af043acf8e47a0b1",
   "outputs": [],
   "execution_count": null
  },
  {
   "metadata": {
    "ExecuteTime": {
     "end_time": "2024-09-09T11:36:34.049473100Z",
     "start_time": "2024-09-09T11:36:12.375501Z"
    }
   },
   "cell_type": "code",
   "source": "pf.res.plot_best_phases()",
   "id": "cfe2694c5942d199",
   "outputs": [
    {
     "name": "stdout",
     "output_type": "stream",
     "text": [
      "3\n"
     ]
    }
   ],
   "execution_count": null
  },
  {
   "metadata": {},
   "cell_type": "markdown",
   "source": "# Scan correlations ",
   "id": "303c088f09fd5dc0"
  },
  {
   "metadata": {
    "ExecuteTime": {
     "end_time": "2024-09-09T22:28:31.812627Z",
     "start_time": "2024-09-09T18:08:45.790139Z"
    }
   },
   "cell_type": "code",
   "source": [
    "from pianoq.lab.mplc.phase_finder_result import PhaseFinderResult\n",
    "from pianoq.lab.mplc.discrete_photon_scanner import DiscretePhotonScanner\n",
    "from pianoq.simulations.mplc_sim.mplc_sim_result import MPLCMasks\n",
    "from pianoq.lab.mplc.mask_utils import remove_input_modes, add_phase_input_spots\n",
    "from pianoq.lab.mplc.mplc_device import MPLCDevice\n",
    "import glob\n",
    "import time \n",
    "\n",
    "phases_result = PhaseFinderResult()\n",
    "phases_path = glob.glob(fr'{dir_path}\\*.phases')[0]\n",
    "phases_result.loadfrom(phases_path)\n",
    "\n",
    "locs_sig_path = glob.glob(fr'{dir_path}\\*sig.locs')[0]\n",
    "locs_idl_path = glob.glob(fr'{dir_path}\\*idl.locs')[0]\n",
    "locs_sig = np.load(locs_sig_path)['locs']\n",
    "locs_idl = np.load(locs_idl_path)['locs']\n",
    "\n",
    "\n",
    "backlash = 0.0\n",
    "wait_after_move = 0.3\n",
    "integration_time = 50\n",
    "coin_window = 0.4e-9\n",
    "timestamp = datetime.datetime.now().strftime('%Y_%m_%d_%H_%M_%S')\n",
    "phases_type = 'XXX'\n",
    "scan_path = fr'{dir_path}\\{timestamp}_QKD_MUB2_{phases_type}_exp_{integration_time}s.dscan'\n",
    "dps = DiscretePhotonScanner(locs_sig, locs_idl, integration_time=integration_time, remote_tagger=True, saveto_path=scan_path,\n",
    "                            backlash=backlash, wait_after_move=wait_after_move, coin_window=coin_window)\n",
    "time.sleep(3)\n",
    "\n",
    "if True:\n",
    "    phases_type = 'good'\n",
    "    phases = phases_result.phases\n",
    "    \n",
    "    masks = orig_masks.copy()\n",
    "    masks = remove_input_modes(masks, modes_to_keep=modes_to_keep)\n",
    "    masks = add_phase_input_spots(masks, phases)\n",
    "    \n",
    "    mplc.load_masks(masks, linear_tilts=True)\n",
    "    mplc.restore_location()\n",
    "    timestamp = datetime.datetime.now().strftime('%Y_%m_%d_%H_%M_%S')\n",
    "    used_phases_path = fr'{dir_path}\\{timestamp}_used_phases_{phases_type}'\n",
    "    np.savez(used_phases_path, phase=phases)\n",
    "    scan_path = fr'{dir_path}\\{timestamp}_QKD_MUB2_{phases_type}_exp_{integration_time}s_coin_{int(coin_window*1e12)}.dscan'\n",
    "    dps.res.path = scan_path\n",
    "    dps.scan()\n",
    "\n",
    "if True:\n",
    "    phases_type = 'none'\n",
    "    phases = np.zeros_like(phases_result.phases)\n",
    "    \n",
    "    masks = orig_masks.copy()\n",
    "    masks = remove_input_modes(masks, modes_to_keep=modes_to_keep)\n",
    "    masks = add_phase_input_spots(masks, phases)\n",
    "    \n",
    "    mplc.load_masks(masks, linear_tilts=True)\n",
    "    mplc.restore_location()\n",
    "    timestamp = datetime.datetime.now().strftime('%Y_%m_%d_%H_%M_%S')\n",
    "    used_phases_path = fr'{dir_path}\\{timestamp}_used_phases_{phases_type}'\n",
    "    np.savez(used_phases_path, phase=phases)\n",
    "    scan_path = fr'{dir_path}\\{timestamp}_QKD_MUB2_{phases_type}_exp_{integration_time}s_coin_{int(coin_window*1e12)}.dscan'\n",
    "    dps.res.path = scan_path\n",
    "    dps.scan()\n",
    "\n",
    "if True:\n",
    "    phases_type = 'random'\n",
    "    phases = np.random.uniform(0, 2*np.pi, len(phases_result.phases))\n",
    "    \n",
    "    \n",
    "    for i in range(10):\n",
    "        # several different random phases \n",
    "        masks = orig_masks.copy()\n",
    "        masks = remove_input_modes(masks, modes_to_keep=modes_to_keep)\n",
    "        # phases = np.random.uniform(0, 2*np.pi, len(phases_result.phases))  # Always random right now <-----------------------------------\n",
    "        masks = add_phase_input_spots(masks, phases)\n",
    "        \n",
    "        mplc.load_masks(masks, linear_tilts=True)\n",
    "        mplc.restore_location()\n",
    "        timestamp = datetime.datetime.now().strftime('%Y_%m_%d_%H_%M_%S')\n",
    "        used_phases_path = fr'{dir_path}\\{timestamp}_used_phases_{phases_type}'\n",
    "        np.savez(used_phases_path, phase=phases)\n",
    "        scan_path = fr'{dir_path}\\{timestamp}_QKD_MUB2_{phases_type}_exp_{integration_time}s_coin_{int(coin_window*1e12)}.dscan'\n",
    "        dps.res.path = scan_path\n",
    "        dps.scan()"
   ],
   "id": "3b230456d0fc1a07",
   "outputs": [
    {
     "name": "stdout",
     "output_type": "stream",
     "text": [
      "Got Zaber motors!\n",
      "Got Thorlabs motors!\n",
      "Got TimeTagger!\n",
      "beginning scan\n",
      "0, 0: 5970.12, 6339.22, 2.42\n",
      "0, 1: 5970.44, 5779.40, 0.12\n",
      "0, 2: 5994.76, 5841.92, 0.10\n",
      "0, 3: 6005.92, 7508.60, 0.14\n",
      "0, 4: 5972.62, 6496.04, 0.18\n",
      "1, 0: 7160.06, 6338.16, 0.08\n",
      "1, 1: 7173.78, 5777.96, 2.78\n",
      "1, 2: 7168.12, 5869.78, 0.16\n",
      "1, 3: 7163.94, 7528.86, 0.28\n",
      "1, 4: 7172.44, 6497.36, 0.12\n",
      "2, 0: 7319.76, 6325.96, 0.12\n",
      "2, 1: 7303.48, 5752.24, 0.16\n",
      "2, 2: 7298.10, 5859.66, 3.56\n",
      "2, 3: 7312.68, 7505.86, 0.44\n",
      "2, 4: 7338.48, 6483.22, 0.06\n",
      "3, 0: 7960.86, 6317.10, 0.18\n",
      "3, 1: 7956.98, 5772.98, 0.18\n",
      "3, 2: 7936.16, 5866.28, 0.24\n",
      "3, 3: 7959.00, 7528.40, 5.36\n",
      "3, 4: 7956.58, 6495.88, 0.14\n",
      "4, 0: 7017.48, 6341.20, 0.22\n",
      "4, 1: 7000.66, 5750.86, 0.10\n",
      "4, 2: 6990.64, 5842.06, 0.02\n",
      "4, 3: 7015.70, 7529.40, 0.20\n",
      "4, 4: 7015.78, 6465.42, 3.16\n",
      "beginning scan\n",
      "0, 0: 5903.26, 6355.00, 1.00\n",
      "0, 1: 5909.18, 5766.80, 0.60\n",
      "0, 2: 5914.78, 5858.22, 0.16\n",
      "0, 3: 5933.14, 7565.10, 0.36\n",
      "0, 4: 5917.98, 6532.06, 0.48\n",
      "1, 0: 7091.26, 6334.46, 0.56\n",
      "1, 1: 7090.74, 5743.18, 1.84\n",
      "1, 2: 7095.74, 5835.24, 0.82\n",
      "1, 3: 7113.58, 7565.10, 0.28\n",
      "1, 4: 7097.66, 6506.82, 0.22\n",
      "2, 0: 7041.18, 6294.62, 0.08\n",
      "2, 1: 7029.68, 5752.64, 0.88\n",
      "2, 2: 7026.52, 5825.24, 0.90\n",
      "2, 3: 7035.46, 7553.64, 1.32\n",
      "2, 4: 7046.12, 6535.32, 0.30\n",
      "3, 0: 7346.16, 6326.78, 0.38\n",
      "3, 1: 7364.26, 5766.82, 0.24\n",
      "3, 2: 7372.44, 5827.06, 0.94\n",
      "3, 3: 7344.26, 7522.78, 1.46\n",
      "3, 4: 7338.48, 6500.40, 1.02\n",
      "4, 0: 6789.66, 6318.16, 1.02\n",
      "4, 1: 6808.48, 5772.08, 0.30\n",
      "4, 2: 6801.10, 5841.40, 0.04\n",
      "4, 3: 6793.32, 7563.96, 1.38\n",
      "4, 4: 6809.72, 6505.76, 1.14\n",
      "beginning scan\n",
      "0, 0: 5536.78, 6353.64, 0.22\n",
      "0, 1: 5553.70, 6033.74, 0.78\n",
      "0, 2: 5548.72, 5826.06, 0.70\n",
      "0, 3: 5538.26, 7289.64, 0.34\n",
      "0, 4: 5539.34, 6650.68, 0.38\n",
      "1, 0: 7246.88, 6369.22, 0.20\n",
      "1, 1: 7249.30, 6059.98, 0.32\n",
      "1, 2: 7246.32, 5844.46, 0.64\n",
      "1, 3: 7253.30, 7312.32, 1.66\n",
      "1, 4: 7253.82, 6644.14, 0.34\n",
      "2, 0: 6921.58, 6379.10, 0.62\n",
      "2, 1: 6932.92, 6061.58, 0.36\n",
      "2, 2: 6930.54, 5849.30, 0.74\n",
      "2, 3: 6923.76, 7313.66, 1.24\n",
      "2, 4: 6922.12, 6659.74, 0.76\n",
      "3, 0: 7394.68, 6374.58, 1.22\n",
      "3, 1: 7413.00, 6040.72, 0.62\n",
      "3, 2: 7398.32, 5849.22, 0.30\n",
      "3, 3: 7424.54, 7337.06, 1.38\n",
      "3, 4: 7414.50, 6636.66, 1.16\n",
      "4, 0: 6696.50, 6382.98, 1.62\n",
      "4, 1: 6685.30, 6076.80, 1.58\n",
      "4, 2: 6717.96, 5870.80, 1.02\n",
      "4, 3: 6697.66, 7324.32, 0.34\n",
      "nan issue in timetagger\n",
      "4, 4: 6732.18, 6662.88, 0.38\n",
      "beginning scan\n",
      "0, 0: 5545.32, 6399.32, 0.22\n",
      "0, 1: 5554.60, 6092.00, 0.82\n",
      "0, 2: 5553.22, 5874.56, 0.76\n",
      "0, 3: 5547.98, 7347.58, 0.20\n",
      "0, 4: 5545.74, 6658.08, 0.64\n",
      "1, 0: 7274.52, 6396.30, 0.16\n",
      "1, 1: 7263.22, 6077.68, 0.38\n",
      "1, 2: 7261.16, 5873.32, 0.74\n",
      "1, 3: 7283.16, 7340.58, 1.78\n",
      "1, 4: 7234.48, 6670.60, 0.40\n",
      "2, 0: 6944.78, 6416.16, 0.50\n",
      "2, 1: 6945.42, 6080.46, 0.22\n",
      "2, 2: 6932.04, 5888.02, 0.98\n",
      "2, 3: 6966.62, 7363.92, 1.22\n",
      "2, 4: 6941.96, 6655.58, 0.62\n",
      "3, 0: 7450.58, 6388.02, 1.12\n",
      "3, 1: 7485.34, 6076.36, 0.48\n",
      "3, 2: 7438.24, 5887.08, 0.40\n",
      "3, 3: 7456.44, 7351.18, 1.38\n",
      "3, 4: 7449.28, 6696.04, 1.18\n",
      "4, 0: 6741.80, 6413.04, 1.70\n",
      "4, 1: 6721.78, 6116.56, 1.74\n",
      "4, 2: 6720.80, 5899.42, 0.82\n",
      "4, 3: 6728.64, 7374.16, 0.32\n",
      "4, 4: 6718.68, 6717.08, 0.36\n",
      "beginning scan\n",
      "0, 0: 5566.64, 6426.92, 0.20\n",
      "0, 1: 5564.48, 6113.20, 0.88\n",
      "0, 2: 5570.80, 5901.72, 0.82\n",
      "0, 3: 5560.76, 7383.84, 0.50\n",
      "0, 4: 5573.90, 6706.84, 0.42\n",
      "1, 0: 7296.50, 6397.96, 0.16\n",
      "1, 1: 7304.76, 6118.38, 0.36\n",
      "1, 2: 7303.76, 5892.12, 0.50\n",
      "1, 3: 7295.80, 7380.18, 1.48\n",
      "1, 4: 7307.60, 6700.34, 0.44\n",
      "2, 0: 6968.84, 6417.18, 0.50\n",
      "2, 1: 6986.00, 6099.04, 0.48\n",
      "2, 2: 6973.80, 5912.28, 1.14\n",
      "2, 3: 6985.58, 7393.38, 0.94\n",
      "2, 4: 7009.72, 6697.32, 0.62\n",
      "3, 0: 7495.52, 6453.40, 1.26\n",
      "3, 1: 7513.92, 6134.88, 0.88\n",
      "3, 2: 7511.78, 5931.84, 0.34\n",
      "3, 3: 7511.58, 7424.44, 1.14\n",
      "3, 4: 7515.90, 6702.84, 0.94\n",
      "4, 0: 6760.06, 6441.16, 1.44\n",
      "4, 1: 6779.84, 6152.40, 1.60\n",
      "4, 2: 6763.48, 5935.42, 0.92\n",
      "4, 3: 6748.50, 7400.14, 0.28\n",
      "4, 4: 6780.60, 6713.06, 0.46\n",
      "beginning scan\n",
      "0, 0: 5588.42, 6435.76, 0.14\n",
      "0, 1: 5585.90, 6109.06, 0.94\n",
      "0, 2: 5577.96, 5920.32, 0.58\n",
      "0, 3: 5572.10, 7408.56, 0.36\n",
      "0, 4: 5568.64, 6705.28, 0.34\n",
      "1, 0: 7322.38, 6428.16, 0.24\n",
      "1, 1: 7320.78, 6138.34, 0.30\n",
      "1, 2: 7323.68, 5954.22, 0.74\n",
      "1, 3: 7332.22, 7405.98, 1.66\n",
      "1, 4: 7300.36, 6731.38, 0.48\n",
      "2, 0: 6995.06, 6456.52, 0.50\n",
      "2, 1: 7012.70, 6150.12, 0.32\n",
      "2, 2: 7013.64, 5933.76, 0.84\n",
      "2, 3: 6992.78, 7399.32, 1.30\n",
      "2, 4: 6980.44, 6722.28, 0.58\n",
      "3, 0: 7533.82, 6434.56, 0.96\n",
      "3, 1: 7497.54, 6139.44, 0.64\n",
      "3, 2: 7522.58, 5956.76, 0.26\n",
      "3, 3: 7486.42, 7402.02, 1.38\n",
      "3, 4: 7504.48, 6709.86, 0.90\n",
      "4, 0: 6783.46, 6435.20, 1.58\n",
      "4, 1: 6750.54, 6112.44, 1.54\n",
      "4, 2: 6777.84, 5922.64, 0.72\n",
      "4, 3: 6766.36, 7402.10, 0.38\n",
      "4, 4: 6757.04, 6718.18, 0.54\n",
      "beginning scan\n",
      "0, 0: 5596.46, 6444.74, 0.22\n",
      "0, 1: 5588.72, 6120.08, 0.80\n",
      "0, 2: 5558.78, 5929.42, 0.76\n",
      "0, 3: 5545.12, 7416.24, 0.50\n",
      "0, 4: 5564.04, 6788.28, 0.42\n",
      "1, 0: 7313.02, 6534.10, 0.18\n",
      "1, 1: 7313.54, 6234.98, 0.32\n",
      "1, 2: 7336.66, 6028.70, 0.62\n",
      "1, 3: 7326.66, 7536.94, 1.72\n",
      "1, 4: 7293.28, 6889.92, 0.34\n",
      "2, 0: 7010.86, 6636.92, 0.54\n",
      "2, 1: 6983.28, 6322.86, 0.30\n",
      "2, 2: 6982.02, 6136.90, 1.00\n",
      "2, 3: 6982.06, 7598.14, 1.36\n",
      "2, 4: 6977.46, 6904.42, 0.58\n",
      "3, 0: 7508.72, 6643.76, 0.94\n",
      "3, 1: 7501.10, 6347.44, 0.58\n",
      "3, 2: 7495.74, 6125.98, 0.64\n",
      "3, 3: 7500.88, 7591.98, 1.16\n",
      "3, 4: 7488.02, 6920.10, 1.20\n",
      "4, 0: 6783.62, 6633.04, 1.60\n",
      "4, 1: 6756.98, 6327.84, 1.66\n",
      "4, 2: 6781.52, 6124.46, 0.90\n",
      "4, 3: 6767.62, 7592.94, 0.38\n",
      "4, 4: 6763.12, 6888.06, 0.50\n",
      "beginning scan\n",
      "0, 0: 5573.50, 6615.38, 0.20\n",
      "0, 1: 5574.66, 6332.78, 0.80\n",
      "0, 2: 5584.56, 6119.28, 0.86\n",
      "0, 3: 5580.56, 7602.08, 0.44\n",
      "0, 4: 5571.92, 6880.44, 0.40\n",
      "1, 0: 7304.14, 6620.60, 0.16\n",
      "1, 1: 7308.06, 6304.72, 0.34\n",
      "1, 2: 7300.94, 6115.22, 0.86\n",
      "1, 3: 7278.30, 7563.16, 1.42\n",
      "1, 4: 7307.08, 6868.40, 0.44\n",
      "2, 0: 6969.76, 6616.80, 0.60\n",
      "2, 1: 6969.08, 6307.98, 0.50\n",
      "2, 2: 6985.16, 6099.76, 0.74\n",
      "2, 3: 6973.76, 7576.84, 1.36\n",
      "2, 4: 6987.04, 6861.50, 0.64\n",
      "3, 0: 7473.72, 6629.54, 1.20\n",
      "3, 1: 7471.32, 6305.30, 0.62\n",
      "3, 2: 7501.96, 6125.72, 0.44\n",
      "3, 3: 7467.22, 7536.54, 1.20\n",
      "3, 4: 7476.70, 6844.16, 1.30\n",
      "4, 0: 6756.14, 6627.22, 1.52\n",
      "4, 1: 6717.50, 6314.22, 1.36\n",
      "4, 2: 6740.32, 6111.16, 0.86\n",
      "4, 3: 6748.28, 7553.24, 0.54\n",
      "4, 4: 6758.40, 6875.04, 0.32\n",
      "beginning scan\n",
      "0, 0: 5561.62, 6600.24, 0.18\n",
      "0, 1: 5557.30, 6309.10, 0.68\n",
      "0, 2: 5565.36, 6090.32, 0.52\n",
      "0, 3: 5554.06, 7553.16, 0.38\n",
      "0, 4: 5531.84, 6865.16, 0.30\n",
      "1, 0: 7284.42, 6589.44, 0.16\n",
      "1, 1: 7314.94, 6294.16, 0.32\n",
      "1, 2: 7269.28, 6078.64, 0.52\n",
      "1, 3: 7269.20, 7569.84, 1.64\n",
      "1, 4: 7307.46, 6866.98, 0.34\n",
      "2, 0: 6932.68, 6604.00, 0.48\n",
      "2, 1: 6944.98, 6293.14, 0.42\n",
      "2, 2: 6946.16, 6070.84, 0.68\n",
      "2, 3: 6952.74, 7534.36, 1.06\n",
      "2, 4: 6962.26, 6861.86, 0.52\n",
      "3, 0: 7435.20, 6597.42, 1.12\n",
      "3, 1: 7454.48, 6286.94, 0.58\n",
      "3, 2: 7435.14, 6068.20, 0.50\n",
      "3, 3: 7437.12, 7565.60, 1.46\n",
      "3, 4: 7454.12, 6873.26, 1.24\n",
      "4, 0: 6731.06, 6592.52, 1.10\n",
      "4, 1: 6731.02, 6278.76, 1.30\n",
      "4, 2: 6738.60, 6082.40, 0.68\n",
      "4, 3: 6738.00, 7500.54, 0.30\n",
      "4, 4: 6720.14, 6854.24, 0.32\n",
      "beginning scan\n",
      "0, 0: 5548.20, 6568.04, 0.08\n",
      "0, 1: 5553.18, 6258.76, 0.72\n",
      "0, 2: 5541.82, 6048.82, 0.66\n",
      "0, 3: 5560.82, 7496.24, 0.42\n",
      "0, 4: 5532.46, 6852.06, 0.26\n",
      "1, 0: 7227.86, 6573.02, 0.16\n",
      "1, 1: 7283.68, 6275.88, 0.30\n",
      "1, 2: 7276.16, 6051.30, 0.64\n",
      "1, 3: 7258.14, 7530.58, 1.96\n",
      "1, 4: 7261.80, 6859.48, 0.20\n",
      "2, 0: 6940.46, 6555.76, 0.40\n",
      "2, 1: 6955.62, 6256.90, 0.32\n",
      "2, 2: 6923.94, 6057.22, 0.62\n",
      "2, 3: 6933.34, 7526.74, 1.26\n",
      "2, 4: 6944.82, 6827.46, 0.54\n",
      "3, 0: 7436.96, 6587.66, 1.14\n",
      "3, 1: 7448.44, 6256.24, 0.62\n",
      "3, 2: 7422.66, 6044.02, 0.32\n",
      "3, 3: 7430.92, 7533.30, 1.24\n",
      "3, 4: 7423.50, 6829.50, 1.10\n",
      "4, 0: 6703.62, 6570.44, 1.46\n",
      "4, 1: 6702.72, 6265.46, 1.52\n",
      "4, 2: 6702.30, 6041.50, 0.98\n",
      "4, 3: 6699.96, 7511.86, 0.48\n",
      "4, 4: 6700.34, 6821.80, 0.34\n",
      "beginning scan\n",
      "0, 0: 5531.70, 6551.04, 0.20\n",
      "0, 1: 5552.52, 6256.18, 0.82\n",
      "0, 2: 5527.28, 6060.28, 0.96\n",
      "0, 3: 5541.90, 7509.88, 0.28\n",
      "0, 4: 5543.04, 6827.42, 0.50\n",
      "1, 0: 7268.98, 6575.50, 0.20\n",
      "1, 1: 7266.66, 6281.06, 0.24\n",
      "1, 2: 7251.66, 6070.14, 0.44\n",
      "1, 3: 7235.08, 7506.00, 1.98\n",
      "1, 4: 7271.16, 6863.40, 0.22\n",
      "2, 0: 6928.86, 6565.00, 0.52\n",
      "2, 1: 6931.70, 6257.94, 0.40\n",
      "2, 2: 6926.92, 6075.88, 0.74\n",
      "2, 3: 6909.00, 7513.42, 1.56\n",
      "2, 4: 6933.52, 6837.80, 0.72\n",
      "3, 0: 7434.88, 6580.76, 1.04\n",
      "3, 1: 7434.74, 6281.62, 0.68\n",
      "3, 2: 7432.64, 6076.28, 0.50\n",
      "3, 3: 7418.64, 7527.24, 1.18\n",
      "3, 4: 7430.88, 6852.30, 1.24\n",
      "4, 0: 6716.84, 6565.14, 1.56\n",
      "4, 1: 6720.54, 6274.88, 1.78\n",
      "4, 2: 6717.44, 6070.38, 0.72\n",
      "4, 3: 6714.20, 7541.80, 0.20\n",
      "4, 4: 6718.88, 6847.44, 0.40\n",
      "beginning scan\n",
      "0, 0: 5537.94, 6588.90, 0.10\n",
      "0, 1: 5524.10, 6304.38, 0.68\n",
      "0, 2: 5545.56, 6075.94, 0.58\n",
      "0, 3: 5529.82, 7545.22, 0.24\n",
      "0, 4: 5550.38, 6877.58, 0.32\n",
      "1, 0: 7251.96, 6603.44, 0.14\n",
      "1, 1: 7303.08, 6305.14, 0.22\n",
      "1, 2: 7262.02, 6066.64, 0.64\n",
      "1, 3: 7275.62, 7519.56, 1.52\n",
      "1, 4: 7273.10, 6865.62, 0.18\n",
      "2, 0: 6933.18, 6574.28, 0.60\n",
      "2, 1: 6963.78, 6301.32, 0.26\n",
      "2, 2: 6958.18, 6091.76, 0.92\n",
      "2, 3: 6958.22, 7566.70, 1.16\n",
      "2, 4: 6945.62, 6874.98, 0.62\n",
      "3, 0: 7470.46, 6598.16, 1.02\n",
      "3, 1: 7481.46, 6304.48, 0.62\n",
      "3, 2: 7475.00, 6108.02, 0.46\n",
      "3, 3: 7474.90, 7541.84, 1.38\n",
      "3, 4: 7465.74, 6867.64, 1.08\n",
      "4, 0: 6726.24, 6608.12, 1.52\n",
      "4, 1: 6753.78, 6312.24, 1.58\n",
      "4, 2: 6722.66, 6098.38, 0.96\n",
      "4, 3: 6749.44, 7564.58, 0.44\n",
      "4, 4: 6764.64, 6886.08, 0.44\n"
     ]
    }
   ],
   "execution_count": 5
  },
  {
   "metadata": {
    "ExecuteTime": {
     "end_time": "2024-09-09T12:57:28.161671Z",
     "start_time": "2024-09-09T12:35:54.517145Z"
    }
   },
   "cell_type": "code",
   "source": [
    "used_phases_path = fr'{dir_path}\\{timestamp}_used_phases_{phases_type}'\n",
    "np.savez(used_phases_path, phase=phases)\n",
    "dps.scan()"
   ],
   "id": "d571e8bd711b913a",
   "outputs": [
    {
     "name": "stdout",
     "output_type": "stream",
     "text": [
      "beginning scan\n",
      "0, 0: 6410.28, 5122.56, 1.94\n",
      "0, 1: 6410.62, 4742.22, 0.58\n",
      "0, 2: 6388.90, 4903.08, 0.44\n",
      "0, 3: 6405.98, 5998.72, 1.28\n",
      "0, 4: 6392.06, 5643.90, 0.84\n",
      "1, 0: 7697.28, 5141.18, 0.90\n",
      "1, 1: 7697.64, 4741.96, 2.28\n",
      "1, 2: 7690.76, 4937.38, 0.50\n",
      "1, 3: 7705.68, 6005.56, 0.94\n",
      "1, 4: 7705.68, 5643.56, 1.16\n",
      "2, 0: 7531.06, 5150.94, 1.28\n",
      "2, 1: 7507.12, 4737.52, 0.72\n",
      "2, 2: 7511.82, 4895.14, 2.80\n",
      "2, 3: 7490.34, 6002.22, 0.84\n",
      "2, 4: 7485.66, 5637.12, 1.10\n",
      "3, 0: 7982.22, 5128.68, 0.82\n",
      "3, 1: 7998.08, 4729.84, 1.60\n",
      "3, 2: 7965.64, 4891.74, 0.94\n",
      "3, 3: 8005.06, 5982.88, 3.00\n",
      "3, 4: 7974.58, 5612.42, 1.24\n",
      "4, 0: 7168.86, 5125.40, 0.42\n",
      "4, 1: 7151.06, 4710.30, 0.30\n",
      "4, 2: 7147.98, 4896.40, 1.18\n",
      "4, 3: 7160.88, 5998.80, 1.32\n",
      "4, 4: 7182.10, 5642.08, 2.36\n"
     ]
    }
   ],
   "execution_count": 6
  },
  {
   "metadata": {
    "ExecuteTime": {
     "end_time": "2024-09-09T12:57:36.771665Z",
     "start_time": "2024-09-09T12:57:34.891542Z"
    }
   },
   "cell_type": "code",
   "source": "dps.close()",
   "id": "28809f6832dc5877",
   "outputs": [],
   "execution_count": 7
  },
  {
   "metadata": {
    "ExecuteTime": {
     "end_time": "2024-09-09T17:44:21.438533Z",
     "start_time": "2024-09-09T17:44:20.795717Z"
    }
   },
   "cell_type": "code",
   "source": [
    "dps.res.show()\n",
    "dps.res.show_singles()"
   ],
   "id": "2df19da8327fe383",
   "outputs": [],
   "execution_count": 10
  },
  {
   "metadata": {},
   "cell_type": "code",
   "outputs": [],
   "execution_count": null,
   "source": "mplc.close()",
   "id": "72857b25564820b8"
  }
 ],
 "metadata": {
  "kernelspec": {
   "display_name": "Python 3",
   "language": "python",
   "name": "python3"
  },
  "language_info": {
   "codemirror_mode": {
    "name": "ipython",
    "version": 2
   },
   "file_extension": ".py",
   "mimetype": "text/x-python",
   "name": "python",
   "nbconvert_exporter": "python",
   "pygments_lexer": "ipython2",
   "version": "2.7.6"
  }
 },
 "nbformat": 4,
 "nbformat_minor": 5
}
