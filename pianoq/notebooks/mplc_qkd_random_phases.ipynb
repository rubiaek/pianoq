{
 "cells": [
  {
   "metadata": {},
   "cell_type": "code",
   "outputs": [],
   "execution_count": null,
   "source": [
    "%load_ext autoreload\n",
    "%autoreload 2\n",
    "%matplotlib inline\n",
    "import numpy as np\n",
    "import datetime\n",
    "import matplotlib.pyplot as plt\n",
    "from pianoq.simulations.mplc_sim.mplc_sim import MPLCSim\n",
    "from pianoq.simulations.mplc_sim.mplc_modes2 import gen_input_spots_array, gen_output_modes_Unitary"
   ],
   "id": "9105b564801cb555"
  },
  {
   "metadata": {},
   "cell_type": "code",
   "outputs": [],
   "execution_count": null,
   "source": [
    "dir_path = r'G:\\My Drive\\Projects\\MPLC\\results\\lab\\2024_09_05_QKD_random_phases'\n",
    "timestamp = datetime.datetime.now().strftime('%Y_%m_%d_%H_%M_%S')\n",
    "masks_path = fr'{dir_path}\\{timestamp}_QKD_MUB2.masks'"
   ],
   "id": "65ccd324b64ca608"
  },
  {
   "metadata": {},
   "cell_type": "markdown",
   "source": "# Create masks",
   "id": "31a57c6b489ea209"
  },
  {
   "metadata": {},
   "cell_type": "code",
   "outputs": [],
   "execution_count": null,
   "source": [
    "from pianoq.simulations.mplc_sim.create_wfm_masks import create_WFM_QKD_masks\n",
    "mplc = create_WFM_QKD_masks(N_iterations=2, out_path=masks_path)"
   ],
   "id": "af0918adec3ec8ea"
  },
  {
   "metadata": {},
   "cell_type": "code",
   "outputs": [],
   "execution_count": null,
   "source": [
    "mplc.res._calc_normalized_overlap()\n",
    "display(np.angle(np.diag(mplc.res.forward_overlap)))\n",
    "display(np.diag(mplc.res.forward_overlap))\n",
    "mplc.res._calc_fidelity()\n",
    "display(mplc.res.fidelity)"
   ],
   "id": "25115b5c43ad08bb"
  },
  {
   "metadata": {},
   "cell_type": "code",
   "outputs": [],
   "execution_count": null,
   "source": "mplc.res.show_overlap()",
   "id": "7139ae8f2268067d"
  },
  {
   "metadata": {},
   "cell_type": "code",
   "outputs": [],
   "execution_count": null,
   "source": [
    "fig, axes = plt.subplots(2, 5)\n",
    "for i, ax in enumerate(axes.flat):\n",
    "    # ax.imshow(np.angle(res.masks[i][360:720, 140:280]), cmap='gray')\n",
    "    ax.imshow(np.angle(mplc.res.masks[i][360:720, 140:280]), cmap='gray')"
   ],
   "id": "90505ea8297bdd08"
  },
  {
   "metadata": {},
   "cell_type": "code",
   "outputs": [],
   "execution_count": null,
   "source": "mplc.res.show_all()",
   "id": "17986d9159a6e57d"
  },
  {
   "metadata": {},
   "cell_type": "markdown",
   "source": "# Find locations with single counts ",
   "id": "c65980cc75282924"
  },
  {
   "metadata": {},
   "cell_type": "code",
   "outputs": [],
   "execution_count": null,
   "source": [
    "from pianoq.simulations.mplc_sim.mplc_sim_result import MPLCMasks\n",
    "from pianoq.lab.mplc.singles_scan import signal_scan, idler_scan\n",
    "import numpy as np\n",
    "from pianoq.lab.mplc.mplc_device import MPLCDevice\n",
    "from pianoq.lab.mplc.mask_utils import remove_input_modes, add_phase_input_spots\n",
    "from pianoq.lab.mplc.phase_finder_result import PhaseFinderResult\n",
    "\n",
    "msks = MPLCMasks()\n",
    "msks.loadfrom(masks_path)\n",
    "masks = msks.real_masks\n",
    "\n",
    "mplc = MPLCDevice()\n",
    "modes_to_keep = np.array([3, 8, 13, 18, 23, 28, 33, 38, 43, 48])\n",
    "masks = remove_input_modes(masks, modes_to_keep=modes_to_keep)\n",
    "mplc.load_masks(masks, linear_tilts=True)\n",
    "resolution = 1\n",
    "\n",
    "# phases_result = PhaseFinderResult()\n",
    "# phases_result.loadfrom(r\"G:\\My Drive\\People\\Ronen\\PHD\\MPLC\\results\\2024_08_11_10_26_11_QKD_row3_phases.phases\")\n",
    "# masks = add_phase_input_spots(masks, phases_result.phases)"
   ],
   "id": "87edfd79635f86bb"
  },
  {
   "metadata": {},
   "cell_type": "code",
   "outputs": [],
   "execution_count": null,
   "source": "signal_scan()",
   "id": "d4e9799faecf4bdb"
  }
 ],
 "metadata": {
  "kernelspec": {
   "display_name": "Python 3",
   "language": "python",
   "name": "python3"
  },
  "language_info": {
   "codemirror_mode": {
    "name": "ipython",
    "version": 2
   },
   "file_extension": ".py",
   "mimetype": "text/x-python",
   "name": "python",
   "nbconvert_exporter": "python",
   "pygments_lexer": "ipython2",
   "version": "2.7.6"
  }
 },
 "nbformat": 4,
 "nbformat_minor": 5
}
