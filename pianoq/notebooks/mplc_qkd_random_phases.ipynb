{
 "cells": [
  {
   "metadata": {
    "ExecuteTime": {
     "end_time": "2024-09-08T13:03:22.835976Z",
     "start_time": "2024-09-08T13:03:16.644019Z"
    }
   },
   "cell_type": "code",
   "source": [
    "from misc.misc import run_in_thread_simple\n",
    "%load_ext autoreload\n",
    "%autoreload 2\n",
    "# %matplotlib notebook\n",
    "import matplotlib\n",
    "matplotlib.use('TKAgg')\n",
    "import os \n",
    "import datetime\n",
    "import numpy as np\n",
    "import matplotlib.pyplot as plt\n",
    "from pianoq.simulations.mplc_sim.mplc_sim import MPLCSim\n",
    "from pianoq.simulations.mplc_sim.mplc_modes2 import gen_input_spots_array, gen_output_modes_Unitary\n",
    "from pianoq.misc.misc import run_in_thread, run_in_thread_simple"
   ],
   "id": "9105b564801cb555",
   "outputs": [
    {
     "name": "stdout",
     "output_type": "stream",
     "text": [
      "The autoreload extension is already loaded. To reload it, use:\n",
      "  %reload_ext autoreload\n"
     ]
    }
   ],
   "execution_count": 1
  },
  {
   "metadata": {
    "ExecuteTime": {
     "end_time": "2024-09-08T13:03:22.945630Z",
     "start_time": "2024-09-08T13:03:22.872452Z"
    }
   },
   "cell_type": "code",
   "source": [
    "dir_path = r'G:\\My Drive\\Projects\\MPLC\\results\\lab\\2024_09_05_QKD_random_phases'\n",
    "if not os.path.exists(dir_path):\n",
    "    os.mkdir(dir_path)\n",
    "timestamp = datetime.datetime.now().strftime('%Y_%m_%d_%H_%M_%S')\n",
    "masks_path = fr'{dir_path}\\{timestamp}_QKD_MUB2.masks'"
   ],
   "id": "65ccd324b64ca608",
   "outputs": [],
   "execution_count": 2
  },
  {
   "metadata": {},
   "cell_type": "markdown",
   "source": [
    "## Checklist\n",
    "- [X] make list\n",
    "- [X] create masks WFM\n",
    "- [ ] measure single counts \n",
    "- [ ] mark spots locations \n",
    "- [ ] measure coincidence no phases\n",
    "- [ ] find phases\n",
    "- [ ] measure with good phases \n",
    "- [ ] measure with random phases X 5 "
   ],
   "id": "e342907bdf6e48a2"
  },
  {
   "metadata": {},
   "cell_type": "markdown",
   "source": "# Create masks WFM",
   "id": "31a57c6b489ea209"
  },
  {
   "metadata": {},
   "cell_type": "code",
   "source": [
    "from pianoq.simulations.mplc_sim.create_wfm_masks import create_WFM_QKD_masks\n",
    "mplc = create_WFM_QKD_masks(N_iterations=5, out_path=masks_path)"
   ],
   "id": "af0918adec3ec8ea",
   "outputs": [],
   "execution_count": null
  },
  {
   "metadata": {},
   "cell_type": "code",
   "source": [
    "mplc.res._calc_normalized_overlap()\n",
    "display(np.angle(np.diag(mplc.res.forward_overlap)))\n",
    "display(np.diag(mplc.res.forward_overlap))\n",
    "mplc.res._calc_fidelity()\n",
    "display(mplc.res.fidelity)"
   ],
   "id": "25115b5c43ad08bb",
   "outputs": [],
   "execution_count": null
  },
  {
   "metadata": {},
   "cell_type": "code",
   "source": "mplc.res.show_overlap()",
   "id": "7139ae8f2268067d",
   "outputs": [],
   "execution_count": null
  },
  {
   "metadata": {},
   "cell_type": "code",
   "source": [
    "fig, axes = plt.subplots(2, 5)\n",
    "for i, ax in enumerate(axes.flat):\n",
    "    # ax.imshow(np.angle(res.masks[i][360:720, 140:280]), cmap='gray')\n",
    "    ax.imshow(np.angle(mplc.res.masks[i][360:720, 140:280]), cmap='gray')"
   ],
   "id": "90505ea8297bdd08",
   "outputs": [],
   "execution_count": null
  },
  {
   "metadata": {},
   "cell_type": "code",
   "source": "mplc.res.show_all(7)",
   "id": "17986d9159a6e57d",
   "outputs": [],
   "execution_count": null
  },
  {
   "metadata": {},
   "cell_type": "markdown",
   "source": "# Find locations with single counts ",
   "id": "c65980cc75282924"
  },
  {
   "metadata": {
    "ExecuteTime": {
     "end_time": "2024-09-08T13:03:44.165326Z",
     "start_time": "2024-09-08T13:03:41.472444Z"
    }
   },
   "cell_type": "code",
   "source": [
    "from pianoq.simulations.mplc_sim.mplc_sim_result import MPLCMasks\n",
    "from pianoq.lab.mplc.singles_scan import signal_scan, idler_scan\n",
    "import numpy as np\n",
    "from pianoq.lab.mplc.mplc_device import MPLCDevice\n",
    "from pianoq.lab.mplc.mask_utils import remove_input_modes, add_phase_input_spots\n",
    "from pianoq.lab.mplc.phase_finder_result import PhaseFinderResult\n",
    "import glob \n",
    "\n",
    "paths = glob.glob(fr'{dir_path}\\*.masks')\n",
    "assert len(paths) == 1, 'there should be one .masks file'\n",
    "masks_path = paths[0]\n",
    "msks = MPLCMasks()\n",
    "msks.loadfrom(masks_path)\n",
    "masks = msks.real_masks\n",
    "\n",
    "mplc = MPLCDevice()\n",
    "modes_to_keep = np.array([3, 8, 13, 18, 23, 28, 33, 38, 43, 48])\n",
    "masks = remove_input_modes(masks, modes_to_keep=modes_to_keep)\n",
    "mplc.load_masks(masks, linear_tilts=True)\n",
    "mplc.restore_location()\n",
    "# phases_result = PhaseFinderResult()\n",
    "# phases_result.loadfrom(r\"G:\\My Drive\\People\\Ronen\\PHD\\MPLC\\results\\2024_08_11_10_26_11_QKD_row3_phases.phases\")\n",
    "# masks = add_phase_input_spots(masks, phases_result.phases)"
   ],
   "id": "87edfd79635f86bb",
   "outputs": [],
   "execution_count": 3
  },
  {
   "metadata": {
    "ExecuteTime": {
     "end_time": "2024-09-08T13:03:50.559492Z",
     "start_time": "2024-09-08T13:03:50.474742Z"
    }
   },
   "cell_type": "code",
   "source": [
    "resolution = 1\n",
    "timestamp = datetime.datetime.now().strftime('%Y_%m_%d_%H_%M_%S')\n",
    "singles_idler_path = fr'{dir_path}\\{timestamp}_QKD_MUB2_signal_res_{resolution}.scan'\n",
    "singles_signal_path = fr'{dir_path}\\{timestamp}_QKD_MUB2_idler_res_{resolution}.scan'"
   ],
   "id": "2b3868ca572021fb",
   "outputs": [],
   "execution_count": 4
  },
  {
   "metadata": {},
   "cell_type": "markdown",
   "source": "## perform scan",
   "id": "b169e3c8540fa1fa"
  },
  {
   "metadata": {
    "ExecuteTime": {
     "end_time": "2024-09-08T13:04:15.575377Z",
     "start_time": "2024-09-08T13:04:15.484033Z"
    }
   },
   "cell_type": "code",
   "source": "run_in_thread(signal_scan, integration_time=1.0, coin_window=2e-9, resolution=resolution, out_path=singles_signal_path, half_scan=True)",
   "id": "9ac7b91feafa4c2a",
   "outputs": [
    {
     "data": {
      "text/plain": [
       "<ThreadWithPrintCapture(Thread-6, started 2196)>"
      ]
     },
     "execution_count": 6,
     "metadata": {},
     "output_type": "execute_result"
    }
   ],
   "execution_count": 6
  },
  {
   "metadata": {
    "ExecuteTime": {
     "end_time": "2024-09-08T13:04:19.424553Z",
     "start_time": "2024-09-08T13:04:19.324349Z"
    }
   },
   "cell_type": "code",
   "source": "run_in_thread(idler_scan, integration_time=1.0, coin_window=2e-9, resolution=resolution, out_path=singles_idler_path)",
   "id": "d4e9799faecf4bdb",
   "outputs": [
    {
     "data": {
      "text/plain": [
       "<ThreadWithPrintCapture(Thread-8, started 13680)>"
      ]
     },
     "execution_count": 7,
     "metadata": {},
     "output_type": "execute_result"
    }
   ],
   "execution_count": 7
  },
  {
   "metadata": {},
   "cell_type": "code",
   "outputs": [],
   "execution_count": null,
   "source": "mplc.close()",
   "id": "c6dd5f7f232da55e"
  },
  {
   "metadata": {},
   "cell_type": "markdown",
   "source": "## mark spots locations  ",
   "id": "df1fd74526afd1a0"
  },
  {
   "metadata": {
    "ExecuteTime": {
     "end_time": "2024-09-08T13:02:27.698319Z",
     "start_time": "2024-09-08T13:02:27.286114Z"
    }
   },
   "cell_type": "code",
   "source": [
    "from pianoq_results.scan_result import ScanResult\n",
    "\n",
    "path_sig = glob.glob(fr'{dir_path}\\*signal_res_1.scan')[0]\n",
    "path_idl = glob.glob(fr'{dir_path}\\*idler_res_1.scan')[0]\n",
    "\n",
    "res_sig = ScanResult()\n",
    "res_idl = ScanResult()\n",
    "res_idl.loadfrom(path_idl)\n",
    "res_sig.loadfrom(path_sig)\n",
    "res_idl.show_singles()\n",
    "res_sig.show_singles()"
   ],
   "id": "a16a562dd8c9b6d7",
   "outputs": [
    {
     "data": {
      "text/plain": [
       "<IPython.core.display.HTML object>"
      ],
      "text/html": [
       "<pre>dur: 2412. pix: 44, 13. Singles1: 1284. Singles2: 1652. Coincidence: 0.\n",
       "</pre>"
      ]
     },
     "metadata": {},
     "output_type": "display_data"
    }
   ],
   "execution_count": 15
  },
  {
   "metadata": {},
   "cell_type": "code",
   "outputs": [],
   "execution_count": null,
   "source": [
    "res_sig.get_xys(2, saveto_dir=dir_path)\n",
    "res_idl.get_xys(2, saveto_dir=dir_path)"
   ],
   "id": "306a6f53fb143172"
  },
  {
   "metadata": {},
   "cell_type": "markdown",
   "source": "# Find phases",
   "id": "50c99612fdab2a55"
  },
  {
   "metadata": {},
   "cell_type": "code",
   "outputs": [],
   "execution_count": null,
   "source": [
    "from pianoq.lab.mplc.phase_finder_result import PhaseFinderResult\n",
    "from pianoq.lab.mplc.find_discreet_phases import PhaseFinder\n",
    "\n",
    "paths = glob.glob(fr'{dir_path}\\*.masks')\n",
    "assert len(paths) == 1, 'there should be one .masks file'\n",
    "masks_path = paths[0]\n",
    "msks = MPLCMasks()\n",
    "msks.loadfrom(masks_path)\n",
    "masks = msks.real_masks\n",
    "\n",
    "locs_sig_path = glob.glob(fr'{dir_path}\\*sig.locs')\n",
    "locs_idl_path = glob.glob(fr'{dir_path}\\*idl.locs')\n",
    "locs_sig = np.load(locs_sig_path)['locs']\n",
    "locs_idl = np.load(locs_idl_path)['locs']\n",
    "\n",
    "modes_to_keep = np.array([3, 8, 13, 18, 23, 28, 33, 38, 43, 48])\n",
    "masks = remove_input_modes(masks, modes_to_keep=modes_to_keep)\n",
    "# masks = add_phase_input_spots(masks, phases_result.phases)\n",
    "m.load_masks(masks, linear_tilts=True)\n",
    "initiail_phases = np.zeros(N_SPOTS * 2)\n",
    "\n",
    "phases_path = fr'{dir_path}\\{timestamp}_QKD_MUB2_signal.phases'\n",
    "\n",
    "# i,j of corr matrix that is supposed to be strong \n",
    "i = 0\n",
    "j = 0\n",
    "pf = PhaseFinder(mplc=m, integration_time=30, remote_tagger=True, saveto_path=phases_path,\n",
    "                 modes_to_keep=modes_to_keep, intial_phases=initiail_phases, coin_window=2e-9)\n",
    "pf.m_idl_x.move_absolute(locs_idl[i, 0])\n",
    "pf.m_idl_y.move_absolute(locs_idl[i, 1])\n",
    "pf.m_sig_x.move_absolute(locs_sig[j, 0])\n",
    "pf.m_sig_y.move_absolute(locs_sig[j, 1])\n",
    "time.sleep(2)\n",
    "\n",
    "pf.find_phases()\n",
    "\n",
    "pf.close()\n",
    "m.close()"
   ],
   "id": "61a7669a214da121"
  },
  {
   "metadata": {},
   "cell_type": "markdown",
   "source": "# Scan correlations ",
   "id": "303c088f09fd5dc0"
  },
  {
   "metadata": {
    "ExecuteTime": {
     "end_time": "2024-09-08T13:00:20.831513Z",
     "start_time": "2024-09-08T13:00:20.320266Z"
    }
   },
   "cell_type": "code",
   "source": [
    "from pianoq.lab.mplc.discrete_photon_scanner import DiscretePhotonScanner\n",
    "\n",
    "masks_path = glob.glob(fr'{dir_path}\\*.masks')[0]\n",
    "msks = MPLCMasks()\n",
    "msks.loadfrom(masks_path)\n",
    "masks = msks.real_masks\n",
    "\n",
    "modes_to_keep = np.array([3, 8, 13, 18, 23, 28, 33, 38, 43, 48])\n",
    "masks = remove_input_modes(masks, modes_to_keep=modes_to_keep)\n",
    "\n",
    "phases_result = PhaseFinderResult()\n",
    "phases_path = glob.glob(fr'{dir_path}\\*.phases')\n",
    "phases_result.loadfrom(phases_path)\n",
    "\n",
    "# Important part here! <--------------------------------------\n",
    "phases_type = 'good'\n",
    "# phases_type = 'none'\n",
    "# phases_type = 'random'\n",
    "if phases_type == 'good':\n",
    "    phases = add_phase_input_spots(masks, phases_result.phases)\n",
    "elif phases_type == 'random':\n",
    "    phases = np.random.uniform(0, 2*np.pi, len(phases_result.phases))\n",
    "elif phases_type == 'none':\n",
    "    phases = np.zeros_like(phases_result.phases)\n",
    "else:\n",
    "    raise ValueError(f'phases type {phases_type} not recognized')\n",
    "    \n",
    "masks = add_phase_input_spots(masks, phases)\n",
    "\n",
    "locs_sig_path = glob.glob(fr'{dir_path}\\*sig.locs')\n",
    "locs_idl_path = glob.glob(fr'{dir_path}\\*idl.locs')\n",
    "locs_sig = np.load(locs_sig_path)['locs']\n",
    "locs_idl = np.load(locs_idl_path)['locs']\n",
    "\n",
    "mplc = MPLCDevice()\n",
    "mplc.load_masks(masks, linear_tilts=True)\n",
    "\n",
    "timestamp = datetime.datetime.now().strftime('%Y_%m_%d_%H_%M_%S')\n",
    "scan_path = fr'{dir_path}\\{timestamp}_QKD_MUB2_{phases_type}.scan'\n",
    "backlash = 0.0\n",
    "wait_after_move = 0.3\n",
    "dps = DiscretePhotonScanner(locs_signal, locs_idler, integration_time=integration_time, remote_tagger=True, saveto_path=scan_path,\n",
    "                            backlash=backlash, wait_after_move=wait_after_move, coin_window=coin_window)\n",
    "dps.scan()\n",
    "dps.close()\n",
    "mplc.close()\n"
   ],
   "id": "3b230456d0fc1a07",
   "outputs": [
    {
     "data": {
      "text/plain": [
       "<IPython.core.display.HTML object>"
      ],
      "text/html": [
       "<pre>dur: 2261. pix: 51, 8. Singles1: 783. Singles2: 958. Coincidence: 0.\n",
       "</pre>"
      ]
     },
     "metadata": {},
     "output_type": "display_data"
    },
    {
     "ename": "AttributeError",
     "evalue": "'list' object has no attribute 'strip'",
     "output_type": "error",
     "traceback": [
      "\u001B[1;31m---------------------------------------------------------------------------\u001B[0m",
      "\u001B[1;31mAttributeError\u001B[0m                            Traceback (most recent call last)",
      "Cell \u001B[1;32mIn[12], line 15\u001B[0m\n\u001B[0;32m     13\u001B[0m phases_result \u001B[38;5;241m=\u001B[39m PhaseFinderResult()\n\u001B[0;32m     14\u001B[0m phases_path \u001B[38;5;241m=\u001B[39m glob\u001B[38;5;241m.\u001B[39mglob(\u001B[38;5;124mfr\u001B[39m\u001B[38;5;124m'\u001B[39m\u001B[38;5;132;01m{\u001B[39;00mdir_path\u001B[38;5;132;01m}\u001B[39;00m\u001B[38;5;124m\\\u001B[39m\u001B[38;5;124m*.phases\u001B[39m\u001B[38;5;124m'\u001B[39m)\n\u001B[1;32m---> 15\u001B[0m \u001B[43mphases_result\u001B[49m\u001B[38;5;241;43m.\u001B[39;49m\u001B[43mloadfrom\u001B[49m\u001B[43m(\u001B[49m\u001B[43mphases_path\u001B[49m\u001B[43m)\u001B[49m\n\u001B[0;32m     17\u001B[0m \u001B[38;5;66;03m# Important part here! <--------------------------------------\u001B[39;00m\n\u001B[0;32m     18\u001B[0m masks \u001B[38;5;241m=\u001B[39m add_phase_input_spots(masks, phases_result\u001B[38;5;241m.\u001B[39mphases)\n",
      "File \u001B[1;32mC:\\code\\pianoq\\pianoq\\lab\\mplc\\phase_finder_result.py:60\u001B[0m, in \u001B[0;36mPhaseFinderResult.loadfrom\u001B[1;34m(self, path)\u001B[0m\n\u001B[0;32m     58\u001B[0m \u001B[38;5;28;01mif\u001B[39;00m path \u001B[38;5;129;01mis\u001B[39;00m \u001B[38;5;28;01mNone\u001B[39;00m:\n\u001B[0;32m     59\u001B[0m     \u001B[38;5;28;01mraise\u001B[39;00m \u001B[38;5;167;01mException\u001B[39;00m(\u001B[38;5;124m\"\u001B[39m\u001B[38;5;124mNo path\u001B[39m\u001B[38;5;124m\"\u001B[39m)\n\u001B[1;32m---> 60\u001B[0m path \u001B[38;5;241m=\u001B[39m \u001B[43mpath\u001B[49m\u001B[38;5;241;43m.\u001B[39;49m\u001B[43mstrip\u001B[49m(\u001B[38;5;124m'\u001B[39m\u001B[38;5;124m\"\u001B[39m\u001B[38;5;124m'\u001B[39m)\n\u001B[0;32m     61\u001B[0m path \u001B[38;5;241m=\u001B[39m path\u001B[38;5;241m.\u001B[39mstrip(\u001B[38;5;124m\"\u001B[39m\u001B[38;5;124m'\u001B[39m\u001B[38;5;124m\"\u001B[39m)\n\u001B[0;32m     62\u001B[0m \u001B[38;5;28mself\u001B[39m\u001B[38;5;241m.\u001B[39mpath \u001B[38;5;241m=\u001B[39m path\n",
      "\u001B[1;31mAttributeError\u001B[0m: 'list' object has no attribute 'strip'"
     ]
    }
   ],
   "execution_count": 12
  },
  {
   "metadata": {},
   "cell_type": "code",
   "outputs": [],
   "execution_count": null,
   "source": [
    "dps.res.show()\n",
    "dps.res.show_singles()"
   ],
   "id": "2df19da8327fe383"
  }
 ],
 "metadata": {
  "kernelspec": {
   "display_name": "Python 3",
   "language": "python",
   "name": "python3"
  },
  "language_info": {
   "codemirror_mode": {
    "name": "ipython",
    "version": 2
   },
   "file_extension": ".py",
   "mimetype": "text/x-python",
   "name": "python",
   "nbconvert_exporter": "python",
   "pygments_lexer": "ipython2",
   "version": "2.7.6"
  }
 },
 "nbformat": 4,
 "nbformat_minor": 5
}
