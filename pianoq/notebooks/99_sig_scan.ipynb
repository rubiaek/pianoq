{
 "cells": [
  {
   "cell_type": "code",
   "id": "initial_id",
   "metadata": {
    "collapsed": true,
    "ExecuteTime": {
     "end_time": "2024-09-29T05:54:52.146363Z",
     "start_time": "2024-09-29T05:54:45.667036Z"
    }
   },
   "source": [
    "from future.backports.datetime import datetime\n",
    "from misc.misc import run_in_thread\n",
    "%load_ext autoreload\n",
    "%autoreload 2\n",
    "import matplotlib\n",
    "matplotlib.use('TKAgg')\n",
    "from pianoq.lab.mplc.mask_aligner import MPLCAligner\n",
    "from pianoq.lab.pco_camera import PCOCamera\n",
    "from pianoq.simulations.mplc_sim.mplc_sim_result import MPLCMasks\n",
    "from pianoq.lab.mplc.mplc_device import MPLCDevice\n",
    "import os \n",
    "import datetime\n",
    "import time \n",
    "dir_path = r'G:\\My Drive\\Projects\\MPLC\\results\\lab\\2024_09_25_BS_to_mirror'\n",
    "if not os.path.exists(dir_path):\n",
    "    os.mkdir(dir_path)"
   ],
   "outputs": [
    {
     "name": "stdout",
     "output_type": "stream",
     "text": [
      "The autoreload extension is already loaded. To reload it, use:\n",
      "  %reload_ext autoreload\n"
     ]
    }
   ],
   "execution_count": 1
  },
  {
   "metadata": {
    "ExecuteTime": {
     "end_time": "2024-09-29T05:54:54.546303Z",
     "start_time": "2024-09-29T05:54:52.393955Z"
    }
   },
   "cell_type": "code",
   "source": [
    "import glob \n",
    "from pianoq.lab.mplc.mask_utils import remove_input_modes, add_phase_input_spots\n",
    "import numpy as np \n",
    "modes_to_keep = np.array([3, 8, 13, 18, 23, 28, 33, 38, 43, 48])\n",
    "\n",
    "mplc = MPLCDevice()\n",
    "mplc.restore_location()\n",
    "print('Got MPLC')\n",
    "# masks_path = r\"G:\\My Drive\\Projects\\MPLC\\results\\lab\\2024_09_25_BS_to_mirror\\2024_09_10_14_00_34_old.masks\"\n",
    "masks_path = r\"G:\\My Drive\\Projects\\MPLC\\results\\lab\\2024_09_25_BS_to_mirror\\2024_09_25_13_19_15_extra_1cm.masks\"\n",
    "# masks_path = r\"G:\\My Drive\\Projects\\MPLC\\results\\lab\\2024_09_17_first_diffuser\\2024_09_17_12_19_58_diffuser_d1d.masks\"\n",
    "\n",
    "msks = MPLCMasks()\n",
    "msks.loadfrom(masks_path)\n",
    "masks = msks.real_masks\n",
    "masks = remove_input_modes(masks, modes_to_keep=modes_to_keep)\n",
    "phases = np.random.uniform(0, 2*np.pi, size=50)\n",
    "masks = add_phase_input_spots(masks, phases)\n",
    "mplc.load_masks(masks, linear_tilts=True)\n",
    "mplc.restore_location()"
   ],
   "id": "b39b0e1f3c2951ee",
   "outputs": [
    {
     "name": "stdout",
     "output_type": "stream",
     "text": [
      "Got MPLC\n"
     ]
    }
   ],
   "execution_count": 2
  },
  {
   "metadata": {
    "ExecuteTime": {
     "end_time": "2024-09-29T05:55:04.497732Z",
     "start_time": "2024-09-29T05:55:02.476795Z"
    }
   },
   "cell_type": "code",
   "source": [
    "backlash = 0\n",
    "wait_after_move = 0.3\n",
    "from pianoq.lab.mplc.consts import thorlabs_x_serial, thorlabs_y_serial\n",
    "from pianoq.lab.thorlabs_motor import ThorlabsKcubeDC, ThorlabsKcubeStepper\n",
    "from pianoq.lab.zaber_motor import ZaberMotors\n",
    "zaber_ms = ZaberMotors(backlash=backlash, wait_after_move=wait_after_move)\n",
    "mxs = zaber_ms.motors[1]\n",
    "mys = zaber_ms.motors[0]\n",
    "print('Got Zaber motors')\n",
    "\n",
    "# mxi = ThorlabsKcubeDC(thorlabs_x_serial, backlash=backlash, wait_after_move=wait_after_move)\n",
    "# myi = ThorlabsKcubeStepper(thorlabs_y_serial, backlash=backlash, wait_after_move=wait_after_move)\n",
    "# print('Got Thorlabs motors')"
   ],
   "id": "1d224b6f970bb174",
   "outputs": [
    {
     "name": "stdout",
     "output_type": "stream",
     "text": [
      "Got Zaber motors\n"
     ]
    }
   ],
   "execution_count": 3
  },
  {
   "metadata": {
    "ExecuteTime": {
     "end_time": "2024-09-29T05:55:06.005189Z",
     "start_time": "2024-09-29T05:55:05.909532Z"
    }
   },
   "cell_type": "code",
   "source": [
    "# Timetagger\n",
    "from pianoq.lab.time_tagger import QPTimeTagger\n",
    "from pianoq.lab.mplc.consts import TIMETAGGER_DELAYS, TIMETAGGER_COIN_WINDOW\n",
    "tt = QPTimeTagger(integration_time=1, remote=True,\n",
    "                  single_channel_delays=TIMETAGGER_DELAYS, coin_window=TIMETAGGER_COIN_WINDOW)"
   ],
   "id": "ff4bfea8b87d7f28",
   "outputs": [],
   "execution_count": 4
  },
  {
   "metadata": {
    "ExecuteTime": {
     "end_time": "2024-09-29T07:24:49.609864Z",
     "start_time": "2024-09-29T07:24:49.162516Z"
    }
   },
   "cell_type": "code",
   "source": [
    "mxs.move_absolute(12.99)\n",
    "mys.move_absolute(6.79)\n",
    "print(mxs.get_position())\n",
    "print(mys.get_position())"
   ],
   "id": "a54d95e610eb7294",
   "outputs": [
    {
     "name": "stdout",
     "output_type": "stream",
     "text": [
      "12.990004500000001\n",
      "6.7899915\n"
     ]
    }
   ],
   "execution_count": 44
  },
  {
   "metadata": {
    "jupyter": {
     "is_executing": true
    },
    "ExecuteTime": {
     "start_time": "2024-09-29T11:36:51.640526Z"
    }
   },
   "cell_type": "code",
   "source": [
    "from pianoq.lab.photon_scan import PhotonScanner\n",
    "from pianoq.misc.misc import run_in_thread\n",
    "\n",
    "integration_time = 1\n",
    "start_x = 12.65\n",
    "end_x = 13.35\n",
    "start_y = 4.8\n",
    "end_y = 7.0\n",
    "\n",
    "mxs.wait_after_move = 0.1\n",
    "mys.wait_after_move = 0.1\n",
    "\n",
    "resolution = 1 \n",
    "x_pixels = 14 // resolution\n",
    "y_pixels = 44 // resolution\n",
    "pixel_size_x = 0.05 * resolution\n",
    "pixel_size_y = 0.05 * resolution\n",
    "\n",
    "timestamp = datetime.datetime.now().strftime('%Y_%m_%d_%H_%M_%S')\n",
    "\n",
    "dir_path = r'G:\\My Drive\\Projects\\MPLC\\results\\lab\\2024_09_25_BS_to_mirror'\n",
    "timestamp = datetime.datetime.now().strftime('%Y_%m_%d_%H_%M_%S')\n",
    "singles_signal_path = fr'{dir_path}\\{timestamp}_signal_3.5_spots_tilt_0_deadzone_400.scan'\n",
    "\n",
    "scanner = PhotonScanner(integration_time, start_x, start_y, x_pixels, y_pixels, pixel_size_x, pixel_size_y, is_timetagger=True, coin_window=2e-9, saveto_path=singles_signal_path)   \n",
    "_ = scanner.scan(x_motor=mxs, y_motor=mys, ph=tt)"
   ],
   "id": "a50a11652aa38664",
   "outputs": [
    {
     "name": "stdout",
     "output_type": "stream",
     "text": [
      "Moving to starting position...\n",
      "starting scan\n",
      "dur: 0. pix: 0, 0. Singles1: 402. Singles2: 515. Coincidence: 0.00.\n",
      "dur: 1. pix: 0, 1. Singles1: 388. Singles2: 570. Coincidence: 0.00.\n",
      "dur: 2. pix: 0, 2. Singles1: 391. Singles2: 594. Coincidence: 0.00.\n",
      "dur: 4. pix: 0, 3. Singles1: 445. Singles2: 566. Coincidence: 0.00.\n",
      "dur: 5. pix: 0, 4. Singles1: 468. Singles2: 561. Coincidence: 0.00.\n",
      "dur: 7. pix: 0, 5. Singles1: 473. Singles2: 568. Coincidence: 0.00.\n",
      "dur: 8. pix: 0, 6. Singles1: 378. Singles2: 579. Coincidence: 0.00.\n",
      "dur: 9. pix: 0, 7. Singles1: 365. Singles2: 577. Coincidence: 0.00.\n",
      "dur: 11. pix: 0, 8. Singles1: 392. Singles2: 509. Coincidence: 0.00.\n",
      "dur: 12. pix: 0, 9. Singles1: 338. Singles2: 463. Coincidence: 0.00.\n"
     ]
    }
   ],
   "execution_count": null
  }
 ],
 "metadata": {
  "kernelspec": {
   "display_name": "Python 3",
   "language": "python",
   "name": "python3"
  },
  "language_info": {
   "codemirror_mode": {
    "name": "ipython",
    "version": 2
   },
   "file_extension": ".py",
   "mimetype": "text/x-python",
   "name": "python",
   "nbconvert_exporter": "python",
   "pygments_lexer": "ipython2",
   "version": "2.7.6"
  }
 },
 "nbformat": 4,
 "nbformat_minor": 5
}
