{
 "cells": [
  {
   "cell_type": "code",
   "id": "initial_id",
   "metadata": {
    "collapsed": true,
    "ExecuteTime": {
     "end_time": "2024-09-17T09:17:32.353931Z",
     "start_time": "2024-09-17T09:17:32.006107Z"
    }
   },
   "source": [
    "import matplotlib\n",
    "matplotlib.use('TKAgg')\n",
    "%load_ext autoreload\n",
    "%autoreload 2\n",
    "from lab.mplc.discrete_scan_result import DiscreetScanResult\n",
    "from misc.misc import run_in_thread_simple, run_in_thread\n",
    "import os \n",
    "import datetime\n",
    "import glob \n",
    "import numpy as np\n",
    "import matplotlib.pyplot as plt\n",
    "from scipy.io import loadmat\n",
    "from pianoq.simulations.mplc_sim.mplc_sim import MPLCSim\n",
    "from pianoq.simulations.mplc_sim.mplc_modes2 import gen_input_spots_array, gen_output_modes_Unitary\n",
    "from pianoq.simulations.mplc_sim.mplc_sim_result import MPLCMasks\n",
    "from pianoq.lab.mplc.singles_scan import signal_scan, idler_scan, get_signal_scanner, get_idler_scanner\n",
    "from pianoq.lab.mplc.mask_utils import remove_input_modes\n",
    "from pianoq.lab.mplc.mplc_device import MPLCDevice\n",
    "from pianoq.lab.photon_scan import PhotonScanner\n",
    "from pianoq.misc.misc import run_in_thread, run_in_thread_simple\n",
    "from pianoq.simulations.mplc_sim.create_wfm_masks import create_WFM_QKD_masks, create_WFM_unitary_masks\n",
    "from pianoq.misc.misc import detect_gaussian_spots_subpixel\n",
    "import time \n",
    "\n",
    "dir_path = r'G:\\My Drive\\Projects\\MPLC\\results\\lab\\2024_09_17_first_diffuser'\n",
    "if not os.path.exists(dir_path):\n",
    "    os.mkdir(dir_path)\n",
    "\n",
    "d_no = 1"
   ],
   "outputs": [
    {
     "name": "stdout",
     "output_type": "stream",
     "text": [
      "The autoreload extension is already loaded. To reload it, use:\n",
      "  %reload_ext autoreload\n",
      "cant use py_thorlabs_ctrl.kinesis\n",
      "could not import ThorlabsRotatingServoMotor\n",
      "cant use py_thorlabs_ctrl.kinesis\n"
     ]
    },
    {
     "ename": "NameError",
     "evalue": "name 'KCubeDCServo' is not defined",
     "output_type": "error",
     "traceback": [
      "\u001B[1;31m---------------------------------------------------------------------------\u001B[0m",
      "\u001B[1;31mNameError\u001B[0m                                 Traceback (most recent call last)",
      "Cell \u001B[1;32mIn [1], line 16\u001B[0m\n\u001B[0;32m     14\u001B[0m \u001B[38;5;28;01mfrom\u001B[39;00m \u001B[38;5;21;01mpianoq\u001B[39;00m\u001B[38;5;21;01m.\u001B[39;00m\u001B[38;5;21;01msimulations\u001B[39;00m\u001B[38;5;21;01m.\u001B[39;00m\u001B[38;5;21;01mmplc_sim\u001B[39;00m\u001B[38;5;21;01m.\u001B[39;00m\u001B[38;5;21;01mmplc_modes2\u001B[39;00m \u001B[38;5;28;01mimport\u001B[39;00m gen_input_spots_array, gen_output_modes_Unitary\n\u001B[0;32m     15\u001B[0m \u001B[38;5;28;01mfrom\u001B[39;00m \u001B[38;5;21;01mpianoq\u001B[39;00m\u001B[38;5;21;01m.\u001B[39;00m\u001B[38;5;21;01msimulations\u001B[39;00m\u001B[38;5;21;01m.\u001B[39;00m\u001B[38;5;21;01mmplc_sim\u001B[39;00m\u001B[38;5;21;01m.\u001B[39;00m\u001B[38;5;21;01mmplc_sim_result\u001B[39;00m \u001B[38;5;28;01mimport\u001B[39;00m MPLCMasks\n\u001B[1;32m---> 16\u001B[0m \u001B[38;5;28;01mfrom\u001B[39;00m \u001B[38;5;21;01mpianoq\u001B[39;00m\u001B[38;5;21;01m.\u001B[39;00m\u001B[38;5;21;01mlab\u001B[39;00m\u001B[38;5;21;01m.\u001B[39;00m\u001B[38;5;21;01mmplc\u001B[39;00m\u001B[38;5;21;01m.\u001B[39;00m\u001B[38;5;21;01msingles_scan\u001B[39;00m \u001B[38;5;28;01mimport\u001B[39;00m signal_scan, idler_scan, get_signal_scanner, get_idler_scanner\n\u001B[0;32m     17\u001B[0m \u001B[38;5;28;01mfrom\u001B[39;00m \u001B[38;5;21;01mpianoq\u001B[39;00m\u001B[38;5;21;01m.\u001B[39;00m\u001B[38;5;21;01mlab\u001B[39;00m\u001B[38;5;21;01m.\u001B[39;00m\u001B[38;5;21;01mmplc\u001B[39;00m\u001B[38;5;21;01m.\u001B[39;00m\u001B[38;5;21;01mmask_utils\u001B[39;00m \u001B[38;5;28;01mimport\u001B[39;00m remove_input_modes\n\u001B[0;32m     18\u001B[0m \u001B[38;5;28;01mfrom\u001B[39;00m \u001B[38;5;21;01mpianoq\u001B[39;00m\u001B[38;5;21;01m.\u001B[39;00m\u001B[38;5;21;01mlab\u001B[39;00m\u001B[38;5;21;01m.\u001B[39;00m\u001B[38;5;21;01mmplc\u001B[39;00m\u001B[38;5;21;01m.\u001B[39;00m\u001B[38;5;21;01mmplc_device\u001B[39;00m \u001B[38;5;28;01mimport\u001B[39;00m MPLCDevice\n",
      "File \u001B[1;32mC:\\code\\pianoq\\pianoq\\lab\\mplc\\singles_scan.py:4\u001B[0m\n\u001B[0;32m      2\u001B[0m \u001B[38;5;28;01mimport\u001B[39;00m \u001B[38;5;21;01mnumpy\u001B[39;00m \u001B[38;5;28;01mas\u001B[39;00m \u001B[38;5;21;01mnp\u001B[39;00m\n\u001B[0;32m      3\u001B[0m \u001B[38;5;28;01mimport\u001B[39;00m \u001B[38;5;21;01mdatetime\u001B[39;00m\n\u001B[1;32m----> 4\u001B[0m \u001B[38;5;28;01mfrom\u001B[39;00m \u001B[38;5;21;01mpianoq\u001B[39;00m\u001B[38;5;21;01m.\u001B[39;00m\u001B[38;5;21;01mlab\u001B[39;00m\u001B[38;5;21;01m.\u001B[39;00m\u001B[38;5;21;01mphoton_scan\u001B[39;00m \u001B[38;5;28;01mimport\u001B[39;00m PhotonScanner\n\u001B[0;32m      5\u001B[0m \u001B[38;5;28;01mfrom\u001B[39;00m \u001B[38;5;21;01mpianoq\u001B[39;00m\u001B[38;5;21;01m.\u001B[39;00m\u001B[38;5;21;01mlab\u001B[39;00m\u001B[38;5;21;01m.\u001B[39;00m\u001B[38;5;21;01mtime_tagger\u001B[39;00m \u001B[38;5;28;01mimport\u001B[39;00m QPTimeTagger\n\u001B[0;32m      6\u001B[0m \u001B[38;5;28;01mfrom\u001B[39;00m \u001B[38;5;21;01mpianoq\u001B[39;00m\u001B[38;5;21;01m.\u001B[39;00m\u001B[38;5;21;01mlab\u001B[39;00m\u001B[38;5;21;01m.\u001B[39;00m\u001B[38;5;21;01mzaber_motor\u001B[39;00m \u001B[38;5;28;01mimport\u001B[39;00m ZaberMotors\n",
      "File \u001B[1;32mC:\\code\\pianoq\\pianoq\\lab\\photon_scan.py:5\u001B[0m\n\u001B[0;32m      2\u001B[0m \u001B[38;5;28;01mimport\u001B[39;00m \u001B[38;5;21;01mdatetime\u001B[39;00m\n\u001B[0;32m      4\u001B[0m \u001B[38;5;66;03m# from pianoq.lab.power_meter100 import PowerMeterPM100\u001B[39;00m\n\u001B[1;32m----> 5\u001B[0m \u001B[38;5;28;01mfrom\u001B[39;00m \u001B[38;5;21;01mpianoq\u001B[39;00m\u001B[38;5;21;01m.\u001B[39;00m\u001B[38;5;21;01mlab\u001B[39;00m\u001B[38;5;21;01m.\u001B[39;00m\u001B[38;5;21;01mthorlabs_motor\u001B[39;00m \u001B[38;5;28;01mimport\u001B[39;00m ThorlabsKcubeDC, ThorlabsKcubeStepper\n\u001B[0;32m      6\u001B[0m \u001B[38;5;28;01mfrom\u001B[39;00m \u001B[38;5;21;01mpianoq\u001B[39;00m\u001B[38;5;21;01m.\u001B[39;00m\u001B[38;5;21;01mlab\u001B[39;00m\u001B[38;5;21;01m.\u001B[39;00m\u001B[38;5;21;01mphoton_counter\u001B[39;00m \u001B[38;5;28;01mimport\u001B[39;00m PhotonCounter\n\u001B[0;32m      8\u001B[0m \u001B[38;5;28;01mimport\u001B[39;00m \u001B[38;5;21;01mnumpy\u001B[39;00m \u001B[38;5;28;01mas\u001B[39;00m \u001B[38;5;21;01mnp\u001B[39;00m\n",
      "File \u001B[1;32mC:\\code\\pianoq\\pianoq\\lab\\thorlabs_motor.py:16\u001B[0m\n\u001B[0;32m     12\u001B[0m \u001B[38;5;28;01mexcept\u001B[39;00m \u001B[38;5;167;01mImportError\u001B[39;00m:\n\u001B[0;32m     13\u001B[0m     \u001B[38;5;28mprint\u001B[39m(\u001B[38;5;124m'\u001B[39m\u001B[38;5;124mcant use py_thorlabs_ctrl.kinesis\u001B[39m\u001B[38;5;124m'\u001B[39m)\n\u001B[1;32m---> 16\u001B[0m \u001B[38;5;28;01mclass\u001B[39;00m \u001B[38;5;21;01mThorlabsRotatingServoMotor\u001B[39;00m(\u001B[43mKCubeDCServo\u001B[49m):\n\u001B[0;32m     17\u001B[0m \u001B[38;5;250m    \u001B[39m\u001B[38;5;124;03m\"\"\"\u001B[39;00m\n\u001B[0;32m     18\u001B[0m \u001B[38;5;124;03m    Uses this library to communicate with the motors:\u001B[39;00m\n\u001B[0;32m     19\u001B[0m \u001B[38;5;124;03m        https://github.com/rwalle/py_thorlabs_ctrl\u001B[39;00m\n\u001B[1;32m   (...)\u001B[0m\n\u001B[0;32m     22\u001B[0m \n\u001B[0;32m     23\u001B[0m \u001B[38;5;124;03m    \"\"\"\u001B[39;00m\n\u001B[0;32m     25\u001B[0m     SERIAL_1 \u001B[38;5;241m=\u001B[39m \u001B[38;5;241m27253522\u001B[39m\n",
      "\u001B[1;31mNameError\u001B[0m: name 'KCubeDCServo' is not defined"
     ]
    }
   ],
   "execution_count": 1
  },
  {
   "metadata": {},
   "cell_type": "markdown",
   "source": "# Generate masks WFM",
   "id": "b467601c30b25202"
  },
  {
   "metadata": {},
   "cell_type": "code",
   "outputs": [],
   "execution_count": null,
   "source": [
    "from pianoq.simulations.mplc_sim.create_wfm_masks import create_WFM_diffuser_masks\n",
    "\n",
    "timestamp = datetime.datetime.now().strftime('%Y_%m_%d_%H_%M_%S')\n",
    "masks_path =    fr'{dir_path}\\{timestamp}_diffuser_d{d_no}d.masks'\n",
    "mplc_res_path = fr'{dir_path}\\{timestamp}_diffuser_d{d_no}d.mplcsim'\n",
    "mplc_sim = create_WFM_diffuser_masks(N_iterations=15, out_path=masks_path)\n",
    "mplc_sim.res.saveto(mplc_res_path, smaller=True)"
   ],
   "id": "becf3f2efea3561e"
  },
  {
   "metadata": {},
   "cell_type": "markdown",
   "source": "# HW",
   "id": "c295d1544197154b"
  },
  {
   "metadata": {},
   "cell_type": "code",
   "outputs": [],
   "execution_count": null,
   "source": [
    "# MPLC\n",
    "mplc = MPLCDevice()\n",
    "mplc.restore_location()\n",
    "print('Got MPLC')\n",
    "\n",
    "# Motors\n",
    "backlash = 0\n",
    "wait_after_move = 0.3\n",
    "from pianoq.lab.mplc.consts import thorlabs_x_serial, thorlabs_y_serial\n",
    "from pianoq.lab.thorlabs_motor import ThorlabsKcubeDC, ThorlabsKcubeStepper\n",
    "from pianoq.lab.zaber_motor import ZaberMotors\n",
    "mxi = ThorlabsKcubeDC(thorlabs_x_serial, backlash=backlash, wait_after_move=wait_after_move)\n",
    "myi = ThorlabsKcubeStepper(thorlabs_y_serial, backlash=backlash, wait_after_move=wait_after_move)\n",
    "print('Got Thorlabs motors')\n",
    "\n",
    "zaber_ms = ZaberMotors(backlash=backlash, wait_after_move=wait_after_move)\n",
    "mxs = zaber_ms.motors[1]\n",
    "mys = zaber_ms.motors[0]\n",
    "print('Got Zaber motors')\n",
    "\n",
    "# Timetagger\n",
    "from pianoq.lab.time_tagger import QPTimeTagger\n",
    "from pianoq.lab.mplc.consts import TIMETAGGER_DELAYS, TIMETAGGER_COIN_WINDOW\n",
    "tt = QPTimeTagger(integration_time=10, remote=True,\n",
    "                  single_channel_delays=TIMETAGGER_DELAYS, coin_window=TIMETAGGER_COIN_WINDOW)\n",
    "print('Got Time tagger')"
   ],
   "id": "c702a559b0d2528f"
  },
  {
   "metadata": {},
   "cell_type": "markdown",
   "source": "# Two photons scan",
   "id": "78b16a1be868d54d"
  },
  {
   "metadata": {},
   "cell_type": "code",
   "outputs": [],
   "execution_count": null,
   "source": [
    "masks = None \n",
    "mplc.set_masks(masks)\n",
    "\n",
    "# Put idler in OK place \n",
    "mxi.move_absolute(9.02)\n",
    "myi.move_absolute(2.4)\n",
    "\n",
    "# scan signal\n",
    "start_x = 11\n",
    "end_x = 12\n",
    "start_y = 9\n",
    "end_y = 10\n",
    "integration_time = 10\n",
    "tt.set_integration_time(integration_time)\n",
    "\n",
    "x_pixels = 20\n",
    "y_pixels = 20\n",
    "pixel_size_x = 0.05\n",
    "pixel_size_y = 0.05\n",
    "\n",
    "\n",
    "timestamp = datetime.datetime.now().strftime('%Y_%m_%d_%H_%M_%S')\n",
    "path = f'{dir_path}\\\\{timestamp}_signal_speckles_d{d_no}d.scan'\n",
    "scanner = PhotonScanner(integration_time, start_x, start_y, x_pixels, y_pixels, pixel_size_x, pixel_size_y, \n",
    "                        is_timetagger=True, coin_window=2e-9, saveto_path=path)\n",
    "single1s, single2s, coincidences = scanner.scan()"
   ],
   "id": "7645c686c5814082"
  }
 ],
 "metadata": {
  "kernelspec": {
   "display_name": "Python 3",
   "language": "python",
   "name": "python3"
  },
  "language_info": {
   "codemirror_mode": {
    "name": "ipython",
    "version": 2
   },
   "file_extension": ".py",
   "mimetype": "text/x-python",
   "name": "python",
   "nbconvert_exporter": "python",
   "pygments_lexer": "ipython2",
   "version": "2.7.6"
  }
 },
 "nbformat": 4,
 "nbformat_minor": 5
}
