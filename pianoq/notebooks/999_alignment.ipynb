{
 "cells": [
  {
   "metadata": {
    "ExecuteTime": {
     "end_time": "2025-01-28T14:11:38.293592Z",
     "start_time": "2025-01-28T14:11:33.636150Z"
    }
   },
   "cell_type": "code",
   "source": [
    "from pianoq.misc.mplc_writeup_imports import * \n",
    "from pianoq.misc.mplc_lab_imports import * \n",
    "\n",
    "dir_path = r'G:\\My Drive\\Projects\\MPLC\\results\\lab\\Alignments'\n",
    "if not os.path.exists(dir_path):\n",
    "    os.mkdir(dir_path)"
   ],
   "id": "61231a1ec54ebe24",
   "outputs": [],
   "execution_count": 1
  },
  {
   "metadata": {},
   "cell_type": "markdown",
   "source": "# Align",
   "id": "41b21b2e7b050274"
  },
  {
   "metadata": {
    "ExecuteTime": {
     "start_time": "2025-01-28T14:09:13.128133Z"
    }
   },
   "cell_type": "code",
   "source": "ml = MPLCAligner(use_cam=False)",
   "id": "da41f8627cc4ad19",
   "outputs": [],
   "execution_count": null
  },
  {
   "metadata": {
    "ExecuteTime": {
     "end_time": "2025-01-28T14:09:15.329060100Z",
     "start_time": "2025-01-27T12:50:27.864726Z"
    }
   },
   "cell_type": "code",
   "source": [
    "CENTERS_X = [132, 386, 639, 891, 1143,  1143, 890, 639, 386, 132]  #\n",
    "CENTERS_Y = [279, 278, 276, 272, 268,   765, 768, 771, 774, 775]  # 17.7.24 with ronen fix retro X & Y\n",
    "\n",
    "CENTERS_X = [132, 386, 638, 890, 1141,   1140, 885, 632, 379, 122]  #\n",
    "CENTERS_Y = [279, 278, 277, 274, 271,    758, 760, 762, 762, 762]  # 28.10.24 for HG \n",
    "#             1    2    3    4    5        6    7    8    9    10\n",
    "CENTERS_X = [132, 386, 638, 889, 1140,   1137, 883, 630, 378, 115]  #\n",
    "CENTERS_Y = [279, 278, 278, 275, 272,    756, 759, 759, 763, 757]  # 27.01.25 for D mirror \n",
    "\n",
    "ml.centers_x = CENTERS_X\n",
    "ml.centers_y = CENTERS_Y\n",
    "plane_no = 10\n",
    "\n",
    "if plane_no == 1:\n",
    "    ml.update('1to5w4f', '5to11w8', pi_steps_x=[132], pi_steps_plane=plane_no)\n",
    "    # ml.update('1to5w4f', '5to11w8', pi_steps_y=[290], pi_steps_plane=plane_no) # \n",
    "    # ml.update('1to5w4f', '5to11w8', pi_steps_y=[267], pi_steps_plane=plane_no) # 267-268\n",
    "    print((291+267)/2)\n",
    "    \n",
    "elif plane_no == 2:\n",
    "    # ml.update('1to2w1', '2to10w6', pi_steps_x=[386], pi_steps_plane=plane_no)\n",
    "    ml.update('1to2w1', '2to10w6', pi_steps_y=[278], pi_steps_plane=plane_no)     \n",
    "\n",
    "elif plane_no == 3:\n",
    "    # ml.update('1to3w2', '3to11w5and9', pi_steps_x=[638], pi_steps_plane=plane_no)\n",
    "    # ml.update('1to3w2', '3to11w5and9', pi_steps_y=[289], pi_steps_plane=plane_no)\n",
    "    ml.update('1to3w2', '3to11w5and9', pi_steps_y=[267], pi_steps_plane=plane_no)\n",
    "    print((288.7+267)/2)\n",
    "\n",
    "elif plane_no == 4:\n",
    "    # ml.update('1to4w3', '4to10w7', pi_steps_x=[889], pi_steps_plane=plane_no)\n",
    "    # ml.update('1to4w3', '4to10w8', pi_steps_x=[889], pi_steps_plane=plane_no) # pretty bad \n",
    "    # ml.update('1to4w2', '4to10w7', pi_steps_x=[889], pi_steps_plane=plane_no)\n",
    "    # ml.update('1to4w2', '4to10w8', pi_steps_x=[889], pi_steps_plane=plane_no)\n",
    "    \n",
    "    # ml.update('1to4w3', '4to10w7', pi_steps_y=[282], pi_steps_plane=plane_no)\n",
    "    ml.update('1to4w3', '4to10w7', pi_steps_y=[271], pi_steps_plane=plane_no)\n",
    "    # ml.update('1to4w2', '4to10w7', pi_steps_y=[253], pi_steps_plane=plane_no)\n",
    "    # ml.update('1to4w2', '4to10w7', pi_steps_y=[295], pi_steps_plane=plane_no)\n",
    "    \n",
    "    # ml.update('1to3w2', '3to11w5and9', pi_steps_y=[266], pi_steps_plane=plane_no)\n",
    "    print((282+270.5)/2)\n",
    "    print((253+295)/2)\n",
    "\n",
    "elif plane_no == 5:\n",
    "    # ml.update('1to5w4f', '5to11w8', pi_steps_x=[1140], pi_steps_plane=plane_no)\n",
    "    ml.update('1to5w4f', '5to11w8', pi_steps_y=[284], pi_steps_plane=plane_no)\n",
    "    # ml.update('1to5w4f', '5to11w8', pi_steps_y=[261], pi_steps_plane=plane_no)\n",
    "    print((284+260.7)/2)\n",
    "    \n",
    "elif plane_no == 6:\n",
    "    # ml.update('1to6w4', '6to10w4f', pi_steps_x=[1137], pi_steps_plane=plane_no)\n",
    "    # ml.update('1to6w4', '6to10w4f', pi_steps_y=[766], pi_steps_plane=plane_no)\n",
    "    ml.update('1to6w4', '6to10w4f', pi_steps_y=[746], pi_steps_plane=plane_no)\n",
    "    print((766+745.7)/2)\n",
    "    \n",
    "elif plane_no == 7:\n",
    "    # ml.update('1to7w4', '7to11w9', pi_steps_x=[883], pi_steps_plane=plane_no) # 885.5 \n",
    "    # ml.update('1to7w5', '7to11w9', pi_steps_x=[883], pi_steps_plane=plane_no)  \n",
    "    # ml.update('1to7w4', '7to11w9', pi_steps_y=[772], pi_steps_plane=plane_no)  \n",
    "    # ml.update('1to7w4', '7to11w9', pi_steps_y=[745], pi_steps_plane=plane_no)  \n",
    "    # ml.update('1to7w5', '7to11w9', pi_steps_y=[766], pi_steps_plane=plane_no)  \n",
    "    ml.update('1to7w5', '7to11w9', pi_steps_y=[752], pi_steps_plane=plane_no)  \n",
    "    print((772+745.2)/2)\n",
    "    print((766+751.5)/2)\n",
    "    \n",
    "elif plane_no == 8:\n",
    "    # ml.update('1to8w5', '8to10w9', pi_steps_x=[630], pi_steps_plane=plane_no)  # 632.5\n",
    "    # ml.update('1to8w4', '8to10w9', pi_steps_x=[629], pi_steps_plane=plane_no)\n",
    "    \n",
    "    # ml.update('1to8w4', '8to10w9', pi_steps_y=[776], pi_steps_plane=plane_no)\n",
    "    # ml.update('1to8w4', '8to10w9', pi_steps_y=[741], pi_steps_plane=plane_no)\n",
    "    \n",
    "    # ml.update('1to8w5', '8to10w9', pi_steps_y=[750], pi_steps_plane=plane_no)\n",
    "    ml.update('1to8w5', '8to10w9', pi_steps_y=[771], pi_steps_plane=plane_no)\n",
    "    print((775.5+741)/2)\n",
    "    print((750+770.5)/2)\n",
    "    \n",
    "elif plane_no == 9:\n",
    "    # ml.update('1to9w5', 'none', pi_steps_x=[378], pi_steps_plane=plane_no) \n",
    "    # ml.update('1to9w5', 'none', pi_steps_x=[405], pi_steps_plane=plane_no) \n",
    "    # ml.update('1to9w5', 'none', pi_steps_x=[352], pi_steps_plane=plane_no) \n",
    "    # print((405+352)/2)\n",
    "    # ml.update('1to9w4f15and4f59', 'none', pi_steps_x=[378], pi_steps_plane=plane_no) \n",
    "    \n",
    "    # ml.update('1to9w5', 'none', pi_steps_y=[775], pi_steps_plane=plane_no) \n",
    "    # ml.update('1to9w5', 'none', pi_steps_y=[749], pi_steps_plane=plane_no) \n",
    "    # ml.update('1to9w5', 'none', pi_steps_y=[804], pi_steps_plane=plane_no) \n",
    "    ml.update('1to9w5', 'none', pi_steps_y=[723], pi_steps_plane=plane_no) \n",
    "    print((804+722)/2)\n",
    "    print((775+749)/2)\n",
    "\n",
    "elif plane_no == 10:\n",
    "    # ml.update('1to10w4', 'none', pi_steps_x=[115], pi_steps_plane=plane_no)\n",
    "    # ml.update('1to10w4', 'none', pi_steps_y=[782], pi_steps_plane=plane_no)\n",
    "    ml.update('1to10w4', 'none', pi_steps_y=[732], pi_steps_plane=plane_no)\n",
    "    print((782+732)/2)"
   ],
   "id": "444dcf040bab0afc",
   "outputs": [
    {
     "name": "stdout",
     "output_type": "stream",
     "text": [
      "757.0\n"
     ]
    }
   ],
   "execution_count": 631
  },
  {
   "metadata": {
    "ExecuteTime": {
     "end_time": "2025-01-28T14:09:15.330084600Z",
     "start_time": "2025-01-27T12:51:19.215489Z"
    }
   },
   "cell_type": "code",
   "source": "ml.mplc.close()",
   "id": "9c1c041971ecbe39",
   "outputs": [],
   "execution_count": 633
  },
  {
   "metadata": {
    "ExecuteTime": {
     "end_time": "2025-01-28T14:09:15.330084600Z",
     "start_time": "2024-10-28T08:56:21.935615Z"
    }
   },
   "cell_type": "code",
   "source": [
    "# Try to remove most modes for plane 2 - does not really help. maaybe come back to this in the future \n",
    "masks = np.zeros((10, 360, 140)).astype(complex)\n",
    "modes_to_keep = np.array([16, 11, 6, 31, 36, 41])\n",
    "masks = remove_input_modes(masks, modes_to_keep=modes_to_keep)\n",
    "# mimshow(np.angle(masks[0]))\n",
    "from pianoq.lab.mplc.consts import MASK_CENTERS\n",
    "sl = mask_centers_to_mask_slices(MASK_CENTERS)[0]\n",
    "ml.final_img[sl] += np.angle(masks[0])\n",
    "ml.mplc.load_slm_mask(ml.final_img, add_correction=True)"
   ],
   "id": "d4e4f7f3c28d7da8",
   "outputs": [],
   "execution_count": 114
  },
  {
   "metadata": {},
   "cell_type": "markdown",
   "source": [
    "# Look at some transformation\n",
    "before and after the alignment and see whether it helped"
   ],
   "id": "32303d301bea00cc"
  },
  {
   "metadata": {
    "ExecuteTime": {
     "end_time": "2025-01-28T14:09:15.331084400Z",
     "start_time": "2025-01-28T13:30:20.743891Z"
    }
   },
   "cell_type": "code",
   "source": [
    "modes_to_keep = np.array([3, 8, 13, 18, 23, 28, 33, 38, 43, 48])\n",
    "masks_path = r\"G:\\My Drive\\Projects\\MPLC\\results\\lab\\2024_09_10_fixing_phases_different_Us\\U0U_2024_09_10_13_57_31.masks\"\n",
    "phases_path = r\"G:\\My Drive\\Projects\\MPLC\\results\\lab\\2024_09_10_fixing_phases_different_Us\\U0U_2024_09_10_22_47_58.phases\"\n",
    "masks = get_good_masks(masks_path=masks_path, modes_to_keep=modes_to_keep, phases_path=phases_path)"
   ],
   "id": "68938fe0f4a1f5e7",
   "outputs": [],
   "execution_count": 2
  },
  {
   "metadata": {
    "ExecuteTime": {
     "end_time": "2025-01-28T14:09:15.331084400Z",
     "start_time": "2025-01-28T13:31:18.788661Z"
    }
   },
   "cell_type": "code",
   "source": [
    "CENTERS_X = [132, 386, 638, 890, 1141,   1140, 885, 632, 379, 122]  #\n",
    "CENTERS_Y = [279, 278, 277, 274, 271,    758, 760, 762, 762, 762]  # 28.10.24 for HG \n",
    "#             1    2    3    4    5        6    7    8    9    10\n",
    "# CENTERS_X = [132, 386, 638, 889, 1140,   1137, 883, 630, 378, 115]  #\n",
    "# CENTERS_Y = [279, 278, 278, 275, 272,    756, 759, 759, 763, 757]  # 27.01.25 for D mirror\n",
    "\n",
    "# CENTERS_X = [132, 386, 638, 889, 1141,   1139, 885, 632, 380, 121]  #\n",
    "# CENTERS_X = [131, 386, 639, 891, 1142, 1140, 887, 633, 379, 121]\n",
    "\n",
    "mplc = MPLCDevice(mask_centers=list(zip(CENTERS_X, CENTERS_Y)))\n",
    "mplc.load_masks(masks)\n",
    "mplc.restore_location()"
   ],
   "id": "1bfb0b6f9ec485a9",
   "outputs": [],
   "execution_count": 8
  },
  {
   "metadata": {
    "ExecuteTime": {
     "end_time": "2025-01-28T14:09:15.331084400Z",
     "start_time": "2025-01-27T12:51:32.064777Z"
    }
   },
   "cell_type": "code",
   "source": "mplc.restore_location()",
   "id": "ae92018d1ca887c",
   "outputs": [],
   "execution_count": 635
  },
  {
   "metadata": {
    "ExecuteTime": {
     "end_time": "2025-01-28T14:09:15.331084400Z",
     "start_time": "2025-01-27T11:44:01.538857Z"
    }
   },
   "cell_type": "code",
   "source": "mplc.close()",
   "id": "787620a5257a2525",
   "outputs": [],
   "execution_count": 16
  },
  {
   "metadata": {
    "ExecuteTime": {
     "end_time": "2025-01-28T14:25:12.530078Z",
     "start_time": "2025-01-28T14:25:07.251527Z"
    }
   },
   "cell_type": "code",
   "source": [
    "from pianoq.lab.pco_camera import PCOCamera\n",
    "cam = PCOCamera()\n",
    "cam.set_exposure_time(2)"
   ],
   "id": "c826c5d630e532fb",
   "outputs": [],
   "execution_count": 2
  },
  {
   "metadata": {
    "ExecuteTime": {
     "end_time": "2025-01-28T14:25:41.530405Z",
     "start_time": "2025-01-28T14:25:36.898829Z"
    }
   },
   "cell_type": "code",
   "source": [
    "# from transformation\n",
    "cam.set_exposure_time(2)\n",
    "roi = (800, 300, 1100, 900)\n",
    "cam.show_image(roi=roi)\n",
    "# cam.save_image(rf'{dir_path}\\0U0_before_alignment.fits', roi=roi)\n",
    "# cam.save_image(rf'{dir_path}\\0U0_after_alignment.fits', roi=(600, 200, 1300, 1300))"
   ],
   "id": "668876cc2ec2afac",
   "outputs": [
    {
     "data": {
      "text/plain": [
       "(<Figure size 640x480 with 2 Axes>, <Axes: >)"
      ]
     },
     "execution_count": 4,
     "metadata": {},
     "output_type": "execute_result"
    }
   ],
   "execution_count": 4
  },
  {
   "metadata": {
    "ExecuteTime": {
     "end_time": "2025-01-28T14:25:46.535532Z",
     "start_time": "2025-01-28T14:25:46.435767Z"
    }
   },
   "cell_type": "code",
   "source": "cam.close()",
   "id": "fce449f8276ee764",
   "outputs": [],
   "execution_count": 5
  },
  {
   "metadata": {},
   "cell_type": "markdown",
   "source": "# Brute force optimization",
   "id": "8c4bf9a6872c4ab"
  },
  {
   "metadata": {
    "ExecuteTime": {
     "end_time": "2025-01-28T14:29:28.823014Z",
     "start_time": "2025-01-28T14:29:22.608020Z"
    }
   },
   "cell_type": "code",
   "source": [
    "dir_path = r'G:\\My Drive\\Projects\\MPLC\\results\\lab\\Alignments'\n",
    "import os \n",
    "from pianoq.lab.mplc.aligner_optimizer import optimize, cost_function, MASKS\n",
    "from pianoq.lab.mplc.mplc_device import MPLCDevice\n",
    "from pianoq.misc.mplc_writeup_imports import tnow\n",
    "import time \n",
    "CENTERS_X = [132, 386, 638, 890, 1141,   1140, 885, 632, 379, 122]  # 28.10.24 for HG\n",
    "CENTERS_Y = [279, 278, 277, 274, 271,    758, 760, 762, 762, 762]  # 28.10.24 for HG\n",
    "# CENTERS_X = [131, 386, 639, 891, 1142, 1140, 887, 633, 379, 121]  # after a bit of hill climbing \n",
    "\n",
    "# This will hopefully help with the restore location to work \n",
    "mplc = MPLCDevice(mask_centers=list(zip(CENTERS_X, CENTERS_Y)))\n",
    "mplc.load_masks(MASKS)\n",
    "time.sleep(0.2)\n",
    "mplc.restore_location()\n",
    "time.sleep(0.2)\n",
    "mplc.restore_location()\n",
    "roi = (800, 300, 1100, 900)\n",
    "dir_path2 = os.path.join(dir_path, tnow())\n",
    "os.mkdir(dir_path2)"
   ],
   "id": "608e046f1f38bddb",
   "outputs": [],
   "execution_count": 1
  },
  {
   "metadata": {
    "ExecuteTime": {
     "end_time": "2025-01-28T16:14:34.507483Z",
     "start_time": "2025-01-28T14:29:53.144037Z"
    }
   },
   "cell_type": "code",
   "source": "optimize([CENTERS_X, CENTERS_Y], optimize_x=True, step_range=3, exp_time=5, roi=roi, dir_path=dir_path2)",
   "id": "aff40b5db1fb3335",
   "outputs": [
    {
     "name": "stdout",
     "output_type": "stream",
     "text": [
      "best_cost=-11512.135308912086\n"
     ]
    },
    {
     "data": {
      "text/plain": [
       "'foo'"
      ]
     },
     "metadata": {},
     "output_type": "display_data"
    },
    {
     "name": "stdout",
     "output_type": "stream",
     "text": [
      "c_cost=-11127.14791955704, candidate=[129, 386, 638, 890, 1141, 1140, 885, 632, 379, 122]\n",
      "c_cost=-11392.45937325267, candidate=[130, 386, 638, 890, 1141, 1140, 885, 632, 379, 122]\n",
      "c_cost=-11557.302836366149, candidate=[131, 386, 638, 890, 1141, 1140, 885, 632, 379, 122]\n",
      "Improved! best_cost=-11557.302836366149, best_params=[131, 386, 638, 890, 1141, 1140, 885, 632, 379, 122]\n",
      "c_cost=-11549.64677526538, candidate=[132, 386, 638, 890, 1141, 1140, 885, 632, 379, 122]\n",
      "c_cost=-11262.09917008355, candidate=[133, 386, 638, 890, 1141, 1140, 885, 632, 379, 122]\n",
      "c_cost=-10830.304579728363, candidate=[134, 386, 638, 890, 1141, 1140, 885, 632, 379, 122]\n",
      "c_cost=-10162.578094143733, candidate=[135, 386, 638, 890, 1141, 1140, 885, 632, 379, 122]\n",
      "c_cost=-10543.13497814753, candidate=[131, 383, 638, 890, 1141, 1140, 885, 632, 379, 122]\n",
      "c_cost=-11101.728424138335, candidate=[131, 384, 638, 890, 1141, 1140, 885, 632, 379, 122]\n",
      "c_cost=-11491.101313385048, candidate=[131, 385, 638, 890, 1141, 1140, 885, 632, 379, 122]\n",
      "c_cost=-11562.66824157939, candidate=[131, 386, 638, 890, 1141, 1140, 885, 632, 379, 122]\n",
      "c_cost=-11302.812624042597, candidate=[131, 387, 638, 890, 1141, 1140, 885, 632, 379, 122]\n",
      "c_cost=-10779.496475741831, candidate=[131, 388, 638, 890, 1141, 1140, 885, 632, 379, 122]\n",
      "c_cost=-10141.671005216773, candidate=[131, 389, 638, 890, 1141, 1140, 885, 632, 379, 122]\n",
      "c_cost=-10336.813072220222, candidate=[131, 386, 635, 890, 1141, 1140, 885, 632, 379, 122]\n",
      "c_cost=-10887.312804602378, candidate=[131, 386, 636, 890, 1141, 1140, 885, 632, 379, 122]\n",
      "c_cost=-11395.210175251152, candidate=[131, 386, 637, 890, 1141, 1140, 885, 632, 379, 122]\n",
      "c_cost=-11533.095540253891, candidate=[131, 386, 638, 890, 1141, 1140, 885, 632, 379, 122]\n",
      "c_cost=-11609.743421656594, candidate=[131, 386, 639, 890, 1141, 1140, 885, 632, 379, 122]\n",
      "Improved! best_cost=-11609.743421656594, best_params=[131, 386, 639, 890, 1141, 1140, 885, 632, 379, 122]\n",
      "c_cost=-11542.389370330464, candidate=[131, 386, 640, 890, 1141, 1140, 885, 632, 379, 122]\n",
      "c_cost=-11227.422937668132, candidate=[131, 386, 641, 890, 1141, 1140, 885, 632, 379, 122]\n",
      "c_cost=-10209.815643606395, candidate=[131, 386, 639, 887, 1141, 1140, 885, 632, 379, 122]\n",
      "c_cost=-10806.958336314441, candidate=[131, 386, 639, 888, 1141, 1140, 885, 632, 379, 122]\n",
      "c_cost=-11283.595890296636, candidate=[131, 386, 639, 889, 1141, 1140, 885, 632, 379, 122]\n",
      "c_cost=-11660.072477624573, candidate=[131, 386, 639, 890, 1141, 1140, 885, 632, 379, 122]\n",
      "Improved! best_cost=-11660.072477624573, best_params=[131, 386, 639, 890, 1141, 1140, 885, 632, 379, 122]\n",
      "c_cost=-11613.701980798525, candidate=[131, 386, 639, 891, 1141, 1140, 885, 632, 379, 122]\n",
      "c_cost=-11432.522839273146, candidate=[131, 386, 639, 892, 1141, 1140, 885, 632, 379, 122]\n",
      "c_cost=-10980.746791096444, candidate=[131, 386, 639, 893, 1141, 1140, 885, 632, 379, 122]\n",
      "c_cost=-10679.776852857096, candidate=[131, 386, 639, 890, 1138, 1140, 885, 632, 379, 122]\n",
      "c_cost=-11076.369507866908, candidate=[131, 386, 639, 890, 1139, 1140, 885, 632, 379, 122]\n",
      "c_cost=-11371.074462394754, candidate=[131, 386, 639, 890, 1140, 1140, 885, 632, 379, 122]\n",
      "c_cost=-11562.624462391348, candidate=[131, 386, 639, 890, 1141, 1140, 885, 632, 379, 122]\n",
      "c_cost=-11570.036923165162, candidate=[131, 386, 639, 890, 1142, 1140, 885, 632, 379, 122]\n",
      "c_cost=-11383.946196231273, candidate=[131, 386, 639, 890, 1143, 1140, 885, 632, 379, 122]\n",
      "c_cost=-11108.36347615982, candidate=[131, 386, 639, 890, 1144, 1140, 885, 632, 379, 122]\n",
      "c_cost=-10651.379961680439, candidate=[131, 386, 639, 890, 1141, 1137, 885, 632, 379, 122]\n",
      "c_cost=-11064.890326106111, candidate=[131, 386, 639, 890, 1141, 1138, 885, 632, 379, 122]\n",
      "c_cost=-11372.04356514195, candidate=[131, 386, 639, 890, 1141, 1139, 885, 632, 379, 122]\n",
      "c_cost=-11497.641473309459, candidate=[131, 386, 639, 890, 1141, 1140, 885, 632, 379, 122]\n",
      "c_cost=-11471.191599240661, candidate=[131, 386, 639, 890, 1141, 1141, 885, 632, 379, 122]\n",
      "c_cost=-11278.683170107346, candidate=[131, 386, 639, 890, 1141, 1142, 885, 632, 379, 122]\n",
      "c_cost=-11014.247205600086, candidate=[131, 386, 639, 890, 1141, 1143, 885, 632, 379, 122]\n",
      "c_cost=-10558.568802618112, candidate=[131, 386, 639, 890, 1141, 1140, 882, 632, 379, 122]\n",
      "c_cost=-10956.703729124334, candidate=[131, 386, 639, 890, 1141, 1140, 883, 632, 379, 122]\n",
      "c_cost=-11176.960237076599, candidate=[131, 386, 639, 890, 1141, 1140, 884, 632, 379, 122]\n",
      "c_cost=-11518.523111493247, candidate=[131, 386, 639, 890, 1141, 1140, 885, 632, 379, 122]\n",
      "c_cost=-11676.374051510855, candidate=[131, 386, 639, 890, 1141, 1140, 886, 632, 379, 122]\n",
      "c_cost=-11793.375336895964, candidate=[131, 386, 639, 890, 1141, 1140, 887, 632, 379, 122]\n",
      "Improved! best_cost=-11793.375336895964, best_params=[131, 386, 639, 890, 1141, 1140, 887, 632, 379, 122]\n",
      "c_cost=-11654.49089055157, candidate=[131, 386, 639, 890, 1141, 1140, 888, 632, 379, 122]\n",
      "c_cost=-10633.597539814315, candidate=[131, 386, 639, 890, 1141, 1140, 887, 629, 379, 122]\n",
      "c_cost=-11067.141414904567, candidate=[131, 386, 639, 890, 1141, 1140, 887, 630, 379, 122]\n",
      "c_cost=-11387.659999399302, candidate=[131, 386, 639, 890, 1141, 1140, 887, 631, 379, 122]\n",
      "c_cost=-11693.319557331288, candidate=[131, 386, 639, 890, 1141, 1140, 887, 632, 379, 122]\n",
      "c_cost=-11759.739625701102, candidate=[131, 386, 639, 890, 1141, 1140, 887, 633, 379, 122]\n",
      "c_cost=-11779.4905343919, candidate=[131, 386, 639, 890, 1141, 1140, 887, 634, 379, 122]\n",
      "c_cost=-11524.096268461424, candidate=[131, 386, 639, 890, 1141, 1140, 887, 635, 379, 122]\n",
      "c_cost=-10743.077555566246, candidate=[131, 386, 639, 890, 1141, 1140, 887, 632, 376, 122]\n",
      "c_cost=-11253.25921381107, candidate=[131, 386, 639, 890, 1141, 1140, 887, 632, 377, 122]\n",
      "c_cost=-11534.95314977016, candidate=[131, 386, 639, 890, 1141, 1140, 887, 632, 378, 122]\n",
      "c_cost=-11614.930053068376, candidate=[131, 386, 639, 890, 1141, 1140, 887, 632, 379, 122]\n",
      "c_cost=-11367.026082327178, candidate=[131, 386, 639, 890, 1141, 1140, 887, 632, 380, 122]\n",
      "c_cost=-10921.275230338884, candidate=[131, 386, 639, 890, 1141, 1140, 887, 632, 381, 122]\n",
      "c_cost=-10301.457209196751, candidate=[131, 386, 639, 890, 1141, 1140, 887, 632, 382, 122]\n",
      "c_cost=-11325.544777741063, candidate=[131, 386, 639, 890, 1141, 1140, 887, 632, 379, 119]\n",
      "c_cost=-11588.19504776343, candidate=[131, 386, 639, 890, 1141, 1140, 887, 632, 379, 120]\n",
      "c_cost=-11688.711769892172, candidate=[131, 386, 639, 890, 1141, 1140, 887, 632, 379, 121]\n",
      "c_cost=-11540.991778568408, candidate=[131, 386, 639, 890, 1141, 1140, 887, 632, 379, 122]\n",
      "c_cost=-11172.402102273707, candidate=[131, 386, 639, 890, 1141, 1140, 887, 632, 379, 123]\n",
      "c_cost=-10575.46683600233, candidate=[131, 386, 639, 890, 1141, 1140, 887, 632, 379, 124]\n",
      "c_cost=-9980.818134188852, candidate=[131, 386, 639, 890, 1141, 1140, 887, 632, 379, 125]\n"
     ]
    },
    {
     "data": {
      "text/plain": [
       "'foo'"
      ]
     },
     "metadata": {},
     "output_type": "display_data"
    },
    {
     "name": "stdout",
     "output_type": "stream",
     "text": [
      "c_cost=-10561.423472557073, candidate=[128, 386, 639, 890, 1141, 1140, 887, 632, 379, 122]\n",
      "c_cost=-10940.434109794965, candidate=[129, 386, 639, 890, 1141, 1140, 887, 632, 379, 122]\n",
      "c_cost=-11270.012255160378, candidate=[130, 386, 639, 890, 1141, 1140, 887, 632, 379, 122]\n",
      "c_cost=-11484.093230606031, candidate=[131, 386, 639, 890, 1141, 1140, 887, 632, 379, 122]\n",
      "c_cost=-11446.258295896905, candidate=[132, 386, 639, 890, 1141, 1140, 887, 632, 379, 122]\n",
      "c_cost=-11206.37828799165, candidate=[133, 386, 639, 890, 1141, 1140, 887, 632, 379, 122]\n",
      "c_cost=-10757.587097166943, candidate=[134, 386, 639, 890, 1141, 1140, 887, 632, 379, 122]\n",
      "c_cost=-10310.89855191199, candidate=[131, 383, 639, 890, 1141, 1140, 887, 632, 379, 122]\n",
      "c_cost=-10919.635100736828, candidate=[131, 384, 639, 890, 1141, 1140, 887, 632, 379, 122]\n",
      "c_cost=-11272.967866934832, candidate=[131, 385, 639, 890, 1141, 1140, 887, 632, 379, 122]\n",
      "c_cost=-11392.871726769514, candidate=[131, 386, 639, 890, 1141, 1140, 887, 632, 379, 122]\n",
      "c_cost=-11177.362555011174, candidate=[131, 387, 639, 890, 1141, 1140, 887, 632, 379, 122]\n",
      "c_cost=-10743.668792154378, candidate=[131, 388, 639, 890, 1141, 1140, 887, 632, 379, 122]\n",
      "c_cost=-10052.401364358582, candidate=[131, 389, 639, 890, 1141, 1140, 887, 632, 379, 122]\n",
      "c_cost=-10538.18385430868, candidate=[131, 386, 636, 890, 1141, 1140, 887, 632, 379, 122]\n",
      "c_cost=-10984.919449116645, candidate=[131, 386, 637, 890, 1141, 1140, 887, 632, 379, 122]\n",
      "c_cost=-11247.53698218782, candidate=[131, 386, 638, 890, 1141, 1140, 887, 632, 379, 122]\n",
      "c_cost=-11434.383714671127, candidate=[131, 386, 639, 890, 1141, 1140, 887, 632, 379, 122]\n",
      "c_cost=-11301.88799060676, candidate=[131, 386, 640, 890, 1141, 1140, 887, 632, 379, 122]\n",
      "c_cost=-11091.175969680282, candidate=[131, 386, 641, 890, 1141, 1140, 887, 632, 379, 122]\n",
      "c_cost=-10686.42896117015, candidate=[131, 386, 642, 890, 1141, 1140, 887, 632, 379, 122]\n",
      "c_cost=-9893.937681245698, candidate=[131, 386, 639, 887, 1141, 1140, 887, 632, 379, 122]\n",
      "c_cost=-10486.355894903912, candidate=[131, 386, 639, 888, 1141, 1140, 887, 632, 379, 122]\n",
      "c_cost=-11027.315297771514, candidate=[131, 386, 639, 889, 1141, 1140, 887, 632, 379, 122]\n",
      "c_cost=-11320.511261550948, candidate=[131, 386, 639, 890, 1141, 1140, 887, 632, 379, 122]\n",
      "c_cost=-11431.256585911447, candidate=[131, 386, 639, 891, 1141, 1140, 887, 632, 379, 122]\n",
      "c_cost=-11202.434520585282, candidate=[131, 386, 639, 892, 1141, 1140, 887, 632, 379, 122]\n",
      "c_cost=-10860.37356352547, candidate=[131, 386, 639, 893, 1141, 1140, 887, 632, 379, 122]\n",
      "c_cost=-10270.042995249836, candidate=[131, 386, 639, 890, 1138, 1140, 887, 632, 379, 122]\n",
      "c_cost=-10728.541852305983, candidate=[131, 386, 639, 890, 1139, 1140, 887, 632, 379, 122]\n",
      "c_cost=-12559.246674918248, candidate=[131, 386, 639, 890, 1140, 1140, 887, 632, 379, 122]\n",
      "Improved! best_cost=-12559.246674918248, best_params=[131, 386, 639, 890, 1140, 1140, 887, 632, 379, 122]\n",
      "c_cost=-11347.4476773504, candidate=[131, 386, 639, 890, 1141, 1140, 887, 632, 379, 122]\n",
      "c_cost=-11379.802342444827, candidate=[131, 386, 639, 890, 1142, 1140, 887, 632, 379, 122]\n",
      "c_cost=-11252.91144552808, candidate=[131, 386, 639, 890, 1143, 1140, 887, 632, 379, 122]\n",
      "c_cost=-10958.564289671864, candidate=[131, 386, 639, 890, 1144, 1140, 887, 632, 379, 122]\n",
      "c_cost=-10246.454640531156, candidate=[131, 386, 639, 890, 1140, 1137, 887, 632, 379, 122]\n",
      "c_cost=-10627.112690213133, candidate=[131, 386, 639, 890, 1140, 1138, 887, 632, 379, 122]\n",
      "c_cost=-10894.76160768065, candidate=[131, 386, 639, 890, 1140, 1139, 887, 632, 379, 122]\n",
      "c_cost=-11101.399238054975, candidate=[131, 386, 639, 890, 1140, 1140, 887, 632, 379, 122]\n",
      "c_cost=-11147.993941194778, candidate=[131, 386, 639, 890, 1140, 1141, 887, 632, 379, 122]\n",
      "c_cost=-10975.88423651803, candidate=[131, 386, 639, 890, 1140, 1142, 887, 632, 379, 122]\n",
      "c_cost=-10664.107668740719, candidate=[131, 386, 639, 890, 1140, 1143, 887, 632, 379, 122]\n",
      "c_cost=-10678.317905907392, candidate=[131, 386, 639, 890, 1140, 1140, 884, 632, 379, 122]\n",
      "c_cost=-10922.810756397866, candidate=[131, 386, 639, 890, 1140, 1140, 885, 632, 379, 122]\n",
      "c_cost=-11039.0034549095, candidate=[131, 386, 639, 890, 1140, 1140, 886, 632, 379, 122]\n",
      "c_cost=-11138.740150523097, candidate=[131, 386, 639, 890, 1140, 1140, 887, 632, 379, 122]\n",
      "c_cost=-11050.846423248915, candidate=[131, 386, 639, 890, 1140, 1140, 888, 632, 379, 122]\n",
      "c_cost=-10974.74510030703, candidate=[131, 386, 639, 890, 1140, 1140, 889, 632, 379, 122]\n",
      "c_cost=-10821.921243228668, candidate=[131, 386, 639, 890, 1140, 1140, 890, 632, 379, 122]\n",
      "c_cost=-10158.81025440985, candidate=[131, 386, 639, 890, 1140, 1140, 887, 629, 379, 122]\n",
      "c_cost=-10553.903944741998, candidate=[131, 386, 639, 890, 1140, 1140, 887, 630, 379, 122]\n",
      "c_cost=-10874.141783789097, candidate=[131, 386, 639, 890, 1140, 1140, 887, 631, 379, 122]\n",
      "c_cost=-11126.681375623524, candidate=[131, 386, 639, 890, 1140, 1140, 887, 632, 379, 122]\n",
      "c_cost=-11208.32000779664, candidate=[131, 386, 639, 890, 1140, 1140, 887, 633, 379, 122]\n",
      "c_cost=-11218.786728281842, candidate=[131, 386, 639, 890, 1140, 1140, 887, 634, 379, 122]\n",
      "c_cost=-11055.558052391032, candidate=[131, 386, 639, 890, 1140, 1140, 887, 635, 379, 122]\n",
      "c_cost=-10317.57696964251, candidate=[131, 386, 639, 890, 1140, 1140, 887, 632, 376, 122]\n",
      "c_cost=-10876.95486900755, candidate=[131, 386, 639, 890, 1140, 1140, 887, 632, 377, 122]\n",
      "c_cost=-11113.993520119971, candidate=[131, 386, 639, 890, 1140, 1140, 887, 632, 378, 122]\n",
      "c_cost=-11140.677625275941, candidate=[131, 386, 639, 890, 1140, 1140, 887, 632, 379, 122]\n",
      "c_cost=-10931.695921707504, candidate=[131, 386, 639, 890, 1140, 1140, 887, 632, 380, 122]\n",
      "c_cost=-10459.190341494992, candidate=[131, 386, 639, 890, 1140, 1140, 887, 632, 381, 122]\n",
      "c_cost=-9929.761828829145, candidate=[131, 386, 639, 890, 1140, 1140, 887, 632, 382, 122]\n",
      "c_cost=-10957.598406887313, candidate=[131, 386, 639, 890, 1140, 1140, 887, 632, 379, 119]\n",
      "c_cost=-11229.524851567458, candidate=[131, 386, 639, 890, 1140, 1140, 887, 632, 379, 120]\n",
      "c_cost=-11322.92099483939, candidate=[131, 386, 639, 890, 1140, 1140, 887, 632, 379, 121]\n",
      "c_cost=-11146.60933986167, candidate=[131, 386, 639, 890, 1140, 1140, 887, 632, 379, 122]\n",
      "c_cost=-10774.308632233546, candidate=[131, 386, 639, 890, 1140, 1140, 887, 632, 379, 123]\n",
      "c_cost=-10312.724870572652, candidate=[131, 386, 639, 890, 1140, 1140, 887, 632, 379, 124]\n",
      "c_cost=-9680.834890348035, candidate=[131, 386, 639, 890, 1140, 1140, 887, 632, 379, 125]\n"
     ]
    },
    {
     "data": {
      "text/plain": [
       "'foo'"
      ]
     },
     "metadata": {},
     "output_type": "display_data"
    },
    {
     "name": "stdout",
     "output_type": "stream",
     "text": [
      "c_cost=-10209.259029404548, candidate=[128, 386, 639, 890, 1140, 1140, 887, 632, 379, 122]\n",
      "c_cost=-10694.174715491195, candidate=[129, 386, 639, 890, 1140, 1140, 887, 632, 379, 122]\n",
      "c_cost=-10998.01337427707, candidate=[130, 386, 639, 890, 1140, 1140, 887, 632, 379, 122]\n",
      "c_cost=-11122.034055644075, candidate=[131, 386, 639, 890, 1140, 1140, 887, 632, 379, 122]\n",
      "c_cost=-11188.157167695099, candidate=[132, 386, 639, 890, 1140, 1140, 887, 632, 379, 122]\n",
      "c_cost=-10955.535786186218, candidate=[133, 386, 639, 890, 1140, 1140, 887, 632, 379, 122]\n",
      "c_cost=-10514.239077460117, candidate=[134, 386, 639, 890, 1140, 1140, 887, 632, 379, 122]\n",
      "c_cost=-10215.73174555703, candidate=[131, 383, 639, 890, 1140, 1140, 887, 632, 379, 122]\n",
      "c_cost=-10844.67556532267, candidate=[131, 384, 639, 890, 1140, 1140, 887, 632, 379, 122]\n",
      "c_cost=-11157.267790033367, candidate=[131, 385, 639, 890, 1140, 1140, 887, 632, 379, 122]\n",
      "c_cost=-11281.791783353061, candidate=[131, 386, 639, 890, 1140, 1140, 887, 632, 379, 122]\n",
      "c_cost=-10961.81381381482, candidate=[131, 387, 639, 890, 1140, 1140, 887, 632, 379, 122]\n",
      "c_cost=-10516.071944311823, candidate=[131, 388, 639, 890, 1140, 1140, 887, 632, 379, 122]\n",
      "c_cost=-9804.05288473904, candidate=[131, 389, 639, 890, 1140, 1140, 887, 632, 379, 122]\n",
      "c_cost=-10409.530440652721, candidate=[131, 386, 636, 890, 1140, 1140, 887, 632, 379, 122]\n",
      "c_cost=-10814.173216516963, candidate=[131, 386, 637, 890, 1140, 1140, 887, 632, 379, 122]\n",
      "c_cost=-11104.525622786621, candidate=[131, 386, 638, 890, 1140, 1140, 887, 632, 379, 122]\n",
      "c_cost=-11242.537600703343, candidate=[131, 386, 639, 890, 1140, 1140, 887, 632, 379, 122]\n",
      "c_cost=-11118.424428028326, candidate=[131, 386, 640, 890, 1140, 1140, 887, 632, 379, 122]\n",
      "c_cost=-10899.667766446948, candidate=[131, 386, 641, 890, 1140, 1140, 887, 632, 379, 122]\n",
      "c_cost=-10470.77091285523, candidate=[131, 386, 642, 890, 1140, 1140, 887, 632, 379, 122]\n",
      "c_cost=-9847.602255834336, candidate=[131, 386, 639, 887, 1140, 1140, 887, 632, 379, 122]\n",
      "c_cost=-10444.33645049994, candidate=[131, 386, 639, 888, 1140, 1140, 887, 632, 379, 122]\n",
      "c_cost=-10912.378890529204, candidate=[131, 386, 639, 889, 1140, 1140, 887, 632, 379, 122]\n",
      "c_cost=-11224.709744973845, candidate=[131, 386, 639, 890, 1140, 1140, 887, 632, 379, 122]\n",
      "c_cost=-11308.614804688064, candidate=[131, 386, 639, 891, 1140, 1140, 887, 632, 379, 122]\n",
      "c_cost=-11104.848901419075, candidate=[131, 386, 639, 892, 1140, 1140, 887, 632, 379, 122]\n",
      "c_cost=-10699.666162225625, candidate=[131, 386, 639, 893, 1140, 1140, 887, 632, 379, 122]\n",
      "c_cost=-9948.987544712998, candidate=[131, 386, 639, 890, 1137, 1140, 887, 632, 379, 122]\n",
      "c_cost=-10464.537763150778, candidate=[131, 386, 639, 890, 1138, 1140, 887, 632, 379, 122]\n",
      "c_cost=-10938.57129906243, candidate=[131, 386, 639, 890, 1139, 1140, 887, 632, 379, 122]\n",
      "c_cost=-11203.666624711474, candidate=[131, 386, 639, 890, 1140, 1140, 887, 632, 379, 122]\n",
      "c_cost=-11390.115035702129, candidate=[131, 386, 639, 890, 1141, 1140, 887, 632, 379, 122]\n",
      "c_cost=-11556.973567853849, candidate=[131, 386, 639, 890, 1142, 1140, 887, 632, 379, 122]\n",
      "c_cost=-11341.244285496068, candidate=[131, 386, 639, 890, 1143, 1140, 887, 632, 379, 122]\n",
      "c_cost=-10338.542343451403, candidate=[131, 386, 639, 890, 1140, 1137, 887, 632, 379, 122]\n",
      "c_cost=-10683.58293686514, candidate=[131, 386, 639, 890, 1140, 1138, 887, 632, 379, 122]\n",
      "c_cost=-11036.380476734454, candidate=[131, 386, 639, 890, 1140, 1139, 887, 632, 379, 122]\n",
      "c_cost=-11271.394313266446, candidate=[131, 386, 639, 890, 1140, 1140, 887, 632, 379, 122]\n",
      "c_cost=-11216.42637874429, candidate=[131, 386, 639, 890, 1140, 1141, 887, 632, 379, 122]\n",
      "c_cost=-11112.134704436186, candidate=[131, 386, 639, 890, 1140, 1142, 887, 632, 379, 122]\n",
      "c_cost=-10795.19084543671, candidate=[131, 386, 639, 890, 1140, 1143, 887, 632, 379, 122]\n",
      "c_cost=-10863.007977895912, candidate=[131, 386, 639, 890, 1140, 1140, 884, 632, 379, 122]\n",
      "c_cost=-11064.8335923656, candidate=[131, 386, 639, 890, 1140, 1140, 885, 632, 379, 122]\n",
      "c_cost=-11151.24589998186, candidate=[131, 386, 639, 890, 1140, 1140, 886, 632, 379, 122]\n",
      "c_cost=-11254.390674909224, candidate=[131, 386, 639, 890, 1140, 1140, 887, 632, 379, 122]\n",
      "c_cost=-11221.569011066435, candidate=[131, 386, 639, 890, 1140, 1140, 888, 632, 379, 122]\n",
      "c_cost=-11013.751216057226, candidate=[131, 386, 639, 890, 1140, 1140, 889, 632, 379, 122]\n",
      "c_cost=-10840.099918527114, candidate=[131, 386, 639, 890, 1140, 1140, 890, 632, 379, 122]\n",
      "c_cost=-10228.882095859475, candidate=[131, 386, 639, 890, 1140, 1140, 887, 629, 379, 122]\n",
      "c_cost=-10682.65549965465, candidate=[131, 386, 639, 890, 1140, 1140, 887, 630, 379, 122]\n",
      "c_cost=-11006.610564497505, candidate=[131, 386, 639, 890, 1140, 1140, 887, 631, 379, 122]\n",
      "c_cost=-11250.71358542809, candidate=[131, 386, 639, 890, 1140, 1140, 887, 632, 379, 122]\n",
      "c_cost=-11369.821462796488, candidate=[131, 386, 639, 890, 1140, 1140, 887, 633, 379, 122]\n",
      "c_cost=-11297.030265853635, candidate=[131, 386, 639, 890, 1140, 1140, 887, 634, 379, 122]\n",
      "c_cost=-11118.497446687838, candidate=[131, 386, 639, 890, 1140, 1140, 887, 635, 379, 122]\n",
      "c_cost=-10478.198388512257, candidate=[131, 386, 639, 890, 1140, 1140, 887, 632, 376, 122]\n",
      "c_cost=-10951.555234510943, candidate=[131, 386, 639, 890, 1140, 1140, 887, 632, 377, 122]\n",
      "c_cost=-11224.262516066332, candidate=[131, 386, 639, 890, 1140, 1140, 887, 632, 378, 122]\n",
      "c_cost=-11212.239936775337, candidate=[131, 386, 639, 890, 1140, 1140, 887, 632, 379, 122]\n",
      "c_cost=-11029.575909270317, candidate=[131, 386, 639, 890, 1140, 1140, 887, 632, 380, 122]\n",
      "c_cost=-10551.312194643127, candidate=[131, 386, 639, 890, 1140, 1140, 887, 632, 381, 122]\n",
      "c_cost=-9952.718977673372, candidate=[131, 386, 639, 890, 1140, 1140, 887, 632, 382, 122]\n",
      "c_cost=-11000.394496168605, candidate=[131, 386, 639, 890, 1140, 1140, 887, 632, 379, 119]\n",
      "c_cost=-11298.168066880786, candidate=[131, 386, 639, 890, 1140, 1140, 887, 632, 379, 120]\n",
      "c_cost=-11339.993299666132, candidate=[131, 386, 639, 890, 1140, 1140, 887, 632, 379, 121]\n",
      "c_cost=-11255.054753832539, candidate=[131, 386, 639, 890, 1140, 1140, 887, 632, 379, 122]\n",
      "c_cost=-10851.408706320719, candidate=[131, 386, 639, 890, 1140, 1140, 887, 632, 379, 123]\n",
      "c_cost=-10333.3542309652, candidate=[131, 386, 639, 890, 1140, 1140, 887, 632, 379, 124]\n",
      "c_cost=-9709.431647608008, candidate=[131, 386, 639, 890, 1140, 1140, 887, 632, 379, 125]\n",
      "Best parameters found: [131, 386, 639, 890, 1140, 1140, 887, 632, 379, 122]\n",
      "Cost at best: -12559.246674918248\n"
     ]
    }
   ],
   "execution_count": 2
  },
  {
   "metadata": {
    "jupyter": {
     "is_executing": true
    },
    "ExecuteTime": {
     "end_time": "2025-01-29T09:16:54.624725900Z",
     "start_time": "2025-01-29T07:57:31.924399Z"
    }
   },
   "cell_type": "code",
   "source": "optimize([CENTERS_X, CENTERS_Y], optimize_x=False, step_range=3, exp_time=5, roi=roi, dir_path=dir_path2)",
   "id": "180016b76f376e73",
   "outputs": [
    {
     "name": "stdout",
     "output_type": "stream",
     "text": [
      "best_cost=-10515.264109269503\n"
     ]
    },
    {
     "data": {
      "text/plain": [
       "'foo'"
      ]
     },
     "metadata": {},
     "output_type": "display_data"
    },
    {
     "name": "stdout",
     "output_type": "stream",
     "text": [
      "c_cost=-10572.52547367418, candidate=[276, 278, 277, 274, 271, 758, 760, 762, 762, 762]\n",
      "Improved! best_cost=-10572.52547367418, best_params=[276, 278, 277, 274, 271, 758, 760, 762, 762, 762]\n",
      "c_cost=-9634.790961503548, candidate=[277, 278, 277, 274, 271, 758, 760, 762, 762, 762]\n",
      "c_cost=-9647.29074126324, candidate=[278, 278, 277, 274, 271, 758, 760, 762, 762, 762]\n",
      "c_cost=-9599.886713907057, candidate=[279, 278, 277, 274, 271, 758, 760, 762, 762, 762]\n",
      "c_cost=-9649.236833190647, candidate=[280, 278, 277, 274, 271, 758, 760, 762, 762, 762]\n",
      "c_cost=-9623.441769098179, candidate=[281, 278, 277, 274, 271, 758, 760, 762, 762, 762]\n",
      "c_cost=-9609.855257268922, candidate=[282, 278, 277, 274, 271, 758, 760, 762, 762, 762]\n",
      "c_cost=-9680.935932575261, candidate=[276, 275, 277, 274, 271, 758, 760, 762, 762, 762]\n",
      "c_cost=-9618.690083600412, candidate=[276, 276, 277, 274, 271, 758, 760, 762, 762, 762]\n",
      "c_cost=-9666.060184417243, candidate=[276, 277, 277, 274, 271, 758, 760, 762, 762, 762]\n",
      "c_cost=-9692.53360999281, candidate=[276, 278, 277, 274, 271, 758, 760, 762, 762, 762]\n",
      "c_cost=-9628.961826337729, candidate=[276, 279, 277, 274, 271, 758, 760, 762, 762, 762]\n",
      "c_cost=-9654.320287264169, candidate=[276, 280, 277, 274, 271, 758, 760, 762, 762, 762]\n",
      "c_cost=-9679.24261272994, candidate=[276, 281, 277, 274, 271, 758, 760, 762, 762, 762]\n",
      "c_cost=-9658.648462810777, candidate=[276, 278, 274, 274, 271, 758, 760, 762, 762, 762]\n",
      "c_cost=-9712.722254751696, candidate=[276, 278, 275, 274, 271, 758, 760, 762, 762, 762]\n",
      "c_cost=-9668.814508131965, candidate=[276, 278, 276, 274, 271, 758, 760, 762, 762, 762]\n",
      "c_cost=-9635.705603276932, candidate=[276, 278, 277, 274, 271, 758, 760, 762, 762, 762]\n",
      "c_cost=-9727.178476600591, candidate=[276, 278, 278, 274, 271, 758, 760, 762, 762, 762]\n",
      "c_cost=-9681.112056840513, candidate=[276, 278, 279, 274, 271, 758, 760, 762, 762, 762]\n",
      "c_cost=-9801.048110531321, candidate=[276, 278, 280, 274, 271, 758, 760, 762, 762, 762]\n",
      "c_cost=-9746.838146524151, candidate=[276, 278, 277, 271, 271, 758, 760, 762, 762, 762]\n",
      "c_cost=-9750.680421980107, candidate=[276, 278, 277, 272, 271, 758, 760, 762, 762, 762]\n",
      "c_cost=-9825.61212077049, candidate=[276, 278, 277, 273, 271, 758, 760, 762, 762, 762]\n",
      "c_cost=-9752.001978222355, candidate=[276, 278, 277, 274, 271, 758, 760, 762, 762, 762]\n",
      "c_cost=-9702.963906589135, candidate=[276, 278, 277, 275, 271, 758, 760, 762, 762, 762]\n",
      "c_cost=-9760.283273952864, candidate=[276, 278, 277, 276, 271, 758, 760, 762, 762, 762]\n",
      "c_cost=-9726.098768581713, candidate=[276, 278, 277, 277, 271, 758, 760, 762, 762, 762]\n",
      "c_cost=-9858.189302624021, candidate=[276, 278, 277, 274, 268, 758, 760, 762, 762, 762]\n",
      "c_cost=-9784.55036952523, candidate=[276, 278, 277, 274, 269, 758, 760, 762, 762, 762]\n",
      "c_cost=-9730.672581571775, candidate=[276, 278, 277, 274, 270, 758, 760, 762, 762, 762]\n",
      "c_cost=-9797.135181263548, candidate=[276, 278, 277, 274, 271, 758, 760, 762, 762, 762]\n",
      "c_cost=-9723.041720774318, candidate=[276, 278, 277, 274, 272, 758, 760, 762, 762, 762]\n",
      "c_cost=-9806.630581174042, candidate=[276, 278, 277, 274, 273, 758, 760, 762, 762, 762]\n",
      "c_cost=-9779.963101331467, candidate=[276, 278, 277, 274, 274, 758, 760, 762, 762, 762]\n",
      "c_cost=-9786.57698215018, candidate=[276, 278, 277, 274, 271, 755, 760, 762, 762, 762]\n",
      "c_cost=-9818.022560694486, candidate=[276, 278, 277, 274, 271, 756, 760, 762, 762, 762]\n",
      "c_cost=-9809.55142231969, candidate=[276, 278, 277, 274, 271, 757, 760, 762, 762, 762]\n",
      "c_cost=-9792.935586468006, candidate=[276, 278, 277, 274, 271, 758, 760, 762, 762, 762]\n",
      "c_cost=-9792.22750941131, candidate=[276, 278, 277, 274, 271, 759, 760, 762, 762, 762]\n",
      "c_cost=-9882.35651882757, candidate=[276, 278, 277, 274, 271, 760, 760, 762, 762, 762]\n",
      "c_cost=-9815.492259466479, candidate=[276, 278, 277, 274, 271, 761, 760, 762, 762, 762]\n",
      "c_cost=-9776.186248399212, candidate=[276, 278, 277, 274, 271, 758, 757, 762, 762, 762]\n",
      "c_cost=-9820.320134698724, candidate=[276, 278, 277, 274, 271, 758, 758, 762, 762, 762]\n",
      "c_cost=-9841.340536869087, candidate=[276, 278, 277, 274, 271, 758, 759, 762, 762, 762]\n",
      "c_cost=-9831.024742368443, candidate=[276, 278, 277, 274, 271, 758, 760, 762, 762, 762]\n",
      "c_cost=-9862.054326969956, candidate=[276, 278, 277, 274, 271, 758, 761, 762, 762, 762]\n",
      "c_cost=-9941.829995603874, candidate=[276, 278, 277, 274, 271, 758, 762, 762, 762, 762]\n",
      "c_cost=-9835.876327597512, candidate=[276, 278, 277, 274, 271, 758, 763, 762, 762, 762]\n",
      "c_cost=-9827.271171191085, candidate=[276, 278, 277, 274, 271, 758, 760, 759, 762, 762]\n",
      "c_cost=-9899.86456311467, candidate=[276, 278, 277, 274, 271, 758, 760, 760, 762, 762]\n",
      "c_cost=-9905.18407628977, candidate=[276, 278, 277, 274, 271, 758, 760, 761, 762, 762]\n",
      "c_cost=-9910.194589169138, candidate=[276, 278, 277, 274, 271, 758, 760, 762, 762, 762]\n",
      "c_cost=-9863.486265204467, candidate=[276, 278, 277, 274, 271, 758, 760, 763, 762, 762]\n",
      "c_cost=-9909.35902692187, candidate=[276, 278, 277, 274, 271, 758, 760, 764, 762, 762]\n",
      "c_cost=-9916.08639972754, candidate=[276, 278, 277, 274, 271, 758, 760, 765, 762, 762]\n",
      "c_cost=-9934.609133003964, candidate=[276, 278, 277, 274, 271, 758, 760, 762, 759, 762]\n",
      "c_cost=-9934.526896504573, candidate=[276, 278, 277, 274, 271, 758, 760, 762, 760, 762]\n",
      "c_cost=-9938.51988671827, candidate=[276, 278, 277, 274, 271, 758, 760, 762, 761, 762]\n",
      "c_cost=-9895.93619116435, candidate=[276, 278, 277, 274, 271, 758, 760, 762, 762, 762]\n",
      "c_cost=-9939.240737113103, candidate=[276, 278, 277, 274, 271, 758, 760, 762, 763, 762]\n",
      "c_cost=-9944.92834993575, candidate=[276, 278, 277, 274, 271, 758, 760, 762, 764, 762]\n",
      "c_cost=-9939.135451784425, candidate=[276, 278, 277, 274, 271, 758, 760, 762, 765, 762]\n",
      "c_cost=-9914.359412257989, candidate=[276, 278, 277, 274, 271, 758, 760, 762, 762, 759]\n",
      "c_cost=-10028.653334218601, candidate=[276, 278, 277, 274, 271, 758, 760, 762, 762, 760]\n",
      "c_cost=-9971.644479342702, candidate=[276, 278, 277, 274, 271, 758, 760, 762, 762, 761]\n",
      "c_cost=-10075.136150795557, candidate=[276, 278, 277, 274, 271, 758, 760, 762, 762, 762]\n",
      "c_cost=-10056.98153287738, candidate=[276, 278, 277, 274, 271, 758, 760, 762, 762, 763]\n",
      "c_cost=-10071.241290073782, candidate=[276, 278, 277, 274, 271, 758, 760, 762, 762, 764]\n",
      "c_cost=-10132.563254954266, candidate=[276, 278, 277, 274, 271, 758, 760, 762, 762, 765]\n"
     ]
    },
    {
     "data": {
      "text/plain": [
       "'foo'"
      ]
     },
     "metadata": {},
     "output_type": "display_data"
    },
    {
     "name": "stdout",
     "output_type": "stream",
     "text": [
      "c_cost=-10088.778774176042, candidate=[273, 278, 277, 274, 271, 758, 760, 762, 762, 762]\n",
      "c_cost=-10091.886660379872, candidate=[274, 278, 277, 274, 271, 758, 760, 762, 762, 762]\n",
      "c_cost=-10122.693468430818, candidate=[275, 278, 277, 274, 271, 758, 760, 762, 762, 762]\n",
      "c_cost=-10104.070809224222, candidate=[276, 278, 277, 274, 271, 758, 760, 762, 762, 762]\n",
      "c_cost=-10157.31624626983, candidate=[277, 278, 277, 274, 271, 758, 760, 762, 762, 762]\n",
      "c_cost=-10148.3004937009, candidate=[278, 278, 277, 274, 271, 758, 760, 762, 762, 762]\n",
      "c_cost=-10135.013172565836, candidate=[279, 278, 277, 274, 271, 758, 760, 762, 762, 762]\n",
      "c_cost=-10114.026428411913, candidate=[276, 275, 277, 274, 271, 758, 760, 762, 762, 762]\n",
      "c_cost=-10105.171936746456, candidate=[276, 276, 277, 274, 271, 758, 760, 762, 762, 762]\n",
      "c_cost=-10416.52529395885, candidate=[276, 277, 277, 274, 271, 758, 760, 762, 762, 762]\n"
     ]
    },
    {
     "name": "stderr",
     "output_type": "stream",
     "text": [
      "Exception in Tkinter callback\n",
      "Traceback (most recent call last):\n",
      "  File \"C:\\Users\\owner\\AppData\\Local\\Programs\\Python\\Python311\\Lib\\tkinter\\__init__.py\", line 1967, in __call__\n",
      "    return self.func(*args)\n",
      "    \n",
      "  File \"C:\\Users\\owner\\AppData\\Local\\Programs\\Python\\Python311\\Lib\\tkinter\\__init__.py\", line 861, in callit\n",
      "    func(*args)\n",
      "    \n",
      "  File \"C:\\Users\\owner\\AppData\\Local\\Programs\\Python\\Python311\\Lib\\site-packages\\matplotlib\\backends\\_backend_tk.py\", line 271, in idle_draw\n",
      "    self.draw()\n",
      "    \n",
      "  File \"C:\\Users\\owner\\AppData\\Local\\Programs\\Python\\Python311\\Lib\\site-packages\\matplotlib\\backends\\backend_tkagg.py\", line 10, in draw\n",
      "    super().draw()\n",
      "    \n",
      "  File \"C:\\Users\\owner\\AppData\\Local\\Programs\\Python\\Python311\\Lib\\site-packages\\matplotlib\\backends\\backend_agg.py\", line 387, in draw\n",
      "    self.figure.draw(self.renderer)\n",
      "    \n",
      "  File \"C:\\Users\\owner\\AppData\\Local\\Programs\\Python\\Python311\\Lib\\site-packages\\matplotlib\\artist.py\", line 95, in draw_wrapper\n",
      "    result = draw(artist, renderer, *args, **kwargs)\n",
      "    \n",
      "  File \"C:\\Users\\owner\\AppData\\Local\\Programs\\Python\\Python311\\Lib\\site-packages\\matplotlib\\artist.py\", line 72, in draw_wrapper\n",
      "    return draw(artist, renderer)\n",
      "    \n",
      "  File \"C:\\Users\\owner\\AppData\\Local\\Programs\\Python\\Python311\\Lib\\site-packages\\matplotlib\\figure.py\", line 3162, in draw\n",
      "    mimage._draw_list_compositing_images(\n",
      "  File \"C:\\Users\\owner\\AppData\\Local\\Programs\\Python\\Python311\\Lib\\site-packages\\matplotlib\\image.py\", line 132, in _draw_list_compositing_images\n",
      "    a.draw(renderer)\n",
      "    \n",
      "  File \"C:\\Users\\owner\\AppData\\Local\\Programs\\Python\\Python311\\Lib\\site-packages\\matplotlib\\artist.py\", line 72, in draw_wrapper\n",
      "    return draw(artist, renderer)\n",
      "    \n",
      "  File \"C:\\Users\\owner\\AppData\\Local\\Programs\\Python\\Python311\\Lib\\site-packages\\matplotlib\\axes\\_base.py\", line 3143, in draw\n",
      "    mimage._draw_list_compositing_images(\n",
      "  File \"C:\\Users\\owner\\AppData\\Local\\Programs\\Python\\Python311\\Lib\\site-packages\\matplotlib\\image.py\", line 132, in _draw_list_compositing_images\n",
      "    a.draw(renderer)\n",
      "    \n",
      "  File \"C:\\Users\\owner\\AppData\\Local\\Programs\\Python\\Python311\\Lib\\site-packages\\matplotlib\\artist.py\", line 72, in draw_wrapper\n",
      "    return draw(artist, renderer)\n",
      "    \n",
      "  File \"C:\\Users\\owner\\AppData\\Local\\Programs\\Python\\Python311\\Lib\\site-packages\\matplotlib\\image.py\", line 653, in draw\n",
      "    im, l, b, trans = self.make_image(\n",
      "  File \"C:\\Users\\owner\\AppData\\Local\\Programs\\Python\\Python311\\Lib\\site-packages\\matplotlib\\image.py\", line 952, in make_image\n",
      "    return self._make_image(self._A, bbox, transformed_bbox, clip,\n",
      "  File \"C:\\Users\\owner\\AppData\\Local\\Programs\\Python\\Python311\\Lib\\site-packages\\matplotlib\\image.py\", line 518, in _make_image\n",
      "    if isinstance(self.norm, mcolors.NoNorm):\n",
      "    \n",
      "  File \"C:\\Users\\owner\\AppData\\Local\\Programs\\Python\\Python311\\Lib\\site-packages\\matplotlib\\cm.py\", line 528, in norm\n",
      "    @property\n",
      "    \n",
      "KeyboardInterrupt\n"
     ]
    }
   ],
   "execution_count": null
  },
  {
   "metadata": {},
   "cell_type": "code",
   "outputs": [],
   "execution_count": null,
   "source": [
    "x_centerss = [\n",
    "[132, 386, 638, 890, 1141,   1140, 885, 632, 379, 122],\n",
    "[131, 386, 638, 890, 1141, 1140, 885, 632, 379, 122],\n",
    "[131, 386, 639, 890, 1141, 1140, 885, 632, 379, 122],\n",
    "[131, 386, 639, 890, 1141, 1140, 886, 632, 379, 122],\n",
    "[131, 386, 639, 890, 1141, 1140, 887, 632, 379, 122],\n",
    "[131, 386, 639, 890, 1141, 1140, 887, 633, 379, 122],\n",
    "[131, 386, 639, 890, 1141, 1140, 887, 633, 379, 121],\n",
    "[131, 386, 639, 890, 1141, 1140, 887, 633, 379, 121],\n",
    "[131, 386, 639, 890, 1141, 1140, 887, 633, 379, 121],\n",
    "[131, 386, 639, 890, 1141, 1140, 887, 633, 379, 121],\n",
    "[131, 386, 639, 891, 1141, 1140, 887, 633, 379, 121],\n",
    "[131, 386, 639, 891, 1142, 1140, 887, 633, 379, 121],\n",
    "[131, 386, 639, 891, 1142, 1140, 887, 633, 379, 121]]\n",
    "\n",
    "for x_centers in x_centerss[::3]:\n",
    "    print(x_centers)\n",
    "    cost_fx(centers_x=x_centers)\n",
    "\n",
    "costs = [70817.0840318899, \n",
    "70432.10115056508,\n",
    "70066.25421994511,\n",
    "69656.7535585783, \n",
    "69306.65625391928,\n",
    "68866.1293949037, \n",
    "68518.97455067375,\n",
    "67704.88640164964,\n",
    "67019.51653873669,\n",
    "66454.8319745985, \n",
    "65397.47120828771,\n",
    "64696.03294627342]"
   ],
   "id": "81d820fcf35db1f1"
  }
 ],
 "metadata": {
  "kernelspec": {
   "display_name": "Python 3",
   "language": "python",
   "name": "python3"
  },
  "language_info": {
   "codemirror_mode": {
    "name": "ipython",
    "version": 2
   },
   "file_extension": ".py",
   "mimetype": "text/x-python",
   "name": "python",
   "nbconvert_exporter": "python",
   "pygments_lexer": "ipython2",
   "version": "2.7.6"
  }
 },
 "nbformat": 4,
 "nbformat_minor": 5
}
