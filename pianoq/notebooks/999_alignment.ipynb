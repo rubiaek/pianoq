{
 "cells": [
  {
   "metadata": {
    "ExecuteTime": {
     "end_time": "2024-10-28T07:10:11.088920Z",
     "start_time": "2024-10-28T07:10:11.000709Z"
    }
   },
   "cell_type": "code",
   "source": [
    "from pianoq.misc.mplc_writeup_imports import * \n",
    "from pianoq.misc.mplc_lab_imports import * \n",
    "\n",
    "dir_path = r'G:\\My Drive\\Projects\\MPLC\\results\\lab\\2024_10_28_HG_modes_singles_counts'\n",
    "if not os.path.exists(dir_path):\n",
    "    os.mkdir(dir_path)"
   ],
   "id": "61231a1ec54ebe24",
   "outputs": [],
   "execution_count": 16
  },
  {
   "metadata": {},
   "cell_type": "markdown",
   "source": "# Align",
   "id": "41b21b2e7b050274"
  },
  {
   "metadata": {},
   "cell_type": "code",
   "outputs": [],
   "execution_count": null,
   "source": "ml = MPLCAligner(use_cam=False)",
   "id": "da41f8627cc4ad19"
  },
  {
   "metadata": {
    "ExecuteTime": {
     "end_time": "2024-10-28T11:10:20.152906Z",
     "start_time": "2024-10-28T11:10:17.773640Z"
    }
   },
   "cell_type": "code",
   "source": [
    "CENTERS_X = [132, 386, 639, 891, 1143,  1143, 890, 639, 386, 132]  #\n",
    "CENTERS_Y = [279, 278, 276, 272, 268,   765, 768, 771, 774, 775]  # 17.7.24 with ronen fix retro X & Y\n",
    "\n",
    "CENTERS_X = [132, 386, 638, 890, 1141,   1140, 885, 632, 379, 122]  #\n",
    "CENTERS_Y = [279, 278, 277, 274, 271,    758, 760, 762, 762, 762]  # 28.10.24 for HG \n",
    "\n",
    "ml.centers_x = CENTERS_X\n",
    "ml.centers_y = CENTERS_Y\n",
    "plane_no = 10\n",
    "\n",
    "if plane_no == 1:\n",
    "    # ml.update('1to5w4f', '5to11w8', pi_steps_x=[132], pi_steps_plane=plane_no)\n",
    "    # ml.update('1to5w4f', '5to11w8', pi_steps_y=[291], pi_steps_plane=plane_no)\n",
    "    ml.update('1to5w4f', '5to11w8', pi_steps_y=[267], pi_steps_plane=plane_no)\n",
    "    print((291+267)/2)\n",
    "    \n",
    "elif plane_no == 2:\n",
    "    # ml.update('1to2w1', '2to10w6', pi_steps_x=[386], pi_steps_plane=plane_no)\n",
    "    ml.update('1to2w1', '2to10w6', pi_steps_y=[278], pi_steps_plane=plane_no)     \n",
    "\n",
    "elif plane_no == 3:\n",
    "    # ml.update('1to3w2', '3to11w5and9', pi_steps_x=[638], pi_steps_plane=plane_no)\n",
    "    # ml.update('1to3w2', '3to11w5and9', pi_steps_y=[288], pi_steps_plane=plane_no)\n",
    "    # ml.update('1to3w2', '3to11w5and9', pi_steps_y=[266], pi_steps_plane=plane_no)\n",
    "    print((287.5+266)/2)\n",
    "\n",
    "elif plane_no == 4:\n",
    "    # ml.update('1to4w3', '4to10w7', pi_steps_x=[889], pi_steps_plane=plane_no)\n",
    "    # ml.update('1to4w3', '4to10w8', pi_steps_x=[890], pi_steps_plane=plane_no) # pretty bad \n",
    "    # ml.update('1to4w2', '4to10w7', pi_steps_x=[890], pi_steps_plane=plane_no)\n",
    "    # ml.update('1to4w2', '4to10w8', pi_steps_x=[890], pi_steps_plane=plane_no)\n",
    "    \n",
    "    # ml.update('1to4w3', '4to10w7', pi_steps_y=[281], pi_steps_plane=plane_no)\n",
    "    # ml.update('1to4w3', '4to10w7', pi_steps_y=[269], pi_steps_plane=plane_no)\n",
    "    # ml.update('1to4w2', '4to10w7', pi_steps_y=[252], pi_steps_plane=plane_no)\n",
    "    ml.update('1to4w2', '4to10w7', pi_steps_y=[295], pi_steps_plane=plane_no)\n",
    "    \n",
    "    # ml.update('1to3w2', '3to11w5and9', pi_steps_y=[266], pi_steps_plane=plane_no)\n",
    "    print((280.5+269)/2)\n",
    "    print((252+295.5)/2)\n",
    "\n",
    "elif plane_no == 5:\n",
    "    # ml.update('1to5w4f', '5to11w8', pi_steps_x=[1141], pi_steps_plane=plane_no)\n",
    "    # ml.update('1to5w4f', '5to11w8', pi_steps_y=[282], pi_steps_plane=plane_no)\n",
    "    ml.update('1to5w4f', '5to11w8', pi_steps_y=[259], pi_steps_plane=plane_no)\n",
    "    print((282.5+259)/2)\n",
    "    \n",
    "elif plane_no == 6:\n",
    "    # ml.update('1to6w4', '6to10w4f', pi_steps_x=[1140], pi_steps_plane=plane_no)\n",
    "    # ml.update('1to6w4', '6to10w4f', pi_steps_y=[768], pi_steps_plane=plane_no)\n",
    "    ml.update('1to6w4', '6to10w4f', pi_steps_y=[748], pi_steps_plane=plane_no)\n",
    "    print((768+748)/2)\n",
    "    \n",
    "elif plane_no == 7:\n",
    "    # ml.update('1to7w4', '7to11w9', pi_steps_x=[885], pi_steps_plane=plane_no) # 885.5 \n",
    "    # ml.update('1to7w5', '7to11w9', pi_steps_x=[885], pi_steps_plane=plane_no)  \n",
    "    # ml.update('1to7w4', '7to11w9', pi_steps_y=[774], pi_steps_plane=plane_no)  \n",
    "    # ml.update('1to7w4', '7to11w9', pi_steps_y=[745], pi_steps_plane=plane_no)  \n",
    "    # ml.update('1to7w5', '7to11w9', pi_steps_y=[768], pi_steps_plane=plane_no)  \n",
    "    ml.update('1to7w5', '7to11w9', pi_steps_y=[753], pi_steps_plane=plane_no)  \n",
    "    print((774.5+744.5)/2)\n",
    "    print((768+753)/2)\n",
    "    \n",
    "elif plane_no == 8:\n",
    "    # ml.update('1to8w5', '8to10w9', pi_steps_x=[633], pi_steps_plane=plane_no)  # 632.5\n",
    "    # ml.update('1to8w4', '8to10w9', pi_steps_x=[632], pi_steps_plane=plane_no)\n",
    "    \n",
    "    # ml.update('1to8w4', '8to10w9', pi_steps_y=[779], pi_steps_plane=plane_no)\n",
    "    # ml.update('1to8w4', '8to10w9', pi_steps_y=[745], pi_steps_plane=plane_no)\n",
    "    \n",
    "    # ml.update('1to8w5', '8to10w9', pi_steps_y=[751], pi_steps_plane=plane_no)\n",
    "    ml.update('1to8w5', '8to10w9', pi_steps_y=[773], pi_steps_plane=plane_no)\n",
    "    print((778.5+745)/2)\n",
    "    print((750.5+772.5)/2)\n",
    "    \n",
    "elif plane_no == 9:\n",
    "    # ml.update('1to9w5', 'none', pi_steps_x=[378], pi_steps_plane=plane_no) \n",
    "    # ml.update('1to9w5', 'none', pi_steps_x=[406], pi_steps_plane=plane_no) \n",
    "    # ml.update('1to9w5', 'none', pi_steps_x=[353], pi_steps_plane=plane_no) \n",
    "    # print((406+352)/2)\n",
    "    # ml.update('1to9w4f15and4f59', 'none', pi_steps_x=[378], pi_steps_plane=plane_no) \n",
    "    \n",
    "    # ml.update('1to9w5', 'none', pi_steps_y=[775], pi_steps_plane=plane_no) \n",
    "    # ml.update('1to9w5', 'none', pi_steps_y=[748], pi_steps_plane=plane_no) \n",
    "    ml.update('1to9w5', 'none', pi_steps_y=[803], pi_steps_plane=plane_no) \n",
    "    # ml.update('1to9w5', 'none', pi_steps_y=[722], pi_steps_plane=plane_no) \n",
    "    print((803+722)/2)\n",
    "    print((775+748)/2)\n",
    "\n",
    "elif plane_no == 10:\n",
    "    # ml.update('1to10w4', 'none', pi_steps_x=[122], pi_steps_plane=plane_no)\n",
    "    # ml.update('1to10w4', 'none', pi_steps_y=[788], pi_steps_plane=plane_no)\n",
    "    ml.update('1to10w4', 'none', pi_steps_y=[736], pi_steps_plane=plane_no)\n",
    "    print((788.5+736)/2)"
   ],
   "id": "444dcf040bab0afc",
   "outputs": [
    {
     "name": "stdout",
     "output_type": "stream",
     "text": [
      "762.25\n"
     ]
    }
   ],
   "execution_count": 689
  },
  {
   "metadata": {
    "ExecuteTime": {
     "end_time": "2024-10-28T08:56:24.084015Z",
     "start_time": "2024-10-28T08:56:21.935615Z"
    }
   },
   "cell_type": "code",
   "source": [
    "# Try to remove most modes for plane 2 - does not really help. maaybe come back to this in the future \n",
    "masks = np.zeros((10, 360, 140)).astype(complex)\n",
    "modes_to_keep = np.array([16, 11, 6, 31, 36, 41])\n",
    "masks = remove_input_modes(masks, modes_to_keep=modes_to_keep)\n",
    "# mimshow(np.angle(masks[0]))\n",
    "from pianoq.lab.mplc.consts import MASK_CENTERS\n",
    "sl = mask_centers_to_mask_slices(MASK_CENTERS)[0]\n",
    "ml.final_img[sl] += np.angle(masks[0])\n",
    "ml.mplc.load_slm_mask(ml.final_img, add_correction=True)"
   ],
   "id": "d4e4f7f3c28d7da8",
   "outputs": [],
   "execution_count": 114
  },
  {
   "metadata": {},
   "cell_type": "markdown",
   "source": [
    "# Look at some transformation\n",
    "before and after the alignment and see whether it helped"
   ],
   "id": "32303d301bea00cc"
  },
  {
   "metadata": {
    "ExecuteTime": {
     "end_time": "2024-10-28T11:12:07.338494Z",
     "start_time": "2024-10-28T11:12:00.732171Z"
    }
   },
   "cell_type": "code",
   "source": [
    "mplc = MPLCDevice(mask_centers=list(zip(CENTERS_X, CENTERS_Y)))\n",
    "modes_to_keep = np.array([3, 8, 13, 18, 23, 28, 33, 38, 43, 48])\n",
    "masks_path = r\"G:\\My Drive\\Projects\\MPLC\\results\\lab\\2024_09_10_fixing_phases_different_Us\\U0U_2024_09_10_13_57_31.masks\"\n",
    "phases_path = r\"G:\\My Drive\\Projects\\MPLC\\results\\lab\\2024_09_10_fixing_phases_different_Us\\U0U_2024_09_10_22_47_58.phases\"\n",
    "masks = get_good_masks(masks_path=masks_path, modes_to_keep=modes_to_keep, phases_path=phases_path)\n",
    "mplc.load_masks(masks)"
   ],
   "id": "1bfb0b6f9ec485a9",
   "outputs": [],
   "execution_count": 691
  },
  {
   "metadata": {
    "ExecuteTime": {
     "end_time": "2024-10-28T06:59:41.167856Z",
     "start_time": "2024-10-28T06:59:41.079502Z"
    }
   },
   "cell_type": "code",
   "source": "mplc.restore_location()",
   "id": "ae92018d1ca887c",
   "outputs": [],
   "execution_count": 4
  },
  {
   "metadata": {
    "ExecuteTime": {
     "end_time": "2024-10-28T11:12:44.972891Z",
     "start_time": "2024-10-28T11:12:40.939303Z"
    }
   },
   "cell_type": "code",
   "source": [
    "cam = PCOCamera()\n",
    "cam.set_exposure_time(5)"
   ],
   "id": "c826c5d630e532fb",
   "outputs": [],
   "execution_count": 692
  },
  {
   "metadata": {
    "ExecuteTime": {
     "end_time": "2024-10-28T11:12:59.542765Z",
     "start_time": "2024-10-28T11:12:49.080057Z"
    }
   },
   "cell_type": "code",
   "source": [
    "# from transformation\n",
    "roi = (600, 200, 1300, 1300)\n",
    "cam.save_image(rf'{dir_path}\\0U0_before_alignment.fits', roi=roi)\n",
    "# cam.save_image(rf'{dir_path}\\0U0_after_alignment.fits', roi=(600, 200, 1300, 1300))"
   ],
   "id": "668876cc2ec2afac",
   "outputs": [],
   "execution_count": 693
  },
  {
   "metadata": {
    "ExecuteTime": {
     "end_time": "2024-10-28T07:08:08.940471Z",
     "start_time": "2024-10-28T07:08:08.830467Z"
    }
   },
   "cell_type": "code",
   "source": "cam.close()",
   "id": "fce449f8276ee764",
   "outputs": [],
   "execution_count": 13
  }
 ],
 "metadata": {
  "kernelspec": {
   "display_name": "Python 3",
   "language": "python",
   "name": "python3"
  },
  "language_info": {
   "codemirror_mode": {
    "name": "ipython",
    "version": 2
   },
   "file_extension": ".py",
   "mimetype": "text/x-python",
   "name": "python",
   "nbconvert_exporter": "python",
   "pygments_lexer": "ipython2",
   "version": "2.7.6"
  }
 },
 "nbformat": 4,
 "nbformat_minor": 5
}
