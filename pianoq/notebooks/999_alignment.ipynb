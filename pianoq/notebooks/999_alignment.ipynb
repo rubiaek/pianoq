{
 "cells": [
  {
   "metadata": {
    "ExecuteTime": {
     "end_time": "2025-01-28T14:11:38.293592Z",
     "start_time": "2025-01-28T14:11:33.636150Z"
    }
   },
   "cell_type": "code",
   "source": [
    "from pianoq.misc.mplc_writeup_imports import * \n",
    "from pianoq.misc.mplc_lab_imports import * \n",
    "\n",
    "dir_path = r'G:\\My Drive\\Projects\\MPLC\\results\\lab\\Alignments'\n",
    "if not os.path.exists(dir_path):\n",
    "    os.mkdir(dir_path)"
   ],
   "id": "61231a1ec54ebe24",
   "outputs": [],
   "execution_count": 1
  },
  {
   "metadata": {},
   "cell_type": "markdown",
   "source": "# Align",
   "id": "41b21b2e7b050274"
  },
  {
   "metadata": {
    "ExecuteTime": {
     "start_time": "2025-01-28T14:09:13.128133Z"
    }
   },
   "cell_type": "code",
   "source": "ml = MPLCAligner(use_cam=False)",
   "id": "da41f8627cc4ad19",
   "outputs": [],
   "execution_count": null
  },
  {
   "metadata": {
    "ExecuteTime": {
     "end_time": "2025-01-28T14:09:15.329060100Z",
     "start_time": "2025-01-27T12:50:27.864726Z"
    }
   },
   "cell_type": "code",
   "source": [
    "CENTERS_X = [132, 386, 639, 891, 1143,  1143, 890, 639, 386, 132]  #\n",
    "CENTERS_Y = [279, 278, 276, 272, 268,   765, 768, 771, 774, 775]  # 17.7.24 with ronen fix retro X & Y\n",
    "\n",
    "CENTERS_X = [132, 386, 638, 890, 1141,   1140, 885, 632, 379, 122]  #\n",
    "CENTERS_Y = [279, 278, 277, 274, 271,    758, 760, 762, 762, 762]  # 28.10.24 for HG \n",
    "#             1    2    3    4    5        6    7    8    9    10\n",
    "CENTERS_X = [132, 386, 638, 889, 1140,   1137, 883, 630, 378, 115]  #\n",
    "CENTERS_Y = [279, 278, 278, 275, 272,    756, 759, 759, 763, 757]  # 27.01.25 for D mirror \n",
    "\n",
    "ml.centers_x = CENTERS_X\n",
    "ml.centers_y = CENTERS_Y\n",
    "plane_no = 10\n",
    "\n",
    "if plane_no == 1:\n",
    "    ml.update('1to5w4f', '5to11w8', pi_steps_x=[132], pi_steps_plane=plane_no)\n",
    "    # ml.update('1to5w4f', '5to11w8', pi_steps_y=[290], pi_steps_plane=plane_no) # \n",
    "    # ml.update('1to5w4f', '5to11w8', pi_steps_y=[267], pi_steps_plane=plane_no) # 267-268\n",
    "    print((291+267)/2)\n",
    "    \n",
    "elif plane_no == 2:\n",
    "    # ml.update('1to2w1', '2to10w6', pi_steps_x=[386], pi_steps_plane=plane_no)\n",
    "    ml.update('1to2w1', '2to10w6', pi_steps_y=[278], pi_steps_plane=plane_no)     \n",
    "\n",
    "elif plane_no == 3:\n",
    "    # ml.update('1to3w2', '3to11w5and9', pi_steps_x=[638], pi_steps_plane=plane_no)\n",
    "    # ml.update('1to3w2', '3to11w5and9', pi_steps_y=[289], pi_steps_plane=plane_no)\n",
    "    ml.update('1to3w2', '3to11w5and9', pi_steps_y=[267], pi_steps_plane=plane_no)\n",
    "    print((288.7+267)/2)\n",
    "\n",
    "elif plane_no == 4:\n",
    "    # ml.update('1to4w3', '4to10w7', pi_steps_x=[889], pi_steps_plane=plane_no)\n",
    "    # ml.update('1to4w3', '4to10w8', pi_steps_x=[889], pi_steps_plane=plane_no) # pretty bad \n",
    "    # ml.update('1to4w2', '4to10w7', pi_steps_x=[889], pi_steps_plane=plane_no)\n",
    "    # ml.update('1to4w2', '4to10w8', pi_steps_x=[889], pi_steps_plane=plane_no)\n",
    "    \n",
    "    # ml.update('1to4w3', '4to10w7', pi_steps_y=[282], pi_steps_plane=plane_no)\n",
    "    ml.update('1to4w3', '4to10w7', pi_steps_y=[271], pi_steps_plane=plane_no)\n",
    "    # ml.update('1to4w2', '4to10w7', pi_steps_y=[253], pi_steps_plane=plane_no)\n",
    "    # ml.update('1to4w2', '4to10w7', pi_steps_y=[295], pi_steps_plane=plane_no)\n",
    "    \n",
    "    # ml.update('1to3w2', '3to11w5and9', pi_steps_y=[266], pi_steps_plane=plane_no)\n",
    "    print((282+270.5)/2)\n",
    "    print((253+295)/2)\n",
    "\n",
    "elif plane_no == 5:\n",
    "    # ml.update('1to5w4f', '5to11w8', pi_steps_x=[1140], pi_steps_plane=plane_no)\n",
    "    ml.update('1to5w4f', '5to11w8', pi_steps_y=[284], pi_steps_plane=plane_no)\n",
    "    # ml.update('1to5w4f', '5to11w8', pi_steps_y=[261], pi_steps_plane=plane_no)\n",
    "    print((284+260.7)/2)\n",
    "    \n",
    "elif plane_no == 6:\n",
    "    # ml.update('1to6w4', '6to10w4f', pi_steps_x=[1137], pi_steps_plane=plane_no)\n",
    "    # ml.update('1to6w4', '6to10w4f', pi_steps_y=[766], pi_steps_plane=plane_no)\n",
    "    ml.update('1to6w4', '6to10w4f', pi_steps_y=[746], pi_steps_plane=plane_no)\n",
    "    print((766+745.7)/2)\n",
    "    \n",
    "elif plane_no == 7:\n",
    "    # ml.update('1to7w4', '7to11w9', pi_steps_x=[883], pi_steps_plane=plane_no) # 885.5 \n",
    "    # ml.update('1to7w5', '7to11w9', pi_steps_x=[883], pi_steps_plane=plane_no)  \n",
    "    # ml.update('1to7w4', '7to11w9', pi_steps_y=[772], pi_steps_plane=plane_no)  \n",
    "    # ml.update('1to7w4', '7to11w9', pi_steps_y=[745], pi_steps_plane=plane_no)  \n",
    "    # ml.update('1to7w5', '7to11w9', pi_steps_y=[766], pi_steps_plane=plane_no)  \n",
    "    ml.update('1to7w5', '7to11w9', pi_steps_y=[752], pi_steps_plane=plane_no)  \n",
    "    print((772+745.2)/2)\n",
    "    print((766+751.5)/2)\n",
    "    \n",
    "elif plane_no == 8:\n",
    "    # ml.update('1to8w5', '8to10w9', pi_steps_x=[630], pi_steps_plane=plane_no)  # 632.5\n",
    "    # ml.update('1to8w4', '8to10w9', pi_steps_x=[629], pi_steps_plane=plane_no)\n",
    "    \n",
    "    # ml.update('1to8w4', '8to10w9', pi_steps_y=[776], pi_steps_plane=plane_no)\n",
    "    # ml.update('1to8w4', '8to10w9', pi_steps_y=[741], pi_steps_plane=plane_no)\n",
    "    \n",
    "    # ml.update('1to8w5', '8to10w9', pi_steps_y=[750], pi_steps_plane=plane_no)\n",
    "    ml.update('1to8w5', '8to10w9', pi_steps_y=[771], pi_steps_plane=plane_no)\n",
    "    print((775.5+741)/2)\n",
    "    print((750+770.5)/2)\n",
    "    \n",
    "elif plane_no == 9:\n",
    "    # ml.update('1to9w5', 'none', pi_steps_x=[378], pi_steps_plane=plane_no) \n",
    "    # ml.update('1to9w5', 'none', pi_steps_x=[405], pi_steps_plane=plane_no) \n",
    "    # ml.update('1to9w5', 'none', pi_steps_x=[352], pi_steps_plane=plane_no) \n",
    "    # print((405+352)/2)\n",
    "    # ml.update('1to9w4f15and4f59', 'none', pi_steps_x=[378], pi_steps_plane=plane_no) \n",
    "    \n",
    "    # ml.update('1to9w5', 'none', pi_steps_y=[775], pi_steps_plane=plane_no) \n",
    "    # ml.update('1to9w5', 'none', pi_steps_y=[749], pi_steps_plane=plane_no) \n",
    "    # ml.update('1to9w5', 'none', pi_steps_y=[804], pi_steps_plane=plane_no) \n",
    "    ml.update('1to9w5', 'none', pi_steps_y=[723], pi_steps_plane=plane_no) \n",
    "    print((804+722)/2)\n",
    "    print((775+749)/2)\n",
    "\n",
    "elif plane_no == 10:\n",
    "    # ml.update('1to10w4', 'none', pi_steps_x=[115], pi_steps_plane=plane_no)\n",
    "    # ml.update('1to10w4', 'none', pi_steps_y=[782], pi_steps_plane=plane_no)\n",
    "    ml.update('1to10w4', 'none', pi_steps_y=[732], pi_steps_plane=plane_no)\n",
    "    print((782+732)/2)"
   ],
   "id": "444dcf040bab0afc",
   "outputs": [
    {
     "name": "stdout",
     "output_type": "stream",
     "text": [
      "757.0\n"
     ]
    }
   ],
   "execution_count": 631
  },
  {
   "metadata": {
    "ExecuteTime": {
     "end_time": "2025-01-28T14:09:15.330084600Z",
     "start_time": "2025-01-27T12:51:19.215489Z"
    }
   },
   "cell_type": "code",
   "source": "ml.mplc.close()",
   "id": "9c1c041971ecbe39",
   "outputs": [],
   "execution_count": 633
  },
  {
   "metadata": {
    "ExecuteTime": {
     "end_time": "2025-01-28T14:09:15.330084600Z",
     "start_time": "2024-10-28T08:56:21.935615Z"
    }
   },
   "cell_type": "code",
   "source": [
    "# Try to remove most modes for plane 2 - does not really help. maaybe come back to this in the future \n",
    "masks = np.zeros((10, 360, 140)).astype(complex)\n",
    "modes_to_keep = np.array([16, 11, 6, 31, 36, 41])\n",
    "masks = remove_input_modes(masks, modes_to_keep=modes_to_keep)\n",
    "# mimshow(np.angle(masks[0]))\n",
    "from pianoq.lab.mplc.consts import MASK_CENTERS\n",
    "sl = mask_centers_to_mask_slices(MASK_CENTERS)[0]\n",
    "ml.final_img[sl] += np.angle(masks[0])\n",
    "ml.mplc.load_slm_mask(ml.final_img, add_correction=True)"
   ],
   "id": "d4e4f7f3c28d7da8",
   "outputs": [],
   "execution_count": 114
  },
  {
   "metadata": {},
   "cell_type": "markdown",
   "source": [
    "# Look at some transformation\n",
    "before and after the alignment and see whether it helped"
   ],
   "id": "32303d301bea00cc"
  },
  {
   "metadata": {
    "ExecuteTime": {
     "end_time": "2025-01-28T14:09:15.331084400Z",
     "start_time": "2025-01-28T13:30:20.743891Z"
    }
   },
   "cell_type": "code",
   "source": [
    "modes_to_keep = np.array([3, 8, 13, 18, 23, 28, 33, 38, 43, 48])\n",
    "masks_path = r\"G:\\My Drive\\Projects\\MPLC\\results\\lab\\2024_09_10_fixing_phases_different_Us\\U0U_2024_09_10_13_57_31.masks\"\n",
    "phases_path = r\"G:\\My Drive\\Projects\\MPLC\\results\\lab\\2024_09_10_fixing_phases_different_Us\\U0U_2024_09_10_22_47_58.phases\"\n",
    "masks = get_good_masks(masks_path=masks_path, modes_to_keep=modes_to_keep, phases_path=phases_path)"
   ],
   "id": "68938fe0f4a1f5e7",
   "outputs": [],
   "execution_count": 2
  },
  {
   "metadata": {
    "ExecuteTime": {
     "end_time": "2025-01-28T14:09:15.331084400Z",
     "start_time": "2025-01-28T13:31:18.788661Z"
    }
   },
   "cell_type": "code",
   "source": [
    "CENTERS_X = [132, 386, 638, 890, 1141,   1140, 885, 632, 379, 122]  #\n",
    "CENTERS_Y = [279, 278, 277, 274, 271,    758, 760, 762, 762, 762]  # 28.10.24 for HG \n",
    "#             1    2    3    4    5        6    7    8    9    10\n",
    "# CENTERS_X = [132, 386, 638, 889, 1140,   1137, 883, 630, 378, 115]  #\n",
    "# CENTERS_Y = [279, 278, 278, 275, 272,    756, 759, 759, 763, 757]  # 27.01.25 for D mirror\n",
    "\n",
    "# CENTERS_X = [132, 386, 638, 889, 1141,   1139, 885, 632, 380, 121]  #\n",
    "# CENTERS_X = [131, 386, 639, 891, 1142, 1140, 887, 633, 379, 121]\n",
    "\n",
    "mplc = MPLCDevice(mask_centers=list(zip(CENTERS_X, CENTERS_Y)))\n",
    "mplc.load_masks(masks)\n",
    "mplc.restore_location()"
   ],
   "id": "1bfb0b6f9ec485a9",
   "outputs": [],
   "execution_count": 8
  },
  {
   "metadata": {
    "ExecuteTime": {
     "end_time": "2025-01-28T14:09:15.331084400Z",
     "start_time": "2025-01-27T12:51:32.064777Z"
    }
   },
   "cell_type": "code",
   "source": "mplc.restore_location()",
   "id": "ae92018d1ca887c",
   "outputs": [],
   "execution_count": 635
  },
  {
   "metadata": {
    "ExecuteTime": {
     "end_time": "2025-01-28T14:09:15.331084400Z",
     "start_time": "2025-01-27T11:44:01.538857Z"
    }
   },
   "cell_type": "code",
   "source": "mplc.close()",
   "id": "787620a5257a2525",
   "outputs": [],
   "execution_count": 16
  },
  {
   "metadata": {
    "ExecuteTime": {
     "end_time": "2025-01-28T14:25:12.530078Z",
     "start_time": "2025-01-28T14:25:07.251527Z"
    }
   },
   "cell_type": "code",
   "source": [
    "from pianoq.lab.pco_camera import PCOCamera\n",
    "cam = PCOCamera()\n",
    "cam.set_exposure_time(2)"
   ],
   "id": "c826c5d630e532fb",
   "outputs": [],
   "execution_count": 2
  },
  {
   "metadata": {
    "ExecuteTime": {
     "end_time": "2025-01-28T14:25:41.530405Z",
     "start_time": "2025-01-28T14:25:36.898829Z"
    }
   },
   "cell_type": "code",
   "source": [
    "# from transformation\n",
    "cam.set_exposure_time(2)\n",
    "roi = (800, 300, 1100, 900)\n",
    "cam.show_image(roi=roi)\n",
    "# cam.save_image(rf'{dir_path}\\0U0_before_alignment.fits', roi=roi)\n",
    "# cam.save_image(rf'{dir_path}\\0U0_after_alignment.fits', roi=(600, 200, 1300, 1300))"
   ],
   "id": "668876cc2ec2afac",
   "outputs": [
    {
     "data": {
      "text/plain": [
       "(<Figure size 640x480 with 2 Axes>, <Axes: >)"
      ]
     },
     "execution_count": 4,
     "metadata": {},
     "output_type": "execute_result"
    }
   ],
   "execution_count": 4
  },
  {
   "metadata": {
    "ExecuteTime": {
     "end_time": "2025-01-28T14:25:46.535532Z",
     "start_time": "2025-01-28T14:25:46.435767Z"
    }
   },
   "cell_type": "code",
   "source": "cam.close()",
   "id": "fce449f8276ee764",
   "outputs": [],
   "execution_count": 5
  },
  {
   "metadata": {},
   "cell_type": "markdown",
   "source": "# Brute force optimization",
   "id": "8c4bf9a6872c4ab"
  },
  {
   "metadata": {
    "ExecuteTime": {
     "end_time": "2025-01-28T14:29:28.823014Z",
     "start_time": "2025-01-28T14:29:22.608020Z"
    }
   },
   "cell_type": "code",
   "source": [
    "dir_path = r'G:\\My Drive\\Projects\\MPLC\\results\\lab\\Alignments'\n",
    "import os \n",
    "from pianoq.lab.mplc.aligner_optimizer import optimize, cost_function, MASKS\n",
    "from pianoq.lab.mplc.mplc_device import MPLCDevice\n",
    "from pianoq.misc.mplc_writeup_imports import tnow\n",
    "import time \n",
    "CENTERS_X = [132, 386, 638, 890, 1141,   1140, 885, 632, 379, 122]  # 28.10.24 for HG\n",
    "CENTERS_Y = [279, 278, 277, 274, 271,    758, 760, 762, 762, 762]  # 28.10.24 for HG\n",
    "# CENTERS_X = [131, 386, 639, 891, 1142, 1140, 887, 633, 379, 121]  # after a bit of hill climbing \n",
    "\n",
    "# This will hopefully help with the restore location to work \n",
    "mplc = MPLCDevice(mask_centers=list(zip(CENTERS_X, CENTERS_Y)))\n",
    "mplc.load_masks(MASKS)\n",
    "time.sleep(0.2)\n",
    "mplc.restore_location()\n",
    "time.sleep(0.2)\n",
    "mplc.restore_location()\n",
    "roi = (800, 300, 1100, 900)\n",
    "dir_path2 = os.path.join(dir_path, tnow())\n",
    "os.mkdir(dir_path2)"
   ],
   "id": "608e046f1f38bddb",
   "outputs": [],
   "execution_count": 1
  },
  {
   "metadata": {
    "jupyter": {
     "is_executing": true
    },
    "ExecuteTime": {
     "start_time": "2025-01-28T14:29:53.144037Z"
    }
   },
   "cell_type": "code",
   "source": "optimize([CENTERS_X, CENTERS_Y], optimize_x=True, step_range=3, exp_time=5, roi=roi, dir_path=dir_path2)",
   "id": "aff40b5db1fb3335",
   "outputs": [],
   "execution_count": null
  },
  {
   "metadata": {},
   "cell_type": "code",
   "outputs": [],
   "execution_count": null,
   "source": [
    "x_centerss = [\n",
    "[132, 386, 638, 890, 1141,   1140, 885, 632, 379, 122],\n",
    "[131, 386, 638, 890, 1141, 1140, 885, 632, 379, 122],\n",
    "[131, 386, 639, 890, 1141, 1140, 885, 632, 379, 122],\n",
    "[131, 386, 639, 890, 1141, 1140, 886, 632, 379, 122],\n",
    "[131, 386, 639, 890, 1141, 1140, 887, 632, 379, 122],\n",
    "[131, 386, 639, 890, 1141, 1140, 887, 633, 379, 122],\n",
    "[131, 386, 639, 890, 1141, 1140, 887, 633, 379, 121],\n",
    "[131, 386, 639, 890, 1141, 1140, 887, 633, 379, 121],\n",
    "[131, 386, 639, 890, 1141, 1140, 887, 633, 379, 121],\n",
    "[131, 386, 639, 890, 1141, 1140, 887, 633, 379, 121],\n",
    "[131, 386, 639, 891, 1141, 1140, 887, 633, 379, 121],\n",
    "[131, 386, 639, 891, 1142, 1140, 887, 633, 379, 121],\n",
    "[131, 386, 639, 891, 1142, 1140, 887, 633, 379, 121]]\n",
    "\n",
    "for x_centers in x_centerss[::3]:\n",
    "    print(x_centers)\n",
    "    cost_fx(centers_x=x_centers)\n",
    "\n",
    "costs = [70817.0840318899, \n",
    "70432.10115056508,\n",
    "70066.25421994511,\n",
    "69656.7535585783, \n",
    "69306.65625391928,\n",
    "68866.1293949037, \n",
    "68518.97455067375,\n",
    "67704.88640164964,\n",
    "67019.51653873669,\n",
    "66454.8319745985, \n",
    "65397.47120828771,\n",
    "64696.03294627342]"
   ],
   "id": "81d820fcf35db1f1"
  }
 ],
 "metadata": {
  "kernelspec": {
   "display_name": "Python 3",
   "language": "python",
   "name": "python3"
  },
  "language_info": {
   "codemirror_mode": {
    "name": "ipython",
    "version": 2
   },
   "file_extension": ".py",
   "mimetype": "text/x-python",
   "name": "python",
   "nbconvert_exporter": "python",
   "pygments_lexer": "ipython2",
   "version": "2.7.6"
  }
 },
 "nbformat": 4,
 "nbformat_minor": 5
}
