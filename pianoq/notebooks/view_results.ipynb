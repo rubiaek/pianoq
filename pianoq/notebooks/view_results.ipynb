{
 "cells": [
  {
   "cell_type": "code",
   "id": "initial_id",
   "metadata": {
    "collapsed": true,
    "ExecuteTime": {
     "end_time": "2024-09-08T12:51:03.575290Z",
     "start_time": "2024-09-08T12:51:03.200014Z"
    }
   },
   "source": [
    "from lab.mplc.experiments.mplc_qkd_random_phases import modes_to_keep\n",
    "from pianoq_results.scan_result import ScanResult\n",
    "res_sig = ScanResult()\n",
    "res_idl = ScanResult()\n",
    "# path = r\"G:\\My Drive\\Projects\\MPLC\\results\\lab\\2024_09_05_QKD_random_phases\\2024_09_08_14_57_00_QKD_MUB2_signal_res_4.scan\"\n",
    "# path = r\"G:\\My Drive\\Projects\\MPLC\\results\\lab\\2024_09_05_QKD_random_phases\\2024_09_08_14_46_42_QKD_MUB2_idler_res_4.scan\"\n",
    "\n",
    "path_idl = r\"G:\\My Drive\\Projects\\MPLC\\results\\lab\\2024_09_05_QKD_random_phases\\2024_09_08_15_21_56_QKD_MUB2_idler_res_1.scan\"\n",
    "path_sig = r\"G:\\My Drive\\Projects\\MPLC\\results\\lab\\2024_09_05_QKD_random_phases\\2024_09_08_15_21_56_QKD_MUB2_signal_res_1.scan\"\n",
    "res_idl.loadfrom(path_idl)\n",
    "res_sig.loadfrom(path_sig)\n",
    "res_idl.show_singles()\n",
    "res_sig.show_singles()"
   ],
   "outputs": [],
   "execution_count": 10
  },
  {
   "metadata": {
    "ExecuteTime": {
     "end_time": "2024-09-08T12:40:28.651876Z",
     "start_time": "2024-09-08T12:40:26.289825Z"
    }
   },
   "cell_type": "code",
   "source": [
    "res_sig.get_xys(2, saveto_dir=\"C:\\\\temp\")\n",
    "res_idl.get_xys(1, saveto_dir=dir)"
   ],
   "id": "8a8d68b0866547b7",
   "outputs": [
    {
     "name": "stdout",
     "output_type": "stream",
     "text": [
      "Saved to C:\\temp\\2024_09_08_15_40_28_s2_sig.locs\n"
     ]
    },
    {
     "data": {
      "text/plain": [
       "[(9.136174242424243, 1.5737554112554113),\n",
       " (9.188528138528138, 1.7482683982683984),\n",
       " (9.15944264069264, 1.9053300865800866),\n",
       " (9.16525974025974, 2.0682088744588745),\n",
       " (9.066369047619048, 2.2369047619047624)]"
      ]
     },
     "execution_count": 9,
     "metadata": {},
     "output_type": "execute_result"
    }
   ],
   "execution_count": 9
  },
  {
   "metadata": {
    "ExecuteTime": {
     "end_time": "2024-09-09T08:49:23.875222Z",
     "start_time": "2024-09-09T08:49:23.543109Z"
    }
   },
   "cell_type": "code",
   "source": [
    "path = r\"G:\\My Drive\\Projects\\MPLC\\results\\lab\\2024_09_05_QKD_random_phases\\2024_09_09_10_30_23_QKD_MUB2_good_exp_4s.scan\"\n",
    "from pianoq.lab.mplc.discrete_scan_result import DiscreetScanResult\n",
    "r = DiscreetScanResult()\n",
    "r.loadfrom(path)\n",
    "r.show_singles()\n",
    "r.show(False)"
   ],
   "id": "49aa67da2980a065",
   "outputs": [],
   "execution_count": 4
  },
  {
   "metadata": {
    "ExecuteTime": {
     "end_time": "2024-09-09T12:15:00.554343Z",
     "start_time": "2024-09-09T12:15:00.368527Z"
    }
   },
   "cell_type": "code",
   "source": [
    "import numpy as np \n",
    "import matplotlib.pyplot as plt\n",
    "from pianoq.lab.mplc.phase_finder_result import PhaseFinderResult\n",
    "r1 = PhaseFinderResult()\n",
    "r2 = PhaseFinderResult()\n",
    "r1.loadfrom(r\"G:\\My Drive\\Projects\\MPLC\\results\\lab\\2024_09_05_QKD_random_phases\\2024_09_09_09_25_32_QKD_MUB2_signal.phases\")\n",
    "r2.loadfrom(r\"G:\\My Drive\\Projects\\MPLC\\results\\lab\\2024_09_09_QKD_random_phases\\2024_09_09_13_44_45_QKD_MUB2_signal.phases\")\n",
    "modes_to_keep = np.array([3, 8, 13, 18, 23, 28, 33, 38, 43, 48]) - 1\n",
    "display(r1.phases[modes_to_keep])\n",
    "display(r2.phases[modes_to_keep])\n",
    "\n",
    "fig, ax = plt.subplots()\n",
    "ax.plot(r1.phases[modes_to_keep], label=\"old\")\n",
    "ax.plot(r2.phases[modes_to_keep], label=\"new\")\n",
    "fig.legend()"
   ],
   "id": "d7605b0cb47f987c",
   "outputs": [
    {
     "data": {
      "text/plain": [
       "array([5.27195142, 1.06204488, 1.0662511 , 0.64159401, 5.81194364,\n",
       "       0.39239066, 0.3575338 , 6.27549975, 0.07658275, 0.01601564])"
      ]
     },
     "metadata": {},
     "output_type": "display_data"
    },
    {
     "data": {
      "text/plain": [
       "array([5.32763157, 1.13888194, 1.16319575, 0.62473823, 5.20208745,\n",
       "       0.13364829, 6.19309335, 6.15554079, 0.27453943, 6.017723  ])"
      ]
     },
     "metadata": {},
     "output_type": "display_data"
    },
    {
     "data": {
      "text/plain": [
       "<matplotlib.legend.Legend at 0x2a7d92e9cd0>"
      ]
     },
     "execution_count": 12,
     "metadata": {},
     "output_type": "execute_result"
    }
   ],
   "execution_count": 12
  },
  {
   "metadata": {},
   "cell_type": "code",
   "outputs": [],
   "execution_count": null,
   "source": "",
   "id": "6ce9eb670e191bbb"
  },
  {
   "metadata": {
    "ExecuteTime": {
     "end_time": "2024-09-09T12:19:22.686180Z",
     "start_time": "2024-09-09T12:19:22.615599Z"
    }
   },
   "cell_type": "code",
   "source": [
    "import numpy as np \n",
    "phases = np.random.uniform(0, 2*np.pi, 50)\n",
    "np.savez(\"C:\\\\temp\\\\randz\", phase=phases)"
   ],
   "id": "a95ecfe70c51463",
   "outputs": [],
   "execution_count": 14
  },
  {
   "metadata": {
    "ExecuteTime": {
     "end_time": "2024-09-09T12:19:55.231324Z",
     "start_time": "2024-09-09T12:19:55.159516Z"
    }
   },
   "cell_type": "code",
   "source": [
    "data = np.load(\"C:\\\\temp\\\\randz.npz\")\n",
    "data['phase']"
   ],
   "id": "b9d93eb351cc2ba5",
   "outputs": [
    {
     "data": {
      "text/plain": [
       "array([1.74408845, 4.17655184, 6.05893926, 3.49041986, 0.51201175,\n",
       "       5.5431441 , 5.92206268, 1.46085017, 4.0556407 , 0.35037056,\n",
       "       3.4720358 , 5.63839309, 4.56287119, 0.46784062, 1.98377082,\n",
       "       4.51661892, 5.10135942, 2.85948033, 4.43783755, 1.85034968,\n",
       "       1.03792575, 4.50344636, 0.90307841, 0.39719016, 1.47016574,\n",
       "       5.861324  , 1.36481104, 2.16035748, 3.68896957, 1.80510922,\n",
       "       0.27587982, 4.25529694, 0.51954454, 5.16685521, 1.65771565,\n",
       "       1.0616433 , 2.96375486, 1.25681191, 1.86062247, 6.15030239,\n",
       "       4.53452487, 5.04496446, 1.78434155, 3.0143077 , 0.68656479,\n",
       "       5.91907458, 3.90721865, 0.16347958, 5.77870828, 0.99901459])"
      ]
     },
     "execution_count": 17,
     "metadata": {},
     "output_type": "execute_result"
    }
   ],
   "execution_count": 17
  }
 ],
 "metadata": {
  "kernelspec": {
   "display_name": "Python 3",
   "language": "python",
   "name": "python3"
  },
  "language_info": {
   "codemirror_mode": {
    "name": "ipython",
    "version": 2
   },
   "file_extension": ".py",
   "mimetype": "text/x-python",
   "name": "python",
   "nbconvert_exporter": "python",
   "pygments_lexer": "ipython2",
   "version": "2.7.6"
  }
 },
 "nbformat": 4,
 "nbformat_minor": 5
}
