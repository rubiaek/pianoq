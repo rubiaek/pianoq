{
 "cells": [
  {
   "cell_type": "code",
   "id": "initial_id",
   "metadata": {
    "collapsed": true,
    "ExecuteTime": {
     "end_time": "2024-09-08T12:51:03.575290Z",
     "start_time": "2024-09-08T12:51:03.200014Z"
    }
   },
   "source": [
    "from lab.mplc.experiments.mplc_qkd_random_phases import modes_to_keep\n",
    "from pianoq_results.scan_result import ScanResult\n",
    "res_sig = ScanResult()\n",
    "res_idl = ScanResult()\n",
    "# path = r\"G:\\My Drive\\Projects\\MPLC\\results\\lab\\2024_09_05_QKD_random_phases\\2024_09_08_14_57_00_QKD_MUB2_signal_res_4.scan\"\n",
    "# path = r\"G:\\My Drive\\Projects\\MPLC\\results\\lab\\2024_09_05_QKD_random_phases\\2024_09_08_14_46_42_QKD_MUB2_idler_res_4.scan\"\n",
    "\n",
    "path_idl = r\"G:\\My Drive\\Projects\\MPLC\\results\\lab\\2024_09_05_QKD_random_phases\\2024_09_08_15_21_56_QKD_MUB2_idler_res_1.scan\"\n",
    "path_sig = r\"G:\\My Drive\\Projects\\MPLC\\results\\lab\\2024_09_05_QKD_random_phases\\2024_09_08_15_21_56_QKD_MUB2_signal_res_1.scan\"\n",
    "res_idl.loadfrom(path_idl)\n",
    "res_sig.loadfrom(path_sig)\n",
    "res_idl.show_singles()\n",
    "res_sig.show_singles()"
   ],
   "outputs": [],
   "execution_count": 10
  },
  {
   "metadata": {
    "ExecuteTime": {
     "end_time": "2024-09-08T12:40:28.651876Z",
     "start_time": "2024-09-08T12:40:26.289825Z"
    }
   },
   "cell_type": "code",
   "source": [
    "res_sig.get_xys(2, saveto_dir=\"C:\\\\temp\")\n",
    "res_idl.get_xys(1, saveto_dir=dir)"
   ],
   "id": "8a8d68b0866547b7",
   "outputs": [
    {
     "name": "stdout",
     "output_type": "stream",
     "text": [
      "Saved to C:\\temp\\2024_09_08_15_40_28_s2_sig.locs\n"
     ]
    },
    {
     "data": {
      "text/plain": [
       "[(9.136174242424243, 1.5737554112554113),\n",
       " (9.188528138528138, 1.7482683982683984),\n",
       " (9.15944264069264, 1.9053300865800866),\n",
       " (9.16525974025974, 2.0682088744588745),\n",
       " (9.066369047619048, 2.2369047619047624)]"
      ]
     },
     "execution_count": 9,
     "metadata": {},
     "output_type": "execute_result"
    }
   ],
   "execution_count": 9
  },
  {
   "metadata": {
    "ExecuteTime": {
     "end_time": "2024-09-09T08:49:23.875222Z",
     "start_time": "2024-09-09T08:49:23.543109Z"
    }
   },
   "cell_type": "code",
   "source": [
    "path = r\"G:\\My Drive\\Projects\\MPLC\\results\\lab\\2024_09_05_QKD_random_phases\\2024_09_09_10_30_23_QKD_MUB2_good_exp_4s.scan\"\n",
    "from pianoq.lab.mplc.discrete_scan_result import DiscreetScanResult\n",
    "r = DiscreetScanResult()\n",
    "r.loadfrom(path)\n",
    "r.show_singles()\n",
    "r.show(False)"
   ],
   "id": "49aa67da2980a065",
   "outputs": [],
   "execution_count": 4
  },
  {
   "metadata": {
    "ExecuteTime": {
     "end_time": "2024-09-30T10:42:24.460615Z",
     "start_time": "2024-09-30T10:41:46.386456Z"
    }
   },
   "cell_type": "code",
   "source": [
    "import numpy as np \n",
    "import matplotlib.pyplot as plt\n",
    "from pianoq.lab.mplc.phase_finder_result import PhaseFinderResult\n",
    "r1 = PhaseFinderResult()\n",
    "# r2 = PhaseFinderResult()\n",
    "r1.loadfrom(r\"G:\\My Drive\\Projects\\MPLC\\results\\lab\\2024_09_25_BS_to_mirror\\2024_09_30_12_53_59_new_mirror.phases\")\n",
    "# r1.loadfrom(r\"G:\\My Drive\\Projects\\MPLC\\results\\lab\\2024_09_05_QKD_random_phases\\2024_09_09_09_25_32_QKD_MUB2_signal.phases\")\n",
    "# r2.loadfrom(r\"G:\\My Drive\\Projects\\MPLC\\results\\lab\\2024_09_09_QKD_random_phases\\2024_09_09_13_44_45_QKD_MUB2_signal.phases\")\n",
    "# modes_to_keep = np.array([3, 8, 13, 18, 23, 28, 33, 38, 43, 48]) - 1\n",
    "# display(r1.phases[modes_to_keep])\n",
    "# display(r2.phases[modes_to_keep])\n",
    "\n",
    "# fig, ax = plt.subplots()\n",
    "# ax.plot(r1.phases[modes_to_keep], label=\"old\")\n",
    "# ax.plot(r2.phases[modes_to_keep], label=\"new\")\n",
    "# fig.legend()\n",
    "r1.plot_best_phases()"
   ],
   "id": "d7605b0cb47f987c",
   "outputs": [
    {
     "name": "stdout",
     "output_type": "stream",
     "text": [
      "3\n",
      "8\n",
      "13\n",
      "18\n",
      "23\n",
      "28\n",
      "33\n",
      "38\n",
      "43\n",
      "48\n"
     ]
    }
   ],
   "execution_count": 8
  },
  {
   "metadata": {},
   "cell_type": "code",
   "outputs": [],
   "execution_count": null,
   "source": "",
   "id": "6ce9eb670e191bbb"
  },
  {
   "metadata": {
    "ExecuteTime": {
     "end_time": "2024-09-09T12:19:22.686180Z",
     "start_time": "2024-09-09T12:19:22.615599Z"
    }
   },
   "cell_type": "code",
   "source": [
    "import numpy as np \n",
    "phases = np.random.uniform(0, 2*np.pi, 50)\n",
    "np.savez(\"C:\\\\temp\\\\randz\", phase=phases)"
   ],
   "id": "a95ecfe70c51463",
   "outputs": [],
   "execution_count": 14
  },
  {
   "metadata": {
    "ExecuteTime": {
     "end_time": "2024-09-09T12:19:55.231324Z",
     "start_time": "2024-09-09T12:19:55.159516Z"
    }
   },
   "cell_type": "code",
   "source": [
    "data = np.load(\"C:\\\\temp\\\\randz.npz\")\n",
    "data['phase']"
   ],
   "id": "b9d93eb351cc2ba5",
   "outputs": [
    {
     "data": {
      "text/plain": [
       "array([1.74408845, 4.17655184, 6.05893926, 3.49041986, 0.51201175,\n",
       "       5.5431441 , 5.92206268, 1.46085017, 4.0556407 , 0.35037056,\n",
       "       3.4720358 , 5.63839309, 4.56287119, 0.46784062, 1.98377082,\n",
       "       4.51661892, 5.10135942, 2.85948033, 4.43783755, 1.85034968,\n",
       "       1.03792575, 4.50344636, 0.90307841, 0.39719016, 1.47016574,\n",
       "       5.861324  , 1.36481104, 2.16035748, 3.68896957, 1.80510922,\n",
       "       0.27587982, 4.25529694, 0.51954454, 5.16685521, 1.65771565,\n",
       "       1.0616433 , 2.96375486, 1.25681191, 1.86062247, 6.15030239,\n",
       "       4.53452487, 5.04496446, 1.78434155, 3.0143077 , 0.68656479,\n",
       "       5.91907458, 3.90721865, 0.16347958, 5.77870828, 0.99901459])"
      ]
     },
     "execution_count": 17,
     "metadata": {},
     "output_type": "execute_result"
    }
   ],
   "execution_count": 17
  },
  {
   "metadata": {
    "ExecuteTime": {
     "end_time": "2024-10-07T08:07:30.120932Z",
     "start_time": "2024-10-07T08:06:43.690826Z"
    }
   },
   "cell_type": "code",
   "source": [
    "from pianoq.misc.mplc_writeup_imports import * \n",
    "sig = ScanResult(r\"G:\\My Drive\\Projects\\MPLC\\results\\lab\\2024_09_25_BS_to_mirror\\2024_10_07_10_12_23_signal_3_5_spots_fine.scan\")\n",
    "idl = ScanResult(r\"G:\\My Drive\\Projects\\MPLC\\results\\lab\\2024_09_25_BS_to_mirror\\2024_10_07_10_11_20_idler_3_5_spots_fine.scan\")\n",
    "\n",
    "# sig.show_singles(only=2)\n",
    "# idl.show_singles(only=1)\n",
    "sig.get_xys(2, saveto_path=r\"G:\\My Drive\\Projects\\MPLC\\results\\lab\\2024_09_25_BS_to_mirror\\fine_s2_sig_mirror_3_5_spots.locs\")\n",
    "idl.get_xys(1, saveto_path=r\"G:\\My Drive\\Projects\\MPLC\\results\\lab\\2024_09_25_BS_to_mirror\\fine_s1_idl_mirror_3_5_spots.locs\")"
   ],
   "id": "a0cd2b33cdc06134",
   "outputs": [
    {
     "name": "stdout",
     "output_type": "stream",
     "text": [
      "Saved to G:\\My Drive\\Projects\\MPLC\\results\\lab\\2024_09_25_BS_to_mirror\\fine_s2_sig_mirror_3_5_spots.locs\n",
      "Saved to G:\\My Drive\\Projects\\MPLC\\results\\lab\\2024_09_25_BS_to_mirror\\fine_s1_idl_mirror_3_5_spots.locs\n"
     ]
    },
    {
     "data": {
      "text/plain": [
       "[(9.371392280672406, 4.800243282476493),\n",
       " (9.344988142032758, 4.424492078758408),\n",
       " (9.32670835374377, 4.048740875040322),\n",
       " (9.277962251639803, 3.697362722374222),\n",
       " (9.22718506194817, 3.443476773916056)]"
      ]
     },
     "execution_count": 3,
     "metadata": {},
     "output_type": "execute_result"
    }
   ],
   "execution_count": 3
  },
  {
   "metadata": {},
   "cell_type": "markdown",
   "source": [
    "# Debug\n",
    "### why `detect_gaussian_spots_subpixel` doesn't work\n",
    "\n",
    "very silly indeed. I forgot to send `Y[::-1]`, because of course we assume Y is ascending, and that when we create a scan object we do `Y=Y[::-1]` for no good reason... "
   ],
   "id": "ecb3ba7e50e33ae1"
  },
  {
   "metadata": {
    "ExecuteTime": {
     "end_time": "2024-09-19T12:51:49.485831Z",
     "start_time": "2024-09-19T12:51:49.147848Z"
    }
   },
   "cell_type": "code",
   "source": [
    "import glob \n",
    "import datetime\n",
    "from pianoq.misc.misc import detect_gaussian_spots_subpixel\n",
    "dir_path = r'G:\\My Drive\\Projects\\MPLC\\results\\lab\\2024_09_19_filters_80nm'\n",
    "\n",
    "path_sig = glob.glob(fr'{dir_path}\\*signal_res_1_filter_80*.scan')[0]\n",
    "path_idl = glob.glob(fr'{dir_path}\\*idler_res_1_filter_80*.scan')[0]\n",
    "\n",
    "res_sig = ScanResult()\n",
    "res_idl = ScanResult()\n",
    "res_idl.loadfrom(path_idl)\n",
    "res_sig.loadfrom(path_sig)\n",
    "ax_idl = res_idl.show_singles(only=1)\n",
    "ax_sig = res_sig.show_singles(only=2)\n",
    "\n",
    "locs_idl = detect_gaussian_spots_subpixel(res_idl.single1s, res_idl.X, res_idl.Y[::-1], sort_top_to_bottom=True)\n",
    "locs_sig = detect_gaussian_spots_subpixel(res_sig.single2s, res_sig.X, res_sig.Y[::-1], sort_top_to_bottom=True)\n",
    "\n",
    "ax_idl.plot(locs_idl[:, 0], locs_idl[:, 1], '+', color='white')\n",
    "ax_sig.plot(locs_sig[:, 0], locs_sig[:, 1], '+', color='white')\n"
   ],
   "id": "19e4188d8e527f71",
   "outputs": [
    {
     "data": {
      "text/plain": [
       "[<matplotlib.lines.Line2D at 0x1f7075de500>]"
      ]
     },
     "execution_count": 26,
     "metadata": {},
     "output_type": "execute_result"
    }
   ],
   "execution_count": 26
  },
  {
   "metadata": {
    "ExecuteTime": {
     "end_time": "2024-09-19T12:49:55.296322Z",
     "start_time": "2024-09-19T12:49:55.020614Z"
    }
   },
   "cell_type": "code",
   "source": "res_sig.Y[:-1] > res_sig.Y[1:] \n",
   "id": "4d44979e60d3b520",
   "outputs": [
    {
     "data": {
      "text/plain": [
       "array([ True,  True,  True,  True,  True,  True,  True,  True,  True,\n",
       "        True,  True,  True,  True,  True,  True,  True,  True,  True,\n",
       "        True,  True,  True,  True,  True,  True,  True,  True,  True,\n",
       "        True,  True,  True,  True,  True,  True,  True,  True,  True,\n",
       "        True,  True,  True,  True,  True,  True,  True,  True,  True,\n",
       "        True,  True,  True,  True,  True,  True,  True,  True,  True,\n",
       "        True,  True,  True,  True,  True,  True,  True,  True,  True,\n",
       "        True,  True,  True,  True,  True,  True,  True,  True,  True,\n",
       "        True,  True,  True,  True,  True,  True,  True])"
      ]
     },
     "execution_count": 21,
     "metadata": {},
     "output_type": "execute_result"
    }
   ],
   "execution_count": 21
  }
 ],
 "metadata": {
  "kernelspec": {
   "display_name": "Python 3",
   "language": "python",
   "name": "python3"
  },
  "language_info": {
   "codemirror_mode": {
    "name": "ipython",
    "version": 2
   },
   "file_extension": ".py",
   "mimetype": "text/x-python",
   "name": "python",
   "nbconvert_exporter": "python",
   "pygments_lexer": "ipython2",
   "version": "2.7.6"
  }
 },
 "nbformat": 4,
 "nbformat_minor": 5
}
