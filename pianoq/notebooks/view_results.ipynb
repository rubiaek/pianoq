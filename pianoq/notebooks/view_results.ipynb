{
 "cells": [
  {
   "cell_type": "code",
   "id": "initial_id",
   "metadata": {
    "collapsed": true,
    "ExecuteTime": {
     "end_time": "2024-09-08T12:51:03.575290Z",
     "start_time": "2024-09-08T12:51:03.200014Z"
    }
   },
   "source": [
    "from pianoq_results.scan_result import ScanResult\n",
    "res_sig = ScanResult()\n",
    "res_idl = ScanResult()\n",
    "# path = r\"G:\\My Drive\\Projects\\MPLC\\results\\lab\\2024_09_05_QKD_random_phases\\2024_09_08_14_57_00_QKD_MUB2_signal_res_4.scan\"\n",
    "# path = r\"G:\\My Drive\\Projects\\MPLC\\results\\lab\\2024_09_05_QKD_random_phases\\2024_09_08_14_46_42_QKD_MUB2_idler_res_4.scan\"\n",
    "\n",
    "path_idl = r\"G:\\My Drive\\Projects\\MPLC\\results\\lab\\2024_09_05_QKD_random_phases\\2024_09_08_15_21_56_QKD_MUB2_idler_res_1.scan\"\n",
    "path_sig = r\"G:\\My Drive\\Projects\\MPLC\\results\\lab\\2024_09_05_QKD_random_phases\\2024_09_08_15_21_56_QKD_MUB2_signal_res_1.scan\"\n",
    "res_idl.loadfrom(path_idl)\n",
    "res_sig.loadfrom(path_sig)\n",
    "res_idl.show_singles()\n",
    "res_sig.show_singles()"
   ],
   "outputs": [],
   "execution_count": 10
  },
  {
   "metadata": {
    "ExecuteTime": {
     "end_time": "2024-09-08T12:40:28.651876Z",
     "start_time": "2024-09-08T12:40:26.289825Z"
    }
   },
   "cell_type": "code",
   "source": [
    "res_sig.get_xys(2, saveto_dir=\"C:\\\\temp\")\n",
    "res_idl.get_xys(1, saveto_dir=dir)"
   ],
   "id": "8a8d68b0866547b7",
   "outputs": [
    {
     "name": "stdout",
     "output_type": "stream",
     "text": [
      "Saved to C:\\temp\\2024_09_08_15_40_28_s2_sig.locs\n"
     ]
    },
    {
     "data": {
      "text/plain": [
       "[(9.136174242424243, 1.5737554112554113),\n",
       " (9.188528138528138, 1.7482683982683984),\n",
       " (9.15944264069264, 1.9053300865800866),\n",
       " (9.16525974025974, 2.0682088744588745),\n",
       " (9.066369047619048, 2.2369047619047624)]"
      ]
     },
     "execution_count": 9,
     "metadata": {},
     "output_type": "execute_result"
    }
   ],
   "execution_count": 9
  }
 ],
 "metadata": {
  "kernelspec": {
   "display_name": "Python 3",
   "language": "python",
   "name": "python3"
  },
  "language_info": {
   "codemirror_mode": {
    "name": "ipython",
    "version": 2
   },
   "file_extension": ".py",
   "mimetype": "text/x-python",
   "name": "python",
   "nbconvert_exporter": "python",
   "pygments_lexer": "ipython2",
   "version": "2.7.6"
  }
 },
 "nbformat": 4,
 "nbformat_minor": 5
}
