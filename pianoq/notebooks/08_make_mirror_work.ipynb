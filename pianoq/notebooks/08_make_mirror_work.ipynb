{
 "cells": [
  {
   "metadata": {
    "ExecuteTime": {
     "end_time": "2024-11-03T08:20:21.037235Z",
     "start_time": "2024-11-03T08:20:20.620081Z"
    }
   },
   "cell_type": "code",
   "source": [
    "from pianoq.misc.mplc_writeup_imports import *\n",
    "from pianoq.misc.mplc_lab_imports import * \n",
    "\n",
    "dir_path = r'G:\\My Drive\\Projects\\MPLC\\results\\lab\\2024_10_30_make_mirror_work'\n",
    "if not os.path.exists(dir_path):\n",
    "    os.mkdir(dir_path)"
   ],
   "id": "43630d512d1475a2",
   "outputs": [
    {
     "name": "stdout",
     "output_type": "stream",
     "text": [
      "cant use py_thorlabs_ctrl.kinesis\n"
     ]
    },
    {
     "ename": "NameError",
     "evalue": "name 'KCubeDCServo' is not defined",
     "output_type": "error",
     "traceback": [
      "\u001B[1;31m---------------------------------------------------------------------------\u001B[0m",
      "\u001B[1;31mNameError\u001B[0m                                 Traceback (most recent call last)",
      "Cell \u001B[1;32mIn [1], line 5\u001B[0m\n\u001B[0;32m      2\u001B[0m matplotlib\u001B[38;5;241m.\u001B[39muse(\u001B[38;5;124m'\u001B[39m\u001B[38;5;124mTKAgg\u001B[39m\u001B[38;5;124m'\u001B[39m)\n\u001B[0;32m      4\u001B[0m \u001B[38;5;28;01mfrom\u001B[39;00m \u001B[38;5;21;01mpianoq\u001B[39;00m\u001B[38;5;21;01m.\u001B[39;00m\u001B[38;5;21;01mmisc\u001B[39;00m\u001B[38;5;21;01m.\u001B[39;00m\u001B[38;5;21;01mmplc_writeup_imports\u001B[39;00m \u001B[38;5;28;01mimport\u001B[39;00m \u001B[38;5;241m*\u001B[39m\n\u001B[1;32m----> 5\u001B[0m \u001B[38;5;28;01mfrom\u001B[39;00m \u001B[38;5;21;01mpianoq\u001B[39;00m\u001B[38;5;21;01m.\u001B[39;00m\u001B[38;5;21;01mmisc\u001B[39;00m\u001B[38;5;21;01m.\u001B[39;00m\u001B[38;5;21;01mmplc_lab_imports\u001B[39;00m \u001B[38;5;28;01mimport\u001B[39;00m \u001B[38;5;241m*\u001B[39m \n\u001B[0;32m      7\u001B[0m dir_path \u001B[38;5;241m=\u001B[39m \u001B[38;5;124mr\u001B[39m\u001B[38;5;124m'\u001B[39m\u001B[38;5;124mG:\u001B[39m\u001B[38;5;124m\\\u001B[39m\u001B[38;5;124mMy Drive\u001B[39m\u001B[38;5;124m\\\u001B[39m\u001B[38;5;124mProjects\u001B[39m\u001B[38;5;124m\\\u001B[39m\u001B[38;5;124mMPLC\u001B[39m\u001B[38;5;124m\\\u001B[39m\u001B[38;5;124mresults\u001B[39m\u001B[38;5;124m\\\u001B[39m\u001B[38;5;124mlab\u001B[39m\u001B[38;5;124m\\\u001B[39m\u001B[38;5;124m2024_10_30_make_mirror_work\u001B[39m\u001B[38;5;124m'\u001B[39m\n\u001B[0;32m      8\u001B[0m \u001B[38;5;28;01mif\u001B[39;00m \u001B[38;5;129;01mnot\u001B[39;00m os\u001B[38;5;241m.\u001B[39mpath\u001B[38;5;241m.\u001B[39mexists(dir_path):\n",
      "File \u001B[1;32mC:\\code\\pianoq\\pianoq\\misc\\mplc_lab_imports.py:23\u001B[0m\n\u001B[0;32m     20\u001B[0m \u001B[38;5;28;01mfrom\u001B[39;00m \u001B[38;5;21;01mpianoq\u001B[39;00m\u001B[38;5;21;01m.\u001B[39;00m\u001B[38;5;21;01msimulations\u001B[39;00m\u001B[38;5;21;01m.\u001B[39;00m\u001B[38;5;21;01mmplc_sim\u001B[39;00m\u001B[38;5;21;01m.\u001B[39;00m\u001B[38;5;21;01mcreate_wfm_masks\u001B[39;00m \u001B[38;5;28;01mimport\u001B[39;00m create_WFM_diffuser_masks, create_WFM_unitary_masks, create_WFM_QKD_masks\n\u001B[0;32m     22\u001B[0m \u001B[38;5;66;03m# MPLC Lab\u001B[39;00m\n\u001B[1;32m---> 23\u001B[0m \u001B[38;5;28;01mfrom\u001B[39;00m \u001B[38;5;21;01mpianoq\u001B[39;00m\u001B[38;5;21;01m.\u001B[39;00m\u001B[38;5;21;01mlab\u001B[39;00m\u001B[38;5;21;01m.\u001B[39;00m\u001B[38;5;21;01mmplc\u001B[39;00m\u001B[38;5;21;01m.\u001B[39;00m\u001B[38;5;21;01msingles_scan\u001B[39;00m \u001B[38;5;28;01mimport\u001B[39;00m signal_scan, idler_scan, get_signal_scanner, get_idler_scanner\n\u001B[0;32m     24\u001B[0m \u001B[38;5;28;01mfrom\u001B[39;00m \u001B[38;5;21;01mpianoq\u001B[39;00m\u001B[38;5;21;01m.\u001B[39;00m\u001B[38;5;21;01mlab\u001B[39;00m\u001B[38;5;21;01m.\u001B[39;00m\u001B[38;5;21;01mmplc\u001B[39;00m\u001B[38;5;21;01m.\u001B[39;00m\u001B[38;5;21;01mphase_finder_result\u001B[39;00m \u001B[38;5;28;01mimport\u001B[39;00m PhaseFinderResult\n\u001B[0;32m     25\u001B[0m \u001B[38;5;28;01mfrom\u001B[39;00m \u001B[38;5;21;01mpianoq\u001B[39;00m\u001B[38;5;21;01m.\u001B[39;00m\u001B[38;5;21;01mlab\u001B[39;00m\u001B[38;5;21;01m.\u001B[39;00m\u001B[38;5;21;01mmplc\u001B[39;00m\u001B[38;5;21;01m.\u001B[39;00m\u001B[38;5;21;01mmask_utils\u001B[39;00m \u001B[38;5;28;01mimport\u001B[39;00m remove_input_modes, add_phase_input_spots, get_imaging_masks, get_masks_matlab, mask_centers_to_mask_slices\n",
      "File \u001B[1;32mC:\\code\\pianoq\\pianoq\\lab\\mplc\\singles_scan.py:4\u001B[0m\n\u001B[0;32m      2\u001B[0m \u001B[38;5;28;01mimport\u001B[39;00m \u001B[38;5;21;01mnumpy\u001B[39;00m \u001B[38;5;28;01mas\u001B[39;00m \u001B[38;5;21;01mnp\u001B[39;00m\n\u001B[0;32m      3\u001B[0m \u001B[38;5;28;01mimport\u001B[39;00m \u001B[38;5;21;01mdatetime\u001B[39;00m\n\u001B[1;32m----> 4\u001B[0m \u001B[38;5;28;01mfrom\u001B[39;00m \u001B[38;5;21;01mpianoq\u001B[39;00m\u001B[38;5;21;01m.\u001B[39;00m\u001B[38;5;21;01mlab\u001B[39;00m\u001B[38;5;21;01m.\u001B[39;00m\u001B[38;5;21;01mphoton_scan\u001B[39;00m \u001B[38;5;28;01mimport\u001B[39;00m PhotonScanner\n\u001B[0;32m      5\u001B[0m \u001B[38;5;28;01mfrom\u001B[39;00m \u001B[38;5;21;01mpianoq\u001B[39;00m\u001B[38;5;21;01m.\u001B[39;00m\u001B[38;5;21;01mlab\u001B[39;00m\u001B[38;5;21;01m.\u001B[39;00m\u001B[38;5;21;01mtime_tagger\u001B[39;00m \u001B[38;5;28;01mimport\u001B[39;00m QPTimeTagger\n\u001B[0;32m      6\u001B[0m \u001B[38;5;28;01mfrom\u001B[39;00m \u001B[38;5;21;01mpianoq\u001B[39;00m\u001B[38;5;21;01m.\u001B[39;00m\u001B[38;5;21;01mlab\u001B[39;00m\u001B[38;5;21;01m.\u001B[39;00m\u001B[38;5;21;01mzaber_motor\u001B[39;00m \u001B[38;5;28;01mimport\u001B[39;00m ZaberMotors\n",
      "File \u001B[1;32mC:\\code\\pianoq\\pianoq\\lab\\photon_scan.py:5\u001B[0m\n\u001B[0;32m      2\u001B[0m \u001B[38;5;28;01mimport\u001B[39;00m \u001B[38;5;21;01mdatetime\u001B[39;00m\n\u001B[0;32m      4\u001B[0m \u001B[38;5;66;03m# from pianoq.lab.power_meter100 import PowerMeterPM100\u001B[39;00m\n\u001B[1;32m----> 5\u001B[0m \u001B[38;5;28;01mfrom\u001B[39;00m \u001B[38;5;21;01mpianoq\u001B[39;00m\u001B[38;5;21;01m.\u001B[39;00m\u001B[38;5;21;01mlab\u001B[39;00m\u001B[38;5;21;01m.\u001B[39;00m\u001B[38;5;21;01mthorlabs_motor\u001B[39;00m \u001B[38;5;28;01mimport\u001B[39;00m ThorlabsKcubeDC, ThorlabsKcubeStepper\n\u001B[0;32m      6\u001B[0m \u001B[38;5;28;01mfrom\u001B[39;00m \u001B[38;5;21;01mpianoq\u001B[39;00m\u001B[38;5;21;01m.\u001B[39;00m\u001B[38;5;21;01mlab\u001B[39;00m\u001B[38;5;21;01m.\u001B[39;00m\u001B[38;5;21;01mphoton_counter\u001B[39;00m \u001B[38;5;28;01mimport\u001B[39;00m PhotonCounter\n\u001B[0;32m      8\u001B[0m \u001B[38;5;28;01mimport\u001B[39;00m \u001B[38;5;21;01mnumpy\u001B[39;00m \u001B[38;5;28;01mas\u001B[39;00m \u001B[38;5;21;01mnp\u001B[39;00m\n",
      "File \u001B[1;32mC:\\code\\pianoq\\pianoq\\lab\\thorlabs_motor.py:16\u001B[0m\n\u001B[0;32m     12\u001B[0m \u001B[38;5;28;01mexcept\u001B[39;00m \u001B[38;5;167;01mImportError\u001B[39;00m:\n\u001B[0;32m     13\u001B[0m     \u001B[38;5;28mprint\u001B[39m(\u001B[38;5;124m'\u001B[39m\u001B[38;5;124mcant use py_thorlabs_ctrl.kinesis\u001B[39m\u001B[38;5;124m'\u001B[39m)\n\u001B[1;32m---> 16\u001B[0m \u001B[38;5;28;01mclass\u001B[39;00m \u001B[38;5;21;01mThorlabsRotatingServoMotor\u001B[39;00m(\u001B[43mKCubeDCServo\u001B[49m):\n\u001B[0;32m     17\u001B[0m \u001B[38;5;250m    \u001B[39m\u001B[38;5;124;03m\"\"\"\u001B[39;00m\n\u001B[0;32m     18\u001B[0m \u001B[38;5;124;03m    Uses this library to communicate with the motors:\u001B[39;00m\n\u001B[0;32m     19\u001B[0m \u001B[38;5;124;03m        https://github.com/rwalle/py_thorlabs_ctrl\u001B[39;00m\n\u001B[1;32m   (...)\u001B[0m\n\u001B[0;32m     22\u001B[0m \n\u001B[0;32m     23\u001B[0m \u001B[38;5;124;03m    \"\"\"\u001B[39;00m\n\u001B[0;32m     25\u001B[0m     SERIAL_1 \u001B[38;5;241m=\u001B[39m \u001B[38;5;241m27253522\u001B[39m\n",
      "\u001B[1;31mNameError\u001B[0m: name 'KCubeDCServo' is not defined"
     ]
    }
   ],
   "execution_count": 1
  },
  {
   "metadata": {},
   "cell_type": "markdown",
   "source": "# WFM ",
   "id": "ae05bd6c2d56e042"
  },
  {
   "cell_type": "code",
   "id": "initial_id",
   "metadata": {
    "collapsed": true,
    "ExecuteTime": {
     "end_time": "2024-10-31T12:46:21.058559Z",
     "start_time": "2024-10-31T12:44:11.608458Z"
    }
   },
   "source": [
    "all_Us_path = r\"G:\\My Drive\\Projects\\MPLC\\results\\lab\\2024_09_10_fixing_phases_different_Us\\for_ronen_Haar_800.mat\"\n",
    "all_Us = loadmat(all_Us_path)['U1_all']\n",
    "U_no = 1\n",
    "\n",
    "for dz in [4, 6, 10, 12]:\n",
    "    timestamp = datetime.datetime.now().strftime('%Y_%m_%d_%H_%M_%S')\n",
    "    masks_path = fr'{dir_path}\\{timestamp}_U1U_dead_zone_450pix_dz10_{dz}mm.masks'\n",
    "    mplc_res_path = fr'{dir_path}\\{timestamp}_U1U_dead_zone_450pix_dz10_{dz}mm.mplcsim'\n",
    "    mplc_sim = create_WFM_unitary_masks(all_Us[:, :, U_no], N_iterations=15, out_path=masks_path, dead_middle_zone=450e-6,\n",
    "                                        last_plane_extra_dist=dz*1e-3)\n",
    "    mplc_sim.res._calc_fidelity()\n",
    "    print(dz)\n",
    "    print(mplc_sim.res.fidelity)"
   ],
   "outputs": [
    {
     "name": "stdout",
     "output_type": "stream",
     "text": [
      "{'wavelength': 8.1e-07, 'dist_after_plane': array([0.087, 0.087, 0.087, 0.087, 0.138, 0.087, 0.087, 0.087, 0.087,\n",
      "       0.091]), 'N_iterations': 10, 'Nx': 140, 'Ny': 360, 'dx': 1.25e-05, 'dy': 1.25e-05, 'max_k_constraint': 0.15, 'min_log_level': 2, 'size_factor': 3, 'use_mask_offset': True, 'symmetric_masks': False, 'active_planes': array([ True,  True,  True,  True,  True,  True,  True,  True,  True,\n",
      "        True,  True]), 'N_modes': 10}\n"
     ]
    },
    {
     "name": "stderr",
     "output_type": "stream",
     "text": [
      "100%|██████████| 10/10 [01:51<00:00, 11.19s/it]\n"
     ]
    },
    {
     "name": "stdout",
     "output_type": "stream",
     "text": [
      "4\n",
      "0.9924541306164535\n"
     ]
    }
   ],
   "execution_count": 14
  },
  {
   "metadata": {
    "ExecuteTime": {
     "end_time": "2024-10-31T12:58:31.994539Z",
     "start_time": "2024-10-31T12:58:26.459843Z"
    }
   },
   "cell_type": "code",
   "source": [
    "mplc_sim.res.saveto(mplc_res_path, smaller=True)\n",
    "mplc_sim.res.show_overlap()\n",
    "mplc_sim.res._calc_fidelity()\n",
    "mplc_sim.res.fidelity"
   ],
   "id": "320b696e2434c22d",
   "outputs": [
    {
     "data": {
      "text/plain": [
       "0.9924541306164535"
      ]
     },
     "execution_count": 15,
     "metadata": {},
     "output_type": "execute_result"
    }
   ],
   "execution_count": 15
  },
  {
   "metadata": {
    "ExecuteTime": {
     "end_time": "2024-10-31T12:58:45.827803Z",
     "start_time": "2024-10-31T12:58:44.685410Z"
    }
   },
   "cell_type": "code",
   "source": "mplc_sim.res.show_all(2)",
   "id": "f7e8d3c056f39fa1",
   "outputs": [],
   "execution_count": 16
  },
  {
   "metadata": {},
   "cell_type": "markdown",
   "source": "## WFM col to row",
   "id": "d3b9c02b970c2b5a"
  },
  {
   "metadata": {
    "ExecuteTime": {
     "end_time": "2024-11-03T07:02:39.486035Z",
     "start_time": "2024-11-03T06:59:40.496414Z"
    }
   },
   "cell_type": "code",
   "source": [
    "all_Us_path = r\"G:\\My Drive\\Projects\\MPLC\\results\\lab\\2024_09_10_fixing_phases_different_Us\\for_ronen_Haar_800.mat\"\n",
    "all_Us = loadmat(all_Us_path)['U1_all']\n",
    "U_no = 1\n",
    "\n",
    "dz = 5  \n",
    "\n",
    "masks_path = fr'{dir_path}\\{tnow()}_U1U_dead_zone_450pix_dz10_{dz}mm_col_to_row.masks'\n",
    "mplc_res_path = fr'{dir_path}\\{tnow()}_U1U_dead_zone_450pix_dz10_{dz}mm_col_to_row.mplcsim'\n",
    "mplc_sim = create_WFM_unitary_masks(all_Us[:, :, U_no], N_iterations=15, out_path=masks_path, dead_middle_zone=450e-6,\n",
    "                                    last_plane_extra_dist=dz*1e-3, col_to_row=True)"
   ],
   "id": "cfb3ef400091076a",
   "outputs": [
    {
     "name": "stdout",
     "output_type": "stream",
     "text": [
      "{'wavelength': 8.1e-07, 'dist_after_plane': array([0.087, 0.087, 0.087, 0.087, 0.138, 0.087, 0.087, 0.087, 0.087,\n",
      "       0.092]), 'N_iterations': 15, 'Nx': 140, 'Ny': 360, 'dx': 1.25e-05, 'dy': 1.25e-05, 'max_k_constraint': 0.15, 'min_log_level': 2, 'size_factor': 3, 'use_mask_offset': True, 'symmetric_masks': False, 'active_planes': array([ True,  True,  True,  True,  True,  True,  True,  True,  True,\n",
      "        True,  True]), 'N_modes': 10}\n"
     ]
    },
    {
     "name": "stderr",
     "output_type": "stream",
     "text": [
      "100%|██████████| 15/15 [02:43<00:00, 10.89s/it]\n"
     ]
    }
   ],
   "execution_count": 18
  },
  {
   "metadata": {},
   "cell_type": "markdown",
   "source": "# Hardware",
   "id": "b36481dcfb54db4"
  },
  {
   "metadata": {
    "ExecuteTime": {
     "end_time": "2024-10-30T11:28:22.221169Z",
     "start_time": "2024-10-30T11:28:21.710028Z"
    }
   },
   "cell_type": "code",
   "source": [
    "mplc = MPLCDevice(linear_tilts=True, plane_10_tilts=35)\n",
    "integration_time = 1\n",
    "coin_window = 2e-9\n",
    "tt = get_timetagger(coin_window=coin_window, integration_time=integration_time)"
   ],
   "id": "8c6e6fb72f8e5569",
   "outputs": [
    {
     "name": "stdout",
     "output_type": "stream",
     "text": [
      "God timetagger\n"
     ]
    }
   ],
   "execution_count": 2
  },
  {
   "metadata": {
    "ExecuteTime": {
     "end_time": "2024-10-30T11:28:28.345056Z",
     "start_time": "2024-10-30T11:28:22.351839Z"
    }
   },
   "cell_type": "code",
   "source": [
    "backlash = 0\n",
    "wait_after_move = 0.2\n",
    "mxs, mys = get_signal_motors(backlash=backlash, wait_after_move=wait_after_move)\n",
    "\n",
    "backlash = 0\n",
    "wait_after_move = 0.2\n",
    "mxi, myi = get_idler_motors(backlash=backlash, wait_after_move=wait_after_move)\n"
   ],
   "id": "4e315351cdbd2240",
   "outputs": [
    {
     "name": "stdout",
     "output_type": "stream",
     "text": [
      "Got Zaber motors\n",
      "Got Thorlabs motors\n"
     ]
    }
   ],
   "execution_count": 3
  },
  {
   "metadata": {},
   "cell_type": "markdown",
   "source": "# Single counts",
   "id": "c638832778fd7645"
  },
  {
   "metadata": {
    "ExecuteTime": {
     "end_time": "2024-10-31T13:51:38.279881Z",
     "start_time": "2024-10-31T11:27:14.811933Z"
    }
   },
   "cell_type": "code",
   "source": [
    "for dz in [4, 6, 10, 12]:\n",
    "    \n",
    "    # temp phases, that are probably better than nothing \n",
    "    phases_path = rf'{dir_path}\\2024_10_31_10_15_02_fine_new_mirror_from_zero_more.phases'\n",
    "    # masks_path = fr'{dir_path}\\2024_10_30_13_10_41_U1U_dead_zone_450pix_dz10_8mm.masks'\n",
    "    masks_path = glob.glob(rf'{dir_path}\\*dz10_{dz}mm.masks')[0]\n",
    "    \n",
    "    masks = get_good_masks(masks_path=masks_path, modes_to_keep=modes_to_keep, phases_path=phases_path)\n",
    "    mplc.load_masks(masks)\n",
    "    time.sleep(0.5)\n",
    "    mplc.restore_location()\n",
    "    \n",
    "    scan_saveto_path = rf'{dir_path}\\{tnow()}_5spots_fine_signal_dead_zone_450um_dz10_{dz}mm_p10_tilts_35.scan'\n",
    "    \n",
    "    start_x = 12.75\n",
    "    end_x = 13.35\n",
    "    start_y = 4.75\n",
    "    end_y = 6.6\n",
    "    \n",
    "    resolution = 1\n",
    "    x_pixels = 24 // resolution\n",
    "    y_pixels = 76 // resolution\n",
    "    pixel_size_x = 0.025 * resolution\n",
    "    pixel_size_y = 0.025 * resolution\n",
    "    \n",
    "    scanner = PhotonScanner(integration_time, start_x, start_y, x_pixels, y_pixels, pixel_size_x, pixel_size_y, is_timetagger=True, coin_window=coin_window, saveto_path=scan_saveto_path) \n",
    "    tt = get_timetagger(integration_time=1)  # important to have a new tt \n",
    "    t1 = run_in_thread(scanner.scan, x_motor=mxs, y_motor=mys, ph=tt)\n",
    "    \n",
    "    time.sleep(2)\n",
    "    \n",
    "    scan_saveto_path = rf'{dir_path}\\{tnow()}_5spots_fine_idler_dead_zone_450um_dz10_{dz}mm_p10_tilts_35.scan'\n",
    "    \n",
    "    start_x = 9.25\n",
    "    end_x = 9.75\n",
    "    start_y = 3.6\n",
    "    end_y = 5.35\n",
    "    \n",
    "    x_pixels = 20 // resolution\n",
    "    y_pixels = 70 // resolution\n",
    "    pixel_size_x = 0.025 * resolution\n",
    "    pixel_size_y = 0.025 * resolution\n",
    "    \n",
    "    scanner = PhotonScanner(integration_time, start_x, start_y, x_pixels, y_pixels, pixel_size_x, pixel_size_y, is_timetagger=True, coin_window=coin_window, saveto_path=scan_saveto_path)\n",
    "    tt2 = get_timetagger(integration_time=1)\n",
    "    t2 = run_in_thread(scanner.scan, x_motor=mxi, y_motor=myi, ph=tt2)\n",
    "    t1.join()\n",
    "    send_telegram_message(f'Done one singles scan {dz=}')\n",
    "    t2.join()    \n",
    "    send_telegram_message(f'Done second singles scan {dz=}')"
   ],
   "id": "7d67450a69ebeab",
   "outputs": [
    {
     "ename": "KeyboardInterrupt",
     "evalue": "",
     "output_type": "error",
     "traceback": [
      "\u001B[1;31m---------------------------------------------------------------------------\u001B[0m",
      "\u001B[1;31mKeyboardInterrupt\u001B[0m                         Traceback (most recent call last)",
      "Cell \u001B[1;32mIn[29], line 47\u001B[0m\n\u001B[0;32m     45\u001B[0m tt2 \u001B[38;5;241m=\u001B[39m get_timetagger(integration_time\u001B[38;5;241m=\u001B[39m\u001B[38;5;241m1\u001B[39m)\n\u001B[0;32m     46\u001B[0m t2 \u001B[38;5;241m=\u001B[39m run_in_thread(scanner\u001B[38;5;241m.\u001B[39mscan, x_motor\u001B[38;5;241m=\u001B[39mmxi, y_motor\u001B[38;5;241m=\u001B[39mmyi, ph\u001B[38;5;241m=\u001B[39mtt2)\n\u001B[1;32m---> 47\u001B[0m \u001B[43mt1\u001B[49m\u001B[38;5;241;43m.\u001B[39;49m\u001B[43mjoin\u001B[49m\u001B[43m(\u001B[49m\u001B[43m)\u001B[49m\n\u001B[0;32m     48\u001B[0m send_telegram_message(\u001B[38;5;124mf\u001B[39m\u001B[38;5;124m'\u001B[39m\u001B[38;5;124mDone one singles scan \u001B[39m\u001B[38;5;132;01m{\u001B[39;00mdz\u001B[38;5;132;01m=}\u001B[39;00m\u001B[38;5;124m'\u001B[39m)\n\u001B[0;32m     49\u001B[0m t2\u001B[38;5;241m.\u001B[39mjoin()    \n",
      "File \u001B[1;32m~\\AppData\\Local\\Programs\\Python\\Python311\\Lib\\threading.py:1119\u001B[0m, in \u001B[0;36mThread.join\u001B[1;34m(self, timeout)\u001B[0m\n\u001B[0;32m   1116\u001B[0m     \u001B[38;5;28;01mraise\u001B[39;00m \u001B[38;5;167;01mRuntimeError\u001B[39;00m(\u001B[38;5;124m\"\u001B[39m\u001B[38;5;124mcannot join current thread\u001B[39m\u001B[38;5;124m\"\u001B[39m)\n\u001B[0;32m   1118\u001B[0m \u001B[38;5;28;01mif\u001B[39;00m timeout \u001B[38;5;129;01mis\u001B[39;00m \u001B[38;5;28;01mNone\u001B[39;00m:\n\u001B[1;32m-> 1119\u001B[0m     \u001B[38;5;28;43mself\u001B[39;49m\u001B[38;5;241;43m.\u001B[39;49m\u001B[43m_wait_for_tstate_lock\u001B[49m\u001B[43m(\u001B[49m\u001B[43m)\u001B[49m\n\u001B[0;32m   1120\u001B[0m \u001B[38;5;28;01melse\u001B[39;00m:\n\u001B[0;32m   1121\u001B[0m     \u001B[38;5;66;03m# the behavior of a negative timeout isn't documented, but\u001B[39;00m\n\u001B[0;32m   1122\u001B[0m     \u001B[38;5;66;03m# historically .join(timeout=x) for x<0 has acted as if timeout=0\u001B[39;00m\n\u001B[0;32m   1123\u001B[0m     \u001B[38;5;28mself\u001B[39m\u001B[38;5;241m.\u001B[39m_wait_for_tstate_lock(timeout\u001B[38;5;241m=\u001B[39m\u001B[38;5;28mmax\u001B[39m(timeout, \u001B[38;5;241m0\u001B[39m))\n",
      "File \u001B[1;32m~\\AppData\\Local\\Programs\\Python\\Python311\\Lib\\threading.py:1139\u001B[0m, in \u001B[0;36mThread._wait_for_tstate_lock\u001B[1;34m(self, block, timeout)\u001B[0m\n\u001B[0;32m   1136\u001B[0m     \u001B[38;5;28;01mreturn\u001B[39;00m\n\u001B[0;32m   1138\u001B[0m \u001B[38;5;28;01mtry\u001B[39;00m:\n\u001B[1;32m-> 1139\u001B[0m     \u001B[38;5;28;01mif\u001B[39;00m \u001B[43mlock\u001B[49m\u001B[38;5;241;43m.\u001B[39;49m\u001B[43macquire\u001B[49m\u001B[43m(\u001B[49m\u001B[43mblock\u001B[49m\u001B[43m,\u001B[49m\u001B[43m \u001B[49m\u001B[43mtimeout\u001B[49m\u001B[43m)\u001B[49m:\n\u001B[0;32m   1140\u001B[0m         lock\u001B[38;5;241m.\u001B[39mrelease()\n\u001B[0;32m   1141\u001B[0m         \u001B[38;5;28mself\u001B[39m\u001B[38;5;241m.\u001B[39m_stop()\n",
      "\u001B[1;31mKeyboardInterrupt\u001B[0m: "
     ]
    }
   ],
   "execution_count": 29
  },
  {
   "metadata": {},
   "cell_type": "markdown",
   "source": "## Single counts col to row",
   "id": "f742cf1aa55ac589"
  },
  {
   "metadata": {
    "ExecuteTime": {
     "start_time": "2024-11-03T07:14:40.490254Z"
    }
   },
   "cell_type": "code",
   "source": [
    "# temp phases, that are probably better than nothing \n",
    "phases_path = rf'{dir_path}\\2024_10_31_10_15_02_fine_new_mirror_from_zero_more.phases'\n",
    "phases_path = None \n",
    "masks_path = glob.glob(rf'{dir_path}\\*col_to_row.masks')[0]\n",
    "\n",
    "modes_to_keep_c2r = np.array([11, 12, 13, 14, 15, 36, 37, 38, 39, 40])\n",
    "masks = get_good_masks(masks_path=masks_path, modes_to_keep=modes_to_keep_c2r, phases_path=phases_path)\n",
    "mplc.load_masks(masks)\n",
    "time.sleep(0.5)\n",
    "mplc.restore_location()\n",
    "\n",
    "scan_saveto_path = rf'{dir_path}\\{tnow()}_5spots_fine_signal_dead_zone_450um_dz10_5mm_p10_tilts_35_c2r.scan'\n",
    "\n",
    "start_x = 12.0\n",
    "end_x = 14.0\n",
    "start_y = 5.5\n",
    "end_y = 6.0\n",
    "\n",
    "resolution = 2\n",
    "x_pixels = 80 // resolution\n",
    "y_pixels = 20 // resolution\n",
    "pixel_size_x = 0.025 * resolution\n",
    "pixel_size_y = 0.025 * resolution\n",
    "\n",
    "scanner = PhotonScanner(integration_time, start_x, start_y, x_pixels, y_pixels, pixel_size_x, pixel_size_y, is_timetagger=True, coin_window=coin_window, saveto_path=scan_saveto_path) \n",
    "tt = get_timetagger(integration_time=1)  # important to have a new tt \n",
    "t1 = run_in_thread(scanner.scan, x_motor=mxs, y_motor=mys, ph=tt)\n",
    "\n",
    "time.sleep(2)\n",
    "\n",
    "scan_saveto_path = rf'{dir_path}\\{tnow()}_5spots_fine_idler_dead_zone_450um_dz10_5mm_p10_tilts_35_c2r.scan'\n",
    "\n",
    "start_x = 8.5\n",
    "end_x = 10.5\n",
    "start_y = 4.2\n",
    "end_y = 4.7\n",
    "\n",
    "x_pixels = 80 // resolution\n",
    "y_pixels = 20 // resolution\n",
    "pixel_size_x = 0.025 * resolution\n",
    "pixel_size_y = 0.025 * resolution\n",
    "\n",
    "scanner = PhotonScanner(integration_time, start_x, start_y, x_pixels, y_pixels, pixel_size_x, pixel_size_y, is_timetagger=True, coin_window=coin_window, saveto_path=scan_saveto_path)\n",
    "tt2 = get_timetagger(integration_time=1)\n",
    "t2 = run_in_thread(scanner.scan, x_motor=mxi, y_motor=myi, ph=tt2)\n",
    "t1.join()\n",
    "send_telegram_message(f'Done one singles scan col to row')\n",
    "t2.join()    \n",
    "send_telegram_message(f'Done second singles scan col to row')"
   ],
   "id": "d3f595bea149ebb9",
   "outputs": [],
   "execution_count": null
  },
  {
   "metadata": {},
   "cell_type": "markdown",
   "source": "# mark spots ",
   "id": "746e9ee13610e107"
  },
  {
   "metadata": {
    "ExecuteTime": {
     "end_time": "2024-11-03T08:18:05.441680Z",
     "start_time": "2024-11-03T08:18:04.828416Z"
    }
   },
   "cell_type": "code",
   "source": [
    "locs_signal_path = fr'{dir_path}\\{tnow()}_s2_sig.locs'\n",
    "locs_idler_path = fr'{dir_path}\\{tnow()}_s1_idl.locs'\n",
    "\n",
    "res_idl = ScanResult(fr'{dir_path}\\2024_11_03_09_14_43_5spots_fine_idler_dead_zone_450um_dz10_5mm_p10_tilts_35_c2r.scan')\n",
    "res_sig = ScanResult(fr'{dir_path}\\2024_11_03_09_29_10_5spots_fine_signal_dead_zone_450um_dz10_5mm_p10_tilts_35_c2r.scan')\n",
    "res_idl.show_singles()\n",
    "res_sig.show_singles()\n",
    "# res_idl.get_xys(1, saveto_path=locs_idler_path)\n",
    "# res_sig.get_xys(2, saveto_path=locs_signal_path)"
   ],
   "id": "7c6473563853dc5",
   "outputs": [
    {
     "data": {
      "text/plain": [
       "<Figure size 640x480 with 4 Axes>"
      ]
     },
     "execution_count": 20,
     "metadata": {},
     "output_type": "execute_result"
    }
   ],
   "execution_count": 20
  },
  {
   "metadata": {},
   "cell_type": "markdown",
   "source": "# Phases ",
   "id": "3428291e3776cd33"
  },
  {
   "metadata": {
    "ExecuteTime": {
     "end_time": "2024-10-31T09:39:20.079518Z",
     "start_time": "2024-10-31T08:15:01.632377Z"
    }
   },
   "cell_type": "code",
   "source": [
    "masks_path = fr'{dir_path}\\2024_10_30_13_10_41_U1U_dead_zone_450pix_dz10_8mm.masks'\n",
    "masks = get_good_masks(masks_path=masks_path, modes_to_keep=modes_to_keep, phases_path=None)  # have this with clean phases when sending to the phase finder \n",
    "mplc.load_masks(masks)\n",
    "\n",
    "saveto_path = fr'{dir_path}\\{tnow()}_fine_new_mirror_from_zero_more.phases'\n",
    "integration_time = 50\n",
    "\n",
    "# previous phases result \n",
    "old_phases_path = fr\"G:\\My Drive\\Projects\\MPLC\\results\\lab\\2024_09_25_BS_to_mirror\\2024_10_07_19_14_12_fine_new_mirror_from_zero_more.phases\"\n",
    "old_phases_result = PhaseFinderResult(old_phases_path)\n",
    "old_phases_result.reload()\n",
    "initial_phases = old_phases_result.phases\n",
    "\n",
    "\n",
    "pf = PhaseFinder(mplc=mplc, integration_time=integration_time, remote_tagger=True, saveto_path=saveto_path,\n",
    "                 modes_to_keep=modes_to_keep, intial_phases=initial_phases, coin_window=tt.coin_window, no_hw_mode=True)\n",
    "\n",
    "pf.time_tagger = tt\n",
    "pf.time_tagger.set_integration_time(integration_time)\n",
    "\n",
    "# locs \n",
    "locs_idl = np.load(fr'{dir_path}\\2024_10_30_15_19_40_s1_idl.locs')['locs']\n",
    "locs_sig = np.load(fr'{dir_path}\\2024_10_30_15_19_40_s2_sig.locs')['locs']\n",
    "\n",
    "# i,j of corr matrix that is supposed to be strong \n",
    "i = 1\n",
    "j = 1\n",
    "mxi.move_absolute(locs_idl[i, 0])\n",
    "myi.move_absolute(locs_idl[i, 1])\n",
    "mxs.move_absolute(locs_sig[j, 0])\n",
    "mys.move_absolute(locs_sig[j, 1])\n",
    "mplc.restore_location()\n",
    "time.sleep(1)\n",
    "pf.find_phases()"
   ],
   "id": "3519a69fc73ca617",
   "outputs": [],
   "execution_count": 14
  },
  {
   "metadata": {},
   "cell_type": "markdown",
   "source": "# Correlations ",
   "id": "9bb83472f7546cdd"
  },
  {
   "metadata": {
    "ExecuteTime": {
     "end_time": "2024-10-31T10:21:11.423034Z",
     "start_time": "2024-10-31T09:59:44.698650Z"
    }
   },
   "cell_type": "code",
   "source": [
    "backlash = 0.0\n",
    "wait_after_move = 0.3\n",
    "integration_time = 50\n",
    "coin_window = 1e-9\n",
    "\n",
    "phases_path = rf'{dir_path}\\2024_10_31_10_15_02_fine_new_mirror_from_zero_more.phases'\n",
    "masks_path = fr'{dir_path}\\2024_10_30_13_10_41_U1U_dead_zone_450pix_dz10_8mm.masks'\n",
    "masks = get_good_masks(masks_path=masks_path, modes_to_keep=modes_to_keep, phases_path=phases_path)\n",
    "mplc.load_masks(masks)\n",
    "\n",
    "scan_path = fr'{dir_path}\\{tnow()}.dscan'\n",
    "\n",
    "locs_idl = np.load(fr'{dir_path}\\2024_10_30_15_19_40_s1_idl.locs')['locs']\n",
    "locs_sig = np.load(fr'{dir_path}\\2024_10_30_15_19_40_s2_sig.locs')['locs']\n",
    "\n",
    "dps = DiscretePhotonScanner(locs_sig, locs_idl, integration_time=integration_time, remote_tagger=True, saveto_path=scan_path,\n",
    "                            backlash=backlash, wait_after_move=wait_after_move, coin_window=coin_window, no_hw_mode=True)\n",
    "\n",
    "dps.m_sig_x, dps.m_sig_y, dps.m_idl_x, dps.m_idl_y, dps.time_tagger = mxs, mys, mxi, myi, tt\n",
    "dps.time_tagger.set_integration_time(integration_time)\n",
    "time.sleep(1)\n",
    "dps.scan()"
   ],
   "id": "7cc34684c403a5a",
   "outputs": [],
   "execution_count": 15
  }
 ],
 "metadata": {
  "kernelspec": {
   "display_name": "Python 3",
   "language": "python",
   "name": "python3"
  },
  "language_info": {
   "codemirror_mode": {
    "name": "ipython",
    "version": 2
   },
   "file_extension": ".py",
   "mimetype": "text/x-python",
   "name": "python",
   "nbconvert_exporter": "python",
   "pygments_lexer": "ipython2",
   "version": "2.7.6"
  }
 },
 "nbformat": 4,
 "nbformat_minor": 5
}
