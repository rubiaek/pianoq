{
 "cells": [
  {
   "metadata": {
    "ExecuteTime": {
     "end_time": "2024-10-31T12:36:15.934716Z",
     "start_time": "2024-10-31T12:36:15.833359Z"
    }
   },
   "cell_type": "code",
   "source": [
    "from pianoq.misc.mplc_writeup_imports import *\n",
    "from pianoq.misc.mplc_lab_imports import * \n",
    "\n",
    "dir_path = r'G:\\My Drive\\Projects\\MPLC\\results\\lab\\2024_10_30_make_mirror_work'\n",
    "if not os.path.exists(dir_path):\n",
    "    os.mkdir(dir_path)"
   ],
   "id": "43630d512d1475a2",
   "execution_count": 3,
   "outputs": []
  },
  {
   "metadata": {},
   "cell_type": "markdown",
   "source": "# WFM ",
   "id": "ae05bd6c2d56e042"
  },
  {
   "cell_type": "code",
   "id": "initial_id",
   "metadata": {
    "collapsed": true,
    "ExecuteTime": {
     "end_time": "2024-10-31T12:46:21.058559Z",
     "start_time": "2024-10-31T12:44:11.608458Z"
    }
   },
   "source": [
    "all_Us_path = r\"G:\\My Drive\\Projects\\MPLC\\results\\lab\\2024_09_10_fixing_phases_different_Us\\for_ronen_Haar_800.mat\"\n",
    "all_Us = loadmat(all_Us_path)['U1_all']\n",
    "U_no = 1\n",
    "\n",
    "for dz in [4, 6, 10, 12]:\n",
    "    timestamp = datetime.datetime.now().strftime('%Y_%m_%d_%H_%M_%S')\n",
    "    masks_path = fr'{dir_path}\\{timestamp}_U1U_dead_zone_450pix_dz10_{dz}mm.masks'\n",
    "    mplc_res_path = fr'{dir_path}\\{timestamp}_U1U_dead_zone_450pix_dz10_{dz}mm.mplcsim'\n",
    "    mplc_sim = create_WFM_unitary_masks(all_Us[:, :, U_no], N_iterations=15, out_path=masks_path, dead_middle_zone=450e-6,\n",
    "                                        last_plane_extra_dist=dz*1e-3)\n",
    "    mplc_sim.res._calc_fidelity()\n",
    "    print(dz)\n",
    "    print(mplc_sim.res.fidelity)"
   ],
   "execution_count": 14,
   "outputs": []
  },
  {
   "metadata": {
    "ExecuteTime": {
     "end_time": "2024-10-31T12:58:31.994539Z",
     "start_time": "2024-10-31T12:58:26.459843Z"
    }
   },
   "cell_type": "code",
   "source": [
    "mplc_sim.res.saveto(mplc_res_path, smaller=True)\n",
    "mplc_sim.res.show_overlap()\n",
    "mplc_sim.res._calc_fidelity()\n",
    "mplc_sim.res.fidelity"
   ],
   "id": "320b696e2434c22d",
   "execution_count": 15,
   "outputs": []
  },
  {
   "metadata": {
    "ExecuteTime": {
     "end_time": "2024-10-31T12:58:45.827803Z",
     "start_time": "2024-10-31T12:58:44.685410Z"
    }
   },
   "cell_type": "code",
   "source": "mplc_sim.res.show_all(2)",
   "id": "f7e8d3c056f39fa1",
   "execution_count": 16,
   "outputs": []
  },
  {
   "metadata": {},
   "cell_type": "markdown",
   "source": "## WFM col to row",
   "id": "d3b9c02b970c2b5a"
  },
  {
   "metadata": {},
   "cell_type": "code",
   "execution_count": null,
   "source": [
    "all_Us_path = r\"G:\\My Drive\\Projects\\MPLC\\results\\lab\\2024_09_10_fixing_phases_different_Us\\for_ronen_Haar_800.mat\"\n",
    "all_Us = loadmat(all_Us_path)['U1_all']\n",
    "U_no = 1\n",
    "\n",
    "dz = 6 \n",
    "\n",
    "masks_path = fr'{dir_path}\\{tnow()}_U1U_dead_zone_450pix_dz10_{dz}mm_col_to_row.masks'\n",
    "mplc_res_path = fr'{dir_path}\\{tnow()}_U1U_dead_zone_450pix_dz10_{dz}mm_col_to_row.mplcsim'\n",
    "mplc_sim = create_WFM_unitary_masks(all_Us[:, :, U_no], N_iterations=15, out_path=masks_path, dead_middle_zone=450e-6,\n",
    "                                    last_plane_extra_dist=dz*1e-3, col_to_row=True)"
   ],
   "id": "de53af57541f6630",
   "outputs": []
  },
  {
   "metadata": {},
   "cell_type": "markdown",
   "source": "# Hardware",
   "id": "b1893faa33d050ff"
  },
  {
   "metadata": {},
   "cell_type": "code",
   "execution_count": null,
   "source": [
    "mplc = MPLCDevice(linear_tilts=True, plane_10_tilts=35)\n",
    "integration_time = 1\n",
    "coin_window = 2e-9\n",
    "tt = get_timetagger(coin_window=coin_window, integration_time=integration_time)"
   ],
   "id": "ed26b179ec89aac2",
   "outputs": []
  },
  {
   "metadata": {},
   "cell_type": "code",
   "execution_count": null,
   "source": [
    "backlash = 0\n",
    "wait_after_move = 0.2\n",
    "mxs, mys = get_signal_motors(backlash=backlash, wait_after_move=wait_after_move)\n",
    "\n",
    "backlash = 0\n",
    "wait_after_move = 0.2\n",
    "mxi, myi = get_idler_motors(backlash=backlash, wait_after_move=wait_after_move)\n"
   ],
   "id": "228f8b57e8068ff7",
   "outputs": []
  },
  {
   "metadata": {},
   "cell_type": "markdown",
   "source": "# Single counts",
   "id": "3fa2336313117982"
  },
  {
   "metadata": {},
   "cell_type": "code",
   "execution_count": null,
   "source": [
    "phases_path = rf'{dir_path}\\2024_10_31_10_15_02_fine_new_mirror_from_zero_more.phases'\n",
    "# masks_path = fr'{dir_path}\\2024_10_30_13_10_41_U1U_dead_zone_450pix_dz10_8mm.masks'\n",
    "masks_path = fr'{dir_path}\\2024_10_31_13_04_15_U1U_dead_zone_450pix_dz10_4mm.masks'\n",
    "# masks_path = glob.glob(rf'{dir_path}\\*dz10_{dz}mm.masks')[0]\n",
    "\n",
    "masks = get_good_masks(masks_path=masks_path, modes_to_keep=modes_to_keep, phases_path=phases_path)\n",
    "mplc.plane_10_tilts = 20\n",
    "mplc.load_masks(masks)\n",
    "time.sleep(0.5)\n",
    "mplc.restore_location()"
   ],
   "id": "dea4b4238c6ebd3f",
   "outputs": []
  },
  {
   "metadata": {},
   "cell_type": "code",
   "execution_count": null,
   "source": [
    "mxi.move_absolute(9.45)\n",
    "myi.move_absolute(3.94)\n",
    "display(mxi.get_position())\n",
    "display(myi.get_position())"
   ],
   "id": "1d7966682b822d79",
   "outputs": []
  },
  {
   "metadata": {},
   "cell_type": "code",
   "execution_count": null,
   "source": [
    "mxs.move_absolute(13.15)\n",
    "mys.move_absolute(6.23)\n",
    "display(mxi.get_position())\n",
    "display(myi.get_position())"
   ],
   "id": "9ae7ae7efca2347",
   "outputs": []
  },
  {
   "metadata": {
    "jupyter": {
     "is_executing": true
    },
    "ExecuteTime": {
     "start_time": "2024-11-04T13:22:29.576527Z"
    }
   },
   "cell_type": "code",
   "source": [
    "dz = 4\n",
    "for pl10tilt in [15, 20, 25, 30, 35]:\n",
    "    \n",
    "    # temp phases, that are probably better than nothing \n",
    "    phases_path = rf'{dir_path}\\2024_10_31_10_15_02_fine_new_mirror_from_zero_more.phases'\n",
    "    # masks_path = fr'{dir_path}\\2024_10_30_13_10_41_U1U_dead_zone_450pix_dz10_8mm.masks'\n",
    "    masks_path = fr'{dir_path}\\2024_10_31_13_04_15_U1U_dead_zone_450pix_dz10_4mm.masks'\n",
    "    # masks_path = glob.glob(rf'{dir_path}\\*dz10_{dz}mm.masks')[0]\n",
    "    \n",
    "    masks = get_good_masks(masks_path=masks_path, modes_to_keep=modes_to_keep, phases_path=phases_path)\n",
    "    mplc.plane_10_tilts = pl10tilt\n",
    "    mplc.load_masks(masks)\n",
    "    time.sleep(0.5)\n",
    "    mplc.restore_location()\n",
    "    \n",
    "    scan_saveto_path = rf'{dir_path}\\{tnow()}_5spots_fine_signal_dead_zone_450um_dz10_{dz}mm_pl10tilt_{pl10tilt}_fine.scan'\n",
    "    \n",
    "    start_x = 12.8\n",
    "    end_x = 13.35\n",
    "    start_y = 4.6\n",
    "    end_y = 6.6\n",
    "    \n",
    "    resolution = 1\n",
    "    x_pixels = 22 // resolution\n",
    "    y_pixels = 80 // resolution\n",
    "    pixel_size_x = 0.025 * resolution\n",
    "    pixel_size_y = 0.025 * resolution\n",
    "    \n",
    "    scanner = PhotonScanner(integration_time, start_x, start_y, x_pixels, y_pixels, pixel_size_x, pixel_size_y, is_timetagger=True, coin_window=coin_window, saveto_path=scan_saveto_path) \n",
    "    tt = get_timetagger(integration_time=1)  # important to have a new tt \n",
    "    t1 = run_in_thread(scanner.scan, x_motor=mxs, y_motor=mys, ph=tt)\n",
    "    \n",
    "    time.sleep(2)\n",
    "    \n",
    "    scan_saveto_path = rf'{dir_path}\\{tnow()}_5spots_fine_idler_dead_zone_450um_dz10_{dz}mm_pl10tilt_{pl10tilt}_fine.scan'\n",
    "    \n",
    "    start_x = 9.25\n",
    "    end_x = 9.75\n",
    "    start_y = 3.6\n",
    "    end_y = 5.6\n",
    "    \n",
    "    x_pixels = 20 // resolution\n",
    "    y_pixels = 80 // resolution\n",
    "    pixel_size_x = 0.025 * resolution\n",
    "    pixel_size_y = 0.025 * resolution\n",
    "    \n",
    "    scanner = PhotonScanner(integration_time, start_x, start_y, x_pixels, y_pixels, pixel_size_x, pixel_size_y, is_timetagger=True, coin_window=coin_window, saveto_path=scan_saveto_path)\n",
    "    tt2 = get_timetagger(integration_time=1)\n",
    "    t2 = run_in_thread(scanner.scan, x_motor=mxi, y_motor=myi, ph=tt2)\n",
    "    t1.join()\n",
    "    send_telegram_message(f'Done one singles scan {pl10tilt=}')\n",
    "    t2.join()    \n",
    "    send_telegram_message(f'Done second singles scan {pl10tilt=}')"
   ],
   "id": "cbcda300df38e619",
   "execution_count": null,
   "outputs": []
  },
  {
   "metadata": {},
   "cell_type": "markdown",
   "source": "## Single counts col to row",
   "id": "8c027a3fcb2ec2b8"
  },
  {
   "metadata": {},
   "cell_type": "code",
   "execution_count": null,
   "source": [
    "# temp phases, that are probably better than nothing \n",
    "phases_path = rf'{dir_path}\\2024_10_31_10_15_02_fine_new_mirror_from_zero_more.phases'\n",
    "phases_path = None \n",
    "masks_path = glob.glob(rf'{dir_path}\\*col_to_row.masks')[0]\n",
    "\n",
    "modes_to_keep_c2r = np.array([11, 12, 13, 14, 15, 36, 37, 38, 39, 40])\n",
    "masks = get_good_masks(masks_path=masks_path, modes_to_keep=modes_to_keep_c2r, phases_path=phases_path)\n",
    "mplc.load_masks(masks)\n",
    "time.sleep(0.5)\n",
    "mplc.restore_location()\n",
    "\n",
    "scan_saveto_path = rf'{dir_path}\\{tnow()}_5spots_fine_signal_dead_zone_450um_dz10_5mm_p10_tilts_35_c2r.scan'\n",
    "\n",
    "start_x = 12.2\n",
    "end_x = 14.0\n",
    "start_y = 5.5\n",
    "end_y = 6.0\n",
    "\n",
    "resolution = 1\n",
    "x_pixels = 72 // resolution\n",
    "y_pixels = 20 // resolution\n",
    "pixel_size_x = 0.025 * resolution\n",
    "pixel_size_y = 0.025 * resolution\n",
    "\n",
    "scanner = PhotonScanner(integration_time, start_x, start_y, x_pixels, y_pixels, pixel_size_x, pixel_size_y, is_timetagger=True, coin_window=coin_window, saveto_path=scan_saveto_path) \n",
    "tt = get_timetagger(integration_time=1)  # important to have a new tt \n",
    "t1 = run_in_thread(scanner.scan, x_motor=mxs, y_motor=mys, ph=tt)\n",
    "\n",
    "time.sleep(2)\n",
    "\n",
    "scan_saveto_path = rf'{dir_path}\\{tnow()}_5spots_fine_idler_dead_zone_450um_dz10_5mm_p10_tilts_35_c2r.scan'\n",
    "\n",
    "start_x = 8.6\n",
    "end_x = 10.4\n",
    "start_y = 4.15\n",
    "end_y = 4.65\n",
    "\n",
    "x_pixels = 72 // resolution\n",
    "y_pixels = 20 // resolution\n",
    "pixel_size_x = 0.025 * resolution\n",
    "pixel_size_y = 0.025 * resolution\n",
    "\n",
    "scanner = PhotonScanner(integration_time, start_x, start_y, x_pixels, y_pixels, pixel_size_x, pixel_size_y, is_timetagger=True, coin_window=coin_window, saveto_path=scan_saveto_path)\n",
    "tt2 = get_timetagger(integration_time=1)\n",
    "t2 = run_in_thread(scanner.scan, x_motor=mxi, y_motor=myi, ph=tt2)\n",
    "t1.join()\n",
    "send_telegram_message(f'Done one singles scan col to row')\n",
    "t2.join()    \n",
    "send_telegram_message(f'Done second singles scan col to row')"
   ],
   "id": "1cb3aaa60674eb02",
   "outputs": []
  },
  {
   "metadata": {},
   "cell_type": "markdown",
   "source": "# mark spots ",
   "id": "9898f26e8354cdbe"
  },
  {
   "metadata": {},
   "cell_type": "code",
   "execution_count": null,
   "source": [
    "locs_signal_path = fr'{dir_path}\\{tnow()}_s2_sig.locs'\n",
    "locs_idler_path = fr'{dir_path}\\{tnow()}_s1_idl.locs'\n",
    "\n",
    "res_idl = ScanResult(fr'{dir_path}\\2024_10_30_14_03_30_5spots_fine_idler_dead_zone_450um_dz10_8mm_p10_tilts_35.scan')\n",
    "res_sig = ScanResult(fr'{dir_path}\\2024_10_30_14_03_28_5spots_fine_signal_dead_zone_450um_dz10_8mm_p10_tilts_35.scan')\n",
    "# res_idl.show_singles()\n",
    "# res_sig.show_singles()\n",
    "res_idl.get_xys(1, saveto_path=locs_idler_path)\n",
    "res_sig.get_xys(2, saveto_path=locs_signal_path)"
   ],
   "id": "8a1629af7b081abe",
   "outputs": []
  },
  {
   "metadata": {},
   "cell_type": "markdown",
   "source": "# Phases ",
   "id": "89ddb726ad8c8ce2"
  },
  {
   "metadata": {},
   "cell_type": "code",
   "execution_count": null,
   "source": [
    "masks_path = glob.glob(rf'{dir_path}\\*col_to_row.masks')[0]\n",
    "masks = get_good_masks(masks_path=masks_path, modes_to_keep=modes_to_keep, phases_path=None)  # have this with clean phases when sending to the phase finder \n",
    "mplc.load_masks(masks)\n",
    "\n",
    "saveto_path = fr'{dir_path}\\{tnow()}_fine_new_mirror_from_zero_more_c2r.phases'\n",
    "integration_time = 30\n",
    "\n",
    "# previous phases result \n",
    "old_phases_path = fr\"G:\\My Drive\\Projects\\MPLC\\results\\lab\\2024_09_25_BS_to_mirror\\2024_10_07_19_14_12_fine_new_mirror_from_zero_more.phases\"\n",
    "old_phases_result = PhaseFinderResult(old_phases_path)\n",
    "old_phases_result.reload()\n",
    "initial_phases = old_phases_result.phases\n",
    "initial_phases = None \n",
    "\n",
    "pf = PhaseFinder(mplc=mplc, integration_time=integration_time, remote_tagger=True, saveto_path=saveto_path,\n",
    "                 modes_to_keep=modes_to_keep, intial_phases=initial_phases, coin_window=tt.coin_window, no_hw_mode=True)\n",
    "\n",
    "pf.time_tagger = tt\n",
    "pf.time_tagger.set_integration_time(integration_time)\n",
    "\n",
    "# locs \n",
    "locs_idl = np.load(fr'{dir_path}\\2024_11_03_10_22_53_s1_idl.locs')['locs']\n",
    "locs_sig = np.load(fr'{dir_path}\\2024_11_03_10_22_53_s2_sig.locs')['locs']\n",
    "\n",
    "# i,j of corr matrix that is supposed to be strong \n",
    "i = 1\n",
    "j = 1\n",
    "mxi.move_absolute(locs_idl[i, 0])\n",
    "myi.move_absolute(locs_idl[i, 1])\n",
    "mxs.move_absolute(locs_sig[j, 0])\n",
    "mys.move_absolute(locs_sig[j, 1])\n",
    "mplc.restore_location()\n",
    "time.sleep(1)\n",
    "pf.find_phases()"
   ],
   "id": "ac4846fbf91d4ec3",
   "outputs": []
  },
  {
   "metadata": {},
   "cell_type": "markdown",
   "source": "# Correlations ",
   "id": "ce1135315cc77f99"
  },
  {
   "metadata": {},
   "cell_type": "code",
   "execution_count": null,
   "source": [
    "from pianoq.misc.misc import get_locs_from_scan\n",
    "\n",
    "backlash = 0.0\n",
    "wait_after_move = 0.3\n",
    "integration_time = 1\n",
    "coin_window = 1e-9\n",
    "\n",
    "phases_path = rf'{dir_path}\\2024_10_31_10_15_02_fine_new_mirror_from_zero_more.phases'\n",
    "masks_path = fr'{dir_path}\\2024_10_31_13_04_15_U1U_dead_zone_450pix_dz10_4mm.masks'\n",
    "masks = get_good_masks(masks_path=masks_path, modes_to_keep=modes_to_keep_c2r, phases_path=phases_path)\n",
    "\n",
    "tilts = [35, 30, 25, 20, 15, 12, 10, 8]\n",
    "for t in tilts:\n",
    "    idl_path = glob.glob(rf'{dir_path}\\*fine*idler*pl10tilt_{t}_fine.scan')[0]\n",
    "    sig_path = glob.glob(rf'{dir_path}\\*fine*signal*pl10tilt_{t}_fine.scan')[0]\n",
    "    locs_idl = get_locs_from_scan(idl_path, single_num=1, show=False)\n",
    "    locs_sig = get_locs_from_scan(sig_path, single_num=2, show=False)\n",
    "    \n",
    "    mplc.plane_10_tilts = pl10tilt\n",
    "    mplc.load_masks(masks)\n",
    "\n",
    "    scan_path = fr'{dir_path}\\{tnow()}_exp_{integration_time}_p10tilt_{t}.dscan'\n",
    "\n",
    "    dps = DiscretePhotonScanner(locs_sig, locs_idl, integration_time=integration_time, remote_tagger=True, saveto_path=scan_path, backlash=backlash, wait_after_move=wait_after_move, coin_window=coin_window, no_hw_mode=True)\n",
    "\n",
    "    dps.m_sig_x, dps.m_sig_y, dps.m_idl_x, dps.m_idl_y, dps.time_tagger = mxs, mys, mxi, myi, tt\n",
    "    dps.time_tagger.set_integration_time(integration_time)\n",
    "    time.sleep(1)\n",
    "    dps.scan()"
   ],
   "id": "7e665519ada0ba32",
   "outputs": []
  }
 ],
 "metadata": {
  "kernelspec": {
   "display_name": "Python 3",
   "language": "python",
   "name": "python3"
  },
  "language_info": {
   "codemirror_mode": {
    "name": "ipython",
    "version": 2
   },
   "file_extension": ".py",
   "mimetype": "text/x-python",
   "name": "python",
   "nbconvert_exporter": "python",
   "pygments_lexer": "ipython2",
   "version": "2.7.6"
  }
 },
 "nbformat": 4,
 "nbformat_minor": 5
}
