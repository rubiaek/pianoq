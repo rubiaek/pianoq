{
 "cells": [
  {
   "metadata": {},
   "cell_type": "code",
   "source": [
    "from pianoq.misc.mplc_writeup_imports import *\n",
    "from pianoq.misc.mplc_lab_imports import * \n",
    "\n",
    "dir_path = r'G:\\My Drive\\Projects\\MPLC\\results\\lab\\2024_10_30_make_mirror_work'\n",
    "if not os.path.exists(dir_path):\n",
    "    os.mkdir(dir_path)"
   ],
   "id": "43630d512d1475a2",
   "outputs": [],
   "execution_count": null
  },
  {
   "metadata": {},
   "cell_type": "markdown",
   "source": "# WFM ",
   "id": "ae05bd6c2d56e042"
  },
  {
   "cell_type": "code",
   "id": "initial_id",
   "metadata": {
    "collapsed": true,
    "ExecuteTime": {
     "end_time": "2024-10-31T11:19:36.360452Z",
     "start_time": "2024-10-31T11:04:15.508541Z"
    }
   },
   "source": [
    "all_Us_path = r\"G:\\My Drive\\Projects\\MPLC\\results\\lab\\2024_09_10_fixing_phases_different_Us\\for_ronen_Haar_800.mat\"\n",
    "all_Us = loadmat(all_Us_path)['U1_all']\n",
    "U_no = 1\n",
    "\n",
    "for dz in [4, 6, 10, 12]:\n",
    "    timestamp = datetime.datetime.now().strftime('%Y_%m_%d_%H_%M_%S')\n",
    "    masks_path = fr'{dir_path}\\{timestamp}_U1U_dead_zone_450pix_dz10_{dz}mm.masks'\n",
    "    mplc_res_path = fr'{dir_path}\\{timestamp}_U1U_dead_zone_450pix_dz10_{dz}mm.mplcsim'\n",
    "    mplc_sim = create_WFM_unitary_masks(all_Us[:, :, U_no], N_iterations=15, out_path=masks_path, dead_middle_zone=450e-6,\n",
    "                                        last_plane_extra_dist=dz*1e-3)\n",
    "    mplc_sim.res._calc_fidelity()\n",
    "    print(dz)\n",
    "    print(mplc_sim.res.fidelity)"
   ],
   "outputs": [
    {
     "name": "stderr",
     "output_type": "stream",
     "text": [
      "100%|██████████| 15/15 [03:42<00:00, 14.84s/it]\n",
      "100%|██████████| 15/15 [03:24<00:00, 13.61s/it]\n",
      "100%|██████████| 15/15 [03:23<00:00, 13.56s/it]\n",
      "100%|██████████| 15/15 [03:20<00:00, 13.37s/it]\n"
     ]
    }
   ],
   "execution_count": 16
  },
  {
   "metadata": {
    "ExecuteTime": {
     "end_time": "2024-10-30T11:22:52.805107Z",
     "start_time": "2024-10-30T11:22:47.394442Z"
    }
   },
   "cell_type": "code",
   "source": [
    "mplc_sim.res.saveto(mplc_res_path, smaller=True)\n",
    "mplc_sim.res.show_overlap()\n",
    "mplc_sim.res._calc_fidelity()\n",
    "mplc_sim.res.fidelity"
   ],
   "id": "320b696e2434c22d",
   "outputs": [
    {
     "data": {
      "text/plain": [
       "0.9885901232826865"
      ]
     },
     "execution_count": 7,
     "metadata": {},
     "output_type": "execute_result"
    }
   ],
   "execution_count": 7
  },
  {
   "metadata": {
    "ExecuteTime": {
     "end_time": "2024-10-30T11:23:14.338565Z",
     "start_time": "2024-10-30T11:23:13.344321Z"
    }
   },
   "cell_type": "code",
   "source": "mplc_sim.res.show_all(2)",
   "id": "f7e8d3c056f39fa1",
   "outputs": [],
   "execution_count": 9
  },
  {
   "metadata": {},
   "cell_type": "markdown",
   "source": "# Hardware",
   "id": "b36481dcfb54db4"
  },
  {
   "metadata": {
    "ExecuteTime": {
     "end_time": "2024-10-30T11:28:22.221169Z",
     "start_time": "2024-10-30T11:28:21.710028Z"
    }
   },
   "cell_type": "code",
   "source": [
    "mplc = MPLCDevice(linear_tilts=True, plane_10_tilts=35)\n",
    "integration_time = 1\n",
    "coin_window = 2e-9\n",
    "tt = get_timetagger(coin_window=coin_window, integration_time=integration_time)"
   ],
   "id": "8c6e6fb72f8e5569",
   "outputs": [
    {
     "name": "stdout",
     "output_type": "stream",
     "text": [
      "God timetagger\n"
     ]
    }
   ],
   "execution_count": 2
  },
  {
   "metadata": {
    "ExecuteTime": {
     "end_time": "2024-10-30T11:28:28.345056Z",
     "start_time": "2024-10-30T11:28:22.351839Z"
    }
   },
   "cell_type": "code",
   "source": [
    "backlash = 0\n",
    "wait_after_move = 0.2\n",
    "mxs, mys = get_signal_motors(backlash=backlash, wait_after_move=wait_after_move)\n",
    "\n",
    "backlash = 0\n",
    "wait_after_move = 0.2\n",
    "mxi, myi = get_idler_motors(backlash=backlash, wait_after_move=wait_after_move)\n"
   ],
   "id": "4e315351cdbd2240",
   "outputs": [
    {
     "name": "stdout",
     "output_type": "stream",
     "text": [
      "Got Zaber motors\n",
      "Got Thorlabs motors\n"
     ]
    }
   ],
   "execution_count": 3
  },
  {
   "metadata": {},
   "cell_type": "markdown",
   "source": "# Single counts",
   "id": "c638832778fd7645"
  },
  {
   "metadata": {
    "jupyter": {
     "is_executing": true
    },
    "ExecuteTime": {
     "start_time": "2024-10-31T11:27:14.811933Z"
    }
   },
   "cell_type": "code",
   "source": [
    "for dz in [4, 6, 10, 12]:\n",
    "    \n",
    "    # temp phases, that are probably better than nothing \n",
    "    phases_path = rf'{dir_path}\\2024_10_31_10_15_02_fine_new_mirror_from_zero_more.phases'\n",
    "    # masks_path = fr'{dir_path}\\2024_10_30_13_10_41_U1U_dead_zone_450pix_dz10_8mm.masks'\n",
    "    masks_path = glob.glob(rf'{dir_path}\\*dz10_{dz}mm.masks')[0]\n",
    "    \n",
    "    masks = get_good_masks(masks_path=masks_path, modes_to_keep=modes_to_keep, phases_path=phases_path)\n",
    "    mplc.load_masks(masks)\n",
    "    time.sleep(0.5)\n",
    "    mplc.restore_location()\n",
    "    \n",
    "    scan_saveto_path = rf'{dir_path}\\{tnow()}_5spots_fine_signal_dead_zone_450um_dz10_{dz}mm_p10_tilts_35.scan'\n",
    "    \n",
    "    start_x = 12.75\n",
    "    end_x = 13.35\n",
    "    start_y = 4.75\n",
    "    end_y = 6.6\n",
    "    \n",
    "    resolution = 1\n",
    "    x_pixels = 24 // resolution\n",
    "    y_pixels = 76 // resolution\n",
    "    pixel_size_x = 0.025 * resolution\n",
    "    pixel_size_y = 0.025 * resolution\n",
    "    \n",
    "    scanner = PhotonScanner(integration_time, start_x, start_y, x_pixels, y_pixels, pixel_size_x, pixel_size_y, is_timetagger=True, coin_window=coin_window, saveto_path=scan_saveto_path) \n",
    "    tt = get_timetagger(integration_time=1)  # important to have a new tt \n",
    "    t1 = run_in_thread(scanner.scan, x_motor=mxs, y_motor=mys, ph=tt)\n",
    "    \n",
    "    time.sleep(2)\n",
    "    \n",
    "    scan_saveto_path = rf'{dir_path}\\{tnow()}_5spots_fine_idler_dead_zone_450um_dz10_{dz}mm_p10_tilts_35.scan'\n",
    "    \n",
    "    start_x = 9.25\n",
    "    end_x = 9.75\n",
    "    start_y = 3.6\n",
    "    end_y = 5.35\n",
    "    \n",
    "    x_pixels = 20 // resolution\n",
    "    y_pixels = 70 // resolution\n",
    "    pixel_size_x = 0.025 * resolution\n",
    "    pixel_size_y = 0.025 * resolution\n",
    "    \n",
    "    scanner = PhotonScanner(integration_time, start_x, start_y, x_pixels, y_pixels, pixel_size_x, pixel_size_y, is_timetagger=True, coin_window=coin_window, saveto_path=scan_saveto_path)\n",
    "    tt2 = get_timetagger(integration_time=1)\n",
    "    t2 = run_in_thread(scanner.scan, x_motor=mxi, y_motor=myi, ph=tt2)\n",
    "    t1.join()\n",
    "    send_telegram_message(f'Done one singles scan {dz=}')\n",
    "    t2.join()    \n",
    "    send_telegram_message(f'Done second singles scan {dz=}')"
   ],
   "id": "7d67450a69ebeab",
   "outputs": [],
   "execution_count": null
  },
  {
   "metadata": {},
   "cell_type": "markdown",
   "source": "# mark spots ",
   "id": "746e9ee13610e107"
  },
  {
   "metadata": {
    "ExecuteTime": {
     "end_time": "2024-10-30T13:20:17.744737Z",
     "start_time": "2024-10-30T13:19:40.124658Z"
    }
   },
   "cell_type": "code",
   "source": [
    "locs_signal_path = fr'{dir_path}\\{tnow()}_s2_sig.locs'\n",
    "locs_idler_path = fr'{dir_path}\\{tnow()}_s1_idl.locs'\n",
    "\n",
    "res_idl = ScanResult(fr'{dir_path}\\2024_10_30_14_03_30_5spots_fine_idler_dead_zone_450um_dz10_8mm_p10_tilts_35.scan')\n",
    "res_sig = ScanResult(fr'{dir_path}\\2024_10_30_14_03_28_5spots_fine_signal_dead_zone_450um_dz10_8mm_p10_tilts_35.scan')\n",
    "# res_idl.show_singles()\n",
    "# res_sig.show_singles()\n",
    "res_idl.get_xys(1, saveto_path=locs_idler_path)\n",
    "res_sig.get_xys(2, saveto_path=locs_signal_path)"
   ],
   "id": "7c6473563853dc5",
   "outputs": [
    {
     "data": {
      "text/plain": [
       "[(13.025198967698966, 5.0285422910422914),\n",
       " (13.042914585414582, 5.372731435231436),\n",
       " (13.047976190476188, 5.709328171828172),\n",
       " (13.093530636030634, 6.050986513486514),\n",
       " (13.123900266400264, 6.379990842490844)]"
      ]
     },
     "execution_count": 9,
     "metadata": {},
     "output_type": "execute_result"
    }
   ],
   "execution_count": 9
  },
  {
   "metadata": {},
   "cell_type": "markdown",
   "source": "# Phases ",
   "id": "3428291e3776cd33"
  },
  {
   "metadata": {
    "ExecuteTime": {
     "end_time": "2024-10-31T09:39:20.079518Z",
     "start_time": "2024-10-31T08:15:01.632377Z"
    }
   },
   "cell_type": "code",
   "source": [
    "masks_path = fr'{dir_path}\\2024_10_30_13_10_41_U1U_dead_zone_450pix_dz10_8mm.masks'\n",
    "masks = get_good_masks(masks_path=masks_path, modes_to_keep=modes_to_keep, phases_path=None)  # have this with clean phases when sending to the phase finder \n",
    "mplc.load_masks(masks)\n",
    "\n",
    "saveto_path = fr'{dir_path}\\{tnow()}_fine_new_mirror_from_zero_more.phases'\n",
    "integration_time = 50\n",
    "\n",
    "# previous phases result \n",
    "old_phases_path = fr\"G:\\My Drive\\Projects\\MPLC\\results\\lab\\2024_09_25_BS_to_mirror\\2024_10_07_19_14_12_fine_new_mirror_from_zero_more.phases\"\n",
    "old_phases_result = PhaseFinderResult(old_phases_path)\n",
    "old_phases_result.reload()\n",
    "initial_phases = old_phases_result.phases\n",
    "\n",
    "\n",
    "pf = PhaseFinder(mplc=mplc, integration_time=integration_time, remote_tagger=True, saveto_path=saveto_path,\n",
    "                 modes_to_keep=modes_to_keep, intial_phases=initial_phases, coin_window=tt.coin_window, no_hw_mode=True)\n",
    "\n",
    "pf.time_tagger = tt\n",
    "pf.time_tagger.set_integration_time(integration_time)\n",
    "\n",
    "# locs \n",
    "locs_idl = np.load(fr'{dir_path}\\2024_10_30_15_19_40_s1_idl.locs')['locs']\n",
    "locs_sig = np.load(fr'{dir_path}\\2024_10_30_15_19_40_s2_sig.locs')['locs']\n",
    "\n",
    "# i,j of corr matrix that is supposed to be strong \n",
    "i = 1\n",
    "j = 1\n",
    "mxi.move_absolute(locs_idl[i, 0])\n",
    "myi.move_absolute(locs_idl[i, 1])\n",
    "mxs.move_absolute(locs_sig[j, 0])\n",
    "mys.move_absolute(locs_sig[j, 1])\n",
    "mplc.restore_location()\n",
    "time.sleep(1)\n",
    "pf.find_phases()"
   ],
   "id": "3519a69fc73ca617",
   "outputs": [],
   "execution_count": 14
  },
  {
   "metadata": {},
   "cell_type": "markdown",
   "source": "# Correlations ",
   "id": "9bb83472f7546cdd"
  },
  {
   "metadata": {
    "ExecuteTime": {
     "end_time": "2024-10-31T10:21:11.423034Z",
     "start_time": "2024-10-31T09:59:44.698650Z"
    }
   },
   "cell_type": "code",
   "source": [
    "backlash = 0.0\n",
    "wait_after_move = 0.3\n",
    "integration_time = 50\n",
    "coin_window = 1e-9\n",
    "\n",
    "phases_path = rf'{dir_path}\\2024_10_31_10_15_02_fine_new_mirror_from_zero_more.phases'\n",
    "masks_path = fr'{dir_path}\\2024_10_30_13_10_41_U1U_dead_zone_450pix_dz10_8mm.masks'\n",
    "masks = get_good_masks(masks_path=masks_path, modes_to_keep=modes_to_keep, phases_path=phases_path)\n",
    "mplc.load_masks(masks)\n",
    "\n",
    "scan_path = fr'{dir_path}\\{tnow()}.dscan'\n",
    "\n",
    "locs_idl = np.load(fr'{dir_path}\\2024_10_30_15_19_40_s1_idl.locs')['locs']\n",
    "locs_sig = np.load(fr'{dir_path}\\2024_10_30_15_19_40_s2_sig.locs')['locs']\n",
    "\n",
    "dps = DiscretePhotonScanner(locs_sig, locs_idl, integration_time=integration_time, remote_tagger=True, saveto_path=scan_path,\n",
    "                            backlash=backlash, wait_after_move=wait_after_move, coin_window=coin_window, no_hw_mode=True)\n",
    "\n",
    "dps.m_sig_x, dps.m_sig_y, dps.m_idl_x, dps.m_idl_y, dps.time_tagger = mxs, mys, mxi, myi, tt\n",
    "dps.time_tagger.set_integration_time(integration_time)\n",
    "time.sleep(1)\n",
    "dps.scan()"
   ],
   "id": "7cc34684c403a5a",
   "outputs": [],
   "execution_count": 15
  }
 ],
 "metadata": {
  "kernelspec": {
   "display_name": "Python 3",
   "language": "python",
   "name": "python3"
  },
  "language_info": {
   "codemirror_mode": {
    "name": "ipython",
    "version": 2
   },
   "file_extension": ".py",
   "mimetype": "text/x-python",
   "name": "python",
   "nbconvert_exporter": "python",
   "pygments_lexer": "ipython2",
   "version": "2.7.6"
  }
 },
 "nbformat": 4,
 "nbformat_minor": 5
}
