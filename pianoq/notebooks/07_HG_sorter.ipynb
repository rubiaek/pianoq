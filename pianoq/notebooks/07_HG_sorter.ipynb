{
 "cells": [
  {
   "cell_type": "code",
   "execution_count": null,
   "id": "initial_id",
   "metadata": {
    "collapsed": true
   },
   "outputs": [],
   "source": [
    "from pianoq.misc.mplc_writeup_imports import * \n",
    "from pianoq.misc.mplc_lab_imports import * \n",
    "\n",
    "dir_path = r'G:\\My Drive\\Projects\\MPLC\\results\\lab\\2024_10_28_HG_modes_singles_counts'\n",
    "if not os.path.exists(dir_path):\n",
    "    os.mkdir(dir_path)"
   ]
  },
  {
   "metadata": {},
   "cell_type": "code",
   "outputs": [],
   "execution_count": null,
   "source": [
    "cam = PCOCamera()\n",
    "cam.set_exposure_time(5)"
   ],
   "id": "9391d680d33de13b"
  },
  {
   "metadata": {},
   "cell_type": "code",
   "outputs": [],
   "execution_count": null,
   "source": [
    "mplc = MPLCDevice()\n",
    "\"\"\"\n",
    "modes are ordered like this:\n",
    "25 20 15 10 5 \n",
    "24 19 14 9  4 \n",
    "23 18 13 8  3 \n",
    "22 17 12 7  2 \n",
    "21 16 11 6  1 \n",
    "\n",
    "26 31 36 41 46\n",
    "27 32 37 42 47\n",
    "28 33 35 43 48\n",
    "29 34 39 44 49\n",
    "30 35 40 45 50 \n",
    "\"\"\"\n",
    "\n",
    "how_many = 5\n",
    "\n",
    "if how_many == 2:\n",
    "    modes_to_keep = np.array([13, 18])\n",
    "    path = fr\"{dir_path}\\Nq2_271024_4Ronen.mat\"\n",
    "\n",
    "elif how_many == 3:\n",
    "    modes_to_keep = np.array([13, 18, 23])\n",
    "    path = fr\"{dir_path}\\Nq3_271024_4Ronen.mat\"\n",
    "\n",
    "elif how_many == 5:\n",
    "    modes_to_keep = np.array([8, 13, 18, 23, 28])\n",
    "    path = fr\"{dir_path}\\Nq5_271024_4Ronen.mat\"\n",
    "\n",
    "masks = get_masks_matlab(path)\n",
    "masks = remove_input_modes(masks, modes_to_keep=modes_to_keep)\n",
    "mplc.load_masks(masks)\n",
    "\n",
    "# for HG\n",
    "roi = (700, 400, 1100, 800)\n",
    "# cam.show_image(roi=roi)\n",
    "\n",
    "cam.save_image(rf'{dir_path}\\HG_{how_many}_modes_before_alignment.fits', roi=roi)\n",
    "cam.save_image(rf'{dir_path}\\HG_{how_many}_modes_after_alignment.fits', roi=roi)\n",
    "\n",
    "cam.close()"
   ],
   "id": "eaaf20a7423e149b"
  }
 ],
 "metadata": {
  "kernelspec": {
   "display_name": "Python 3",
   "language": "python",
   "name": "python3"
  },
  "language_info": {
   "codemirror_mode": {
    "name": "ipython",
    "version": 2
   },
   "file_extension": ".py",
   "mimetype": "text/x-python",
   "name": "python",
   "nbconvert_exporter": "python",
   "pygments_lexer": "ipython2",
   "version": "2.7.6"
  }
 },
 "nbformat": 4,
 "nbformat_minor": 5
}
