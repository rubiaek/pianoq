{
 "cells": [
  {
   "metadata": {},
   "cell_type": "markdown",
   "source": "# General preparations",
   "id": "e78f8d52f15003c3"
  },
  {
   "metadata": {
    "ExecuteTime": {
     "end_time": "2024-09-10T10:57:22.573719Z",
     "start_time": "2024-09-10T10:57:22.472268Z"
    }
   },
   "cell_type": "code",
   "source": [
    "from misc.misc import run_in_thread_simple, run_in_thread\n",
    "%load_ext autoreload\n",
    "%autoreload 2\n",
    "# %matplotlib notebook\n",
    "import matplotlib\n",
    "matplotlib.use('TKAgg')\n",
    "import os \n",
    "import datetime\n",
    "import glob \n",
    "import numpy as np\n",
    "import matplotlib.pyplot as plt\n",
    "from scipy.io import loadmat\n",
    "from pianoq.simulations.mplc_sim.mplc_sim import MPLCSim\n",
    "from pianoq.simulations.mplc_sim.mplc_modes2 import gen_input_spots_array, gen_output_modes_Unitary\n",
    "from pianoq.simulations.mplc_sim.mplc_sim_result import MPLCMasks\n",
    "from pianoq.lab.mplc.singles_scan import signal_scan, idler_scan, get_signal_scanner, get_idler_scanner\n",
    "from pianoq.lab.mplc.mask_utils import remove_input_modes\n",
    "from pianoq.lab.mplc.mplc_device import MPLCDevice\n",
    "from pianoq.misc.misc import run_in_thread, run_in_thread_simple\n",
    "from pianoq.simulations.mplc_sim.create_wfm_masks import create_WFM_QKD_masks, create_WFM_unitary_masks\n",
    "import time "
   ],
   "id": "9105b564801cb555",
   "outputs": [
    {
     "name": "stdout",
     "output_type": "stream",
     "text": [
      "The autoreload extension is already loaded. To reload it, use:\n",
      "  %reload_ext autoreload\n"
     ]
    }
   ],
   "execution_count": 5
  },
  {
   "metadata": {
    "ExecuteTime": {
     "end_time": "2024-09-10T10:47:25.127124Z",
     "start_time": "2024-09-10T10:47:23.994354Z"
    }
   },
   "cell_type": "code",
   "source": [
    "dir_path = r'G:\\My Drive\\Projects\\MPLC\\results\\lab\\2024_10_09_fixing_phases_different_Us'\n",
    "if not os.path.exists(dir_path):\n",
    "    os.mkdir(dir_path)"
   ],
   "id": "65ccd324b64ca608",
   "outputs": [],
   "execution_count": 2
  },
  {
   "metadata": {
    "ExecuteTime": {
     "end_time": "2024-09-09T18:08:21.149182Z",
     "start_time": "2024-09-09T18:08:20.421611Z"
    }
   },
   "cell_type": "code",
   "source": [
    "# MPLC\n",
    "mplc = MPLCDevice()\n",
    "mplc.restore_location()\n",
    "print('Got MPLC')"
   ],
   "id": "88ae892cc66a3973",
   "outputs": [
    {
     "name": "stdout",
     "output_type": "stream",
     "text": [
      "Got MPLC\n"
     ]
    }
   ],
   "execution_count": 3
  },
  {
   "metadata": {
    "ExecuteTime": {
     "end_time": "2024-09-09T18:08:21.386247Z",
     "start_time": "2024-09-09T18:08:21.286415Z"
    }
   },
   "cell_type": "code",
   "source": [
    "def get_masks(U_no):\n",
    "    paths = glob.glob(fr'{dir_path}\\U{U_no}U*.masks')\n",
    "    assert len(paths) == 1, 'should be only one '\n",
    "    msks = MPLCMasks()\n",
    "    msks.loadfrom(paths[0])\n",
    "    return msks.real_masks\n",
    "    \n",
    "modes_to_keep = np.array([3, 8, 13, 18, 23, 28, 33, 38, 43, 48])"
   ],
   "id": "b402217c7b6ffd18",
   "outputs": [],
   "execution_count": 4
  },
  {
   "metadata": {},
   "cell_type": "markdown",
   "source": [
    "## Checklist\n",
    "- [X] make list\n",
    "- [X] create masks WFM\n",
    "- [X] measure single counts \n",
    "- [X] mark spots locations \n",
    "- [ ] find phases\n",
    "- [ ] measure coincidence no phases\n",
    "- [ ] measure with good phases \n",
    "- [ ] measure with random phases X 5 "
   ],
   "id": "e342907bdf6e48a2"
  },
  {
   "metadata": {},
   "cell_type": "markdown",
   "source": "# Create masks WFM",
   "id": "31a57c6b489ea209"
  },
  {
   "metadata": {
    "ExecuteTime": {
     "end_time": "2024-09-10T11:12:53.839173Z",
     "start_time": "2024-09-10T10:57:31.782444Z"
    }
   },
   "cell_type": "code",
   "source": [
    "all_Us_path = r\"G:\\My Drive\\Projects\\MPLC\\results\\lab\\2024_10_09_fixing_phases_different_Us\\for_ronen_Haar_800.mat\"\n",
    "all_Us = loadmat(all_Us_path)['U1_all']\n",
    "mplc_sims = []\n",
    "for U_no in range(5):\n",
    "    timestamp = datetime.datetime.now().strftime('%Y_%m_%d_%H_%M_%S')\n",
    "    masks_path = fr'{dir_path}\\U{U_no}U_{timestamp}.masks'\n",
    "    mplc_sim = create_WFM_unitary_masks(all_Us[:, :, U_no], N_iterations=15, out_path=masks_path)\n",
    "    mplc_sims.append(mplc_sim)"
   ],
   "id": "af0918adec3ec8ea",
   "outputs": [
    {
     "name": "stderr",
     "output_type": "stream",
     "text": [
      "100%|██████████| 15/15 [02:47<00:00, 11.15s/it]\n",
      "100%|██████████| 15/15 [02:51<00:00, 11.41s/it]\n",
      "100%|██████████| 15/15 [02:49<00:00, 11.29s/it]\n",
      "100%|██████████| 15/15 [02:49<00:00, 11.29s/it]\n",
      "100%|██████████| 15/15 [02:46<00:00, 11.10s/it]\n"
     ]
    }
   ],
   "execution_count": 6
  },
  {
   "metadata": {},
   "cell_type": "code",
   "source": [
    "for U_no in range(5):\n",
    "    mplc_sims[U_no].res._calc_normalized_overlap()\n",
    "    display(np.angle(np.diag(mplc_sims[U_no].res.forward_overlap)))\n",
    "    display(np.diag(mplc_sims[U_no].res.forward_overlap))\n",
    "    mplc_sims[U_no].res._calc_fidelity()\n",
    "    display(mplc_sims[U_no].res.fidelity)"
   ],
   "id": "25115b5c43ad08bb",
   "outputs": [],
   "execution_count": null
  },
  {
   "metadata": {
    "ExecuteTime": {
     "end_time": "2024-09-10T11:21:15.121499Z",
     "start_time": "2024-09-10T11:21:02.613314Z"
    }
   },
   "cell_type": "code",
   "source": [
    "for U_no in range(5):\n",
    "    mplc_sims[U_no].res.show_overlap()"
   ],
   "id": "7139ae8f2268067d",
   "outputs": [],
   "execution_count": 8
  },
  {
   "metadata": {
    "ExecuteTime": {
     "end_time": "2024-09-10T11:22:26.837583Z",
     "start_time": "2024-09-10T11:22:25.870446Z"
    }
   },
   "cell_type": "code",
   "source": [
    "for U_no in range(5):\n",
    "    fig, axes = plt.subplots(2, 5)\n",
    "    for i, ax in enumerate(axes.flat):\n",
    "        # ax.imshow(np.angle(res.masks[i][360:720, 140:280]), cmap='gray')\n",
    "        ax.imshow(np.angle(mplc_sims[U_no].res.masks[i][360:720, 140:280]), cmap='gray')\n",
    "        fig.show()"
   ],
   "id": "90505ea8297bdd08",
   "outputs": [],
   "execution_count": 12
  },
  {
   "metadata": {
    "ExecuteTime": {
     "end_time": "2024-09-10T11:23:51.518764Z",
     "start_time": "2024-09-10T11:23:50.253851Z"
    }
   },
   "cell_type": "code",
   "source": "mplc_sims[3].res.show_all(4)",
   "id": "17986d9159a6e57d",
   "outputs": [],
   "execution_count": 15
  },
  {
   "metadata": {},
   "cell_type": "markdown",
   "source": "# Find locations with single counts ",
   "id": "c65980cc75282924"
  },
  {
   "metadata": {
    "ExecuteTime": {
     "end_time": "2024-09-09T09:22:58.290379Z",
     "start_time": "2024-09-09T09:22:57.364355Z"
    }
   },
   "cell_type": "code",
   "source": [
    "resolution = 4\n",
    "\n",
    "scanner_sig, x_motor_sig, y_motor_sig, time_tagger_sig = get_signal_scanner(integration_time=1.0, coin_window=2e-9, resolution=resolution, half_scan=True)\n",
    "scanner_idl, x_motor_idl, y_motor_idl, time_tagger_idl = get_idler_scanner(integration_time=1.0, coin_window=2e-9, resolution=resolution, half_scan=True)\n",
    "\n",
    "for U_no in range(2):\n",
    "    masks = get_masks(U_no)\n",
    "    masks = remove_input_modes(masks, modes_to_keep=modes_to_keep)\n",
    "    mplc.load_masks(masks, linear_tilts=True)\n",
    "    mplc.restore_location()\n",
    "    \n",
    "    timestamp = datetime.datetime.now().strftime('%Y_%m_%d_%H_%M_%S')\n",
    "    singles_idler_path = fr'{dir_path}\\{timestamp}_QKD_MUB2_signal_res_{resolution}.scan'\n",
    "    singles_signal_path = fr'{dir_path}\\{timestamp}_QKD_MUB2_idler_res_{resolution}.scan'\n",
    "    \n",
    "    scanner_sig.saveto_path = singles_signal_path\n",
    "    scanner_idl.saveto_path = singles_idler_path\n",
    "    t = run_in_thread(scanner_sig.scan, x_motor=x_motor_sig, y_motor=y_motor_sig, ph=time_tagger_sig)\n",
    "    t2 = run_in_thread(scanner_idl.scan, x_motor=x_motor_idl, y_motor=y_motor_idl, ph=time_tagger_idl)    \n",
    "    t.join()\n",
    "    t2.join()"
   ],
   "id": "87edfd79635f86bb",
   "outputs": [],
   "execution_count": 5
  },
  {
   "metadata": {},
   "cell_type": "markdown",
   "source": "## mark spots locations  ",
   "id": "df1fd74526afd1a0"
  },
  {
   "metadata": {
    "ExecuteTime": {
     "end_time": "2024-09-09T10:36:20.492842Z",
     "start_time": "2024-09-09T10:36:20.096180Z"
    }
   },
   "cell_type": "code",
   "source": [
    "from pianoq_results.scan_result import ScanResult\n",
    "\n",
    "path_sig = glob.glob(fr'{dir_path}\\*signal_res_1.scan')[0]\n",
    "path_idl = glob.glob(fr'{dir_path}\\*idler_res_1.scan')[0]\n",
    "\n",
    "res_sig = ScanResult()\n",
    "res_idl = ScanResult()\n",
    "res_idl.loadfrom(path_idl)\n",
    "res_sig.loadfrom(path_sig)\n",
    "res_idl.show_singles()\n",
    "res_sig.show_singles()"
   ],
   "id": "a16a562dd8c9b6d7",
   "outputs": [],
   "execution_count": 14
  },
  {
   "metadata": {},
   "cell_type": "code",
   "source": [
    "_ = res_sig.get_xys(1, saveto_dir=dir_path)\n",
    "_ = res_idl.get_xys(2, saveto_dir=dir_path)"
   ],
   "id": "306a6f53fb143172",
   "outputs": [],
   "execution_count": null
  },
  {
   "metadata": {},
   "cell_type": "markdown",
   "source": "# Find phases",
   "id": "50c99612fdab2a55"
  },
  {
   "metadata": {
    "ExecuteTime": {
     "end_time": "2024-09-09T10:44:55.626692Z",
     "start_time": "2024-09-09T10:44:44.947509Z"
    }
   },
   "cell_type": "code",
   "source": [
    "from pianoq.lab.mplc.phase_finder_result import PhaseFinderResult\n",
    "from pianoq.lab.mplc.find_discreet_phases import PhaseFinder\n",
    "import glob \n",
    "from pianoq.simulations.mplc_sim.mplc_sim_result import MPLCMasks\n",
    "from pianoq.lab.mplc.singles_scan import signal_scan, idler_scan\n",
    "import numpy as np\n",
    "from pianoq.lab.mplc.mplc_device import MPLCDevice\n",
    "from pianoq.lab.mplc.mask_utils import remove_input_modes, add_phase_input_spots\n",
    "import time \n",
    "\n",
    "\n",
    "locs_sig_path = glob.glob(fr'{dir_path}\\*sig.locs')[0]\n",
    "locs_idl_path = glob.glob(fr'{dir_path}\\*idl.locs')[0]\n",
    "locs_sig = np.load(locs_sig_path)['locs']\n",
    "locs_idl = np.load(locs_idl_path)['locs']\n",
    "\n",
    "masks = orig_masks.copy()\n",
    "masks = remove_input_modes(masks, modes_to_keep=modes_to_keep)\n",
    "\n",
    "mplc.load_masks(masks, linear_tilts=True)\n",
    "initiail_phases = np.zeros(25 * 2)\n",
    "\n",
    "timestamp = datetime.datetime.now().strftime('%Y_%m_%d_%H_%M_%S')\n",
    "phases_path = fr'{dir_path}\\{timestamp}_QKD_MUB2_signal.phases'\n",
    "\n",
    "# i,j of corr matrix that is supposed to be strong \n",
    "i = 0\n",
    "j = 0\n",
    "pf = PhaseFinder(mplc=mplc, integration_time=30, remote_tagger=True, saveto_path=phases_path,\n",
    "                 modes_to_keep=modes_to_keep, intial_phases=initiail_phases, coin_window=2e-9)\n",
    "pf.m_idl_x.move_absolute(locs_idl[i, 0])\n",
    "pf.m_idl_y.move_absolute(locs_idl[i, 1])\n",
    "pf.m_sig_x.move_absolute(locs_sig[j, 0])\n",
    "pf.m_sig_y.move_absolute(locs_sig[j, 1])"
   ],
   "id": "61a7669a214da121",
   "outputs": [
    {
     "name": "stdout",
     "output_type": "stream",
     "text": [
      "Got Zaber motors!\n",
      "Got Thorlabs motors!\n",
      "Got TimeTagger!\n"
     ]
    }
   ],
   "execution_count": 7
  },
  {
   "metadata": {
    "ExecuteTime": {
     "end_time": "2024-09-09T10:45:09.036471Z",
     "start_time": "2024-09-09T10:45:08.944065Z"
    }
   },
   "cell_type": "code",
   "source": [
    "initiail_phases = np.zeros(25 * 2)\n",
    "pf.res.phases = initiail_phases\n",
    "pf.res.initial_phases = initiail_phases\n",
    "\n",
    "mplc.restore_location()"
   ],
   "id": "a121a64ef9658aba",
   "outputs": [],
   "execution_count": 9
  },
  {
   "metadata": {},
   "cell_type": "code",
   "source": "pf.find_phases()",
   "id": "34b76e811b9703bf",
   "outputs": [],
   "execution_count": null
  },
  {
   "metadata": {
    "ExecuteTime": {
     "end_time": "2024-09-09T07:19:19.641049Z",
     "start_time": "2024-09-09T07:19:17.983210Z"
    }
   },
   "cell_type": "code",
   "source": "pf.close()",
   "id": "10500c8ef73e9a3c",
   "outputs": [],
   "execution_count": 6
  },
  {
   "metadata": {},
   "cell_type": "code",
   "source": "pf.res.phases",
   "id": "af043acf8e47a0b1",
   "outputs": [],
   "execution_count": null
  },
  {
   "metadata": {
    "ExecuteTime": {
     "end_time": "2024-09-09T11:36:34.049473100Z",
     "start_time": "2024-09-09T11:36:12.375501Z"
    }
   },
   "cell_type": "code",
   "source": "pf.res.plot_best_phases()",
   "id": "cfe2694c5942d199",
   "outputs": [
    {
     "name": "stdout",
     "output_type": "stream",
     "text": [
      "3\n"
     ]
    }
   ],
   "execution_count": null
  },
  {
   "metadata": {},
   "cell_type": "markdown",
   "source": "# Scan correlations ",
   "id": "303c088f09fd5dc0"
  },
  {
   "metadata": {
    "jupyter": {
     "is_executing": true
    },
    "ExecuteTime": {
     "start_time": "2024-09-09T18:08:45.790139Z"
    }
   },
   "cell_type": "code",
   "source": [
    "from pianoq.lab.mplc.phase_finder_result import PhaseFinderResult\n",
    "from pianoq.lab.mplc.discrete_photon_scanner import DiscretePhotonScanner\n",
    "from pianoq.simulations.mplc_sim.mplc_sim_result import MPLCMasks\n",
    "from pianoq.lab.mplc.mask_utils import remove_input_modes, add_phase_input_spots\n",
    "from pianoq.lab.mplc.mplc_device import MPLCDevice\n",
    "import glob\n",
    "import time \n",
    "\n",
    "phases_result = PhaseFinderResult()\n",
    "phases_path = glob.glob(fr'{dir_path}\\*.phases')[0]\n",
    "phases_result.loadfrom(phases_path)\n",
    "\n",
    "locs_sig_path = glob.glob(fr'{dir_path}\\*sig.locs')[0]\n",
    "locs_idl_path = glob.glob(fr'{dir_path}\\*idl.locs')[0]\n",
    "locs_sig = np.load(locs_sig_path)['locs']\n",
    "locs_idl = np.load(locs_idl_path)['locs']\n",
    "\n",
    "\n",
    "backlash = 0.0\n",
    "wait_after_move = 0.3\n",
    "integration_time = 50\n",
    "coin_window = 0.4e-9\n",
    "timestamp = datetime.datetime.now().strftime('%Y_%m_%d_%H_%M_%S')\n",
    "phases_type = 'XXX'\n",
    "scan_path = fr'{dir_path}\\{timestamp}_QKD_MUB2_{phases_type}_exp_{integration_time}s.dscan'\n",
    "dps = DiscretePhotonScanner(locs_sig, locs_idl, integration_time=integration_time, remote_tagger=True, saveto_path=scan_path,\n",
    "                            backlash=backlash, wait_after_move=wait_after_move, coin_window=coin_window)\n",
    "time.sleep(3)\n",
    "\n",
    "if True:\n",
    "    phases_type = 'good'\n",
    "    phases = phases_result.phases\n",
    "    \n",
    "    masks = orig_masks.copy()\n",
    "    masks = remove_input_modes(masks, modes_to_keep=modes_to_keep)\n",
    "    masks = add_phase_input_spots(masks, phases)\n",
    "    \n",
    "    mplc.load_masks(masks, linear_tilts=True)\n",
    "    mplc.restore_location()\n",
    "    timestamp = datetime.datetime.now().strftime('%Y_%m_%d_%H_%M_%S')\n",
    "    used_phases_path = fr'{dir_path}\\{timestamp}_used_phases_{phases_type}'\n",
    "    np.savez(used_phases_path, phase=phases)\n",
    "    scan_path = fr'{dir_path}\\{timestamp}_QKD_MUB2_{phases_type}_exp_{integration_time}s_coin_{int(coin_window*1e12)}.dscan'\n",
    "    dps.res.path = scan_path\n",
    "    dps.scan()\n",
    "\n",
    "if True:\n",
    "    phases_type = 'none'\n",
    "    phases = np.zeros_like(phases_result.phases)\n",
    "    \n",
    "    masks = orig_masks.copy()\n",
    "    masks = remove_input_modes(masks, modes_to_keep=modes_to_keep)\n",
    "    masks = add_phase_input_spots(masks, phases)\n",
    "    \n",
    "    mplc.load_masks(masks, linear_tilts=True)\n",
    "    mplc.restore_location()\n",
    "    timestamp = datetime.datetime.now().strftime('%Y_%m_%d_%H_%M_%S')\n",
    "    used_phases_path = fr'{dir_path}\\{timestamp}_used_phases_{phases_type}'\n",
    "    np.savez(used_phases_path, phase=phases)\n",
    "    scan_path = fr'{dir_path}\\{timestamp}_QKD_MUB2_{phases_type}_exp_{integration_time}s_coin_{int(coin_window*1e12)}.dscan'\n",
    "    dps.res.path = scan_path\n",
    "    dps.scan()\n",
    "\n",
    "if True:\n",
    "    phases_type = 'random'\n",
    "    phases = np.random.uniform(0, 2*np.pi, len(phases_result.phases))\n",
    "    \n",
    "    \n",
    "    for i in range(10):\n",
    "        # several different random phases \n",
    "        masks = orig_masks.copy()\n",
    "        masks = remove_input_modes(masks, modes_to_keep=modes_to_keep)\n",
    "        # phases = np.random.uniform(0, 2*np.pi, len(phases_result.phases))  # Always random right now <-----------------------------------\n",
    "        masks = add_phase_input_spots(masks, phases)\n",
    "        \n",
    "        mplc.load_masks(masks, linear_tilts=True)\n",
    "        mplc.restore_location()\n",
    "        timestamp = datetime.datetime.now().strftime('%Y_%m_%d_%H_%M_%S')\n",
    "        used_phases_path = fr'{dir_path}\\{timestamp}_used_phases_{phases_type}'\n",
    "        np.savez(used_phases_path, phase=phases)\n",
    "        scan_path = fr'{dir_path}\\{timestamp}_QKD_MUB2_{phases_type}_exp_{integration_time}s_coin_{int(coin_window*1e12)}.dscan'\n",
    "        dps.res.path = scan_path\n",
    "        dps.scan()"
   ],
   "id": "3b230456d0fc1a07",
   "outputs": [
    {
     "name": "stdout",
     "output_type": "stream",
     "text": [
      "Got Zaber motors!\n",
      "Got Thorlabs motors!\n",
      "Got TimeTagger!\n",
      "beginning scan\n",
      "0, 0: 5970.12, 6339.22, 2.42\n",
      "0, 1: 5970.44, 5779.40, 0.12\n",
      "0, 2: 5994.76, 5841.92, 0.10\n"
     ]
    }
   ],
   "execution_count": null
  },
  {
   "metadata": {
    "ExecuteTime": {
     "end_time": "2024-09-09T12:57:28.161671Z",
     "start_time": "2024-09-09T12:35:54.517145Z"
    }
   },
   "cell_type": "code",
   "source": [
    "used_phases_path = fr'{dir_path}\\{timestamp}_used_phases_{phases_type}'\n",
    "np.savez(used_phases_path, phase=phases)\n",
    "dps.scan()"
   ],
   "id": "d571e8bd711b913a",
   "outputs": [
    {
     "name": "stdout",
     "output_type": "stream",
     "text": [
      "beginning scan\n",
      "0, 0: 6410.28, 5122.56, 1.94\n",
      "0, 1: 6410.62, 4742.22, 0.58\n",
      "0, 2: 6388.90, 4903.08, 0.44\n",
      "0, 3: 6405.98, 5998.72, 1.28\n",
      "0, 4: 6392.06, 5643.90, 0.84\n",
      "1, 0: 7697.28, 5141.18, 0.90\n",
      "1, 1: 7697.64, 4741.96, 2.28\n",
      "1, 2: 7690.76, 4937.38, 0.50\n",
      "1, 3: 7705.68, 6005.56, 0.94\n",
      "1, 4: 7705.68, 5643.56, 1.16\n",
      "2, 0: 7531.06, 5150.94, 1.28\n",
      "2, 1: 7507.12, 4737.52, 0.72\n",
      "2, 2: 7511.82, 4895.14, 2.80\n",
      "2, 3: 7490.34, 6002.22, 0.84\n",
      "2, 4: 7485.66, 5637.12, 1.10\n",
      "3, 0: 7982.22, 5128.68, 0.82\n",
      "3, 1: 7998.08, 4729.84, 1.60\n",
      "3, 2: 7965.64, 4891.74, 0.94\n",
      "3, 3: 8005.06, 5982.88, 3.00\n",
      "3, 4: 7974.58, 5612.42, 1.24\n",
      "4, 0: 7168.86, 5125.40, 0.42\n",
      "4, 1: 7151.06, 4710.30, 0.30\n",
      "4, 2: 7147.98, 4896.40, 1.18\n",
      "4, 3: 7160.88, 5998.80, 1.32\n",
      "4, 4: 7182.10, 5642.08, 2.36\n"
     ]
    }
   ],
   "execution_count": 6
  },
  {
   "metadata": {
    "ExecuteTime": {
     "end_time": "2024-09-09T12:57:36.771665Z",
     "start_time": "2024-09-09T12:57:34.891542Z"
    }
   },
   "cell_type": "code",
   "source": "dps.close()",
   "id": "28809f6832dc5877",
   "outputs": [],
   "execution_count": 7
  },
  {
   "metadata": {
    "ExecuteTime": {
     "end_time": "2024-09-09T17:44:21.438533Z",
     "start_time": "2024-09-09T17:44:20.795717Z"
    }
   },
   "cell_type": "code",
   "source": [
    "dps.res.show()\n",
    "dps.res.show_singles()"
   ],
   "id": "2df19da8327fe383",
   "outputs": [],
   "execution_count": 10
  },
  {
   "metadata": {},
   "cell_type": "code",
   "outputs": [],
   "execution_count": null,
   "source": "mplc.close()",
   "id": "72857b25564820b8"
  }
 ],
 "metadata": {
  "kernelspec": {
   "display_name": "Python 3",
   "language": "python",
   "name": "python3"
  },
  "language_info": {
   "codemirror_mode": {
    "name": "ipython",
    "version": 2
   },
   "file_extension": ".py",
   "mimetype": "text/x-python",
   "name": "python",
   "nbconvert_exporter": "python",
   "pygments_lexer": "ipython2",
   "version": "2.7.6"
  }
 },
 "nbformat": 4,
 "nbformat_minor": 5
}
