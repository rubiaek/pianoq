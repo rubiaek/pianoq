{
 "cells": [
  {
   "metadata": {},
   "cell_type": "markdown",
   "source": "2024-09-17 - Ronen Shekel",
   "id": "edb5a73647399"
  },
  {
   "cell_type": "code",
   "id": "initial_id",
   "metadata": {
    "collapsed": true,
    "ExecuteTime": {
     "end_time": "2024-09-18T08:34:34.665948Z",
     "start_time": "2024-09-18T08:34:34.574078Z"
    }
   },
   "source": [
    "import matplotlib\n",
    "matplotlib.use('TKAgg')\n",
    "%load_ext autoreload\n",
    "%autoreload 2\n",
    "import os \n",
    "import datetime\n",
    "import glob \n",
    "import numpy as np\n",
    "import matplotlib.pyplot as plt\n",
    "from pianoq.simulations.mplc_sim.mplc_sim import MPLCSim\n",
    "from pianoq.simulations.mplc_sim.mplc_sim_result import MPLCMasks\n",
    "from pianoq.lab.mplc.singles_scan import signal_scan, idler_scan, get_signal_scanner, get_idler_scanner\n",
    "from pianoq.lab.mplc.mask_utils import remove_input_modes, add_phase_input_spots, get_imaging_masks\n",
    "from pianoq_results.scan_result import ScanResult\n",
    "from pianoq.simulations.mplc_sim.mplc_sim_result import MPLCSimResult\n",
    "from pianoq.lab.mplc.mplc_device import MPLCDevice\n",
    "from pianoq.lab.photon_scan import PhotonScanner\n",
    "from pianoq.misc.misc import run_in_thread, run_in_thread_simple\n",
    "from pianoq.misc.mplt import mimshow, mplot\n",
    "from pianoq.simulations.mplc_sim.create_wfm_masks import create_WFM_diffuser_masks\n",
    "import time \n",
    "\n",
    "dir_path = r'G:\\My Drive\\Projects\\MPLC\\results\\lab\\2024_09_17_first_diffuser'\n",
    "if not os.path.exists(dir_path):\n",
    "    os.mkdir(dir_path)\n",
    "\n",
    "d_no = 1"
   ],
   "outputs": [
    {
     "name": "stdout",
     "output_type": "stream",
     "text": [
      "The autoreload extension is already loaded. To reload it, use:\n",
      "  %reload_ext autoreload\n"
     ]
    }
   ],
   "execution_count": 6
  },
  {
   "metadata": {},
   "cell_type": "markdown",
   "source": "# Generate masks WFM",
   "id": "b467601c30b25202"
  },
  {
   "metadata": {
    "ExecuteTime": {
     "end_time": "2024-09-17T09:24:30.096751Z",
     "start_time": "2024-09-17T09:19:58.069268Z"
    }
   },
   "cell_type": "code",
   "source": [
    "from pianoq.simulations.mplc_sim.create_wfm_masks import create_WFM_diffuser_masks\n",
    "\n",
    "timestamp = datetime.datetime.now().strftime('%Y_%m_%d_%H_%M_%S')\n",
    "masks_path =    fr'{dir_path}\\{timestamp}_diffuser_d{d_no}d.masks'\n",
    "mplc_res_path = fr'{dir_path}\\{timestamp}_diffuser_d{d_no}d.mplcsim'\n",
    "mplc_sim = create_WFM_diffuser_masks(N_iterations=15, out_path=masks_path)\n",
    "mplc_sim.res.saveto(mplc_res_path, smaller=True)"
   ],
   "id": "becf3f2efea3561e",
   "outputs": [
    {
     "name": "stderr",
     "output_type": "stream",
     "text": [
      "100%|██████████| 15/15 [04:11<00:00, 16.78s/it]\n"
     ]
    }
   ],
   "execution_count": 2
  },
  {
   "metadata": {
    "ExecuteTime": {
     "end_time": "2024-09-17T11:24:26.768580Z",
     "start_time": "2024-09-17T11:24:26.051927Z"
    }
   },
   "cell_type": "code",
   "source": [
    "path = glob.glob(rf'{dir_path}\\*diffuser_d{d_no}d.mplcsim')[0]\n",
    "mr = MPLCSimResult()\n",
    "mr.loadfrom(path)\n",
    "mimshow((np.abs((mr.forward_fields[-1, :]).sum(axis=0))**2)[mr.active_slice])"
   ],
   "id": "20effc32e98b257b",
   "outputs": [
    {
     "data": {
      "text/plain": [
       "(<Figure size 640x480 with 2 Axes>, <Axes: >)"
      ]
     },
     "execution_count": 28,
     "metadata": {},
     "output_type": "execute_result"
    }
   ],
   "execution_count": 28
  },
  {
   "metadata": {},
   "cell_type": "markdown",
   "source": "# HW",
   "id": "c295d1544197154b"
  },
  {
   "metadata": {
    "ExecuteTime": {
     "end_time": "2024-09-17T13:29:42.220887Z",
     "start_time": "2024-09-17T13:29:40.126004Z"
    }
   },
   "cell_type": "code",
   "source": [
    "# MPLC\n",
    "mplc = MPLCDevice()\n",
    "mplc.restore_location()\n",
    "print('Got MPLC')"
   ],
   "id": "f454148e4e50280e",
   "outputs": [
    {
     "name": "stdout",
     "output_type": "stream",
     "text": [
      "Got MPLC\n"
     ]
    }
   ],
   "execution_count": 2
  },
  {
   "metadata": {
    "ExecuteTime": {
     "end_time": "2024-09-18T06:59:49.261908Z",
     "start_time": "2024-09-18T06:59:41.040572Z"
    }
   },
   "cell_type": "code",
   "source": [
    "# MPLC\n",
    "mplc = MPLCDevice()\n",
    "mplc.restore_location()\n",
    "print('Got MPLC')\n",
    "\n",
    "# Motors\n",
    "backlash = 0\n",
    "wait_after_move = 0.3\n",
    "from pianoq.lab.mplc.consts import thorlabs_x_serial, thorlabs_y_serial\n",
    "from pianoq.lab.thorlabs_motor import ThorlabsKcubeDC, ThorlabsKcubeStepper\n",
    "from pianoq.lab.zaber_motor import ZaberMotors\n",
    "mxi = ThorlabsKcubeDC(thorlabs_x_serial, backlash=backlash, wait_after_move=wait_after_move)\n",
    "myi = ThorlabsKcubeStepper(thorlabs_y_serial, backlash=backlash, wait_after_move=wait_after_move)\n",
    "print('Got Thorlabs motors')\n",
    "\n",
    "zaber_ms = ZaberMotors(backlash=backlash, wait_after_move=wait_after_move)\n",
    "mxs = zaber_ms.motors[1]\n",
    "mys = zaber_ms.motors[0]\n",
    "print('Got Zaber motors')\n",
    "\n",
    "# Timetagger\n",
    "from pianoq.lab.time_tagger import QPTimeTagger\n",
    "from pianoq.lab.mplc.consts import TIMETAGGER_DELAYS, TIMETAGGER_COIN_WINDOW\n",
    "tt = QPTimeTagger(integration_time=10, remote=True,\n",
    "                  single_channel_delays=TIMETAGGER_DELAYS, coin_window=TIMETAGGER_COIN_WINDOW)\n",
    "print('Got Time tagger')"
   ],
   "id": "c702a559b0d2528f",
   "outputs": [
    {
     "name": "stdout",
     "output_type": "stream",
     "text": [
      "Got MPLC\n",
      "Got Thorlabs motors\n",
      "Got Zaber motors\n",
      "Got Time tagger\n"
     ]
    }
   ],
   "execution_count": 2
  },
  {
   "metadata": {},
   "cell_type": "markdown",
   "source": "# Single counts large scan",
   "id": "163bc46b4fed8656"
  },
  {
   "metadata": {
    "ExecuteTime": {
     "end_time": "2024-09-18T08:36:02.679858Z",
     "start_time": "2024-09-18T08:36:02.590863Z"
    }
   },
   "cell_type": "code",
   "source": [
    "def large_singles_scan():\n",
    "    integration_time = 1\n",
    "    tt.set_integration_time(integration_time)\n",
    "    \n",
    "    # scan signal\n",
    "    start_x = 10.5\n",
    "    end_x = 12.5\n",
    "    start_y = 8.3\n",
    "    end_y = 11.3\n",
    "    \n",
    "    x_pixels = 20\n",
    "    y_pixels = 30\n",
    "    pixel_size_x = 0.1\n",
    "    pixel_size_y = 0.1\n",
    "    \n",
    "    timestamp = datetime.datetime.now().strftime('%Y_%m_%d_%H_%M_%S')\n",
    "    path = f'{dir_path}\\\\{timestamp}_singles_signal_d{d_no}d_exp_{integration_time}s.scan'\n",
    "    scanner_sig = PhotonScanner(integration_time, start_x, start_y, x_pixels, y_pixels, pixel_size_x, pixel_size_y, \n",
    "                            is_timetagger=True, coin_window=2e-9, saveto_path=path)\n",
    "    \n",
    "    scanner_sig.scan(x_motor=mxs, y_motor=mys, ph=tt)\n",
    "    \n",
    "    \n",
    "    # scan idler\n",
    "    start_x = 7.8\n",
    "    end_x = 9.8\n",
    "    start_y = 0.5\n",
    "    end_y = 3.5\n",
    "    \n",
    "    x_pixels = 20\n",
    "    y_pixels = 30\n",
    "    pixel_size_x = 0.1\n",
    "    pixel_size_y = 0.1\n",
    "    \n",
    "    \n",
    "    timestamp = datetime.datetime.now().strftime('%Y_%m_%d_%H_%M_%S')\n",
    "    path = f'{dir_path}\\\\{timestamp}_singles_idler_d{d_no}d_exp_{integration_time}s.scan'\n",
    "    scanner_idl = PhotonScanner(integration_time, start_x, start_y, x_pixels, y_pixels, pixel_size_x, pixel_size_y, \n",
    "                            is_timetagger=True, coin_window=2e-9, saveto_path=path)\n",
    "    \n",
    "    scanner_idl.scan(x_motor=mxi, y_motor=myi, ph=tt)"
   ],
   "id": "526f3a611bc12ad6",
   "outputs": [],
   "execution_count": 10
  },
  {
   "metadata": {},
   "cell_type": "code",
   "outputs": [],
   "execution_count": null,
   "source": [
    "masks_path = glob.glob(rf'{dir_path}\\*diffuser_d{d_no}d*.masks')[0]\n",
    "msks = MPLCMasks()\n",
    "msks.loadfrom(masks_path)\n",
    "masks = msks.real_masks\n",
    "mplc.load_masks(masks, linear_tilts=True)\n",
    "large_singles_scan()"
   ],
   "id": "fc134385e032530b"
  },
  {
   "metadata": {},
   "cell_type": "markdown",
   "source": "# Long two-photon scan",
   "id": "78b16a1be868d54d"
  },
  {
   "metadata": {},
   "cell_type": "code",
   "outputs": [],
   "execution_count": null,
   "source": [
    "masks_path = glob.glob(rf'{dir_path}\\*diffuser_d{d_no}d*.masks')[0]\n",
    "msks = MPLCMasks()\n",
    "msks.loadfrom(masks_path)\n",
    "masks = msks.real_masks\n",
    "mplc.load_masks(masks, linear_tilts=True)\n",
    "\n",
    "# Put idler in OK place \n",
    "mxi.move_absolute(8.95)\n",
    "myi.move_absolute(2.1)\n",
    "\n",
    "# scan signal\n",
    "start_x = 11\n",
    "end_x = 12.1\n",
    "start_y = 8.7\n",
    "end_y = 10.3\n",
    "integration_time = 60\n",
    "tt.set_integration_time(integration_time)\n",
    "\n",
    "x_pixels = 22\n",
    "y_pixels = 32\n",
    "pixel_size_x = 0.05\n",
    "pixel_size_y = 0.05\n",
    "\n",
    "\n",
    "timestamp = datetime.datetime.now().strftime('%Y_%m_%d_%H_%M_%S')\n",
    "path = f'{dir_path}\\\\{timestamp}_two_ph_speckles_d{d_no}d_exp_{integration_time}s.scan'\n",
    "scanner = PhotonScanner(integration_time, start_x, start_y, x_pixels, y_pixels, pixel_size_x, pixel_size_y, \n",
    "                        is_timetagger=True, coin_window=2e-9, saveto_path=path)\n",
    "\n",
    "single1s, single2s, coincidences = scanner.scan(ph=tt , x_motor=mxs, y_motor=mys)"
   ],
   "id": "21084d0ee250214f"
  },
  {
   "metadata": {},
   "cell_type": "markdown",
   "source": "# image spots and play ",
   "id": "ab4ec34c39b7e87f"
  },
  {
   "metadata": {
    "jupyter": {
     "is_executing": true
    },
    "ExecuteTime": {
     "start_time": "2024-09-18T08:39:32.447705Z"
    }
   },
   "cell_type": "code",
   "source": [
    "masks = get_imaging_masks()\n",
    "mplc.load_masks(masks)\n",
    "large_singles_scan()"
   ],
   "id": "4905c0df1ee201a6",
   "outputs": [
    {
     "name": "stdout",
     "output_type": "stream",
     "text": [
      "Moving to starting position...\n",
      "starting scan\n",
      "dur: 0. pix: 0, 0. Singles1: 312. Singles2: 645. Coincidence: 0.00.\n",
      "dur: 1. pix: 0, 1. Singles1: 290. Singles2: 658. Coincidence: 0.00.\n",
      "dur: 3. pix: 0, 2. Singles1: 315. Singles2: 623. Coincidence: 0.00.\n",
      "dur: 5. pix: 0, 3. Singles1: 311. Singles2: 706. Coincidence: 0.00.\n",
      "dur: 6. pix: 0, 4. Singles1: 300. Singles2: 666. Coincidence: 0.00.\n",
      "dur: 8. pix: 0, 5. Singles1: 286. Singles2: 788. Coincidence: 0.00.\n",
      "dur: 9. pix: 0, 6. Singles1: 278. Singles2: 1402. Coincidence: 0.00.\n",
      "dur: 11. pix: 0, 7. Singles1: 280. Singles2: 1862. Coincidence: 0.00.\n",
      "dur: 12. pix: 0, 8. Singles1: 284. Singles2: 1266. Coincidence: 0.00.\n"
     ]
    }
   ],
   "execution_count": null
  }
 ],
 "metadata": {
  "kernelspec": {
   "display_name": "Python 3",
   "language": "python",
   "name": "python3"
  },
  "language_info": {
   "codemirror_mode": {
    "name": "ipython",
    "version": 2
   },
   "file_extension": ".py",
   "mimetype": "text/x-python",
   "name": "python",
   "nbconvert_exporter": "python",
   "pygments_lexer": "ipython2",
   "version": "2.7.6"
  }
 },
 "nbformat": 4,
 "nbformat_minor": 5
}
