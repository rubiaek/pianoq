{
 "cells": [
  {
   "cell_type": "code",
   "id": "initial_id",
   "metadata": {
    "collapsed": true,
    "ExecuteTime": {
     "end_time": "2025-01-29T09:04:37.089577Z",
     "start_time": "2025-01-29T09:04:36.891241Z"
    }
   },
   "source": [
    "from pianoq.misc.mplc_writeup_imports import *\n",
    "from pianoq.misc.mplc_lab_imports import * \n",
    "\n",
    "dir_path = r'G:\\My Drive\\Projects\\MPLC\\results\\lab\\2025_01_30_D_mirror'\n",
    "if not os.path.exists(dir_path):\n",
    "    os.mkdir(dir_path)\n",
    "    \n",
    "dz = 5 \n",
    "deadzone = 400e-6\n",
    "plane_10_tilt = 20 "
   ],
   "outputs": [
    {
     "name": "stdout",
     "output_type": "stream",
     "text": [
      "cant use py_thorlabs_ctrl.kinesis\n"
     ]
    },
    {
     "ename": "NameError",
     "evalue": "name 'KCubeDCServo' is not defined",
     "output_type": "error",
     "traceback": [
      "\u001B[1;31m---------------------------------------------------------------------------\u001B[0m",
      "\u001B[1;31mNameError\u001B[0m                                 Traceback (most recent call last)",
      "Cell \u001B[1;32mIn [13], line 2\u001B[0m\n\u001B[0;32m      1\u001B[0m \u001B[38;5;28;01mfrom\u001B[39;00m \u001B[38;5;21;01mpianoq\u001B[39;00m\u001B[38;5;21;01m.\u001B[39;00m\u001B[38;5;21;01mmisc\u001B[39;00m\u001B[38;5;21;01m.\u001B[39;00m\u001B[38;5;21;01mmplc_writeup_imports\u001B[39;00m \u001B[38;5;28;01mimport\u001B[39;00m \u001B[38;5;241m*\u001B[39m\n\u001B[1;32m----> 2\u001B[0m \u001B[38;5;28;01mfrom\u001B[39;00m \u001B[38;5;21;01mpianoq\u001B[39;00m\u001B[38;5;21;01m.\u001B[39;00m\u001B[38;5;21;01mmisc\u001B[39;00m\u001B[38;5;21;01m.\u001B[39;00m\u001B[38;5;21;01mmplc_lab_imports\u001B[39;00m \u001B[38;5;28;01mimport\u001B[39;00m \u001B[38;5;241m*\u001B[39m \n\u001B[0;32m      4\u001B[0m dir_path \u001B[38;5;241m=\u001B[39m \u001B[38;5;124mr\u001B[39m\u001B[38;5;124m'\u001B[39m\u001B[38;5;124mG:\u001B[39m\u001B[38;5;124m\\\u001B[39m\u001B[38;5;124mMy Drive\u001B[39m\u001B[38;5;124m\\\u001B[39m\u001B[38;5;124mProjects\u001B[39m\u001B[38;5;124m\\\u001B[39m\u001B[38;5;124mMPLC\u001B[39m\u001B[38;5;124m\\\u001B[39m\u001B[38;5;124mresults\u001B[39m\u001B[38;5;124m\\\u001B[39m\u001B[38;5;124mlab\u001B[39m\u001B[38;5;124m\\\u001B[39m\u001B[38;5;124m2025_01_30_D_mirror\u001B[39m\u001B[38;5;124m'\u001B[39m\n\u001B[0;32m      5\u001B[0m \u001B[38;5;28;01mif\u001B[39;00m \u001B[38;5;129;01mnot\u001B[39;00m os\u001B[38;5;241m.\u001B[39mpath\u001B[38;5;241m.\u001B[39mexists(dir_path):\n",
      "File \u001B[1;32mC:\\code\\pianoq\\pianoq\\misc\\mplc_lab_imports.py:23\u001B[0m\n\u001B[0;32m     20\u001B[0m \u001B[38;5;28;01mfrom\u001B[39;00m \u001B[38;5;21;01mpianoq\u001B[39;00m\u001B[38;5;21;01m.\u001B[39;00m\u001B[38;5;21;01msimulations\u001B[39;00m\u001B[38;5;21;01m.\u001B[39;00m\u001B[38;5;21;01mmplc_sim\u001B[39;00m\u001B[38;5;21;01m.\u001B[39;00m\u001B[38;5;21;01mcreate_wfm_masks\u001B[39;00m \u001B[38;5;28;01mimport\u001B[39;00m create_WFM_diffuser_masks, create_WFM_unitary_masks, create_WFM_QKD_masks\n\u001B[0;32m     22\u001B[0m \u001B[38;5;66;03m# MPLC Lab\u001B[39;00m\n\u001B[1;32m---> 23\u001B[0m \u001B[38;5;28;01mfrom\u001B[39;00m \u001B[38;5;21;01mpianoq\u001B[39;00m\u001B[38;5;21;01m.\u001B[39;00m\u001B[38;5;21;01mlab\u001B[39;00m\u001B[38;5;21;01m.\u001B[39;00m\u001B[38;5;21;01mmplc\u001B[39;00m\u001B[38;5;21;01m.\u001B[39;00m\u001B[38;5;21;01msingles_scan\u001B[39;00m \u001B[38;5;28;01mimport\u001B[39;00m signal_scan, idler_scan, get_signal_scanner, get_idler_scanner\n\u001B[0;32m     24\u001B[0m \u001B[38;5;28;01mfrom\u001B[39;00m \u001B[38;5;21;01mpianoq\u001B[39;00m\u001B[38;5;21;01m.\u001B[39;00m\u001B[38;5;21;01mlab\u001B[39;00m\u001B[38;5;21;01m.\u001B[39;00m\u001B[38;5;21;01mmplc\u001B[39;00m\u001B[38;5;21;01m.\u001B[39;00m\u001B[38;5;21;01mphase_finder_result\u001B[39;00m \u001B[38;5;28;01mimport\u001B[39;00m PhaseFinderResult\n\u001B[0;32m     25\u001B[0m \u001B[38;5;28;01mfrom\u001B[39;00m \u001B[38;5;21;01mpianoq\u001B[39;00m\u001B[38;5;21;01m.\u001B[39;00m\u001B[38;5;21;01mlab\u001B[39;00m\u001B[38;5;21;01m.\u001B[39;00m\u001B[38;5;21;01mmplc\u001B[39;00m\u001B[38;5;21;01m.\u001B[39;00m\u001B[38;5;21;01mmask_utils\u001B[39;00m \u001B[38;5;28;01mimport\u001B[39;00m remove_input_modes, add_phase_input_spots, get_imaging_masks, get_masks_matlab, mask_centers_to_mask_slices\n",
      "File \u001B[1;32mC:\\code\\pianoq\\pianoq\\lab\\mplc\\singles_scan.py:4\u001B[0m\n\u001B[0;32m      2\u001B[0m \u001B[38;5;28;01mimport\u001B[39;00m \u001B[38;5;21;01mnumpy\u001B[39;00m \u001B[38;5;28;01mas\u001B[39;00m \u001B[38;5;21;01mnp\u001B[39;00m\n\u001B[0;32m      3\u001B[0m \u001B[38;5;28;01mimport\u001B[39;00m \u001B[38;5;21;01mdatetime\u001B[39;00m\n\u001B[1;32m----> 4\u001B[0m \u001B[38;5;28;01mfrom\u001B[39;00m \u001B[38;5;21;01mpianoq\u001B[39;00m\u001B[38;5;21;01m.\u001B[39;00m\u001B[38;5;21;01mlab\u001B[39;00m\u001B[38;5;21;01m.\u001B[39;00m\u001B[38;5;21;01mphoton_scan\u001B[39;00m \u001B[38;5;28;01mimport\u001B[39;00m PhotonScanner\n\u001B[0;32m      5\u001B[0m \u001B[38;5;28;01mfrom\u001B[39;00m \u001B[38;5;21;01mpianoq\u001B[39;00m\u001B[38;5;21;01m.\u001B[39;00m\u001B[38;5;21;01mlab\u001B[39;00m\u001B[38;5;21;01m.\u001B[39;00m\u001B[38;5;21;01mtime_tagger\u001B[39;00m \u001B[38;5;28;01mimport\u001B[39;00m QPTimeTagger\n\u001B[0;32m      6\u001B[0m \u001B[38;5;28;01mfrom\u001B[39;00m \u001B[38;5;21;01mpianoq\u001B[39;00m\u001B[38;5;21;01m.\u001B[39;00m\u001B[38;5;21;01mlab\u001B[39;00m\u001B[38;5;21;01m.\u001B[39;00m\u001B[38;5;21;01mzaber_motor\u001B[39;00m \u001B[38;5;28;01mimport\u001B[39;00m ZaberMotors\n",
      "File \u001B[1;32mC:\\code\\pianoq\\pianoq\\lab\\photon_scan.py:5\u001B[0m\n\u001B[0;32m      2\u001B[0m \u001B[38;5;28;01mimport\u001B[39;00m \u001B[38;5;21;01mdatetime\u001B[39;00m\n\u001B[0;32m      4\u001B[0m \u001B[38;5;66;03m# from pianoq.lab.power_meter100 import PowerMeterPM100\u001B[39;00m\n\u001B[1;32m----> 5\u001B[0m \u001B[38;5;28;01mfrom\u001B[39;00m \u001B[38;5;21;01mpianoq\u001B[39;00m\u001B[38;5;21;01m.\u001B[39;00m\u001B[38;5;21;01mlab\u001B[39;00m\u001B[38;5;21;01m.\u001B[39;00m\u001B[38;5;21;01mthorlabs_motor\u001B[39;00m \u001B[38;5;28;01mimport\u001B[39;00m ThorlabsKcubeDC, ThorlabsKcubeStepper\n\u001B[0;32m      6\u001B[0m \u001B[38;5;28;01mfrom\u001B[39;00m \u001B[38;5;21;01mpianoq\u001B[39;00m\u001B[38;5;21;01m.\u001B[39;00m\u001B[38;5;21;01mlab\u001B[39;00m\u001B[38;5;21;01m.\u001B[39;00m\u001B[38;5;21;01mphoton_counter\u001B[39;00m \u001B[38;5;28;01mimport\u001B[39;00m PhotonCounter\n\u001B[0;32m      8\u001B[0m \u001B[38;5;28;01mimport\u001B[39;00m \u001B[38;5;21;01mnumpy\u001B[39;00m \u001B[38;5;28;01mas\u001B[39;00m \u001B[38;5;21;01mnp\u001B[39;00m\n",
      "File \u001B[1;32mC:\\code\\pianoq\\pianoq\\lab\\thorlabs_motor.py:16\u001B[0m\n\u001B[0;32m     12\u001B[0m \u001B[38;5;28;01mexcept\u001B[39;00m \u001B[38;5;167;01mImportError\u001B[39;00m:\n\u001B[0;32m     13\u001B[0m     \u001B[38;5;28mprint\u001B[39m(\u001B[38;5;124m'\u001B[39m\u001B[38;5;124mcant use py_thorlabs_ctrl.kinesis\u001B[39m\u001B[38;5;124m'\u001B[39m)\n\u001B[1;32m---> 16\u001B[0m \u001B[38;5;28;01mclass\u001B[39;00m \u001B[38;5;21;01mThorlabsRotatingServoMotor\u001B[39;00m(\u001B[43mKCubeDCServo\u001B[49m):\n\u001B[0;32m     17\u001B[0m \u001B[38;5;250m    \u001B[39m\u001B[38;5;124;03m\"\"\"\u001B[39;00m\n\u001B[0;32m     18\u001B[0m \u001B[38;5;124;03m    Uses this library to communicate with the motors:\u001B[39;00m\n\u001B[0;32m     19\u001B[0m \u001B[38;5;124;03m        https://github.com/rwalle/py_thorlabs_ctrl\u001B[39;00m\n\u001B[1;32m   (...)\u001B[0m\n\u001B[0;32m     22\u001B[0m \n\u001B[0;32m     23\u001B[0m \u001B[38;5;124;03m    \"\"\"\u001B[39;00m\n\u001B[0;32m     25\u001B[0m     SERIAL_1 \u001B[38;5;241m=\u001B[39m \u001B[38;5;241m27253522\u001B[39m\n",
      "\u001B[1;31mNameError\u001B[0m: name 'KCubeDCServo' is not defined"
     ]
    }
   ],
   "execution_count": 13
  },
  {
   "metadata": {},
   "cell_type": "markdown",
   "source": "# WFM",
   "id": "bc49a14b246974b2"
  },
  {
   "metadata": {
    "ExecuteTime": {
     "end_time": "2025-01-29T08:56:50.986735Z",
     "start_time": "2025-01-29T08:54:22.978275Z"
    }
   },
   "cell_type": "code",
   "source": [
    "all_Us_path = r\"G:\\My Drive\\Projects\\MPLC\\results\\lab\\2024_09_10_fixing_phases_different_Us\\for_ronen_Haar_800.mat\"\n",
    "all_Us = loadmat(all_Us_path)['U1_all']\n",
    "U_no = 1\n",
    "\n",
    "timestamp = datetime.datetime.now().strftime('%Y_%m_%d_%H_%M_%S')\n",
    "masks_path = fr'{dir_path}\\{timestamp}_U1U_dead_zone_{deadzone}pix_dz10_{dz}mm.masks'\n",
    "mplc_res_path = fr'{dir_path}\\{timestamp}_U1U_dead_zone_{deadzone}pix_dz10_{dz}mm.mplcsim'\n",
    "mplc_sim = create_WFM_unitary_masks(all_Us[:, :, U_no], N_iterations=15, out_path=masks_path, \n",
    "                                    dead_middle_zone=deadzone, last_plane_extra_dist=dz*1e-3)\n",
    "mplc_sim.res._calc_fidelity()\n",
    "print(f'{mplc_sim.res.fidelity=}')"
   ],
   "id": "38ca9ad1ebb2785",
   "outputs": [
    {
     "name": "stdout",
     "output_type": "stream",
     "text": [
      "{'wavelength': 8.1e-07, 'dist_after_plane': array([0.087, 0.087, 0.087, 0.087, 0.138, 0.087, 0.087, 0.087, 0.087,\n",
      "       0.092]), 'N_iterations': 15, 'Nx': 140, 'Ny': 360, 'dx': 1.25e-05, 'dy': 1.25e-05, 'max_k_constraint': 0.15, 'min_log_level': 2, 'size_factor': 3, 'use_mask_offset': True, 'symmetric_masks': False, 'active_planes': array([ True,  True,  True,  True,  True,  True,  True,  True,  True,\n",
      "        True,  True]), 'N_modes': 10}\n"
     ]
    },
    {
     "name": "stderr",
     "output_type": "stream",
     "text": [
      "100%|██████████| 15/15 [02:13<00:00,  8.87s/it]\n"
     ]
    },
    {
     "name": "stdout",
     "output_type": "stream",
     "text": [
      "mplc_sim.res.fidelity=0.9897347423352529\n"
     ]
    }
   ],
   "execution_count": 4
  },
  {
   "metadata": {
    "ExecuteTime": {
     "end_time": "2025-01-29T08:59:52.118771Z",
     "start_time": "2025-01-29T08:59:51.863594Z"
    }
   },
   "cell_type": "code",
   "source": [
    "mplc_sim.res.show_field_intensity(mplc_sim.res.input_modes.sum(axis=0))\n",
    "mplc_sim.res.show_field_intensity(mplc_sim.res.output_modes.sum(axis=0))"
   ],
   "id": "a2d9a4b2a1116376",
   "outputs": [],
   "execution_count": 8
  },
  {
   "metadata": {
    "ExecuteTime": {
     "end_time": "2025-01-29T09:00:50.731441Z",
     "start_time": "2025-01-29T09:00:49.764819Z"
    }
   },
   "cell_type": "code",
   "source": "mplc_sim.res.show_all(2)",
   "id": "548f61f15a47e9d0",
   "outputs": [],
   "execution_count": 10
  },
  {
   "metadata": {},
   "cell_type": "markdown",
   "source": "# Hardware",
   "id": "aa95a3bf1ecf4d3c"
  },
  {
   "metadata": {},
   "cell_type": "code",
   "outputs": [],
   "execution_count": null,
   "source": [
    "mplc = MPLCDevice(linear_tilts=True, plane_10_tilts=35)\n",
    "integration_time = 1\n",
    "coin_window = 2e-9\n",
    "tt = get_timetagger(coin_window=coin_window, integration_time=integration_time)"
   ],
   "id": "fe58a8611cb7b579"
  },
  {
   "metadata": {},
   "cell_type": "code",
   "outputs": [],
   "execution_count": null,
   "source": [
    "backlash = 0\n",
    "wait_after_move = 0.2\n",
    "mxs, mys = get_signal_motors(backlash=backlash, wait_after_move=wait_after_move)\n",
    "\n",
    "backlash = 0\n",
    "wait_after_move = 0.2\n",
    "mxi, myi = get_idler_motors(backlash=backlash, wait_after_move=wait_after_move)\n"
   ],
   "id": "4641621bb16044f8"
  },
  {
   "metadata": {},
   "cell_type": "markdown",
   "source": "# Single counts",
   "id": "5e5f5d95ce879462"
  },
  {
   "metadata": {},
   "cell_type": "code",
   "outputs": [],
   "execution_count": null,
   "source": [
    "# Set MPLC \n",
    "phases_path = rf'G:\\My Drive\\Projects\\MPLC\\results\\lab\\2024_10_30_make_mirror_work\\2024_10_31_10_15_02_fine_new_mirror_from_zero_more.phases'\n",
    "masks_path = fr'G:\\My Drive\\Projects\\MPLC\\results\\lab\\2025_01_30_D_mirror\\2025_01_29_10_54_23_U1U_dead_zone_400pix_dz10_5mm.masks'\n",
    "\n",
    "masks = get_good_masks(masks_path=masks_path, modes_to_keep=modes_to_keep, phases_path=phases_path)\n",
    "mplc.plane_10_tilts = plane_10_tilt\n",
    "mplc.load_masks(masks)\n",
    "time.sleep(0.5)\n",
    "mplc.restore_location()"
   ],
   "id": "d1b5bbb783b43df3"
  },
  {
   "metadata": {},
   "cell_type": "code",
   "outputs": [],
   "execution_count": null,
   "source": [
    "resolution = 4\n",
    "\n",
    "# Scan! \n",
    "scan_saveto_path = rf'{dir_path}\\{tnow()}_signal_dead_zone_{deadzone}um_dz10_{dz}mm_pl10tilt_{pl10tilt}_res_{resolution}.scan'\n",
    "start_x = 12.8\n",
    "end_x = 13.35\n",
    "start_y = 4.6\n",
    "end_y = 6.6\n",
    "\n",
    "x_pixels = 22 // resolution\n",
    "y_pixels = 80 // resolution\n",
    "pixel_size_x = 0.025 * resolution\n",
    "pixel_size_y = 0.025 * resolution\n",
    "\n",
    "scanner = PhotonScanner(integration_time, start_x, start_y, x_pixels, y_pixels, pixel_size_x, pixel_size_y, is_timetagger=True, coin_window=coin_window, saveto_path=scan_saveto_path) \n",
    "tt = get_timetagger(integration_time=1)  # important to have a new tt \n",
    "t1 = run_in_thread(scanner.scan, x_motor=mxs, y_motor=mys, ph=tt)\n",
    "\n",
    "time.sleep(2)\n",
    "\n",
    "scan_saveto_path = rf'{dir_path}\\{tnow()}_idler_dead_zone_{deadzone}um_dz10_{dz}mm_pl10tilt_{pl10tilt}_res_{resolution}.scan'\n",
    "\n",
    "start_x = 9.25\n",
    "end_x = 9.75\n",
    "start_y = 3.6\n",
    "end_y = 5.6\n",
    "\n",
    "x_pixels = 20 // resolution\n",
    "y_pixels = 80 // resolution\n",
    "pixel_size_x = 0.025 * resolution\n",
    "pixel_size_y = 0.025 * resolution\n",
    "\n",
    "scanner = PhotonScanner(integration_time, start_x, start_y, x_pixels, y_pixels, pixel_size_x, pixel_size_y, is_timetagger=True, coin_window=coin_window, saveto_path=scan_saveto_path)\n",
    "tt2 = get_timetagger(integration_time=1)\n",
    "t2 = run_in_thread(scanner.scan, x_motor=mxi, y_motor=myi, ph=tt2)\n",
    "t1.join()\n",
    "send_telegram_message(f'Done one singles scan')\n",
    "t2.join()    \n",
    "send_telegram_message(f'Done second singles scan')"
   ],
   "id": "18d0c873e95bf1c7"
  }
 ],
 "metadata": {
  "kernelspec": {
   "display_name": "Python 3",
   "language": "python",
   "name": "python3"
  },
  "language_info": {
   "codemirror_mode": {
    "name": "ipython",
    "version": 2
   },
   "file_extension": ".py",
   "mimetype": "text/x-python",
   "name": "python",
   "nbconvert_exporter": "python",
   "pygments_lexer": "ipython2",
   "version": "2.7.6"
  }
 },
 "nbformat": 4,
 "nbformat_minor": 5
}
