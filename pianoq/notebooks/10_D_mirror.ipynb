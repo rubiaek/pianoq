{
 "cells": [
  {
   "cell_type": "code",
   "id": "initial_id",
   "metadata": {
    "collapsed": true,
    "ExecuteTime": {
     "end_time": "2025-01-30T09:05:04.267002Z",
     "start_time": "2025-01-30T09:05:04.163545Z"
    }
   },
   "source": [
    "from pianoq.misc.mplc_writeup_imports import *\n",
    "from pianoq.misc.mplc_lab_imports import * \n",
    "\n",
    "dir_path = r'G:\\My Drive\\Projects\\MPLC\\results\\lab\\2025_01_30_D_mirror'\n",
    "if not os.path.exists(dir_path):\n",
    "    os.mkdir(dir_path)\n",
    "    \n",
    "dz = 5 \n",
    "deadzone = 150e-6\n",
    "plane_10_tilt = None "
   ],
   "outputs": [],
   "execution_count": 14
  },
  {
   "metadata": {},
   "cell_type": "markdown",
   "source": "# WFM",
   "id": "bc49a14b246974b2"
  },
  {
   "metadata": {
    "ExecuteTime": {
     "end_time": "2025-01-30T09:04:27.976357Z",
     "start_time": "2025-01-30T09:00:32.248952Z"
    }
   },
   "cell_type": "code",
   "source": [
    "all_Us_path = r\"G:\\My Drive\\Projects\\MPLC\\results\\lab\\2024_09_10_fixing_phases_different_Us\\for_ronen_Haar_800.mat\"\n",
    "all_Us = loadmat(all_Us_path)['U1_all']\n",
    "U_no = 1\n",
    "\n",
    "timestamp = datetime.datetime.now().strftime('%Y_%m_%d_%H_%M_%S')\n",
    "masks_path = fr'{dir_path}\\{timestamp}_QKD_dead_zone_{deadzone*1e6}um_dz10_{dz}mm.masks'\n",
    "mplc_res_path = fr'{dir_path}\\{timestamp}_QKD_dead_zone_{deadzone*1e6}um_dz10_{dz}mm.mplcsim'\n",
    "# mplc_sim = create_WFM_unitary_masks(all_Us[:, :, U_no], N_iterations=15, out_path=masks_path, \n",
    "#                                     dead_middle_zone=deadzone, last_plane_extra_dist=dz*1e-3)\n",
    "mplc_sim = create_WFM_QKD_masks(N_iterations=15, out_path=masks_path, \n",
    "                                dead_middle_zone=deadzone, last_plane_extra_dist=dz*1e-3)\n",
    "mplc_sim.res._calc_fidelity()\n",
    "print(f'{mplc_sim.res.fidelity=}')"
   ],
   "id": "38ca9ad1ebb2785",
   "outputs": [
    {
     "name": "stderr",
     "output_type": "stream",
     "text": [
      "100%|██████████| 15/15 [03:34<00:00, 14.28s/it]\n"
     ]
    }
   ],
   "execution_count": 11
  },
  {
   "metadata": {
    "ExecuteTime": {
     "end_time": "2025-01-30T09:23:09.505823Z",
     "start_time": "2025-01-30T09:23:08.831896Z"
    }
   },
   "cell_type": "code",
   "source": [
    "mplc_sim.res.show_field_intensity((np.abs(mplc_sim.res.input_modes)**2).sum(axis=0))\n",
    "mplc_sim.res.show_field_intensity((np.abs(mplc_sim.res.output_modes)**2).sum(axis=0))"
   ],
   "id": "a2d9a4b2a1116376",
   "outputs": [],
   "execution_count": 18
  },
  {
   "metadata": {
    "ExecuteTime": {
     "end_time": "2025-01-30T09:04:42.218896Z",
     "start_time": "2025-01-30T09:04:41.011129Z"
    }
   },
   "cell_type": "code",
   "source": "mplc_sim.res.show_all(2)",
   "id": "548f61f15a47e9d0",
   "outputs": [],
   "execution_count": 13
  },
  {
   "metadata": {},
   "cell_type": "markdown",
   "source": "# Hardware",
   "id": "aa95a3bf1ecf4d3c"
  },
  {
   "metadata": {
    "ExecuteTime": {
     "end_time": "2025-01-30T09:05:41.009218Z",
     "start_time": "2025-01-30T09:05:40.554137Z"
    }
   },
   "cell_type": "code",
   "source": [
    "mplc = MPLCDevice(linear_tilts=True, plane_10_tilts=plane_10_tilt)\n",
    "integration_time = 1\n",
    "coin_window = 2e-9\n",
    "tt = get_timetagger(coin_window=coin_window, integration_time=integration_time)"
   ],
   "id": "fe58a8611cb7b579",
   "outputs": [],
   "execution_count": 15
  },
  {
   "metadata": {
    "ExecuteTime": {
     "end_time": "2025-01-30T08:37:02.062059Z",
     "start_time": "2025-01-30T08:36:55.808564Z"
    }
   },
   "cell_type": "code",
   "source": [
    "backlash = 0\n",
    "wait_after_move = 0.2\n",
    "mxs, mys = get_signal_motors(backlash=backlash, wait_after_move=wait_after_move)\n",
    "\n",
    "backlash = 0\n",
    "wait_after_move = 0.2\n",
    "mxi, myi = get_idler_motors(backlash=backlash, wait_after_move=wait_after_move)"
   ],
   "id": "4641621bb16044f8",
   "outputs": [
    {
     "name": "stdout",
     "output_type": "stream",
     "text": [
      "Got Zaber motors\n",
      "Got Thorlabs motors\n"
     ]
    }
   ],
   "execution_count": 3
  },
  {
   "metadata": {},
   "cell_type": "markdown",
   "source": "# Single counts",
   "id": "5e5f5d95ce879462"
  },
  {
   "metadata": {
    "ExecuteTime": {
     "end_time": "2025-01-30T09:06:21.816232Z",
     "start_time": "2025-01-30T09:06:20.775162Z"
    }
   },
   "cell_type": "code",
   "source": [
    "# Set MPLC \n",
    "# dummy old phases path meanwhile  \n",
    "old_phases_path = rf'G:\\My Drive\\Projects\\MPLC\\results\\lab\\2024_10_30_make_mirror_work\\2024_10_31_10_15_02_fine_new_mirror_from_zero_more.phases'\n",
    "phases_path = rf\"G:\\My Drive\\Projects\\MPLC\\results\\lab\\2025_01_30_D_mirror\\2025_01_30_12_49_24.phases\"\n",
    "masks_path = fr\"G:\\My Drive\\Projects\\MPLC\\results\\lab\\2025_01_30_D_mirror\\2025_01_30_11_00_32_QKD_dead_zone_150.0um_dz10_5mm.masks\"\n",
    "\n",
    "masks = get_good_masks(masks_path=masks_path, modes_to_keep=modes_to_keep, phases_path=old_phases_path)\n",
    "mplc.plane_10_tilts = plane_10_tilt\n",
    "mplc.load_masks(masks)\n",
    "time.sleep(0.5)\n",
    "mplc.restore_location()"
   ],
   "id": "d1b5bbb783b43df3",
   "outputs": [],
   "execution_count": 16
  },
  {
   "metadata": {},
   "cell_type": "code",
   "source": [
    "resolution = 1\n",
    "integration_time = 1 \n",
    "\n",
    "# Scan! \n",
    "scan_saveto_path = rf'{dir_path}\\{tnow()}_signal_dead_zone_{deadzone}um_dz10_{dz}mm_pl10tilt_{plane_10_tilt}_res_{resolution}_d_mirror.scan'\n",
    "start_x = 9.9\n",
    "end_x = 10.6\n",
    "start_y = 8.5\n",
    "end_y = 10.5\n",
    "\n",
    "x_pixels = 28 // resolution\n",
    "y_pixels = 80 // resolution\n",
    "pixel_size_x = 0.025 * resolution\n",
    "pixel_size_y = 0.025 * resolution\n",
    "\n",
    "scanner = PhotonScanner(integration_time, start_x, start_y, x_pixels, y_pixels, pixel_size_x, pixel_size_y, is_timetagger=True, coin_window=coin_window, saveto_path=scan_saveto_path) \n",
    "tt = get_timetagger(integration_time=integration_time)  # important to have a new tt \n",
    "t1 = run_in_thread(scanner.scan, x_motor=mxs, y_motor=mys, ph=tt)\n",
    "\n",
    "time.sleep(2)\n",
    "\n",
    "scan_saveto_path = rf'{dir_path}\\{tnow()}_idler_dead_zone_{deadzone}um_dz10_{dz}mm_pl10tilt_{plane_10_tilt}_res_{resolution}_d_mirror.scan'\n",
    "\n",
    "start_x = 9.2\n",
    "end_x = 9.8\n",
    "start_y = 3.0\n",
    "end_y = 5.0\n",
    "\n",
    "x_pixels = 24 // resolution\n",
    "y_pixels = 80 // resolution\n",
    "pixel_size_x = 0.025 * resolution\n",
    "pixel_size_y = 0.025 * resolution\n",
    "\n",
    "scanner = PhotonScanner(integration_time, start_x, start_y, x_pixels, y_pixels, pixel_size_x, pixel_size_y, is_timetagger=True, coin_window=coin_window, saveto_path=scan_saveto_path)\n",
    "tt2 = get_timetagger(integration_time=integration_time)\n",
    "t2 = run_in_thread(scanner.scan, x_motor=mxi, y_motor=myi, ph=tt2)\n",
    "t1.join()\n",
    "send_telegram_message(f'Done one singles scan')\n",
    "t2.join()    \n",
    "send_telegram_message(f'Done second singles scan')"
   ],
   "id": "18d0c873e95bf1c7",
   "outputs": [],
   "execution_count": null
  },
  {
   "metadata": {},
   "cell_type": "markdown",
   "source": "## Manual motors",
   "id": "430fdfb0aa4e2d9a"
  },
  {
   "metadata": {
    "ExecuteTime": {
     "end_time": "2025-01-30T11:22:27.762401Z",
     "start_time": "2025-01-30T11:22:27.054075Z"
    }
   },
   "cell_type": "code",
   "source": [
    "mxi.move_absolute(9.542)\n",
    "myi.move_absolute(4.652)\n",
    "display(mxi.get_position())\n",
    "display(myi.get_position())"
   ],
   "id": "410c963745528c5f",
   "outputs": [
    {
     "data": {
      "text/plain": [
       "9.54202"
      ]
     },
     "metadata": {},
     "output_type": "display_data"
    },
    {
     "data": {
      "text/plain": [
       "4.652"
      ]
     },
     "metadata": {},
     "output_type": "display_data"
    }
   ],
   "execution_count": 46
  },
  {
   "metadata": {
    "ExecuteTime": {
     "end_time": "2025-01-30T11:24:04.242709Z",
     "start_time": "2025-01-30T11:24:03.598676Z"
    }
   },
   "cell_type": "code",
   "source": [
    "mxs.move_absolute(10.154)\n",
    "mys.move_absolute(8.790)\n",
    "display(mxs.get_position())\n",
    "display(mys.get_position())"
   ],
   "id": "a51e0dd78e2e1954",
   "outputs": [
    {
     "data": {
      "text/plain": [
       "10.153983375"
      ]
     },
     "metadata": {},
     "output_type": "display_data"
    },
    {
     "data": {
      "text/plain": [
       "8.790003375000001"
      ]
     },
     "metadata": {},
     "output_type": "display_data"
    }
   ],
   "execution_count": 61
  },
  {
   "metadata": {},
   "cell_type": "markdown",
   "source": "## Mark spots ",
   "id": "b516a40b2811f4ea"
  },
  {
   "metadata": {
    "ExecuteTime": {
     "end_time": "2025-01-30T10:36:06.970914Z",
     "start_time": "2025-01-30T10:35:24.367560Z"
    }
   },
   "cell_type": "code",
   "source": [
    "locs_signal_path = fr'{dir_path}\\{tnow()}_s2_sig.locs'\n",
    "locs_idler_path = fr'{dir_path}\\{tnow()}_s1_idl.locs'\n",
    "\n",
    "res_idl = ScanResult(fr'{dir_path}\\2025_01_30_11_28_37_idler_dead_zone_0.00015um_dz10_5mm_pl10tilt_None_res_1_d_mirror.scan')\n",
    "res_sig = ScanResult(fr'{dir_path}\\2025_01_30_11_28_35_signal_dead_zone_0.00015um_dz10_5mm_pl10tilt_None_res_1_d_mirror.scan')\n",
    "# res_idl.show_singles()\n",
    "# res_sig.show_singles()\n",
    "res_idl.get_xys(1, saveto_path=locs_idler_path)\n",
    "res_sig.get_xys(2, saveto_path=locs_signal_path)"
   ],
   "id": "6b8ab2ca5efee503",
   "outputs": [
    {
     "data": {
      "text/plain": [
       "[(10.1340367965368, 8.798106060606061),\n",
       " (10.182738095238097, 9.144426406926408),\n",
       " (10.247673160173163, 9.512391774891777),\n",
       " (10.28555194805195, 9.820833333333335),\n",
       " (10.318019480519482, 10.150919913419916)]"
      ]
     },
     "execution_count": 20,
     "metadata": {},
     "output_type": "execute_result"
    }
   ],
   "execution_count": 20
  },
  {
   "metadata": {},
   "cell_type": "markdown",
   "source": "# Phases",
   "id": "2441ba28b94c2d6b"
  },
  {
   "metadata": {
    "ExecuteTime": {
     "end_time": "2025-01-30T11:21:04.311247Z",
     "start_time": "2025-01-30T11:20:58.311178Z"
    }
   },
   "cell_type": "code",
   "source": [
    "old_phases_path = rf\"G:\\My Drive\\Projects\\MPLC\\results\\lab\\2025_01_30_D_mirror\\2025_01_30_12_49_24.phases\"\n",
    "masks_path = fr\"G:\\My Drive\\Projects\\MPLC\\results\\lab\\2025_01_30_D_mirror\\2025_01_30_11_00_32_QKD_dead_zone_150.0um_dz10_5mm.masks\"\n",
    "\n",
    "masks = get_good_masks(masks_path=masks_path, modes_to_keep=modes_to_keep, phases_path=None) # Need to be none so don't get confused! \n",
    "\n",
    "locs_idl = np.load(fr'{dir_path}\\2025_01_30_12_35_24_s1_idl.locs')['locs']\n",
    "locs_sig = np.load(fr'{dir_path}\\2025_01_30_12_35_24_s2_sig.locs')['locs']\n",
    "mplc.load_masks(masks)\n",
    "    \n",
    "saveto_path = fr'{dir_path}\\{tnow()}.phases'\n",
    "integration_time = 30\n",
    "\n",
    "old_phases_result = PhaseFinderResult(old_phases_path)\n",
    "old_phases_result.reload()\n",
    "initial_phases = old_phases_result.phases\n",
    "print(f'{initial_phases=}')\n",
    "\n",
    "pf = PhaseFinder(mplc=mplc, integration_time=integration_time, remote_tagger=True, saveto_path=saveto_path,\n",
    "                 modes_to_keep=modes_to_keep, intial_phases=initial_phases, coin_window=tt.coin_window, no_hw_mode=True)\n",
    "\n",
    "pf.time_tagger = tt\n",
    "pf.time_tagger.set_integration_time(integration_time)\n",
    "\n",
    "\n",
    "# i,j of corr matrix that is supposed to be strong \n",
    "i = 0\n",
    "j = 0\n",
    "mxi.move_absolute(locs_idl[i, 0])\n",
    "myi.move_absolute(locs_idl[i, 1])\n",
    "mxs.move_absolute(locs_sig[j, 0])\n",
    "mys.move_absolute(locs_sig[j, 1])\n",
    "mplc.restore_location()\n",
    "time.sleep(1)"
   ],
   "id": "c3b003bec5c44ca7",
   "outputs": [],
   "execution_count": 36
  },
  {
   "metadata": {
    "ExecuteTime": {
     "end_time": "2025-01-30T12:15:13.489330Z",
     "start_time": "2025-01-30T11:24:12.124340Z"
    }
   },
   "cell_type": "code",
   "source": "pf.find_phases(iterations=1)",
   "id": "8f8184deb1d2d19",
   "outputs": [],
   "execution_count": 62
  },
  {
   "metadata": {},
   "cell_type": "markdown",
   "source": "# Correlations",
   "id": "2af8c38365fe0c4b"
  },
  {
   "metadata": {
    "ExecuteTime": {
     "end_time": "2025-01-30T12:18:57.572256Z",
     "start_time": "2025-01-30T12:18:56.519906Z"
    }
   },
   "cell_type": "code",
   "source": [
    "phases_path = rf\"G:\\My Drive\\Projects\\MPLC\\results\\lab\\2025_01_30_D_mirror\\2025_01_30_13_20_58.phases\"\n",
    "masks_path = fr\"G:\\My Drive\\Projects\\MPLC\\results\\lab\\2025_01_30_D_mirror\\2025_01_30_11_00_32_QKD_dead_zone_150.0um_dz10_5mm.masks\"\n",
    "\n",
    "masks = get_good_masks(masks_path=masks_path, modes_to_keep=modes_to_keep, phases_path=phases_path)\n",
    "mplc.plane_10_tilts = plane_10_tilt\n",
    "mplc.load_masks(masks)\n",
    "time.sleep(0.5)\n",
    "mplc.restore_location()"
   ],
   "id": "efa62e3a51e385af",
   "outputs": [],
   "execution_count": 63
  },
  {
   "metadata": {
    "ExecuteTime": {
     "end_time": "2025-01-30T12:58:23.819837Z",
     "start_time": "2025-01-30T12:41:05.062535Z"
    }
   },
   "cell_type": "code",
   "source": [
    "backlash = 0.2\n",
    "wait_after_move = 0.5\n",
    "integration_time = 40\n",
    "coin_window = 1e-9\n",
    "tt = get_timetagger(integration_time=integration_time, coin_window=coin_window)\n",
    "\n",
    "locs_idl = np.load(fr'{dir_path}\\2025_01_30_12_35_24_s1_idl.locs')['locs']\n",
    "locs_sig = np.load(fr'{dir_path}\\2025_01_30_12_35_24_s2_sig.locs')['locs']\n",
    "\n",
    "scan_path = fr'{dir_path}\\{tnow()}_exp_{integration_time}_good_phases.dscan'\n",
    "\n",
    "dps = DiscretePhotonScanner(locs_sig, locs_idl, integration_time=integration_time, remote_tagger=True, saveto_path=scan_path, backlash=backlash, wait_after_move=wait_after_move, coin_window=coin_window, no_hw_mode=True)\n",
    "\n",
    "dps.m_sig_x, dps.m_sig_y, dps.m_idl_x, dps.m_idl_y, dps.time_tagger = mxs, mys, mxi, myi, tt\n",
    "dps.time_tagger.set_integration_time(integration_time)\n",
    "time.sleep(1)\n",
    "dps.scan()"
   ],
   "id": "8c3acc91c2bf7cf7",
   "outputs": [],
   "execution_count": 66
  }
 ],
 "metadata": {
  "kernelspec": {
   "display_name": "Python 3",
   "language": "python",
   "name": "python3"
  },
  "language_info": {
   "codemirror_mode": {
    "name": "ipython",
    "version": 2
   },
   "file_extension": ".py",
   "mimetype": "text/x-python",
   "name": "python",
   "nbconvert_exporter": "python",
   "pygments_lexer": "ipython2",
   "version": "2.7.6"
  }
 },
 "nbformat": 4,
 "nbformat_minor": 5
}
