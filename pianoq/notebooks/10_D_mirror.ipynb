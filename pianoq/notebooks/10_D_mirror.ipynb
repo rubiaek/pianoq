{
 "cells": [
  {
   "cell_type": "code",
   "id": "initial_id",
   "metadata": {
    "collapsed": true,
    "ExecuteTime": {
     "end_time": "2025-01-29T09:18:26.229217Z",
     "start_time": "2025-01-29T09:18:11.456032Z"
    }
   },
   "source": [
    "from pianoq.misc.mplc_writeup_imports import *\n",
    "from pianoq.misc.mplc_lab_imports import * \n",
    "\n",
    "dir_path = r'G:\\My Drive\\Projects\\MPLC\\results\\lab\\2025_01_30_D_mirror'\n",
    "if not os.path.exists(dir_path):\n",
    "    os.mkdir(dir_path)\n",
    "    \n",
    "dz = 5 \n",
    "deadzone = 250e-6\n",
    "plane_10_tilt = 20 "
   ],
   "outputs": [],
   "execution_count": 1
  },
  {
   "metadata": {},
   "cell_type": "markdown",
   "source": "# WFM",
   "id": "bc49a14b246974b2"
  },
  {
   "metadata": {
    "ExecuteTime": {
     "end_time": "2025-01-30T08:25:07.592003Z",
     "start_time": "2025-01-30T08:22:40.427149Z"
    }
   },
   "cell_type": "code",
   "source": [
    "all_Us_path = r\"G:\\My Drive\\Projects\\MPLC\\results\\lab\\2024_09_10_fixing_phases_different_Us\\for_ronen_Haar_800.mat\"\n",
    "all_Us = loadmat(all_Us_path)['U1_all']\n",
    "U_no = 1\n",
    "\n",
    "timestamp = datetime.datetime.now().strftime('%Y_%m_%d_%H_%M_%S')\n",
    "masks_path = fr'{dir_path}\\{timestamp}_QKD_dead_zone_{deadzone*1e6}um_dz10_{dz}mm.masks'\n",
    "mplc_res_path = fr'{dir_path}\\{timestamp}_QKD_dead_zone_{deadzone*1e6}um_dz10_{dz}mm.mplcsim'\n",
    "# mplc_sim = create_WFM_unitary_masks(all_Us[:, :, U_no], N_iterations=15, out_path=masks_path, \n",
    "#                                     dead_middle_zone=deadzone, last_plane_extra_dist=dz*1e-3)\n",
    "mplc_sim = create_WFM_QKD_masks(N_iterations=15, out_path=masks_path,\n",
    "                                dead_middle_zone=deadzone, last_plane_extra_dist=dz*1e-3)\n",
    "mplc_sim.res._calc_fidelity()\n",
    "print(f'{mplc_sim.res.fidelity=}')"
   ],
   "id": "38ca9ad1ebb2785",
   "outputs": [
    {
     "name": "stdout",
     "output_type": "stream",
     "text": [
      "{'wavelength': 8.1e-07, 'dist_after_plane': array([0.087, 0.087, 0.087, 0.087, 0.138, 0.087, 0.087, 0.087, 0.087,\n",
      "       0.092]), 'N_iterations': 15, 'Nx': 140, 'Ny': 360, 'dx': 1.25e-05, 'dy': 1.25e-05, 'max_k_constraint': 0.15, 'min_log_level': 2, 'size_factor': 3, 'use_mask_offset': True, 'symmetric_masks': False, 'active_planes': array([ True,  True,  True,  True,  True,  True,  True,  True,  True,\n",
      "        True,  True]), 'N_modes': 10}\n"
     ]
    },
    {
     "name": "stderr",
     "output_type": "stream",
     "text": [
      "100%|██████████| 15/15 [02:12<00:00,  8.81s/it]\n"
     ]
    },
    {
     "name": "stdout",
     "output_type": "stream",
     "text": [
      "mplc_sim.res.fidelity=0.9783116106895021\n"
     ]
    }
   ],
   "execution_count": 21
  },
  {
   "metadata": {
    "ExecuteTime": {
     "end_time": "2025-01-30T08:26:34.709624Z",
     "start_time": "2025-01-30T08:26:34.392187Z"
    }
   },
   "cell_type": "code",
   "source": [
    "mplc_sim.res.show_field_intensity((np.abs(mplc_sim.res.input_modes)**2).sum(axis=0))\n",
    "mplc_sim.res.show_field_intensity((np.abs(mplc_sim.res.output_modes)**2).sum(axis=0))"
   ],
   "id": "a2d9a4b2a1116376",
   "outputs": [],
   "execution_count": 24
  },
  {
   "metadata": {
    "ExecuteTime": {
     "end_time": "2025-01-30T08:18:25.722539Z",
     "start_time": "2025-01-30T08:18:24.750582Z"
    }
   },
   "cell_type": "code",
   "source": "mplc_sim.res.show_all(1)",
   "id": "548f61f15a47e9d0",
   "outputs": [],
   "execution_count": 19
  },
  {
   "metadata": {},
   "cell_type": "markdown",
   "source": "# Hardware",
   "id": "aa95a3bf1ecf4d3c"
  },
  {
   "metadata": {
    "ExecuteTime": {
     "end_time": "2025-01-29T09:19:40.888097Z",
     "start_time": "2025-01-29T09:19:40.043310Z"
    }
   },
   "cell_type": "code",
   "source": [
    "mplc = MPLCDevice(linear_tilts=True, plane_10_tilts=plane_10_tilt)\n",
    "integration_time = 1\n",
    "coin_window = 2e-9\n",
    "tt = get_timetagger(coin_window=coin_window, integration_time=integration_time)"
   ],
   "id": "fe58a8611cb7b579",
   "outputs": [
    {
     "name": "stdout",
     "output_type": "stream",
     "text": [
      "God timetagger\n"
     ]
    }
   ],
   "execution_count": 4
  },
  {
   "metadata": {
    "ExecuteTime": {
     "end_time": "2025-01-29T09:19:57.755296Z",
     "start_time": "2025-01-29T09:19:51.385357Z"
    }
   },
   "cell_type": "code",
   "source": [
    "backlash = 0\n",
    "wait_after_move = 0.2\n",
    "mxs, mys = get_signal_motors(backlash=backlash, wait_after_move=wait_after_move)\n",
    "\n",
    "backlash = 0\n",
    "wait_after_move = 0.2\n",
    "mxi, myi = get_idler_motors(backlash=backlash, wait_after_move=wait_after_move)"
   ],
   "id": "4641621bb16044f8",
   "outputs": [
    {
     "name": "stdout",
     "output_type": "stream",
     "text": [
      "Got Zaber motors\n",
      "Got Thorlabs motors\n"
     ]
    }
   ],
   "execution_count": 5
  },
  {
   "metadata": {},
   "cell_type": "markdown",
   "source": "# Single counts",
   "id": "5e5f5d95ce879462"
  },
  {
   "metadata": {
    "ExecuteTime": {
     "end_time": "2025-01-29T09:23:13.841797Z",
     "start_time": "2025-01-29T09:23:12.730380Z"
    }
   },
   "cell_type": "code",
   "source": [
    "# Set MPLC \n",
    "# dummy old phases path meanwhile  \n",
    "phases_path = rf'G:\\My Drive\\Projects\\MPLC\\results\\lab\\2024_10_30_make_mirror_work\\2024_10_31_10_15_02_fine_new_mirror_from_zero_more.phases'\n",
    "masks_path = fr'G:\\My Drive\\Projects\\MPLC\\results\\lab\\2025_01_30_D_mirror\\2025_01_29_10_54_23_U1U_dead_zone_400pix_dz10_5mm.masks'\n",
    "\n",
    "masks = get_good_masks(masks_path=masks_path, modes_to_keep=modes_to_keep, phases_path=phases_path)\n",
    "mplc.plane_10_tilts = plane_10_tilt\n",
    "mplc.load_masks(masks)\n",
    "time.sleep(0.5)\n",
    "mplc.restore_location()"
   ],
   "id": "d1b5bbb783b43df3",
   "outputs": [],
   "execution_count": 13
  },
  {
   "metadata": {
    "ExecuteTime": {
     "end_time": "2025-01-29T14:07:24.091452Z",
     "start_time": "2025-01-29T13:58:43.474343Z"
    }
   },
   "cell_type": "code",
   "source": [
    "resolution = 1\n",
    "integration_time = 1 \n",
    "\n",
    "# Scan! \n",
    "scan_saveto_path = rf'{dir_path}\\{tnow()}_signal_dead_zone_{deadzone}um_dz10_{dz}mm_pl10tilt_{plane_10_tilt}_res_{resolution}_d_mirror.scan'\n",
    "start_x = 9\n",
    "end_x = 13\n",
    "start_y = 6\n",
    "end_y = 10\n",
    "\n",
    "x_pixels = 160 // resolution\n",
    "y_pixels = 160 // resolution\n",
    "pixel_size_x = 0.025 * resolution\n",
    "pixel_size_y = 0.025 * resolution\n",
    "\n",
    "scanner = PhotonScanner(integration_time, start_x, start_y, x_pixels, y_pixels, pixel_size_x, pixel_size_y, is_timetagger=True, coin_window=coin_window, saveto_path=scan_saveto_path) \n",
    "tt = get_timetagger(integration_time=integration_time)  # important to have a new tt \n",
    "t1 = run_in_thread(scanner.scan, x_motor=mxs, y_motor=mys, ph=tt)\n",
    "\n",
    "time.sleep(2)\n",
    "\n",
    "scan_saveto_path = rf'{dir_path}\\{tnow()}_idler_dead_zone_{deadzone}um_dz10_{dz}mm_pl10tilt_{plane_10_tilt}_res_{resolution}_d_mirror.scan'\n",
    "\n",
    "start_x = 9.25\n",
    "end_x = 9.75\n",
    "start_y = 3.6\n",
    "end_y = 5.6\n",
    "\n",
    "x_pixels = 20 // resolution\n",
    "y_pixels = 80 // resolution\n",
    "pixel_size_x = 0.025 * resolution\n",
    "pixel_size_y = 0.025 * resolution\n",
    "\n",
    "scanner = PhotonScanner(integration_time, start_x, start_y, x_pixels, y_pixels, pixel_size_x, pixel_size_y, is_timetagger=True, coin_window=coin_window, saveto_path=scan_saveto_path)\n",
    "tt2 = get_timetagger(integration_time=integration_time)\n",
    "t2 = run_in_thread(scanner.scan, x_motor=mxi, y_motor=myi, ph=tt2)\n",
    "t1.join()\n",
    "send_telegram_message(f'Done one singles scan')\n",
    "# t2.join()    \n",
    "send_telegram_message(f'Done second singles scan')"
   ],
   "id": "18d0c873e95bf1c7",
   "outputs": [
    {
     "data": {
      "text/plain": [
       "{'ok': True,\n",
       " 'result': {'message_id': 71,\n",
       "  'from': {'id': 7897393437,\n",
       "   'is_bot': True,\n",
       "   'first_name': 'complexphoton',\n",
       "   'username': 'complexphoton_bot'},\n",
       "  'chat': {'id': 476169345,\n",
       "   'first_name': 'Ronen',\n",
       "   'last_name': 'Shekel',\n",
       "   'username': 'RonenShekel',\n",
       "   'type': 'private'},\n",
       "  'date': 1738159643,\n",
       "  'text': 'Done second singles scan'}}"
      ]
     },
     "execution_count": 64,
     "metadata": {},
     "output_type": "execute_result"
    }
   ],
   "execution_count": 64
  },
  {
   "metadata": {},
   "cell_type": "markdown",
   "source": "## Manual motors",
   "id": "430fdfb0aa4e2d9a"
  },
  {
   "metadata": {
    "ExecuteTime": {
     "end_time": "2025-01-29T13:37:39.351136Z",
     "start_time": "2025-01-29T13:37:35.844221Z"
    }
   },
   "cell_type": "code",
   "source": [
    "mxi.move_absolute(9.47)\n",
    "myi.move_absolute(3.89)\n",
    "display(mxi.get_position())\n",
    "display(myi.get_position())"
   ],
   "id": "410c963745528c5f",
   "outputs": [
    {
     "data": {
      "text/plain": [
       "9.47"
      ]
     },
     "metadata": {},
     "output_type": "display_data"
    },
    {
     "data": {
      "text/plain": [
       "3.89"
      ]
     },
     "metadata": {},
     "output_type": "display_data"
    }
   ],
   "execution_count": 31
  },
  {
   "metadata": {
    "ExecuteTime": {
     "end_time": "2025-01-29T14:55:53.897863Z",
     "start_time": "2025-01-29T14:55:52.907915Z"
    }
   },
   "cell_type": "code",
   "source": [
    "mxs.move_absolute(11.07)\n",
    "mys.move_absolute(8.1)\n",
    "display(mxs.get_position())\n",
    "display(mys.get_position())"
   ],
   "id": "a51e0dd78e2e1954",
   "outputs": [
    {
     "data": {
      "text/plain": [
       "11.070002625"
      ]
     },
     "metadata": {},
     "output_type": "display_data"
    },
    {
     "data": {
      "text/plain": [
       "8.100012375"
      ]
     },
     "metadata": {},
     "output_type": "display_data"
    }
   ],
   "execution_count": 89
  }
 ],
 "metadata": {
  "kernelspec": {
   "display_name": "Python 3",
   "language": "python",
   "name": "python3"
  },
  "language_info": {
   "codemirror_mode": {
    "name": "ipython",
    "version": 2
   },
   "file_extension": ".py",
   "mimetype": "text/x-python",
   "name": "python",
   "nbconvert_exporter": "python",
   "pygments_lexer": "ipython2",
   "version": "2.7.6"
  }
 },
 "nbformat": 4,
 "nbformat_minor": 5
}
