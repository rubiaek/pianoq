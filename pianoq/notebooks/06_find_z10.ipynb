{
 "cells": [
  {
   "metadata": {
    "ExecuteTime": {
     "end_time": "2024-10-08T06:40:48.179306Z",
     "start_time": "2024-10-08T06:40:48.018726Z"
    }
   },
   "cell_type": "code",
   "source": [
    "import numpy as np\n",
    "from lab.mplc.copy_lines import wait_after_move\n",
    "from misc.mplc_lab_imports import get_good_masks\n",
    "from pianoq.misc.mplc_writeup_imports import * \n",
    "from pianoq.misc.mplc_lab_imports import * \n",
    "\n",
    "dir_path = r'G:\\My Drive\\Projects\\MPLC\\results\\lab\\2024_10_08_find_z10'\n",
    "if not os.path.exists(dir_path):\n",
    "    os.mkdir(dir_path)"
   ],
   "id": "b11e3180fd85edc3",
   "outputs": [],
   "execution_count": 3
  },
  {
   "metadata": {},
   "cell_type": "code",
   "source": [
    "all_Us_path = r\"G:\\My Drive\\Projects\\MPLC\\results\\lab\\2024_09_10_fixing_phases_different_Us\\for_ronen_Haar_800.mat\"\n",
    "all_Us = loadmat(all_Us_path)['U1_all']\n",
    "U_no = 1 \n",
    "\n",
    "dz10s = np.linspace(-15e-3, 15e-3, 11)\n",
    "\n",
    "for dz10 in dz10s:\n",
    "    timestamp = datetime.datetime.now().strftime('%Y_%m_%d_%H_%M_%S')\n",
    "    masks_path =    fr'{dir_path}\\{timestamp}_U1U_dz10={dz10}.masks'\n",
    "    mplc_res_path = fr'{dir_path}\\{timestamp}_U1U_dz10={dz10}.mplcsim'\n",
    "    mplc_sim = create_WFM_unitary_masks(all_Us[:, :, U_no], N_iterations=15, out_path=masks_path, dead_middle_zone=0, last_plane_extra_dist=dz10)\n",
    "    mplc_sim.res.saveto(mplc_res_path, smaller=True)"
   ],
   "id": "cc09d956c435fe5e",
   "outputs": [],
   "execution_count": null
  },
  {
   "metadata": {
    "ExecuteTime": {
     "end_time": "2024-10-08T10:14:12.252977Z",
     "start_time": "2024-10-08T10:14:12.148512Z"
    }
   },
   "cell_type": "code",
   "source": [
    "import re \n",
    "masks_paths = glob.glob(rf'{dir_path}\\*.masks')\n",
    "all_ds = np.array([re.findall('.*dz10=(.*).masks', path)[0] for path in masks_paths]).astype(float)"
   ],
   "id": "529e2a1fff7fb07f",
   "outputs": [
    {
     "data": {
      "text/plain": [
       "['G:\\\\My Drive\\\\Projects\\\\MPLC\\\\results\\\\lab\\\\2024_10_08_find_z10\\\\2024_10_08_09_46_26_U1U_dz10=-0.015.masks',\n",
       " 'G:\\\\My Drive\\\\Projects\\\\MPLC\\\\results\\\\lab\\\\2024_10_08_find_z10\\\\2024_10_08_09_49_34_U1U_dz10=-0.012.masks',\n",
       " 'G:\\\\My Drive\\\\Projects\\\\MPLC\\\\results\\\\lab\\\\2024_10_08_find_z10\\\\2024_10_08_09_52_41_U1U_dz10=-0.009.masks',\n",
       " 'G:\\\\My Drive\\\\Projects\\\\MPLC\\\\results\\\\lab\\\\2024_10_08_find_z10\\\\2024_10_08_09_55_47_U1U_dz10=-0.006.masks',\n",
       " 'G:\\\\My Drive\\\\Projects\\\\MPLC\\\\results\\\\lab\\\\2024_10_08_find_z10\\\\2024_10_08_09_58_52_U1U_dz10=-0.003.masks',\n",
       " 'G:\\\\My Drive\\\\Projects\\\\MPLC\\\\results\\\\lab\\\\2024_10_08_find_z10\\\\2024_10_08_10_01_54_U1U_dz10=0.0.masks',\n",
       " 'G:\\\\My Drive\\\\Projects\\\\MPLC\\\\results\\\\lab\\\\2024_10_08_find_z10\\\\2024_10_08_10_04_55_U1U_dz10=0.003.masks',\n",
       " 'G:\\\\My Drive\\\\Projects\\\\MPLC\\\\results\\\\lab\\\\2024_10_08_find_z10\\\\2024_10_08_10_07_53_U1U_dz10=0.006.masks',\n",
       " 'G:\\\\My Drive\\\\Projects\\\\MPLC\\\\results\\\\lab\\\\2024_10_08_find_z10\\\\2024_10_08_10_10_55_U1U_dz10=0.009.masks',\n",
       " 'G:\\\\My Drive\\\\Projects\\\\MPLC\\\\results\\\\lab\\\\2024_10_08_find_z10\\\\2024_10_08_10_13_55_U1U_dz10=0.012.masks',\n",
       " 'G:\\\\My Drive\\\\Projects\\\\MPLC\\\\results\\\\lab\\\\2024_10_08_find_z10\\\\2024_10_08_10_16_56_U1U_dz10=0.015.masks']"
      ]
     },
     "execution_count": 9,
     "metadata": {},
     "output_type": "execute_result"
    }
   ],
   "execution_count": 9
  },
  {
   "metadata": {},
   "cell_type": "code",
   "outputs": [],
   "execution_count": null,
   "source": [
    "mplc = MPLCDevice()\n",
    "\n",
    "backlash = 0\n",
    "wait_after_move = 0.2\n",
    "mxs, mys = get_signal_motors(backlash=backlash, wait_after_move=wait_after_move)\n",
    "\n",
    "integration_time = 1\n",
    "coin_window = 2e-9\n",
    "tt = get_timetagger(coin_window=coin_window, integration_time=integration_time)"
   ],
   "id": "dafaae0db3205728"
  },
  {
   "metadata": {},
   "cell_type": "code",
   "outputs": [],
   "execution_count": null,
   "source": [
    "for i in range(len(all_ds)):\n",
    "    masks = get_good_masks(masks_path=masks_paths[i], modes_to_keep=modes_to_keep, phases_path=None)\n",
    "    mplc.load_masks(masks)\n",
    "    mplc.restore_location()\n",
    "    \n",
    "    scan_saveto_path = rf'{dir_path}\\{tnow()}_dz10={all_ds[i]}.scan'\n",
    "    \n",
    "    \n",
    "    start_x = 12.7\n",
    "    end_x = 13.15\n",
    "    start_y = 5.5\n",
    "    end_y = 6.25\n",
    "    \n",
    "    resolution = 1 \n",
    "    x_pixels = 18\n",
    "    y_pixels = 30\n",
    "    pixel_size_x = 0.025 \n",
    "    pixel_size_y = 0.025 \n",
    "        \n",
    "    singles_signal_path = fr'{dir_path}\\{tnow()}_signal_3_5_spots.scan'\n",
    "    \n",
    "    scanner = PhotonScanner(integration_time, start_x, start_y, x_pixels, y_pixels, pixel_size_x, pixel_size_y, is_timetagger=True, coin_window=coin_window, saveto_path=singles_signal_path)   \n",
    "    _ = scanner.scan(x_motor=mxs, y_motor=mys, ph=tt)"
   ],
   "id": "9d9ca0abe7852561"
  }
 ],
 "metadata": {
  "kernelspec": {
   "display_name": "Python 3",
   "language": "python",
   "name": "python3"
  },
  "language_info": {
   "codemirror_mode": {
    "name": "ipython",
    "version": 2
   },
   "file_extension": ".py",
   "mimetype": "text/x-python",
   "name": "python",
   "nbconvert_exporter": "python",
   "pygments_lexer": "ipython2",
   "version": "2.7.6"
  }
 },
 "nbformat": 4,
 "nbformat_minor": 5
}
