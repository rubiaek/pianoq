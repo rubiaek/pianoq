{
 "cells": [
  {
   "metadata": {},
   "cell_type": "markdown",
   "source": "2024-09-19 - Ronen Shekel",
   "id": "5eb235d98f7ae889"
  },
  {
   "metadata": {},
   "cell_type": "code",
   "outputs": [],
   "execution_count": null,
   "source": [
    "import matplotlib\n",
    "\n",
    "\n",
    "matplotlib.use('TKAgg')\n",
    "%load_ext autoreload\n",
    "%autoreload 2\n",
    "import os \n",
    "import datetime\n",
    "import glob \n",
    "import numpy as np\n",
    "import matplotlib.pyplot as plt\n",
    "from pianoq.simulations.mplc_sim.mplc_sim import MPLCSim\n",
    "from pianoq.simulations.mplc_sim.mplc_sim_result import MPLCMasks\n",
    "from pianoq.lab.mplc.singles_scan import signal_scan, idler_scan, get_signal_scanner, get_idler_scanner\n",
    "from pianoq.lab.mplc.phase_finder_result import PhaseFinderResult\n",
    "from pianoq.lab.mplc.mask_utils import remove_input_modes, add_phase_input_spots, get_imaging_masks\n",
    "from pianoq_results.scan_result import ScanResult\n",
    "from pianoq.simulations.mplc_sim.mplc_sim_result import MPLCSimResult\n",
    "from pianoq.lab.mplc.mplc_device import MPLCDevice\n",
    "from pianoq.lab.photon_scan import PhotonScanner\n",
    "from pianoq.misc.misc import run_in_thread, run_in_thread_simple\n",
    "from pianoq.misc.mplt import mimshow, mplot\n",
    "from pianoq.simulations.mplc_sim.create_wfm_masks import create_WFM_diffuser_masks\n",
    "from pianoq.lab.mplc.discrete_photon_scanner import DiscretePhotonScanner\n",
    "import time \n",
    "\n",
    "dir_path = r'G:\\My Drive\\Projects\\MPLC\\results\\lab\\2024_09_19_filters_80nm'\n",
    "if not os.path.exists(dir_path):\n",
    "    os.mkdir(dir_path)\n",
    "\n",
    "modes_to_keep = np.array([3, 8, 13, 18, 23, 28, 33, 38, 43, 48])\n",
    "U_no = 1\n",
    "phases_no = 2 "
   ],
   "id": "494f0a05aed9055a"
  },
  {
   "metadata": {},
   "cell_type": "markdown",
   "source": "# HW",
   "id": "f0fc242e12e447f"
  },
  {
   "metadata": {},
   "cell_type": "code",
   "outputs": [],
   "execution_count": null,
   "source": [
    "# MPLC\n",
    "mplc = MPLCDevice()\n",
    "mplc.restore_location()\n",
    "print('Got MPLC')\n",
    "\n",
    "# Motors\n",
    "backlash = 0\n",
    "wait_after_move = 0.3\n",
    "from pianoq.lab.mplc.consts import thorlabs_x_serial, thorlabs_y_serial\n",
    "from pianoq.lab.thorlabs_motor import ThorlabsKcubeDC, ThorlabsKcubeStepper\n",
    "from pianoq.lab.zaber_motor import ZaberMotors\n",
    "mxi = ThorlabsKcubeDC(thorlabs_x_serial, backlash=backlash, wait_after_move=wait_after_move)\n",
    "myi = ThorlabsKcubeStepper(thorlabs_y_serial, backlash=backlash, wait_after_move=wait_after_move)\n",
    "print('Got Thorlabs motors')\n",
    "\n",
    "zaber_ms = ZaberMotors(backlash=backlash, wait_after_move=wait_after_move)\n",
    "mxs = zaber_ms.motors[1]\n",
    "mys = zaber_ms.motors[0]\n",
    "print('Got Zaber motors')\n",
    "\n",
    "# Timetagger\n",
    "from pianoq.lab.time_tagger import QPTimeTagger\n",
    "from pianoq.lab.mplc.consts import TIMETAGGER_DELAYS, TIMETAGGER_COIN_WINDOW\n",
    "tt = QPTimeTagger(integration_time=1, remote=True,\n",
    "                  single_channel_delays=TIMETAGGER_DELAYS, coin_window=TIMETAGGER_COIN_WINDOW)\n",
    "print('Got Time tagger')"
   ],
   "id": "cca8c4e8b31987be"
  },
  {
   "metadata": {},
   "cell_type": "markdown",
   "source": "## correlations",
   "id": "1414ff9b0863cc29"
  },
  {
   "metadata": {},
   "cell_type": "code",
   "outputs": [],
   "execution_count": null,
   "source": [
    "integration_time = 4\n",
    "tt.set_integration_time(integration_time)\n",
    "filter_type = '20nm'\n",
    "\n",
    "# in the different Us different phases this seemed to work best \n",
    "masks_path = glob.glob(rf'{dir_path}\\U{U_no}U*.masks')[0]\n",
    "phases_path = glob.glob(rf'{dir_path}\\U{phases_no}U*.phases')[0]\n",
    "\n",
    "pr = PhaseFinderResult()\n",
    "pr.loadfrom(phases_path)\n",
    "\n",
    "msks = MPLCMasks()\n",
    "msks.loadfrom(masks_path)\n",
    "masks = msks.real_masks\n",
    "\n",
    "masks = remove_input_modes(masks, modes_to_keep=modes_to_keep)\n",
    "masks = add_phase_input_spots(masks, pr.phases)\n",
    "mplc.load_masks(masks, linear_tilts=True)\n",
    "\n",
    "# locs \n",
    "locs_sig_path = glob.glob(fr'{dir_path}\\U{U_no}U*sig.locs')[0]\n",
    "locs_idl_path = glob.glob(fr'{dir_path}\\U{U_no}U*idl.locs')[0]\n",
    "locs_sig = np.load(locs_sig_path)['locs']\n",
    "locs_idl = np.load(locs_idl_path)['locs']\n",
    "\n",
    "timestamp = datetime.datetime.now().strftime('%Y_%m_%d_%H_%M_%S')\n",
    "scan_path = fr'{dir_path}\\{timestamp}_filter_{filter_type}_exp_{integration_time}s.dscan'\n",
    "mplc.restore_location()\n",
    "dps = DiscretePhotonScanner(locs_sig, locs_idl, integration_time=integration_time, remote_tagger=True, saveto_path=scan_path,\n",
    "                            backlash=backlash, wait_after_move=wait_after_move, no_hw_mode=True)\n",
    "dps.scan()"
   ],
   "id": "5e55b6baa870d5b5"
  },
  {
   "metadata": {},
   "cell_type": "markdown",
   "source": [
    "Plan: \n",
    "- Run correlations with 20 nm. 4s, then 20s. \n",
    "- Take from past the single scan \n",
    "- change filters to 80nm \n",
    "- run correlations with same all \n",
    "- reoptimize phases and try again \n",
    "- run singles scan"
   ],
   "id": "69a6e662565e983"
  }
 ],
 "metadata": {
  "kernelspec": {
   "display_name": "Python 3",
   "language": "python",
   "name": "python3"
  },
  "language_info": {
   "codemirror_mode": {
    "name": "ipython",
    "version": 2
   },
   "file_extension": ".py",
   "mimetype": "text/x-python",
   "name": "python",
   "nbconvert_exporter": "python",
   "pygments_lexer": "ipython2",
   "version": "2.7.6"
  }
 },
 "nbformat": 4,
 "nbformat_minor": 5
}
