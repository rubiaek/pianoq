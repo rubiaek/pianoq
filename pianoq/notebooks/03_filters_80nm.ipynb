{
 "cells": [
  {
   "metadata": {},
   "cell_type": "markdown",
   "source": "2024-09-19 - Ronen Shekel",
   "id": "5eb235d98f7ae889"
  },
  {
   "metadata": {
    "ExecuteTime": {
     "end_time": "2024-09-19T08:14:27.343792Z",
     "start_time": "2024-09-19T08:14:20.100144Z"
    }
   },
   "cell_type": "code",
   "source": [
    "import matplotlib\n",
    "matplotlib.use('TKAgg')\n",
    "%load_ext autoreload\n",
    "%autoreload 2\n",
    "import os \n",
    "import datetime\n",
    "import glob \n",
    "import numpy as np\n",
    "import matplotlib.pyplot as plt\n",
    "from pianoq.simulations.mplc_sim.mplc_sim import MPLCSim\n",
    "from pianoq.simulations.mplc_sim.mplc_sim_result import MPLCMasks\n",
    "from pianoq.lab.mplc.singles_scan import signal_scan, idler_scan, get_signal_scanner, get_idler_scanner\n",
    "from pianoq.lab.mplc.phase_finder_result import PhaseFinderResult\n",
    "from pianoq.lab.mplc.mask_utils import remove_input_modes, add_phase_input_spots, get_imaging_masks\n",
    "from pianoq_results.scan_result import ScanResult\n",
    "from pianoq.simulations.mplc_sim.mplc_sim_result import MPLCSimResult\n",
    "from pianoq.lab.mplc.mplc_device import MPLCDevice\n",
    "from pianoq.lab.photon_scan import PhotonScanner\n",
    "from pianoq.misc.misc import run_in_thread, run_in_thread_simple\n",
    "from pianoq.misc.mplt import mimshow, mplot\n",
    "from pianoq.simulations.mplc_sim.create_wfm_masks import create_WFM_diffuser_masks\n",
    "from pianoq.lab.mplc.discrete_photon_scanner import DiscretePhotonScanner\n",
    "import time \n",
    "from pianoq.lab.mplc.phase_finder_result import PhaseFinderResult\n",
    "from pianoq.lab.mplc.find_discreet_phases import PhaseFinder\n",
    "\n",
    "dir_path = r'G:\\My Drive\\Projects\\MPLC\\results\\lab\\2024_09_19_filters_80nm'\n",
    "if not os.path.exists(dir_path):\n",
    "    os.mkdir(dir_path)\n",
    "\n",
    "modes_to_keep = np.array([3, 8, 13, 18, 23, 28, 33, 38, 43, 48])\n",
    "U_no = 1\n",
    "phases_no = 2 "
   ],
   "id": "494f0a05aed9055a",
   "outputs": [
    {
     "name": "stdout",
     "output_type": "stream",
     "text": [
      "The autoreload extension is already loaded. To reload it, use:\n",
      "  %reload_ext autoreload\n"
     ]
    }
   ],
   "execution_count": 2
  },
  {
   "metadata": {},
   "cell_type": "markdown",
   "source": "# HW",
   "id": "f0fc242e12e447f"
  },
  {
   "metadata": {
    "ExecuteTime": {
     "end_time": "2024-09-19T08:14:33.813952Z",
     "start_time": "2024-09-19T08:14:27.363004Z"
    }
   },
   "cell_type": "code",
   "source": [
    "# Motors\n",
    "backlash = 0\n",
    "wait_after_move = 0.3\n",
    "from pianoq.lab.mplc.consts import thorlabs_x_serial, thorlabs_y_serial\n",
    "from pianoq.lab.thorlabs_motor import ThorlabsKcubeDC, ThorlabsKcubeStepper\n",
    "from pianoq.lab.zaber_motor import ZaberMotors\n",
    "zaber_ms = ZaberMotors(backlash=backlash, wait_after_move=wait_after_move)\n",
    "mxs = zaber_ms.motors[1]\n",
    "mys = zaber_ms.motors[0]\n",
    "print('Got Zaber motors')\n",
    "\n",
    "mxi = ThorlabsKcubeDC(thorlabs_x_serial, backlash=backlash, wait_after_move=wait_after_move)\n",
    "myi = ThorlabsKcubeStepper(thorlabs_y_serial, backlash=backlash, wait_after_move=wait_after_move)\n",
    "print('Got Thorlabs motors')\n",
    "\n",
    "# MPLC\n",
    "mplc = MPLCDevice()\n",
    "mplc.restore_location()\n",
    "print('Got MPLC')\n",
    "\n",
    "# Timetagger\n",
    "from pianoq.lab.time_tagger import QPTimeTagger\n",
    "from pianoq.lab.mplc.consts import TIMETAGGER_DELAYS, TIMETAGGER_COIN_WINDOW\n",
    "tt = QPTimeTagger(integration_time=1, remote=True,\n",
    "                  single_channel_delays=TIMETAGGER_DELAYS, coin_window=TIMETAGGER_COIN_WINDOW)\n",
    "print('Got Time tagger')"
   ],
   "id": "cca8c4e8b31987be",
   "outputs": [
    {
     "name": "stdout",
     "output_type": "stream",
     "text": [
      "Got Zaber motors\n",
      "Got Thorlabs motors\n",
      "Got MPLC\n",
      "Got Time tagger\n"
     ]
    }
   ],
   "execution_count": 3
  },
  {
   "metadata": {},
   "cell_type": "markdown",
   "source": "# Single counts ",
   "id": "56369a9e04778ecf"
  },
  {
   "metadata": {
    "jupyter": {
     "is_executing": true
    },
    "ExecuteTime": {
     "start_time": "2024-09-19T08:14:34.126471Z"
    }
   },
   "cell_type": "code",
   "source": [
    "resolution = 1 \n",
    "filter_type = '20nm'\n",
    "integration_time = 1 \n",
    "tt.set_integration_time(integration_time)\n",
    "scanner_sig, _, _, _ = get_signal_scanner(integration_time=integration_time, coin_window=2e-9, resolution=resolution, half_scan=True, no_hw_mode=True)\n",
    "scanner_idl, _, _, _ = get_idler_scanner(integration_time=integration_time, coin_window=2e-9, resolution=resolution, half_scan=True, no_hw_mode=True)\n",
    "\n",
    "masks_path = glob.glob(rf'{dir_path}\\U{U_no}U*.masks')[0]\n",
    "\n",
    "msks = MPLCMasks()\n",
    "msks.loadfrom(masks_path)\n",
    "masks = msks.real_masks\n",
    "masks = remove_input_modes(masks, modes_to_keep=modes_to_keep)\n",
    "mplc.load_masks(masks, linear_tilts=True)\n",
    "mplc.restore_location()\n",
    "\n",
    "timestamp = datetime.datetime.now().strftime('%Y_%m_%d_%H_%M_%S')\n",
    "singles_idler_path = fr'{dir_path}\\{timestamp}_idler_res_{resolution}_filter_{filter_type}.scan'\n",
    "singles_signal_path = fr'{dir_path}\\{timestamp}_signal_res_{resolution}_filter_{filter_type}.scan'\n",
    "\n",
    "scanner_idl.saveto_path = singles_idler_path\n",
    "scanner_sig.saveto_path = singles_signal_path\n",
    "scanner_idl.scan(x_motor=mxi, y_motor=myi, ph=tt)    \n",
    "scanner_sig.scan(x_motor=mxs, y_motor=mys, ph=tt)"
   ],
   "id": "2c149cb28582a284",
   "outputs": [
    {
     "name": "stdout",
     "output_type": "stream",
     "text": [
      "Moving to starting position...\n",
      "starting scan\n",
      "dur: 0. pix: 0, 0. Singles1: 1404. Singles2: 2084. Coincidence: 0.00.\n",
      "dur: 2. pix: 0, 1. Singles1: 1280. Singles2: 2025. Coincidence: 0.00.\n",
      "dur: 4. pix: 0, 2. Singles1: 1392. Singles2: 1984. Coincidence: 0.00.\n",
      "dur: 6. pix: 0, 3. Singles1: 1404. Singles2: 1979. Coincidence: 0.00.\n",
      "dur: 8. pix: 0, 4. Singles1: 1371. Singles2: 2026. Coincidence: 0.00.\n",
      "dur: 9. pix: 0, 5. Singles1: 1482. Singles2: 2083. Coincidence: 0.00.\n",
      "dur: 11. pix: 0, 6. Singles1: 1507. Singles2: 2059. Coincidence: 0.00.\n",
      "dur: 13. pix: 0, 7. Singles1: 1436. Singles2: 1992. Coincidence: 0.00.\n",
      "dur: 15. pix: 0, 8. Singles1: 1423. Singles2: 1969. Coincidence: 0.00.\n",
      "dur: 17. pix: 0, 9. Singles1: 1367. Singles2: 2073. Coincidence: 0.00.\n",
      "dur: 19. pix: 0, 10. Singles1: 1447. Singles2: 2046. Coincidence: 0.00.\n"
     ]
    }
   ],
   "execution_count": null
  },
  {
   "metadata": {},
   "cell_type": "markdown",
   "source": "# correlations",
   "id": "1414ff9b0863cc29"
  },
  {
   "metadata": {
    "ExecuteTime": {
     "end_time": "2024-09-19T08:06:31.538163Z",
     "start_time": "2024-09-19T07:53:17.310143Z"
    }
   },
   "cell_type": "code",
   "source": [
    "integration_time = 30\n",
    "filter_type = '80nm'\n",
    "\n",
    "# in the different Us different phases this seemed to work best \n",
    "masks_path = glob.glob(rf'{dir_path}\\U{U_no}U*.masks')[0]\n",
    "phases_path = glob.glob(rf'{dir_path}\\U{phases_no}U*.phases')[0]\n",
    "\n",
    "pr = PhaseFinderResult()\n",
    "pr.loadfrom(phases_path)\n",
    "\n",
    "msks = MPLCMasks()\n",
    "msks.loadfrom(masks_path)\n",
    "masks = msks.real_masks\n",
    "\n",
    "masks = remove_input_modes(masks, modes_to_keep=modes_to_keep)\n",
    "masks = add_phase_input_spots(masks, pr.phases)\n",
    "mplc.load_masks(masks, linear_tilts=True)\n",
    "\n",
    "# locs \n",
    "locs_sig_path = glob.glob(fr'{dir_path}\\U{U_no}U*sig.locs')[0]\n",
    "locs_idl_path = glob.glob(fr'{dir_path}\\U{U_no}U*idl.locs')[0]\n",
    "locs_sig = np.load(locs_sig_path)['locs']\n",
    "locs_idl = np.load(locs_idl_path)['locs']\n",
    "\n",
    "timestamp = datetime.datetime.now().strftime('%Y_%m_%d_%H_%M_%S')\n",
    "scan_path = fr'{dir_path}\\{timestamp}_filter_{filter_type}_exp_{integration_time}s.dscan'\n",
    "mplc.restore_location()\n",
    "dps = DiscretePhotonScanner(locs_sig, locs_idl, integration_time=integration_time, remote_tagger=True, saveto_path=scan_path,\n",
    "                            backlash=backlash, wait_after_move=wait_after_move, no_hw_mode=True)\n",
    "dps.zaber_ms = zaber_ms\n",
    "dps.m_sig_x = mxs\n",
    "dps.m_sig_y = mys\n",
    "dps.m_idl_x = mxi\n",
    "dps.m_idl_y = myi\n",
    "dps.time_tagger = tt\n",
    "dps.time_tagger.set_integration_time(integration_time)\n",
    "\n",
    "dps.scan()"
   ],
   "id": "5e55b6baa870d5b5",
   "outputs": [
    {
     "name": "stdout",
     "output_type": "stream",
     "text": [
      "beginning scan\n",
      "0, 0: 16450.77, 19548.33, 8.47\n",
      "0, 1: 16418.57, 24280.53, 2.83\n",
      "0, 2: 16502.97, 24620.47, 2.40\n",
      "0, 3: 16509.43, 24081.40, 2.03\n",
      "0, 4: 16475.10, 21247.50, 2.40\n",
      "1, 0: 24732.30, 19432.23, 3.10\n",
      "1, 1: 24738.87, 24208.17, 19.20\n",
      "1, 2: 24868.70, 24643.83, 3.50\n",
      "1, 3: 24718.70, 23976.17, 3.90\n",
      "1, 4: 24698.90, 21188.77, 2.57\n",
      "2, 0: 25333.23, 19361.53, 2.90\n",
      "2, 1: 25419.73, 24141.07, 3.70\n",
      "2, 2: 25416.77, 24509.40, 24.77\n",
      "2, 3: 25724.27, 24161.73, 3.33\n",
      "2, 4: 25528.10, 21317.43, 2.63\n",
      "3, 0: 22759.67, 19499.77, 1.87\n",
      "3, 1: 22696.70, 24275.33, 4.13\n",
      "3, 2: 22894.87, 24685.07, 3.00\n",
      "3, 3: 22701.30, 23959.37, 17.23\n",
      "3, 4: 22764.83, 21252.40, 4.03\n",
      "4, 0: 20036.90, 19524.20, 3.20\n",
      "4, 1: 20088.80, 24287.07, 2.67\n",
      "4, 2: 19845.23, 24418.57, 2.90\n",
      "4, 3: 19771.47, 23797.40, 2.67\n",
      "4, 4: 19825.37, 21090.97, 10.87\n"
     ]
    }
   ],
   "execution_count": 12
  },
  {
   "metadata": {},
   "cell_type": "markdown",
   "source": "# Phases",
   "id": "a6b808701103ee7b"
  },
  {
   "metadata": {},
   "cell_type": "code",
   "outputs": [],
   "execution_count": null,
   "source": [
    "# masks \n",
    "masks_path = glob.glob(rf'{dir_path}\\U{U_no}U*.masks')[0]\n",
    "msks = MPLCMasks()\n",
    "msks.loadfrom(masks_path)\n",
    "masks = msks.real_masks\n",
    "masks = remove_input_modes(masks, modes_to_keep=modes_to_keep)\n",
    "mplc.load_masks(masks, linear_tilts=True)\n",
    "initiail_phases = np.zeros(25 * 2)\n",
    "\n",
    "\n",
    "timestamp = datetime.datetime.now().strftime('%Y_%m_%d_%H_%M_%S')\n",
    "phases_path = fr'{dir_path}\\{timestamp}_80nm.phases'\n",
    "integration_time = 10\n",
    "pf = PhaseFinder(mplc=mplc, integration_time=integration_time, remote_tagger=True, saveto_path=phases_path,\n",
    "                 modes_to_keep=modes_to_keep, coin_window=1e-9, no_hw_mode=True)\n",
    "\n",
    "pf.zaber_ms = zaber_ms\n",
    "pf.m_sig_x = mxs\n",
    "pf.m_sig_y = mys\n",
    "pf.m_idl_x = mxi\n",
    "pf.m_idl_y = myi\n",
    "pf.time_tagger = tt\n",
    "pf.time_tagger.set_integration_time(integration_time)\n",
    "\n",
    "# locs \n",
    "locs_idl_path = glob.glob(fr'{dir_path}\\U1U*idl.locs')[0]\n",
    "locs_sig_path = glob.glob(fr'{dir_path}\\U1U*sig.locs')[0]\n",
    "locs_idl = np.load(locs_idl_path)['locs']\n",
    "locs_sig = np.load(locs_sig_path)['locs']\n",
    "\n",
    "# i,j of corr matrix that is supposed to be strong \n",
    "i = 1\n",
    "j = 1\n",
    "pf.m_idl_x.move_absolute(locs_idl[i, 0])\n",
    "pf.m_idl_y.move_absolute(locs_idl[i, 1])\n",
    "pf.m_sig_x.move_absolute(locs_sig[j, 0])\n",
    "pf.m_sig_y.move_absolute(locs_sig[j, 1])        \n",
    "mplc.restore_location()\n",
    "time.sleep(1)\n",
    "pf.find_phases()"
   ],
   "id": "5768ec4ae47ba8ab"
  },
  {
   "metadata": {},
   "cell_type": "markdown",
   "source": [
    "Plan: \n",
    "- run singles scan \n",
    "- reoptimize phases and try again correlations "
   ],
   "id": "69a6e662565e983"
  }
 ],
 "metadata": {
  "kernelspec": {
   "display_name": "Python 3",
   "language": "python",
   "name": "python3"
  },
  "language_info": {
   "codemirror_mode": {
    "name": "ipython",
    "version": 2
   },
   "file_extension": ".py",
   "mimetype": "text/x-python",
   "name": "python",
   "nbconvert_exporter": "python",
   "pygments_lexer": "ipython2",
   "version": "2.7.6"
  }
 },
 "nbformat": 4,
 "nbformat_minor": 5
}
