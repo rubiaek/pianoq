{
 "cells": [
  {
   "cell_type": "code",
   "id": "initial_id",
   "metadata": {
    "collapsed": true,
    "ExecuteTime": {
     "end_time": "2024-09-29T05:55:44.707981Z",
     "start_time": "2024-09-29T05:55:38.398269Z"
    }
   },
   "source": [
    "from future.backports.datetime import datetime\n",
    "from misc.misc import run_in_thread\n",
    "%load_ext autoreload\n",
    "%autoreload 2\n",
    "import matplotlib\n",
    "matplotlib.use('TKAgg')\n",
    "from pianoq.lab.mplc.mask_aligner import MPLCAligner\n",
    "from pianoq.lab.pco_camera import PCOCamera\n",
    "from pianoq.simulations.mplc_sim.mplc_sim_result import MPLCMasks\n",
    "from pianoq.lab.mplc.mplc_device import MPLCDevice\n",
    "import os \n",
    "import datetime\n",
    "import time \n",
    "dir_path = r'G:\\My Drive\\Projects\\MPLC\\results\\lab\\2024_09_25_BS_to_mirror'\n",
    "if not os.path.exists(dir_path):\n",
    "    os.mkdir(dir_path)"
   ],
   "outputs": [
    {
     "name": "stdout",
     "output_type": "stream",
     "text": [
      "The autoreload extension is already loaded. To reload it, use:\n",
      "  %reload_ext autoreload\n"
     ]
    }
   ],
   "execution_count": 1
  },
  {
   "metadata": {},
   "cell_type": "code",
   "outputs": [],
   "execution_count": null,
   "source": [
    "import glob \n",
    "from pianoq.lab.mplc.mask_utils import remove_input_modes, add_phase_input_spots\n",
    "import numpy as np \n",
    "modes_to_keep = np.array([3, 8, 13, 18, 23, 28, 33, 38, 43, 48])\n",
    "\n",
    "mplc = MPLCDevice()\n",
    "mplc.restore_location()\n",
    "print('Got MPLC')\n",
    "# masks_path = r\"G:\\My Drive\\Projects\\MPLC\\results\\lab\\2024_09_25_BS_to_mirror\\2024_09_10_14_00_34_old.masks\"\n",
    "masks_path = r\"G:\\My Drive\\Projects\\MPLC\\results\\lab\\2024_09_25_BS_to_mirror\\2024_09_25_13_19_15_extra_1cm.masks\"\n",
    "# masks_path = r\"G:\\My Drive\\Projects\\MPLC\\results\\lab\\2024_09_17_first_diffuser\\2024_09_17_12_19_58_diffuser_d1d.masks\"\n",
    "\n",
    "msks = MPLCMasks()\n",
    "msks.loadfrom(masks_path)\n",
    "masks = msks.real_masks\n",
    "masks = remove_input_modes(masks, modes_to_keep=modes_to_keep)\n",
    "phases = np.random.uniform(0, 2*np.pi, size=50)\n",
    "masks = add_phase_input_spots(masks, phases)\n",
    "mplc.load_masks(masks, linear_tilts=True)\n",
    "mplc.restore_location()"
   ],
   "id": "b39b0e1f3c2951ee"
  },
  {
   "metadata": {
    "ExecuteTime": {
     "end_time": "2024-09-29T05:55:57.359288Z",
     "start_time": "2024-09-29T05:55:50.967246Z"
    }
   },
   "cell_type": "code",
   "source": [
    "backlash = 0\n",
    "wait_after_move = 0.3\n",
    "from pianoq.lab.mplc.consts import thorlabs_x_serial, thorlabs_y_serial\n",
    "from pianoq.lab.thorlabs_motor import ThorlabsKcubeDC, ThorlabsKcubeStepper\n",
    "from pianoq.lab.zaber_motor import ZaberMotors\n",
    "# zaber_ms = ZaberMotors(backlash=backlash, wait_after_move=wait_after_move)\n",
    "# mxs = zaber_ms.motors[1]\n",
    "# mys = zaber_ms.motors[0]\n",
    "# print('Got Zaber motors')\n",
    "\n",
    "mxi = ThorlabsKcubeDC(thorlabs_x_serial, backlash=backlash, wait_after_move=wait_after_move)\n",
    "myi = ThorlabsKcubeStepper(thorlabs_y_serial, backlash=backlash, wait_after_move=wait_after_move)\n",
    "print('Got Thorlabs motors')"
   ],
   "id": "1d224b6f970bb174",
   "outputs": [
    {
     "name": "stdout",
     "output_type": "stream",
     "text": [
      "Got Thorlabs motors\n"
     ]
    }
   ],
   "execution_count": 2
  },
  {
   "metadata": {
    "ExecuteTime": {
     "end_time": "2024-09-29T05:55:57.467836Z",
     "start_time": "2024-09-29T05:55:57.373527Z"
    }
   },
   "cell_type": "code",
   "source": [
    "# Timetagger\n",
    "from pianoq.lab.time_tagger import QPTimeTagger\n",
    "from pianoq.lab.mplc.consts import TIMETAGGER_DELAYS, TIMETAGGER_COIN_WINDOW\n",
    "tt = QPTimeTagger(integration_time=1, remote=True,\n",
    "                  single_channel_delays=TIMETAGGER_DELAYS, coin_window=TIMETAGGER_COIN_WINDOW)"
   ],
   "id": "ff4bfea8b87d7f28",
   "outputs": [],
   "execution_count": 3
  },
  {
   "metadata": {
    "ExecuteTime": {
     "end_time": "2024-09-29T07:23:14.421748Z",
     "start_time": "2024-09-29T07:23:13.574704Z"
    }
   },
   "cell_type": "code",
   "source": [
    "mxi.move_absolute(9.31)\n",
    "myi.move_absolute(3.68)\n",
    "print(mxi.get_position())\n",
    "print(myi.get_position())"
   ],
   "id": "fe798e881f12825d",
   "outputs": [
    {
     "name": "stdout",
     "output_type": "stream",
     "text": [
      "9.31\n",
      "3.68\n"
     ]
    }
   ],
   "execution_count": 25
  },
  {
   "metadata": {
    "jupyter": {
     "is_executing": true
    },
    "ExecuteTime": {
     "start_time": "2024-09-29T11:36:43.442236Z"
    }
   },
   "cell_type": "code",
   "source": [
    "from pianoq.lab.photon_scan import PhotonScanner\n",
    "from pianoq.misc.misc import run_in_thread\n",
    "\n",
    "integration_time = 1\n",
    "start_x = 8.9\n",
    "end_x = 9.6\n",
    "start_y = 3.4\n",
    "end_y = 5.5\n",
    "\n",
    "mxi.wait_after_move = 0\n",
    "myi.wait_after_move = 0\n",
    "# start_x = 8.5\n",
    "# end_x = 9.5\n",
    "# start_y = 2\n",
    "# end_y = 4\n",
    "\n",
    "resolution = 1 \n",
    "x_pixels = 14 // resolution\n",
    "y_pixels = 42 // resolution\n",
    "pixel_size_x = 0.05 * resolution\n",
    "pixel_size_y = 0.05 * resolution\n",
    "\n",
    "timestamp = datetime.datetime.now().strftime('%Y_%m_%d_%H_%M_%S')\n",
    "\n",
    "dir_path = r'G:\\My Drive\\Projects\\MPLC\\results\\lab\\2024_09_25_BS_to_mirror'\n",
    "timestamp = datetime.datetime.now().strftime('%Y_%m_%d_%H_%M_%S')\n",
    "singles_idler_path = fr'{dir_path}\\{timestamp}_idler_3.5_spots_tilt_0_deadzone_400.scan'\n",
    "\n",
    "scanner = PhotonScanner(integration_time, start_x, start_y, x_pixels, y_pixels, pixel_size_x, pixel_size_y, is_timetagger=True, coin_window=2e-9, saveto_path=singles_idler_path)   \n",
    "_ = scanner.scan(x_motor=mxi, y_motor=myi, ph=tt)"
   ],
   "id": "81f223475a7bd571",
   "outputs": [
    {
     "name": "stdout",
     "output_type": "stream",
     "text": [
      "Moving to starting position...\n",
      "starting scan\n",
      "dur: 0. pix: 0, 0. Singles1: 341. Singles2: 524. Coincidence: 0.00.\n",
      "dur: 2. pix: 0, 1. Singles1: 348. Singles2: 514. Coincidence: 0.00.\n",
      "dur: 3. pix: 0, 2. Singles1: 369. Singles2: 514. Coincidence: 0.00.\n",
      "dur: 5. pix: 0, 3. Singles1: 373. Singles2: 511. Coincidence: 0.00.\n"
     ]
    }
   ],
   "execution_count": null
  }
 ],
 "metadata": {
  "kernelspec": {
   "display_name": "Python 3",
   "language": "python",
   "name": "python3"
  },
  "language_info": {
   "codemirror_mode": {
    "name": "ipython",
    "version": 2
   },
   "file_extension": ".py",
   "mimetype": "text/x-python",
   "name": "python",
   "nbconvert_exporter": "python",
   "pygments_lexer": "ipython2",
   "version": "2.7.6"
  }
 },
 "nbformat": 4,
 "nbformat_minor": 5
}
