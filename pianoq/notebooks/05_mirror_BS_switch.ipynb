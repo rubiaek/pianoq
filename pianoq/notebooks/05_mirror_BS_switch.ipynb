{
 "cells": [
  {
   "metadata": {
    "ExecuteTime": {
     "end_time": "2024-09-25T07:49:51.424338Z",
     "start_time": "2024-09-25T07:49:49.757713Z"
    }
   },
   "cell_type": "code",
   "source": [
    "from future.backports.datetime import datetime\n",
    "%load_ext autoreload\n",
    "%autoreload 2\n",
    "import matplotlib\n",
    "matplotlib.use('TKAgg')\n",
    "from pianoq.lab.mplc.mask_aligner import MPLCAligner\n",
    "from pianoq.lab.pco_camera import PCOCamera\n",
    "from pianoq.simulations.mplc_sim.mplc_sim_result import MPLCMasks\n",
    "from pianoq.lab.mplc.mplc_device import MPLCDevice\n",
    "import os \n",
    "import datetime\n",
    "import time \n",
    "dir_path = r'G:\\My Drive\\Projects\\MPLC\\results\\lab\\2024_09_25_BS_to_mirror'\n",
    "if not os.path.exists(dir_path):\n",
    "    os.mkdir(dir_path)"
   ],
   "id": "34f89fdcf97becfe",
   "outputs": [
    {
     "name": "stdout",
     "output_type": "stream",
     "text": [
      "The autoreload extension is already loaded. To reload it, use:\n",
      "  %reload_ext autoreload\n"
     ]
    }
   ],
   "execution_count": 2
  },
  {
   "metadata": {
    "ExecuteTime": {
     "end_time": "2024-09-25T07:50:09.305765Z",
     "start_time": "2024-09-25T07:50:04.255890Z"
    }
   },
   "cell_type": "code",
   "source": [
    "cam = PCOCamera()\n",
    "cam.set_exposure_time(0.5)\n",
    "\n",
    "ml = MPLCAligner(use_cam=False)\n",
    "ml.update('1to5w4f', '5to11w8', pi_steps_x=[0], pi_steps_plane=1)"
   ],
   "id": "c24a262551167e95",
   "outputs": [],
   "execution_count": 4
  },
  {
   "metadata": {
    "ExecuteTime": {
     "end_time": "2024-09-25T08:17:45.861299Z",
     "start_time": "2024-09-25T08:17:44.346068Z"
    }
   },
   "cell_type": "code",
   "source": [
    "from pianoq.lab.scripts.live_camera import live_cam\n",
    "roi=(750, 350, 1200, 850)\n",
    "live_cam(cam, roi=roi)"
   ],
   "id": "6ee5e917013e17df",
   "outputs": [],
   "execution_count": 47
  },
  {
   "metadata": {
    "ExecuteTime": {
     "end_time": "2024-09-25T08:15:42.604993Z",
     "start_time": "2024-09-25T08:15:41.084642Z"
    }
   },
   "cell_type": "code",
   "source": [
    "roi=(750, 350, 1200, 850)\n",
    "cam.show_image(roi=roi)"
   ],
   "id": "5a0142f9b27f1498",
   "outputs": [
    {
     "data": {
      "text/plain": [
       "(<Figure size 640x480 with 1 Axes>, <Axes: >)"
      ]
     },
     "execution_count": 42,
     "metadata": {},
     "output_type": "execute_result"
    }
   ],
   "execution_count": 42
  },
  {
   "metadata": {
    "ExecuteTime": {
     "end_time": "2024-09-25T08:18:56.611493Z",
     "start_time": "2024-09-25T08:18:53.737566Z"
    }
   },
   "cell_type": "code",
   "source": [
    "roi=(750, 350, 1200, 850)\n",
    "name = 'U1_best.fits'\n",
    "cam.save_image(path=rf'{dir_path}\\{name}', roi=roi)\n",
    "cam.show_image(roi=roi)"
   ],
   "id": "5b0505b1359091a7",
   "outputs": [
    {
     "data": {
      "text/plain": [
       "(<Figure size 640x480 with 1 Axes>, <Axes: >)"
      ]
     },
     "execution_count": 48,
     "metadata": {},
     "output_type": "execute_result"
    }
   ],
   "execution_count": 48
  },
  {
   "metadata": {
    "ExecuteTime": {
     "end_time": "2024-09-25T08:15:36.608947Z",
     "start_time": "2024-09-25T08:15:34.709662Z"
    }
   },
   "cell_type": "code",
   "source": [
    "import glob \n",
    "from pianoq.lab.mplc.mask_utils import remove_input_modes\n",
    "import numpy as np \n",
    "modes_to_keep = np.array([3, 8, 13, 18, 23, 28, 33, 38, 43, 48])\n",
    "\n",
    "mplc = MPLCDevice()\n",
    "mplc.restore_location()\n",
    "print('Got MPLC')\n",
    "dir_path = r'G:\\My Drive\\Projects\\MPLC\\results\\lab\\2024_09_19_filters_80nm'\n",
    "masks_path = glob.glob(rf'{dir_path}\\U1U*.masks')[0]\n",
    "\n",
    "msks = MPLCMasks()\n",
    "msks.loadfrom(masks_path)\n",
    "masks = msks.real_masks\n",
    "masks = remove_input_modes(masks, modes_to_keep=modes_to_keep)\n",
    "mplc.load_masks(masks, linear_tilts=True)\n",
    "mplc.restore_location()"
   ],
   "id": "512a96d3e662ccb3",
   "outputs": [
    {
     "name": "stdout",
     "output_type": "stream",
     "text": [
      "Got MPLC\n"
     ]
    }
   ],
   "execution_count": 41
  },
  {
   "metadata": {},
   "cell_type": "code",
   "outputs": [],
   "execution_count": null,
   "source": [
    "timestamp = datetime.datetime.now().strftime('%Y_%m_%d_%H_%M_%S')\n",
    "path = rf'{dir_path}\\{timestamp}_{name}.cam'\n",
    "cam.save_image(path)"
   ],
   "id": "81bcff0d388e4983"
  },
  {
   "metadata": {},
   "cell_type": "markdown",
   "source": "## motors in place",
   "id": "94fbb401dbf3f514"
  },
  {
   "metadata": {
    "ExecuteTime": {
     "end_time": "2024-09-25T08:32:05.677252Z",
     "start_time": "2024-09-25T08:31:59.343926Z"
    }
   },
   "cell_type": "code",
   "source": [
    "backlash = 0\n",
    "wait_after_move = 0.3\n",
    "from pianoq.lab.mplc.consts import thorlabs_x_serial, thorlabs_y_serial\n",
    "from pianoq.lab.thorlabs_motor import ThorlabsKcubeDC, ThorlabsKcubeStepper\n",
    "from pianoq.lab.zaber_motor import ZaberMotors\n",
    "zaber_ms = ZaberMotors(backlash=backlash, wait_after_move=wait_after_move)\n",
    "mxs = zaber_ms.motors[1]\n",
    "mys = zaber_ms.motors[0]\n",
    "print('Got Zaber motors')\n",
    "\n",
    "mxi = ThorlabsKcubeDC(thorlabs_x_serial, backlash=backlash, wait_after_move=wait_after_move)\n",
    "myi = ThorlabsKcubeStepper(thorlabs_y_serial, backlash=backlash, wait_after_move=wait_after_move)\n",
    "print('Got Thorlabs motors')"
   ],
   "id": "b6cb7c727c6c4758",
   "outputs": [
    {
     "name": "stdout",
     "output_type": "stream",
     "text": [
      "Got Zaber motors\n",
      "Got Thorlabs motors\n"
     ]
    }
   ],
   "execution_count": 50
  },
  {
   "metadata": {
    "ExecuteTime": {
     "end_time": "2024-09-25T08:35:34.328003Z",
     "start_time": "2024-09-25T08:35:30.250213Z"
    }
   },
   "cell_type": "code",
   "source": [
    "mxi.move_absolute(9.107)\n",
    "myi.move_absolute(3.106)\n",
    "\n",
    "mxs.move_absolute(11.53)\n",
    "mys.move_absolute(8.763)"
   ],
   "id": "c0facc75e0f0f676",
   "outputs": [],
   "execution_count": 52
  },
  {
   "metadata": {
    "ExecuteTime": {
     "end_time": "2024-09-25T08:41:29.158275Z",
     "start_time": "2024-09-25T08:41:28.097693Z"
    }
   },
   "cell_type": "code",
   "source": "mxi.move_relative(-0.01)",
   "id": "cccacdd17d89906f",
   "outputs": [],
   "execution_count": 86
  },
  {
   "metadata": {},
   "cell_type": "markdown",
   "source": [
    "BS\n",
    "- best idler: ~9K\n",
    "- best signal: ~8.3K \n",
    "\n",
    "Mirror:\n",
    "- best idler: \n",
    "- best signal: \n"
   ],
   "id": "1d75a7f91b5054b8"
  },
  {
   "metadata": {},
   "cell_type": "code",
   "outputs": [],
   "execution_count": null,
   "source": "# ",
   "id": "551e1b8c155e098c"
  }
 ],
 "metadata": {
  "kernelspec": {
   "display_name": "Python 3",
   "language": "python",
   "name": "python3"
  },
  "language_info": {
   "codemirror_mode": {
    "name": "ipython",
    "version": 2
   },
   "file_extension": ".py",
   "mimetype": "text/x-python",
   "name": "python",
   "nbconvert_exporter": "python",
   "pygments_lexer": "ipython2",
   "version": "2.7.6"
  }
 },
 "nbformat": 4,
 "nbformat_minor": 5
}
