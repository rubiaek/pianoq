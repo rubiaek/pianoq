{
 "cells": [
  {
   "metadata": {
    "ExecuteTime": {
     "end_time": "2024-10-07T07:10:18.329495Z",
     "start_time": "2024-10-07T07:10:11.669922Z"
    }
   },
   "cell_type": "code",
   "source": [
    "from pianoq.misc.mplc_lab_imports import *  \n",
    "\n",
    "dir_path = r'G:\\My Drive\\Projects\\MPLC\\results\\lab\\2024_09_25_BS_to_mirror'\n",
    "if not os.path.exists(dir_path):\n",
    "    os.mkdir(dir_path)"
   ],
   "id": "34f89fdcf97becfe",
   "outputs": [
    {
     "name": "stdout",
     "output_type": "stream",
     "text": [
      "The autoreload extension is already loaded. To reload it, use:\n",
      "  %reload_ext autoreload\n"
     ]
    }
   ],
   "execution_count": 1
  },
  {
   "metadata": {},
   "cell_type": "markdown",
   "source": "# Camera things",
   "id": "550e4b3d91ecab1b"
  },
  {
   "metadata": {
    "ExecuteTime": {
     "end_time": "2024-10-07T06:32:04.160203Z",
     "start_time": "2024-10-07T06:31:59.413335Z"
    }
   },
   "cell_type": "code",
   "source": [
    "cam = PCOCamera()\n",
    "cam.set_exposure_time(0.5)\n",
    "\n",
    "# ml = MPLCAligner(use_cam=False)\n",
    "# ml.update('1to5w4f', '5to11w8', pi_steps_x=[0], pi_steps_plane=1)"
   ],
   "id": "c24a262551167e95",
   "outputs": [],
   "execution_count": 44
  },
  {
   "metadata": {
    "ExecuteTime": {
     "end_time": "2024-10-07T06:33:12.758793Z",
     "start_time": "2024-10-07T06:33:12.669772Z"
    }
   },
   "cell_type": "code",
   "source": "cam.set_exposure_time(2)",
   "id": "3bfa9e7e1d3bd62d",
   "outputs": [],
   "execution_count": 50
  },
  {
   "metadata": {
    "ExecuteTime": {
     "end_time": "2024-09-25T08:17:45.861299Z",
     "start_time": "2024-09-25T08:17:44.346068Z"
    }
   },
   "cell_type": "code",
   "source": [
    "roi=(750, 350, 1200, 850)\n",
    "live_cam(cam, roi=roi)"
   ],
   "id": "6ee5e917013e17df",
   "outputs": [],
   "execution_count": 47
  },
  {
   "metadata": {
    "ExecuteTime": {
     "end_time": "2024-10-07T06:32:57.852403Z",
     "start_time": "2024-10-07T06:32:54.762966Z"
    }
   },
   "cell_type": "code",
   "source": [
    "mplc.load_masks(masks)\n",
    "roi=(750, 350, 1200, 850)\n",
    "cam.show_image(roi=roi)"
   ],
   "id": "5a0142f9b27f1498",
   "outputs": [
    {
     "data": {
      "text/plain": [
       "(<Figure size 640x480 with 2 Axes>, <Axes: >)"
      ]
     },
     "execution_count": 48,
     "metadata": {},
     "output_type": "execute_result"
    }
   ],
   "execution_count": 48
  },
  {
   "metadata": {
    "ExecuteTime": {
     "end_time": "2024-10-07T06:40:13.459029Z",
     "start_time": "2024-10-07T06:40:02.994173Z"
    }
   },
   "cell_type": "code",
   "source": [
    "roi=(700, 300, 1250, 900)\n",
    "name = f'tilts_{tilts}.fits'\n",
    "cam.save_image(path=rf'{dir_path}\\{name}', roi=roi)\n",
    "cam.show_image(roi=roi)"
   ],
   "id": "5b0505b1359091a7",
   "outputs": [
    {
     "data": {
      "text/plain": [
       "(<Figure size 640x480 with 2 Axes>, <Axes: >)"
      ]
     },
     "execution_count": 60,
     "metadata": {},
     "output_type": "execute_result"
    }
   ],
   "execution_count": 60
  },
  {
   "metadata": {},
   "cell_type": "code",
   "outputs": [],
   "execution_count": null,
   "source": [
    "timestamp = datetime.datetime.now().strftime('%Y_%m_%d_%H_%M_%S')\n",
    "path = rf'{dir_path}\\{timestamp}_{name}.cam'\n",
    "cam.save_image(path)"
   ],
   "id": "3609403bc3e68c96"
  },
  {
   "metadata": {
    "ExecuteTime": {
     "end_time": "2024-10-07T06:40:18.792880Z",
     "start_time": "2024-10-07T06:40:18.684107Z"
    }
   },
   "cell_type": "code",
   "source": "cam.close()",
   "id": "dd9014e207720a0c",
   "outputs": [],
   "execution_count": 61
  },
  {
   "metadata": {},
   "cell_type": "markdown",
   "source": "# MPLC ",
   "id": "ee7970bf1de8f934"
  },
  {
   "metadata": {
    "ExecuteTime": {
     "end_time": "2024-10-07T07:10:56.482628Z",
     "start_time": "2024-10-07T07:10:55.684277Z"
    }
   },
   "cell_type": "code",
   "source": [
    "modes_to_keep = np.array([3, 8, 13, 18, 23, 28, 33, 38, 43, 48])\n",
    "\n",
    "tilts = None \n",
    "mplc = MPLCDevice(linear_tilts=True, plane_10_tilts=tilts)\n",
    "mplc.restore_location()\n",
    "print('Got MPLC')\n",
    "# masks_path = r\"G:\\My Drive\\Projects\\MPLC\\results\\lab\\2024_09_25_BS_to_mirror\\2024_09_10_14_00_34_old.masks\"\n",
    "masks_path = r\"G:\\My Drive\\Projects\\MPLC\\results\\lab\\2024_09_25_BS_to_mirror\\2024_09_25_13_19_15_extra_1cm.masks\"\n",
    "# masks_path = r\"G:\\My Drive\\Projects\\MPLC\\results\\lab\\2024_09_17_first_diffuser\\2024_09_17_12_19_58_diffuser_d1d.masks\"\n",
    "# masks_path = r\"G:\\My Drive\\Projects\\MPLC\\results\\lab\\2024_09_25_BS_to_mirror\\2024_09_29_14_27_10_U1U.masks\"  # with dead zone \n",
    "# masks_path = r\"G:\\My Drive\\Projects\\MPLC\\results\\lab\\2024_09_25_BS_to_mirror\\2024_09_30_08_56_10_U1U.masks\"  # with dead zone \n",
    "# masks_path = r\"G:\\My Drive\\Projects\\MPLC\\results\\lab\\2024_09_10_fixing_phases_different_Us\\U1U_2024_09_10_14_00_34.masks\"  # old masks  \n",
    "\n",
    "msks = MPLCMasks()\n",
    "msks.loadfrom(masks_path)\n",
    "masks = msks.real_masks\n",
    "masks = remove_input_modes(masks, modes_to_keep=modes_to_keep)\n",
    "# phases = np.random.uniform(0, 2*np.pi, size=50)\n",
    "# masks = add_phase_input_spots(masks, phases)\n",
    "mplc.load_masks(masks)\n",
    "# mplc.load_masks(masks, linear_tilts=True, plane_10_tilts=None)\n",
    "mplc.restore_location()"
   ],
   "id": "512a96d3e662ccb3",
   "outputs": [
    {
     "name": "stdout",
     "output_type": "stream",
     "text": [
      "Got MPLC\n"
     ]
    }
   ],
   "execution_count": 3
  },
  {
   "metadata": {},
   "cell_type": "markdown",
   "source": "# hardware ",
   "id": "94fbb401dbf3f514"
  },
  {
   "metadata": {
    "ExecuteTime": {
     "end_time": "2024-10-07T08:28:51.231280Z",
     "start_time": "2024-10-07T08:28:45.119525Z"
    }
   },
   "cell_type": "code",
   "source": [
    "backlash = 0.0\n",
    "wait_after_move = 0.3\n",
    "mxs, mys = get_signal_motors(backlash=backlash, wait_after_move=wait_after_move)\n",
    "mxi, myi = get_idler_motors(backlash=backlash, wait_after_move=wait_after_move)\n",
    "tt = get_timetagger(integration_time=1)"
   ],
   "id": "b6cb7c727c6c4758",
   "outputs": [
    {
     "name": "stdout",
     "output_type": "stream",
     "text": [
      "Got Zaber motors\n",
      "Got Thorlabs motors\n"
     ]
    }
   ],
   "execution_count": 4
  },
  {
   "metadata": {
    "ExecuteTime": {
     "end_time": "2024-10-07T09:01:12.409157Z",
     "start_time": "2024-10-07T09:01:11.557626Z"
    }
   },
   "cell_type": "code",
   "source": [
    "mxi.move_absolute(9.405)\n",
    "myi.move_absolute(4.795)\n",
    "print(mxi.get_position())\n",
    "print(myi.get_position())"
   ],
   "id": "c0facc75e0f0f676",
   "outputs": [
    {
     "name": "stdout",
     "output_type": "stream",
     "text": [
      "9.405\n",
      "4.795\n"
     ]
    }
   ],
   "execution_count": 37
  },
  {
   "metadata": {
    "ExecuteTime": {
     "end_time": "2024-10-07T08:59:05.210227Z",
     "start_time": "2024-10-07T08:59:04.366520Z"
    }
   },
   "cell_type": "code",
   "source": [
    "mxs.move_absolute(12.91)\n",
    "mys.move_absolute(5.72)\n",
    "print(mxs.get_position())\n",
    "print(mys.get_position())"
   ],
   "id": "33c63cf3388caf65",
   "outputs": [
    {
     "name": "stdout",
     "output_type": "stream",
     "text": [
      "12.909994500000002\n",
      "5.720000625\n"
     ]
    }
   ],
   "execution_count": 25
  },
  {
   "metadata": {
    "ExecuteTime": {
     "end_time": "2024-09-25T12:47:14.563953Z",
     "start_time": "2024-09-25T12:47:14.265603Z"
    }
   },
   "cell_type": "code",
   "source": "myi.move_relative(0.01)",
   "id": "cccacdd17d89906f",
   "outputs": [],
   "execution_count": 147
  },
  {
   "metadata": {
    "ExecuteTime": {
     "end_time": "2024-09-29T05:49:14.436866Z",
     "start_time": "2024-09-29T05:49:14.341477Z"
    }
   },
   "cell_type": "code",
   "source": [
    "print(mxi.get_position()) # 9.2701\n",
    "print(myi.get_position()) # 3.3100"
   ],
   "id": "52c3a974c63b76e2",
   "outputs": [
    {
     "name": "stdout",
     "output_type": "stream",
     "text": [
      "9.3\n",
      "4.05\n"
     ]
    }
   ],
   "execution_count": 4
  },
  {
   "metadata": {},
   "cell_type": "markdown",
   "source": [
    "BS\n",
    "- best idler: ~9K\n",
    "- best signal: ~8.3K \n",
    "\n",
    "Mirror:\n",
    "- best idler: \n",
    "- best signal: \n"
   ],
   "id": "1d75a7f91b5054b8"
  },
  {
   "metadata": {},
   "cell_type": "markdown",
   "source": [
    "# New WFM \n",
    "\n",
    "## with defocus distance and dead zone "
   ],
   "id": "1cc0fb3064e7e30f"
  },
  {
   "metadata": {
    "ExecuteTime": {
     "end_time": "2024-09-30T05:59:11.436446Z",
     "start_time": "2024-09-30T05:56:10.004316Z"
    }
   },
   "cell_type": "code",
   "source": [
    "all_Us_path = r\"G:\\My Drive\\Projects\\MPLC\\results\\lab\\2024_09_10_fixing_phases_different_Us\\for_ronen_Haar_800.mat\"\n",
    "all_Us = loadmat(all_Us_path)['U1_all']\n",
    "U_no = 1 \n",
    "dir_path = r'G:\\My Drive\\Projects\\MPLC\\results\\lab\\2024_09_25_BS_to_mirror'\n",
    "timestamp = datetime.datetime.now().strftime('%Y_%m_%d_%H_%M_%S')\n",
    "masks_path =    fr'{dir_path}\\{timestamp}_U1U.masks'\n",
    "mplc_res_path = fr'{dir_path}\\{timestamp}_U1U.mplcsim'\n",
    "mplc_sim = create_WFM_unitary_masks(all_Us[:, :, U_no], N_iterations=15, out_path=masks_path, dead_middle_zone=450e-6, last_plane_extra_dist=8.4e-3)\n",
    "mplc_sim.res.saveto(mplc_res_path, smaller=True)"
   ],
   "id": "9af7ff55763af0c3",
   "outputs": [
    {
     "name": "stdout",
     "output_type": "stream",
     "text": [
      "{'wavelength': 8.1e-07, 'dist_after_plane': array([0.087 , 0.087 , 0.087 , 0.087 , 0.138 , 0.087 , 0.087 , 0.087 ,\n",
      "       0.087 , 0.0954]), 'N_iterations': 15, 'Nx': 140, 'Ny': 360, 'dx': 1.25e-05, 'dy': 1.25e-05, 'max_k_constraint': 0.15, 'min_log_level': 2, 'size_factor': 3, 'use_mask_offset': True, 'symmetric_masks': False, 'active_planes': array([ True,  True,  True,  True,  True,  True,  True,  True,  True,\n",
      "        True,  True]), 'N_modes': 10}\n",
      "1\n"
     ]
    },
    {
     "name": "stderr",
     "output_type": "stream",
     "text": [
      "100%|██████████| 15/15 [02:45<00:00, 11.01s/it]\n"
     ]
    }
   ],
   "execution_count": 6
  },
  {
   "metadata": {
    "ExecuteTime": {
     "end_time": "2024-09-30T05:59:14.327699Z",
     "start_time": "2024-09-30T05:59:11.451759Z"
    }
   },
   "cell_type": "code",
   "source": "mplc_sim.res.show_overlap()",
   "id": "48fa839cee974c00",
   "outputs": [],
   "execution_count": 7
  },
  {
   "metadata": {
    "ExecuteTime": {
     "end_time": "2024-09-30T05:59:16.981042Z",
     "start_time": "2024-09-30T05:59:14.651395Z"
    }
   },
   "cell_type": "code",
   "source": [
    "mplc_sim.res._calc_fidelity()\n",
    "mplc_sim.res.fidelity"
   ],
   "id": "b1460b531cb3fe9",
   "outputs": [
    {
     "data": {
      "text/plain": [
       "0.9896838134848069"
      ]
     },
     "execution_count": 8,
     "metadata": {},
     "output_type": "execute_result"
    }
   ],
   "execution_count": 8
  },
  {
   "metadata": {
    "ExecuteTime": {
     "end_time": "2024-09-30T05:59:18.137567Z",
     "start_time": "2024-09-30T05:59:17.059076Z"
    }
   },
   "cell_type": "code",
   "source": "mplc_sim.res.show_all()",
   "id": "e69f0f25d708b865",
   "outputs": [],
   "execution_count": 9
  },
  {
   "metadata": {},
   "cell_type": "markdown",
   "source": "# mark spot locations ",
   "id": "10218bb6c38c8a5c"
  },
  {
   "metadata": {
    "ExecuteTime": {
     "end_time": "2024-10-06T09:25:57.540063Z",
     "start_time": "2024-10-06T09:25:13.176038Z"
    }
   },
   "cell_type": "code",
   "source": [
    "from pianoq_results.scan_result import ScanResult\n",
    "timestamp = datetime.datetime.now().strftime('%Y_%m_%d_%H_%M_%S')\n",
    "locs_signal_path = fr'{dir_path}\\{timestamp}_s2_sig_mirror_3.5.locs'\n",
    "locs_idler_path = fr'{dir_path}\\{timestamp}_s1_idl_mirror_3.5.locs'\n",
    "\n",
    "res_idl = ScanResult(fr'{dir_path}\\2024_10_06_12_06_17_idler_3_5_spots.scan')\n",
    "res_sig = ScanResult(fr'{dir_path}\\2024_10_06_12_07_31_signal_3_5_spots.scan')\n",
    "# res_idl.show_singles()\n",
    "# res_sig.show_singles()\n",
    "res_idl.get_xys(1, saveto_path=locs_idler_path)\n",
    "res_sig.get_xys(2, saveto_path=locs_signal_path)"
   ],
   "id": "3f488db2dba76b07",
   "outputs": [
    {
     "name": "stdout",
     "output_type": "stream",
     "text": [
      "Saved to G:\\My Drive\\Projects\\MPLC\\results\\lab\\2024_09_25_BS_to_mirror\\2024_10_06_12_25_13_s1_idl_mirror_3.5.locs\n",
      "Saved to G:\\My Drive\\Projects\\MPLC\\results\\lab\\2024_09_25_BS_to_mirror\\2024_10_06_12_25_13_s2_sig_mirror_3.5.locs\n"
     ]
    },
    {
     "data": {
      "text/plain": [
       "[(12.984470529470531, 7.019139194139194),\n",
       " (12.948240093240095, 6.8358558108558105),\n",
       " (12.937584082584083, 6.462895437895438),\n",
       " (12.897091242091243, 6.077147852147852),\n",
       " (12.869385614385616, 5.697793872793873)]"
      ]
     },
     "execution_count": 11,
     "metadata": {},
     "output_type": "execute_result"
    }
   ],
   "execution_count": 11
  },
  {
   "metadata": {},
   "cell_type": "markdown",
   "source": "# Phases",
   "id": "6c9a92961d08c12f"
  },
  {
   "metadata": {
    "ExecuteTime": {
     "end_time": "2024-10-07T09:52:23.764404Z",
     "start_time": "2024-10-07T09:01:25.173365Z"
    }
   },
   "cell_type": "code",
   "source": [
    "phases_path = fr'{dir_path}\\{tnow()}_fine_new_mirror.phases'\n",
    "integration_time = 30\n",
    "\n",
    "phases_result = PhaseFinderResult(fr\"{dir_path}\\2024_10_07_11_42_08_fine_new_mirror.phases\")\n",
    "\n",
    "pf = PhaseFinder(mplc=mplc, integration_time=integration_time, remote_tagger=True, saveto_path=phases_path,\n",
    "                 modes_to_keep=modes_to_keep, intial_phases=phases_result.phases, coin_window=tt.coin_window, no_hw_mode=True)\n",
    "\n",
    "pf.time_tagger = tt\n",
    "pf.time_tagger.set_integration_time(integration_time)\n",
    "\n",
    "# locs \n",
    "locs_sig = np.load(fr'{dir_path}\\2024_10_06_12_25_13_s2_sig_mirror_3.5.locs')['locs']\n",
    "locs_idl = np.load(fr'{dir_path}\\2024_10_06_12_25_13_s1_idl_mirror_3.5.locs')['locs']\n",
    "\n",
    "# i,j of corr matrix that is supposed to be strong \n",
    "i = 2\n",
    "j = 2\n",
    "mxi.move_absolute(locs_idl[i, 0])\n",
    "myi.move_absolute(locs_idl[i, 1])\n",
    "mxs.move_absolute(locs_sig[j, 0])\n",
    "mys.move_absolute(locs_sig[j, 1])        \n",
    "mplc.restore_location()\n",
    "time.sleep(1)\n",
    "pf.find_phases()"
   ],
   "id": "a5fbb5aeeff831d5",
   "outputs": [
    {
     "name": "stdout",
     "output_type": "stream",
     "text": [
      "0,0: 19402.9, 14293.9, 4.2\n",
      "0,1: 19277.6, 14190.3, 3.9\n",
      "0,2: 19367.2, 14345.3, 4.6\n",
      "0,3: 19487.0, 14342.3, 4.5\n",
      "0,4: 19750.9, 14301.5, 5.2\n",
      "0,5: 19728.0, 14416.7, 5.5\n",
      "0,6: 19821.5, 14479.6, 5.6\n",
      "0,7: 19808.7, 14558.3, 5.8\n",
      "0,8: 19838.2, 14519.5, 5.1\n",
      "0,9: 19773.6, 13719.9, 5.3\n",
      "1,0: 19764.6, 14496.2, 6.1\n",
      "1,1: 19815.0, 14602.3, 5.7\n",
      "1,2: 19819.9, 14636.6, 4.3\n",
      "1,3: 19775.5, 14572.5, 3.1\n",
      "1,4: 19765.3, 13739.8, 2.4\n",
      "1,5: 19752.4, 13694.7, 1.3\n",
      "1,6: 19867.5, 14601.9, 1.5\n",
      "1,7: 19808.7, 14544.1, 2.5\n",
      "1,8: 19854.9, 14449.0, 4.1\n",
      "1,9: 19804.2, 14528.3, 5.9\n",
      "2,0: 19846.2, 14564.2, 6.5\n",
      "2,1: 19826.0, 14501.4, 5.8\n",
      "2,2: 19833.2, 14233.5, 6.1\n",
      "2,3: 19832.8, 14372.3, 4.7\n",
      "2,4: 19869.6, 14364.3, 4.3\n",
      "2,5: 19853.7, 14458.9, 4.7\n",
      "2,6: 19863.9, 14562.0, 5.2\n",
      "2,7: 19880.7, 14736.5, 4.8\n",
      "2,8: 19892.2, 14194.9, 5.4\n",
      "2,9: 19894.3, 14286.4, 5.8\n",
      "3,0: 19938.1, 14578.8, 7.1\n",
      "3,1: 19930.4, 14663.3, 5.3\n",
      "3,2: 19897.7, 14704.3, 4.3\n",
      "3,3: 19909.8, 14481.3, 3.2\n",
      "3,4: 19906.2, 14093.1, 1.0\n",
      "3,5: 19940.8, 13199.6, 1.4\n",
      "3,6: 19941.0, 12682.3, 2.0\n",
      "3,7: 19938.1, 13216.9, 2.8\n",
      "3,8: 19908.7, 14344.6, 4.2\n",
      "3,9: 19978.7, 14419.4, 5.8\n",
      "4,0: 19980.0, 14554.4, 5.8\n",
      "4,1: 19932.3, 14727.6, 6.8\n",
      "4,2: 19962.6, 14790.0, 5.9\n",
      "4,3: 19914.6, 14734.4, 6.5\n",
      "4,4: 19910.2, 14697.3, 6.2\n",
      "4,5: 19876.3, 14726.1, 6.5\n",
      "4,6: 19865.8, 14746.4, 7.3\n",
      "4,7: 19885.8, 14795.9, 6.8\n",
      "4,8: 19937.7, 14718.4, 7.3\n",
      "4,9: 19953.3, 14794.8, 7.1\n",
      "5,0: 19886.7, 14804.1, 7.1\n",
      "5,1: 19908.5, 14827.1, 5.8\n",
      "5,2: 19914.3, 14779.4, 5.5\n",
      "5,3: 19881.1, 14820.7, 5.4\n",
      "5,4: 19878.5, 14770.3, 6.1\n",
      "5,5: 19714.0, 14819.2, 7.3\n",
      "5,6: 19330.7, 14757.6, 7.5\n",
      "5,7: 19886.0, 14745.6, 7.4\n",
      "5,8: 19866.1, 14788.5, 7.7\n",
      "5,9: 19956.1, 14796.4, 7.1\n",
      "6,0: 19986.9, 14801.4, 6.8\n",
      "6,1: 19946.5, 14766.0, 6.5\n",
      "6,2: 20090.0, 14713.8, 4.2\n",
      "6,3: 19822.2, 14795.3, 2.9\n",
      "6,4: 17640.2, 14771.1, 2.3\n",
      "6,5: 19018.8, 14742.3, 3.1\n",
      "6,6: 19848.4, 14755.2, 3.3\n",
      "6,7: 19981.4, 14688.2, 4.9\n",
      "6,8: 19886.4, 14736.3, 6.0\n",
      "6,9: 19832.6, 14731.9, 7.2\n",
      "7,0: 19794.6, 14748.1, 8.0\n",
      "7,1: 20434.9, 14724.9, 8.1\n",
      "7,2: 20495.1, 14674.9, 6.8\n",
      "7,3: 20562.4, 14706.3, 6.1\n",
      "7,4: 20477.5, 14658.9, 3.6\n",
      "7,5: 20493.4, 14646.3, 3.7\n",
      "7,6: 20374.2, 14757.0, 4.5\n",
      "7,7: 20187.7, 14706.2, 5.8\n",
      "7,8: 20259.6, 14646.3, 5.9\n",
      "7,9: 20303.6, 14719.3, 8.4\n",
      "8,0: 19873.8, 14681.3, 8.1\n",
      "8,1: 19628.3, 14657.3, 6.0\n",
      "8,2: 19578.7, 14666.6, 4.3\n",
      "8,3: 19765.4, 14695.8, 1.8\n",
      "8,4: 19864.9, 14705.8, 1.4\n",
      "8,5: 19872.9, 14695.8, 2.9\n",
      "8,6: 20126.6, 14644.7, 4.1\n",
      "8,7: 19676.2, 14689.9, 6.2\n",
      "8,8: 18392.4, 14659.9, 5.1\n",
      "8,9: 19686.7, 14671.2, 7.3\n",
      "9,0: 19859.6, 14666.3, 7.4\n",
      "9,1: 19926.5, 14587.8, 6.6\n",
      "9,2: 19999.3, 14701.9, 8.3\n",
      "9,3: 19932.9, 14666.8, 7.6\n",
      "9,4: 19887.4, 14644.1, 6.6\n",
      "9,5: 19821.7, 14662.1, 7.5\n",
      "9,6: 19769.8, 14670.3, 7.0\n",
      "9,7: 19500.5, 14657.5, 6.3\n",
      "9,8: 19708.0, 14647.1, 7.7\n",
      "9,9: 19769.7, 14649.3, 7.2\n"
     ]
    }
   ],
   "execution_count": 38
  },
  {
   "metadata": {},
   "cell_type": "markdown",
   "source": "# Correlations",
   "id": "41ec21ecfb84e2b"
  },
  {
   "metadata": {
    "ExecuteTime": {
     "end_time": "2024-10-07T11:05:07.920666Z",
     "start_time": "2024-10-07T11:02:17.772615Z"
    }
   },
   "cell_type": "code",
   "source": [
    "backlash = 0.0\n",
    "wait_after_move = 0.3\n",
    "integration_time = 5\n",
    "coin_window = 1.2e-9\n",
    "\n",
    "masks_path = r\"G:\\My Drive\\Projects\\MPLC\\results\\lab\\2024_09_25_BS_to_mirror\\2024_09_25_13_19_15_extra_1cm.masks\"\n",
    "phases_path = r\"G:\\My Drive\\Projects\\MPLC\\results\\lab\\2024_09_25_BS_to_mirror\\2024_10_07_12_01_25_fine_new_mirror.phases\"\n",
    "masks = get_good_masks(masks_path=masks_path, modes_to_keep=modes_to_keep, phases_path=phases_path,)\n",
    "# mplc.load_masks(masks)\n",
    "\n",
    "scan_path = fr'{dir_path}\\{tnow()}.dscan'\n",
    "\n",
    "locs_idl = np.load(fr'{dir_path}\\2024_10_07_10_45_00_fine_s1_idl_mirror_3_5_spots.locs')['locs']\n",
    "locs_sig = np.load(fr'{dir_path}\\2024_10_07_10_45_00_fine_s2_sig_mirror_3_5_spots.locs')['locs']\n",
    "\n",
    "dps = DiscretePhotonScanner(locs_sig, locs_idl, integration_time=integration_time, remote_tagger=True, saveto_path=scan_path,\n",
    "                            backlash=backlash, wait_after_move=wait_after_move, coin_window=coin_window, no_hw_mode=True)\n",
    "\n",
    "dps.m_sig_x, dps.m_sig_y, dps.m_idl_x, dps.m_idl_y, dps.time_tagger = mxs, mys, mxi, myi, tt\n",
    "dps.time_tagger.set_integration_time(integration_time)\n",
    "time.sleep(1)\n",
    "dps.scan()"
   ],
   "id": "14bbc203e3f37467",
   "outputs": [
    {
     "name": "stdout",
     "output_type": "stream",
     "text": [
      "beginning scan\n",
      "0, 0: 16057.00, 11075.60, 4.00\n",
      "0, 1: 16093.60, 13543.80, 1.40\n",
      "0, 2: 16053.60, 13871.20, 1.40\n",
      "0, 3: 15932.40, 8827.80, 0.80\n",
      "0, 4: 15945.60, 1878.20, 0.00\n",
      "1, 0: 18640.40, 11120.80, 1.60\n",
      "1, 1: 18569.40, 13690.20, 7.40\n",
      "1, 2: 18589.00, 13867.00, 1.00\n",
      "1, 3: 18607.40, 8739.80, 1.20\n",
      "1, 4: 18564.80, 1879.80, 0.20\n",
      "2, 0: 17984.80, 11068.20, 2.60\n",
      "2, 1: 17946.60, 13597.40, 1.60\n",
      "2, 2: 17987.20, 13914.80, 7.00\n",
      "2, 3: 17925.20, 8792.80, 0.20\n",
      "2, 4: 17860.00, 1866.40, 0.00\n",
      "3, 0: 8786.00, 11135.20, 0.20\n",
      "3, 1: 8781.00, 13730.20, 0.20\n",
      "3, 2: 8856.20, 13996.40, 0.60\n",
      "3, 3: 8758.40, 8884.60, 1.00\n",
      "3, 4: 8731.60, 1904.80, 0.00\n",
      "4, 0: 3195.20, 11123.40, 0.20\n",
      "4, 1: 3202.00, 13732.00, 0.00\n",
      "4, 2: 3158.80, 13918.20, 0.20\n",
      "4, 3: 3191.80, 8828.20, 0.00\n",
      "4, 4: 3249.40, 1878.40, 0.00\n"
     ]
    }
   ],
   "execution_count": 56
  },
  {
   "metadata": {
    "ExecuteTime": {
     "end_time": "2024-10-07T11:05:43.700230Z",
     "start_time": "2024-10-07T11:05:43.360436Z"
    }
   },
   "cell_type": "code",
   "source": [
    "dps.res.show_singles()\n",
    "dps.res.show()\n",
    "dps.res.real_coins.sum()"
   ],
   "id": "2540eed967d37813",
   "outputs": [
    {
     "data": {
      "text/plain": [
       "25.156527033088"
      ]
     },
     "execution_count": 57,
     "metadata": {},
     "output_type": "execute_result"
    }
   ],
   "execution_count": 57
  },
  {
   "metadata": {
    "ExecuteTime": {
     "end_time": "2024-10-07T10:59:12.489129Z",
     "start_time": "2024-10-07T10:59:12.404727Z"
    }
   },
   "cell_type": "code",
   "source": "mplc.close()",
   "id": "8cdd039e61383c34",
   "outputs": [],
   "execution_count": 52
  }
 ],
 "metadata": {
  "kernelspec": {
   "display_name": "Python 3",
   "language": "python",
   "name": "python3"
  },
  "language_info": {
   "codemirror_mode": {
    "name": "ipython",
    "version": 2
   },
   "file_extension": ".py",
   "mimetype": "text/x-python",
   "name": "python",
   "nbconvert_exporter": "python",
   "pygments_lexer": "ipython2",
   "version": "2.7.6"
  }
 },
 "nbformat": 4,
 "nbformat_minor": 5
}
