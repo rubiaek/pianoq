{
 "cells": [
  {
   "metadata": {
    "ExecuteTime": {
     "end_time": "2024-09-30T09:53:12.806558Z",
     "start_time": "2024-09-30T09:53:05.713223Z"
    }
   },
   "cell_type": "code",
   "source": [
    "from pianoq.misc.mplc_lab_imports import * \n",
    "%load_ext autoreload\n",
    "%autoreload 2\n",
    "\n",
    "dir_path = r'G:\\My Drive\\Projects\\MPLC\\results\\lab\\2024_09_25_BS_to_mirror'\n",
    "if not os.path.exists(dir_path):\n",
    "    os.mkdir(dir_path)"
   ],
   "id": "34f89fdcf97becfe",
   "outputs": [
    {
     "name": "stdout",
     "output_type": "stream",
     "text": [
      "The autoreload extension is already loaded. To reload it, use:\n",
      "  %reload_ext autoreload\n",
      "can't use pco camera\n"
     ]
    }
   ],
   "execution_count": 1
  },
  {
   "metadata": {},
   "cell_type": "markdown",
   "source": "# Camera things",
   "id": "550e4b3d91ecab1b"
  },
  {
   "metadata": {
    "ExecuteTime": {
     "end_time": "2024-09-25T07:50:09.305765Z",
     "start_time": "2024-09-25T07:50:04.255890Z"
    }
   },
   "cell_type": "code",
   "source": [
    "cam = PCOCamera()\n",
    "cam.set_exposure_time(0.5)\n",
    "\n",
    "ml = MPLCAligner(use_cam=False)\n",
    "ml.update('1to5w4f', '5to11w8', pi_steps_x=[0], pi_steps_plane=1)"
   ],
   "id": "c24a262551167e95",
   "outputs": [],
   "execution_count": 4
  },
  {
   "metadata": {
    "ExecuteTime": {
     "end_time": "2024-09-25T08:17:45.861299Z",
     "start_time": "2024-09-25T08:17:44.346068Z"
    }
   },
   "cell_type": "code",
   "source": [
    "roi=(750, 350, 1200, 850)\n",
    "live_cam(cam, roi=roi)"
   ],
   "id": "6ee5e917013e17df",
   "outputs": [],
   "execution_count": 47
  },
  {
   "metadata": {
    "ExecuteTime": {
     "end_time": "2024-09-25T08:15:42.604993Z",
     "start_time": "2024-09-25T08:15:41.084642Z"
    }
   },
   "cell_type": "code",
   "source": [
    "roi=(750, 350, 1200, 850)\n",
    "cam.show_image(roi=roi)"
   ],
   "id": "5a0142f9b27f1498",
   "outputs": [
    {
     "data": {
      "text/plain": [
       "(<Figure size 640x480 with 1 Axes>, <Axes: >)"
      ]
     },
     "execution_count": 42,
     "metadata": {},
     "output_type": "execute_result"
    }
   ],
   "execution_count": 42
  },
  {
   "metadata": {
    "ExecuteTime": {
     "end_time": "2024-09-25T08:18:56.611493Z",
     "start_time": "2024-09-25T08:18:53.737566Z"
    }
   },
   "cell_type": "code",
   "source": [
    "roi=(750, 350, 1200, 850)\n",
    "name = 'U1_best.fits'\n",
    "cam.save_image(path=rf'{dir_path}\\{name}', roi=roi)\n",
    "cam.show_image(roi=roi)"
   ],
   "id": "5b0505b1359091a7",
   "outputs": [
    {
     "data": {
      "text/plain": [
       "(<Figure size 640x480 with 1 Axes>, <Axes: >)"
      ]
     },
     "execution_count": 48,
     "metadata": {},
     "output_type": "execute_result"
    }
   ],
   "execution_count": 48
  },
  {
   "metadata": {},
   "cell_type": "code",
   "outputs": [],
   "execution_count": null,
   "source": [
    "timestamp = datetime.datetime.now().strftime('%Y_%m_%d_%H_%M_%S')\n",
    "path = rf'{dir_path}\\{timestamp}_{name}.cam'\n",
    "cam.save_image(path)"
   ],
   "id": "3609403bc3e68c96"
  },
  {
   "metadata": {},
   "cell_type": "code",
   "outputs": [],
   "execution_count": null,
   "source": "cam.close()",
   "id": "dd9014e207720a0c"
  },
  {
   "metadata": {},
   "cell_type": "markdown",
   "source": "# MPLC ",
   "id": "ee7970bf1de8f934"
  },
  {
   "metadata": {
    "ExecuteTime": {
     "end_time": "2024-09-30T09:53:13.695578Z",
     "start_time": "2024-09-30T09:53:12.832627Z"
    }
   },
   "cell_type": "code",
   "source": [
    "modes_to_keep = np.array([3, 8, 13, 18, 23, 28, 33, 38, 43, 48])\n",
    "\n",
    "mplc = MPLCDevice()\n",
    "mplc.restore_location()\n",
    "print('Got MPLC')\n",
    "# masks_path = r\"G:\\My Drive\\Projects\\MPLC\\results\\lab\\2024_09_25_BS_to_mirror\\2024_09_10_14_00_34_old.masks\"\n",
    "# masks_path = r\"G:\\My Drive\\Projects\\MPLC\\results\\lab\\2024_09_25_BS_to_mirror\\2024_09_25_13_19_15_extra_1cm.masks\"\n",
    "# masks_path = r\"G:\\My Drive\\Projects\\MPLC\\results\\lab\\2024_09_17_first_diffuser\\2024_09_17_12_19_58_diffuser_d1d.masks\"\n",
    "# masks_path = r\"G:\\My Drive\\Projects\\MPLC\\results\\lab\\2024_09_25_BS_to_mirror\\2024_09_29_14_27_10_U1U.masks\"  # with dead zone \n",
    "masks_path = r\"G:\\My Drive\\Projects\\MPLC\\results\\lab\\2024_09_25_BS_to_mirror\\2024_09_30_08_56_10_U1U.masks\"  # with dead zone \n",
    "\n",
    "msks = MPLCMasks()\n",
    "msks.loadfrom(masks_path)\n",
    "masks = msks.real_masks\n",
    "masks = remove_input_modes(masks, modes_to_keep=modes_to_keep)\n",
    "# phases = np.random.uniform(0, 2*np.pi, size=50)\n",
    "# masks = add_phase_input_spots(masks, phases)\n",
    "mplc.load_masks(masks, linear_tilts=True, plane_10_tilts=35)\n",
    "mplc.restore_location()"
   ],
   "id": "512a96d3e662ccb3",
   "outputs": [
    {
     "name": "stdout",
     "output_type": "stream",
     "text": [
      "Got MPLC\n"
     ]
    }
   ],
   "execution_count": 2
  },
  {
   "metadata": {},
   "cell_type": "markdown",
   "source": "# motors - actually now use in separate notebook",
   "id": "94fbb401dbf3f514"
  },
  {
   "metadata": {
    "ExecuteTime": {
     "end_time": "2024-09-30T09:53:24.675728Z",
     "start_time": "2024-09-30T09:53:16.985568Z"
    }
   },
   "cell_type": "code",
   "source": [
    "backlash = 0\n",
    "wait_after_move = 0.3\n",
    "\n",
    "zaber_ms = ZaberMotors(backlash=backlash, wait_after_move=wait_after_move)\n",
    "mxs = zaber_ms.motors[1]\n",
    "mys = zaber_ms.motors[0]\n",
    "print('Got Zaber motors')\n",
    "\n",
    "mxi = ThorlabsKcubeDC(thorlabs_x_serial, backlash=backlash, wait_after_move=wait_after_move)\n",
    "myi = ThorlabsKcubeStepper(thorlabs_y_serial, backlash=backlash, wait_after_move=wait_after_move)\n",
    "print('Got Thorlabs motors')"
   ],
   "id": "b6cb7c727c6c4758",
   "outputs": [
    {
     "name": "stdout",
     "output_type": "stream",
     "text": [
      "Got Zaber motors\n",
      "Got Thorlabs motors\n"
     ]
    }
   ],
   "execution_count": 3
  },
  {
   "metadata": {
    "ExecuteTime": {
     "end_time": "2024-09-26T13:18:38.809729Z",
     "start_time": "2024-09-26T13:18:37.115370Z"
    }
   },
   "cell_type": "code",
   "source": [
    "mxi.move_absolute(9.30)\n",
    "myi.move_absolute(4.05)\n",
    "print(mxi.get_position())\n",
    "print(myi.get_position())"
   ],
   "id": "c0facc75e0f0f676",
   "outputs": [
    {
     "name": "stdout",
     "output_type": "stream",
     "text": [
      "9.3001\n",
      "4.05\n"
     ]
    }
   ],
   "execution_count": 131
  },
  {
   "metadata": {
    "ExecuteTime": {
     "end_time": "2024-09-26T13:20:48.371138Z",
     "start_time": "2024-09-26T13:20:47.934168Z"
    }
   },
   "cell_type": "code",
   "source": [
    "mxs.move_absolute(13.03)\n",
    "mys.move_absolute(6.45)\n",
    "print(mxs.get_position())\n",
    "print(mys.get_position())"
   ],
   "id": "33c63cf3388caf65",
   "outputs": [
    {
     "name": "stdout",
     "output_type": "stream",
     "text": [
      "13.0300095\n",
      "6.449996625\n"
     ]
    }
   ],
   "execution_count": 142
  },
  {
   "metadata": {
    "ExecuteTime": {
     "end_time": "2024-09-25T12:47:14.563953Z",
     "start_time": "2024-09-25T12:47:14.265603Z"
    }
   },
   "cell_type": "code",
   "source": "myi.move_relative(0.01)",
   "id": "cccacdd17d89906f",
   "outputs": [],
   "execution_count": 147
  },
  {
   "metadata": {
    "ExecuteTime": {
     "end_time": "2024-09-29T05:49:14.436866Z",
     "start_time": "2024-09-29T05:49:14.341477Z"
    }
   },
   "cell_type": "code",
   "source": [
    "print(mxi.get_position()) # 9.2701\n",
    "print(myi.get_position()) # 3.3100"
   ],
   "id": "52c3a974c63b76e2",
   "outputs": [
    {
     "name": "stdout",
     "output_type": "stream",
     "text": [
      "9.3\n",
      "4.05\n"
     ]
    }
   ],
   "execution_count": 4
  },
  {
   "metadata": {},
   "cell_type": "markdown",
   "source": [
    "BS\n",
    "- best idler: ~9K\n",
    "- best signal: ~8.3K \n",
    "\n",
    "Mirror:\n",
    "- best idler: \n",
    "- best signal: \n"
   ],
   "id": "1d75a7f91b5054b8"
  },
  {
   "metadata": {},
   "cell_type": "markdown",
   "source": "## Scans to see what happened ",
   "id": "48a20306edb64e2d"
  },
  {
   "metadata": {
    "ExecuteTime": {
     "end_time": "2024-09-30T09:53:24.809470Z",
     "start_time": "2024-09-30T09:53:24.701664Z"
    }
   },
   "cell_type": "code",
   "source": [
    "# Timetagger\n",
    "tt = QPTimeTagger(integration_time=1, remote=True,\n",
    "                  single_channel_delays=TIMETAGGER_DELAYS, coin_window=TIMETAGGER_COIN_WINDOW)"
   ],
   "id": "5df2637dfc14abf",
   "outputs": [],
   "execution_count": 4
  },
  {
   "metadata": {},
   "cell_type": "markdown",
   "source": "### idler scan",
   "id": "ef2b217faaeecb02"
  },
  {
   "metadata": {
    "ExecuteTime": {
     "end_time": "2024-09-29T05:50:46.705443Z",
     "start_time": "2024-09-29T05:50:46.597971Z"
    }
   },
   "cell_type": "code",
   "source": [
    "integration_time = 1\n",
    "start_x = 8.9\n",
    "end_x = 9.6\n",
    "start_y = 2.7\n",
    "end_y = 5.2\n",
    "\n",
    "mxi.wait_after_move = 0\n",
    "myi.wait_after_move = 0\n",
    "# start_x = 8.5\n",
    "# end_x = 9.5\n",
    "# start_y = 2\n",
    "# end_y = 4\n",
    "\n",
    "resolution = 1 \n",
    "x_pixels = 14 // resolution\n",
    "y_pixels = 30 // resolution\n",
    "pixel_size_x = 0.05 * resolution\n",
    "pixel_size_y = 0.05 * resolution\n",
    "\n",
    "timestamp = datetime.datetime.now().strftime('%Y_%m_%d_%H_%M_%S')\n",
    "\n",
    "dir_path = r'G:\\My Drive\\Projects\\MPLC\\results\\lab\\2024_09_25_BS_to_mirror'\n",
    "timestamp = datetime.datetime.now().strftime('%Y_%m_%d_%H_%M_%S')\n",
    "singles_idler_path = fr'{dir_path}\\{timestamp}_idler_6_spots_again.scan'\n",
    "\n",
    "scanner = PhotonScanner(integration_time, start_x, start_y, x_pixels, y_pixels, pixel_size_x, pixel_size_y, is_timetagger=True, coin_window=2e-9, saveto_path=singles_idler_path)   \n",
    "_ = run_in_thread(scanner.scan, x_motor=mxi, y_motor=myi, ph=tt)"
   ],
   "id": "689f63f15ea83f28",
   "outputs": [
    {
     "data": {
      "text/plain": [
       "<IPython.core.display.HTML object>"
      ],
      "text/html": [
       "<pre>Moving to starting position...\n",
       "</pre>"
      ]
     },
     "metadata": {},
     "output_type": "display_data"
    }
   ],
   "execution_count": 8
  },
  {
   "metadata": {},
   "cell_type": "markdown",
   "source": "### signal scan",
   "id": "37ad890444b4b53b"
  },
  {
   "metadata": {
    "ExecuteTime": {
     "end_time": "2024-09-29T05:51:34.708834Z",
     "start_time": "2024-09-29T05:51:34.617584Z"
    }
   },
   "cell_type": "code",
   "source": [
    "integration_time = 1\n",
    "start_x = 12.65\n",
    "end_x = 13.35\n",
    "start_y = 5.5\n",
    "end_y = 8\n",
    "\n",
    "mxs.wait_after_move = 0.1\n",
    "mys.wait_after_move = 0.1\n",
    "\n",
    "resolution = 1 \n",
    "x_pixels = 14 // resolution\n",
    "y_pixels = 50 // resolution\n",
    "pixel_size_x = 0.05 * resolution\n",
    "pixel_size_y = 0.05 * resolution\n",
    "\n",
    "timestamp = datetime.datetime.now().strftime('%Y_%m_%d_%H_%M_%S')\n",
    "\n",
    "dir_path = r'G:\\My Drive\\Projects\\MPLC\\results\\lab\\2024_09_25_BS_to_mirror'\n",
    "timestamp = datetime.datetime.now().strftime('%Y_%m_%d_%H_%M_%S')\n",
    "singles_signal_path = fr'{dir_path}\\{timestamp}_signal_initial_spots.scan'\n",
    "\n",
    "scanner = PhotonScanner(integration_time, start_x, start_y, x_pixels, y_pixels, pixel_size_x, pixel_size_y, is_timetagger=True, coin_window=2e-9, saveto_path=singles_signal_path)   \n",
    "_ = run_in_thread(scanner.scan, x_motor=mxs, y_motor=mys, ph=tt)"
   ],
   "id": "e304cb562d85afa6",
   "outputs": [
    {
     "data": {
      "text/plain": [
       "<IPython.core.display.HTML object>"
      ],
      "text/html": [
       "<pre>Moving to starting position...\n",
       "</pre>"
      ]
     },
     "metadata": {},
     "output_type": "display_data"
    }
   ],
   "execution_count": 9
  },
  {
   "metadata": {
    "ExecuteTime": {
     "end_time": "2024-09-25T10:18:32.559975Z",
     "start_time": "2024-09-25T10:18:32.252521Z"
    }
   },
   "cell_type": "code",
   "source": [
    "mimshow(scanner.single1s, vmax=3700)\n",
    "mimshow(scanner.single2s, vmax=1000)"
   ],
   "id": "b99b3295dae095a9",
   "outputs": [
    {
     "data": {
      "text/plain": [
       "(<Figure size 640x480 with 2 Axes>, <Axes: >)"
      ]
     },
     "execution_count": 98,
     "metadata": {},
     "output_type": "execute_result"
    }
   ],
   "execution_count": 98
  },
  {
   "metadata": {},
   "cell_type": "markdown",
   "source": [
    "# New WFM \n",
    "\n",
    "## with defocus distance and dead zone "
   ],
   "id": "1cc0fb3064e7e30f"
  },
  {
   "metadata": {
    "ExecuteTime": {
     "end_time": "2024-09-30T05:59:11.436446Z",
     "start_time": "2024-09-30T05:56:10.004316Z"
    }
   },
   "cell_type": "code",
   "source": [
    "all_Us_path = r\"G:\\My Drive\\Projects\\MPLC\\results\\lab\\2024_09_10_fixing_phases_different_Us\\for_ronen_Haar_800.mat\"\n",
    "all_Us = loadmat(all_Us_path)['U1_all']\n",
    "U_no = 1 \n",
    "dir_path = r'G:\\My Drive\\Projects\\MPLC\\results\\lab\\2024_09_25_BS_to_mirror'\n",
    "timestamp = datetime.datetime.now().strftime('%Y_%m_%d_%H_%M_%S')\n",
    "masks_path =    fr'{dir_path}\\{timestamp}_U1U.masks'\n",
    "mplc_res_path = fr'{dir_path}\\{timestamp}_U1U.mplcsim'\n",
    "mplc_sim = create_WFM_unitary_masks(all_Us[:, :, U_no], N_iterations=15, out_path=masks_path, dead_middle_zone=450e-6, last_plane_extra_dist=8.4e-3)\n",
    "mplc_sim.res.saveto(mplc_res_path, smaller=True)"
   ],
   "id": "9af7ff55763af0c3",
   "outputs": [
    {
     "name": "stdout",
     "output_type": "stream",
     "text": [
      "{'wavelength': 8.1e-07, 'dist_after_plane': array([0.087 , 0.087 , 0.087 , 0.087 , 0.138 , 0.087 , 0.087 , 0.087 ,\n",
      "       0.087 , 0.0954]), 'N_iterations': 15, 'Nx': 140, 'Ny': 360, 'dx': 1.25e-05, 'dy': 1.25e-05, 'max_k_constraint': 0.15, 'min_log_level': 2, 'size_factor': 3, 'use_mask_offset': True, 'symmetric_masks': False, 'active_planes': array([ True,  True,  True,  True,  True,  True,  True,  True,  True,\n",
      "        True,  True]), 'N_modes': 10}\n",
      "1\n"
     ]
    },
    {
     "name": "stderr",
     "output_type": "stream",
     "text": [
      "100%|██████████| 15/15 [02:45<00:00, 11.01s/it]\n"
     ]
    }
   ],
   "execution_count": 6
  },
  {
   "metadata": {
    "ExecuteTime": {
     "end_time": "2024-09-30T05:59:14.327699Z",
     "start_time": "2024-09-30T05:59:11.451759Z"
    }
   },
   "cell_type": "code",
   "source": "mplc_sim.res.show_overlap()",
   "id": "48fa839cee974c00",
   "outputs": [],
   "execution_count": 7
  },
  {
   "metadata": {
    "ExecuteTime": {
     "end_time": "2024-09-30T05:59:16.981042Z",
     "start_time": "2024-09-30T05:59:14.651395Z"
    }
   },
   "cell_type": "code",
   "source": [
    "mplc_sim.res._calc_fidelity()\n",
    "mplc_sim.res.fidelity"
   ],
   "id": "b1460b531cb3fe9",
   "outputs": [
    {
     "data": {
      "text/plain": [
       "0.9896838134848069"
      ]
     },
     "execution_count": 8,
     "metadata": {},
     "output_type": "execute_result"
    }
   ],
   "execution_count": 8
  },
  {
   "metadata": {
    "ExecuteTime": {
     "end_time": "2024-09-30T05:59:18.137567Z",
     "start_time": "2024-09-30T05:59:17.059076Z"
    }
   },
   "cell_type": "code",
   "source": "mplc_sim.res.show_all()",
   "id": "e69f0f25d708b865",
   "outputs": [],
   "execution_count": 9
  },
  {
   "metadata": {},
   "cell_type": "markdown",
   "source": "# mark spot locations ",
   "id": "10218bb6c38c8a5c"
  },
  {
   "metadata": {
    "ExecuteTime": {
     "end_time": "2024-09-30T09:30:43.897764Z",
     "start_time": "2024-09-30T09:30:05.439536Z"
    }
   },
   "cell_type": "code",
   "source": [
    "from pianoq_results.scan_result import ScanResult\n",
    "timestamp = datetime.datetime.now().strftime('%Y_%m_%d_%H_%M_%S')\n",
    "locs_signal_path = fr'{dir_path}\\{timestamp}_s2_sig_mirror.locs'\n",
    "locs_idler_path = fr'{dir_path}\\{timestamp}_s1_idl_mirror.locs'\n",
    "\n",
    "res_idl = ScanResult(fr'{dir_path}\\2024_09_30_09_26_08_idler_5_spots_tilt_35_deadzone_450_fine.scan')\n",
    "res_sig = ScanResult(fr'{dir_path}\\2024_09_30_09_28_15_signal_5_spots_tilt_35_deadzone_450_fine.scan')\n",
    "# res_idl.show_singles()\n",
    "# res_sig.show_singles()\n",
    "\n",
    "res_sig.get_xys(2, saveto_path=locs_signal_path)\n",
    "res_idl.get_xys(1, saveto_path=locs_idler_path)"
   ],
   "id": "3f488db2dba76b07",
   "outputs": [
    {
     "name": "stdout",
     "output_type": "stream",
     "text": [
      "Saved to G:\\My Drive\\Projects\\MPLC\\results\\lab\\2024_09_25_BS_to_mirror\\2024_09_30_12_30_05_s2_sig_mirror.locs\n",
      "Saved to G:\\My Drive\\Projects\\MPLC\\results\\lab\\2024_09_25_BS_to_mirror\\2024_09_30_12_30_05_s1_idl_mirror.locs\n"
     ]
    },
    {
     "data": {
      "text/plain": [
       "[(9.29882867132867, 3.948489010989011),\n",
       " (9.332395104895104, 4.296141358641359),\n",
       " (9.370756743256742, 4.6294080919080915),\n",
       " (9.37794955044955, 4.962674825174825),\n",
       " (9.416311188811187, 5.303134365634366)]"
      ]
     },
     "execution_count": 47,
     "metadata": {},
     "output_type": "execute_result"
    }
   ],
   "execution_count": 47
  },
  {
   "metadata": {},
   "cell_type": "markdown",
   "source": "# Phases",
   "id": "6c9a92961d08c12f"
  },
  {
   "metadata": {
    "jupyter": {
     "is_executing": true
    },
    "ExecuteTime": {
     "start_time": "2024-09-30T12:30:37.932288Z"
    }
   },
   "cell_type": "code",
   "source": [
    "# masks \n",
    "masks_path = r\"G:\\My Drive\\Projects\\MPLC\\results\\lab\\2024_09_25_BS_to_mirror\\2024_09_30_08_56_10_U1U.masks\"  # with dead zone \n",
    "msks = MPLCMasks()\n",
    "msks.loadfrom(masks_path)\n",
    "masks = msks.real_masks\n",
    "masks = remove_input_modes(masks, modes_to_keep=modes_to_keep)\n",
    "mplc.load_masks(masks, linear_tilts=True, plane_10_tilts=35)\n",
    "\n",
    "timestamp = datetime.datetime.now().strftime('%Y_%m_%d_%H_%M_%S')\n",
    "phases_path = fr'{dir_path}\\{timestamp}_new_mirror.phases'\n",
    "integration_time = 30\n",
    "\n",
    "phases_result = PhaseFinderResult(fr\"{dir_path}\\2024_09_30_12_53_59_new_mirror.phases\")\n",
    "\n",
    "\n",
    "pf = PhaseFinder(mplc=mplc, integration_time=integration_time, remote_tagger=True, saveto_path=phases_path,\n",
    "                 modes_to_keep=modes_to_keep, intial_phases=phases_result.phases, coin_window=1e-9, no_hw_mode=True, linear_tilts=True, plane_10_tilts=35)\n",
    "\n",
    "pf.time_tagger = tt\n",
    "pf.time_tagger.set_integration_time(integration_time)\n",
    "\n",
    "# locs \n",
    "locs_sig = np.load(fr'{dir_path}\\2024_09_30_12_30_05_s2_sig_mirror.locs')['locs']\n",
    "locs_idl = np.load(fr'{dir_path}\\2024_09_30_12_30_05_s1_idl_mirror.locs')['locs']\n",
    "\n",
    "# i,j of corr matrix that is supposed to be strong \n",
    "i = 1\n",
    "j = 1\n",
    "mxi.move_absolute(locs_idl[i, 0])\n",
    "myi.move_absolute(locs_idl[i, 1])\n",
    "mxs.move_absolute(locs_sig[j, 0])\n",
    "mys.move_absolute(locs_sig[j, 1])        \n",
    "mplc.restore_location()\n",
    "time.sleep(1)\n",
    "pf.find_phases()"
   ],
   "id": "a5fbb5aeeff831d5",
   "outputs": [],
   "execution_count": null
  },
  {
   "metadata": {},
   "cell_type": "markdown",
   "source": "# Correlations",
   "id": "41ec21ecfb84e2b"
  },
  {
   "metadata": {
    "ExecuteTime": {
     "end_time": "2024-09-30T12:26:11.046178Z",
     "start_time": "2024-09-30T12:26:09.604044Z"
    }
   },
   "cell_type": "code",
   "source": [
    "from pianoq.lab.mplc.phase_finder_result import PhaseFinderResult\n",
    "from pianoq.lab.mplc.discrete_photon_scanner import DiscretePhotonScanner\n",
    "from pianoq.simulations.mplc_sim.mplc_sim_result import MPLCMasks\n",
    "from pianoq.lab.mplc.mask_utils import remove_input_modes, add_phase_input_spots\n",
    "from pianoq.lab.mplc.mplc_device import MPLCDevice\n",
    "import glob\n",
    "import time \n",
    "\n",
    "backlash = 0.0\n",
    "wait_after_move = 0.3\n",
    "integration_time = 4\n",
    "coin_window = 1.2e-9\n",
    "timestamp = datetime.datetime.now().strftime('%Y_%m_%d_%H_%M_%S')\n",
    "\n",
    "scan_path = fr'{dir_path}\\{timestamp}.dscan'\n",
    "\n",
    "locs_sig = np.load(fr'{dir_path}\\2024_09_30_12_30_05_s2_sig_mirror.locs')['locs']\n",
    "locs_idl = np.load(fr'{dir_path}\\2024_09_30_12_30_05_s1_idl_mirror.locs')['locs']\n",
    "\n",
    "dps = DiscretePhotonScanner(locs_sig, locs_idl, integration_time=integration_time, remote_tagger=True, saveto_path=scan_path,\n",
    "                            backlash=backlash, wait_after_move=wait_after_move, coin_window=coin_window, no_hw_mode=True)\n",
    "dps.zaber_ms = zaber_ms\n",
    "dps.m_sig_x = mxs\n",
    "dps.m_sig_y = mys\n",
    "dps.m_idl_x = mxi\n",
    "dps.m_idl_y = myi\n",
    "dps.time_tagger = tt\n",
    "dps.time_tagger.set_integration_time(integration_time)\n",
    "time.sleep(1)\n",
    "\n",
    "phases_result = PhaseFinderResult(fr\"{dir_path}\\2024_09_30_15_06_11_new_mirror.phases\")\n",
    "\n",
    "# masks \n",
    "masks_path = r\"G:\\My Drive\\Projects\\MPLC\\results\\lab\\2024_09_25_BS_to_mirror\\2024_09_30_08_56_10_U1U.masks\"  # with dead zone \n",
    "msks = MPLCMasks()\n",
    "msks.loadfrom(masks_path)\n",
    "masks = msks.real_masks\n",
    "masks = remove_input_modes(masks, modes_to_keep=modes_to_keep)\n",
    "mplc.restore_location()\n",
    "masks = add_phase_input_spots(masks, phases_result.phases)\n",
    "mplc.load_masks(masks, linear_tilts=True, plane_10_tilts=35)\n",
    "\n",
    "mplc.restore_location()"
   ],
   "id": "14bbc203e3f37467",
   "outputs": [],
   "execution_count": 19
  },
  {
   "metadata": {
    "ExecuteTime": {
     "end_time": "2024-09-30T12:28:29.260493Z",
     "start_time": "2024-09-30T12:26:11.579901Z"
    }
   },
   "cell_type": "code",
   "source": "dps.scan()",
   "id": "7e0b07187ba658",
   "outputs": [
    {
     "name": "stdout",
     "output_type": "stream",
     "text": [
      "beginning scan\n",
      "0, 0: 14461.75, 13721.50, 8.00\n",
      "0, 1: 14556.25, 9873.25, 0.75\n",
      "0, 2: 14473.50, 13272.00, 2.25\n",
      "0, 3: 14578.75, 12117.75, 4.00\n",
      "0, 4: 14426.50, 12861.00, 1.75\n",
      "1, 0: 14166.50, 13728.00, 0.50\n",
      "1, 1: 14257.25, 9835.50, 2.50\n",
      "1, 2: 14332.25, 13394.25, 4.50\n",
      "1, 3: 14186.00, 12085.00, 1.25\n",
      "1, 4: 14232.75, 12872.00, 2.00\n",
      "2, 0: 15536.00, 13768.75, 2.50\n",
      "2, 1: 15423.00, 9919.75, 1.25\n",
      "2, 2: 15268.75, 13321.75, 4.75\n",
      "2, 3: 15355.00, 12075.50, 1.75\n",
      "2, 4: 15252.75, 12858.75, 2.50\n",
      "3, 0: 14404.75, 13904.50, 2.75\n",
      "3, 1: 14351.00, 10035.25, 1.75\n",
      "3, 2: 14453.50, 13517.25, 1.25\n",
      "3, 3: 14423.75, 12188.00, 4.25\n",
      "3, 4: 14400.50, 12898.75, 1.75\n",
      "4, 0: 15626.00, 13818.00, 0.75\n",
      "4, 1: 15745.25, 9845.50, 1.50\n",
      "4, 2: 15574.75, 13352.00, 1.50\n",
      "4, 3: 15585.75, 12160.25, 3.75\n",
      "4, 4: 15518.00, 12919.00, 5.50\n"
     ]
    }
   ],
   "execution_count": 20
  },
  {
   "metadata": {
    "ExecuteTime": {
     "end_time": "2024-09-30T10:44:37.645707Z",
     "start_time": "2024-09-30T10:44:37.548484Z"
    }
   },
   "cell_type": "code",
   "source": [
    "display(locs_idl)\n",
    "display(locs_sig)"
   ],
   "id": "8c1725c3d116a13f",
   "outputs": [
    {
     "data": {
      "text/plain": [
       "array([[9.29882867, 3.94848901],\n",
       "       [9.3323951 , 4.29614136],\n",
       "       [9.37075674, 4.62940809],\n",
       "       [9.37794955, 4.96267483],\n",
       "       [9.41631119, 5.30313437]])"
      ]
     },
     "metadata": {},
     "output_type": "display_data"
    },
    {
     "data": {
      "text/plain": [
       "array([[12.97315435,  6.57471279],\n",
       "       [12.9299975 ,  6.21986763],\n",
       "       [12.90122627,  5.8866009 ],\n",
       "       [12.88923826,  5.55333417],\n",
       "       [12.87245504,  5.22246503]])"
      ]
     },
     "metadata": {},
     "output_type": "display_data"
    }
   ],
   "execution_count": 11
  },
  {
   "metadata": {
    "ExecuteTime": {
     "end_time": "2024-09-30T12:30:14.842632Z",
     "start_time": "2024-09-30T12:30:14.648759Z"
    }
   },
   "cell_type": "code",
   "source": "dps.res.show()",
   "id": "2540eed967d37813",
   "outputs": [],
   "execution_count": 21
  },
  {
   "metadata": {
    "ExecuteTime": {
     "end_time": "2024-09-30T09:26:31.862025Z",
     "start_time": "2024-09-30T09:26:30.818044Z"
    }
   },
   "cell_type": "code",
   "source": [
    "mxi.move_absolute(9.3)\n",
    "myi.move_absolute(3.90)\n",
    "print(mxi.get_position())\n",
    "print(myi.get_position())"
   ],
   "id": "6ae0ef06feddacaa",
   "outputs": [
    {
     "name": "stdout",
     "output_type": "stream",
     "text": [
      "9.30005\n",
      "3.9\n"
     ]
    }
   ],
   "execution_count": 34
  },
  {
   "metadata": {
    "ExecuteTime": {
     "end_time": "2024-09-30T09:27:44.797865Z",
     "start_time": "2024-09-30T09:27:43.953466Z"
    }
   },
   "cell_type": "code",
   "source": [
    "mxs.move_absolute(12.875)\n",
    "mys.move_absolute(5.22)\n",
    "print(mxs.get_position())\n",
    "print(mys.get_position())"
   ],
   "id": "c2c734123aa2e01a",
   "outputs": [
    {
     "name": "stdout",
     "output_type": "stream",
     "text": [
      "12.874990125000002\n",
      "5.21998575\n"
     ]
    }
   ],
   "execution_count": 42
  }
 ],
 "metadata": {
  "kernelspec": {
   "display_name": "Python 3",
   "language": "python",
   "name": "python3"
  },
  "language_info": {
   "codemirror_mode": {
    "name": "ipython",
    "version": 2
   },
   "file_extension": ".py",
   "mimetype": "text/x-python",
   "name": "python",
   "nbconvert_exporter": "python",
   "pygments_lexer": "ipython2",
   "version": "2.7.6"
  }
 },
 "nbformat": 4,
 "nbformat_minor": 5
}
