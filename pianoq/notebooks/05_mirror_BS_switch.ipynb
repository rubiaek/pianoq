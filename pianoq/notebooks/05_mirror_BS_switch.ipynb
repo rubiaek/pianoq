{
 "cells": [
  {
   "metadata": {
    "ExecuteTime": {
     "end_time": "2024-10-06T09:06:13.377849Z",
     "start_time": "2024-10-06T09:06:06.823622Z"
    }
   },
   "cell_type": "code",
   "source": [
    "from pianoq.misc.mplc_lab_imports import * \n",
    "%load_ext autoreload\n",
    "%autoreload 2\n",
    "\n",
    "dir_path = r'G:\\My Drive\\Projects\\MPLC\\results\\lab\\2024_09_25_BS_to_mirror'\n",
    "if not os.path.exists(dir_path):\n",
    "    os.mkdir(dir_path)"
   ],
   "id": "34f89fdcf97becfe",
   "outputs": [
    {
     "name": "stdout",
     "output_type": "stream",
     "text": [
      "The autoreload extension is already loaded. To reload it, use:\n",
      "  %reload_ext autoreload\n"
     ]
    }
   ],
   "execution_count": 1
  },
  {
   "metadata": {},
   "cell_type": "markdown",
   "source": "# Camera things",
   "id": "550e4b3d91ecab1b"
  },
  {
   "metadata": {
    "ExecuteTime": {
     "end_time": "2024-10-07T06:32:04.160203Z",
     "start_time": "2024-10-07T06:31:59.413335Z"
    }
   },
   "cell_type": "code",
   "source": [
    "cam = PCOCamera()\n",
    "cam.set_exposure_time(0.5)\n",
    "\n",
    "# ml = MPLCAligner(use_cam=False)\n",
    "# ml.update('1to5w4f', '5to11w8', pi_steps_x=[0], pi_steps_plane=1)"
   ],
   "id": "c24a262551167e95",
   "outputs": [],
   "execution_count": 44
  },
  {
   "metadata": {
    "ExecuteTime": {
     "end_time": "2024-10-07T06:33:12.758793Z",
     "start_time": "2024-10-07T06:33:12.669772Z"
    }
   },
   "cell_type": "code",
   "source": "cam.set_exposure_time(2)",
   "id": "3bfa9e7e1d3bd62d",
   "outputs": [],
   "execution_count": 50
  },
  {
   "metadata": {
    "ExecuteTime": {
     "end_time": "2024-09-25T08:17:45.861299Z",
     "start_time": "2024-09-25T08:17:44.346068Z"
    }
   },
   "cell_type": "code",
   "source": [
    "roi=(750, 350, 1200, 850)\n",
    "live_cam(cam, roi=roi)"
   ],
   "id": "6ee5e917013e17df",
   "outputs": [],
   "execution_count": 47
  },
  {
   "metadata": {
    "ExecuteTime": {
     "end_time": "2024-10-07T06:32:57.852403Z",
     "start_time": "2024-10-07T06:32:54.762966Z"
    }
   },
   "cell_type": "code",
   "source": [
    "mplc.load_masks(masks)\n",
    "roi=(750, 350, 1200, 850)\n",
    "cam.show_image(roi=roi)"
   ],
   "id": "5a0142f9b27f1498",
   "outputs": [
    {
     "data": {
      "text/plain": [
       "(<Figure size 640x480 with 2 Axes>, <Axes: >)"
      ]
     },
     "execution_count": 48,
     "metadata": {},
     "output_type": "execute_result"
    }
   ],
   "execution_count": 48
  },
  {
   "metadata": {
    "ExecuteTime": {
     "end_time": "2024-10-07T06:40:13.459029Z",
     "start_time": "2024-10-07T06:40:02.994173Z"
    }
   },
   "cell_type": "code",
   "source": [
    "roi=(700, 300, 1250, 900)\n",
    "name = f'tilts_{tilts}.fits'\n",
    "cam.save_image(path=rf'{dir_path}\\{name}', roi=roi)\n",
    "cam.show_image(roi=roi)"
   ],
   "id": "5b0505b1359091a7",
   "outputs": [
    {
     "data": {
      "text/plain": [
       "(<Figure size 640x480 with 2 Axes>, <Axes: >)"
      ]
     },
     "execution_count": 60,
     "metadata": {},
     "output_type": "execute_result"
    }
   ],
   "execution_count": 60
  },
  {
   "metadata": {},
   "cell_type": "code",
   "outputs": [],
   "execution_count": null,
   "source": [
    "timestamp = datetime.datetime.now().strftime('%Y_%m_%d_%H_%M_%S')\n",
    "path = rf'{dir_path}\\{timestamp}_{name}.cam'\n",
    "cam.save_image(path)"
   ],
   "id": "3609403bc3e68c96"
  },
  {
   "metadata": {
    "ExecuteTime": {
     "end_time": "2024-10-07T06:40:18.792880Z",
     "start_time": "2024-10-07T06:40:18.684107Z"
    }
   },
   "cell_type": "code",
   "source": "cam.close()",
   "id": "dd9014e207720a0c",
   "outputs": [],
   "execution_count": 61
  },
  {
   "metadata": {},
   "cell_type": "markdown",
   "source": "# MPLC ",
   "id": "ee7970bf1de8f934"
  },
  {
   "metadata": {
    "ExecuteTime": {
     "end_time": "2024-10-07T06:31:28.505726Z",
     "start_time": "2024-10-07T06:31:24.107294Z"
    }
   },
   "cell_type": "code",
   "source": [
    "modes_to_keep = np.array([3, 8, 13, 18, 23, 28, 33, 38, 43, 48])\n",
    "\n",
    "tilts = None \n",
    "mplc = MPLCDevice(linear_tilts=True, plane_10_tilts=tilts)\n",
    "mplc.restore_location()\n",
    "print('Got MPLC')\n",
    "# masks_path = r\"G:\\My Drive\\Projects\\MPLC\\results\\lab\\2024_09_25_BS_to_mirror\\2024_09_10_14_00_34_old.masks\"\n",
    "# masks_path = r\"G:\\My Drive\\Projects\\MPLC\\results\\lab\\2024_09_25_BS_to_mirror\\2024_09_25_13_19_15_extra_1cm.masks\"\n",
    "# masks_path = r\"G:\\My Drive\\Projects\\MPLC\\results\\lab\\2024_09_17_first_diffuser\\2024_09_17_12_19_58_diffuser_d1d.masks\"\n",
    "# masks_path = r\"G:\\My Drive\\Projects\\MPLC\\results\\lab\\2024_09_25_BS_to_mirror\\2024_09_29_14_27_10_U1U.masks\"  # with dead zone \n",
    "# masks_path = r\"G:\\My Drive\\Projects\\MPLC\\results\\lab\\2024_09_25_BS_to_mirror\\2024_09_30_08_56_10_U1U.masks\"  # with dead zone \n",
    "masks_path = r\"G:\\My Drive\\Projects\\MPLC\\results\\lab\\2024_09_10_fixing_phases_different_Us\\U1U_2024_09_10_14_00_34.masks\"  # old masks  \n",
    "\n",
    "msks = MPLCMasks()\n",
    "msks.loadfrom(masks_path)\n",
    "masks = msks.real_masks\n",
    "masks = remove_input_modes(masks, modes_to_keep=modes_to_keep)\n",
    "phases = np.random.uniform(0, 2*np.pi, size=50)\n",
    "masks = add_phase_input_spots(masks, phases)\n",
    "mplc.load_masks(masks)\n",
    "# mplc.load_masks(masks, linear_tilts=True, plane_10_tilts=None)\n",
    "mplc.restore_location()"
   ],
   "id": "512a96d3e662ccb3",
   "outputs": [
    {
     "name": "stdout",
     "output_type": "stream",
     "text": [
      "Got MPLC\n"
     ]
    }
   ],
   "execution_count": 43
  },
  {
   "metadata": {},
   "cell_type": "markdown",
   "source": "# motors - actually now use in separate notebook",
   "id": "94fbb401dbf3f514"
  },
  {
   "metadata": {
    "ExecuteTime": {
     "end_time": "2024-10-06T09:21:58.822170Z",
     "start_time": "2024-10-06T09:21:52.807359Z"
    }
   },
   "cell_type": "code",
   "source": [
    "backlash = 0.1\n",
    "wait_after_move = 0.3\n",
    "\n",
    "zaber_ms = ZaberMotors(backlash=backlash, wait_after_move=wait_after_move)\n",
    "mxs = zaber_ms.motors[1]\n",
    "mys = zaber_ms.motors[0]\n",
    "print('Got Zaber motors')\n",
    "\n",
    "mxi = ThorlabsKcubeDC(thorlabs_x_serial, backlash=backlash, wait_after_move=wait_after_move)\n",
    "myi = ThorlabsKcubeStepper(thorlabs_y_serial, backlash=backlash, wait_after_move=wait_after_move)\n",
    "print('Got Thorlabs motors')"
   ],
   "id": "b6cb7c727c6c4758",
   "outputs": [
    {
     "name": "stdout",
     "output_type": "stream",
     "text": [
      "Got Zaber motors\n",
      "Got Thorlabs motors\n"
     ]
    }
   ],
   "execution_count": 5
  },
  {
   "metadata": {
    "ExecuteTime": {
     "end_time": "2024-09-26T13:18:38.809729Z",
     "start_time": "2024-09-26T13:18:37.115370Z"
    }
   },
   "cell_type": "code",
   "source": [
    "mxi.move_absolute(9.30)\n",
    "myi.move_absolute(4.05)\n",
    "print(mxi.get_position())\n",
    "print(myi.get_position())"
   ],
   "id": "c0facc75e0f0f676",
   "outputs": [
    {
     "name": "stdout",
     "output_type": "stream",
     "text": [
      "9.3001\n",
      "4.05\n"
     ]
    }
   ],
   "execution_count": 131
  },
  {
   "metadata": {
    "ExecuteTime": {
     "end_time": "2024-09-26T13:20:48.371138Z",
     "start_time": "2024-09-26T13:20:47.934168Z"
    }
   },
   "cell_type": "code",
   "source": [
    "mxs.move_absolute(13.03)\n",
    "mys.move_absolute(6.45)\n",
    "print(mxs.get_position())\n",
    "print(mys.get_position())"
   ],
   "id": "33c63cf3388caf65",
   "outputs": [
    {
     "name": "stdout",
     "output_type": "stream",
     "text": [
      "13.0300095\n",
      "6.449996625\n"
     ]
    }
   ],
   "execution_count": 142
  },
  {
   "metadata": {
    "ExecuteTime": {
     "end_time": "2024-09-25T12:47:14.563953Z",
     "start_time": "2024-09-25T12:47:14.265603Z"
    }
   },
   "cell_type": "code",
   "source": "myi.move_relative(0.01)",
   "id": "cccacdd17d89906f",
   "outputs": [],
   "execution_count": 147
  },
  {
   "metadata": {
    "ExecuteTime": {
     "end_time": "2024-09-29T05:49:14.436866Z",
     "start_time": "2024-09-29T05:49:14.341477Z"
    }
   },
   "cell_type": "code",
   "source": [
    "print(mxi.get_position()) # 9.2701\n",
    "print(myi.get_position()) # 3.3100"
   ],
   "id": "52c3a974c63b76e2",
   "outputs": [
    {
     "name": "stdout",
     "output_type": "stream",
     "text": [
      "9.3\n",
      "4.05\n"
     ]
    }
   ],
   "execution_count": 4
  },
  {
   "metadata": {},
   "cell_type": "markdown",
   "source": [
    "BS\n",
    "- best idler: ~9K\n",
    "- best signal: ~8.3K \n",
    "\n",
    "Mirror:\n",
    "- best idler: \n",
    "- best signal: \n"
   ],
   "id": "1d75a7f91b5054b8"
  },
  {
   "metadata": {},
   "cell_type": "markdown",
   "source": "## Scans to see what happened ",
   "id": "48a20306edb64e2d"
  },
  {
   "metadata": {
    "ExecuteTime": {
     "end_time": "2024-10-06T09:21:58.924209Z",
     "start_time": "2024-10-06T09:21:58.834640Z"
    }
   },
   "cell_type": "code",
   "source": [
    "# Timetagger\n",
    "tt = QPTimeTagger(integration_time=1, remote=True,\n",
    "                  single_channel_delays=TIMETAGGER_DELAYS, coin_window=TIMETAGGER_COIN_WINDOW)"
   ],
   "id": "5df2637dfc14abf",
   "outputs": [],
   "execution_count": 6
  },
  {
   "metadata": {},
   "cell_type": "markdown",
   "source": "### idler scan",
   "id": "ef2b217faaeecb02"
  },
  {
   "metadata": {
    "ExecuteTime": {
     "end_time": "2024-09-29T05:50:46.705443Z",
     "start_time": "2024-09-29T05:50:46.597971Z"
    }
   },
   "cell_type": "code",
   "source": [
    "integration_time = 1\n",
    "start_x = 8.9\n",
    "end_x = 9.6\n",
    "start_y = 2.7\n",
    "end_y = 5.2\n",
    "\n",
    "mxi.wait_after_move = 0\n",
    "myi.wait_after_move = 0\n",
    "# start_x = 8.5\n",
    "# end_x = 9.5\n",
    "# start_y = 2\n",
    "# end_y = 4\n",
    "\n",
    "resolution = 1 \n",
    "x_pixels = 14 // resolution\n",
    "y_pixels = 30 // resolution\n",
    "pixel_size_x = 0.05 * resolution\n",
    "pixel_size_y = 0.05 * resolution\n",
    "\n",
    "timestamp = datetime.datetime.now().strftime('%Y_%m_%d_%H_%M_%S')\n",
    "\n",
    "dir_path = r'G:\\My Drive\\Projects\\MPLC\\results\\lab\\2024_09_25_BS_to_mirror'\n",
    "timestamp = datetime.datetime.now().strftime('%Y_%m_%d_%H_%M_%S')\n",
    "singles_idler_path = fr'{dir_path}\\{timestamp}_idler_6_spots_again.scan'\n",
    "\n",
    "scanner = PhotonScanner(integration_time, start_x, start_y, x_pixels, y_pixels, pixel_size_x, pixel_size_y, is_timetagger=True, coin_window=2e-9, saveto_path=singles_idler_path)   \n",
    "_ = run_in_thread(scanner.scan, x_motor=mxi, y_motor=myi, ph=tt)"
   ],
   "id": "689f63f15ea83f28",
   "outputs": [
    {
     "data": {
      "text/plain": [
       "<IPython.core.display.HTML object>"
      ],
      "text/html": [
       "<pre>Moving to starting position...\n",
       "</pre>"
      ]
     },
     "metadata": {},
     "output_type": "display_data"
    }
   ],
   "execution_count": 8
  },
  {
   "metadata": {},
   "cell_type": "markdown",
   "source": "### signal scan",
   "id": "37ad890444b4b53b"
  },
  {
   "metadata": {
    "ExecuteTime": {
     "end_time": "2024-09-29T05:51:34.708834Z",
     "start_time": "2024-09-29T05:51:34.617584Z"
    }
   },
   "cell_type": "code",
   "source": [
    "integration_time = 1\n",
    "start_x = 12.65\n",
    "end_x = 13.35\n",
    "start_y = 5.5\n",
    "end_y = 8\n",
    "\n",
    "mxs.wait_after_move = 0.1\n",
    "mys.wait_after_move = 0.1\n",
    "\n",
    "resolution = 1 \n",
    "x_pixels = 14 // resolution\n",
    "y_pixels = 50 // resolution\n",
    "pixel_size_x = 0.05 * resolution\n",
    "pixel_size_y = 0.05 * resolution\n",
    "\n",
    "timestamp = datetime.datetime.now().strftime('%Y_%m_%d_%H_%M_%S')\n",
    "\n",
    "dir_path = r'G:\\My Drive\\Projects\\MPLC\\results\\lab\\2024_09_25_BS_to_mirror'\n",
    "timestamp = datetime.datetime.now().strftime('%Y_%m_%d_%H_%M_%S')\n",
    "singles_signal_path = fr'{dir_path}\\{timestamp}_signal_initial_spots.scan'\n",
    "\n",
    "scanner = PhotonScanner(integration_time, start_x, start_y, x_pixels, y_pixels, pixel_size_x, pixel_size_y, is_timetagger=True, coin_window=2e-9, saveto_path=singles_signal_path)   \n",
    "_ = run_in_thread(scanner.scan, x_motor=mxs, y_motor=mys, ph=tt)"
   ],
   "id": "e304cb562d85afa6",
   "outputs": [
    {
     "data": {
      "text/plain": [
       "<IPython.core.display.HTML object>"
      ],
      "text/html": [
       "<pre>Moving to starting position...\n",
       "</pre>"
      ]
     },
     "metadata": {},
     "output_type": "display_data"
    }
   ],
   "execution_count": 9
  },
  {
   "metadata": {
    "ExecuteTime": {
     "end_time": "2024-09-25T10:18:32.559975Z",
     "start_time": "2024-09-25T10:18:32.252521Z"
    }
   },
   "cell_type": "code",
   "source": [
    "mimshow(scanner.single1s, vmax=3700)\n",
    "mimshow(scanner.single2s, vmax=1000)"
   ],
   "id": "b99b3295dae095a9",
   "outputs": [
    {
     "data": {
      "text/plain": [
       "(<Figure size 640x480 with 2 Axes>, <Axes: >)"
      ]
     },
     "execution_count": 98,
     "metadata": {},
     "output_type": "execute_result"
    }
   ],
   "execution_count": 98
  },
  {
   "metadata": {},
   "cell_type": "markdown",
   "source": [
    "# New WFM \n",
    "\n",
    "## with defocus distance and dead zone "
   ],
   "id": "1cc0fb3064e7e30f"
  },
  {
   "metadata": {
    "ExecuteTime": {
     "end_time": "2024-09-30T05:59:11.436446Z",
     "start_time": "2024-09-30T05:56:10.004316Z"
    }
   },
   "cell_type": "code",
   "source": [
    "all_Us_path = r\"G:\\My Drive\\Projects\\MPLC\\results\\lab\\2024_09_10_fixing_phases_different_Us\\for_ronen_Haar_800.mat\"\n",
    "all_Us = loadmat(all_Us_path)['U1_all']\n",
    "U_no = 1 \n",
    "dir_path = r'G:\\My Drive\\Projects\\MPLC\\results\\lab\\2024_09_25_BS_to_mirror'\n",
    "timestamp = datetime.datetime.now().strftime('%Y_%m_%d_%H_%M_%S')\n",
    "masks_path =    fr'{dir_path}\\{timestamp}_U1U.masks'\n",
    "mplc_res_path = fr'{dir_path}\\{timestamp}_U1U.mplcsim'\n",
    "mplc_sim = create_WFM_unitary_masks(all_Us[:, :, U_no], N_iterations=15, out_path=masks_path, dead_middle_zone=450e-6, last_plane_extra_dist=8.4e-3)\n",
    "mplc_sim.res.saveto(mplc_res_path, smaller=True)"
   ],
   "id": "9af7ff55763af0c3",
   "outputs": [
    {
     "name": "stdout",
     "output_type": "stream",
     "text": [
      "{'wavelength': 8.1e-07, 'dist_after_plane': array([0.087 , 0.087 , 0.087 , 0.087 , 0.138 , 0.087 , 0.087 , 0.087 ,\n",
      "       0.087 , 0.0954]), 'N_iterations': 15, 'Nx': 140, 'Ny': 360, 'dx': 1.25e-05, 'dy': 1.25e-05, 'max_k_constraint': 0.15, 'min_log_level': 2, 'size_factor': 3, 'use_mask_offset': True, 'symmetric_masks': False, 'active_planes': array([ True,  True,  True,  True,  True,  True,  True,  True,  True,\n",
      "        True,  True]), 'N_modes': 10}\n",
      "1\n"
     ]
    },
    {
     "name": "stderr",
     "output_type": "stream",
     "text": [
      "100%|██████████| 15/15 [02:45<00:00, 11.01s/it]\n"
     ]
    }
   ],
   "execution_count": 6
  },
  {
   "metadata": {
    "ExecuteTime": {
     "end_time": "2024-09-30T05:59:14.327699Z",
     "start_time": "2024-09-30T05:59:11.451759Z"
    }
   },
   "cell_type": "code",
   "source": "mplc_sim.res.show_overlap()",
   "id": "48fa839cee974c00",
   "outputs": [],
   "execution_count": 7
  },
  {
   "metadata": {
    "ExecuteTime": {
     "end_time": "2024-09-30T05:59:16.981042Z",
     "start_time": "2024-09-30T05:59:14.651395Z"
    }
   },
   "cell_type": "code",
   "source": [
    "mplc_sim.res._calc_fidelity()\n",
    "mplc_sim.res.fidelity"
   ],
   "id": "b1460b531cb3fe9",
   "outputs": [
    {
     "data": {
      "text/plain": [
       "0.9896838134848069"
      ]
     },
     "execution_count": 8,
     "metadata": {},
     "output_type": "execute_result"
    }
   ],
   "execution_count": 8
  },
  {
   "metadata": {
    "ExecuteTime": {
     "end_time": "2024-09-30T05:59:18.137567Z",
     "start_time": "2024-09-30T05:59:17.059076Z"
    }
   },
   "cell_type": "code",
   "source": "mplc_sim.res.show_all()",
   "id": "e69f0f25d708b865",
   "outputs": [],
   "execution_count": 9
  },
  {
   "metadata": {},
   "cell_type": "markdown",
   "source": "# mark spot locations ",
   "id": "10218bb6c38c8a5c"
  },
  {
   "metadata": {
    "ExecuteTime": {
     "end_time": "2024-10-06T09:25:57.540063Z",
     "start_time": "2024-10-06T09:25:13.176038Z"
    }
   },
   "cell_type": "code",
   "source": [
    "from pianoq_results.scan_result import ScanResult\n",
    "timestamp = datetime.datetime.now().strftime('%Y_%m_%d_%H_%M_%S')\n",
    "locs_signal_path = fr'{dir_path}\\{timestamp}_s2_sig_mirror_3.5.locs'\n",
    "locs_idler_path = fr'{dir_path}\\{timestamp}_s1_idl_mirror_3.5.locs'\n",
    "\n",
    "res_idl = ScanResult(fr'{dir_path}\\2024_10_06_12_06_17_idler_3_5_spots.scan')\n",
    "res_sig = ScanResult(fr'{dir_path}\\2024_10_06_12_07_31_signal_3_5_spots.scan')\n",
    "# res_idl.show_singles()\n",
    "# res_sig.show_singles()\n",
    "res_idl.get_xys(1, saveto_path=locs_idler_path)\n",
    "res_sig.get_xys(2, saveto_path=locs_signal_path)"
   ],
   "id": "3f488db2dba76b07",
   "outputs": [
    {
     "name": "stdout",
     "output_type": "stream",
     "text": [
      "Saved to G:\\My Drive\\Projects\\MPLC\\results\\lab\\2024_09_25_BS_to_mirror\\2024_10_06_12_25_13_s1_idl_mirror_3.5.locs\n",
      "Saved to G:\\My Drive\\Projects\\MPLC\\results\\lab\\2024_09_25_BS_to_mirror\\2024_10_06_12_25_13_s2_sig_mirror_3.5.locs\n"
     ]
    },
    {
     "data": {
      "text/plain": [
       "[(12.984470529470531, 7.019139194139194),\n",
       " (12.948240093240095, 6.8358558108558105),\n",
       " (12.937584082584083, 6.462895437895438),\n",
       " (12.897091242091243, 6.077147852147852),\n",
       " (12.869385614385616, 5.697793872793873)]"
      ]
     },
     "execution_count": 11,
     "metadata": {},
     "output_type": "execute_result"
    }
   ],
   "execution_count": 11
  },
  {
   "metadata": {},
   "cell_type": "markdown",
   "source": "# Phases",
   "id": "6c9a92961d08c12f"
  },
  {
   "metadata": {
    "ExecuteTime": {
     "end_time": "2024-10-06T10:07:18.510244Z",
     "start_time": "2024-10-06T09:32:48.090391Z"
    }
   },
   "cell_type": "code",
   "source": [
    "# masks \n",
    "# masks_path = r\"G:\\My Drive\\Projects\\MPLC\\results\\lab\\2024_09_25_BS_to_mirror\\2024_09_30_08_56_10_U1U.masks\"  # with dead zone \n",
    "# msks = MPLCMasks()\n",
    "# msks.loadfrom(masks_path)\n",
    "# masks = msks.real_masks\n",
    "# masks = remove_input_modes(masks, modes_to_keep=modes_to_keep)\n",
    "# mplc.load_masks(masks, linear_tilts=True, plane_10_tilts=35)\n",
    "\n",
    "timestamp = datetime.datetime.now().strftime('%Y_%m_%d_%H_%M_%S')\n",
    "phases_path = fr'{dir_path}\\{timestamp}_new_mirror.phases'\n",
    "integration_time = 20\n",
    "\n",
    "phases_result = PhaseFinderResult(fr\"{dir_path}\\2024_09_30_12_53_59_new_mirror.phases\")\n",
    "\n",
    "\n",
    "pf = PhaseFinder(mplc=mplc, integration_time=integration_time, remote_tagger=True, saveto_path=phases_path,\n",
    "                 modes_to_keep=modes_to_keep, intial_phases=phases_result.phases, coin_window=1e-9, no_hw_mode=True)\n",
    "\n",
    "pf.time_tagger = tt\n",
    "pf.time_tagger.set_integration_time(integration_time)\n",
    "\n",
    "# locs \n",
    "locs_sig = np.load(fr'{dir_path}\\2024_10_06_12_25_13_s2_sig_mirror_3.5.locs')['locs']\n",
    "locs_idl = np.load(fr'{dir_path}\\2024_10_06_12_25_13_s1_idl_mirror_3.5.locs')['locs']\n",
    "\n",
    "# i,j of corr matrix that is supposed to be strong \n",
    "i = 2\n",
    "j = 2\n",
    "mxi.move_absolute(locs_idl[i, 0])\n",
    "myi.move_absolute(locs_idl[i, 1])\n",
    "mxs.move_absolute(locs_sig[j, 0])\n",
    "mys.move_absolute(locs_sig[j, 1])        \n",
    "mplc.restore_location()\n",
    "time.sleep(1)\n",
    "pf.find_phases()"
   ],
   "id": "a5fbb5aeeff831d5",
   "outputs": [
    {
     "name": "stdout",
     "output_type": "stream",
     "text": [
      "0,0: 11142.8, 9004.2, 0.8\n",
      "0,1: 11213.0, 8996.5, 0.7\n",
      "0,2: 11140.5, 8981.6, 0.7\n",
      "0,3: 11122.4, 8935.1, 0.9\n",
      "0,4: 11145.1, 8958.0, 1.2\n",
      "0,5: 11157.0, 8915.4, 1.8\n",
      "0,6: 11137.5, 8623.6, 1.6\n",
      "0,7: 11216.4, 8970.7, 2.1\n",
      "0,8: 11235.2, 8999.5, 1.5\n",
      "0,9: 11214.6, 9023.6, 1.8\n",
      "1,0: 11191.5, 9026.8, 1.9\n",
      "1,1: 11242.6, 9090.1, 2.2\n",
      "1,2: 11253.8, 8921.4, 2.2\n",
      "1,3: 11238.1, 8917.6, 2.8\n",
      "1,4: 11276.6, 8962.9, 2.2\n",
      "1,5: 11218.4, 8979.1, 1.8\n",
      "1,6: 11243.7, 8949.0, 2.1\n",
      "1,7: 11264.9, 8989.8, 2.0\n",
      "1,8: 11229.2, 8994.8, 2.0\n",
      "1,9: 11283.8, 8970.1, 2.9\n",
      "2,0: 11278.7, 8794.3, 2.5\n",
      "2,1: 11346.2, 8816.6, 2.5\n",
      "2,2: 11298.0, 8890.1, 3.6\n",
      "2,3: 11260.4, 8941.3, 3.5\n",
      "2,4: 11277.9, 9039.8, 2.6\n",
      "2,5: 11297.0, 8539.2, 2.4\n",
      "2,6: 11316.2, 8312.1, 2.3\n",
      "2,7: 11267.2, 8453.6, 2.5\n",
      "2,8: 11325.0, 8847.4, 1.5\n",
      "2,9: 11315.6, 8844.5, 1.2\n",
      "3,0: 11298.9, 9008.6, 3.6\n",
      "3,1: 11337.7, 8880.6, 3.0\n",
      "3,2: 11334.7, 8639.1, 3.1\n",
      "3,3: 11358.1, 8436.1, 2.4\n",
      "3,4: 11313.4, 8518.9, 2.4\n",
      "3,5: 11360.9, 8620.9, 1.8\n",
      "3,6: 11330.2, 8823.6, 1.7\n",
      "3,7: 11318.8, 8949.4, 1.5\n",
      "3,8: 11399.5, 9067.6, 2.4\n",
      "3,9: 11389.2, 9158.3, 2.7\n",
      "4,0: 11359.1, 8937.8, 3.6\n",
      "4,1: 11364.9, 8910.9, 2.5\n",
      "4,2: 11386.4, 8939.8, 2.1\n",
      "4,3: 11350.3, 8923.0, 1.4\n",
      "4,4: 11383.8, 8892.6, 1.3\n",
      "4,5: 11384.0, 8454.8, 1.3\n",
      "4,6: 11362.8, 8729.9, 1.8\n",
      "4,7: 11392.5, 8921.3, 2.9\n",
      "4,8: 11375.7, 8922.8, 3.1\n",
      "4,9: 11406.4, 8968.8, 3.9\n",
      "5,0: 11388.1, 8931.0, 3.8\n",
      "5,1: 11366.4, 8985.3, 3.8\n",
      "5,2: 11340.1, 8951.4, 4.8\n",
      "5,3: 10739.0, 8942.9, 2.8\n",
      "5,4: 11157.2, 8961.5, 3.5\n",
      "5,5: 11182.5, 8945.5, 2.3\n",
      "5,6: 11361.9, 8931.9, 1.6\n",
      "5,7: 11398.6, 8944.9, 1.6\n",
      "5,8: 11401.1, 8996.7, 2.5\n",
      "5,9: 11464.6, 8981.1, 3.2\n",
      "6,0: 11401.9, 8983.2, 4.0\n",
      "6,1: 11366.2, 8995.6, 4.8\n",
      "6,2: 11584.1, 8962.3, 4.5\n",
      "6,3: 11530.7, 8978.0, 4.0\n",
      "6,4: 11585.4, 8954.2, 4.4\n",
      "6,5: 11623.9, 8965.8, 4.8\n",
      "6,6: 11708.2, 8966.2, 4.0\n",
      "6,7: 11730.3, 9006.0, 5.1\n",
      "6,8: 11683.1, 8991.4, 4.4\n",
      "6,9: 11674.1, 9020.1, 4.5\n",
      "7,0: 11708.9, 9022.6, 4.2\n",
      "7,1: 11779.7, 9006.1, 3.5\n",
      "7,2: 11897.1, 9014.6, 2.7\n",
      "7,3: 11905.8, 8986.8, 1.9\n",
      "7,4: 11636.5, 9055.0, 1.6\n",
      "7,5: 11050.7, 8983.3, 1.9\n",
      "7,6: 10863.6, 9039.8, 2.8\n",
      "7,7: 11895.2, 8968.1, 3.1\n",
      "7,8: 11774.9, 9016.2, 3.4\n",
      "7,9: 11749.8, 9039.1, 4.2\n",
      "8,0: 11739.0, 8993.6, 4.0\n",
      "8,1: 11774.4, 9012.2, 3.5\n",
      "8,2: 11697.6, 8979.8, 3.2\n",
      "8,3: 11381.7, 9006.6, 2.2\n",
      "8,4: 10557.7, 9059.4, 1.5\n",
      "8,5: 10612.3, 8977.0, 1.3\n",
      "8,6: 11415.1, 9050.6, 1.6\n",
      "8,7: 11379.4, 8961.8, 2.6\n",
      "8,8: 11428.9, 9008.0, 3.2\n",
      "8,9: 11675.6, 9031.4, 4.8\n",
      "9,0: 11771.3, 9038.8, 4.0\n",
      "9,1: 11778.2, 8994.6, 5.7\n",
      "9,2: 11749.6, 9047.4, 4.5\n",
      "9,3: 10729.4, 9082.0, 3.0\n",
      "9,4: 11240.0, 8998.4, 2.3\n",
      "9,5: 11686.8, 9002.0, 1.4\n",
      "9,6: 11794.9, 9042.9, 1.2\n",
      "9,7: 11807.2, 9018.8, 2.7\n",
      "9,8: 11776.5, 9029.9, 2.8\n",
      "9,9: 11799.8, 9018.6, 3.6\n"
     ]
    }
   ],
   "execution_count": 20
  },
  {
   "metadata": {},
   "cell_type": "markdown",
   "source": "# Correlations",
   "id": "41ec21ecfb84e2b"
  },
  {
   "metadata": {
    "ExecuteTime": {
     "end_time": "2024-10-06T10:13:01.093971Z",
     "start_time": "2024-10-06T10:12:59.980758Z"
    }
   },
   "cell_type": "code",
   "source": [
    "from pianoq.lab.mplc.phase_finder_result import PhaseFinderResult\n",
    "from pianoq.lab.mplc.discrete_photon_scanner import DiscretePhotonScanner\n",
    "from pianoq.simulations.mplc_sim.mplc_sim_result import MPLCMasks\n",
    "from pianoq.lab.mplc.mask_utils import remove_input_modes, add_phase_input_spots\n",
    "from pianoq.lab.mplc.mplc_device import MPLCDevice\n",
    "import glob\n",
    "import time \n",
    "\n",
    "backlash = 0.0\n",
    "wait_after_move = 0.3\n",
    "integration_time = 4\n",
    "coin_window = 1.2e-9\n",
    "timestamp = datetime.datetime.now().strftime('%Y_%m_%d_%H_%M_%S')\n",
    "\n",
    "scan_path = fr'{dir_path}\\{timestamp}.dscan'\n",
    "\n",
    "# locs_sig = np.load(fr'{dir_path}\\2024_09_30_12_30_05_s2_sig_mirror.locs')['locs']\n",
    "# locs_idl = np.load(fr'{dir_path}\\2024_09_30_12_30_05_s1_idl_mirror.locs')['locs']\n",
    "\n",
    "locs_sig = np.load(fr'{dir_path}\\2024_10_06_12_25_13_s2_sig_mirror_3.5.locs')['locs']\n",
    "locs_idl = np.load(fr'{dir_path}\\2024_10_06_12_25_13_s1_idl_mirror_3.5.locs')['locs']\n",
    "\n",
    "dps = DiscretePhotonScanner(locs_sig, locs_idl, integration_time=integration_time, remote_tagger=True, saveto_path=scan_path,\n",
    "                            backlash=backlash, wait_after_move=wait_after_move, coin_window=coin_window, no_hw_mode=True)\n",
    "# dps.zaber_ms = zaber_ms\n",
    "dps.m_sig_x = mxs\n",
    "dps.m_sig_y = mys\n",
    "dps.m_idl_x = mxi\n",
    "dps.m_idl_y = myi\n",
    "dps.time_tagger = tt\n",
    "dps.time_tagger.set_integration_time(integration_time)\n",
    "time.sleep(1)\n",
    "\n",
    "phases_result = PhaseFinderResult(fr\"{dir_path}\\2024_10_06_12_32_48_new_mirror.phases\")\n",
    "# phases_result = PhaseFinderResult(r\"G:\\My Drive\\Projects\\MPLC\\results\\lab\\2024_09_10_fixing_phases_different_Us\\U1U_2024_09_10_23_39_17.phases\")\n",
    "\n",
    "# masks \n",
    "# masks_path = r\"G:\\My Drive\\Projects\\MPLC\\results\\lab\\2024_09_25_BS_to_mirror\\2024_09_30_08_56_10_U1U.masks\"  # with dead zone \n",
    "# msks = MPLCMasks()\n",
    "# msks.loadfrom(masks_path)\n",
    "# masks = msks.real_masks\n",
    "# masks = remove_input_modes(masks, modes_to_keep=modes_to_keep)\n",
    "# mplc.restore_location()\n",
    "# masks = add_phase_input_spots(masks, phases_result.phases)\n",
    "# mplc.load_masks(masks)\n",
    "# \n",
    "# mplc.restore_location()"
   ],
   "id": "14bbc203e3f37467",
   "outputs": [],
   "execution_count": 25
  },
  {
   "metadata": {
    "ExecuteTime": {
     "end_time": "2024-10-06T10:15:57.509915Z",
     "start_time": "2024-10-06T10:13:03.147036Z"
    }
   },
   "cell_type": "code",
   "source": "dps.scan()",
   "id": "7e0b07187ba658",
   "outputs": [
    {
     "name": "stdout",
     "output_type": "stream",
     "text": [
      "beginning scan\n",
      "0, 0: 356.50, 1244.75, 0.00\n",
      "0, 1: 325.50, 6667.75, 0.00\n",
      "0, 2: 343.25, 9003.00, 0.00\n",
      "0, 3: 327.25, 5805.25, 0.00\n",
      "0, 4: 352.75, 6687.75, 0.00\n",
      "1, 0: 5168.00, 1209.50, 0.00\n",
      "1, 1: 5282.50, 6632.75, 0.25\n",
      "1, 2: 5237.25, 8984.50, 0.25\n",
      "1, 3: 5203.00, 5784.50, 0.25\n",
      "1, 4: 5280.00, 6687.25, 0.00\n",
      "2, 0: 11787.25, 1260.00, 0.00\n",
      "2, 1: 11615.00, 6614.50, 0.00\n",
      "2, 2: 11757.00, 8972.50, 3.75\n",
      "2, 3: 11722.25, 5843.50, 1.25\n",
      "2, 4: 11758.25, 6721.75, 1.00\n",
      "3, 0: 8071.25, 1252.75, 0.00\n",
      "3, 1: 8114.00, 6574.25, 0.75\n",
      "3, 2: 8060.75, 9023.75, 0.00\n",
      "3, 3: 8165.25, 5787.50, 1.00\n",
      "3, 4: 8133.25, 6751.00, 0.00\n",
      "4, 0: 12292.25, 1218.00, 0.00\n",
      "4, 1: 12375.00, 6523.25, 1.00\n",
      "4, 2: 12384.25, 8984.25, 0.75\n",
      "4, 3: 12416.00, 5827.50, 1.00\n",
      "4, 4: 12361.25, 6671.50, 1.75\n"
     ]
    }
   ],
   "execution_count": 26
  },
  {
   "metadata": {
    "ExecuteTime": {
     "end_time": "2024-10-06T09:24:10.650834Z",
     "start_time": "2024-10-06T09:24:10.560077Z"
    }
   },
   "cell_type": "code",
   "source": [
    "display(locs_idl)\n",
    "display(locs_sig)"
   ],
   "id": "8c1725c3d116a13f",
   "outputs": [
    {
     "data": {
      "text/plain": [
       "array([[9.25707792, 3.68295871],\n",
       "       [9.29104396, 4.05432068],\n",
       "       [9.30689477, 4.44606227],\n",
       "       [9.34086081, 4.80383783],\n",
       "       [9.36803363, 5.06650849]])"
      ]
     },
     "metadata": {},
     "output_type": "display_data"
    },
    {
     "data": {
      "text/plain": [
       "array([[12.6541342 ,  7.01487679],\n",
       "       [12.94610889,  6.84651182],\n",
       "       [12.93758408,  6.45863303],\n",
       "       [12.89282884,  6.07714785],\n",
       "       [12.86938561,  5.70205628]])"
      ]
     },
     "metadata": {},
     "output_type": "display_data"
    }
   ],
   "execution_count": 9
  },
  {
   "metadata": {
    "ExecuteTime": {
     "end_time": "2024-10-06T10:15:57.855766Z",
     "start_time": "2024-10-06T10:15:57.536142Z"
    }
   },
   "cell_type": "code",
   "source": [
    "dps.res.show_singles()\n",
    "dps.res.show()"
   ],
   "id": "2540eed967d37813",
   "outputs": [],
   "execution_count": 27
  },
  {
   "metadata": {
    "ExecuteTime": {
     "end_time": "2024-09-30T09:26:31.862025Z",
     "start_time": "2024-09-30T09:26:30.818044Z"
    }
   },
   "cell_type": "code",
   "source": [
    "mxi.move_absolute(9.3)\n",
    "myi.move_absolute(3.90)\n",
    "print(mxi.get_position())\n",
    "print(myi.get_position())"
   ],
   "id": "6ae0ef06feddacaa",
   "outputs": [
    {
     "name": "stdout",
     "output_type": "stream",
     "text": [
      "9.30005\n",
      "3.9\n"
     ]
    }
   ],
   "execution_count": 34
  },
  {
   "metadata": {
    "ExecuteTime": {
     "end_time": "2024-09-30T09:27:44.797865Z",
     "start_time": "2024-09-30T09:27:43.953466Z"
    }
   },
   "cell_type": "code",
   "source": [
    "mxs.move_absolute(12.875)\n",
    "mys.move_absolute(5.22)\n",
    "print(mxs.get_position())\n",
    "print(mys.get_position())"
   ],
   "id": "c2c734123aa2e01a",
   "outputs": [
    {
     "name": "stdout",
     "output_type": "stream",
     "text": [
      "12.874990125000002\n",
      "5.21998575\n"
     ]
    }
   ],
   "execution_count": 42
  }
 ],
 "metadata": {
  "kernelspec": {
   "display_name": "Python 3",
   "language": "python",
   "name": "python3"
  },
  "language_info": {
   "codemirror_mode": {
    "name": "ipython",
    "version": 2
   },
   "file_extension": ".py",
   "mimetype": "text/x-python",
   "name": "python",
   "nbconvert_exporter": "python",
   "pygments_lexer": "ipython2",
   "version": "2.7.6"
  }
 },
 "nbformat": 4,
 "nbformat_minor": 5
}
