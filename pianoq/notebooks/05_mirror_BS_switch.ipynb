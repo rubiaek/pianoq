{
 "cells": [
  {
   "metadata": {
    "ExecuteTime": {
     "end_time": "2024-09-29T08:05:12.369767Z",
     "start_time": "2024-09-29T08:05:10.608896Z"
    }
   },
   "cell_type": "code",
   "source": [
    "from future.backports.datetime import datetime\n",
    "from misc.misc import run_in_thread\n",
    "%load_ext autoreload\n",
    "%autoreload 2\n",
    "import matplotlib\n",
    "matplotlib.use('TKAgg')\n",
    "from pianoq.lab.mplc.mask_aligner import MPLCAligner\n",
    "from pianoq.lab.pco_camera import PCOCamera\n",
    "from pianoq.simulations.mplc_sim.mplc_sim_result import MPLCMasks\n",
    "from pianoq.lab.mplc.mplc_device import MPLCDevice\n",
    "import os \n",
    "import datetime\n",
    "import time \n",
    "dir_path = r'G:\\My Drive\\Projects\\MPLC\\results\\lab\\2024_09_25_BS_to_mirror'\n",
    "if not os.path.exists(dir_path):\n",
    "    os.mkdir(dir_path)"
   ],
   "id": "34f89fdcf97becfe",
   "outputs": [
    {
     "name": "stdout",
     "output_type": "stream",
     "text": [
      "The autoreload extension is already loaded. To reload it, use:\n",
      "  %reload_ext autoreload\n"
     ]
    }
   ],
   "execution_count": 2
  },
  {
   "metadata": {},
   "cell_type": "markdown",
   "source": "# Camera things",
   "id": "550e4b3d91ecab1b"
  },
  {
   "metadata": {
    "ExecuteTime": {
     "end_time": "2024-09-25T07:50:09.305765Z",
     "start_time": "2024-09-25T07:50:04.255890Z"
    }
   },
   "cell_type": "code",
   "source": [
    "cam = PCOCamera()\n",
    "cam.set_exposure_time(0.5)\n",
    "\n",
    "ml = MPLCAligner(use_cam=False)\n",
    "ml.update('1to5w4f', '5to11w8', pi_steps_x=[0], pi_steps_plane=1)"
   ],
   "id": "c24a262551167e95",
   "outputs": [],
   "execution_count": 4
  },
  {
   "metadata": {
    "ExecuteTime": {
     "end_time": "2024-09-25T08:17:45.861299Z",
     "start_time": "2024-09-25T08:17:44.346068Z"
    }
   },
   "cell_type": "code",
   "source": [
    "from pianoq.lab.scripts.live_camera import live_cam\n",
    "roi=(750, 350, 1200, 850)\n",
    "live_cam(cam, roi=roi)"
   ],
   "id": "6ee5e917013e17df",
   "outputs": [],
   "execution_count": 47
  },
  {
   "metadata": {
    "ExecuteTime": {
     "end_time": "2024-09-25T08:15:42.604993Z",
     "start_time": "2024-09-25T08:15:41.084642Z"
    }
   },
   "cell_type": "code",
   "source": [
    "roi=(750, 350, 1200, 850)\n",
    "cam.show_image(roi=roi)"
   ],
   "id": "5a0142f9b27f1498",
   "outputs": [
    {
     "data": {
      "text/plain": [
       "(<Figure size 640x480 with 1 Axes>, <Axes: >)"
      ]
     },
     "execution_count": 42,
     "metadata": {},
     "output_type": "execute_result"
    }
   ],
   "execution_count": 42
  },
  {
   "metadata": {
    "ExecuteTime": {
     "end_time": "2024-09-25T08:18:56.611493Z",
     "start_time": "2024-09-25T08:18:53.737566Z"
    }
   },
   "cell_type": "code",
   "source": [
    "roi=(750, 350, 1200, 850)\n",
    "name = 'U1_best.fits'\n",
    "cam.save_image(path=rf'{dir_path}\\{name}', roi=roi)\n",
    "cam.show_image(roi=roi)"
   ],
   "id": "5b0505b1359091a7",
   "outputs": [
    {
     "data": {
      "text/plain": [
       "(<Figure size 640x480 with 1 Axes>, <Axes: >)"
      ]
     },
     "execution_count": 48,
     "metadata": {},
     "output_type": "execute_result"
    }
   ],
   "execution_count": 48
  },
  {
   "metadata": {},
   "cell_type": "code",
   "outputs": [],
   "execution_count": null,
   "source": [
    "timestamp = datetime.datetime.now().strftime('%Y_%m_%d_%H_%M_%S')\n",
    "path = rf'{dir_path}\\{timestamp}_{name}.cam'\n",
    "cam.save_image(path)"
   ],
   "id": "3609403bc3e68c96"
  },
  {
   "metadata": {},
   "cell_type": "code",
   "outputs": [],
   "execution_count": null,
   "source": "cam.close()",
   "id": "dd9014e207720a0c"
  },
  {
   "metadata": {},
   "cell_type": "markdown",
   "source": "# MPLC ",
   "id": "ee7970bf1de8f934"
  },
  {
   "metadata": {
    "ExecuteTime": {
     "end_time": "2024-09-29T11:33:22.428127Z",
     "start_time": "2024-09-29T11:33:19.015651Z"
    }
   },
   "cell_type": "code",
   "source": [
    "import glob \n",
    "from pianoq.lab.mplc.mask_utils import remove_input_modes, add_phase_input_spots\n",
    "import numpy as np \n",
    "modes_to_keep = np.array([3, 8, 13, 18, 23, 28, 33, 38, 43, 48])\n",
    "\n",
    "mplc = MPLCDevice()\n",
    "mplc.restore_location()\n",
    "print('Got MPLC')\n",
    "# masks_path = r\"G:\\My Drive\\Projects\\MPLC\\results\\lab\\2024_09_25_BS_to_mirror\\2024_09_10_14_00_34_old.masks\"\n",
    "# masks_path = r\"G:\\My Drive\\Projects\\MPLC\\results\\lab\\2024_09_25_BS_to_mirror\\2024_09_25_13_19_15_extra_1cm.masks\"\n",
    "# masks_path = r\"G:\\My Drive\\Projects\\MPLC\\results\\lab\\2024_09_17_first_diffuser\\2024_09_17_12_19_58_diffuser_d1d.masks\"\n",
    "masks_path = r\"G:\\My Drive\\Projects\\MPLC\\results\\lab\\2024_09_25_BS_to_mirror\\2024_09_29_14_27_10_U1U.masks\"  # with dead zone \n",
    "\n",
    "msks = MPLCMasks()\n",
    "msks.loadfrom(masks_path)\n",
    "masks = msks.real_masks\n",
    "masks = remove_input_modes(masks, modes_to_keep=modes_to_keep)\n",
    "phases = np.random.uniform(0, 2*np.pi, size=50)\n",
    "masks = add_phase_input_spots(masks, phases)\n",
    "mplc.load_masks(masks, linear_tilts=True, plane_10_tilts=None)\n",
    "mplc.restore_location()"
   ],
   "id": "512a96d3e662ccb3",
   "outputs": [
    {
     "name": "stdout",
     "output_type": "stream",
     "text": [
      "Got MPLC\n"
     ]
    }
   ],
   "execution_count": 10
  },
  {
   "metadata": {},
   "cell_type": "markdown",
   "source": "# motors - actually now use in separate notebook",
   "id": "94fbb401dbf3f514"
  },
  {
   "metadata": {
    "ExecuteTime": {
     "end_time": "2024-09-29T05:47:07.533747Z",
     "start_time": "2024-09-29T05:46:58.800551Z"
    }
   },
   "cell_type": "code",
   "source": [
    "backlash = 0\n",
    "wait_after_move = 0.3\n",
    "from pianoq.lab.mplc.consts import thorlabs_x_serial, thorlabs_y_serial\n",
    "from pianoq.lab.thorlabs_motor import ThorlabsKcubeDC, ThorlabsKcubeStepper\n",
    "from pianoq.lab.zaber_motor import ZaberMotors\n",
    "zaber_ms = ZaberMotors(backlash=backlash, wait_after_move=wait_after_move)\n",
    "mxs = zaber_ms.motors[1]\n",
    "mys = zaber_ms.motors[0]\n",
    "print('Got Zaber motors')\n",
    "\n",
    "mxi = ThorlabsKcubeDC(thorlabs_x_serial, backlash=backlash, wait_after_move=wait_after_move)\n",
    "myi = ThorlabsKcubeStepper(thorlabs_y_serial, backlash=backlash, wait_after_move=wait_after_move)\n",
    "print('Got Thorlabs motors')"
   ],
   "id": "b6cb7c727c6c4758",
   "outputs": [
    {
     "name": "stdout",
     "output_type": "stream",
     "text": [
      "Got Zaber motors\n",
      "Got Thorlabs motors\n"
     ]
    }
   ],
   "execution_count": 3
  },
  {
   "metadata": {
    "ExecuteTime": {
     "end_time": "2024-09-26T13:18:38.809729Z",
     "start_time": "2024-09-26T13:18:37.115370Z"
    }
   },
   "cell_type": "code",
   "source": [
    "mxi.move_absolute(9.30)\n",
    "myi.move_absolute(4.05)\n",
    "print(mxi.get_position())\n",
    "print(myi.get_position())"
   ],
   "id": "c0facc75e0f0f676",
   "outputs": [
    {
     "name": "stdout",
     "output_type": "stream",
     "text": [
      "9.3001\n",
      "4.05\n"
     ]
    }
   ],
   "execution_count": 131
  },
  {
   "metadata": {
    "ExecuteTime": {
     "end_time": "2024-09-26T13:20:48.371138Z",
     "start_time": "2024-09-26T13:20:47.934168Z"
    }
   },
   "cell_type": "code",
   "source": [
    "mxs.move_absolute(13.03)\n",
    "mys.move_absolute(6.45)\n",
    "print(mxs.get_position())\n",
    "print(mys.get_position())"
   ],
   "id": "33c63cf3388caf65",
   "outputs": [
    {
     "name": "stdout",
     "output_type": "stream",
     "text": [
      "13.0300095\n",
      "6.449996625\n"
     ]
    }
   ],
   "execution_count": 142
  },
  {
   "metadata": {
    "ExecuteTime": {
     "end_time": "2024-09-25T12:47:14.563953Z",
     "start_time": "2024-09-25T12:47:14.265603Z"
    }
   },
   "cell_type": "code",
   "source": "myi.move_relative(0.01)",
   "id": "cccacdd17d89906f",
   "outputs": [],
   "execution_count": 147
  },
  {
   "metadata": {
    "ExecuteTime": {
     "end_time": "2024-09-29T05:49:14.436866Z",
     "start_time": "2024-09-29T05:49:14.341477Z"
    }
   },
   "cell_type": "code",
   "source": [
    "print(mxi.get_position()) # 9.2701\n",
    "print(myi.get_position()) # 3.3100"
   ],
   "id": "52c3a974c63b76e2",
   "outputs": [
    {
     "name": "stdout",
     "output_type": "stream",
     "text": [
      "9.3\n",
      "4.05\n"
     ]
    }
   ],
   "execution_count": 4
  },
  {
   "metadata": {},
   "cell_type": "markdown",
   "source": [
    "BS\n",
    "- best idler: ~9K\n",
    "- best signal: ~8.3K \n",
    "\n",
    "Mirror:\n",
    "- best idler: \n",
    "- best signal: \n"
   ],
   "id": "1d75a7f91b5054b8"
  },
  {
   "metadata": {},
   "cell_type": "markdown",
   "source": "## Scans to see what happened ",
   "id": "48a20306edb64e2d"
  },
  {
   "metadata": {
    "ExecuteTime": {
     "end_time": "2024-09-29T05:50:44.492642Z",
     "start_time": "2024-09-29T05:50:44.377522Z"
    }
   },
   "cell_type": "code",
   "source": [
    "# Timetagger\n",
    "from pianoq.lab.time_tagger import QPTimeTagger\n",
    "from pianoq.lab.mplc.consts import TIMETAGGER_DELAYS, TIMETAGGER_COIN_WINDOW\n",
    "tt = QPTimeTagger(integration_time=1, remote=True,\n",
    "                  single_channel_delays=TIMETAGGER_DELAYS, coin_window=TIMETAGGER_COIN_WINDOW)"
   ],
   "id": "5df2637dfc14abf",
   "outputs": [],
   "execution_count": 7
  },
  {
   "metadata": {},
   "cell_type": "markdown",
   "source": "### idler scan",
   "id": "ef2b217faaeecb02"
  },
  {
   "metadata": {
    "ExecuteTime": {
     "end_time": "2024-09-29T05:50:46.705443Z",
     "start_time": "2024-09-29T05:50:46.597971Z"
    }
   },
   "cell_type": "code",
   "source": [
    "from pianoq.lab.photon_scan import PhotonScanner\n",
    "from pianoq.misc.misc import run_in_thread\n",
    "\n",
    "integration_time = 1\n",
    "start_x = 8.9\n",
    "end_x = 9.6\n",
    "start_y = 2.7\n",
    "end_y = 5.2\n",
    "\n",
    "mxi.wait_after_move = 0\n",
    "myi.wait_after_move = 0\n",
    "# start_x = 8.5\n",
    "# end_x = 9.5\n",
    "# start_y = 2\n",
    "# end_y = 4\n",
    "\n",
    "resolution = 1 \n",
    "x_pixels = 14 // resolution\n",
    "y_pixels = 30 // resolution\n",
    "pixel_size_x = 0.05 * resolution\n",
    "pixel_size_y = 0.05 * resolution\n",
    "\n",
    "timestamp = datetime.datetime.now().strftime('%Y_%m_%d_%H_%M_%S')\n",
    "\n",
    "dir_path = r'G:\\My Drive\\Projects\\MPLC\\results\\lab\\2024_09_25_BS_to_mirror'\n",
    "timestamp = datetime.datetime.now().strftime('%Y_%m_%d_%H_%M_%S')\n",
    "singles_idler_path = fr'{dir_path}\\{timestamp}_idler_6_spots_again.scan'\n",
    "\n",
    "scanner = PhotonScanner(integration_time, start_x, start_y, x_pixels, y_pixels, pixel_size_x, pixel_size_y, is_timetagger=True, coin_window=2e-9, saveto_path=singles_idler_path)   \n",
    "_ = run_in_thread(scanner.scan, x_motor=mxi, y_motor=myi, ph=tt)"
   ],
   "id": "689f63f15ea83f28",
   "outputs": [
    {
     "data": {
      "text/plain": [
       "<IPython.core.display.HTML object>"
      ],
      "text/html": [
       "<pre>Moving to starting position...\n",
       "</pre>"
      ]
     },
     "metadata": {},
     "output_type": "display_data"
    }
   ],
   "execution_count": 8
  },
  {
   "metadata": {},
   "cell_type": "markdown",
   "source": "### signal scan",
   "id": "37ad890444b4b53b"
  },
  {
   "metadata": {
    "ExecuteTime": {
     "end_time": "2024-09-29T05:51:34.708834Z",
     "start_time": "2024-09-29T05:51:34.617584Z"
    }
   },
   "cell_type": "code",
   "source": [
    "from pianoq.lab.photon_scan import PhotonScanner\n",
    "from pianoq.misc.misc import run_in_thread\n",
    "\n",
    "integration_time = 1\n",
    "start_x = 12.65\n",
    "end_x = 13.35\n",
    "start_y = 5.5\n",
    "end_y = 8\n",
    "\n",
    "mxs.wait_after_move = 0.1\n",
    "mys.wait_after_move = 0.1\n",
    "\n",
    "resolution = 1 \n",
    "x_pixels = 14 // resolution\n",
    "y_pixels = 50 // resolution\n",
    "pixel_size_x = 0.05 * resolution\n",
    "pixel_size_y = 0.05 * resolution\n",
    "\n",
    "timestamp = datetime.datetime.now().strftime('%Y_%m_%d_%H_%M_%S')\n",
    "\n",
    "dir_path = r'G:\\My Drive\\Projects\\MPLC\\results\\lab\\2024_09_25_BS_to_mirror'\n",
    "timestamp = datetime.datetime.now().strftime('%Y_%m_%d_%H_%M_%S')\n",
    "singles_signal_path = fr'{dir_path}\\{timestamp}_signal_initial_spots.scan'\n",
    "\n",
    "scanner = PhotonScanner(integration_time, start_x, start_y, x_pixels, y_pixels, pixel_size_x, pixel_size_y, is_timetagger=True, coin_window=2e-9, saveto_path=singles_signal_path)   \n",
    "_ = run_in_thread(scanner.scan, x_motor=mxs, y_motor=mys, ph=tt)"
   ],
   "id": "e304cb562d85afa6",
   "outputs": [
    {
     "data": {
      "text/plain": [
       "<IPython.core.display.HTML object>"
      ],
      "text/html": [
       "<pre>Moving to starting position...\n",
       "</pre>"
      ]
     },
     "metadata": {},
     "output_type": "display_data"
    }
   ],
   "execution_count": 9
  },
  {
   "metadata": {
    "ExecuteTime": {
     "end_time": "2024-09-25T10:18:32.559975Z",
     "start_time": "2024-09-25T10:18:32.252521Z"
    }
   },
   "cell_type": "code",
   "source": [
    "from pianoq.misc.mplt import mimshow\n",
    "mimshow(scanner.single1s, vmax=3700)\n",
    "mimshow(scanner.single2s, vmax=1000)"
   ],
   "id": "b99b3295dae095a9",
   "outputs": [
    {
     "data": {
      "text/plain": [
       "(<Figure size 640x480 with 2 Axes>, <Axes: >)"
      ]
     },
     "execution_count": 98,
     "metadata": {},
     "output_type": "execute_result"
    }
   ],
   "execution_count": 98
  },
  {
   "metadata": {},
   "cell_type": "markdown",
   "source": [
    "# New WFM \n",
    "\n",
    "## with defocus distance and dead zone "
   ],
   "id": "1cc0fb3064e7e30f"
  },
  {
   "metadata": {
    "ExecuteTime": {
     "end_time": "2024-09-29T11:30:13.206376Z",
     "start_time": "2024-09-29T11:27:09.507345Z"
    }
   },
   "cell_type": "code",
   "source": [
    "import datetime\n",
    "from pianoq.simulations.mplc_sim.create_wfm_masks import create_WFM_unitary_masks\n",
    "from scipy.io import loadmat\n",
    "all_Us_path = r\"G:\\My Drive\\Projects\\MPLC\\results\\lab\\2024_09_10_fixing_phases_different_Us\\for_ronen_Haar_800.mat\"\n",
    "all_Us = loadmat(all_Us_path)['U1_all']\n",
    "U_no = 1 \n",
    "dir_path = r'G:\\My Drive\\Projects\\MPLC\\results\\lab\\2024_09_25_BS_to_mirror'\n",
    "timestamp = datetime.datetime.now().strftime('%Y_%m_%d_%H_%M_%S')\n",
    "masks_path =    fr'{dir_path}\\{timestamp}_U1U.masks'\n",
    "mplc_res_path = fr'{dir_path}\\{timestamp}_U1U.mplcsim'\n",
    "mplc_sim = create_WFM_unitary_masks(all_Us[:, :, U_no], N_iterations=15, out_path=masks_path, dead_middle_zone=400e-6, last_plane_extra_dist=8.4e-3)\n",
    "mplc_sim.res.saveto(mplc_res_path, smaller=True)"
   ],
   "id": "9af7ff55763af0c3",
   "outputs": [
    {
     "name": "stdout",
     "output_type": "stream",
     "text": [
      "{'wavelength': 8.1e-07, 'dist_after_plane': array([0.087 , 0.087 , 0.087 , 0.087 , 0.138 , 0.087 , 0.087 , 0.087 ,\n",
      "       0.087 , 0.0954]), 'N_iterations': 15, 'Nx': 140, 'Ny': 360, 'dx': 1.25e-05, 'dy': 1.25e-05, 'max_k_constraint': 0.15, 'min_log_level': 2, 'size_factor': 3, 'use_mask_offset': True, 'symmetric_masks': False, 'active_planes': array([ True,  True,  True,  True,  True,  True,  True,  True,  True,\n",
      "        True,  True]), 'N_modes': 10}\n"
     ]
    },
    {
     "name": "stderr",
     "output_type": "stream",
     "text": [
      "100%|██████████| 15/15 [02:46<00:00, 11.11s/it]\n"
     ]
    }
   ],
   "execution_count": 2
  },
  {
   "metadata": {
    "ExecuteTime": {
     "end_time": "2024-09-29T11:31:04.675963Z",
     "start_time": "2024-09-29T11:31:02.053551Z"
    }
   },
   "cell_type": "code",
   "source": "mplc_sim.res.show_overlap()",
   "id": "48fa839cee974c00",
   "outputs": [],
   "execution_count": 4
  },
  {
   "metadata": {
    "ExecuteTime": {
     "end_time": "2024-09-29T11:30:59.612655Z",
     "start_time": "2024-09-29T11:30:57.109286Z"
    }
   },
   "cell_type": "code",
   "source": [
    "mplc_sim.res._calc_fidelity()\n",
    "mplc_sim.res.fidelity"
   ],
   "id": "b1460b531cb3fe9",
   "outputs": [
    {
     "data": {
      "text/plain": [
       "0.9820218238943831"
      ]
     },
     "execution_count": 3,
     "metadata": {},
     "output_type": "execute_result"
    }
   ],
   "execution_count": 3
  },
  {
   "metadata": {
    "ExecuteTime": {
     "end_time": "2024-09-29T11:31:26.393634Z",
     "start_time": "2024-09-29T11:31:25.410422Z"
    }
   },
   "cell_type": "code",
   "source": "mplc_sim.res.show_all()",
   "id": "e69f0f25d708b865",
   "outputs": [],
   "execution_count": 5
  }
 ],
 "metadata": {
  "kernelspec": {
   "display_name": "Python 3",
   "language": "python",
   "name": "python3"
  },
  "language_info": {
   "codemirror_mode": {
    "name": "ipython",
    "version": 2
   },
   "file_extension": ".py",
   "mimetype": "text/x-python",
   "name": "python",
   "nbconvert_exporter": "python",
   "pygments_lexer": "ipython2",
   "version": "2.7.6"
  }
 },
 "nbformat": 4,
 "nbformat_minor": 5
}
