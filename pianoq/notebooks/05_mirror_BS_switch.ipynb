{
 "cells": [
  {
   "metadata": {
    "ExecuteTime": {
     "end_time": "2024-10-07T19:22:38.765108Z",
     "start_time": "2024-10-07T19:22:30.118020Z"
    }
   },
   "cell_type": "code",
   "source": [
    "from pianoq.misc.mplc_lab_imports import *  \n",
    "\n",
    "dir_path = r'G:\\My Drive\\Projects\\MPLC\\results\\lab\\2024_09_25_BS_to_mirror'\n",
    "if not os.path.exists(dir_path):\n",
    "    os.mkdir(dir_path)"
   ],
   "id": "34f89fdcf97becfe",
   "outputs": [],
   "execution_count": 2
  },
  {
   "metadata": {},
   "cell_type": "markdown",
   "source": "# Camera things",
   "id": "550e4b3d91ecab1b"
  },
  {
   "metadata": {
    "ExecuteTime": {
     "end_time": "2024-10-07T06:32:04.160203Z",
     "start_time": "2024-10-07T06:31:59.413335Z"
    }
   },
   "cell_type": "code",
   "source": [
    "cam = PCOCamera()\n",
    "cam.set_exposure_time(0.5)\n",
    "\n",
    "# ml = MPLCAligner(use_cam=False)\n",
    "# ml.update('1to5w4f', '5to11w8', pi_steps_x=[0], pi_steps_plane=1)"
   ],
   "id": "c24a262551167e95",
   "outputs": [],
   "execution_count": 44
  },
  {
   "metadata": {
    "ExecuteTime": {
     "end_time": "2024-10-07T06:33:12.758793Z",
     "start_time": "2024-10-07T06:33:12.669772Z"
    }
   },
   "cell_type": "code",
   "source": "cam.set_exposure_time(2)",
   "id": "3bfa9e7e1d3bd62d",
   "outputs": [],
   "execution_count": 50
  },
  {
   "metadata": {
    "ExecuteTime": {
     "end_time": "2024-09-25T08:17:45.861299Z",
     "start_time": "2024-09-25T08:17:44.346068Z"
    }
   },
   "cell_type": "code",
   "source": [
    "roi=(750, 350, 1200, 850)\n",
    "live_cam(cam, roi=roi)"
   ],
   "id": "6ee5e917013e17df",
   "outputs": [],
   "execution_count": 47
  },
  {
   "metadata": {
    "ExecuteTime": {
     "end_time": "2024-10-07T06:32:57.852403Z",
     "start_time": "2024-10-07T06:32:54.762966Z"
    }
   },
   "cell_type": "code",
   "source": [
    "mplc.load_masks(masks)\n",
    "roi=(750, 350, 1200, 850)\n",
    "cam.show_image(roi=roi)"
   ],
   "id": "5a0142f9b27f1498",
   "outputs": [
    {
     "data": {
      "text/plain": [
       "(<Figure size 640x480 with 2 Axes>, <Axes: >)"
      ]
     },
     "execution_count": 48,
     "metadata": {},
     "output_type": "execute_result"
    }
   ],
   "execution_count": 48
  },
  {
   "metadata": {
    "ExecuteTime": {
     "end_time": "2024-10-07T06:40:13.459029Z",
     "start_time": "2024-10-07T06:40:02.994173Z"
    }
   },
   "cell_type": "code",
   "source": [
    "roi=(700, 300, 1250, 900)\n",
    "name = f'tilts_{tilts}.fits'\n",
    "cam.save_image(path=rf'{dir_path}\\{name}', roi=roi)\n",
    "cam.show_image(roi=roi)"
   ],
   "id": "5b0505b1359091a7",
   "outputs": [
    {
     "data": {
      "text/plain": [
       "(<Figure size 640x480 with 2 Axes>, <Axes: >)"
      ]
     },
     "execution_count": 60,
     "metadata": {},
     "output_type": "execute_result"
    }
   ],
   "execution_count": 60
  },
  {
   "metadata": {},
   "cell_type": "code",
   "outputs": [],
   "execution_count": null,
   "source": [
    "timestamp = datetime.datetime.now().strftime('%Y_%m_%d_%H_%M_%S')\n",
    "path = rf'{dir_path}\\{timestamp}_{name}.cam'\n",
    "cam.save_image(path)"
   ],
   "id": "3609403bc3e68c96"
  },
  {
   "metadata": {
    "ExecuteTime": {
     "end_time": "2024-10-07T06:40:18.792880Z",
     "start_time": "2024-10-07T06:40:18.684107Z"
    }
   },
   "cell_type": "code",
   "source": "cam.close()",
   "id": "dd9014e207720a0c",
   "outputs": [],
   "execution_count": 61
  },
  {
   "metadata": {},
   "cell_type": "markdown",
   "source": "# MPLC ",
   "id": "ee7970bf1de8f934"
  },
  {
   "metadata": {
    "ExecuteTime": {
     "end_time": "2024-10-07T19:22:39.881441Z",
     "start_time": "2024-10-07T19:22:38.777070Z"
    }
   },
   "cell_type": "code",
   "source": [
    "modes_to_keep = np.array([3, 8, 13, 18, 23, 28, 33, 38, 43, 48])\n",
    "\n",
    "tilts = None \n",
    "mplc = MPLCDevice(linear_tilts=True, plane_10_tilts=tilts)\n",
    "mplc.restore_location()\n",
    "print('Got MPLC')\n",
    "# masks_path = r\"G:\\My Drive\\Projects\\MPLC\\results\\lab\\2024_09_25_BS_to_mirror\\2024_09_10_14_00_34_old.masks\"\n",
    "# masks_path = r\"G:\\My Drive\\Projects\\MPLC\\results\\lab\\2024_09_25_BS_to_mirror\\2024_09_25_13_19_15_extra_1cm.masks\"\n",
    "# masks_path = r\"G:\\My Drive\\Projects\\MPLC\\results\\lab\\2024_09_17_first_diffuser\\2024_09_17_12_19_58_diffuser_d1d.masks\"\n",
    "# masks_path = r\"G:\\My Drive\\Projects\\MPLC\\results\\lab\\2024_09_25_BS_to_mirror\\2024_09_29_14_27_10_U1U.masks\"  # with dead zone \n",
    "# masks_path = r\"G:\\My Drive\\Projects\\MPLC\\results\\lab\\2024_09_25_BS_to_mirror\\2024_09_30_08_56_10_U1U.masks\"  # with dead zone \n",
    "# masks_path = r\"G:\\My Drive\\Projects\\MPLC\\results\\lab\\2024_09_10_fixing_phases_different_Us\\U1U_2024_09_10_14_00_34.masks\"  # old masks  \n",
    "masks_path = r\"G:\\My Drive\\Projects\\MPLC\\results\\lab\\2024_09_25_BS_to_mirror\\2024_10_07_22_15_50_U1U_minus_dist_plane10.masks\"  # minus  \n",
    "\n",
    "masks = get_good_masks(masks_path=masks_path, modes_to_keep=modes_to_keep)\n",
    "# phases = np.random.uniform(0, 2*np.pi, size=50)\n",
    "# masks = add_phase_input_spots(masks, phases)\n",
    "mplc.load_masks(masks)\n",
    "# mplc.load_masks(masks, linear_tilts=True, plane_10_tilts=None)\n",
    "mplc.restore_location()"
   ],
   "id": "512a96d3e662ccb3",
   "outputs": [
    {
     "name": "stdout",
     "output_type": "stream",
     "text": [
      "Got MPLC\n"
     ]
    }
   ],
   "execution_count": 3
  },
  {
   "metadata": {},
   "cell_type": "markdown",
   "source": "# hardware ",
   "id": "94fbb401dbf3f514"
  },
  {
   "metadata": {
    "ExecuteTime": {
     "end_time": "2024-10-07T08:28:51.231280Z",
     "start_time": "2024-10-07T08:28:45.119525Z"
    }
   },
   "cell_type": "code",
   "source": [
    "backlash = 0.0\n",
    "wait_after_move = 0.3\n",
    "mxs, mys = get_signal_motors(backlash=backlash, wait_after_move=wait_after_move)\n",
    "mxi, myi = get_idler_motors(backlash=backlash, wait_after_move=wait_after_move)\n",
    "tt = get_timetagger(integration_time=1)"
   ],
   "id": "b6cb7c727c6c4758",
   "outputs": [
    {
     "name": "stdout",
     "output_type": "stream",
     "text": [
      "Got Zaber motors\n",
      "Got Thorlabs motors\n"
     ]
    }
   ],
   "execution_count": 4
  },
  {
   "metadata": {
    "ExecuteTime": {
     "end_time": "2024-10-07T11:15:53.818795Z",
     "start_time": "2024-10-07T11:15:50.274938Z"
    }
   },
   "cell_type": "code",
   "source": [
    "mxi.move_absolute(9.405)\n",
    "myi.move_absolute(4.795)\n",
    "print(mxi.get_position())\n",
    "print(myi.get_position())"
   ],
   "id": "c0facc75e0f0f676",
   "outputs": [
    {
     "name": "stdout",
     "output_type": "stream",
     "text": [
      "9.405\n",
      "4.795\n"
     ]
    }
   ],
   "execution_count": 64
  },
  {
   "metadata": {
    "ExecuteTime": {
     "end_time": "2024-10-07T11:15:58.388636Z",
     "start_time": "2024-10-07T11:15:57.109070Z"
    }
   },
   "cell_type": "code",
   "source": [
    "mxs.move_absolute(12.91)\n",
    "mys.move_absolute(5.72)\n",
    "print(mxs.get_position())\n",
    "print(mys.get_position())"
   ],
   "id": "33c63cf3388caf65",
   "outputs": [
    {
     "name": "stdout",
     "output_type": "stream",
     "text": [
      "12.909994500000002\n",
      "5.720000625\n"
     ]
    }
   ],
   "execution_count": 65
  },
  {
   "metadata": {
    "ExecuteTime": {
     "end_time": "2024-09-25T12:47:14.563953Z",
     "start_time": "2024-09-25T12:47:14.265603Z"
    }
   },
   "cell_type": "code",
   "source": "myi.move_relative(0.01)",
   "id": "cccacdd17d89906f",
   "outputs": [],
   "execution_count": 147
  },
  {
   "metadata": {
    "ExecuteTime": {
     "end_time": "2024-09-29T05:49:14.436866Z",
     "start_time": "2024-09-29T05:49:14.341477Z"
    }
   },
   "cell_type": "code",
   "source": [
    "print(mxi.get_position()) # 9.2701\n",
    "print(myi.get_position()) # 3.3100"
   ],
   "id": "52c3a974c63b76e2",
   "outputs": [
    {
     "name": "stdout",
     "output_type": "stream",
     "text": [
      "9.3\n",
      "4.05\n"
     ]
    }
   ],
   "execution_count": 4
  },
  {
   "metadata": {},
   "cell_type": "markdown",
   "source": [
    "BS\n",
    "- best idler: ~9K\n",
    "- best signal: ~8.3K \n",
    "\n",
    "Mirror:\n",
    "- best idler: \n",
    "- best signal: \n"
   ],
   "id": "1d75a7f91b5054b8"
  },
  {
   "metadata": {},
   "cell_type": "markdown",
   "source": [
    "# New WFM \n",
    "\n",
    "## with defocus distance and dead zone "
   ],
   "id": "1cc0fb3064e7e30f"
  },
  {
   "metadata": {
    "ExecuteTime": {
     "end_time": "2024-10-07T19:20:06.411684Z",
     "start_time": "2024-10-07T19:15:50.592901Z"
    }
   },
   "cell_type": "code",
   "source": [
    "all_Us_path = r\"G:\\My Drive\\Projects\\MPLC\\results\\lab\\2024_09_10_fixing_phases_different_Us\\for_ronen_Haar_800.mat\"\n",
    "all_Us = loadmat(all_Us_path)['U1_all']\n",
    "U_no = 1 \n",
    "dir_path = r'G:\\My Drive\\Projects\\MPLC\\results\\lab\\2024_09_25_BS_to_mirror'\n",
    "timestamp = datetime.datetime.now().strftime('%Y_%m_%d_%H_%M_%S')\n",
    "masks_path =    fr'{dir_path}\\{timestamp}_U1U_minus_dist_plane10.masks'\n",
    "mplc_res_path = fr'{dir_path}\\{timestamp}_U1U_minus_dist_plane10.mplcsim'\n",
    "mplc_sim = create_WFM_unitary_masks(all_Us[:, :, U_no], N_iterations=15, out_path=masks_path, dead_middle_zone=0, last_plane_extra_dist=-8.4e-3)\n",
    "mplc_sim.res.saveto(mplc_res_path, smaller=True)"
   ],
   "id": "9af7ff55763af0c3",
   "outputs": [
    {
     "name": "stdout",
     "output_type": "stream",
     "text": [
      "{'wavelength': 8.1e-07, 'dist_after_plane': array([0.087 , 0.087 , 0.087 , 0.087 , 0.138 , 0.087 , 0.087 , 0.087 ,\n",
      "       0.087 , 0.0786]), 'N_iterations': 15, 'Nx': 140, 'Ny': 360, 'dx': 1.25e-05, 'dy': 1.25e-05, 'max_k_constraint': 0.15, 'min_log_level': 2, 'size_factor': 3, 'use_mask_offset': True, 'symmetric_masks': False, 'active_planes': array([ True,  True,  True,  True,  True,  True,  True,  True,  True,\n",
      "        True,  True]), 'N_modes': 10}\n"
     ]
    },
    {
     "name": "stderr",
     "output_type": "stream",
     "text": [
      "100%|██████████| 15/15 [03:52<00:00, 15.52s/it]\n"
     ]
    }
   ],
   "execution_count": 99
  },
  {
   "metadata": {
    "ExecuteTime": {
     "end_time": "2024-09-30T05:59:14.327699Z",
     "start_time": "2024-09-30T05:59:11.451759Z"
    }
   },
   "cell_type": "code",
   "source": "mplc_sim.res.show_overlap()",
   "id": "48fa839cee974c00",
   "outputs": [],
   "execution_count": 7
  },
  {
   "metadata": {
    "ExecuteTime": {
     "end_time": "2024-09-30T05:59:16.981042Z",
     "start_time": "2024-09-30T05:59:14.651395Z"
    }
   },
   "cell_type": "code",
   "source": [
    "mplc_sim.res._calc_fidelity()\n",
    "mplc_sim.res.fidelity"
   ],
   "id": "b1460b531cb3fe9",
   "outputs": [
    {
     "data": {
      "text/plain": [
       "0.9896838134848069"
      ]
     },
     "execution_count": 8,
     "metadata": {},
     "output_type": "execute_result"
    }
   ],
   "execution_count": 8
  },
  {
   "metadata": {
    "ExecuteTime": {
     "end_time": "2024-09-30T05:59:18.137567Z",
     "start_time": "2024-09-30T05:59:17.059076Z"
    }
   },
   "cell_type": "code",
   "source": "mplc_sim.res.show_all()",
   "id": "e69f0f25d708b865",
   "outputs": [],
   "execution_count": 9
  },
  {
   "metadata": {},
   "cell_type": "markdown",
   "source": "# mark spot locations ",
   "id": "10218bb6c38c8a5c"
  },
  {
   "metadata": {
    "ExecuteTime": {
     "end_time": "2024-10-06T09:25:57.540063Z",
     "start_time": "2024-10-06T09:25:13.176038Z"
    }
   },
   "cell_type": "code",
   "source": [
    "from pianoq_results.scan_result import ScanResult\n",
    "timestamp = datetime.datetime.now().strftime('%Y_%m_%d_%H_%M_%S')\n",
    "locs_signal_path = fr'{dir_path}\\{timestamp}_s2_sig_mirror_3.5.locs'\n",
    "locs_idler_path = fr'{dir_path}\\{timestamp}_s1_idl_mirror_3.5.locs'\n",
    "\n",
    "res_idl = ScanResult(fr'{dir_path}\\2024_10_06_12_06_17_idler_3_5_spots.scan')\n",
    "res_sig = ScanResult(fr'{dir_path}\\2024_10_06_12_07_31_signal_3_5_spots.scan')\n",
    "# res_idl.show_singles()\n",
    "# res_sig.show_singles()\n",
    "res_idl.get_xys(1, saveto_path=locs_idler_path)\n",
    "res_sig.get_xys(2, saveto_path=locs_signal_path)"
   ],
   "id": "3f488db2dba76b07",
   "outputs": [
    {
     "name": "stdout",
     "output_type": "stream",
     "text": [
      "Saved to G:\\My Drive\\Projects\\MPLC\\results\\lab\\2024_09_25_BS_to_mirror\\2024_10_06_12_25_13_s1_idl_mirror_3.5.locs\n",
      "Saved to G:\\My Drive\\Projects\\MPLC\\results\\lab\\2024_09_25_BS_to_mirror\\2024_10_06_12_25_13_s2_sig_mirror_3.5.locs\n"
     ]
    },
    {
     "data": {
      "text/plain": [
       "[(12.984470529470531, 7.019139194139194),\n",
       " (12.948240093240095, 6.8358558108558105),\n",
       " (12.937584082584083, 6.462895437895438),\n",
       " (12.897091242091243, 6.077147852147852),\n",
       " (12.869385614385616, 5.697793872793873)]"
      ]
     },
     "execution_count": 11,
     "metadata": {},
     "output_type": "execute_result"
    }
   ],
   "execution_count": 11
  },
  {
   "metadata": {},
   "cell_type": "markdown",
   "source": "# Phases",
   "id": "6c9a92961d08c12f"
  },
  {
   "metadata": {
    "ExecuteTime": {
     "end_time": "2024-10-07T11:12:01.844200Z",
     "start_time": "2024-10-07T11:12:01.743251Z"
    }
   },
   "cell_type": "code",
   "source": [
    "phases_result = PhaseFinderResult(fr\"{dir_path}\\2024_10_07_12_01_25_fine_new_mirror.phases\")\n",
    "phases_result.reload()\n",
    "phases_result.integration_time"
   ],
   "id": "21bc9940c8c6981",
   "outputs": [
    {
     "data": {
      "text/plain": [
       "array(30)"
      ]
     },
     "execution_count": 61,
     "metadata": {},
     "output_type": "execute_result"
    }
   ],
   "execution_count": 61
  },
  {
   "metadata": {
    "ExecuteTime": {
     "end_time": "2024-10-07T17:38:32.574637Z",
     "start_time": "2024-10-07T16:14:12.053906Z"
    }
   },
   "cell_type": "code",
   "source": [
    "masks_path = r\"G:\\My Drive\\Projects\\MPLC\\results\\lab\\2024_09_25_BS_to_mirror\\2024_09_25_13_19_15_extra_1cm.masks\"\n",
    "# phases_path = r\"G:\\My Drive\\Projects\\MPLC\\results\\lab\\2024_09_25_BS_to_mirror\\2024_10_07_14_17_06_fine_new_mirror_more.phases\"\n",
    "phases_path = None \n",
    "masks = get_good_masks(masks_path=masks_path, modes_to_keep=modes_to_keep, phases_path=phases_path)\n",
    "mplc.load_masks(masks)\n",
    "\n",
    "saveto_path = fr'{dir_path}\\{tnow()}_fine_new_mirror_from_zero_more.phases'\n",
    "integration_time = 50\n",
    "\n",
    "phases_result = PhaseFinderResult(fr\"{dir_path}\\2024_10_07_16_32_20_fine_new_mirror_from_zero_long.phases\")\n",
    "initial_phases = phases_result.phases\n",
    "# initial_phases = None \n",
    "\n",
    "pf = PhaseFinder(mplc=mplc, integration_time=integration_time, remote_tagger=True, saveto_path=saveto_path,\n",
    "                 modes_to_keep=modes_to_keep, intial_phases=initial_phases, coin_window=tt.coin_window, no_hw_mode=True)\n",
    "\n",
    "pf.time_tagger = tt\n",
    "pf.time_tagger.set_integration_time(integration_time)\n",
    "\n",
    "# locs \n",
    "locs_idl = np.load(fr'{dir_path}\\2024_10_07_10_45_00_fine_s1_idl_mirror_3_5_spots.locs')['locs']\n",
    "locs_sig = np.load(fr'{dir_path}\\2024_10_07_10_45_00_fine_s2_sig_mirror_3_5_spots.locs')['locs']\n",
    "\n",
    "# i,j of corr matrix that is supposed to be strong \n",
    "i = 1\n",
    "j = 1\n",
    "mxi.move_absolute(locs_idl[i, 0])\n",
    "myi.move_absolute(locs_idl[i, 1])\n",
    "mxs.move_absolute(locs_sig[j, 0])\n",
    "mys.move_absolute(locs_sig[j, 1])        \n",
    "mplc.restore_location()\n",
    "time.sleep(1)\n",
    "pf.find_phases()"
   ],
   "id": "a5fbb5aeeff831d5",
   "outputs": [
    {
     "name": "stdout",
     "output_type": "stream",
     "text": [
      "0,0: 18057.1, 11329.5, 4.4\n",
      "0,1: 18058.4, 12049.4, 4.0\n",
      "0,2: 18058.9, 12177.5, 3.0\n",
      "0,3: 18020.0, 12265.7, 1.9\n",
      "0,4: 17994.7, 12416.3, 2.2\n",
      "0,5: 17940.5, 12366.8, 2.6\n",
      "0,6: 17891.3, 12273.0, 4.3\n",
      "0,7: 17978.5, 12208.1, 5.6\n",
      "0,8: 17924.2, 12172.9, 6.0\n",
      "0,9: 17943.0, 12147.2, 5.6\n",
      "1,0: 17880.5, 12121.9, 5.1\n",
      "1,1: 17860.7, 12181.1, 6.6\n",
      "1,2: 17847.3, 12227.6, 5.4\n",
      "1,3: 17881.9, 12317.8, 4.3\n",
      "1,4: 17835.6, 12151.9, 2.5\n",
      "1,5: 17827.2, 10845.7, 2.1\n",
      "1,6: 17854.9, 12395.4, 1.6\n",
      "1,7: 17741.7, 12248.0, 1.6\n",
      "1,8: 17771.8, 12150.2, 2.9\n",
      "1,9: 17782.1, 12115.9, 4.8\n",
      "2,0: 17771.3, 12153.4, 6.5\n",
      "2,1: 17695.8, 12393.9, 7.5\n",
      "2,2: 17856.5, 12640.9, 8.3\n",
      "2,3: 17832.0, 12721.2, 8.1\n",
      "2,4: 17718.4, 12818.9, 8.2\n",
      "2,5: 17825.2, 12953.9, 5.3\n",
      "2,6: 17814.9, 12845.0, 4.4\n",
      "2,7: 17768.3, 12684.3, 3.7\n",
      "2,8: 17879.8, 12631.4, 4.7\n",
      "2,9: 17818.6, 12451.1, 5.3\n",
      "3,0: 17829.4, 12513.3, 8.8\n",
      "3,1: 17746.5, 12428.3, 8.4\n",
      "3,2: 17708.3, 12376.3, 8.8\n",
      "3,3: 17758.0, 12459.2, 8.7\n",
      "3,4: 17689.9, 12447.0, 8.3\n",
      "3,5: 17682.1, 12428.8, 7.6\n",
      "3,6: 17694.2, 12481.9, 8.4\n",
      "3,7: 17658.4, 12354.4, 7.4\n",
      "3,8: 17671.6, 12358.0, 7.9\n",
      "3,9: 17680.8, 12439.8, 8.2\n",
      "4,0: 17725.1, 12364.9, 8.6\n",
      "4,1: 17695.9, 12420.8, 7.3\n",
      "4,2: 17714.5, 12481.9, 5.2\n",
      "4,3: 17701.5, 12614.3, 3.4\n",
      "4,4: 17645.1, 12569.3, 2.4\n",
      "4,5: 17637.9, 12517.8, 4.8\n",
      "4,6: 17666.2, 12461.7, 6.3\n",
      "4,7: 17610.7, 12281.2, 7.1\n",
      "4,8: 17794.2, 12379.1, 9.4\n",
      "4,9: 17722.9, 11637.5, 7.9\n",
      "5,0: 17736.4, 11319.0, 7.8\n",
      "5,1: 17674.5, 11309.5, 9.2\n",
      "5,2: 17665.7, 11311.4, 7.5\n",
      "5,3: 17628.0, 11300.1, 4.9\n",
      "5,4: 17600.7, 11318.6, 2.7\n",
      "5,5: 17498.1, 11295.6, 2.1\n",
      "5,6: 17377.9, 11313.4, 2.6\n",
      "5,7: 16761.6, 11286.8, 3.2\n",
      "5,8: 17632.4, 11319.1, 5.0\n",
      "5,9: 17669.0, 11295.2, 6.8\n",
      "6,0: 17772.6, 11323.3, 8.4\n",
      "6,1: 17743.4, 11320.7, 6.9\n",
      "6,2: 17818.0, 11328.6, 5.3\n",
      "6,3: 17595.2, 11289.7, 3.4\n",
      "6,4: 15891.1, 11288.8, 2.3\n",
      "6,5: 16886.6, 11296.1, 2.9\n",
      "6,6: 17628.5, 11293.1, 2.7\n",
      "6,7: 17625.0, 11308.4, 3.9\n",
      "6,8: 17631.8, 11316.8, 5.8\n",
      "6,9: 17581.8, 11298.1, 7.0\n",
      "7,0: 17668.9, 11299.0, 8.7\n",
      "7,1: 17886.3, 11281.8, 8.2\n",
      "7,2: 17758.1, 11298.4, 8.1\n",
      "7,3: 17727.8, 11331.0, 6.9\n",
      "7,4: 17627.3, 11306.0, 5.1\n",
      "7,5: 17856.0, 11313.8, 5.0\n",
      "7,6: 17956.0, 11315.7, 5.2\n",
      "7,7: 18069.6, 11286.5, 6.1\n",
      "7,8: 18087.9, 11297.4, 7.5\n",
      "7,9: 18149.6, 11309.5, 8.4\n",
      "8,0: 17773.4, 11298.8, 7.9\n",
      "8,1: 17726.9, 11314.0, 8.7\n",
      "8,2: 17825.9, 11308.2, 8.2\n",
      "8,3: 17816.8, 11324.0, 8.3\n",
      "8,4: 17857.4, 11308.5, 7.6\n",
      "8,5: 17793.4, 11272.2, 7.3\n",
      "8,6: 17851.7, 11327.1, 7.5\n",
      "8,7: 17755.2, 11310.0, 7.9\n",
      "8,8: 17695.6, 11287.7, 7.9\n",
      "8,9: 17829.2, 11290.2, 8.2\n",
      "9,0: 17717.1, 11323.5, 8.0\n",
      "9,1: 17849.9, 11309.9, 8.1\n",
      "9,2: 17931.2, 11145.9, 5.8\n",
      "9,3: 18008.9, 11207.1, 3.6\n",
      "9,4: 18079.1, 11198.7, 2.9\n",
      "9,5: 17872.7, 11191.9, 3.3\n",
      "9,6: 17677.4, 11221.7, 4.6\n",
      "9,7: 16598.4, 11196.6, 5.3\n",
      "9,8: 17607.3, 11231.4, 7.0\n",
      "9,9: 17911.7, 11194.2, 7.9\n"
     ]
    }
   ],
   "execution_count": 95
  },
  {
   "metadata": {},
   "cell_type": "markdown",
   "source": "# Correlations",
   "id": "41ec21ecfb84e2b"
  },
  {
   "metadata": {
    "ExecuteTime": {
     "end_time": "2024-10-07T18:02:23.212369Z",
     "start_time": "2024-10-07T17:40:47.827260Z"
    }
   },
   "cell_type": "code",
   "source": [
    "backlash = 0.0\n",
    "wait_after_move = 0.3\n",
    "integration_time = 50\n",
    "coin_window = 2e-9\n",
    "\n",
    "masks_path = r\"G:\\My Drive\\Projects\\MPLC\\results\\lab\\2024_09_25_BS_to_mirror\\2024_09_25_13_19_15_extra_1cm.masks\"\n",
    "phases_path = r\"G:\\My Drive\\Projects\\MPLC\\results\\lab\\2024_09_25_BS_to_mirror\\2024_10_07_19_14_12_fine_new_mirror_from_zero_more.phases\"\n",
    "masks = get_good_masks(masks_path=masks_path, modes_to_keep=modes_to_keep, phases_path=phases_path)\n",
    "mplc.load_masks(masks)\n",
    "\n",
    "scan_path = fr'{dir_path}\\{tnow()}.dscan'\n",
    "\n",
    "locs_idl = np.load(fr'{dir_path}\\2024_10_07_10_45_00_fine_s1_idl_mirror_3_5_spots.locs')['locs']\n",
    "locs_sig = np.load(fr'{dir_path}\\2024_10_07_10_45_00_fine_s2_sig_mirror_3_5_spots.locs')['locs']\n",
    "\n",
    "dps = DiscretePhotonScanner(locs_sig, locs_idl, integration_time=integration_time, remote_tagger=True, saveto_path=scan_path,\n",
    "                            backlash=backlash, wait_after_move=wait_after_move, coin_window=coin_window, no_hw_mode=True)\n",
    "\n",
    "dps.m_sig_x, dps.m_sig_y, dps.m_idl_x, dps.m_idl_y, dps.time_tagger = mxs, mys, mxi, myi, tt\n",
    "dps.time_tagger.set_integration_time(integration_time)\n",
    "time.sleep(1)\n",
    "dps.scan()"
   ],
   "id": "14bbc203e3f37467",
   "outputs": [
    {
     "name": "stdout",
     "output_type": "stream",
     "text": [
      "beginning scan\n",
      "0, 0: 17290.34, 13691.80, 6.56\n",
      "0, 1: 17276.22, 10941.08, 0.82\n",
      "0, 2: 17414.30, 12765.58, 1.32\n",
      "0, 3: 17341.82, 10046.16, 0.66\n",
      "0, 4: 17360.40, 1516.72, 0.18\n",
      "1, 0: 17858.38, 13703.56, 1.18\n",
      "1, 1: 17849.86, 10947.82, 8.64\n",
      "1, 2: 17933.68, 12816.48, 1.16\n",
      "1, 3: 17908.62, 10081.94, 1.04\n",
      "1, 4: 17908.88, 1528.02, 0.16\n",
      "2, 0: 15755.76, 13701.48, 1.28\n",
      "2, 1: 15735.66, 10975.88, 0.80\n",
      "2, 2: 15803.86, 12824.80, 6.04\n",
      "2, 3: 15828.36, 10121.18, 0.94\n",
      "2, 4: 15751.80, 1534.06, 0.12\n",
      "3, 0: 10459.34, 13731.34, 0.90\n",
      "3, 1: 10526.68, 11045.04, 1.10\n",
      "3, 2: 10523.24, 12846.90, 0.66\n",
      "3, 3: 10474.96, 10119.80, 3.64\n",
      "3, 4: 10532.82, 1525.44, 0.14\n",
      "4, 0: 3033.84, 13833.74, 0.22\n",
      "4, 1: 3040.68, 11087.70, 0.30\n",
      "4, 2: 3046.56, 12889.06, 0.16\n",
      "4, 3: 3049.80, 10202.60, 0.12\n",
      "4, 4: 3043.92, 1532.70, 0.06\n"
     ]
    }
   ],
   "execution_count": 98
  },
  {
   "metadata": {
    "ExecuteTime": {
     "end_time": "2024-10-07T13:28:29.067063Z",
     "start_time": "2024-10-07T13:28:28.657246Z"
    }
   },
   "cell_type": "code",
   "source": [
    "masks_path = r\"G:\\My Drive\\Projects\\MPLC\\results\\lab\\2024_09_25_BS_to_mirror\\2024_09_25_13_19_15_extra_1cm.masks\"\n",
    "phases_path = r\"G:\\My Drive\\Projects\\MPLC\\results\\lab\\2024_09_25_BS_to_mirror\\2024_10_07_16_03_59_fine_new_mirror_from_zero.phases\"\n",
    "masks = get_good_masks(masks_path=masks_path, modes_to_keep=modes_to_keep, phases_path=phases_path)\n",
    "mplc.load_masks(masks)"
   ],
   "id": "eb98916359dfa6e1",
   "outputs": [],
   "execution_count": 90
  },
  {
   "metadata": {
    "ExecuteTime": {
     "end_time": "2024-10-07T13:28:00.258288Z",
     "start_time": "2024-10-07T13:27:55.764532Z"
    }
   },
   "cell_type": "code",
   "source": [
    "i = 1\n",
    "j = 1\n",
    "mxi.move_absolute(locs_idl[i, 0])\n",
    "myi.move_absolute(locs_idl[i, 1])\n",
    "mxs.move_absolute(locs_sig[j, 0])\n",
    "mys.move_absolute(locs_sig[j, 1])        "
   ],
   "id": "328e7cd4c87d020d",
   "outputs": [],
   "execution_count": 89
  },
  {
   "metadata": {
    "ExecuteTime": {
     "end_time": "2024-10-07T12:52:48.290394Z",
     "start_time": "2024-10-07T12:52:47.316340Z"
    }
   },
   "cell_type": "code",
   "source": [
    "mxi.move_absolute(9.35)\n",
    "myi.move_absolute(4.424)\n",
    "print(mxi.get_position())\n",
    "print(myi.get_position())"
   ],
   "id": "ddb845fc6adb1c56",
   "outputs": [
    {
     "name": "stdout",
     "output_type": "stream",
     "text": [
      "9.35\n",
      "4.424\n"
     ]
    }
   ],
   "execution_count": 77
  },
  {
   "metadata": {
    "ExecuteTime": {
     "end_time": "2024-10-07T12:53:24.254435Z",
     "start_time": "2024-10-07T12:53:23.397126Z"
    }
   },
   "cell_type": "code",
   "source": [
    "mxs.move_absolute(12.95)\n",
    "mys.move_absolute(6.075)\n",
    "print(mxs.get_position())\n",
    "print(mys.get_position())"
   ],
   "id": "9b638f7c29d232fd",
   "outputs": [
    {
     "name": "stdout",
     "output_type": "stream",
     "text": [
      "12.9499995\n",
      "6.074997375000001\n"
     ]
    }
   ],
   "execution_count": 80
  },
  {
   "metadata": {
    "ExecuteTime": {
     "end_time": "2024-10-07T17:40:31.103893Z",
     "start_time": "2024-10-07T17:40:30.829396Z"
    }
   },
   "cell_type": "code",
   "source": [
    "# dps.res.show_singles()\n",
    "dps.res.show()\n",
    "dps.res.real_coins.sum()"
   ],
   "id": "2540eed967d37813",
   "outputs": [
    {
     "data": {
      "text/plain": [
       "25.441713591"
      ]
     },
     "execution_count": 97,
     "metadata": {},
     "output_type": "execute_result"
    }
   ],
   "execution_count": 97
  },
  {
   "metadata": {
    "ExecuteTime": {
     "end_time": "2024-10-07T10:59:12.489129Z",
     "start_time": "2024-10-07T10:59:12.404727Z"
    }
   },
   "cell_type": "code",
   "source": "mplc.close()",
   "id": "8cdd039e61383c34",
   "outputs": [],
   "execution_count": 52
  }
 ],
 "metadata": {
  "kernelspec": {
   "display_name": "Python 3",
   "language": "python",
   "name": "python3"
  },
  "language_info": {
   "codemirror_mode": {
    "name": "ipython",
    "version": 2
   },
   "file_extension": ".py",
   "mimetype": "text/x-python",
   "name": "python",
   "nbconvert_exporter": "python",
   "pygments_lexer": "ipython2",
   "version": "2.7.6"
  }
 },
 "nbformat": 4,
 "nbformat_minor": 5
}
